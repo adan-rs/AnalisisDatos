{
 "cells": [
  {
   "cell_type": "markdown",
   "id": "ede4bf67-cc94-4f3d-a0d5-caf1490c7a68",
   "metadata": {},
   "source": [
    "# Prueba Dickey-Fuller\n",
    "\n",
    "*¿Para qué se utiliza?*\n",
    "La prueba de Dickey-Fuller aumentada (ADF) se utiliza para determinar si una serie temporal es estacionaria, es decir, si sus propiedades estadísticas (como la media y la varianza) se mantienen constantes en el tiempo. La estacionariedad es un requisito fundamental para muchas técnicas de análisis y pronóstico de series de tiempo, como ARIMA, SARIMA, y modelos de regresión con variables dependientes temporales.\n",
    "\n",
    "*¿Qué variables considera?*\n",
    " Una serie temporal univariada, continua y ordenada en el tiempo (por ejemplo, ventas, temperatura, precios). No requiere variables independientes.\n",
    "\n",
    "*¿Cómo funciona?*\n",
    "La prueba ADF evalúa la presencia de raíz unitaria, lo cual indica no estacionariedad. La hipótesis nula y alternativa son:\n",
    "- H₀ (nula): la serie no es estacionaria (tiene raíz unitaria).\n",
    "- H₁ (alternativa): la serie es estacionaria (no tiene raíz unitaria).\n",
    "\n",
    "Si el valor p es menor a un nivel de significancia (por ejemplo, 0.05), se rechaza H₀ y se concluye que la serie es estacionaria.\n",
    "\n",
    "*Supuestos y recomendaciones*\n",
    "- La serie debe ser numérica y temporalmente ordenada.\n",
    "- Es importante probar diferentes formas (nivel, primera diferencia, con y sin tendencia).\n",
    "- Si la serie no es estacionaria, puede transformarse mediante diferenciación.\n",
    "- Es útil para validar el uso de modelos que requieren estacionariedad (como ARIMA).\n"
   ]
  },
  {
   "cell_type": "code",
   "execution_count": null,
   "id": "1b9470d4-c9a0-4c1e-9e34-29e6ad40fb76",
   "metadata": {},
   "outputs": [],
   "source": [
    "import pandas as pd\n",
    "from statsmodels.tsa.stattools import adfuller\n",
    "\n",
    "# Supongamos que df tiene una columna 'ventas' con datos mensuales\n",
    "serie = df['ventas']\n",
    "\n",
    "# Aplicar la prueba ADF\n",
    "resultado = adfuller(serie)\n",
    "\n",
    "# Mostrar resultados\n",
    "print('Estadístico ADF:', resultado[0])\n",
    "print('Valor p:', resultado[1])\n",
    "print('Valores críticos:')\n",
    "for clave, valor in resultado[4].items():\n",
    "    print(f'  Nivel {clave}%: {valor:.3f}')\n",
    "\n",
    "# Interpretación\n",
    "if resultado[1] < 0.05:\n",
    "    print('La serie es estacionaria (rechazamos H₀).')\n",
    "else:\n",
    "    print('La serie no es estacionaria (no se rechaza H₀).')\n"
   ]
  }
 ],
 "metadata": {
  "kernelspec": {
   "display_name": "Python [conda env:base] *",
   "language": "python",
   "name": "conda-base-py"
  },
  "language_info": {
   "codemirror_mode": {
    "name": "ipython",
    "version": 3
   },
   "file_extension": ".py",
   "mimetype": "text/x-python",
   "name": "python",
   "nbconvert_exporter": "python",
   "pygments_lexer": "ipython3",
   "version": "3.12.7"
  }
 },
 "nbformat": 4,
 "nbformat_minor": 5
}
