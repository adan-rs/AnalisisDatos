{
 "cells": [
  {
   "cell_type": "markdown",
   "id": "8cf4b880-d657-4791-8b8f-b2242a1fc3ef",
   "metadata": {},
   "source": [
    "# Suavización exponencial triple (Holt-Winters)\n",
    "\n",
    "*¿Para qué se utiliza?*\n",
    "La Suavización Exponencial Triple, también conocida como Holt-Winters, es una técnica de pronóstico de series de tiempo que se utiliza cuando los datos presentan tendencia y estacionalidad. Esta técnica extiende la suavización exponencial simple incorporando componentes para capturar el nivel, la tendencia y la estacionalidad de la serie. Es ideal para proyecciones en contextos como ventas mensuales, demanda estacional o consumo energético.\n",
    "\n",
    "*¿Qué variables considera?*\n",
    "Variable única: una serie de tiempo numérica (por ejemplo, ventas mensuales), ordenada cronológicamente. No requiere variables independientes\n",
    "\n",
    "*¿Cómo funciona?*\n",
    "El modelo Holt-Winters descompone la serie en tres componentes:\n",
    "- Nivel (nivel base de la serie)\n",
    "- Tendencia (cambio sistemático en el nivel a lo largo del tiempo)\n",
    "- Estacionalidad (variación repetitiva en ciclos regulares)\n",
    "\n",
    "Hay dos versiones:\n",
    "- Aditiva: cuando la amplitud de la estacionalidad es constante.\n",
    "- Multiplicativa: cuando la estacionalidad varía proporcionalmente con el nivel.\n",
    "\n",
    "El modelo actualiza estos componentes de manera recursiva usando parámetros de suavización (α,β,γ).\n",
    "\n",
    "*Supuestos y recomendaciones*\n",
    "- La serie debe mostrar tendencia y/o estacionalidad.\n",
    "- Elegir la versión aditiva o multiplicativa según el patrón observado.\n",
    "- Es útil visualizar la serie y sus componentes antes de aplicar el modelo.\n",
    "- No requiere normalidad ni estacionariedad, pero sí una frecuencia temporal constante.\n"
   ]
  },
  {
   "cell_type": "code",
   "execution_count": null,
   "id": "855a7ecf-eee2-462d-aaa9-7a109fdd9c7b",
   "metadata": {},
   "outputs": [],
   "source": [
    "import pandas as pd\n",
    "import matplotlib.pyplot as plt\n",
    "from statsmodels.tsa.holtwinters import ExponentialSmoothing\n",
    "\n",
    "# Supongamos que df tiene una columna 'ventas' con datos mensuales\n",
    "# y que el índice del DataFrame es tipo datetime\n",
    "\n",
    "# Serie de tiempo\n",
    "serie = df['ventas']\n",
    "\n",
    "# Ajustar modelo Holt-Winters aditivo con estacionalidad mensual (frecuencia 12)\n",
    "modelo = ExponentialSmoothing(serie, trend='add', seasonal='add', seasonal_periods=12).fit()\n",
    "\n",
    "# Pronosticar los próximos 6 periodos\n",
    "pronostico = modelo.forecast(6)\n",
    "\n",
    "# Visualizar resultados\n",
    "plt.figure(figsize=(10, 5))\n",
    "plt.plot(serie, label='Serie original')\n",
    "plt.plot(modelo.fittedvalues, label='Ajuste HW', linestyle='--')\n",
    "plt.plot(pronostico, label='Pronóstico', marker='o')\n",
    "plt.title('Suavización Exponencial Triple (Holt-Winters)')\n",
    "plt.legend()\n",
    "plt.show()\n"
   ]
  },
  {
   "cell_type": "code",
   "execution_count": null,
   "id": "6770c260-bc3a-49b1-9d98-4937e81c73f8",
   "metadata": {},
   "outputs": [],
   "source": []
  }
 ],
 "metadata": {
  "kernelspec": {
   "display_name": "Python [conda env:base] *",
   "language": "python",
   "name": "conda-base-py"
  },
  "language_info": {
   "codemirror_mode": {
    "name": "ipython",
    "version": 3
   },
   "file_extension": ".py",
   "mimetype": "text/x-python",
   "name": "python",
   "nbconvert_exporter": "python",
   "pygments_lexer": "ipython3",
   "version": "3.12.7"
  }
 },
 "nbformat": 4,
 "nbformat_minor": 5
}
