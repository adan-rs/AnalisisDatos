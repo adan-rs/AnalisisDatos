{
 "cells": [
  {
   "cell_type": "markdown",
   "id": "9205792f-ed20-46a4-a91f-11da6a7d7e53",
   "metadata": {},
   "source": [
    "# Prophet\n",
    "\n",
    "*¿Para qué se utiliza?*\n",
    "\n",
    "Prophet es un algoritmo de pronóstico de series de tiempo desarrollado por Facebook, diseñado para ser fácil de usar, robusto y eficaz en contextos con tendencia, estacionalidad y días atípicos (efectos de vacaciones, eventos especiales, etc.). Es especialmente útil para series temporales de negocios como ventas, tráfico web, reservas o ingresos. Prophet permite generar pronósticos automáticos, interpretables y con intervalos de confianza, sin requerir conocimientos avanzados de estadística.\n",
    "\n",
    "*¿Qué variables considera?*\n",
    "- Una columna con fechas (formato datetime) llamada 'ds'.\n",
    "- Una columna con los valores históricos a pronosticar, llamada 'y' (por ejemplo, ventas, clics, visitas).\n",
    "- Opcionalmente, se pueden incluir columnas para vacaciones o eventos externos que afectan la serie.\n",
    "\n",
    "*¿Cómo funciona?*\n",
    "Prophet modela la serie de tiempo como la suma de tres componentes principales:\n",
    "y(t)=g(t)+s(t)+h(t)+e_t\n",
    "\n",
    "Donde:\n",
    "- g(t): tendencia (lineal o logística),\n",
    "- s(t): estacionalidad (aditiva o multiplicativa),\n",
    "- h(t): efectos de vacaciones o eventos especiales,\n",
    "- εt: error aleatorio.\n",
    "\n",
    "Prophet ajusta estos componentes automáticamente, y su ventaja es que maneja valores faltantes, es tolerante a outliers, y permite personalización, como definir estacionalidades semanales o anuales.\n",
    "\n",
    "*Supuestos y recomendaciones*\n",
    "- Los datos deben tener una frecuencia regular (diaria, semanal, mensual).\n",
    "- Se requiere al menos un año de datos para capturar bien la estacionalidad anual.\n",
    "- La serie debe tener un patrón razonablemente repetitivo o estructurado.\n",
    "- Prophet es mejor para datos con comportamiento empresarial típico, más que para señales altamente caóticas o aleatorias.\n"
   ]
  },
  {
   "cell_type": "code",
   "execution_count": null,
   "id": "dc9c4324-1f9b-4dd6-9517-575317bdb251",
   "metadata": {},
   "outputs": [],
   "source": [
    "import pandas as pd\n",
    "from prophet import Prophet\n",
    "import matplotlib.pyplot as plt\n",
    "\n",
    "# Supongamos que df tiene dos columnas: 'ds' (fechas) y 'y' (valores a predecir, por ejemplo ventas)\n",
    "# Ejemplo:\n",
    "# df = pd.DataFrame({\n",
    "#     'ds': pd.date_range(start='2022-01-01', periods=24, freq='M'),\n",
    "#     'y': [120, 130, 125, ...]\n",
    "# })\n",
    "\n",
    "# Crear y ajustar el modelo\n",
    "modelo = Prophet()\n",
    "modelo.fit(df)\n",
    "\n",
    "# Crear el dataframe de fechas futuras (por ejemplo, 6 meses adelante)\n",
    "futuro = modelo.make_future_dataframe(periods=6, freq='M')\n",
    "\n",
    "# Generar pronóstico\n",
    "pronostico = modelo.predict(futuro)\n",
    "\n",
    "# Visualizar resultados\n",
    "modelo.plot(pronostico)\n",
    "plt.title('Pronóstico con Prophet')\n",
    "plt.show()\n",
    "\n",
    "# Componentes descompuestos (tendencia, estacionalidad)\n",
    "modelo.plot_components(pronostico)\n",
    "plt.show()\n"
   ]
  },
  {
   "cell_type": "code",
   "execution_count": null,
   "id": "28e2447e-880a-42b4-8f07-9f327cede374",
   "metadata": {},
   "outputs": [],
   "source": []
  }
 ],
 "metadata": {
  "kernelspec": {
   "display_name": "Python [conda env:base] *",
   "language": "python",
   "name": "conda-base-py"
  },
  "language_info": {
   "codemirror_mode": {
    "name": "ipython",
    "version": 3
   },
   "file_extension": ".py",
   "mimetype": "text/x-python",
   "name": "python",
   "nbconvert_exporter": "python",
   "pygments_lexer": "ipython3",
   "version": "3.12.7"
  }
 },
 "nbformat": 4,
 "nbformat_minor": 5
}
