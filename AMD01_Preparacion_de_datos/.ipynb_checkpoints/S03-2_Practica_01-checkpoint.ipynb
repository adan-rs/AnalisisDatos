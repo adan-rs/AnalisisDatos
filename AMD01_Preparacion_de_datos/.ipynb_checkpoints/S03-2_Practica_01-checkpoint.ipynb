{
 "cells": [
  {
   "cell_type": "markdown",
   "id": "de88c4b4-2fd2-4acd-b7ae-48a979ed13b7",
   "metadata": {},
   "source": [
    "## 3.5 Práctica 01"
   ]
  },
  {
   "cell_type": "markdown",
   "id": "bf5b09f4-deec-4220-b9dd-6516c5d4ce54",
   "metadata": {},
   "source": [
    "En el notebook 'Practica_S0301', carga la base de datos de hoteles de una ciudad diferente (Londres, Milán, Roma). Selecciona las variables utilizadas en el ejemplo y las filas correspondientes a los hoteles. Luego elimina duplicados y consulta y reemplaza datos perdidos en las variables numéricas. Compara los resultados de esa ciudad con Viena."
   ]
  },
  {
   "cell_type": "code",
   "execution_count": null,
   "id": "daed7f08-03f4-406e-b8ac-8b581113516f",
   "metadata": {},
   "outputs": [],
   "source": []
  }
 ],
 "metadata": {
  "kernelspec": {
   "display_name": "Python 3 (ipykernel)",
   "language": "python",
   "name": "python3"
  },
  "language_info": {
   "codemirror_mode": {
    "name": "ipython",
    "version": 3
   },
   "file_extension": ".py",
   "mimetype": "text/x-python",
   "name": "python",
   "nbconvert_exporter": "python",
   "pygments_lexer": "ipython3",
   "version": "3.11.7"
  }
 },
 "nbformat": 4,
 "nbformat_minor": 5
}
