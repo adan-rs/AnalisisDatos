{
 "cells": [
  {
   "cell_type": "markdown",
   "id": "932267cf-c963-4191-872d-a625651d3114",
   "metadata": {},
   "source": [
    "# Sesión 01: Introducción a Python\n",
    "\n",
    "*Principio de Pareto: un 20% de las acciones genera el 80% de los resultados.*"
   ]
  },
  {
   "cell_type": "markdown",
   "id": "78457edb-6e2a-4ae4-abb5-b5837950d988",
   "metadata": {
    "tags": []
   },
   "source": [
    "## 1.1. Celdas y comentarios\n",
    "En este curso utilizaremos notebooks en Jupyter o Colab para trabajar con python. Estos notebooks son archivos .ipynb que contienen celdas de texto con formato (*Markdown*) o celdas con código. En la parte superior puedes seleccionar entre estas opciones \n",
    "\n",
    "En las celdas con código, para ejecutar una instrucción en Python utilizamos SHIFT+ENTER. Por ejemplo, utilicemos el comando `print()` para mostrar un texto."
   ]
  },
  {
   "cell_type": "code",
   "execution_count": null,
   "id": "5aa54587-a806-47ea-b1d7-be4a641b7c8a",
   "metadata": {
    "tags": []
   },
   "outputs": [],
   "source": [
    "print('Hola mundo')"
   ]
  },
  {
   "cell_type": "markdown",
   "id": "5edbaa1c-4115-4740-9c1a-0f59f3f817b3",
   "metadata": {
    "tags": []
   },
   "source": [
    "Podemos agregar comentarios al código añadiendo el símbolo de #. Si el comentario abarca más de una línea es preferible utilizar triple comilla doble al principio y al final."
   ]
  },
  {
   "cell_type": "code",
   "execution_count": null,
   "id": "55e15939-11b2-4227-984c-93b2f3be1bb2",
   "metadata": {
    "tags": []
   },
   "outputs": [],
   "source": [
    "# Este es un comentario breve"
   ]
  },
  {
   "cell_type": "markdown",
   "id": "c29a9452-6231-400a-814f-a93607238c90",
   "metadata": {},
   "source": [
    "## 1.2. Crear variables en Python\n",
    "Una variable nos sirve para almacenar información. Es importante saber que Python distingue entre mayúsculas y minúsculas y que el nombre de la variable no puede coincidir con comandos de Python (*I, O, if, for*, etc.). Se recomienda que el nombre de la variable sea descriptivo, esté en minúsculas y se separen las palabras con guiones bajos, por ejemplo, en vez de `MontoInicial` utilizar `monto_inicial`. Sin embargo, también se recomienda utilizar mayúsculas al establecer una constante (p. ej. `LIMITE_SUPERIOR`)\n",
    "\n",
    "*Variables numéricas*: los números pueden ser enteros (*int*) o reales (*float*). El separador decimal es el punto. Generalmente Python intentará decidir qué tipo de número es."
   ]
  },
  {
   "cell_type": "code",
   "execution_count": null,
   "id": "974c7fa1-c1f2-4bed-ad84-b1211b3ab934",
   "metadata": {
    "tags": []
   },
   "outputs": [],
   "source": [
    "numero = 2"
   ]
  },
  {
   "cell_type": "markdown",
   "id": "52db33c6-8fbc-48ce-9723-26c189a35129",
   "metadata": {},
   "source": [
    "La función `print()` muestra el valor de la variable. "
   ]
  },
  {
   "cell_type": "code",
   "execution_count": null,
   "id": "a14c181b-7554-4243-a3f1-908aed5f0109",
   "metadata": {},
   "outputs": [],
   "source": [
    "print(numero)"
   ]
  },
  {
   "cell_type": "markdown",
   "id": "49dcd569-85e6-4436-a000-ba01c461871a",
   "metadata": {
    "tags": []
   },
   "source": [
    "En entornos interactivos como Jupyter, basta con escribir con escribir solamente el nombre de la variable para obtener su valor, sin embargo, en un *script* escribir el nombre de la variable no generará una salida visible. "
   ]
  },
  {
   "cell_type": "code",
   "execution_count": null,
   "id": "0adce283-fb7e-45dd-8813-c9522d2ffb48",
   "metadata": {
    "tags": []
   },
   "outputs": [],
   "source": [
    "numero"
   ]
  },
  {
   "cell_type": "markdown",
   "id": "dc03fc60-cda3-47a9-8401-3e278a51ace4",
   "metadata": {},
   "source": [
    "*Variables de texto*: Las variables que contienen texto se denominan *strings* (str). El texto se coloca entre comillas sencillas (') o dobles (\"). "
   ]
  },
  {
   "cell_type": "code",
   "execution_count": null,
   "id": "0836f2a8-e621-4f80-8f22-788f37c343e1",
   "metadata": {
    "tags": []
   },
   "outputs": [],
   "source": [
    "texto = 'Análisis y minería de datos'"
   ]
  },
  {
   "cell_type": "code",
   "execution_count": null,
   "id": "dd89a34c-d416-41fb-8c15-22c4ff636fbb",
   "metadata": {},
   "outputs": [],
   "source": [
    "print(texto)"
   ]
  },
  {
   "cell_type": "markdown",
   "id": "2aee4924-e4a1-40d1-ace9-06474995bc2e",
   "metadata": {
    "tags": []
   },
   "source": [
    "## 1.3. Operaciones aritméticas"
   ]
  },
  {
   "cell_type": "code",
   "execution_count": null,
   "id": "3c6bc2b1-48c4-4fd8-8c1d-b2aa548ca6c1",
   "metadata": {
    "tags": []
   },
   "outputs": [],
   "source": [
    "# Suma\n",
    "1 + 2"
   ]
  },
  {
   "cell_type": "code",
   "execution_count": null,
   "id": "f15e1bfd-0baf-411f-9a75-c7f153b749bb",
   "metadata": {
    "tags": []
   },
   "outputs": [],
   "source": [
    "# Multiplicación\n",
    "4.5 * 3"
   ]
  },
  {
   "cell_type": "code",
   "execution_count": null,
   "id": "45c033dc-3c82-4247-8a5f-672617647fac",
   "metadata": {
    "tags": []
   },
   "outputs": [],
   "source": [
    "# División (el resultado siempre será decimal)\n",
    "10 / 5"
   ]
  },
  {
   "cell_type": "code",
   "execution_count": null,
   "id": "af431f85-e3c9-40ee-8e12-a1e338fe0657",
   "metadata": {
    "tags": []
   },
   "outputs": [],
   "source": [
    "# Aplican las reglas usuales de prioridad de operaciones\n",
    "1 + 2 * 3"
   ]
  },
  {
   "cell_type": "code",
   "execution_count": null,
   "id": "f66996fb-98bd-45b6-b09d-0c4d89021118",
   "metadata": {
    "tags": []
   },
   "outputs": [],
   "source": [
    "# Es recomendable usar paréntesis para indicar orden en operaciones\n",
    "(1 + 2) / (4 + 2)"
   ]
  },
  {
   "cell_type": "code",
   "execution_count": null,
   "id": "59926d7b-47f2-4d27-9e68-b3d3b074779b",
   "metadata": {
    "tags": []
   },
   "outputs": [],
   "source": [
    "# Pueden mostrarse errores de redondeo al pasar de binario a decimal\n",
    "(4 / 5) * 3"
   ]
  },
  {
   "cell_type": "code",
   "execution_count": null,
   "id": "bf255a77-4cc9-4ccf-823d-0b0e77becfdb",
   "metadata": {
    "tags": []
   },
   "outputs": [],
   "source": [
    "# Cociente de una división\n",
    "10 // 3"
   ]
  },
  {
   "cell_type": "code",
   "execution_count": null,
   "id": "557d1ca4-449e-454b-814e-5f28996bce45",
   "metadata": {
    "tags": []
   },
   "outputs": [],
   "source": [
    "# Resto de una división\n",
    "10 % 3"
   ]
  },
  {
   "cell_type": "code",
   "execution_count": null,
   "id": "a3e9fa22-ee8f-4b6d-ab8b-01c09eba2305",
   "metadata": {
    "tags": []
   },
   "outputs": [],
   "source": [
    "# Potencias\n",
    "2**3"
   ]
  },
  {
   "cell_type": "code",
   "execution_count": null,
   "id": "61d61262-dd51-4651-959b-01c6fedcfd7c",
   "metadata": {
    "tags": []
   },
   "outputs": [],
   "source": [
    "# Redondeo\n",
    "round(3.1416)"
   ]
  },
  {
   "cell_type": "markdown",
   "id": "80e02176-d7ad-431a-9914-23d8e3363c6a",
   "metadata": {
    "tags": []
   },
   "source": [
    "## 1.4. Listas y diccionarios"
   ]
  },
  {
   "cell_type": "markdown",
   "id": "ca0d2138-a24a-4627-a259-4bb968b68b0c",
   "metadata": {},
   "source": [
    "Las *listas* son conjuntos de datos en los cuales hay un orden.  Es posible modificar los elementos de una lista e incluso puede haber duplicados. Las listas se ponen entre corchetes [ ], por ejemplo:"
   ]
  },
  {
   "cell_type": "code",
   "execution_count": null,
   "id": "3f200230-a894-43a8-949c-0402a1351639",
   "metadata": {},
   "outputs": [],
   "source": [
    "lista = ['Coahuila', 'Nuevo León', 'Tamaulipas']"
   ]
  },
  {
   "cell_type": "code",
   "execution_count": null,
   "id": "5be2fe79-37ac-4e8d-8fdc-8e29f9f291fc",
   "metadata": {},
   "outputs": [],
   "source": [
    "lista"
   ]
  },
  {
   "cell_type": "markdown",
   "id": "e7bed3a0-e4a4-454c-bf1f-92d139459d73",
   "metadata": {
    "tags": []
   },
   "source": [
    "En las listas el primer elemento corresponde a la posición 0. Si utilizamos `lista[i]`nos devolverá el elemento en la posición *i*."
   ]
  },
  {
   "cell_type": "code",
   "execution_count": null,
   "id": "1e14ea8c-1090-40eb-8968-7fd1f1bb7a77",
   "metadata": {},
   "outputs": [],
   "source": [
    "lista[0]"
   ]
  },
  {
   "cell_type": "markdown",
   "id": "b32970f8-6d00-4fb0-8f34-a675480f69bb",
   "metadata": {},
   "source": [
    "En un *diccionario* cada elemento está asociado a algo más. Se denominan *keys* a las \"palabras\" y *values* a las definiciones. No deben existir dos *keys* iguales pero sí puede haber dos *values* iguales. Los diccionarios se crea colocando sus elementos entre llaves {}, por ejemplo:"
   ]
  },
  {
   "cell_type": "code",
   "execution_count": null,
   "id": "bd247379-e62d-43e1-9a99-5265648933fc",
   "metadata": {},
   "outputs": [],
   "source": [
    "diccionario = {'Coahuila':'Saltillo', 'Nuevo León':'Monterrey'}"
   ]
  },
  {
   "cell_type": "code",
   "execution_count": null,
   "id": "e9429f62-f884-4704-864d-e74c5a030152",
   "metadata": {
    "tags": []
   },
   "outputs": [],
   "source": [
    "diccionario"
   ]
  },
  {
   "cell_type": "markdown",
   "id": "3ee144fa-32f1-4b14-abcd-d36544ab4828",
   "metadata": {},
   "source": [
    "## 1.5. Funciones\n",
    "Una *función* es un bloque de código reutilizable. Las funciones pueden datos de entrada, los procesan y arrojan un resultado. A semejanza de las variables, se recomienda utilizar minusculas y separar palabras con guiones bajos. También se recomienda utilizar al inicio un verbo en infinitivo. La sintaxis básica es la siguiente:\n",
    "\n",
    "```\n",
    "def nombre_de_la_funcion(parametro1, parametro2):\n",
    "    # Ejemplo de código\n",
    "    resultado = parametro1 + parametro2 \n",
    "    # Resultado\n",
    "    return resultado \n",
    "```"
   ]
  },
  {
   "cell_type": "markdown",
   "id": "3a6ee07a-cc3e-4166-a710-2a307857a9ea",
   "metadata": {},
   "source": [
    "`def` es una palabra clave para indicar que se trata de una función.  \n",
    "`nombre_de_la_funcion` puede ser cualquier nombre aunque se recomienda que sea breve y descriptivo.  \n",
    "`(parametro1, parametro2)` los parámetros de la función van entre paréntesis.   \n",
    "`return`es una palabra clave que devuelve el resultado. También es común usar `print` para mostrar el resultado o `pass` si no se requiere una operación al finalizar."
   ]
  },
  {
   "cell_type": "code",
   "execution_count": null,
   "id": "3b63216d-5dc4-4e54-8827-c9ed4e85414a",
   "metadata": {
    "tags": []
   },
   "outputs": [],
   "source": [
    "# Ejemplo básico de una función\n",
    "def sumar(a, b):\n",
    "    resultado = a + b\n",
    "    return resultado"
   ]
  },
  {
   "cell_type": "markdown",
   "id": "221cbca0-b5d4-4842-81ab-47e4eda59118",
   "metadata": {
    "tags": []
   },
   "source": [
    "Observe que se utilizan bloques de 4 espacios (*indentación*) para agrupar el código. Las líneas que estén *indentadas* al mismo nivel pertenecen al mismo bloque de código. La palabra *indentación* es un anglicismo equivalente a *sangría* en español."
   ]
  },
  {
   "cell_type": "code",
   "execution_count": null,
   "id": "9d8c0429-a28c-4569-96e5-56b8d4b4291d",
   "metadata": {
    "tags": []
   },
   "outputs": [],
   "source": [
    "# Uso de la función\n",
    "sumar(3,4)"
   ]
  },
  {
   "cell_type": "code",
   "execution_count": null,
   "id": "99ebc019-19c1-437c-9938-b32447800f06",
   "metadata": {
    "tags": []
   },
   "outputs": [],
   "source": [
    "# Uso de la función\n",
    "suma = sumar(3,4)\n",
    "print(suma)"
   ]
  },
  {
   "cell_type": "markdown",
   "id": "763bc5c3-aefe-459c-be23-e2046c98ca84",
   "metadata": {},
   "source": [
    "Se pueden crear funciones que no requieran parámetros, que tengan parámetros predeterminados, que arrojen varios resultados y varios tipos más de funciones.\n",
    "\n",
    "Hay funciones que ya están incorporadas en Python, por ejemplo `input()` detiene un proceso y espera a que el usuario escriba algo y presione la tecla *Enter*, para luego devolver lo que el usuario ha escrito como una cadena de texto."
   ]
  },
  {
   "cell_type": "code",
   "execution_count": null,
   "id": "5601764d-e34d-49e7-b4c3-205eaee42c7b",
   "metadata": {
    "tags": []
   },
   "outputs": [],
   "source": [
    "input('¿Cuál es tu nombre?')"
   ]
  },
  {
   "cell_type": "markdown",
   "id": "7338018a-ce9a-4b3f-827b-4e00c577839f",
   "metadata": {},
   "source": [
    "Para funciones adicionales podemos importar *librerías*. En el siguiente caso, la librería *random* permite utilizar una función que elige al azar un elemento de una lista "
   ]
  },
  {
   "cell_type": "code",
   "execution_count": null,
   "id": "472204a2-879a-44b6-93a1-54cf54141924",
   "metadata": {
    "tags": []
   },
   "outputs": [],
   "source": [
    "# Importar librería\n",
    "import random\n",
    "\n",
    "estado = random.choice(lista)\n",
    "print(estado)"
   ]
  },
  {
   "cell_type": "markdown",
   "id": "5062424c-2481-4572-bd13-82709c9ec0d1",
   "metadata": {},
   "source": [
    "## Referencias\n",
    "- El manual de estilo más utilizado para programar en Python es PEP-8 y se puede consultar aquí: https://peps.python.org/pep-0008/ \n",
    "- Un desglose de las principales reglas de estilo se puede encontrar en https://www.flake8rules.com/"
   ]
  },
  {
   "cell_type": "code",
   "execution_count": null,
   "id": "9e27377b-3dbf-4f49-a993-0c09ce8440e2",
   "metadata": {},
   "outputs": [],
   "source": []
  }
 ],
 "metadata": {
  "kernelspec": {
   "display_name": "Python 3 (ipykernel)",
   "language": "python",
   "name": "python3"
  },
  "language_info": {
   "codemirror_mode": {
    "name": "ipython",
    "version": 3
   },
   "file_extension": ".py",
   "mimetype": "text/x-python",
   "name": "python",
   "nbconvert_exporter": "python",
   "pygments_lexer": "ipython3",
   "version": "3.11.7"
  }
 },
 "nbformat": 4,
 "nbformat_minor": 5
}
