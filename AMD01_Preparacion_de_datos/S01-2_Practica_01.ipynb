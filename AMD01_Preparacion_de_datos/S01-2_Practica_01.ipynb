{
 "cells": [
  {
   "cell_type": "markdown",
   "id": "97fa6c75-a9c1-4ac8-bf76-198e83e07b86",
   "metadata": {},
   "source": [
    "# Práctica 01: listas y funciones"
   ]
  },
  {
   "cell_type": "markdown",
   "id": "ce46b6b9-4d9b-401c-a7a6-27368dff5078",
   "metadata": {},
   "source": [
    "La bola 8 mágica (*Magic 8-Ball*) es una esfera de juguete con aspecto de bola ocho, que se utiliza para pedir respuestas o consejos. Vamos a crear un código que replique su funcionamiento.\n",
    "\n",
    "Crea una lista llamada `respuestas`con las siguientes frases:\n",
    "```\n",
    "'Concéntrate y vuelve a preguntar', 'Lo más probable', 'Mejor no decirte ahora', 'Mi respuesta es no', 'Muy dudoso', 'No cuentes con ello', 'No se puede predecir ahora', 'Puedes confiar en ello', 'Sí, definitivamente', 'Sí', 'Sin lugar a dudas', 'Es cierto'  \n",
    "```\n",
    "Siguiendo las guías de estilo, verifica que cada línea de código no se extienda más allá de 79 caracteres."
   ]
  },
  {
   "cell_type": "code",
   "execution_count": null,
   "id": "be6bc2e3-f17a-46c2-8f97-2142fc831207",
   "metadata": {},
   "outputs": [],
   "source": []
  },
  {
   "cell_type": "markdown",
   "id": "e032c008-f65d-43d3-8118-9dd590348104",
   "metadata": {},
   "source": [
    "Complementa la siguiente función para que puedas utilizarla para obtener un consejo."
   ]
  },
  {
   "cell_type": "code",
   "execution_count": null,
   "id": "a9770289-4b87-4e09-8b6c-0d98d965d76f",
   "metadata": {
    "tags": []
   },
   "outputs": [],
   "source": [
    "import random\n",
    "\n",
    "def magic_ball():\n",
    "    input(\"Haz tu pregunta: \") \n",
    "    respuesta = random.choice(respuestas)\n"
   ]
  },
  {
   "cell_type": "markdown",
   "id": "5232d7fe-8b1c-4bf3-966e-12e7fa848858",
   "metadata": {},
   "source": [
    "Finalmente, ejecuta la función, escribe tu pregunta y oprime \"enter\""
   ]
  },
  {
   "cell_type": "code",
   "execution_count": null,
   "id": "45ed69bc-9f53-4073-b5b9-06897fd8bab4",
   "metadata": {
    "tags": []
   },
   "outputs": [],
   "source": [
    "magic_ball()"
   ]
  },
  {
   "cell_type": "markdown",
   "id": "4eb0f68a-e92b-4c2b-a51d-86e6778c7a18",
   "metadata": {},
   "source": [
    "## Referencias\n",
    "Esta práctica está basada en una actividad del libro:  \n",
    "Sweigart, Al (2015). *Automate the boring stuff with Python. Practical programming for total beginners*. San Francisco: No Starch Press Inc."
   ]
  },
  {
   "cell_type": "code",
   "execution_count": null,
   "id": "aafad9fb-0ea3-4152-8963-8a0ba8b75dc5",
   "metadata": {},
   "outputs": [],
   "source": []
  }
 ],
 "metadata": {
  "kernelspec": {
   "display_name": "Python 3 (ipykernel)",
   "language": "python",
   "name": "python3"
  },
  "language_info": {
   "codemirror_mode": {
    "name": "ipython",
    "version": 3
   },
   "file_extension": ".py",
   "mimetype": "text/x-python",
   "name": "python",
   "nbconvert_exporter": "python",
   "pygments_lexer": "ipython3",
   "version": "3.11.7"
  }
 },
 "nbformat": 4,
 "nbformat_minor": 5
}
