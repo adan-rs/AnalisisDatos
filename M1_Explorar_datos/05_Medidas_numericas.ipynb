{
 "cells": [
  {
   "cell_type": "markdown",
   "id": "23486e68-d2c1-4098-b119-9adddc810224",
   "metadata": {},
   "source": [
    "# Medidas numéricas\n",
    "*\"Si las estadísticas son aburridas, es que tienes los números equivocados\". Edward Tufte*"
   ]
  },
  {
   "cell_type": "code",
   "execution_count": null,
   "id": "42be5a82-421a-4295-bb89-de165b0d78f2",
   "metadata": {},
   "outputs": [],
   "source": [
    "import pandas as pd"
   ]
  },
  {
   "cell_type": "code",
   "execution_count": null,
   "id": "23746216-e5bb-458a-ad02-bb5149a08a75",
   "metadata": {},
   "outputs": [],
   "source": [
    "df = pd.read_excel('../datasets/enigh2020.xlsx')\n",
    "#df = pd.read_excel('https://github.com/adan-rs/AnalisisDatos/raw/main/datasets/enigh2020.xlsx')"
   ]
  },
  {
   "cell_type": "code",
   "execution_count": null,
   "id": "55333322-3405-475c-bf5b-c2bb58e74bc6",
   "metadata": {},
   "outputs": [],
   "source": [
    "df.columns"
   ]
  },
  {
   "cell_type": "markdown",
   "id": "5ac427f4-def4-4276-bb1c-987e91264243",
   "metadata": {},
   "source": [
    "## Medidas de tendencia central\n",
    "\n",
    "Las medidas de tendencia central son medidas que describen la localización del centro de la distribución. Las principales medidas son la media la mediana y la moda.\n",
    "\n",
    "La media aritmética es el promedio, es decir, el valor que se obtiene al sumar todas las observaciones y dividirlos entre el total de observaciones. \n",
    "$$\n",
    " \\bar{x} = \\frac{1}{n} \\sum_{i=1}^{n} x_i \\\n",
    "$$\n",
    "Con *pandas* podemos utilizar `df['col1'].mean()` para obtener la media de \"col1\". De manera predeterminada, excluye los valores perdidos."
   ]
  },
  {
   "cell_type": "code",
   "execution_count": null,
   "id": "38790142-34c4-462e-8620-22f6decd35ae",
   "metadata": {},
   "outputs": [],
   "source": [
    "df['edad_jefe'].mean()"
   ]
  },
  {
   "cell_type": "markdown",
   "id": "d0865f72-2204-4ff7-a7fe-fed14862e998",
   "metadata": {},
   "source": [
    "La mediana ($\\tilde{x} \\$) es el valor que separa la mitad de los datos ordenados de la otra mitad restante. En el caso de los datos cuantitativos, si existen valores extremos la mediana es una mejor opción que la media. Con *pandas* podemos utilizar `df['col1'].median()` para obtener la media de \"col1\". "
   ]
  },
  {
   "cell_type": "code",
   "execution_count": null,
   "id": "256ae282-04f3-4219-85cb-83b447ca6206",
   "metadata": {},
   "outputs": [],
   "source": [
    "df['edad_jefe'].median()"
   ]
  },
  {
   "cell_type": "markdown",
   "id": "82b158f1-4e09-4bc6-93a2-fcd1c58ec52c",
   "metadata": {},
   "source": [
    "Si el valor de la media y la mediana es similar, esto sugiere que la distribución de los datos es simétrica. Si la media es mayor que la mediana, esto sugiere un sesgo a la derecha. Si la media es menor a la mediana, esto sugiere un sesgo a la izquierda."
   ]
  },
  {
   "cell_type": "code",
   "execution_count": null,
   "id": "b6a88ce2-980e-408a-8c56-80f057fb0df5",
   "metadata": {},
   "outputs": [],
   "source": [
    "df['edad_jefe'].hist();"
   ]
  },
  {
   "cell_type": "markdown",
   "id": "77dc11f0-5430-4f61-a1c0-4518c78d0347",
   "metadata": {},
   "source": [
    "La moda ($\\hat{x}$) es el valor que más repite en un conjunto de datos. Una ventaja de la moda es que se puede calcular para cualquier tipo de variable. A diferencia de la media o la mediana, pueden existir varias modas o incluso ninguna, por lo tanto, esta función puede arrojar varias modas."
   ]
  },
  {
   "cell_type": "code",
   "execution_count": null,
   "id": "bda41072-4349-4b32-8fde-cded0a330501",
   "metadata": {},
   "outputs": [],
   "source": [
    "df['edad_jefe'].mode()"
   ]
  },
  {
   "cell_type": "markdown",
   "id": "2dd4c9e7-11b5-4058-8d98-912f297fb161",
   "metadata": {},
   "source": [
    "## Medidas de variación o dispersión\n",
    "Son estadísticos que miden la dispersión de la distribución. \n",
    "El rango es la diferencia entre el valor más grande y el más pequeño de una distribución."
   ]
  },
  {
   "cell_type": "code",
   "execution_count": null,
   "id": "4182de88-34a4-477f-9d38-87b16aef55c3",
   "metadata": {},
   "outputs": [],
   "source": [
    "df['edad_jefe'].max() - df['edad_jefe'].min()"
   ]
  },
  {
   "cell_type": "markdown",
   "id": "f7b15fff-f75f-4138-8c0b-7a9bc3edf4f4",
   "metadata": {},
   "source": [
    "La varianza es la desviación promedio al cuadrado de todos los valores con respecto a la media.\n",
    "\n",
    "Si los datos son poblacionales:\n",
    "$$\n",
    "\\sigma^2 = \\frac{1}{N} \\sum_{i=1}^{N} (x_i - \\mu)^2\n",
    "$$\n",
    "\n",
    "Si los datos son muestrales se utiliza una corrección (n-1) para ajustar la estimación. \n",
    "$$\n",
    "s^2 = \\frac{1}{n-1} \\sum_{i=1}^{n} (x_i - \\bar{x})^2\n",
    "$$\n",
    "A partir de la expresión anterior se puede demostrar que $E[s^2] = \\sigma^2$"
   ]
  },
  {
   "cell_type": "code",
   "execution_count": null,
   "id": "c16aa60f-dfe5-4f0c-950c-b3ae55a04728",
   "metadata": {},
   "outputs": [],
   "source": [
    "df['edad_jefe'].var()"
   ]
  },
  {
   "cell_type": "markdown",
   "id": "4ff94f2d-ae53-44c9-957f-d8366bd3f6f9",
   "metadata": {},
   "source": [
    "La desviación estándar es la raíz cuadrada de la varianza.\n",
    "\n",
    "\n",
    "Si los datos son poblacionales:\n",
    "$$\n",
    "\\sigma = \\sqrt{\\frac{1}{N} \\sum_{i=1}^{N} (x_i - \\mu)^2}\n",
    "$$\n",
    "\n",
    "Si los datos son muestrales:\n",
    "$$\n",
    "s = \\sqrt{\\frac{1}{n-1} \\sum_{i=1}^{n} (x_i - \\bar{x})^2}\n",
    "$$"
   ]
  },
  {
   "cell_type": "code",
   "execution_count": null,
   "id": "0592ede7-a2d2-4402-b9bf-f0cfbb1d402b",
   "metadata": {},
   "outputs": [],
   "source": [
    "df['edad_jefe'].std()"
   ]
  },
  {
   "attachments": {},
   "cell_type": "markdown",
   "id": "7dbb1683-e73f-46c0-a235-0e8060505db6",
   "metadata": {},
   "source": [
    "## Medidas de forma\n",
    "Las medidas de forma permiten conocer la forma de la distribución de los datos. La asimetría es una característica que determina su sesgo con respecto a la media. Se puede considerar que la asimetría es la tendencia de una de las colas de la distribución a ser más larga que la otra. Un valor cercano a cero (i. e. entre -0.5 y 0.5)indica una distribución aproximadamente simétrica. Un valor positivo indica un sesgo hacia la derecha, un valor negativo indica un sesgo hacia la izquierda. "
   ]
  },
  {
   "cell_type": "code",
   "execution_count": null,
   "id": "94fc30ac-932b-4830-abda-38cd7f182158",
   "metadata": {},
   "outputs": [],
   "source": [
    "df['edad_jefe'].skew()"
   ]
  },
  {
   "cell_type": "markdown",
   "id": "c796a2c3-69f2-4b8a-bf82-9c0b130d0bd4",
   "metadata": {},
   "source": [
    "La curtosis es una medida del pico o aplanamiento de la curva definida por la distribución de frecuencias. Considerando la curtosis excesiva (curtosis menos 3), si la curtosis es positiva la cúspide es más puntiaguda que una distribución normal, si la curtosis es negativa la cúspide es más plana que una distribución normal."
   ]
  },
  {
   "cell_type": "code",
   "execution_count": null,
   "id": "3039142b-0a16-40ee-936a-6ca9366e9e33",
   "metadata": {},
   "outputs": [],
   "source": [
    "df['edad_jefe'].kurt()"
   ]
  },
  {
   "cell_type": "markdown",
   "id": "2bcae04b-a7bc-4976-8e13-485c99cbbf45",
   "metadata": {},
   "source": [
    "## Medidas de posición"
   ]
  },
  {
   "cell_type": "markdown",
   "id": "55bd4790-682d-4c1a-8cf4-8d9556a812ef",
   "metadata": {},
   "source": [
    "Las medidas de posición más comunes son los cuartiles, deciles y percentiles.\n",
    "Los cuartiles dividen un conjunto de datos ordenado en cuatro partes iguales. El primer cuartil (Q1) es el valor que separa el 25% inferior de los datos del 75% superior. El segundo cuartil (Q2) es la mediana, y el tercer cuartil (Q3) separa el 75% inferior del 25% superior. De manera semejante, los percentiles dividen el conjunto de datos en 100 partes iguales. El percentil n-ésimo es el valor que separa el n% de los datos más bajos del resto."
   ]
  },
  {
   "cell_type": "code",
   "execution_count": null,
   "id": "92024568-b5e9-4deb-aa90-d42ef9b65035",
   "metadata": {},
   "outputs": [],
   "source": [
    "df['edad_jefe'].quantile(0.50)"
   ]
  },
  {
   "cell_type": "markdown",
   "id": "38ad4bcb-cccd-41df-9dd0-6b65dd64b91e",
   "metadata": {},
   "source": [
    "## Resumen de medidas descriptivas"
   ]
  },
  {
   "cell_type": "code",
   "execution_count": null,
   "id": "5ca5a867-a30d-4c4a-8997-f32c67551192",
   "metadata": {},
   "outputs": [],
   "source": [
    "df['edad_jefe'].describe()"
   ]
  },
  {
   "cell_type": "markdown",
   "id": "828f8e0c-7e9d-4e74-b49e-9840c6c082be",
   "metadata": {},
   "source": [
    "## Referencias\n",
    "https://pandas.pydata.org/pandas-docs/stable/reference/api/pandas.DataFrame.mean.html\n",
    "\n",
    "https://pandas.pydata.org/pandas-docs/stable/reference/api/pandas.DataFrame.median.html\n",
    "\n",
    "https://pandas.pydata.org/pandas-docs/stable/reference/api/pandas.DataFrame.mode.html\n",
    "\n",
    "https://pandas.pydata.org/pandas-docs/stable/reference/api/pandas.DataFrame.var.html\n",
    "\n",
    "https://pandas.pydata.org/pandas-docs/stable/reference/api/pandas.DataFrame.std.html"
   ]
  },
  {
   "cell_type": "code",
   "execution_count": null,
   "id": "3999f271-0309-4896-8efe-b74eee5fac46",
   "metadata": {},
   "outputs": [],
   "source": []
  }
 ],
 "metadata": {
  "kernelspec": {
   "display_name": "Python 3 (ipykernel)",
   "language": "python",
   "name": "python3"
  },
  "language_info": {
   "codemirror_mode": {
    "name": "ipython",
    "version": 3
   },
   "file_extension": ".py",
   "mimetype": "text/x-python",
   "name": "python",
   "nbconvert_exporter": "python",
   "pygments_lexer": "ipython3",
   "version": "3.12.4"
  }
 },
 "nbformat": 4,
 "nbformat_minor": 5
}
