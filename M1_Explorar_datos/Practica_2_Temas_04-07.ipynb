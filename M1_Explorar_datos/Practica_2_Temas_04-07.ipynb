{
 "cells": [
  {
   "cell_type": "markdown",
   "id": "187a45f8-45e0-415e-ad41-b3d89dfcbdf1",
   "metadata": {},
   "source": [
    "# Práctica 02: Exploración de datos"
   ]
  },
  {
   "cell_type": "markdown",
   "id": "740df602-022e-4493-8c96-3972a32284db",
   "metadata": {},
   "source": [
    "Instrucciones para el Análisis Exploratorio de Datos (EDA)\n",
    "\n",
    "**Objetivo**:\n",
    "\n",
    "Realizar un análisis exploratorio de datos (EDA) para comprender mejor las características y relaciones de las cervezas disponibles en el mercado mexicano. Utilizarán los datos del archivo 'cerveza.xlsx' que contiene información sobre tipo de cerveza, calorías, alcohol, contenido, costo por 100 ml, y país de origen.  \n",
    "`https://github.com/adan-rs/AnalisisDatos/raw/main/datasets/cerveza.xlsx`\n",
    "\n",
    "**Actividades**:\n",
    "\n",
    "Carga y limpieza de datos:\n",
    "- Importen las bibliotecas necesarias para el análisis: pandas, numpy, matplotlib, seaborn.\n",
    "- Carguen el dataframe con los datos en su entorno de trabajo.\n",
    "- Realicen una inspección inicial de los datos para entender su estructura y contenido utilizando funciones como head() e info().\n",
    "- Identifiquen y manejen los valores duplicados o los datos faltantes, si los hubiera.\n",
    "- Utilicen una técnica de detección de anomalías (basada en valor z, rango intercuartil o isolation forest) para filtrar valores atípicos con base en las variables cuantitativas que consideren adecuadas.\n",
    "\n",
    "Análisis Descriptivo:\n",
    "- Calcular estadísticas descriptivas (media, mediana, desviación estándar, etc.) para cada variable numérica.\n",
    "- Crear tablas de frecuencia para variables categóricas (tipo de cerveza y país).\n",
    "\n",
    "Visualización de Datos:\n",
    "- Utilicen gráficos de dispersión (scatter plots) para explorar las relaciones entre las variables numéricas, por ejemplo, entre el contenido de alcohol y las calorías.\n",
    "- Crear gráficos de barras para visualizar la distribución de tipos de cerveza y países de origen.\n",
    "- Crear un diagrama de pastel para comparar la cantidad de cervezas nacionales e importadas (0: Nacionales. 1: Importadas)\n",
    "\n",
    "Resumen y Conclusiones:\n",
    "- Redacten un resumen de los hallazgos más importantes de su análisis.\n",
    "- Identifiquen tendencias y patrones clave que podrían influir en la estrategia de negocio de la empresa cervecera.\n",
    "- Proporcionen recomendaciones basadas en los datos analizados.\n",
    "\n",
    "**Entregables**:\n",
    "- Un archivo en formato html o pdf con el código utilizado para el análisis. Para ello, una vez creado el notebook en Jupyter o Colab, guarda o exporta el archivo en formato html o pdf y comparte este archivo en la plataforma.\n",
    "- Un informe de no más de 2 páginas en formato pdf resumiendo los hallazgos y recomendaciones, con gráficos y tablas relevantes incluidas.\n",
    "\n",
    "Recuerden que el objetivo principal de esta actividad es practicar las técnicas de preparación y exploración datos para obtener insights valiosos del conjunto de datos.\n"
   ]
  },
  {
   "cell_type": "markdown",
   "id": "307f8785-5da5-4056-9ca1-785fa53bb0a6",
   "metadata": {},
   "source": [
    "## Referencia\n",
    "Revista del consumidor (2016, julio). *El laboratorio Profeco reporta: Cerveza*. Disponible en: https://www.gob.mx/cms/uploads/attachment/file/131720/RC475_Cerveza-OK-OK_para_WEB.pdf"
   ]
  },
  {
   "cell_type": "code",
   "execution_count": null,
   "id": "9e662207-faf8-4b06-86b9-0ef88e5978cc",
   "metadata": {},
   "outputs": [],
   "source": []
  }
 ],
 "metadata": {
  "kernelspec": {
   "display_name": "Python 3 (ipykernel)",
   "language": "python",
   "name": "python3"
  },
  "language_info": {
   "codemirror_mode": {
    "name": "ipython",
    "version": 3
   },
   "file_extension": ".py",
   "mimetype": "text/x-python",
   "name": "python",
   "nbconvert_exporter": "python",
   "pygments_lexer": "ipython3",
   "version": "3.12.4"
  }
 },
 "nbformat": 4,
 "nbformat_minor": 5
}
