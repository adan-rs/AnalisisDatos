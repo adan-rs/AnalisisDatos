{
 "cells": [
  {
   "cell_type": "markdown",
   "id": "54d051f9-a2b6-481b-b414-7bbf6d3f45bb",
   "metadata": {},
   "source": [
    "# Práctica 2b: Limpieza de datos.\r\n",
    "\r\n",
    "**Objetivo**  \r\n",
    "El archivo \"taxis_mty\" contiene información sobre viajes en taxi y Uber en la zona metropolitana de Monterrey (ZMM). Los datos, registrados por los usuarios a través de una aplicación, presentan inconsistencias que afectan la calidad de la base de datos, como valores atípicos o faltantes, que pueden distorsionar los resultados de cualquier análisis.\r\n",
    "\r\n",
    "El propósito de esta tarea es limpiar los datos y asegurar su calidad para que puedan ser utilizados en un estudio sobre los patrones de viaje en la ZMM. Esto implica identificar y eliminar observaciones erróneas o inconsistentes, garantizando que las decisiones tomadas se fundamenten en criterios lógicos y justificados.  \r\n",
    "\r\n",
    "**Actividades**  \r\n",
    "La base de datos incluye las siguientes variables:\r\n",
    "```\r\n",
    " id: identificador único de cada viaje.\r\n",
    " pickup_datetime: fecha y hora en que se activó el taxímetro.\r\n",
    " dropoff_datetime: fecha y hora en que se desactivó el taxímetro.\r\n",
    " dropoff_longitude: longitud geográfica del lugar donde se desactivó el taxímetro.\r\n",
    " dropoff_latitude: latitud geográfica del lugar donde se desactivó el taxímetro.\r\n",
    " trip_duration: duración del viaje en segundos.\r\n",
    " dist_meters: distancia recorrida durante el viaje en metros.\r\n",
    " wait_sec: tiempo que el vehículo estuvo completamente detenido durante el viaje (en segundos).  \r\n",
    "```\r\n",
    "\r\n",
    "Analiza estas variables para\r\n",
    "1. Identificar inconsistencias: Busca valores atípicos, duplicados, registros faltantes o cualquier otra anomalía qued.mprometa la calidad d Por ejemplo, distancias o duraciones de viaje excesivamente largos, Velocidad promedio demasialta.do baja o demasiado a\r\n",
    "2. Eliminar observaciones erróneas: Aplica criterios claros para descartar registros inconsistentes Por ejemplo: Tiempos de espera (wait_sec) mayores que la duración del viaje (trip_duration), longitudes y latitudes que no correspondan a la zona metropolitana de Monterrey (si las hubiera).\r\n",
    "3. Justificar cada decisión: Documenta los criterios utilizados para identificar y tratar los problemas encontrados, explicando poreliminado o  qué cada registro fue modificado.  \r\n",
    " \r\n",
    "**Entregable**  \r\n",
    "- Un archivo en formato html o pdf con el código utilizado para el análisis. Para ello, una vez creado el notebook en Jupyter o Colab, guarda o exporta el archivo en formato html o pdf y comparte este archivo en la plataforma.\r\n",
    "- Un informe de no más de 2 páginas en formato pd documentando los pasos seguidos y justifi cada decisión tomada.a..\n",
    "\n",
    "\n",
    "\n",
    "\n"
   ]
  },
  {
   "cell_type": "code",
   "execution_count": null,
   "id": "22395b80-e7ec-4bb0-b2d8-7691a1adcf68",
   "metadata": {},
   "outputs": [],
   "source": []
  }
 ],
 "metadata": {
  "kernelspec": {
   "display_name": "Python 3 (ipykernel)",
   "language": "python",
   "name": "python3"
  },
  "language_info": {
   "codemirror_mode": {
    "name": "ipython",
    "version": 3
   },
   "file_extension": ".py",
   "mimetype": "text/x-python",
   "name": "python",
   "nbconvert_exporter": "python",
   "pygments_lexer": "ipython3",
   "version": "3.12.4"
  }
 },
 "nbformat": 4,
 "nbformat_minor": 5
}
