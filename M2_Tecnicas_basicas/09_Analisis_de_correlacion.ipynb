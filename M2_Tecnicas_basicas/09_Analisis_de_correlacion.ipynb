{
 "cells": [
  {
   "cell_type": "markdown",
   "id": "06c209d9-c8ed-45cb-814e-9cc7e47b9e18",
   "metadata": {
    "tags": []
   },
   "source": [
    "# Análisis de correlación"
   ]
  },
  {
   "cell_type": "markdown",
   "id": "6231c041-3b72-47b0-b5dc-d658d7ef8fd7",
   "metadata": {},
   "source": [
    "Un medida útil para evaluar el grado de relación lineal entre dos variables cuantitativas es el coeficiente de correlación de Pearson. Este coeficiente puede tomar valores entre -1 y 1, donde valores positivos indican una relación directa, valores negativos indican una relación inversa, y cuanto más cercano sea a 0 más débil es esta relación. \n",
    "\n",
    "Para calcular un coeficiente de correlación de Pearson entre dos columnas se puede utilizar el método *corr()* de Pandas. Por ejemplo:\n",
    "`correlacion = df['X'].corr(df['Y'])`  \n",
    "\n",
    "Para calcular el coeficiente de correlación de Spearman se puede agregar como argumento:  \n",
    "`correlacion = df['X'].corr(df['Y'], method='spearman')`  "
   ]
  },
  {
   "cell_type": "code",
   "execution_count": null,
   "id": "d4642577-abf5-40e9-a59b-574eb5fa92a3",
   "metadata": {},
   "outputs": [],
   "source": [
    "import pandas as pd\n",
    "import numpy as np\n",
    "import matplotlib.pyplot as plt\n",
    "import seaborn as sns"
   ]
  },
  {
   "cell_type": "code",
   "execution_count": null,
   "id": "c1f55966-afe7-4101-8102-09b1f12a4f5c",
   "metadata": {},
   "outputs": [],
   "source": [
    "df = pd.read_excel('https://github.com/adan-rs/AnalisisDatos/raw/main/datasets/enigh2020.xlsx')"
   ]
  },
  {
   "cell_type": "markdown",
   "id": "5b39415f-2309-4527-b68b-bda88193ef6d",
   "metadata": {},
   "source": [
    "Eliminemos datos atípicos"
   ]
  },
  {
   "cell_type": "code",
   "execution_count": null,
   "id": "3cf92a3d-4953-4123-87af-0d309e6cb736",
   "metadata": {},
   "outputs": [],
   "source": [
    "from sklearn.ensemble import IsolationForest\n",
    "\n",
    "def remove_outliers_iso_forest(df, columns, contamination=0.05, random_state=42):\n",
    "    \"\"\"\n",
    "    Elimina valores atípicos utilizando el algoritmo Isolation Forest.\n",
    "    Retorna DataFrame sin valores atípicos.\n",
    "    \"\"\"\n",
    "    # Initialize and fit Isolation Forest model\n",
    "    iso_forest = IsolationForest(contamination=contamination, random_state=random_state)\n",
    "    iso_forest.fit(df[columns])\n",
    "    \n",
    "    # Predict labels: 1 (normal) or -1 (outlier)\n",
    "    labels = iso_forest.predict(df[columns])\n",
    "    \n",
    "    # Calculate and display number of excluded outliers\n",
    "    df_clean = df[labels == 1]\n",
    "    excluded_values = len(df) - len(df_clean)\n",
    "    print(f\"\\nCantidad de valores atípicos excluidos: {excluded_values}\")\n",
    "    return df_clean"
   ]
  },
  {
   "cell_type": "code",
   "execution_count": null,
   "id": "dc6feefa-1443-4237-ac24-475304d85713",
   "metadata": {},
   "outputs": [],
   "source": [
    "df = remove_outliers_iso_forest(df, ['ing_cor', 'gasto_mon'])"
   ]
  },
  {
   "cell_type": "code",
   "execution_count": null,
   "id": "3eec598b-3c52-45fa-bf6d-e554deb87fa6",
   "metadata": {},
   "outputs": [],
   "source": [
    "df.plot(kind='scatter', x='ing_cor', y='gasto_mon');"
   ]
  },
  {
   "cell_type": "markdown",
   "id": "bb3f72bf-9610-4b7e-ae10-78434fd2258d",
   "metadata": {},
   "source": [
    "El coeficiente de correlación es una medida del grado o fuerza de la relación lineal entre dos variables cuantitativas. Un valor positivo del coeficiente de correlación indica una relación directa mientras que un valor negativo indica una relación inversa."
   ]
  },
  {
   "cell_type": "code",
   "execution_count": null,
   "id": "e53c15a0-3a12-4fec-9b8f-63b857b55d81",
   "metadata": {},
   "outputs": [],
   "source": [
    "# Calcula la correlación entre \"ing_cor\" y \"gasto_mon\"\n",
    "correlacion = df['ing_cor'].corr(df['gasto_mon'])\n",
    "correlacion.round(4)"
   ]
  },
  {
   "cell_type": "markdown",
   "id": "b53de945-c21a-44ac-a650-b97cdac2dfb0",
   "metadata": {},
   "source": [
    "Si se tiene un DataFrame *df* de variables cuantitativas se puede obtener la matriz de correlaciones utilizando `df.corr()`"
   ]
  },
  {
   "cell_type": "code",
   "execution_count": null,
   "id": "1b1d4514-0f18-434c-932d-10c0678455da",
   "metadata": {},
   "outputs": [],
   "source": [
    "var_cont = [\"ing_cor\", \"gasto_mon\", \"edad_jefe\", \"tot_integ\"]\n",
    "matriz_corr = df[var_cont].corr()\n",
    "matriz_corr"
   ]
  },
  {
   "cell_type": "code",
   "execution_count": null,
   "id": "00afee61-6ee6-4b10-be10-61f842f206f0",
   "metadata": {},
   "outputs": [],
   "source": [
    "fig, ax = plt.subplots(figsize=(6, 4))\n",
    "ax = sns.heatmap(matriz_corr, annot=True, cmap='Greens')\n",
    "ax.set_title('Mapa de calor de las correlaciones');"
   ]
  },
  {
   "cell_type": "markdown",
   "id": "763f79ea-6822-4924-8e3b-d9c866f58603",
   "metadata": {},
   "source": [
    "## Prueba de hipótesis para la correlación"
   ]
  },
  {
   "cell_type": "markdown",
   "id": "315dd7f9-513b-48e5-9660-e062fe225eeb",
   "metadata": {},
   "source": [
    "*¿Para qué se utiliza?* Se utiliza para evaluar si existe una relación o no entre dos variables cuantitativas. Esta prueba evalúa si el coeficiente de correlación de Pearson (r) entre las dos variables es significativamente diferente de cero.\n",
    "\n",
    "*Variables*. Se consideran dos variables cuantitativas con escala de medición de razón o de intervalo.\n",
    "\n",
    "*Hipótesis*. Las hipótesis son:\n",
    "- Hipótesis nula (H0):  No existe una correlación entre las dos variables (r = 0).\n",
    "- Hipótesis alternativa (H1): Existe una correlación entre las dos variables (r ≠ 0).\n",
    "\n",
    "*Supuestos principales* \n",
    "- La relación entre ambas variables debe ser lineal.\n",
    "- La distribución de los datos debe ser normal (o una muestra grande)\n",
    "\n",
    "*Procedimiento*. Se recomienda utilizar la biblioteca *scipy.stats* debido a que permite obtener el valor p. Para ello se puede usar:\n",
    "\n",
    "```\n",
    "corr_coef, p_valor = pearsonr(df['X'], df['Y'])  \n",
    "print('Coeficiente de correlación: ', corr_coef)  \n",
    "print('Valor p', p_valor)\n",
    "```"
   ]
  },
  {
   "cell_type": "code",
   "execution_count": null,
   "id": "af0000d3-1f0d-4beb-b434-7951fcdeacdd",
   "metadata": {},
   "outputs": [],
   "source": [
    "from scipy.stats import pearsonr\n",
    "\n",
    "def prueba_correlacion_pearson(df, var1, var2, alfa=0.05, imprimir=True):\n",
    "    \"\"\"\n",
    "    Realiza una prueba de correlación de Pearson entre dos variables numéricas.\n",
    "    Retorna un diccionario con los resultados de la prueba.\n",
    "    \"\"\"\n",
    "    # Verificar condiciones de aplicabilidad\n",
    "    if var1 not in df.columns or var2 not in df.columns:\n",
    "        raise ValueError(f\"Una o ambas variables no existen en el DataFrame: {var1}, {var2}\")    \n",
    "    if not np.issubdtype(df[var1].dtype, np.number) or not np.issubdtype(df[var2].dtype, np.number):\n",
    "        raise ValueError(\"Ambas variables deben ser numéricas para calcular la correlación de Pearson\")\n",
    "    datos_completos = df[[var1, var2]].dropna()\n",
    "    \n",
    "    # Realizar prueba de correlación\n",
    "    correlacion, p_valor = pearsonr(datos_completos[var1], datos_completos[var2])\n",
    "        \n",
    "    # Determinar resultado\n",
    "    resultado = ('Existe una correlación significativa entre ambas variables' \n",
    "                 if p_valor < alfa \n",
    "                 else 'No existe una correlación significativa entre ambas variables')\n",
    "\n",
    "    # Interpretar la fuerza de la correlación\n",
    "    interpretacion = (\"Correlación muy fuerte\" if abs(correlacion) >= 0.9 else\n",
    "                      \"Correlación fuerte\" if abs(correlacion) >= 0.7 else\n",
    "                      \"Correlación moderada\" if abs(correlacion) >= 0.5 else\n",
    "                      \"Correlación débil\" if abs(correlacion) >= 0.3 else\n",
    "                      \"Correlación nula o muy débil\")\n",
    "    interpretacion += \" (negativa)\" if correlacion < 0 else \" (positiva)\" if correlacion > 0 else \"\"\n",
    "\n",
    "    # Imprimir resultados\n",
    "    print(f'\\nCorrelación entre {var1} y {var2}:')\n",
    "    print(f'Coeficiente de correlación: {correlacion:.4f}')\n",
    "    print(f'Valor p: {p_valor:.4f}')\n",
    "    print(f'Interpretación: {interpretacion}')\n",
    "    print(f'Resultado: {resultado}')\n",
    "\n",
    "    # Retornar resultados en un diccionario\n",
    "    return {'correlacion': correlacion,\n",
    "            'p_valor': p_valor,\n",
    "            'interpretacion': interpretacion,\n",
    "            'resultado': resultado}"
   ]
  },
  {
   "cell_type": "code",
   "execution_count": null,
   "id": "57420198-d84a-4ea7-ae2a-02653dadae86",
   "metadata": {},
   "outputs": [],
   "source": [
    "resultados = prueba_correlacion_pearson(df, 'ing_cor', 'gasto_mon')"
   ]
  },
  {
   "cell_type": "markdown",
   "id": "8f700d2b-6010-4df0-b0dd-c786fbbe8115",
   "metadata": {},
   "source": [
    "Ejemplo de reporte de metodología y resultados:\n",
    "> “Se realizó una prueba de correlación de Pearson para evaluar la relación entre el ingreso corriente y el gasto monetario. Se encontró una correlación positiva significativa entre ambas variables (r = 0.6354. p < 0.001)”"
   ]
  },
  {
   "cell_type": "markdown",
   "id": "9a1983c3-161f-4dad-a693-cf02b338f129",
   "metadata": {},
   "source": [
    "## Comentarios adicionales\n",
    "El coeficiente de correlación de Spearman es una alternativa apropiada cuando las variables son ordinales, existen relaciones monótonas no lineales, o la distribución no es normal. \n",
    "```\n",
    "from scipy.stats import spearmanr\n",
    "corr_coef, p_value = spearmanr(x, y)\n",
    "```"
   ]
  },
  {
   "cell_type": "code",
   "execution_count": null,
   "id": "e6bed1df-2ec8-4c47-9eb4-8921254fa6b4",
   "metadata": {},
   "outputs": [],
   "source": [
    "from scipy.stats import spearmanr\n",
    "\n",
    "def prueba_correlacion_spearman(df, var1, var2, alfa=0.05):\n",
    "    \"\"\"\n",
    "    Realiza una prueba de correlación de Spearman entre dos variables.\n",
    "    Retorna un diccionario con los resultados de la prueba.\n",
    "    \"\"\"\n",
    "    # Verificar condiciones de aplicabilidad\n",
    "    if var1 not in df.columns or var2 not in df.columns:\n",
    "        raise ValueError(f\"Una o ambas variables no existen en el DataFrame: {var1}, {var2}\")\n",
    "    datos_completos = df[[var1, var2]].dropna()\n",
    "    \n",
    "    # Realizar prueba de correlación\n",
    "    correlacion, p_valor = spearmanr(datos_completos[var1], datos_completos[var2])\n",
    "    \n",
    "    # Determinar resultado e interpretación\n",
    "    resultado = ('Existe una correlación significativa entre ambas variables' \n",
    "                if p_valor < alfa \n",
    "                else 'No existe una correlación significativa entre ambas variables')\n",
    "    \n",
    "    interpretacion = (\"Correlación muy fuerte\" if abs(correlacion) >= 0.9 else\n",
    "                     \"Correlación fuerte\" if abs(correlacion) >= 0.7 else\n",
    "                     \"Correlación moderada\" if abs(correlacion) >= 0.5 else\n",
    "                     \"Correlación débil\" if abs(correlacion) >= 0.3 else\n",
    "                     \"Correlación nula o muy débil\")\n",
    "    interpretacion += \" (negativa)\" if correlacion < 0 else \" (positiva)\" if correlacion > 0 else \"\"\n",
    "    \n",
    "    # Imprimir resultados\n",
    "    print(f'\\nCorrelación de Spearman entre {var1} y {var2}:')\n",
    "    print(f'Coeficiente de correlación: {correlacion:.4f}')\n",
    "    print(f'Valor p: {p_valor:.4f}')\n",
    "    print(f'Interpretación: {interpretacion}')\n",
    "    print(f'Resultado: {resultado}')\n",
    "    \n",
    "    return {\n",
    "        'correlacion': correlacion,\n",
    "        'p_valor': p_valor,\n",
    "        'interpretacion': interpretacion,\n",
    "        'resultado': resultado}"
   ]
  },
  {
   "cell_type": "code",
   "execution_count": null,
   "id": "eb7b6044-1180-4806-bdb9-2a200a88de91",
   "metadata": {},
   "outputs": [],
   "source": [
    "resultados = prueba_correlacion_spearman(df, 'ing_cor', 'gasto_mon')"
   ]
  },
  {
   "cell_type": "markdown",
   "id": "9c289e15-2290-4b0b-8850-6d7e5010ca44",
   "metadata": {},
   "source": [
    "## Ejercicio"
   ]
  },
  {
   "cell_type": "markdown",
   "id": "b34e0792-0b02-4420-bd1f-20ea0653e939",
   "metadata": {},
   "source": [
    "Utilizando el mismo dataframe del ejemplo, realiza una prueba de hipótesis para la correlación para evaluar si existe una relación significativa entre el ingreso y alguna de las variables de gasto."
   ]
  },
  {
   "cell_type": "code",
   "execution_count": null,
   "id": "a3543e37-e17b-47f8-b841-e13958bedb30",
   "metadata": {},
   "outputs": [],
   "source": [
    "df.info()"
   ]
  },
  {
   "cell_type": "markdown",
   "id": "698cfb81-c6c7-4c2b-ac36-a87b26b82f22",
   "metadata": {},
   "source": [
    "## Lecturas recomendadas\n",
    "\n",
    "- El caso del \"datasaurio\" ilustra bien la importancia de graficar las variables: https://www.scientificamerican.com/article/what-this-graph-of-a-dinosaur-can-teach-us-about-doing-better-science/\n",
    "- Para una discusión de cómo tomar decisiones a partir de correlaciones es recomendable la siguiente lectura: https://hbr.org/2014/03/when-to-act-on-a-correlation-and-when-not-to"
   ]
  },
  {
   "cell_type": "code",
   "execution_count": null,
   "id": "ac65e1ab-fd83-43d2-aeb9-d2c291b5c9ea",
   "metadata": {},
   "outputs": [],
   "source": []
  }
 ],
 "metadata": {
  "kernelspec": {
   "display_name": "Python 3 (ipykernel)",
   "language": "python",
   "name": "python3"
  },
  "language_info": {
   "codemirror_mode": {
    "name": "ipython",
    "version": 3
   },
   "file_extension": ".py",
   "mimetype": "text/x-python",
   "name": "python",
   "nbconvert_exporter": "python",
   "pygments_lexer": "ipython3",
   "version": "3.12.4"
  }
 },
 "nbformat": 4,
 "nbformat_minor": 5
}
