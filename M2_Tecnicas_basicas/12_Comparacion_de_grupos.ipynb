{
 "cells": [
  {
   "cell_type": "markdown",
   "id": "ecc7a6a8-7b95-42a3-ae4d-1acce323a449",
   "metadata": {},
   "source": [
    "# Comparación de grupos\n",
    "\"*La mitad de mi gasto en publicidad no sirve para nada. El problema es que no sé qué mitad\" atribuida a John Wanamaker(1838-1922)*"
   ]
  },
  {
   "cell_type": "markdown",
   "id": "7218eb4b-0951-493a-bb40-4349e0324eca",
   "metadata": {},
   "source": [
    "## Pruebas A/B\n",
    "En el área de negocios, especialmente en innovación digital, es común realizar pruebas A/B para evaluar las respuestas de los usuarios a diferentes alternativas en el diseño de un sitio o una interfaz.  \n",
    "Entre sus características básicas está que los usuarios son asignados al azar a un grupo de control (A) o a un grupo experimental (B). A cada grupo se les muestra una alternativa diferente y se recopilan diversas métricas. Finalmente, analizando los resultados, se concluye qué alternativa tuvo mejor desempeño.  \n",
    "En la siguiente liga se muestran varios ejemplos de aplicaciones prácticas:\n",
    "https://goodui.org/leaks/. Este tipo de experimentos ejemplifica la aplicación de técnicas que veremos en esta sesión relacionadas con la comparación de dos o más grupos"
   ]
  },
  {
   "attachments": {},
   "cell_type": "markdown",
   "id": "dba72061-0ed4-4534-b474-58c44d862d37",
   "metadata": {
    "tags": []
   },
   "source": [
    "El archivo \"cookie_cats.csv\" contiene información de 90,189 jugadores. Cuando un jugador instala el juego empieza en el nivel 30, sin embargo, en la empresa que diseñó el juego han propuesto que el jugador empiece en el nivel 40. Para evaluar ambas opciones se diseñó una prueba A/B en la cual los jugadores fueron asignados aleatoriamente para comenzar en el nivel 30 (control) o en el nivel 40 (tratamiento).\n",
    "\n",
    "<div style=\"text-align: center;\">\n",
    "<img src=\"../images/cookie_cats.jpg\" alt=\"Cookie cats\" width=\"300\" height=\"200\">\n",
    "</div>\n",
    "\n",
    "Las variables en el dataset son:\n",
    "\n",
    "- userid: identificador del jugador.\n",
    "- version: gate30, empieza en el nivel 30; gate40: empieza en el nivel 40.\n",
    "- sum_gamerounds: número de rondas jugadas durante los primeros 14 días.\n",
    "- retention_1: el jugador jugó un día después de instalar el juego.\n",
    "- retention_7_ el jugador jugó después de 7 días de haber instalado el juego."
   ]
  },
  {
   "cell_type": "code",
   "execution_count": null,
   "id": "40944a26-4c98-4148-a9bb-bf006c9aada8",
   "metadata": {},
   "outputs": [],
   "source": [
    "import pandas as pd"
   ]
  },
  {
   "cell_type": "code",
   "execution_count": null,
   "id": "a430a526-6ad4-4906-a0db-3407749fa511",
   "metadata": {},
   "outputs": [],
   "source": [
    "df = pd.read_csv('https://github.com/adan-rs/AnalisisDatos/raw/main/datasets/cookie_cats.csv')\n",
    "df.info()"
   ]
  },
  {
   "cell_type": "code",
   "execution_count": null,
   "id": "1787f5c2-3293-4a4f-ac3c-38b91fe5121e",
   "metadata": {},
   "outputs": [],
   "source": [
    "df.describe().T"
   ]
  },
  {
   "cell_type": "code",
   "execution_count": null,
   "id": "2b9dd894-7af2-4d6e-afc7-05386c5710fa",
   "metadata": {},
   "outputs": [],
   "source": [
    "# Eliminación de datos atípicos\n",
    "from sklearn.ensemble import IsolationForest\n",
    "\n",
    "def remove_outliers_iso_forest(df, columns, contamination=0.05, random_state=42):\n",
    "    \"\"\"\n",
    "    Elimina valores atípicos utilizando el algoritmo Isolation Forest.\n",
    "    Retorna DataFrame sin valores atípicos.\n",
    "    \"\"\"\n",
    "    # Initialize and fit Isolation Forest model\n",
    "    iso_forest = IsolationForest(contamination=contamination, random_state=random_state)\n",
    "    iso_forest.fit(df[columns])\n",
    "    \n",
    "    # Predict labels: 1 (normal) or -1 (outlier)\n",
    "    labels = iso_forest.predict(df[columns])\n",
    "    \n",
    "    # Calculate and display number of excluded outliers\n",
    "    df_clean = df[labels == 1]\n",
    "    excluded_values = len(df) - len(df_clean)\n",
    "    print(f\"\\nCantidad de valores atípicos excluidos: {excluded_values}\")\n",
    "    return df_clean"
   ]
  },
  {
   "cell_type": "code",
   "execution_count": null,
   "id": "0e275ab8-7870-4f45-b230-a279058d2c10",
   "metadata": {},
   "outputs": [],
   "source": [
    "df = remove_outliers_iso_forest(df, columns=['sum_gamerounds'])\n",
    "df.info()"
   ]
  },
  {
   "cell_type": "markdown",
   "id": "589e1f01-4e56-43df-a377-6a8ebfb6fc7f",
   "metadata": {},
   "source": [
    "## Prueba z para dos proporciones\n",
    "Realizaremos una prueba z para comparar dos proporciones. Las pruebas de hipótesis pueden ser bilaterales (de dos colas) o unilaterales (de una cola). Utilizaremos una prueba bilateral, por lo tanto, las hipótesis se plantean como:\n",
    "- H<sub>0</sub>: p=p<sub>0</sub> (Hipótesis nula)\n",
    "- H<sub>1</sub>: p ≠ p<sub>0</sub> (Hipótesis alternativa)\n",
    "\n",
    "Para calcular las proporciones conviene obtener una tabla con el conteo de cada caso. Realicemos una tabla de contigencia o tabla cruzada. "
   ]
  },
  {
   "cell_type": "code",
   "execution_count": null,
   "id": "e09222ae-74d1-4c7b-83cd-99af3050a01a",
   "metadata": {},
   "outputs": [],
   "source": [
    "from statsmodels.stats.proportion import proportions_ztest\n",
    "\n",
    "def compare_proportions(data, group_column, category_column,\n",
    "                       success_category=None, alpha = 0.05):\n",
    "    \"\"\"\n",
    "    Realiza e interpreta una prueba z bilateral para comparar proporciones entre grupos.\n",
    "    Args:\n",
    "        data: DataFrame con los datos\n",
    "        group_column: Nombre de la columna que identifica los grupos\n",
    "        category_column: Nombre de la columna con las categorías a comparar\n",
    "        success_category: Categoría a considerar como \"éxito\" (si es None, \n",
    "                         usa la primera categoría encontrada)\n",
    "        alpha: Nivel de significancia (predeterminado: 0.05)    \n",
    "    Returns:\n",
    "        p-valor\n",
    "    \"\"\"\n",
    "    # Identificar categorías\n",
    "    categorias = data[category_column].unique()  # Obtener valores únicos\n",
    "    if len(categorias) != 2:                     # Sólo se comparan dos grupos\n",
    "        raise ValueError(f\"La columna {category_column} debe tener exactamente dos categorías\")\n",
    "    \n",
    "    # Determinar categoría de éxito\n",
    "    if success_category is None:\n",
    "        success_category = categorias[0]\n",
    "    elif success_category not in categorias:\n",
    "        raise ValueError(f\"La categoría '{success_category}' no existe en los datos\")\n",
    "    \n",
    "    # Convertir a binario (1 para success_category, 0 para la otra)\n",
    "    data_binaria = data.copy()\n",
    "    data_binaria[category_column] = (data[category_column] == success_category).astype(int)\n",
    "    \n",
    "    # Calcular estadísticos\n",
    "    conteos = data_binaria.groupby(group_column)[category_column].agg(['sum', 'count'])\n",
    "    proporciones = (conteos['sum'] / conteos['count']).round(4)\n",
    "    \n",
    "    # Realizar prueba z\n",
    "    stat, p_value = proportions_ztest(conteos['sum'], conteos['count'])\n",
    "    \n",
    "    # Preparar interpretación\n",
    "    es_significativo = p_value < alpha\n",
    "    interpretacion = (f\"Estadístico z: {stat:.4f}\\n\"\n",
    "                      f\"Valor p: {p_value:.4f}\\n\\n\"\n",
    "                      f\"Proporciones de '{success_category}' por grupo:\\n\")\n",
    "    for grupo in proporciones.index:\n",
    "        n = conteos.loc[grupo, 'count']\n",
    "        prop = proporciones[grupo]\n",
    "        interpretacion += f\"{grupo}: {prop:.1%} (n={n})\\n\"    \n",
    "    interpretacion += f\"\\nConclusión: {'Se rechaza' if es_significativo else 'No se rechaza'} \"\n",
    "    interpretacion += \"la hipótesis nula\" + (\" (hay diferencias significativas)\" if es_significativo else \"\")\n",
    "\n",
    "    print(f'Categoria de exito: {success_category}')\n",
    "    print(interpretacion)\n",
    "\n",
    "    return p_value"
   ]
  },
  {
   "cell_type": "code",
   "execution_count": null,
   "id": "cf1c7a11-3427-48f0-9cf7-0e14baa34d2e",
   "metadata": {},
   "outputs": [],
   "source": [
    "results = compare_proportions(df, \n",
    "                              group_column='version',\n",
    "                              category_column='retention_7',\n",
    "                              success_category=True)"
   ]
  },
  {
   "cell_type": "markdown",
   "id": "7b57e2df-31ff-4c38-89b0-d35b467cb1eb",
   "metadata": {
    "tags": []
   },
   "source": [
    "## Prueba t para dos muestras independientes"
   ]
  },
  {
   "cell_type": "markdown",
   "id": "c63521f7-0201-49e8-a329-ea7b107387a9",
   "metadata": {},
   "source": [
    "Los promedios también son una métrica comúnmente utilizada en las pruebas A/B. Comparemos las rondas de juego en promedio por cada grupo en el experimento."
   ]
  },
  {
   "cell_type": "code",
   "execution_count": null,
   "id": "d14cef26-d2ab-4def-aa1c-8fbadcf080a6",
   "metadata": {},
   "outputs": [],
   "source": [
    "# Estadística descriptiva\n",
    "df.groupby('version').agg({'sum_gamerounds':'mean'})"
   ]
  },
  {
   "cell_type": "markdown",
   "id": "027db370-f58d-4303-b277-d19c5d259b87",
   "metadata": {},
   "source": [
    "Consideraciones previas para realizar una prueba t:  \n",
    "- la variable debe tener escala de medición de intervalo o de razón\n",
    "- la variable debe tener una distribución normal o la muestra debe ser grande (mayor a 30)\n",
    "- las observaciones deben ser independientes.\n",
    "\n",
    "Planteamiento de hipótesis:  \n",
    "$H_0: \\mu_1 = \\mu_2$  \n",
    "$H_1: \\mu_1 \\neq \\mu_2$"
   ]
  },
  {
   "cell_type": "code",
   "execution_count": null,
   "id": "efcc7807-808b-41cd-ac0d-18947390e37a",
   "metadata": {},
   "outputs": [],
   "source": [
    "from scipy.stats import ttest_ind\n",
    "\n",
    "def compare_means(data, group_column, measure_column,\n",
    "                  group1=None, group2=None,\n",
    "                  equal_var: bool = True,\n",
    "                  alpha = 0.05):\n",
    "    \"\"\"\n",
    "    Realiza e interpreta una prueba t bilateral para comparar medias entre grupos.\n",
    "    Args:\n",
    "        data: DataFrame con los datos\n",
    "        group_column: Nombre de la columna que identifica los grupos\n",
    "        measure_column: Nombre de la columna con la variable a comparar\n",
    "        group1: Primer grupo a comparar (si es None, usa el primero encontrado)\n",
    "        group2: Segundo grupo a comparar (si es None, usa el segundo encontrado)\n",
    "        equal_var: Si es True, asume varianzas iguales (t de Student)\n",
    "                   Si es False, no asume varianzas iguales (t de Welch)\n",
    "        alpha: Nivel de significancia (default: 0.05)\n",
    "    Returns:\n",
    "        p-value\n",
    "    \"\"\"\n",
    "    # Identificar grupos si no se especifican\n",
    "    grupos = data[group_column].unique()    # Obtener valores únicos\n",
    "    if len(grupos) != 2:\n",
    "        raise ValueError(f\"La columna {group_column} debe tener exactamente dos grupos\")  \n",
    "    group1 = group1 if group1 is not None else grupos[0]\n",
    "    group2 = group2 if group2 is not None else grupos[1]\n",
    "    \n",
    "    # Obtener datos de cada grupo\n",
    "    datos_group1 = data[data[group_column] == group1][measure_column]\n",
    "    datos_group2 = data[data[group_column] == group2][measure_column]\n",
    "    \n",
    "    # Calcular estadísticos descriptivos\n",
    "    stats = pd.DataFrame({\n",
    "        'n': [len(datos_group1), len(datos_group2)],\n",
    "        'media': [datos_group1.mean(), datos_group2.mean()],\n",
    "        'std': [datos_group1.std(), datos_group2.std()]}, \n",
    "        index=[group1, group2])\n",
    "    \n",
    "    # Realizar prueba t\n",
    "    t_stat, p_value = ttest_ind(datos_group1, datos_group2, equal_var=equal_var)\n",
    "    \n",
    "    # Preparar interpretación\n",
    "    es_significativo = p_value < alpha\n",
    "    interpretacion = (f\"{'Prueba t de Student' if equal_var else 'Prueba t de Welch'}\\n\"\n",
    "                      f\"Estadístico t: {t_stat:.4f}\\n\"\n",
    "                      f\"Valor p: {p_value:.4f}\\n\\n\"\n",
    "                      \"Estadísticos descriptivos:\\n\")\n",
    "    \n",
    "    for grupo in [group1, group2]:\n",
    "        n = stats.loc[grupo, 'n']\n",
    "        media = stats.loc[grupo, 'media']\n",
    "        std = stats.loc[grupo, 'std']\n",
    "        interpretacion += f\"{grupo}: media={media:.2f}, std={std:.2f}, n={n}\\n\"\n",
    "    \n",
    "    interpretacion += f\"\\nConclusión: {'Se rechaza' if es_significativo else 'No se rechaza'} \"\n",
    "    interpretacion += \"la hipótesis nula\" + (\" (hay diferencias significativas entre las medias)\" \n",
    "                                           if es_significativo else \"\")\n",
    "    \n",
    "    print(interpretacion)\n",
    "    return p_value"
   ]
  },
  {
   "cell_type": "code",
   "execution_count": null,
   "id": "174d5952-d0a5-4d86-906f-da09979d7a05",
   "metadata": {},
   "outputs": [],
   "source": [
    "resultados = compare_means(df, 'version', 'sum_gamerounds')"
   ]
  },
  {
   "cell_type": "markdown",
   "id": "ebf3d54b-7b74-4d67-b347-866278b0cbdd",
   "metadata": {},
   "source": [
    "El p-valor reportado corresponde a una prueba bilateral, es decir, cuando no se anticipa si la diferencia será positiva o negativa"
   ]
  },
  {
   "cell_type": "markdown",
   "id": "05211313-4205-462d-ac6e-7a7ffba44432",
   "metadata": {
    "tags": []
   },
   "source": [
    "Si la muestra es pequeña (p<30) se requiere evaluar la normalidad en la distribución de los datos. Existen varias pruebas para evaluar la normalidad de los datos. La prueba Shapiro-Wilk es una de las más utilizadas.  \n",
    "- Hipótesis nula (H0): Los datos provienen de una distribución normal  \n",
    "- Hipótesis alternativa (H1): Los datos no provienen de una distribución normal.  "
   ]
  },
  {
   "cell_type": "markdown",
   "id": "ac0113e6-3ba5-4384-bdbb-6fd60c48abc8",
   "metadata": {},
   "source": [
    "## Prueba de Levene\n",
    "La prueba de Levene de homogeneidad de varianzas evalúa si la varianza es la misma para los diferentes grupos. Se debe revisar el p-valor (significancia), si este es mayor que 0.05 entonces no rechaza la hipótesis nula de igualdad de varianzas (es decir, no se está violando el supuesto de homogeneidad de varianzas)"
   ]
  },
  {
   "cell_type": "code",
   "execution_count": null,
   "id": "9c169f47-1807-4647-8aca-e364e0f52e78",
   "metadata": {},
   "outputs": [],
   "source": [
    "from scipy.stats import levene\n",
    "\n",
    "def compare_variances(data, group_column, measure_column, groups=None, alpha=0.05):\n",
    "    \"\"\"\n",
    "    Realiza e interpreta una prueba de Levene para comparar varianzas entre múltiples grupos.   \n",
    "    Args:\n",
    "        data: DataFrame con los datos\n",
    "        group_column: Nombre de la columna que identifica los grupos\n",
    "        measure_column: Nombre de la columna con la variable a comparar\n",
    "        groups: Lista de grupos a comparar (si es None, usa todos los grupos encontrados)\n",
    "        alpha: Nivel de significancia (default: 0.05)\n",
    "    Returns:\n",
    "        p-value\n",
    "    \"\"\"\n",
    "    # Identificar grupos si no se especifican\n",
    "    grupos_disponibles = data[group_column].unique()\n",
    "    if len(grupos_disponibles) < 2:\n",
    "        raise ValueError(f\"La columna {group_column} debe tener al menos dos grupos\")\n",
    "    \n",
    "    # Usar grupos especificados o todos los disponibles\n",
    "    grupos = groups if groups is not None else grupos_disponibles\n",
    "    \n",
    "    # Verificar que todos los grupos especificados existen\n",
    "    grupos_invalidos = set(grupos) - set(grupos_disponibles)\n",
    "    if grupos_invalidos:\n",
    "        raise ValueError(f\"Grupos no encontrados en los datos: {grupos_invalidos}\")\n",
    "    \n",
    "    # Obtener datos de cada grupo\n",
    "    datos_grupos = [data[data[group_column] == grupo][measure_column] for grupo in grupos]\n",
    "    \n",
    "    # Calcular estadísticas por grupo\n",
    "    stats = pd.DataFrame({\n",
    "        'n': [len(datos) for datos in datos_grupos],\n",
    "        'varianza': [datos.var() for datos in datos_grupos],\n",
    "        'desv_std': [datos.std() for datos in datos_grupos]\n",
    "    }, index=grupos)\n",
    "    \n",
    "    # Realizar prueba de Levene\n",
    "    stat, p_value = levene(*datos_grupos)\n",
    "    \n",
    "    # Preparar interpretación\n",
    "    es_significativo = p_value < alpha\n",
    "    interpretacion = (f\"Prueba de Levene para {len(grupos)} grupos\\n\"\n",
    "                     f\"Estadístico de Levene: {stat:.4f}\\n\"\n",
    "                     f\"Valor p: {p_value:.4f}\\n\\n\"\n",
    "                     \"Estadísticas por grupo:\\n\")\n",
    "    \n",
    "    # Añadir estadísticas de cada grupo\n",
    "    for grupo in grupos:\n",
    "        n = stats.loc[grupo, 'n']\n",
    "        var = stats.loc[grupo, 'varianza']\n",
    "        std = stats.loc[grupo, 'desv_std']\n",
    "        interpretacion += f\"{grupo}: n={n}, varianza={var:.2f}, desv. estándar={std:.2f}\\n\"\n",
    "    \n",
    "    # Añadir conclusión\n",
    "    interpretacion += f\"\\nConclusión: {'Se rechaza' if es_significativo else 'No se rechaza'} \"\n",
    "    interpretacion += \"la hipótesis nula de igualdad de varianzas\"\n",
    "    interpretacion += (\" (hay diferencias significativas en las varianzas entre los grupos)\" \n",
    "                      if es_significativo \n",
    "                      else \"\\n (no hay evidencia de diferencias significativas en las varianzas)\")\n",
    "    \n",
    "    print(interpretacion)\n",
    "    return p_value"
   ]
  },
  {
   "cell_type": "code",
   "execution_count": null,
   "id": "db08b3ee-9915-48d1-835f-2babfd72bfe2",
   "metadata": {},
   "outputs": [],
   "source": [
    "resultado = compare_variances(df, 'version', 'sum_gamerounds')"
   ]
  },
  {
   "cell_type": "markdown",
   "id": "e281aaa0-63ba-447e-9508-30f396d75dfb",
   "metadata": {},
   "source": [
    "## Prueba t de Welch \n",
    "Si hay evidencia estadística de que las varianzas son diferentes, se recomienda hacer una prueba t de Welch (para varianzas diferentes)"
   ]
  },
  {
   "cell_type": "code",
   "execution_count": null,
   "id": "1bf6013b-2f18-43fa-8ea0-c141f90707c2",
   "metadata": {},
   "outputs": [],
   "source": [
    "resultados = compare_means(df, 'version', 'sum_gamerounds', equal_var=False )"
   ]
  },
  {
   "cell_type": "markdown",
   "id": "5c22afbb-4c84-48a1-b9bc-dc6a92528be6",
   "metadata": {},
   "source": [
    "## Prueba Mann-Whitney\n",
    "Una alternativa no paramétrica a la prueba t es la prueba de Mann-Whitney. Esto es recomendable cuando no se cumple el supuesto de normalidad de los datos."
   ]
  },
  {
   "cell_type": "code",
   "execution_count": null,
   "id": "2c6ec729-3686-4e21-ad75-e6453566a557",
   "metadata": {},
   "outputs": [],
   "source": [
    "from scipy.stats import mannwhitneyu\n",
    "\n",
    "def compare_distributions(data, group_column, measure_column,\n",
    "                          group1=None, group2=None, alpha = 0.05):\n",
    "    \"\"\"\n",
    "    Realiza e interpreta una prueba de Mann-Whitney para comparar distribuciones.\n",
    "    Args:\n",
    "        data: DataFrame con los datos\n",
    "        group_column: Nombre de la columna que identifica los grupos\n",
    "        measure_column: Nombre de la columna con la variable a comparar\n",
    "        group1: Primer grupo a comparar (si es None, usa el primero encontrado)\n",
    "        group2: Segundo grupo a comparar (si es None, usa el segundo encontrado)\n",
    "        alpha: Nivel de significancia (default: 0.05)\n",
    "    Returns:\n",
    "        valor p de la prueba\n",
    "    \"\"\"\n",
    "    # Identificar grupos si no se especifican\n",
    "    grupos = data[group_column].unique()\n",
    "    if len(grupos) < 2:\n",
    "        raise ValueError(f\"La columna {group_column} debe tener al menos dos grupos\")\n",
    "    group1 = group1 if group1 is not None else grupos[0]\n",
    "    group2 = group2 if group2 is not None else grupos[1]\n",
    "    \n",
    "    # Obtener datos de cada grupo\n",
    "    datos_group1 = data[data[group_column] == group1][measure_column]\n",
    "    datos_group2 = data[data[group_column] == group2][measure_column]\n",
    "    \n",
    "    # Calcular estadísticos descriptivos\n",
    "    stats = pd.DataFrame({\n",
    "        'n': [len(datos_group1), len(datos_group2)],\n",
    "        'mediana': [datos_group1.median(), datos_group2.median()],\n",
    "        'rango_iq': [datos_group1.quantile(0.75) - datos_group1.quantile(0.25),\n",
    "                    datos_group2.quantile(0.75) - datos_group2.quantile(0.25)]\n",
    "    }, index=[group1, group2])\n",
    "    \n",
    "    # Realizar prueba de Mann-Whitney\n",
    "    statistic, p_value = mannwhitneyu(datos_group1, datos_group2)\n",
    "    \n",
    "    # Preparar interpretación\n",
    "    es_significativo = p_value < alpha\n",
    "    interpretacion = (f\"Estadístico U: {statistic:.4f}\\n\"\n",
    "                      f\"Valor p: {p_value:.4f}\\n\\n\"\n",
    "                      \"Estadísticos descriptivos:\\n\")\n",
    "    \n",
    "    for grupo in [group1, group2]:\n",
    "        n = stats.loc[grupo, 'n']\n",
    "        mediana = stats.loc[grupo, 'mediana']\n",
    "        rango = stats.loc[grupo, 'rango_iq']\n",
    "        interpretacion += f\"{grupo}: mediana={mediana:.2f}, rango_IQ={rango:.2f}, n={n}\\n\"\n",
    "    \n",
    "    interpretacion += f\"\\nConclusión: {'Se rechaza' if es_significativo else 'No se rechaza'} \"\n",
    "    interpretacion += \"la hipótesis nula\" + (\" (hay diferencias significativas en la distribución)\" \n",
    "                                           if es_significativo else \"\")\n",
    "    \n",
    "    print(interpretacion)\n",
    "    return p_value"
   ]
  },
  {
   "cell_type": "code",
   "execution_count": null,
   "id": "e909debc-1aed-437d-9e98-9d8842ea9e7b",
   "metadata": {},
   "outputs": [],
   "source": [
    "resultados = compare_distributions(df, 'version', 'sum_gamerounds')"
   ]
  },
  {
   "cell_type": "markdown",
   "id": "e8a40db5-2c70-4c72-b50f-5f4ae60f9073",
   "metadata": {},
   "source": [
    "## Ejercicio\n",
    "Utiliza la base de datos \"enigh_2020\" para evaluar si ___________ por hogar en promedio es diferente entre los hogares donde el jefe de familia es hombre en comparación con los hogares donde el jefe de familia es mujer.\n",
    "\n",
    "- Cargar los datos y librerías, explorar los datos\n",
    "- Evaluar supuestos: igualdad de varianzas y normalidad (no se requiere en este caso)\n",
    "- Realizar la prueba correspondiente"
   ]
  },
  {
   "cell_type": "markdown",
   "id": "ff6da0a3-74a6-4822-8e4d-e0fd54676a22",
   "metadata": {},
   "source": [
    "## Referencias\n",
    "https://roirevolution.com/blog/why-ab-testing-could-save-your-marketing-strategy/"
   ]
  },
  {
   "cell_type": "code",
   "execution_count": null,
   "id": "3bf13e16-5be0-4285-80b2-34b24659ab88",
   "metadata": {},
   "outputs": [],
   "source": []
  }
 ],
 "metadata": {
  "kernelspec": {
   "display_name": "Python 3 (ipykernel)",
   "language": "python",
   "name": "python3"
  },
  "language_info": {
   "codemirror_mode": {
    "name": "ipython",
    "version": 3
   },
   "file_extension": ".py",
   "mimetype": "text/x-python",
   "name": "python",
   "nbconvert_exporter": "python",
   "pygments_lexer": "ipython3",
   "version": "3.12.4"
  }
 },
 "nbformat": 4,
 "nbformat_minor": 5
}
