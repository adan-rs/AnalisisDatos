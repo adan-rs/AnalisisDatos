{
 "cells": [
  {
   "cell_type": "markdown",
   "id": "dfc48533-af4c-4575-bbfe-9f5d09bb23b7",
   "metadata": {
    "tags": []
   },
   "source": [
    "# ANOVA de un factor y Prueba Kruskal-Wallis"
   ]
  },
  {
   "cell_type": "markdown",
   "id": "c9301ac2-ae2f-42ce-a4c1-e97a4dfb8a8e",
   "metadata": {},
   "source": [
    "El análisis de varianza (ANOVA) describe a un conjunto técnicas estadísticas que se utilizan para comparar la media entre dos o más grupos. La hipótesis nula es que todas las medias son iguales mientras que la hipótesis alternativa plantea que al menos una es diferente.\n",
    "\n",
    "El análisis de varianza de un factor implica una variable dependiente continua y una variable independiente (llamada factor) que tiene cierto número de niveles. Los diferentes niveles de la variable independiente corresponden a diferente grupos o condiciones. Cuando existen dos o más factores el análisis se le llama análisis de varianza de n factores. Si el conjunto de variables independientes incluye variables cuantitativas (covariables), a la técnica se le llama análisis de covarianza (ANCOVA). Si hay dos o más variables dependientes se le conoce como MANOVA.\n",
    "\n",
    "El análisis de varianza recibe su nombre debido a que compara la variabilidad entre grupos con la variabilidad dentro de los grupos. Se calcula un valor F que representa la variabilidad entre los grupos dividida entre la variabilidad dentro de los grupos. Un valor grande de la F indica que hay más variabilidad entre los grupos (causados por la variable independiente) que la que hay dentro de cada grupo (atribuida al azar).\n",
    "\n",
    "Un valor significativo en la F implica que se rechaza la hipótesis nula, es decir, que al menos una media es diferente. Para determinar qué grupo es diferente se deben llevar a cabo pruebas post-hoc o realizar comparaciones específicas. \n",
    "\n",
    "El ANOVA de un factor requiere el cumplimiento de varios supuestos: las muestras son independientes, la variable dependiente está normalmente distribuida en cada grupo, y las varianzas en cada grupo son iguales. Debido a que la ANOVA se considera como una prueba robusta, variaciones en el cumplimiento de los supuestos de normalidad y homogeneidad de varianzas no afectan de manera importante los resultados si el tamaño de las muestras es igual. "
   ]
  },
  {
   "cell_type": "markdown",
   "id": "dbaae70b-8d65-4411-aaa2-999c0511fbe9",
   "metadata": {},
   "source": [
    "**Caso de uso**\n",
    "Una cadena de comida rápida planea agregar un nuevo producto a su menú, pero están indecisos entre tres posibles campañas de mercadotecnica. Como un experimento, el producto fue introducido en varias ubicaciones seleccionadas aleatoriamente utilizando diferentes campañas. Se registraron las ventas del nuevo producto por las primeras cuatro semanas. El archivo \"marketing.csv\" contiene las siguientes variables:  \n",
    "- MarketID: identificador del mercado\n",
    "- MarketSize: tamaño del mercado de acuerdo a las ventas\n",
    "- LocationID: identificador de la ubicación de la tienda\n",
    "- AgeOfStore: antigüedad de la tienda en años\n",
    "- Promotion: promoción (1 de 3) que fue probada\n",
    "- week: semana en que se llevó a cabo la promoción.\n",
    "- SalesInThousands: ventas para una ubicación específica (LocationID), promoción (Promotion) y semana (week).\n",
    "\n",
    "Para comparar las ventas de acuerdo a las diferentes promociones, utilizaremos una ANOVA  \n",
    "Hipótesis nula: todas las medias son iguales.  \n",
    "Hipótesis alternativa: al menos un par es diferente."
   ]
  },
  {
   "cell_type": "code",
   "execution_count": 1,
   "id": "f79f2270-392d-443a-940e-ce7c84d67305",
   "metadata": {},
   "outputs": [],
   "source": [
    "import pandas as pd\n",
    "import numpy as np"
   ]
  },
  {
   "cell_type": "code",
   "execution_count": 2,
   "id": "2ae78e95-38a7-40ca-b839-bf36fd737d3a",
   "metadata": {},
   "outputs": [],
   "source": [
    "df = pd.read_csv('../datasets/marketing.csv')"
   ]
  },
  {
   "cell_type": "code",
   "execution_count": 3,
   "id": "fd0e0fcb-3617-4873-8e6e-8176d84c3c97",
   "metadata": {},
   "outputs": [
    {
     "name": "stdout",
     "output_type": "stream",
     "text": [
      "<class 'pandas.core.frame.DataFrame'>\n",
      "RangeIndex: 548 entries, 0 to 547\n",
      "Data columns (total 7 columns):\n",
      " #   Column            Non-Null Count  Dtype  \n",
      "---  ------            --------------  -----  \n",
      " 0   MarketID          548 non-null    int64  \n",
      " 1   MarketSize        548 non-null    object \n",
      " 2   LocationID        548 non-null    int64  \n",
      " 3   AgeOfStore        548 non-null    int64  \n",
      " 4   Promotion         548 non-null    int64  \n",
      " 5   week              548 non-null    int64  \n",
      " 6   SalesInThousands  548 non-null    float64\n",
      "dtypes: float64(1), int64(5), object(1)\n",
      "memory usage: 30.1+ KB\n"
     ]
    }
   ],
   "source": [
    "df.info()"
   ]
  },
  {
   "cell_type": "code",
   "execution_count": 4,
   "id": "147d3ef5-2740-4b39-a654-c0958840fb25",
   "metadata": {},
   "outputs": [
    {
     "data": {
      "text/plain": [
       "Promotion\n",
       "3    188\n",
       "2    188\n",
       "1    172\n",
       "Name: count, dtype: int64"
      ]
     },
     "execution_count": 4,
     "metadata": {},
     "output_type": "execute_result"
    }
   ],
   "source": [
    "df['Promotion'].value_counts()"
   ]
  },
  {
   "cell_type": "code",
   "execution_count": 5,
   "id": "6367c3ae-c1c7-4da6-b791-03eb3af7857e",
   "metadata": {},
   "outputs": [
    {
     "data": {
      "text/html": [
       "<div>\n",
       "<style scoped>\n",
       "    .dataframe tbody tr th:only-of-type {\n",
       "        vertical-align: middle;\n",
       "    }\n",
       "\n",
       "    .dataframe tbody tr th {\n",
       "        vertical-align: top;\n",
       "    }\n",
       "\n",
       "    .dataframe thead th {\n",
       "        text-align: right;\n",
       "    }\n",
       "</style>\n",
       "<table border=\"1\" class=\"dataframe\">\n",
       "  <thead>\n",
       "    <tr style=\"text-align: right;\">\n",
       "      <th></th>\n",
       "      <th>MarketID</th>\n",
       "      <th>MarketSize</th>\n",
       "      <th>LocationID</th>\n",
       "      <th>AgeOfStore</th>\n",
       "      <th>Promotion</th>\n",
       "      <th>week</th>\n",
       "      <th>SalesInThousands</th>\n",
       "    </tr>\n",
       "  </thead>\n",
       "  <tbody>\n",
       "    <tr>\n",
       "      <th>285</th>\n",
       "      <td>6</td>\n",
       "      <td>Medium</td>\n",
       "      <td>507</td>\n",
       "      <td>5</td>\n",
       "      <td>2</td>\n",
       "      <td>2</td>\n",
       "      <td>17.34</td>\n",
       "    </tr>\n",
       "    <tr>\n",
       "      <th>301</th>\n",
       "      <td>6</td>\n",
       "      <td>Medium</td>\n",
       "      <td>511</td>\n",
       "      <td>24</td>\n",
       "      <td>3</td>\n",
       "      <td>2</td>\n",
       "      <td>39.41</td>\n",
       "    </tr>\n",
       "    <tr>\n",
       "      <th>73</th>\n",
       "      <td>2</td>\n",
       "      <td>Small</td>\n",
       "      <td>106</td>\n",
       "      <td>5</td>\n",
       "      <td>3</td>\n",
       "      <td>2</td>\n",
       "      <td>62.19</td>\n",
       "    </tr>\n",
       "    <tr>\n",
       "      <th>271</th>\n",
       "      <td>6</td>\n",
       "      <td>Medium</td>\n",
       "      <td>503</td>\n",
       "      <td>2</td>\n",
       "      <td>2</td>\n",
       "      <td>4</td>\n",
       "      <td>37.20</td>\n",
       "    </tr>\n",
       "  </tbody>\n",
       "</table>\n",
       "</div>"
      ],
      "text/plain": [
       "     MarketID MarketSize  LocationID  AgeOfStore  Promotion  week  \\\n",
       "285         6     Medium         507           5          2     2   \n",
       "301         6     Medium         511          24          3     2   \n",
       "73          2      Small         106           5          3     2   \n",
       "271         6     Medium         503           2          2     4   \n",
       "\n",
       "     SalesInThousands  \n",
       "285             17.34  \n",
       "301             39.41  \n",
       "73              62.19  \n",
       "271             37.20  "
      ]
     },
     "execution_count": 5,
     "metadata": {},
     "output_type": "execute_result"
    }
   ],
   "source": [
    "df.sample(4)"
   ]
  },
  {
   "cell_type": "markdown",
   "id": "3fa3a570-85a2-48c0-8d77-8a7aa8a174df",
   "metadata": {},
   "source": [
    "## Supuesto de igualdad de varianzas"
   ]
  },
  {
   "cell_type": "code",
   "execution_count": 4,
   "id": "469f8cd4-6abc-4797-bc70-c7a55961ea1e",
   "metadata": {},
   "outputs": [],
   "source": [
    "from scipy.stats import levene\n",
    "\n",
    "def compare_variances(data, group_column, measure_column, groups=None, alpha=0.05):\n",
    "    \"\"\"\n",
    "    Realiza e interpreta una prueba de Levene para comparar varianzas entre múltiples grupos.   \n",
    "    Args:\n",
    "        data: DataFrame con los datos\n",
    "        group_column: Nombre de la columna que identifica los grupos\n",
    "        measure_column: Nombre de la columna con la variable a comparar\n",
    "        groups: Lista de grupos a comparar (si es None, usa todos los grupos encontrados)\n",
    "        alpha: Nivel de significancia (default: 0.05)\n",
    "    Returns:\n",
    "        p-value\n",
    "    \"\"\"\n",
    "    # Identificar grupos si no se especifican\n",
    "    grupos_disponibles = data[group_column].unique()\n",
    "    if len(grupos_disponibles) < 2:\n",
    "        raise ValueError(f\"La columna {group_column} debe tener al menos dos grupos\")\n",
    "    \n",
    "    # Usar grupos especificados o todos los disponibles\n",
    "    grupos = groups if groups is not None else grupos_disponibles\n",
    "    \n",
    "    # Verificar que todos los grupos especificados existen\n",
    "    grupos_invalidos = set(grupos) - set(grupos_disponibles)\n",
    "    if grupos_invalidos:\n",
    "        raise ValueError(f\"Grupos no encontrados en los datos: {grupos_invalidos}\")\n",
    "    \n",
    "    # Obtener datos de cada grupo\n",
    "    datos_grupos = [data[data[group_column] == grupo][measure_column] for grupo in grupos]\n",
    "    \n",
    "    # Calcular estadísticas por grupo\n",
    "    stats = pd.DataFrame({\n",
    "        'n': [len(datos) for datos in datos_grupos],\n",
    "        'varianza': [datos.var() for datos in datos_grupos],\n",
    "        'desv_std': [datos.std() for datos in datos_grupos]\n",
    "    }, index=grupos)\n",
    "    \n",
    "    # Realizar prueba de Levene\n",
    "    stat, p_value = levene(*datos_grupos)\n",
    "    \n",
    "    # Preparar interpretación\n",
    "    es_significativo = p_value < alpha\n",
    "    interpretacion = (f\"Prueba de Levene para {len(grupos)} grupos\\n\"\n",
    "                     f\"Estadístico de Levene: {stat:.4f}\\n\"\n",
    "                     f\"Valor p: {p_value:.4f}\\n\\n\"\n",
    "                     \"Estadísticas por grupo:\\n\")\n",
    "    \n",
    "    # Añadir estadísticas de cada grupo\n",
    "    for grupo in grupos:\n",
    "        n = stats.loc[grupo, 'n']\n",
    "        var = stats.loc[grupo, 'varianza']\n",
    "        std = stats.loc[grupo, 'desv_std']\n",
    "        interpretacion += f\"{grupo}: n={n}, varianza={var:.2f}, desv. estándar={std:.2f}\\n\"\n",
    "    \n",
    "    # Añadir conclusión\n",
    "    interpretacion += f\"\\nConclusión: {'Se rechaza' if es_significativo else 'No se rechaza'} \"\n",
    "    interpretacion += \"la hipótesis nula de igualdad de varianzas\"\n",
    "    interpretacion += (\" (hay diferencias significativas en las varianzas entre los grupos)\" \n",
    "                      if es_significativo \n",
    "                      else \"\\n (no hay evidencia de diferencias significativas en las varianzas)\")\n",
    "    \n",
    "    print(interpretacion)\n",
    "    return p_value"
   ]
  },
  {
   "cell_type": "code",
   "execution_count": 8,
   "id": "559ad331-cc1f-4e0e-b1ef-bbb3ef391ca1",
   "metadata": {},
   "outputs": [
    {
     "name": "stdout",
     "output_type": "stream",
     "text": [
      "Prueba de Levene para 3 grupos\n",
      "Estadístico de Levene: 1.2697\n",
      "Valor p: 0.2818\n",
      "\n",
      "Estadísticas por grupo:\n",
      "3: n=188, varianza=281.11, desv. estándar=16.77\n",
      "2: n=188, varianza=228.28, desv. estándar=15.11\n",
      "1: n=172, varianza=274.03, desv. estándar=16.55\n",
      "\n",
      "Conclusión: No se rechaza la hipótesis nula de igualdad de varianzas\n",
      " (no hay evidencia de diferencias significativas en las varianzas)\n"
     ]
    }
   ],
   "source": [
    "resultados_levene = compare_variances(df,'Promotion', 'SalesInThousands')"
   ]
  },
  {
   "cell_type": "markdown",
   "id": "bbbd9b9a-b4cf-46be-98ff-c8a437ef20cc",
   "metadata": {},
   "source": [
    "## Supuesto de normalidad"
   ]
  },
  {
   "cell_type": "code",
   "execution_count": 26,
   "id": "4042eb23-c4fc-49db-b5ac-e20c8346c03d",
   "metadata": {},
   "outputs": [],
   "source": [
    "from scipy import stats\n",
    "import pandas as pd\n",
    "\n",
    "def test_ks_normality(df, group_column, measure_column):\n",
    "    \"\"\"\n",
    "    Realiza la prueba de Kolmogorov-Smirnov para evaluar normalidad por grupos\n",
    "    Args:\n",
    "        df: DataFrame con los datos\n",
    "        group_col: Nombre de la columna de agrupación\n",
    "        value_col: Nombre de la columna con valores a evaluar\n",
    "    Returns:\n",
    "        DataFrame con resultados de la prueba por grupo\n",
    "    \"\"\"\n",
    "    results = []\n",
    "    for group in df[group_column].unique():\n",
    "        data = df[df[group_column] == group][measure_column]\n",
    "        stat, pval = stats.kstest(data, 'norm', args=(data.mean(), data.std()))\n",
    "        results.append({'grupo': group,'estadistico_ks': stat.round(4),'valor_p': pval.round(4)})\n",
    "        \n",
    "    return pd.DataFrame(results)"
   ]
  },
  {
   "cell_type": "code",
   "execution_count": 27,
   "id": "4b3c2bc7-f4bf-4ea8-b5f0-64fb371a1916",
   "metadata": {},
   "outputs": [
    {
     "data": {
      "text/html": [
       "<div>\n",
       "<style scoped>\n",
       "    .dataframe tbody tr th:only-of-type {\n",
       "        vertical-align: middle;\n",
       "    }\n",
       "\n",
       "    .dataframe tbody tr th {\n",
       "        vertical-align: top;\n",
       "    }\n",
       "\n",
       "    .dataframe thead th {\n",
       "        text-align: right;\n",
       "    }\n",
       "</style>\n",
       "<table border=\"1\" class=\"dataframe\">\n",
       "  <thead>\n",
       "    <tr style=\"text-align: right;\">\n",
       "      <th></th>\n",
       "      <th>grupo</th>\n",
       "      <th>estadistico_ks</th>\n",
       "      <th>valor_p</th>\n",
       "    </tr>\n",
       "  </thead>\n",
       "  <tbody>\n",
       "    <tr>\n",
       "      <th>0</th>\n",
       "      <td>3</td>\n",
       "      <td>0.1459</td>\n",
       "      <td>0.0006</td>\n",
       "    </tr>\n",
       "    <tr>\n",
       "      <th>1</th>\n",
       "      <td>2</td>\n",
       "      <td>0.1425</td>\n",
       "      <td>0.0009</td>\n",
       "    </tr>\n",
       "    <tr>\n",
       "      <th>2</th>\n",
       "      <td>1</td>\n",
       "      <td>0.1227</td>\n",
       "      <td>0.0103</td>\n",
       "    </tr>\n",
       "  </tbody>\n",
       "</table>\n",
       "</div>"
      ],
      "text/plain": [
       "   grupo  estadistico_ks  valor_p\n",
       "0      3          0.1459   0.0006\n",
       "1      2          0.1425   0.0009\n",
       "2      1          0.1227   0.0103"
      ]
     },
     "execution_count": 27,
     "metadata": {},
     "output_type": "execute_result"
    }
   ],
   "source": [
    "normalidad = test_ks_normality(df,'Promotion', 'SalesInThousands')\n",
    "normalidad"
   ]
  },
  {
   "cell_type": "markdown",
   "id": "ce26e2f6-5c8d-43ba-8629-0cf492ced1ed",
   "metadata": {},
   "source": [
    "Sin embargo, varios estudios muestran que la prueba ANOVA es robusta ante violaciones de la normalidad si:\n",
    "- Los grupos tienen un tamaño similar\n",
    "- Hay por lo menos 40 observaciones en cada grupo."
   ]
  },
  {
   "cell_type": "markdown",
   "id": "430a573e-6616-484c-b264-fee1fa4cdc67",
   "metadata": {},
   "source": [
    "## ANOVA"
   ]
  },
  {
   "cell_type": "code",
   "execution_count": 28,
   "id": "05800207-266b-4d6f-ab93-81a8b7af2ca3",
   "metadata": {},
   "outputs": [],
   "source": [
    "from scipy.stats import f_oneway\n",
    "\n",
    "def realizar_anova(df, group_column, measure_column, alpha=0.05):\n",
    "    \"\"\"\n",
    "    Realiza prueba ANOVA de una vía para comparar medias entre grupos.\n",
    "    Parámetros:\n",
    "    df (pandas.DataFrame): DataFrame con los datos\n",
    "    grupo_col (str): Nombre de la columna que contiene los grupos\n",
    "    valor_col (str): Nombre de la columna con los valores a comparar\n",
    "    alpha (float): Nivel de significancia (default 0.05)\n",
    "    Retorna:\n",
    "    p-value\n",
    "    \"\"\"\n",
    "    # Crear valores por grupo\n",
    "    grupos = df[group_column].unique()\n",
    "    valores_grupos = [df[df[group_column] == grupo][measure_column] for grupo in grupos]\n",
    "    \n",
    "    # Realizar prueba ANOVA\n",
    "    statistic, p_value = f_oneway(*valores_grupos)\n",
    "    \n",
    "    # Determinar resultado\n",
    "    resultado = \"Se rechaza la hipótesis nula: hay al menos una diferencia significativa entre los grupos.\" if p_value < alpha else \"No se puede rechazar la hipótesis nula: no hay suficiente evidencia para afirmar que hay diferencias significativas entre los grupos.\"\n",
    "\n",
    "    print(f'Estadistico {statistic:.4f}')\n",
    "    print(f'Valor p: {p_value:.4f}')\n",
    "    print(resultado)\n",
    "    \n",
    "    return  p_value"
   ]
  },
  {
   "cell_type": "code",
   "execution_count": 29,
   "id": "214d203c-06e8-4c6f-9d4d-ee72716f2090",
   "metadata": {},
   "outputs": [
    {
     "name": "stdout",
     "output_type": "stream",
     "text": [
      "Estadistico 21.9535\n",
      "Valor p: 0.0000\n",
      "Se rechaza la hipótesis nula: hay al menos una diferencia significativa entre los grupos.\n"
     ]
    }
   ],
   "source": [
    "resultado = realizar_anova(df,'Promotion', 'SalesInThousands')"
   ]
  },
  {
   "cell_type": "markdown",
   "id": "1350cdd5-82bb-4a3b-8740-098692bfdafd",
   "metadata": {},
   "source": [
    "La tabla ANOVA no indica qué grupo es diferente al resto, sin embargo, las pruebas post-hoc son útiles para detectar qué grupo es diferente al resto. \n",
    "- LSD/DMS (Diferencia menos significativa): Es el equivalente a múltiples pruebas t, no se hacen correcciones y los resultados no son precisos.\n",
    "- Bonferroni: Corrige el nivel de significancia dividiéndolo entre el número de grupos. Es preferible cuando son pocas comparaciones. \n",
    "- Tukey: Preferible cuando son muchas comparaciones. Es deseable que el tamaño de cada grupo sea igual. \n",
    "- REGWQ (Ryan-Einot-Gabriel-Welsh): Recomendable, pero se debe evitar cuando las muestras son de diferente tamaño.\n",
    "- Dunnett: Es apropiada cuando se desea comparar con un grupo de control.\n",
    "- Gabriel: Apropiada cuando el tamaño de las muestras es ligeramente diferente.\n",
    "- GT2 de Hochberg: Apropiadas cuando el tamaño de las muestras es muy diferente\n",
    "- Games- Howell: Recomendable cuando las varianzas son diferentes.\n",
    "\n",
    "La librería statsmodel permite realizar la prueba de Tukey, Bonferroni y Dunnet"
   ]
  },
  {
   "cell_type": "code",
   "execution_count": 48,
   "id": "74e33c4e-aa28-48ec-8026-a2c87cc0f766",
   "metadata": {},
   "outputs": [],
   "source": [
    "def post_hoc_test(data, group_column, value_column, test_type='tukey', control_group=None, alpha=0.05):\n",
    "    \"\"\"\n",
    "    Realiza pruebas post hoc múltiples: Tukey o Bonferroni.\n",
    "    Parámetros:\n",
    "    data: DataFrame que contiene los datos\n",
    "    group_column: Nombre de la columna que contiene los grupos\n",
    "    value_column: Nombre de la columna que contiene los valores a comparar\n",
    "    test_type: Tipo de prueba ('tukey', 'bonferroni')\n",
    "    alpha : Nivel de significancia (por defecto 0.05)\n",
    "    Retorna:\n",
    "    Objeto con resultados de la prueba seleccionada\n",
    "    \"\"\"\n",
    "    from statsmodels.stats.multicomp import MultiComparison\n",
    "    from statsmodels.stats.multicomp import pairwise_tukeyhsd\n",
    "    \n",
    "    mc = MultiComparison(data[value_column], data[group_column])\n",
    "    \n",
    "    if test_type.lower() == 'tukey':\n",
    "        print(mc.tukeyhsd(alpha=alpha))\n",
    "    \n",
    "    elif test_type.lower() == 'bonferroni':\n",
    "        print(mc.allpairtest(stats.ttest_ind, method='bonf')[0])\n",
    "    \n",
    "    else:\n",
    "        raise ValueError(\"Tipo de prueba no válido. Usar 'tukey' o 'bonferroni'\")"
   ]
  },
  {
   "cell_type": "code",
   "execution_count": 49,
   "id": "29c52f95-f83e-4029-a215-30234dd45ff8",
   "metadata": {},
   "outputs": [
    {
     "name": "stdout",
     "output_type": "stream",
     "text": [
      " Multiple Comparison of Means - Tukey HSD, FWER=0.05 \n",
      "=====================================================\n",
      "group1 group2 meandiff p-adj   lower    upper  reject\n",
      "-----------------------------------------------------\n",
      "     1      2 -10.7696    0.0 -14.7738 -6.7654   True\n",
      "     1      3  -2.7345 0.2444  -6.7388  1.2697  False\n",
      "     2      3   8.0351    0.0   4.1208 11.9493   True\n",
      "-----------------------------------------------------\n"
     ]
    }
   ],
   "source": [
    "resultado_tukey = post_hoc_test(df, \"Promotion\", \"SalesInThousands\", test_type='tukey')\n",
    "resultado_tukey"
   ]
  },
  {
   "cell_type": "code",
   "execution_count": 55,
   "id": "f113cfd0-7134-45e0-9e74-cbdbe898259d",
   "metadata": {},
   "outputs": [
    {
     "name": "stdout",
     "output_type": "stream",
     "text": [
      "Test Multiple Comparison ttest_ind \n",
      "FWER=0.05 method=bonf\n",
      "alphacSidak=0.02, alphacBonf=0.017\n",
      "=============================================\n",
      "group1 group2   stat   pval  pval_corr reject\n",
      "---------------------------------------------\n",
      "     1      2  6.4537    0.0       0.0   True\n",
      "     1      3  1.5551 0.1208    0.3624  False\n",
      "     2      3 -4.8814    0.0       0.0   True\n",
      "---------------------------------------------\n"
     ]
    }
   ],
   "source": [
    "resultado_bonferroni = post_hoc_test(df, \"Promotion\", \"SalesInThousands\", test_type='bonferroni')\n",
    "resultado_bonferroni"
   ]
  },
  {
   "cell_type": "markdown",
   "id": "b3ac4869-9bb9-4372-8f20-c4a920285f86",
   "metadata": {},
   "source": [
    "Ejemplo de redacción de conclusiones: \n",
    "\n",
    ">Se realizó un ANOVA de un factor para analizar cómo ________ influye en _________. Los resultados muestran que _________tiene un efecto significativo en __________, F(_,_) = ___, p = ___. Las comparaciones post-hoc utilizando el método de Tukey HSD indican que la media de ______ es significativamente diferente a la media de _________ y _______"
   ]
  },
  {
   "cell_type": "markdown",
   "id": "b102d7c2-7566-4f72-9f2c-3a22bae9098e",
   "metadata": {
    "tags": []
   },
   "source": [
    "## Prueba Kruskal-Wallis"
   ]
  },
  {
   "cell_type": "code",
   "execution_count": 63,
   "id": "7dadbfa2-e47f-41e9-aeed-be31d322407c",
   "metadata": {},
   "outputs": [],
   "source": [
    "from scipy.stats import kruskal\n",
    "import pandas as pd\n",
    "\n",
    "def kruskal_test(df: pd.DataFrame, group_col: str, value_col: str, alpha: float = 0.05) -> dict:\n",
    "    \"\"\"\n",
    "    Realiza la prueba de Kruskal-Wallis para comparar múltiples grupos.\n",
    "    Args:\n",
    "        df: DataFrame con los datos\n",
    "        group_col: Nombre de la columna que contiene los grupos\n",
    "        value_col: Nombre de la columna con los valores a comparar\n",
    "        alpha: Nivel de significancia (por defecto 0.05)  \n",
    "    Returns:\n",
    "        dict: Diccionario con los resultados de la prueba\n",
    "    \"\"\"\n",
    "    # Obtener grupos únicos\n",
    "    grupos = [df[df[group_col] == g][value_col] for g in df[group_col].unique()]\n",
    "    \n",
    "    # Realizar prueba Kruskal-Wallis\n",
    "    statistic, p_value = kruskal(*grupos)\n",
    "    \n",
    "    # Preparar resultados\n",
    "    resultados = {\n",
    "        'estadistico': statistic,\n",
    "        'p_valor': p_value,\n",
    "        'alfa': alpha,\n",
    "        'decision': 'Se rechaza H0' if p_value < alpha else 'No se rechaza H0',\n",
    "        'interpretacion': ('Hay evidencia de diferencias significativas entre los grupos.' \n",
    "                         if p_value < alpha \n",
    "                         else 'No hay suficiente evidencia para afirmar diferencias significativas entre los grupos.')}\n",
    "    \n",
    "    return resultados"
   ]
  },
  {
   "cell_type": "code",
   "execution_count": 62,
   "id": "c3d8e44b-1685-4192-8e28-36093c46a263",
   "metadata": {},
   "outputs": [
    {
     "name": "stdout",
     "output_type": "stream",
     "text": [
      "Estadístico: 53.2948\n",
      "Valor p: 0.0000\n",
      "Decisión: Se rechaza H0\n",
      "Interpretación: Hay evidencia de diferencias significativas entre los grupos.\n"
     ]
    }
   ],
   "source": [
    "# Ejemplo de uso:\n",
    "resultados = kruskal_test(df, 'Promotion', 'SalesInThousands')\n",
    "print(f\"Estadístico: {resultados['estadistico']:.4f}\")\n",
    "print(f\"Valor p: {resultados['p_valor']:.4f}\")\n",
    "print(f\"Decisión: {resultados['decision']}\")\n",
    "print(f\"Interpretación: {resultados['interpretacion']}\")"
   ]
  },
  {
   "cell_type": "code",
   "execution_count": null,
   "id": "ecd28793-f8b3-441f-8eda-ebe646b7b018",
   "metadata": {},
   "outputs": [],
   "source": []
  }
 ],
 "metadata": {
  "kernelspec": {
   "display_name": "Python 3 (ipykernel)",
   "language": "python",
   "name": "python3"
  },
  "language_info": {
   "codemirror_mode": {
    "name": "ipython",
    "version": 3
   },
   "file_extension": ".py",
   "mimetype": "text/x-python",
   "name": "python",
   "nbconvert_exporter": "python",
   "pygments_lexer": "ipython3",
   "version": "3.12.4"
  }
 },
 "nbformat": 4,
 "nbformat_minor": 5
}
