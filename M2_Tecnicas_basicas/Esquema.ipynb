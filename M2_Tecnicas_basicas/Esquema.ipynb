{
 "cells": [
  {
   "cell_type": "code",
   "execution_count": 1,
   "id": "88ae5bfe-d729-49f8-9be0-0587836c9f28",
   "metadata": {},
   "outputs": [
    {
     "ename": "ModuleNotFoundError",
     "evalue": "No module named 'graphviz'",
     "output_type": "error",
     "traceback": [
      "\u001b[1;31m---------------------------------------------------------------------------\u001b[0m",
      "\u001b[1;31mModuleNotFoundError\u001b[0m                       Traceback (most recent call last)",
      "Cell \u001b[1;32mIn[1], line 1\u001b[0m\n\u001b[1;32m----> 1\u001b[0m \u001b[38;5;28;01mfrom\u001b[39;00m \u001b[38;5;21;01mgraphviz\u001b[39;00m \u001b[38;5;28;01mimport\u001b[39;00m Digraph\n\u001b[0;32m      3\u001b[0m \u001b[38;5;28;01mdef\u001b[39;00m \u001b[38;5;21mcrear_diagrama_flujo\u001b[39m():\n\u001b[0;32m      4\u001b[0m     \u001b[38;5;66;03m# Crear un nuevo grafo\u001b[39;00m\n\u001b[0;32m      5\u001b[0m     dot \u001b[38;5;241m=\u001b[39m Digraph(comment\u001b[38;5;241m=\u001b[39m\u001b[38;5;124m'\u001b[39m\u001b[38;5;124mDiagrama de Flujo - compare_proportions\u001b[39m\u001b[38;5;124m'\u001b[39m)\n",
      "\u001b[1;31mModuleNotFoundError\u001b[0m: No module named 'graphviz'"
     ]
    }
   ],
   "source": [
    "from graphviz import Digraph\n",
    "\n",
    "def crear_diagrama_flujo():\n",
    "    # Crear un nuevo grafo\n",
    "    dot = Digraph(comment='Diagrama de Flujo - compare_proportions')\n",
    "    dot.attr(rankdir='TB')  # TB = top to bottom\n",
    "\n",
    "    # Estilo para los nodos\n",
    "    dot.attr('node', shape='box', style='rounded')\n",
    "    \n",
    "    # Estilo para los nodos de decisión\n",
    "    decision_style = {'shape': 'diamond', 'style': 'filled', 'fillcolor': 'lightgray'}\n",
    "    \n",
    "    # Añadir nodos\n",
    "    dot.node('A', 'Inicio')\n",
    "    dot.node('B', 'Recibir DataFrame\\ny parámetros')\n",
    "    dot.node('C', '¿Hay exactamente\\n2 categorías?', **decision_style)\n",
    "    dot.node('D', 'Error: Se necesitan\\nexactamente 2 categorías')\n",
    "    dot.node('E', '¿Se especificó\\ncategoría de éxito?', **decision_style)\n",
    "    dot.node('F', 'Usar primera categoría\\ncomo éxito')\n",
    "    dot.node('G', '¿La categoría existe\\nen los datos?', **decision_style)\n",
    "    dot.node('H', 'Error: Categoría\\nno existe')\n",
    "    dot.node('I', 'Convertir datos a binario')\n",
    "    dot.node('J', 'Calcular estadísticos por grupo:\\n- Suma de éxitos\\n- Total de casos\\n- Proporciones')\n",
    "    dot.node('K', 'Realizar prueba Z\\nde proporciones')\n",
    "    dot.node('L', 'Calcular p-valor')\n",
    "    dot.node('M', 'p-valor < alpha?', **decision_style)\n",
    "    dot.node('N', 'Rechazar hipótesis nula:\\nHay diferencias significativas')\n",
    "    dot.node('O', 'No rechazar hipótesis nula:\\nNo hay diferencias significativas')\n",
    "    dot.node('P', 'Mostrar resultados:\\n- Estadístico Z\\n- P-valor\\n- Proporciones por grupo\\n- Interpretación')\n",
    "    dot.node('Q', 'Retornar p-valor')\n",
    "\n",
    "    # Añadir conexiones\n",
    "    dot.edge('A', 'B')\n",
    "    dot.edge('B', 'C')\n",
    "    dot.edge('C', 'D', 'No')\n",
    "    dot.edge('C', 'E', 'Sí')\n",
    "    dot.edge('E', 'F', 'No')\n",
    "    dot.edge('E', 'G', 'Sí')\n",
    "    dot.edge('G', 'H', 'No')\n",
    "    dot.edge('G', 'I', 'Sí')\n",
    "    dot.edge('F', 'I')\n",
    "    dot.edge('I', 'J')\n",
    "    dot.edge('J', 'K')\n",
    "    dot.edge('K', 'L')\n",
    "    dot.edge('L', 'M')\n",
    "    dot.edge('M', 'N', 'Sí')\n",
    "    dot.edge('M', 'O', 'No')\n",
    "    dot.edge('N', 'P')\n",
    "    dot.edge('O', 'P')\n",
    "    dot.edge('P', 'Q')\n",
    "\n",
    "    return dot\n",
    "\n",
    "# Crear y mostrar el diagrama\n",
    "diagrama = crear_diagrama_flujo()"
   ]
  },
  {
   "cell_type": "code",
   "execution_count": null,
   "id": "3cd5a696-d863-4510-8e2c-30469c11eda8",
   "metadata": {},
   "outputs": [],
   "source": []
  }
 ],
 "metadata": {
  "kernelspec": {
   "display_name": "Python 3 (ipykernel)",
   "language": "python",
   "name": "python3"
  },
  "language_info": {
   "codemirror_mode": {
    "name": "ipython",
    "version": 3
   },
   "file_extension": ".py",
   "mimetype": "text/x-python",
   "name": "python",
   "nbconvert_exporter": "python",
   "pygments_lexer": "ipython3",
   "version": "3.12.4"
  }
 },
 "nbformat": 4,
 "nbformat_minor": 5
}
