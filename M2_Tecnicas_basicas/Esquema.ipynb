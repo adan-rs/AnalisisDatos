{
 "cells": [
  {
   "cell_type": "code",
   "execution_count": null,
   "id": "453ad828-b1bd-4260-b943-46bf7921af53",
   "metadata": {},
   "outputs": [],
   "source": [
    "from IPython.core.display import display, HTML"
   ]
  },
  {
   "cell_type": "code",
   "execution_count": null,
   "id": "0a0faccf-175f-4325-9afe-4506eab05eab",
   "metadata": {},
   "outputs": [],
   "source": [
    "mermaid_code = \"\"\"\n",
    "<div class=\"mermaid\">\n",
    "flowchart TD\n",
    "    A[Inicio] --> B[Recibir DataFrame y parámetros]\n",
    "    B --> C{¿Hay exactamente\\n2 categorías?}\n",
    "    \n",
    "    C -->|No| D[Error: Se necesitan\\nexactamente 2 categorías]\n",
    "    C -->|Sí| E{¿Se especificó\\ncategoría de éxito?}\n",
    "    \n",
    "    E -->|No| F[Usar primera categoría\\ncomo éxito]\n",
    "    E -->|Sí| G{¿La categoría existe\\nen los datos?}\n",
    "    \n",
    "    G -->|No| H[Error: Categoría\\nno existe]\n",
    "    G -->|Sí| I[Convertir datos a binario]\n",
    "    F --> I\n",
    "    \n",
    "    I --> J[Calcular estadísticos por grupo:\\n- Suma de éxitos\\n- Total de casos\\n- Proporciones]\n",
    "    \n",
    "    J --> K[Realizar prueba Z\\nde proporciones]\n",
    "    \n",
    "    K --> L[Calcular p-valor]\n",
    "    \n",
    "    L --> M{p-valor < alpha?}\n",
    "    \n",
    "    M -->|Sí| N[Rechazar hipótesis nula:\\nHay diferencias significativas]\n",
    "    M -->|No| O[No rechazar hipótesis nula:\\nNo hay diferencias significativas]\n",
    "    \n",
    "    N --> P[Mostrar resultados:\\n- Estadístico Z\\n- P-valor\\n- Proporciones por grupo\\n- Interpretación]\n",
    "    O --> P\n",
    "    \n",
    "    P --> Q[Retornar p-valor]\n",
    "</div>\n",
    "<script type=\"module\">\n",
    "    import mermaid from 'https://cdn.jsdelivr.net/npm/mermaid@10/dist/mermaid.esm.min.mjs';\n",
    "    mermaid.initialize({ startOnLoad: true });\n",
    "</script>\n",
    "\"\"\"\n",
    "display(HTML(mermaid_code))\n",
    "\n"
   ]
  }
 ],
 "metadata": {
  "kernelspec": {
   "display_name": "Python 3 (ipykernel)",
   "language": "python",
   "name": "python3"
  },
  "language_info": {
   "codemirror_mode": {
    "name": "ipython",
    "version": 3
   },
   "file_extension": ".py",
   "mimetype": "text/x-python",
   "name": "python",
   "nbconvert_exporter": "python",
   "pygments_lexer": "ipython3",
   "version": "3.12.4"
  }
 },
 "nbformat": 4,
 "nbformat_minor": 5
}
