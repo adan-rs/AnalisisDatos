{
 "cells": [
  {
   "cell_type": "markdown",
   "id": "654ce25b-dd8f-4688-9063-09e6a8ed74ac",
   "metadata": {},
   "source": [
    "# Práctica 04"
   ]
  },
  {
   "cell_type": "markdown",
   "id": "cd90789d-d0d1-4ce2-8ba6-fcf264ea4c7b",
   "metadata": {},
   "source": [
    "El archivo \"b08_practica\" contiene las siguientes variables de un experimento en el cual se compararon dos campañas ('control' y 'test') para ventas en línea:  \n",
    "- Campaña: Nombre de la campaña.\n",
    "- Fecha: Día del registro.\n",
    "- Gasto: Cantidad gastada en la campaña en dólares.\n",
    "- Impresiones: Número de impresiones del anuncio a través de la campaña\n",
    "- Alcance: Número de impresiones únicas recibidas por el anuncio\n",
    "- Búsquedas: Número de usuarios que realizaron búsquedas en el sitio web.\n",
    "- Vistas: Número de usuarios que vieron contenido y productos en el sitio web.\n",
    "- NumCarritos: Número de usuarios que agregaron productos al 'carrito'.\n",
    "- Compras: Número de compras\n",
    "\n",
    "Compara las diferentes métricas y aconseja cuál campaña de publicidad es mejor"
   ]
  },
  {
   "cell_type": "code",
   "execution_count": null,
   "id": "32fef09c-be2e-44d3-952d-1ca88b721248",
   "metadata": {},
   "outputs": [],
   "source": [
    "import pandas as pd"
   ]
  },
  {
   "cell_type": "code",
   "execution_count": null,
   "id": "bf52dd66-855d-4118-adf2-4f2759778753",
   "metadata": {},
   "outputs": [],
   "source": [
    "df = pd.read_excel('https://github.com/adan-rs/AnalisisDatos/raw/main/datasets/practica.xlsx')"
   ]
  },
  {
   "cell_type": "code",
   "execution_count": null,
   "id": "770b879a-6bcc-4cea-a4c2-b747904e95b5",
   "metadata": {},
   "outputs": [],
   "source": []
  }
 ],
 "metadata": {
  "kernelspec": {
   "display_name": "Python 3 (ipykernel)",
   "language": "python",
   "name": "python3"
  },
  "language_info": {
   "codemirror_mode": {
    "name": "ipython",
    "version": 3
   },
   "file_extension": ".py",
   "mimetype": "text/x-python",
   "name": "python",
   "nbconvert_exporter": "python",
   "pygments_lexer": "ipython3",
   "version": "3.12.4"
  }
 },
 "nbformat": 4,
 "nbformat_minor": 5
}
