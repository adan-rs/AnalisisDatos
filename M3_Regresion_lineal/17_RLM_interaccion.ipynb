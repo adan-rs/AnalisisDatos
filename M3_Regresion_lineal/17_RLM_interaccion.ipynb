{
 "cells": [
  {
   "cell_type": "markdown",
   "id": "4c585a81-f05d-4593-a9e5-246d75f42127",
   "metadata": {},
   "source": [
    "# Análisis de regresión: interacción"
   ]
  },
  {
   "cell_type": "code",
   "execution_count": null,
   "id": "7f22c4a7-fded-415d-90f4-a1cb981a793f",
   "metadata": {},
   "outputs": [],
   "source": [
    "import pandas as pd\n",
    "import numpy as np\n",
    "import matplotlib.pyplot as plt\n",
    "import seaborn as sns\n",
    "import statsmodels.api as sm"
   ]
  },
  {
   "cell_type": "code",
   "execution_count": null,
   "id": "6f6fb099-c65f-4f96-badb-a3032410407e",
   "metadata": {},
   "outputs": [],
   "source": [
    "df = pd.read_excel('https://github.com/adan-rs/AnalisisDatos/raw/main/datasets/casas.xlsx', \n",
    "                   usecols=['preciomillones', 'construccion', 'tipo'])"
   ]
  },
  {
   "cell_type": "code",
   "execution_count": null,
   "id": "ad8146cf-ad83-42c6-9c2e-2db95e26f3b1",
   "metadata": {},
   "outputs": [],
   "source": [
    "df.info()"
   ]
  },
  {
   "cell_type": "code",
   "execution_count": null,
   "id": "cd95a20d-6a7d-404b-ba3a-48cfdd0bab19",
   "metadata": {},
   "outputs": [],
   "source": [
    "df.head()"
   ]
  },
  {
   "cell_type": "code",
   "execution_count": null,
   "id": "9be9ff10-3c7c-459c-8a8b-ab64c7552de5",
   "metadata": {},
   "outputs": [],
   "source": [
    "# Definir las variables dependiente e independientes\n",
    "y = df['preciomillones']\n",
    "X = df[['construccion', 'tipo']]\n",
    "# Añadir una constante al conjunto de datos\n",
    "X = sm.add_constant(X)\n",
    "# Crear el modelo de regresión lineal con término de interacción\n",
    "modelo = sm.OLS(y, X)\n",
    "# Ajustar el modelo a los datos\n",
    "resultado = modelo.fit()\n",
    "# Mostrar los resultados del modelo\n",
    "resultado.summary()"
   ]
  },
  {
   "cell_type": "code",
   "execution_count": null,
   "id": "f3345290-9a5b-44cd-8995-48b7ea6dc084",
   "metadata": {},
   "outputs": [],
   "source": [
    "sns.scatterplot(data=df, x='construccion', y='preciomillones', hue='tipo')"
   ]
  },
  {
   "cell_type": "code",
   "execution_count": null,
   "id": "d89f622d-0dbb-4272-9f52-2887c42933e0",
   "metadata": {},
   "outputs": [],
   "source": [
    "# Calcular el término de interacción\n",
    "df['construccion_tipo'] = df['construccion'] * df['tipo']\n",
    "df.head(3)"
   ]
  },
  {
   "cell_type": "code",
   "execution_count": null,
   "id": "b6129feb-b57d-4b5c-b68f-d5bf8ba0b4db",
   "metadata": {},
   "outputs": [],
   "source": [
    "# Definir las variables dependiente e independientes\n",
    "y = df['preciomillones']\n",
    "X = df[['construccion', 'tipo', 'construccion_tipo']]\n",
    "# Añadir una constante al conjunto de datos\n",
    "X = sm.add_constant(X)\n",
    "# Crear el modelo de regresión lineal con término de interacción\n",
    "modelo = sm.OLS(y, X)\n",
    "# Ajustar el modelo a los datos\n",
    "resultado = modelo.fit()\n",
    "# Mostrar los resultados del modelo\n",
    "resultado.summary()"
   ]
  },
  {
   "cell_type": "markdown",
   "id": "acfc024e-912d-4d42-b762-c94589d5df67",
   "metadata": {},
   "source": [
    "**Interpretación**: El término de interacción indica cómo varía la relación entre la variable independiente y la dependiente de acuerdo a una tercera variable. En este caso, como el coeficiente del término de interacción es negativo significa que el efecto de los metros cuadrados en el precio de venta es menor para los departamentos (tipo=1) que para las casas (tipo=0). es decir, cada metro cuadrado adicional de construcción aumenta menos los precios de los departamentos que de las casas."
   ]
  },
  {
   "cell_type": "code",
   "execution_count": null,
   "id": "72de6895-fbf4-4bbd-9806-1d1b90acec9f",
   "metadata": {},
   "outputs": [],
   "source": [
    "sns.lmplot(x='construccion', y='preciomillones', data=df, hue='tipo', markers=['o', 's']);"
   ]
  },
  {
   "cell_type": "code",
   "execution_count": null,
   "id": "69f95300-9fde-4c85-a8d6-e24df89c582f",
   "metadata": {},
   "outputs": [],
   "source": [
    "# Pronóstico\n",
    "nuevos_valores = [1,500,1,500]\n",
    "resultado.predict(nuevos_valores)"
   ]
  },
  {
   "cell_type": "code",
   "execution_count": null,
   "id": "ba25c34e-19ea-4c60-b765-a8386b3500e6",
   "metadata": {},
   "outputs": [],
   "source": []
  }
 ],
 "metadata": {
  "kernelspec": {
   "display_name": "Python 3 (ipykernel)",
   "language": "python",
   "name": "python3"
  },
  "language_info": {
   "codemirror_mode": {
    "name": "ipython",
    "version": 3
   },
   "file_extension": ".py",
   "mimetype": "text/x-python",
   "name": "python",
   "nbconvert_exporter": "python",
   "pygments_lexer": "ipython3",
   "version": "3.12.4"
  }
 },
 "nbformat": 4,
 "nbformat_minor": 5
}
