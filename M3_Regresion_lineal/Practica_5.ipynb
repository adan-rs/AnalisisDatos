{
 "cells": [
  {
   "cell_type": "markdown",
   "id": "efab8d53-9b97-49a6-837d-ae2c7a323367",
   "metadata": {},
   "source": [
    "## Implementación del CAPM"
   ]
  },
  {
   "cell_type": "markdown",
   "id": "94f6de50-69f6-479d-b205-d49ebd3678b3",
   "metadata": {},
   "source": [
    "En esta práctica utilizaremos un modelo de regresión para implementar una versión simplificada del CAPM (Capital Asset Pricing Model) y estimar la *beta financiera* de una acción. Este modelo implica que los rendimientos esperados de un acción está determinado por los rendimientos del mercado y la tasa libre de riesgo.  \n",
    "\n",
    "$E(R_i) = R_f + \\beta_i (E(R_m) - R_f)$\n",
    "\n",
    "Si reordenamos esta expresión y agregamos un intercepto obtendremos una ecuación que se puede estimar con una regresión lineal:\n",
    "\n",
    "$R_i - R_f = \\alpha + \\beta_i (R_m - R_f) + \\epsilon$\n",
    "\n",
    "En este ejercicio, por practicidad, vamos a correr este modelo de manera directa omitiendo la tasa libre de riesgo:\n",
    "\n",
    "$R_i = \\alpha + \\beta_i R_m + \\epsilon$"
   ]
  },
  {
   "cell_type": "code",
   "execution_count": null,
   "id": "b2deea43-3d6f-443e-a74c-1493ae21994f",
   "metadata": {},
   "outputs": [],
   "source": [
    "import pandas as pd\n",
    "import yfinance as yf\n",
    "import numpy as np\n",
    "import statsmodels.api as sm"
   ]
  },
  {
   "cell_type": "markdown",
   "id": "bd1fff22-ff7e-4d56-926c-9479c32f9c79",
   "metadata": {},
   "source": [
    "Especificamos el periodo que nos interesa, el código de la emisora de la acción (*ticker*) y el índice del mercado"
   ]
  },
  {
   "cell_type": "code",
   "execution_count": null,
   "id": "741c165e-4e95-496c-83d2-9eaa72f24440",
   "metadata": {},
   "outputs": [],
   "source": [
    "# Definir periodo de interés\n",
    "inicio = '2023-01-01'\n",
    "fin = '2024-01-01'\n",
    "\n",
    "# Define accion\n",
    "ticker = 'AAPL'\n",
    "\n",
    "# Define mercado\n",
    "market = '^DJI'"
   ]
  },
  {
   "cell_type": "markdown",
   "id": "f0c2646a-0776-4d4e-b741-1a426f78cbae",
   "metadata": {},
   "source": [
    "Descargamos la información de *yahoo finance*"
   ]
  },
  {
   "cell_type": "code",
   "execution_count": null,
   "id": "1e11b0c5-6410-4c5b-9d12-e7f6f9cdcf83",
   "metadata": {},
   "outputs": [],
   "source": [
    "# Descargar las series de la acción\n",
    "df = yf.download([ticker, market], start=inicio, end=fin, progress=False)"
   ]
  },
  {
   "cell_type": "code",
   "execution_count": null,
   "id": "4a40f2c5-0679-41cc-a34e-ea269dfb5707",
   "metadata": {},
   "outputs": [],
   "source": [
    "# Renombrar columnas\n",
    "df = df['Adj Close'].rename(columns={ticker:'accion', market:'mercado'})\n",
    "df.head(5)"
   ]
  },
  {
   "cell_type": "markdown",
   "id": "25247a8c-3f08-44e8-b68f-0db4c738e227",
   "metadata": {},
   "source": [
    "Tomamos los datos mensuales, conservamos solo el último dato de cada mes, calculamos el rendimiento (como porcentaje de cambio) y borrar filas con datos perdidos (la primera fila tendrá datos perdidos)"
   ]
  },
  {
   "cell_type": "code",
   "execution_count": null,
   "id": "344c61a4-218d-4320-89c0-4466fdb73a0e",
   "metadata": {},
   "outputs": [],
   "source": [
    "df = df.resample('ME').last().pct_change().dropna()"
   ]
  },
  {
   "cell_type": "markdown",
   "id": "edc5068d-2926-461e-8510-07d9920d9d2f",
   "metadata": {},
   "source": [
    "Calcula un modelo de regresión con el rendimiento de la acción como variable dependiente y el rendimiento del mercado como variable independiente. Identifica e interpreta la beta financiera."
   ]
  },
  {
   "cell_type": "code",
   "execution_count": null,
   "id": "dad03133-dd29-4439-ad36-9dbe28e5f87d",
   "metadata": {},
   "outputs": [],
   "source": [
    "df"
   ]
  },
  {
   "cell_type": "code",
   "execution_count": null,
   "id": "8795c187-19c3-4e84-a00f-61965f9d5ad1",
   "metadata": {},
   "outputs": [],
   "source": []
  }
 ],
 "metadata": {
  "kernelspec": {
   "display_name": "Python 3 (ipykernel)",
   "language": "python",
   "name": "python3"
  },
  "language_info": {
   "codemirror_mode": {
    "name": "ipython",
    "version": 3
   },
   "file_extension": ".py",
   "mimetype": "text/x-python",
   "name": "python",
   "nbconvert_exporter": "python",
   "pygments_lexer": "ipython3",
   "version": "3.12.4"
  }
 },
 "nbformat": 4,
 "nbformat_minor": 5
}
