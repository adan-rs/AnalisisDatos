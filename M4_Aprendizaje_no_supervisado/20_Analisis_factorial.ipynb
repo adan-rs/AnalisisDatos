{
 "cells": [
  {
   "cell_type": "markdown",
   "id": "5c7fda51-92dc-4e8b-bd74-0fb0f3ecf4f4",
   "metadata": {},
   "source": [
    "# Análisis factorial exploratorio"
   ]
  },
  {
   "cell_type": "markdown",
   "id": "feeedaa5-0723-45df-8780-7ca9dc132a62",
   "metadata": {},
   "source": [
    "El análisis factorial es una técnica de reducción de dimensiones. Esto es, se busca “reducir” una gran cantidad de variables a un conjunto más pequeño de factores o componentes. Esta técnica se utiliza para comprender la estructura subyacente de un conjunto de variables, construir una escala que mida una variable no observable (variable latente), o reducir un conjunto de variables a un tamaño más manejable.\n",
    "\n",
    "\n",
    "El análisis factorial puede ser exploratorio o confirmatorio. El análisis factorial exploratorio se utiliza comúnmente en etapas iniciales de la investigación para analizar la interrelación entre las variables. El análisis factorial confirmatorio es una técnica en la que se busca confirmar hipótesis específicas acerca de la estructura subyacente en un conjunto de variables. "
   ]
  },
  {
   "cell_type": "code",
   "execution_count": null,
   "id": "fedc3338-d270-475f-af33-bba2807c516f",
   "metadata": {},
   "outputs": [],
   "source": [
    "# Importar las librerías necesarias\n",
    "import numpy as np\n",
    "import pandas as pd\n",
    "import matplotlib.pyplot as plt\n",
    "from sklearn.preprocessing import StandardScaler"
   ]
  },
  {
   "cell_type": "markdown",
   "id": "5b0eb2c7-5ce3-472e-acc8-927c583cb31b",
   "metadata": {},
   "source": [
    "Instalar solamente una vez: `!pip install factor_analyzer`"
   ]
  },
  {
   "cell_type": "code",
   "execution_count": null,
   "id": "87762dbd-1d6e-4ab8-ad4b-5d8492257d29",
   "metadata": {},
   "outputs": [],
   "source": []
  },
  {
   "cell_type": "markdown",
   "id": "7636c5f7-7bd8-4d9d-8773-510b9d4b23dd",
   "metadata": {},
   "source": [
    "El archivo “Base 05 Jóvenes” contiene los resultados de una encuesta aplicada por estudiantes de una clase de estadística en la FSEV UK (Eslovaquia) en 2013. El archivo consta de las respuestas de 1010 jóvenes entre 15 y 30 años. Los temas de la encuesta son: preferencias musicales (19 ítems), preferencias por tipo de películas (12 ítems), uso de internet, hábitos de gasto (7 ítems), y datos demográficos (10 ítems). Se realizará un análisis factorial exploratorio con las variables de preferencias por películas."
   ]
  },
  {
   "cell_type": "code",
   "execution_count": null,
   "id": "690db3fa-d5af-4ffa-8169-08eee9bde839",
   "metadata": {
    "scrolled": true
   },
   "outputs": [],
   "source": [
    "df = pd.read_excel('data/jovenes.xlsx')\n",
    "df.columns"
   ]
  },
  {
   "cell_type": "code",
   "execution_count": null,
   "id": "38e15a03-d3b3-4bf6-9d98-fb028659d0a6",
   "metadata": {},
   "outputs": [],
   "source": [
    "movies = ['Horror', 'Thriller', 'Comedy', 'Romantic', 'Scifi', 'War', \n",
    "         'FantasyFairytales', 'Animated', 'Documentary', 'Western']\n",
    "df = df[movies]"
   ]
  },
  {
   "cell_type": "code",
   "execution_count": null,
   "id": "939bf484-6de4-479a-b649-124786ec91ae",
   "metadata": {},
   "outputs": [],
   "source": [
    "df.info()"
   ]
  },
  {
   "cell_type": "markdown",
   "id": "886ba41b-fd21-4057-b239-3c0f8c908290",
   "metadata": {},
   "source": [
    "## Preparación de datos"
   ]
  },
  {
   "cell_type": "code",
   "execution_count": null,
   "id": "e0c78c89-cd69-4fcb-bf8b-2a788fbf8197",
   "metadata": {},
   "outputs": [],
   "source": [
    "# Identificar filas con valores faltantes\n",
    "filas_perdidos = df.isna().any(axis=1).sum()\n",
    "print(f\"Número de filas con valores perdidos: {filas_perdidos}\")"
   ]
  },
  {
   "cell_type": "code",
   "execution_count": null,
   "id": "637e0b20-b0ca-47cc-881a-606f6f5a3bab",
   "metadata": {},
   "outputs": [],
   "source": [
    "# Eliminar filas con valores faltantes\n",
    "df = df.dropna()"
   ]
  },
  {
   "cell_type": "code",
   "execution_count": null,
   "id": "f1f88360-beb3-4cd4-b715-b66ab6cf6471",
   "metadata": {},
   "outputs": [],
   "source": [
    "# Estandarizar las variables\n",
    "scaler = StandardScaler()\n",
    "df = pd.DataFrame(scaler.fit_transform(df), columns=df.columns)"
   ]
  },
  {
   "cell_type": "markdown",
   "id": "8a5703a5-aeb4-4b69-abd1-54db9c7b55aa",
   "metadata": {},
   "source": [
    "**Tamaño muestral**: Existen varias recomendaciones en cuanto al tamaño muestral. Tabachnick y Fidell (2001) recomiendan tener al menos 300 casos, pero aceptan que muestras más pequeñas son suficientes bajo ciertas condiciones. Nunnally (1978) recomienda tener al menos 10 observaciones por cada variable.\n",
    "\n",
    "**Tipo de variables**: Aunque es preferible que las variables sean cuantitativas (de escala), en la práctica se pueden utilizar variables con escala de medición ordinal de cinco o más niveles. Si es así, se requiere que la distancia entre cada categoría sea igual (es decir, que los intervalos sean regulares). Se asume que las escalas tipo Likert cumplen con esta condición."
   ]
  },
  {
   "cell_type": "markdown",
   "id": "78e80bb1-72bd-456e-957d-3a5a28d6a55d",
   "metadata": {},
   "source": [
    "**Condiciones de aplicabilidad**: El procedimiento más común para realizar el análisis de factores se basa en el análisis de componentes principales. En el análisis de componentes principales se utilizan las correlaciones entre conjuntos de ítems (variables) para calcular los factores que los representan. Por esta razón, como condición de aplicabilidad, es deseable obtener la matriz de correlaciones y asegurarse que varios coeficientes sean mayores que 0.3. \n",
    "\n",
    "Sin embargo, para evaluar la conveniencia del análisis factorial, es preferible revisar la prueba de esfericidad de Bartlett y el estadístico Kaiser-Meyer-Olkin (KMO). La prueba de esfericidad de Bartlett prueba la hipótesis nula de que matriz de correlación es una matriz diagonal (todos los elementos son cero excepto la diagonal principal). Debido a que se espera que existan varias correlaciones significativas, lo deseable es rechazar la hipótesis nula (p < 0.05). "
   ]
  },
  {
   "cell_type": "code",
   "execution_count": null,
   "id": "5f77fd46-1bc3-42fa-a2c9-fa96eabc870d",
   "metadata": {},
   "outputs": [],
   "source": [
    "from factor_analyzer.factor_analyzer import calculate_bartlett_sphericity\n",
    "\n",
    "print('Chi cuadrado', calculate_bartlett_sphericity(df)[0])\n",
    "print('P valor', calculate_bartlett_sphericity(df)[1])"
   ]
  },
  {
   "cell_type": "markdown",
   "id": "9d6d5759-2a83-4009-b363-4fc1f87f1a03",
   "metadata": {},
   "source": [
    "El estadístico KMO indica si las correlaciones entre variables pueden ser explicadas por las otras variables. Es deseable obtener valores del KMO de al menos 0.50."
   ]
  },
  {
   "cell_type": "code",
   "execution_count": null,
   "id": "773f5a18-2788-4f94-85c3-67eee4237196",
   "metadata": {},
   "outputs": [],
   "source": [
    "from factor_analyzer.factor_analyzer import calculate_kmo\n",
    "\n",
    "kmo_all, kmo_model = calculate_kmo(df[df.columns])\n",
    "print('KMO score:',kmo_model)"
   ]
  },
  {
   "cell_type": "markdown",
   "id": "de55fec4-b534-4582-94e7-604b563ad6b0",
   "metadata": {},
   "source": [
    "*Interpretación*: Se considera que el análisis factorial es adecuado dado que se obtuvo un valor mayor a 0.5 en el indicador KMO y la significancia de la prueba de esfericidad de Bartlett es menor que 0.05."
   ]
  },
  {
   "cell_type": "markdown",
   "id": "28d59f7d-5bb8-4fd6-8c08-17e30143a842",
   "metadata": {},
   "source": [
    "## Extracción de factores\n",
    "Existen varios métodos de extracción de factores. La técnica más utilizada es la de análisis de componentes principales. Otras opciones máxima verosimilitud ('ml') o bien el método predeterminado \"minres\" que es más robusto ante violaciones de normalidad.\n",
    "\n",
    "Se recomienda que si el objetivo es reducir las variables se utilice componentes principales, y si el objetivo es identificar dimensiones latentes se utilice la factorización de ejes principales. Sin embargo, aunque difieren en lo teórico, los resultados suelen ser similares por lo que generalmente se puede utilizar análisis de componentes principales."
   ]
  },
  {
   "cell_type": "code",
   "execution_count": null,
   "id": "9840f645-aaf5-42e4-b05b-bdfcc1480e13",
   "metadata": {},
   "outputs": [],
   "source": [
    "from factor_analyzer import FactorAnalyzer\n",
    "\n",
    "fa = FactorAnalyzer(rotation='varimax', method='principal')\n",
    "fa.fit(df)"
   ]
  },
  {
   "cell_type": "markdown",
   "id": "685a7152-01c1-4809-aafd-e2a6a41ab987",
   "metadata": {},
   "source": [
    "**Rotación de factores**: Existen dos opciones para la rotación de factores, ortogonal u oblicua. La rotación ortogonal lleva a una solución que es más fácil de interpretar, sin embargo, requiere asumir que los constructos subyacentes son independientes. La rotación oblicua, en cambio, permite asumir que los factores están correlacionados.\n",
    "\n",
    "Dentro de las técnicas de rotación ortogonal, la más utilizada es el método varimax. La técnica más común en rotación oblicua es oblimin directo, y requiere establecer un valor delta que determina el nivel de correlación entre factores. El valor predeterminado de cero implica que los factores están moderadamente correlacionados\n",
    "\n",
    "Si los patrones de los factores son claros, ambos tipos de técnicas llevarán a resultados similares. Se puede partir de una rotación varimax. Si los resultados son difíciles de interpretar se recomienda una rotación oblicua. "
   ]
  },
  {
   "cell_type": "markdown",
   "id": "c2948855-39d3-4795-8b13-271716a6d8df",
   "metadata": {},
   "source": [
    "## Determinación del número de factores\n",
    "El investigador debe determinar el número de factores que se consideran deseables. Algunas técnicas que pueden ayudar en esta decisión son el criterio de Kaiser o el gráfico de sedimentación (scree plot). Bajo el criterio de Kaiser (que es el más empleado) solamente los factores con un autovalor de 1.0 o más deben ser considerados. Los autovalores (eigenvalues) es una métrica de la cantidad de varianza explicada por cada factor. Un autovalor de 1.0 representa la varianza de una única variable.\n",
    "\n",
    "El gráfico de sedimentación (scree plot) implica graficar cada uno de los valores propio del factor y revisar la gráfica para ver el punto en el cual la curva cambia de dirección y se vuelve horizontal. Se recomienda retener todos los factores por encima de ese punto de quiebre (es decir, uno menos que el punto de quiebre). Si el gráfico de sedimentación no es claro, se puede tomar la decisión con base en el criterio de Kaiser."
   ]
  },
  {
   "cell_type": "code",
   "execution_count": null,
   "id": "2ca881c6-6e71-404d-9e03-b063fe2d753e",
   "metadata": {},
   "outputs": [],
   "source": [
    "# Cálculo de autovalores\n",
    "ev, v = fa.get_eigenvalues()\n",
    "\n",
    "# Scree plot\n",
    "plt.scatter(range(1, 10), ev[:9])\n",
    "plt.plot(range(1,10), ev[:9])\n",
    "plt.title('ScreePlot');"
   ]
  },
  {
   "cell_type": "code",
   "execution_count": null,
   "id": "13eb8347-01f0-46d6-8ec0-38b0f64f3dc6",
   "metadata": {},
   "outputs": [],
   "source": [
    "k = 3\n",
    "fa = FactorAnalyzer(rotation = 'varimax', n_factors=k, method='principal')\n",
    "fa.fit(df)"
   ]
  },
  {
   "cell_type": "markdown",
   "id": "8216adff-5208-4888-b56e-8d2a4fc54791",
   "metadata": {},
   "source": [
    "La comunalidad indica qué proporción de la varianza de una variable es varianza común. Aunque no existe un mínimo, las variables con una comunalidad baja (menores a 0.30) son candidatas a ser descartadas en el análisis. "
   ]
  },
  {
   "cell_type": "code",
   "execution_count": null,
   "id": "d7eba9ea-3b72-4baa-97a2-9b42ca557f0f",
   "metadata": {},
   "outputs": [],
   "source": [
    "communalities = pd.DataFrame(fa.get_communalities(), index=list(df.columns))\n",
    "communalities.rename(columns={0: 'Comunalidades'}, inplace=True)\n",
    "communalities.sort_values(by='Comunalidades')"
   ]
  },
  {
   "cell_type": "markdown",
   "id": "5a8ff319-7901-4ec8-85b4-0e630fe597b8",
   "metadata": {},
   "source": [
    "**Cargas factoriales**:  Una vez extraídos los factores, la correlación entre una variable y el factor se llama carga factorial. Si son pocos factores, las cargas factoriales deberán ser de al menos 0.50, pero si son muchos factores se pueden considerar arriba de 0.30"
   ]
  },
  {
   "cell_type": "code",
   "execution_count": null,
   "id": "69bedaf7-3eea-476c-964a-ef4f769555a4",
   "metadata": {},
   "outputs": [],
   "source": [
    "fa_loadings = pd.DataFrame(fa.loadings_,\n",
    "                           columns=['Factor{}'.format(i) for i in range(1, k+1)],\n",
    "                           index=df.columns)\n",
    "fa_loadings['Factor_asignado'] = fa_loadings.abs().idxmax(axis=1)\n",
    "fa_loadings"
   ]
  },
  {
   "cell_type": "markdown",
   "id": "1326b619-acff-44f3-91f9-86a288bab621",
   "metadata": {},
   "source": [
    "Las cargas más altas suelen ayudar a identificar la variable latente en cada componente. En la presencia de cargas cruzadas (variables con cargas importantes en más de un componente) se recomienda volver a realizar el análisis cambiando el número de componentes, utilizando otra técnica de rotación, o en el caso extremo, eliminar esa variable. \n",
    "\n",
    "Una vez identificados los factores, se debe crear una etiqueta que describa cada factor. Considere que el análisis factorial exploratorio es una técnica de exploración de datos, por tanto, la interpretación queda al juicio del investigador. "
   ]
  },
  {
   "cell_type": "code",
   "execution_count": null,
   "id": "462512ae-5dcd-4d59-a582-14bc75153c3c",
   "metadata": {},
   "outputs": [],
   "source": [
    "factors = list(fa_loadings.columns[:-1])\n",
    "# Modificando formato\n",
    "table = fa_loadings.sort_values(by='Factor_asignado').style.map(\n",
    "    lambda x: 'background-color: yellow' if abs(x) > 0.4 else '',\n",
    "    subset=factors)\n",
    "table"
   ]
  },
  {
   "cell_type": "markdown",
   "id": "5177d754-7b5c-4f4c-9b94-9bff38405f7d",
   "metadata": {},
   "source": [
    "**Presentación de resultados**:  \n",
    ">\"Se realizó un análisis factorial exploratorio con los 11 ítems de preferencias por películas mediante el método de análisis de componentes principales con rotación varimax. La medida Kaiser-Meyer-Olkin de adecuación de muestreo, KMO = 0.637, es superior al límite aceptable de 0.50. El resultado de la prueba de esfericidad de Bartlett, $\\chi^2$ = 1745.17, p < 0.001, respalda también el empleo del análisis factorial. En el análisis inicial se obtuvieron tres componentes con autovalores mayores a 1. El primer componente se relaciona con películas \"Aventuras\", el segundo componente son películas \"Fantasía\", y el tercer componente son películas \"Inquietantes\". La tabla muestra las cargas factoriales después de la rotación.\""
   ]
  },
  {
   "cell_type": "markdown",
   "id": "8e2cb8ab-0db8-4f38-8b9d-957eeec3acc9",
   "metadata": {},
   "source": [
    "**Documentación**\n",
    "https://factor-analyzer.readthedocs.io/en/latest/factor_analyzer.html"
   ]
  },
  {
   "cell_type": "markdown",
   "id": "cdb72ac3-ef56-4461-81c7-557a49aa9847",
   "metadata": {},
   "source": [
    "## Preguntas de autoevaluación"
   ]
  },
  {
   "cell_type": "markdown",
   "id": "ca3f5262-16b2-4ae9-a17a-38f30995df50",
   "metadata": {},
   "source": [
    "**Pregunta 1**. Una empresa de investigación de mercados está analizando un conjunto de datos de encuestas para identificar las dimensiones que influyen en la satisfacción del cliente. Antes de proceder con un análisis factorial, el equipo decide verificar si las variables están suficientemente correlacionadas para justificar este análisis. ¿Qué prueba estadística debe utilizar el equipo para evaluar si es apropiado realizar un análisis factorial?\n",
    "\n",
    "A) Prueba de esfericidad de Bartlett\n",
    "\n",
    "B) Prueba de independencia Chi cuadrado\n",
    "\n",
    "B) Prueba de homocedasticidad de Levene"
   ]
  },
  {
   "cell_type": "markdown",
   "id": "eef9913b-5722-4a8b-a3c4-0f6cf671d91b",
   "metadata": {},
   "source": [
    "**Pregunta 2**. Una empresa financiera está analizando grandes volúmenes de datos para tomar decisiones estratégicas. A continuación se describen tres escenarios. ¿En cuál de ellos sería más útil aplicar un análisis factorial?\n",
    "\n",
    "A) El equipo de finanzas quiere prever los flujos de caja futuros utilizando variables como ingresos, gastos, e inversiones pasadas, y necesita un modelo que prediga directamente estos valores.\n",
    "\n",
    "B) El equipo de gestión de riesgos necesita reducir la cantidad de variables económicas para identificar unos pocos factores clave que explican la mayor parte de la variabilidad en los índices de mercado y así poder modelar la relación entre estos factores y el riesgo de la cartera.\n",
    "\n",
    "C) El departamento de auditoría está revisando las transacciones financieras individuales para detectar fraudes, utilizando reglas de negocio específicas para identificar anomalías en las transacciones."
   ]
  },
  {
   "cell_type": "code",
   "execution_count": null,
   "id": "f35bd964-d40d-4f99-a63d-0032d705d1c4",
   "metadata": {},
   "outputs": [],
   "source": []
  }
 ],
 "metadata": {
  "kernelspec": {
   "display_name": "Python 3 (ipykernel)",
   "language": "python",
   "name": "python3"
  },
  "language_info": {
   "codemirror_mode": {
    "name": "ipython",
    "version": 3
   },
   "file_extension": ".py",
   "mimetype": "text/x-python",
   "name": "python",
   "nbconvert_exporter": "python",
   "pygments_lexer": "ipython3",
   "version": "3.12.4"
  }
 },
 "nbformat": 4,
 "nbformat_minor": 5
}
