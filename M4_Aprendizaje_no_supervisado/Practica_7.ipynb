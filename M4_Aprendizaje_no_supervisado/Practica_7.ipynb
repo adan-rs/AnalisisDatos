{
 "cells": [
  {
   "cell_type": "markdown",
   "id": "0122e0d2-db7f-46e3-a601-4442721fe30e",
   "metadata": {},
   "source": [
    "# Práctica en clase (Método jerárquico)\n",
    "Cuando Tesla inició operaciones en Europa, el mercado europeo era muy diferente al norteamericano. Por ello, les interesó conocer cómo se podía segmentar el mercado automotriz. En el archivo `autos.xlsx` se recopila una muestra aleatoria de 15 modelos de automóviles con las siguientes variables:\n",
    "- Desplazamiento del motor\n",
    "- Momento de giro en Nm\n",
    "- Caballos de fuerza\n",
    "- Longitud en milímetros\n",
    "- Ancho en milímetros\n",
    "- Peso en kilogramos\n",
    "- Volumen en litros de la cajuela\n",
    "- Velocidad máxima en kmph\n",
    "- Aceleración de 0 a 100 km/h en segundos\n",
    "\n",
    "\n",
    "Realiza los siguientes pasos\n",
    "1. Carga las librerías y los datos\n",
    "2. Obtén la estadística descriptica de cada variable\n",
    "3. Elimina variables altamente correlacionadas (r > 0.90).\n",
    "4. Estandariza las variables\n",
    "5. Realiza un análisis de conglomerados mediante el método jerárquico.\n",
    "6. Ilustra con un dendrograma."
   ]
  },
  {
   "cell_type": "markdown",
   "id": "bc8f535b-2692-45c2-97a8-7aed7d1a188a",
   "metadata": {},
   "source": [
    "# Práctica en clase (k medias) \n",
    "Una cadena de tiendas de accesorios masculinos entrevistaron a 180 clientes y se les pidió que, en una escala de 5 niveles ((1: nada importante, 5: muy importante), evaluaran la importancia de los siguientes aspectos al momento de comprar productos:\n",
    "- Tiempo: ahorro de tiempo.\n",
    "- Ofertas: conseguir ofertas.\n",
    "- Exclusivo: obtener productos que no están en otras tiendas.\n",
    "- Novedad: probar cosas nuevas.\n",
    "- Conocimiento: conocer lo que la tienda tiene para ofrecer.\n",
    "\n",
    "El archivo `actitudes-compras.xlsx`contiene los resultados obtenidos. Realiza los siguientes pasos\n",
    "1. Carga las librerías y los datos\n",
    "2. Obtén la estadística descriptica de cada variable\n",
    "3. Elimina variables altamente correlacionadas (r > 0.90).\n",
    "4. Estandariza las variables\n",
    "5. Realiza un análisis de conglomerados mediante el método de k medias\n",
    "6. Describe cada segmento con base en los valores de los centroides"
   ]
  },
  {
   "cell_type": "markdown",
   "id": "16cefe70-dd6a-4dfd-9d55-be8f0a6327ff",
   "metadata": {},
   "source": [
    "# Práctica en clase (análisis factorial)\n",
    "El archivo `data/b14_enigh2020_gasto.xlsx` contiene registros de los gastos en una muestra de hogares en la zona metropolitana de Monterrey en 2020. Aplica un análisis factorial exploratorio cubriendo los siguientes puntos:\n",
    "1. Importas las librerías necesarias\n",
    "2. Carga el archivo con los datos\n",
    "3. Prepara los datos eliminando filas con valores faltantes y estandarizando las variables\n",
    "4. Evalúa la aplicabilidad del análisis factorial exploratorio, aplicando la prueba de esfericidad de Bartlett y obteniendo el indicador KMO. Interpreta los resultados.\n",
    "5. Determina el número óptimo de factores mediante el criterio Kaiser y el análisis del scree plot.\n",
    "6. Realiza un análisis factorial con rotación varimax mediante el método 'principal'.\n",
    "7. Identifica si alguna de las comunalidades es menor 0.30\n",
    "8. Obtén la matriz de cargas factoriales.\n",
    "9. Identifica con qué se relaciona cada factor, es decir, \"nombra\" cada factor."
   ]
  },
  {
   "cell_type": "code",
   "execution_count": null,
   "id": "86d02494-8f4d-4c99-8a42-9fd389e419eb",
   "metadata": {},
   "outputs": [],
   "source": []
  }
 ],
 "metadata": {
  "kernelspec": {
   "display_name": "Python 3 (ipykernel)",
   "language": "python",
   "name": "python3"
  },
  "language_info": {
   "codemirror_mode": {
    "name": "ipython",
    "version": 3
   },
   "file_extension": ".py",
   "mimetype": "text/x-python",
   "name": "python",
   "nbconvert_exporter": "python",
   "pygments_lexer": "ipython3",
   "version": "3.12.4"
  }
 },
 "nbformat": 4,
 "nbformat_minor": 5
}
