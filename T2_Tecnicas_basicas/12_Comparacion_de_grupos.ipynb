{
 "cells": [
  {
   "cell_type": "markdown",
   "id": "ecc7a6a8-7b95-42a3-ae4d-1acce323a449",
   "metadata": {},
   "source": [
    "# Comparación de grupos\n",
    "*\"La mitad de mi gasto en publicidad no sirve para nada. El problema es que no sé qué mitad\" atribuida a John Wanamaker(1838-1922)*"
   ]
  },
  {
   "cell_type": "markdown",
   "id": "7218eb4b-0951-493a-bb40-4349e0324eca",
   "metadata": {},
   "source": [
    "## Pruebas A/B\n",
    "En el área de negocios, especialmente en innovación digital, es común realizar pruebas A/B para evaluar las respuestas de los usuarios a diferentes alternativas en el diseño de un sitio o una interfaz.  \n",
    "Entre sus características básicas está que los usuarios son asignados al azar a un grupo de control (A) o a un grupo experimental (B). A cada grupo se les muestra una alternativa diferente y se recopilan diversas métricas. Finalmente, analizando los resultados, se concluye qué alternativa tuvo mejor desempeño.  \n",
    "En la siguiente liga se muestran varios ejemplos de aplicaciones prácticas:\n",
    "https://goodui.org/leaks/. Este tipo de experimentos ejemplifica la aplicación de técnicas que veremos en esta sesión relacionadas con la comparación de dos o más grupos"
   ]
  },
  {
   "attachments": {},
   "cell_type": "markdown",
   "id": "dba72061-0ed4-4534-b474-58c44d862d37",
   "metadata": {
    "tags": []
   },
   "source": [
    "El archivo \"cookie_cats.csv\" contiene información de 90,189 jugadores. Cuando un jugador instala el juego empieza en el nivel 30, sin embargo, en la empresa que diseñó el juego han propuesto que el jugador empiece en el nivel 40. Para evaluar ambas opciones se diseñó una prueba A/B en la cual los jugadores fueron asignados aleatoriamente para comenzar en el nivel 30 (control) o en el nivel 40 (tratamiento).\n",
    "\n",
    "<div style=\"text-align: center;\">\n",
    "<img src=\"../images/cookie_cats.jpg\" alt=\"Cookie cats\" width=\"300\" height=\"200\">\n",
    "</div>\n",
    "\n",
    "Las variables en el dataset son:\n",
    "\n",
    "- userid: identificador del jugador.\n",
    "- version: gate30, empieza en el nivel 30; gate40: empieza en el nivel 40.\n",
    "- sum_gamerounds: número de rondas jugadas durante los primeros 14 días.\n",
    "- retention_1: el jugador jugó un día después de instalar el juego.\n",
    "- retention_7_ el jugador jugó después de 7 días de haber instalado el juego."
   ]
  },
  {
   "cell_type": "code",
   "execution_count": 1,
   "id": "40944a26-4c98-4148-a9bb-bf006c9aada8",
   "metadata": {},
   "outputs": [],
   "source": [
    "import pandas as pd"
   ]
  },
  {
   "cell_type": "code",
   "execution_count": 2,
   "id": "a430a526-6ad4-4906-a0db-3407749fa511",
   "metadata": {},
   "outputs": [
    {
     "name": "stdout",
     "output_type": "stream",
     "text": [
      "<class 'pandas.core.frame.DataFrame'>\n",
      "RangeIndex: 90189 entries, 0 to 90188\n",
      "Data columns (total 5 columns):\n",
      " #   Column          Non-Null Count  Dtype \n",
      "---  ------          --------------  ----- \n",
      " 0   userid          90189 non-null  int64 \n",
      " 1   version         90189 non-null  object\n",
      " 2   sum_gamerounds  90189 non-null  int64 \n",
      " 3   retention_1     90189 non-null  bool  \n",
      " 4   retention_7     90189 non-null  bool  \n",
      "dtypes: bool(2), int64(2), object(1)\n",
      "memory usage: 2.2+ MB\n"
     ]
    }
   ],
   "source": [
    "df = pd.read_csv('../datasets/cookie_cats.csv')\n",
    "df.info()"
   ]
  },
  {
   "cell_type": "code",
   "execution_count": 3,
   "id": "1787f5c2-3293-4a4f-ac3c-38b91fe5121e",
   "metadata": {},
   "outputs": [
    {
     "data": {
      "text/html": [
       "<div>\n",
       "<style scoped>\n",
       "    .dataframe tbody tr th:only-of-type {\n",
       "        vertical-align: middle;\n",
       "    }\n",
       "\n",
       "    .dataframe tbody tr th {\n",
       "        vertical-align: top;\n",
       "    }\n",
       "\n",
       "    .dataframe thead th {\n",
       "        text-align: right;\n",
       "    }\n",
       "</style>\n",
       "<table border=\"1\" class=\"dataframe\">\n",
       "  <thead>\n",
       "    <tr style=\"text-align: right;\">\n",
       "      <th></th>\n",
       "      <th>userid</th>\n",
       "      <th>sum_gamerounds</th>\n",
       "    </tr>\n",
       "  </thead>\n",
       "  <tbody>\n",
       "    <tr>\n",
       "      <th>count</th>\n",
       "      <td>9.018900e+04</td>\n",
       "      <td>90189.000000</td>\n",
       "    </tr>\n",
       "    <tr>\n",
       "      <th>mean</th>\n",
       "      <td>4.998412e+06</td>\n",
       "      <td>51.872457</td>\n",
       "    </tr>\n",
       "    <tr>\n",
       "      <th>std</th>\n",
       "      <td>2.883286e+06</td>\n",
       "      <td>195.050858</td>\n",
       "    </tr>\n",
       "    <tr>\n",
       "      <th>min</th>\n",
       "      <td>1.160000e+02</td>\n",
       "      <td>0.000000</td>\n",
       "    </tr>\n",
       "    <tr>\n",
       "      <th>25%</th>\n",
       "      <td>2.512230e+06</td>\n",
       "      <td>5.000000</td>\n",
       "    </tr>\n",
       "    <tr>\n",
       "      <th>50%</th>\n",
       "      <td>4.995815e+06</td>\n",
       "      <td>16.000000</td>\n",
       "    </tr>\n",
       "    <tr>\n",
       "      <th>75%</th>\n",
       "      <td>7.496452e+06</td>\n",
       "      <td>51.000000</td>\n",
       "    </tr>\n",
       "    <tr>\n",
       "      <th>max</th>\n",
       "      <td>9.999861e+06</td>\n",
       "      <td>49854.000000</td>\n",
       "    </tr>\n",
       "  </tbody>\n",
       "</table>\n",
       "</div>"
      ],
      "text/plain": [
       "             userid  sum_gamerounds\n",
       "count  9.018900e+04    90189.000000\n",
       "mean   4.998412e+06       51.872457\n",
       "std    2.883286e+06      195.050858\n",
       "min    1.160000e+02        0.000000\n",
       "25%    2.512230e+06        5.000000\n",
       "50%    4.995815e+06       16.000000\n",
       "75%    7.496452e+06       51.000000\n",
       "max    9.999861e+06    49854.000000"
      ]
     },
     "execution_count": 3,
     "metadata": {},
     "output_type": "execute_result"
    }
   ],
   "source": [
    "df.describe()"
   ]
  },
  {
   "cell_type": "code",
   "execution_count": 4,
   "id": "2b9dd894-7af2-4d6e-afc7-05386c5710fa",
   "metadata": {},
   "outputs": [],
   "source": [
    "# Eliminación de datos atípicos\n",
    "df = df[df['sum_gamerounds']<1000]"
   ]
  },
  {
   "cell_type": "code",
   "execution_count": 5,
   "id": "0e275ab8-7870-4f45-b230-a279058d2c10",
   "metadata": {},
   "outputs": [
    {
     "data": {
      "text/html": [
       "<div>\n",
       "<style scoped>\n",
       "    .dataframe tbody tr th:only-of-type {\n",
       "        vertical-align: middle;\n",
       "    }\n",
       "\n",
       "    .dataframe tbody tr th {\n",
       "        vertical-align: top;\n",
       "    }\n",
       "\n",
       "    .dataframe thead th {\n",
       "        text-align: right;\n",
       "    }\n",
       "</style>\n",
       "<table border=\"1\" class=\"dataframe\">\n",
       "  <thead>\n",
       "    <tr style=\"text-align: right;\">\n",
       "      <th></th>\n",
       "      <th>userid</th>\n",
       "      <th>version</th>\n",
       "      <th>sum_gamerounds</th>\n",
       "      <th>retention_1</th>\n",
       "      <th>retention_7</th>\n",
       "    </tr>\n",
       "  </thead>\n",
       "  <tbody>\n",
       "    <tr>\n",
       "      <th>0</th>\n",
       "      <td>116</td>\n",
       "      <td>gate_30</td>\n",
       "      <td>3</td>\n",
       "      <td>False</td>\n",
       "      <td>False</td>\n",
       "    </tr>\n",
       "    <tr>\n",
       "      <th>1</th>\n",
       "      <td>337</td>\n",
       "      <td>gate_30</td>\n",
       "      <td>38</td>\n",
       "      <td>True</td>\n",
       "      <td>False</td>\n",
       "    </tr>\n",
       "    <tr>\n",
       "      <th>2</th>\n",
       "      <td>377</td>\n",
       "      <td>gate_40</td>\n",
       "      <td>165</td>\n",
       "      <td>True</td>\n",
       "      <td>False</td>\n",
       "    </tr>\n",
       "    <tr>\n",
       "      <th>3</th>\n",
       "      <td>483</td>\n",
       "      <td>gate_40</td>\n",
       "      <td>1</td>\n",
       "      <td>False</td>\n",
       "      <td>False</td>\n",
       "    </tr>\n",
       "    <tr>\n",
       "      <th>4</th>\n",
       "      <td>488</td>\n",
       "      <td>gate_40</td>\n",
       "      <td>179</td>\n",
       "      <td>True</td>\n",
       "      <td>True</td>\n",
       "    </tr>\n",
       "  </tbody>\n",
       "</table>\n",
       "</div>"
      ],
      "text/plain": [
       "   userid  version  sum_gamerounds  retention_1  retention_7\n",
       "0     116  gate_30               3        False        False\n",
       "1     337  gate_30              38         True        False\n",
       "2     377  gate_40             165         True        False\n",
       "3     483  gate_40               1        False        False\n",
       "4     488  gate_40             179         True         True"
      ]
     },
     "execution_count": 5,
     "metadata": {},
     "output_type": "execute_result"
    }
   ],
   "source": [
    "df.head(5)"
   ]
  },
  {
   "cell_type": "markdown",
   "id": "589e1f01-4e56-43df-a377-6a8ebfb6fc7f",
   "metadata": {},
   "source": [
    "## Prueba z para dos proporciones\n",
    "Realizaremos una prueba z para comparar dos proporciones. Las pruebas de hipótesis pueden ser bilaterales (de dos colas) o unilaterales (de una cola). Utilizaremos una prueba bilateral, por lo tanto, las hipótesis se plantean como:\n",
    "- H<sub>0</sub>: p=p<sub>0</sub> (Hipótesis nula)\n",
    "- H<sub>1</sub>: p ≠ p<sub>0</sub> (Hipótesis alternativa)\n",
    "\n",
    "Para calcular las proporciones conviene obtener una tabla con el conteo de cada caso. Realicemos una tabla de contigencia o tabla cruzada. "
   ]
  },
  {
   "cell_type": "code",
   "execution_count": 6,
   "id": "e09222ae-74d1-4c7b-83cd-99af3050a01a",
   "metadata": {},
   "outputs": [],
   "source": [
    "from statsmodels.stats.proportion import proportions_ztest\n",
    "\n",
    "def compare_proportions(data, group_column, category_column,\n",
    "                       success_category=None, alpha = 0.05):\n",
    "    \"\"\"\n",
    "    Realiza e interpreta una prueba z bilateral para comparar proporciones entre grupos.\n",
    "    Args:\n",
    "        data: DataFrame con los datos\n",
    "        group_column: Nombre de la columna que identifica los grupos\n",
    "        category_column: Nombre de la columna con las categorías a comparar\n",
    "        success_category: Categoría a considerar como \"éxito\" (si es None, \n",
    "                         usa la primera categoría encontrada)\n",
    "        alpha: Nivel de significancia (predeterminado: 0.05)    \n",
    "    Returns:\n",
    "        p-valor\n",
    "    \"\"\"\n",
    "    # Identificar categorías\n",
    "    categorias = data[category_column].unique()\n",
    "    if len(categorias) != 2:\n",
    "        raise ValueError(f\"La columna {category_column} debe tener exactamente dos categorías\")\n",
    "    \n",
    "    # Determinar categoría de éxito\n",
    "    if success_category is None:\n",
    "        success_category = categorias[0]\n",
    "    elif success_category not in categorias:\n",
    "        raise ValueError(f\"La categoría '{success_category}' no existe en los datos\")\n",
    "    \n",
    "    # Convertir a binario (1 para success_category, 0 para la otra)\n",
    "    data_binaria = data.copy()\n",
    "    data_binaria[category_column] = (data[category_column] == success_category).astype(int)\n",
    "    \n",
    "    # Calcular estadísticos\n",
    "    conteos = data_binaria.groupby(group_column)[category_column].agg(['sum', 'count'])\n",
    "    proporciones = (conteos['sum'] / conteos['count']).round(4)\n",
    "    \n",
    "    # Realizar prueba z\n",
    "    stat, p_value = proportions_ztest(conteos['sum'], conteos['count'])\n",
    "    \n",
    "    # Preparar interpretación\n",
    "    es_significativo = p_value < alpha\n",
    "    interpretacion = (f\"Estadístico z: {stat:.4f}\\n\"\n",
    "                      f\"Valor p: {p_value:.4f}\\n\\n\"\n",
    "                      f\"Proporciones de '{success_category}' por grupo:\\n\")\n",
    "    for grupo in proporciones.index:\n",
    "        n = conteos.loc[grupo, 'count']\n",
    "        prop = proporciones[grupo]\n",
    "        interpretacion += f\"{grupo}: {prop:.1%} (n={n})\\n\"    \n",
    "    interpretacion += f\"\\nConclusión: {'Se rechaza' if es_significativo else 'No se rechaza'} \"\n",
    "    interpretacion += \"la hipótesis nula\" + (\" (hay diferencias significativas)\" if es_significativo else \"\")\n",
    "\n",
    "    print(f'Categoria de exito: {success_category}')\n",
    "    print(interpretacion)\n",
    "\n",
    "    return p_value"
   ]
  },
  {
   "cell_type": "code",
   "execution_count": 7,
   "id": "cf1c7a11-3427-48f0-9cf7-0e14baa34d2e",
   "metadata": {},
   "outputs": [
    {
     "name": "stdout",
     "output_type": "stream",
     "text": [
      "Categoria de exito: True\n",
      "Estadístico z: 3.2330\n",
      "Valor p: 0.0012\n",
      "\n",
      "Proporciones de 'True' por grupo:\n",
      "gate_30: 18.9% (n=44647)\n",
      "gate_40: 18.1% (n=45424)\n",
      "\n",
      "Conclusión: Se rechaza la hipótesis nula (hay diferencias significativas)\n"
     ]
    }
   ],
   "source": [
    "results = compare_proportions(df, group_column='version',\n",
    "                              category_column='retention_7',\n",
    "                              success_category=True)"
   ]
  },
  {
   "cell_type": "markdown",
   "id": "7b57e2df-31ff-4c38-89b0-d35b467cb1eb",
   "metadata": {
    "tags": []
   },
   "source": [
    "## Prueba t para dos muestras independientes"
   ]
  },
  {
   "cell_type": "markdown",
   "id": "c63521f7-0201-49e8-a329-ea7b107387a9",
   "metadata": {},
   "source": [
    "Los promedios también son una métrica comúnmente utilizada en las pruebas A/B. Comparemos las rondas de juego en promedio por cada grupo en el experimento."
   ]
  },
  {
   "cell_type": "code",
   "execution_count": 8,
   "id": "d14cef26-d2ab-4def-aa1c-8fbadcf080a6",
   "metadata": {},
   "outputs": [
    {
     "data": {
      "text/html": [
       "<div>\n",
       "<style scoped>\n",
       "    .dataframe tbody tr th:only-of-type {\n",
       "        vertical-align: middle;\n",
       "    }\n",
       "\n",
       "    .dataframe tbody tr th {\n",
       "        vertical-align: top;\n",
       "    }\n",
       "\n",
       "    .dataframe thead th {\n",
       "        text-align: right;\n",
       "    }\n",
       "</style>\n",
       "<table border=\"1\" class=\"dataframe\">\n",
       "  <thead>\n",
       "    <tr style=\"text-align: right;\">\n",
       "      <th></th>\n",
       "      <th>sum_gamerounds</th>\n",
       "    </tr>\n",
       "    <tr>\n",
       "      <th>version</th>\n",
       "      <th></th>\n",
       "    </tr>\n",
       "  </thead>\n",
       "  <tbody>\n",
       "    <tr>\n",
       "      <th>gate_30</th>\n",
       "      <td>49.825789</td>\n",
       "    </tr>\n",
       "    <tr>\n",
       "      <th>gate_40</th>\n",
       "      <td>49.487760</td>\n",
       "    </tr>\n",
       "  </tbody>\n",
       "</table>\n",
       "</div>"
      ],
      "text/plain": [
       "         sum_gamerounds\n",
       "version                \n",
       "gate_30       49.825789\n",
       "gate_40       49.487760"
      ]
     },
     "execution_count": 8,
     "metadata": {},
     "output_type": "execute_result"
    }
   ],
   "source": [
    "# Estadística descriptiva\n",
    "df.groupby('version').agg({'sum_gamerounds':'mean'})"
   ]
  },
  {
   "cell_type": "markdown",
   "id": "027db370-f58d-4303-b277-d19c5d259b87",
   "metadata": {},
   "source": [
    "Consideraciones previas para realizar una prueba t:  \n",
    "- la variable debe tener escala de medición de intervalo o de razón\n",
    "- la variable debe tener una distribución normal o la muestra debe ser grande (mayor a 30)\n",
    "- las observaciones deben ser independientes.\n",
    "\n",
    "Planteamiento de hipótesis:  \n",
    "$H_0: \\mu_1 = \\mu_2$  \n",
    "$H_1: \\mu_1 \\neq \\mu_2$"
   ]
  },
  {
   "cell_type": "code",
   "execution_count": 9,
   "id": "efcc7807-808b-41cd-ac0d-18947390e37a",
   "metadata": {},
   "outputs": [],
   "source": [
    "from scipy.stats import ttest_ind\n",
    "\n",
    "def compare_means(data, group_column, measure_column,\n",
    "                  group1=None, group2=None,\n",
    "                  equal_var: bool = True,\n",
    "                  alpha = 0.05):\n",
    "    \"\"\"\n",
    "    Realiza e interpreta una prueba t bilateral para comparar medias entre grupos.\n",
    "    Args:\n",
    "        data: DataFrame con los datos\n",
    "        group_column: Nombre de la columna que identifica los grupos\n",
    "        measure_column: Nombre de la columna con la variable a comparar\n",
    "        group1: Primer grupo a comparar (si es None, usa el primero encontrado)\n",
    "        group2: Segundo grupo a comparar (si es None, usa el segundo encontrado)\n",
    "        equal_var: Si es True, asume varianzas iguales (t de Student)\n",
    "                   Si es False, no asume varianzas iguales (t de Welch)\n",
    "        alpha: Nivel de significancia (default: 0.05)\n",
    "    Returns:\n",
    "        p-value\n",
    "    \"\"\"\n",
    "    # Identificar grupos si no se especifican\n",
    "    grupos = data[group_column].unique()\n",
    "    if len(grupos) < 2:\n",
    "        raise ValueError(f\"La columna {group_column} debe tener al menos dos grupos\")  \n",
    "    group1 = group1 if group1 is not None else grupos[0]\n",
    "    group2 = group2 if group2 is not None else grupos[1]\n",
    "    \n",
    "    # Obtener datos de cada grupo\n",
    "    datos_group1 = data[data[group_column] == group1][measure_column]\n",
    "    datos_group2 = data[data[group_column] == group2][measure_column]\n",
    "    \n",
    "    # Calcular estadísticos descriptivos\n",
    "    stats = pd.DataFrame({\n",
    "        'n': [len(datos_group1), len(datos_group2)],\n",
    "        'media': [datos_group1.mean(), datos_group2.mean()],\n",
    "        'std': [datos_group1.std(), datos_group2.std()]}, \n",
    "        index=[group1, group2])\n",
    "    \n",
    "    # Realizar prueba t\n",
    "    t_stat, p_value = ttest_ind(datos_group1, datos_group2, equal_var=equal_var)\n",
    "    \n",
    "    # Preparar interpretación\n",
    "    es_significativo = p_value < alpha\n",
    "    interpretacion = (f\"{'Prueba t de Student' if equal_var else 'Prueba t de Welch'}\\n\"\n",
    "                      f\"Estadístico t: {t_stat:.4f}\\n\"\n",
    "                      f\"Valor p: {p_value:.4f}\\n\\n\"\n",
    "                      \"Estadísticos descriptivos:\\n\")\n",
    "    \n",
    "    for grupo in [group1, group2]:\n",
    "        n = stats.loc[grupo, 'n']\n",
    "        media = stats.loc[grupo, 'media']\n",
    "        std = stats.loc[grupo, 'std']\n",
    "        interpretacion += f\"{grupo}: media={media:.2f}, std={std:.2f}, n={n}\\n\"\n",
    "    \n",
    "    interpretacion += f\"\\nConclusión: {'Se rechaza' if es_significativo else 'No se rechaza'} \"\n",
    "    interpretacion += \"la hipótesis nula\" + (\" (hay diferencias significativas entre las medias)\" \n",
    "                                           if es_significativo else \"\")\n",
    "    \n",
    "    print(interpretacion)\n",
    "    return p_value"
   ]
  },
  {
   "cell_type": "code",
   "execution_count": 10,
   "id": "174d5952-d0a5-4d86-906f-da09979d7a05",
   "metadata": {},
   "outputs": [
    {
     "name": "stdout",
     "output_type": "stream",
     "text": [
      "Prueba t de Student\n",
      "Estadístico t: 0.5584\n",
      "Valor p: 0.5766\n",
      "\n",
      "Estadísticos descriptivos:\n",
      "gate_30: media=49.83, std=90.99, n=44647\n",
      "gate_40: media=49.49, std=90.68, n=45424\n",
      "\n",
      "Conclusión: No se rechaza la hipótesis nula\n"
     ]
    }
   ],
   "source": [
    "resultados = compare_means(df, 'version', 'sum_gamerounds')"
   ]
  },
  {
   "cell_type": "markdown",
   "id": "ebf3d54b-7b74-4d67-b347-866278b0cbdd",
   "metadata": {},
   "source": [
    "El p-valor reportado corresponde a una prueba bilateral, es decir, cuando no se anticipa si la diferencia será positiva o negativa"
   ]
  },
  {
   "cell_type": "markdown",
   "id": "05211313-4205-462d-ac6e-7a7ffba44432",
   "metadata": {
    "tags": []
   },
   "source": [
    "Si la muestra es pequeña (p<30) se requiere evaluar la normalidad en la distribución de los datos. Existen varias pruebas para evaluar la normalidad de los datos. La prueba Shapiro-Wilk es una de las más utilizadas.  \n",
    "- Hipótesis nula (H0): Los datos provienen de una distribución normal  \n",
    "- Hipótesis alternativa (H1): Los datos no provienen de una distribución normal.  "
   ]
  },
  {
   "cell_type": "markdown",
   "id": "ac0113e6-3ba5-4384-bdbb-6fd60c48abc8",
   "metadata": {},
   "source": [
    "## Prueba de Levene\n",
    "La prueba de Levene de homogeneidad de varianzas evalúa si la varianza es la misma para los diferentes grupos. Se debe revisar el p-valor (significancia), si este es mayor que 0.05 entonces no rechaza la hipótesis nula de igualdad de varianzas (es decir, no se está violando el supuesto de homogeneidad de varianzas)"
   ]
  },
  {
   "cell_type": "code",
   "execution_count": 20,
   "id": "9c169f47-1807-4647-8aca-e364e0f52e78",
   "metadata": {},
   "outputs": [],
   "source": [
    "from scipy.stats import levene\n",
    "\n",
    "def compare_variances(data, group_column, measure_column, groups=None, alpha=0.05):\n",
    "    \"\"\"\n",
    "    Realiza e interpreta una prueba de Levene para comparar varianzas entre múltiples grupos.   \n",
    "    Args:\n",
    "        data: DataFrame con los datos\n",
    "        group_column: Nombre de la columna que identifica los grupos\n",
    "        measure_column: Nombre de la columna con la variable a comparar\n",
    "        groups: Lista de grupos a comparar (si es None, usa todos los grupos encontrados)\n",
    "        alpha: Nivel de significancia (default: 0.05)\n",
    "    Returns:\n",
    "        p-value\n",
    "    \"\"\"\n",
    "    # Identificar grupos si no se especifican\n",
    "    grupos_disponibles = data[group_column].unique()\n",
    "    if len(grupos_disponibles) < 2:\n",
    "        raise ValueError(f\"La columna {group_column} debe tener al menos dos grupos\")\n",
    "    \n",
    "    # Usar grupos especificados o todos los disponibles\n",
    "    grupos = groups if groups is not None else grupos_disponibles\n",
    "    \n",
    "    # Verificar que todos los grupos especificados existen\n",
    "    grupos_invalidos = set(grupos) - set(grupos_disponibles)\n",
    "    if grupos_invalidos:\n",
    "        raise ValueError(f\"Grupos no encontrados en los datos: {grupos_invalidos}\")\n",
    "    \n",
    "    # Obtener datos de cada grupo\n",
    "    datos_grupos = [data[data[group_column] == grupo][measure_column] for grupo in grupos]\n",
    "    \n",
    "    # Calcular estadísticas por grupo\n",
    "    stats = pd.DataFrame({\n",
    "        'n': [len(datos) for datos in datos_grupos],\n",
    "        'varianza': [datos.var() for datos in datos_grupos],\n",
    "        'desv_std': [datos.std() for datos in datos_grupos]\n",
    "    }, index=grupos)\n",
    "    \n",
    "    # Realizar prueba de Levene\n",
    "    stat, p_value = levene(*datos_grupos)\n",
    "    \n",
    "    # Preparar interpretación\n",
    "    es_significativo = p_value < alpha\n",
    "    interpretacion = (f\"Prueba de Levene para {len(grupos)} grupos\\n\"\n",
    "                     f\"Estadístico de Levene: {stat:.4f}\\n\"\n",
    "                     f\"Valor p: {p_value:.4f}\\n\\n\"\n",
    "                     \"Estadísticas por grupo:\\n\")\n",
    "    \n",
    "    # Añadir estadísticas de cada grupo\n",
    "    for grupo in grupos:\n",
    "        n = stats.loc[grupo, 'n']\n",
    "        var = stats.loc[grupo, 'varianza']\n",
    "        std = stats.loc[grupo, 'desv_std']\n",
    "        interpretacion += f\"{grupo}: n={n}, varianza={var:.2f}, desv. estándar={std:.2f}\\n\"\n",
    "    \n",
    "    # Añadir conclusión\n",
    "    interpretacion += f\"\\nConclusión: {'Se rechaza' if es_significativo else 'No se rechaza'} \"\n",
    "    interpretacion += \"la hipótesis nula de igualdad de varianzas\"\n",
    "    interpretacion += (\" (hay diferencias significativas en las varianzas entre los grupos)\" \n",
    "                      if es_significativo \n",
    "                      else \"\\n (no hay evidencia de diferencias significativas en las varianzas)\")\n",
    "    \n",
    "    print(interpretacion)\n",
    "    return p_value"
   ]
  },
  {
   "cell_type": "code",
   "execution_count": 21,
   "id": "db08b3ee-9915-48d1-835f-2babfd72bfe2",
   "metadata": {},
   "outputs": [
    {
     "name": "stdout",
     "output_type": "stream",
     "text": [
      "Prueba de Levene para 2 grupos\n",
      "Estadístico de Levene: 0.0388\n",
      "Valor p: 0.8438\n",
      "\n",
      "Estadísticas por grupo:\n",
      "gate_30: n=44647, varianza=8278.91, desv. estándar=90.99\n",
      "gate_40: n=45424, varianza=8222.96, desv. estándar=90.68\n",
      "\n",
      "Conclusión: No se rechaza la hipótesis nula de igualdad de varianzas\n",
      " (no hay evidencia de diferencias significativas en las varianzas)\n"
     ]
    }
   ],
   "source": [
    "resultado = compare_variances(df, 'version', 'sum_gamerounds')"
   ]
  },
  {
   "cell_type": "markdown",
   "id": "e281aaa0-63ba-447e-9508-30f396d75dfb",
   "metadata": {},
   "source": [
    "## Prueba t de Welch \n",
    "Si hay evidencia estadística de que las varianzas son diferentes, se recomienda hacer una prueba t de Welch (para varianzas diferentes)"
   ]
  },
  {
   "cell_type": "code",
   "execution_count": 13,
   "id": "1bf6013b-2f18-43fa-8ea0-c141f90707c2",
   "metadata": {},
   "outputs": [
    {
     "name": "stdout",
     "output_type": "stream",
     "text": [
      "Prueba t de Welch\n",
      "Estadístico t: 0.5584\n",
      "Valor p: 0.5766\n",
      "\n",
      "Estadísticos descriptivos:\n",
      "gate_30: media=49.83, std=90.99, n=44647\n",
      "gate_40: media=49.49, std=90.68, n=45424\n",
      "\n",
      "Conclusión: No se rechaza la hipótesis nula\n"
     ]
    }
   ],
   "source": [
    "resultados = compare_means(df, 'version', 'sum_gamerounds', equal_var=False )"
   ]
  },
  {
   "cell_type": "markdown",
   "id": "5c22afbb-4c84-48a1-b9bc-dc6a92528be6",
   "metadata": {},
   "source": [
    "## Prueba Mann-Whitney\n",
    "Una alternativa no paramétrica a la prueba t es la prueba de Mann-Whitney. Esto es recomendable cuando no se cumple el supuesto de normalidad de los datos."
   ]
  },
  {
   "cell_type": "code",
   "execution_count": 14,
   "id": "2c6ec729-3686-4e21-ad75-e6453566a557",
   "metadata": {},
   "outputs": [],
   "source": [
    "from scipy.stats import mannwhitneyu\n",
    "\n",
    "def compare_distributions(data, group_column, measure_column,\n",
    "                          group1=None, group2=None, alpha = 0.05):\n",
    "    \"\"\"\n",
    "    Realiza e interpreta una prueba de Mann-Whitney para comparar distribuciones.\n",
    "    Args:\n",
    "        data: DataFrame con los datos\n",
    "        group_column: Nombre de la columna que identifica los grupos\n",
    "        measure_column: Nombre de la columna con la variable a comparar\n",
    "        group1: Primer grupo a comparar (si es None, usa el primero encontrado)\n",
    "        group2: Segundo grupo a comparar (si es None, usa el segundo encontrado)\n",
    "        alpha: Nivel de significancia (default: 0.05)\n",
    "    Returns:\n",
    "        valor p de la prueba\n",
    "    \"\"\"\n",
    "    # Identificar grupos si no se especifican\n",
    "    grupos = data[group_column].unique()\n",
    "    if len(grupos) < 2:\n",
    "        raise ValueError(f\"La columna {group_column} debe tener al menos dos grupos\")\n",
    "    group1 = group1 if group1 is not None else grupos[0]\n",
    "    group2 = group2 if group2 is not None else grupos[1]\n",
    "    \n",
    "    # Obtener datos de cada grupo\n",
    "    datos_group1 = data[data[group_column] == group1][measure_column]\n",
    "    datos_group2 = data[data[group_column] == group2][measure_column]\n",
    "    \n",
    "    # Calcular estadísticos descriptivos\n",
    "    stats = pd.DataFrame({\n",
    "        'n': [len(datos_group1), len(datos_group2)],\n",
    "        'mediana': [datos_group1.median(), datos_group2.median()],\n",
    "        'rango_iq': [datos_group1.quantile(0.75) - datos_group1.quantile(0.25),\n",
    "                    datos_group2.quantile(0.75) - datos_group2.quantile(0.25)]\n",
    "    }, index=[group1, group2])\n",
    "    \n",
    "    # Realizar prueba de Mann-Whitney\n",
    "    statistic, p_value = mannwhitneyu(datos_group1, datos_group2)\n",
    "    \n",
    "    # Preparar interpretación\n",
    "    es_significativo = p_value < alpha\n",
    "    interpretacion = (f\"Estadístico U: {statistic:.4f}\\n\"\n",
    "                      f\"Valor p: {p_value:.4f}\\n\\n\"\n",
    "                      \"Estadísticos descriptivos:\\n\")\n",
    "    \n",
    "    for grupo in [group1, group2]:\n",
    "        n = stats.loc[grupo, 'n']\n",
    "        mediana = stats.loc[grupo, 'mediana']\n",
    "        rango = stats.loc[grupo, 'rango_iq']\n",
    "        interpretacion += f\"{grupo}: mediana={mediana:.2f}, rango_IQ={rango:.2f}, n={n}\\n\"\n",
    "    \n",
    "    interpretacion += f\"\\nConclusión: {'Se rechaza' if es_significativo else 'No se rechaza'} \"\n",
    "    interpretacion += \"la hipótesis nula\" + (\" (hay diferencias significativas en la distribución)\" \n",
    "                                           if es_significativo else \"\")\n",
    "    \n",
    "    print(interpretacion)\n",
    "    return p_value"
   ]
  },
  {
   "cell_type": "code",
   "execution_count": 15,
   "id": "e909debc-1aed-437d-9e98-9d8842ea9e7b",
   "metadata": {},
   "outputs": [
    {
     "name": "stdout",
     "output_type": "stream",
     "text": [
      "Estadístico U: 1021921905.5000\n",
      "Valor p: 0.0428\n",
      "\n",
      "Estadísticos descriptivos:\n",
      "gate_30: mediana=17.00, rango_IQ=45.00, n=44647\n",
      "gate_40: mediana=16.00, rango_IQ=47.00, n=45424\n",
      "\n",
      "Conclusión: Se rechaza la hipótesis nula (hay diferencias significativas en la distribución)\n"
     ]
    }
   ],
   "source": [
    "resultados = compare_distributions(df, 'version', 'sum_gamerounds')"
   ]
  },
  {
   "cell_type": "markdown",
   "id": "e8a40db5-2c70-4c72-b50f-5f4ae60f9073",
   "metadata": {},
   "source": [
    "## Ejercicio\n",
    "Utiliza la base de datos \"enigh_2020\" para evaluar si el ingreso corriente por hogar en promedio es diferente entre los hogares donde el jefe de familia es hombre en comparación con los hogares donde el jefe de familia es mujer.\n",
    "\n",
    "- Cargar los datos y librerías, explorar los datos\n",
    "- Evaluar supuestos: igualdad de varianzas y normalidad (no se requiere en este caso)\n",
    "- Realizar la prueba correspondiente"
   ]
  },
  {
   "cell_type": "markdown",
   "id": "ff6da0a3-74a6-4822-8e4d-e0fd54676a22",
   "metadata": {},
   "source": [
    "## Referencias\n",
    "https://roirevolution.com/blog/why-ab-testing-could-save-your-marketing-strategy/"
   ]
  },
  {
   "cell_type": "code",
   "execution_count": null,
   "id": "3bf13e16-5be0-4285-80b2-34b24659ab88",
   "metadata": {},
   "outputs": [],
   "source": []
  }
 ],
 "metadata": {
  "kernelspec": {
   "display_name": "Python 3 (ipykernel)",
   "language": "python",
   "name": "python3"
  },
  "language_info": {
   "codemirror_mode": {
    "name": "ipython",
    "version": 3
   },
   "file_extension": ".py",
   "mimetype": "text/x-python",
   "name": "python",
   "nbconvert_exporter": "python",
   "pygments_lexer": "ipython3",
   "version": "3.12.4"
  }
 },
 "nbformat": 4,
 "nbformat_minor": 5
}
