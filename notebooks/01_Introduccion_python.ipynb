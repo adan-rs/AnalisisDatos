{
 "cells": [
  {
   "cell_type": "markdown",
   "id": "932267cf-c963-4191-872d-a625651d3114",
   "metadata": {},
   "source": [
    "[![Abrir en Colab](https://colab.research.google.com/assets/colab-badge.svg)](https://colab.research.google.com/github/adan-rs/AnalisisDatos/blob/main/01_exploracion_y_visualizacion/01_Introduccion_python.ipynb)\n",
    "\n",
    "# Introducción a Python\n",
    "\n",
    "\"*Antes de exigir más datos debemos exigirnos más a nosotros mismos\" (Nate Silver, \"La señal y el ruido\")*"
   ]
  },
  {
   "cell_type": "markdown",
   "id": "78457edb-6e2a-4ae4-abb5-b5837950d988",
   "metadata": {
    "tags": []
   },
   "source": [
    "## Celdas y comentarios\n",
    "En este curso utilizaremos notebooks en Jupyter o Google Colab para programar en Python. Estos notebooks son archivos con extensión `.ipynb`, y permiten combinar celdas de texto con formato Markdown y celdas de código en un mismo documento. Puedes elegir el tipo de celda desde el menú ubicado en la parte superior de la interfaz.\n",
    "\n",
    "Para ejecutar una instrucción de Python dentro de una celda de código, presiona la combinación de teclas Shift + Enter. Por ejemplo, puedes usar la función `print()` para mostrar un mensaje en pantalla."
   ]
  },
  {
   "cell_type": "code",
   "execution_count": null,
   "id": "5aa54587-a806-47ea-b1d7-be4a641b7c8a",
   "metadata": {
    "tags": []
   },
   "outputs": [],
   "source": [
    "print('Hola mundo')"
   ]
  },
  {
   "cell_type": "markdown",
   "id": "5edbaa1c-4115-4740-9c1a-0f59f3f817b3",
   "metadata": {
    "tags": []
   },
   "source": [
    "Puedes agregar comentarios en el código utilizando el símbolo `#`. Todo lo que escribas después de este símbolo en una línea no será ejecutado por Python. Los comentarios son útiles para explicar lo que hace el código o dejar notas para ti o para otras personas que lo lean más adelante."
   ]
  },
  {
   "cell_type": "code",
   "execution_count": null,
   "id": "55e15939-11b2-4227-984c-93b2f3be1bb2",
   "metadata": {
    "tags": []
   },
   "outputs": [],
   "source": [
    "# Este es un comentario breve"
   ]
  },
  {
   "cell_type": "markdown",
   "id": "c29a9452-6231-400a-814f-a93607238c90",
   "metadata": {},
   "source": [
    "## Variables (por tipo de dato)\n",
    "Las variables nos permiten almacenar información en Python. Es importante tener en cuenta que Python distingue entre mayúsculas y minúsculas, por lo que `monto` y `Monto` se consideran nombres diferentes. Además, los nombres de las variables no pueden coincidir con comandos o palabras reservadas de Python (como if, for, in, entre otras).\n",
    "\n",
    "Para facilitar la lectura y mantenimiento del código, se recomienda seguir estas buenas prácticas al nombrar variables:\n",
    "\n",
    "- Usar nombres descriptivos.\n",
    "- Escribirlos en minúsculas.\n",
    "- Separar las palabras con guiones bajos (_).\n",
    "\n",
    "Por ejemplo, en lugar de escribir `MontoInicial`, es preferible usar `monto_inicial`.\n",
    "\n",
    "En el caso de constantes (valores que no deberían cambiar), se recomienda escribir sus nombres en mayúsculas, como en el ejemplo: `LIMITE_SUPERIOR`.\n",
    "\n",
    "**Variables numéricas**\n",
    "\n",
    "En Python, los números pueden ser de dos tipos principales:\n",
    "\n",
    "- Enteros (int)\n",
    "- Reales o decimales (float)\n",
    "\n",
    "El separador decimal que se utiliza es el punto (.). Python suele determinar automáticamente el tipo de número en función de cómo lo escribes."
   ]
  },
  {
   "cell_type": "code",
   "execution_count": null,
   "id": "974c7fa1-c1f2-4bed-ad84-b1211b3ab934",
   "metadata": {
    "tags": []
   },
   "outputs": [],
   "source": [
    "numero = 2"
   ]
  },
  {
   "cell_type": "markdown",
   "id": "52db33c6-8fbc-48ce-9723-26c189a35129",
   "metadata": {},
   "source": [
    "La función `print()` se utiliza para mostrar en pantalla el valor de una variable, un texto o el resultado de una operación. "
   ]
  },
  {
   "cell_type": "code",
   "execution_count": null,
   "id": "a14c181b-7554-4243-a3f1-908aed5f0109",
   "metadata": {},
   "outputs": [],
   "source": [
    "print(numero)"
   ]
  },
  {
   "cell_type": "markdown",
   "id": "49dcd569-85e6-4436-a000-ba01c461871a",
   "metadata": {
    "tags": []
   },
   "source": [
    "En entornos interactivos como Jupyter o Colab, puedes obtener el valor de una variable simplemente escribiendo su nombre en una celda y ejecutándola. Sin embargo, si estás trabajando en un script de Python (un archivo `.py`), escribir solo el nombre de la variable no generará ninguna salida visible. En ese caso, necesitas utilizar la función print() para mostrar su contenido:"
   ]
  },
  {
   "cell_type": "code",
   "execution_count": null,
   "id": "0adce283-fb7e-45dd-8813-c9522d2ffb48",
   "metadata": {
    "tags": []
   },
   "outputs": [],
   "source": [
    "numero"
   ]
  },
  {
   "cell_type": "markdown",
   "id": "dc03fc60-cda3-47a9-8401-3e278a51ace4",
   "metadata": {},
   "source": [
    "**Variables de texto** \n",
    "\n",
    "Las variables que almacenan texto se denominan *cadenas* de caracteres o *strings*, y en Python corresponden al tipo de dato `str`.\n",
    "\n",
    "Un string se define escribiendo el texto entre comillas simples (`' '`) o comillas dobles (`\" \"`). Ambos estilos son válidos, pero se recomienda ser consistente en su uso dentro de un mismo proyecto."
   ]
  },
  {
   "cell_type": "code",
   "execution_count": null,
   "id": "0836f2a8-e621-4f80-8f22-788f37c343e1",
   "metadata": {
    "tags": []
   },
   "outputs": [],
   "source": [
    "texto = 'Análisis y minería de datos'"
   ]
  },
  {
   "cell_type": "code",
   "execution_count": null,
   "id": "dd89a34c-d416-41fb-8c15-22c4ff636fbb",
   "metadata": {},
   "outputs": [],
   "source": [
    "print(texto)"
   ]
  },
  {
   "cell_type": "markdown",
   "id": "22df099d-c995-46d2-ae8f-4d14fed95383",
   "metadata": {},
   "source": [
    "También puedes incluir comillas dentro de un string con una barra invertida (`\\` ):"
   ]
  },
  {
   "cell_type": "code",
   "execution_count": null,
   "id": "1cf7e0ae-0fdf-43b5-bf89-d4db43a03032",
   "metadata": {},
   "outputs": [],
   "source": [
    "frase = 'Ella dijo: \\'Hola\\''\n",
    "frase"
   ]
  },
  {
   "cell_type": "markdown",
   "id": "2d429232-3d1a-4b2c-8563-9e65d54b5baa",
   "metadata": {},
   "source": [
    "**Variables booleanas** \n",
    "\n",
    "Las variables booleanas son aquellas que pueden tomar solo uno de dos valores: `True` (verdadero) o `False` (falso). Este tipo de variables es muy útil para representar condiciones lógicas, tomar decisiones y controlar el flujo del programa."
   ]
  },
  {
   "cell_type": "code",
   "execution_count": null,
   "id": "a3b0ea0c-44d3-4438-9953-f785bea64318",
   "metadata": {},
   "outputs": [],
   "source": [
    "tiene_descuento = True"
   ]
  },
  {
   "cell_type": "markdown",
   "id": "c29780ec-6345-4056-95e2-7969769e989f",
   "metadata": {},
   "source": [
    "Además de las variables numéricas, de texto y booleanas, Python admite otros tipos de variables que iremos explorando a lo largo del curso."
   ]
  },
  {
   "cell_type": "markdown",
   "id": "2aee4924-e4a1-40d1-ace9-06474995bc2e",
   "metadata": {
    "tags": []
   },
   "source": [
    "## Operaciones aritméticas\n",
    "Las operaciones aritméticas son fundamentales para cualquier tipo de análisis numérico, incluyendo finanzas, estadísticas y análisis de datos. Python permite realizar este tipo de operaciones de manera sencilla utilizando símbolos matemáticos estándar."
   ]
  },
  {
   "cell_type": "code",
   "execution_count": null,
   "id": "3c6bc2b1-48c4-4fd8-8c1d-b2aa548ca6c1",
   "metadata": {
    "tags": []
   },
   "outputs": [],
   "source": [
    "# Suma\n",
    "1 + 2"
   ]
  },
  {
   "cell_type": "code",
   "execution_count": null,
   "id": "f15e1bfd-0baf-411f-9a75-c7f153b749bb",
   "metadata": {
    "tags": []
   },
   "outputs": [],
   "source": [
    "# Multiplicación\n",
    "4.5 * 3"
   ]
  },
  {
   "cell_type": "code",
   "execution_count": null,
   "id": "45c033dc-3c82-4247-8a5f-672617647fac",
   "metadata": {
    "tags": []
   },
   "outputs": [],
   "source": [
    "# División (el resultado siempre será decimal)\n",
    "10 / 5"
   ]
  },
  {
   "cell_type": "code",
   "execution_count": null,
   "id": "a3e9fa22-ee8f-4b6d-ab8b-01c09eba2305",
   "metadata": {
    "tags": []
   },
   "outputs": [],
   "source": [
    "# Potencias\n",
    "2**3"
   ]
  },
  {
   "cell_type": "markdown",
   "id": "18db9012-7737-4bd0-b2f5-8ab5c6e85844",
   "metadata": {},
   "source": [
    "Adicionalmente podemos calcular lo siguiente:"
   ]
  },
  {
   "cell_type": "code",
   "execution_count": null,
   "id": "bf255a77-4cc9-4ccf-823d-0b0e77becfdb",
   "metadata": {
    "tags": []
   },
   "outputs": [],
   "source": [
    "# Cociente de una división\n",
    "10 // 3"
   ]
  },
  {
   "cell_type": "code",
   "execution_count": null,
   "id": "557d1ca4-449e-454b-814e-5f28996bce45",
   "metadata": {
    "tags": []
   },
   "outputs": [],
   "source": [
    "# Resto de una división\n",
    "10 % 3"
   ]
  },
  {
   "cell_type": "code",
   "execution_count": null,
   "id": "61d61262-dd51-4651-959b-01c6fedcfd7c",
   "metadata": {
    "tags": []
   },
   "outputs": [],
   "source": [
    "# Redondeo\n",
    "round(3.1416)"
   ]
  },
  {
   "cell_type": "markdown",
   "id": "bd2d1d51-b896-449a-b5ba-4db34d1fe73a",
   "metadata": {},
   "source": [
    "Python sigue la misma jerarquía de operaciones que las matemáticas (PEMDAS):\n",
    "1. Paréntesis `()`\n",
    "2. Exponentes `**`\n",
    "3. Multiplicación y división `*, /, //, %`\n",
    "4. Suma y resta `+, -`"
   ]
  },
  {
   "cell_type": "code",
   "execution_count": null,
   "id": "af431f85-e3c9-40ee-8e12-a1e338fe0657",
   "metadata": {
    "tags": []
   },
   "outputs": [],
   "source": [
    "# Se respeta la prioridad de la multiplicación sobre la suma\n",
    "1 + 2 * 3"
   ]
  },
  {
   "cell_type": "code",
   "execution_count": null,
   "id": "f66996fb-98bd-45b6-b09d-0c4d89021118",
   "metadata": {
    "tags": []
   },
   "outputs": [],
   "source": [
    "# Es recomendable usar paréntesis para indicar orden en operaciones\n",
    "(1 + 2) / (4 + 2)"
   ]
  },
  {
   "cell_type": "markdown",
   "id": "3741c04c-bd72-4d5d-90d0-e775136107f6",
   "metadata": {},
   "source": [
    "*Nota*: Python realiza los cálculos usando números binarios internamente, lo que puede generar pequeños errores de redondeo al trabajar con decimales."
   ]
  },
  {
   "cell_type": "code",
   "execution_count": null,
   "id": "59926d7b-47f2-4d27-9e68-b3d3b074779b",
   "metadata": {
    "tags": []
   },
   "outputs": [],
   "source": [
    "# Pueden mostrarse errores de redondeo al pasar de binario a decimal\n",
    "(4 / 5) * 3"
   ]
  },
  {
   "cell_type": "markdown",
   "id": "80e02176-d7ad-431a-9914-23d8e3363c6a",
   "metadata": {
    "tags": []
   },
   "source": [
    "## Listas y diccionarios"
   ]
  },
  {
   "cell_type": "markdown",
   "id": "ca0d2138-a24a-4627-a259-4bb968b68b0c",
   "metadata": {},
   "source": [
    "Una lista es una estructura de datos ordenada que permite almacenar múltiples elementos en una sola variable. Las listas son modificables (se pueden cambiar sus elementos) y pueden contener valores duplicados. Se definen escribiendo los elementos entre corchetes (`[ ]`), separados por comas."
   ]
  },
  {
   "cell_type": "code",
   "execution_count": null,
   "id": "3f200230-a894-43a8-949c-0402a1351639",
   "metadata": {},
   "outputs": [],
   "source": [
    "lista = ['Coahuila', 'Nuevo León', 'Tamaulipas']"
   ]
  },
  {
   "cell_type": "code",
   "execution_count": null,
   "id": "5be2fe79-37ac-4e8d-8fdc-8e29f9f291fc",
   "metadata": {},
   "outputs": [],
   "source": [
    "lista"
   ]
  },
  {
   "cell_type": "markdown",
   "id": "e7bed3a0-e4a4-454c-bf1f-92d139459d73",
   "metadata": {
    "tags": []
   },
   "source": [
    "En Python, los elementos de una lista están indexados, y la numeración empieza en 0. Es decir, el primer elemento está en la posición `0`, el segundo en la `1`, y así sucesivamente.\n",
    "\n",
    "Para personas sin experiencia en programación, puede resultar poco intuitivo que el conteo comience en 0. Sin embargo, en programación hablamos de posiciones o desplazamientos, no de cantidades.\n",
    "\n",
    "Si queremos acceder a un elemento en una posición específica, utilizamos el formato `lista[i]`, donde `i` es el índice del elemento que deseamos obtener."
   ]
  },
  {
   "cell_type": "code",
   "execution_count": null,
   "id": "1e14ea8c-1090-40eb-8968-7fd1f1bb7a77",
   "metadata": {},
   "outputs": [],
   "source": [
    "lista[0]"
   ]
  },
  {
   "cell_type": "markdown",
   "id": "b32970f8-6d00-4fb0-8f34-a675480f69bb",
   "metadata": {},
   "source": [
    "Un diccionario es otra estructura de datos en Python que permite almacenar información en forma de pares clave-valor (*key-value*). Cada clave (*key*) es única y se asocia a un valor (value). A diferencia de las listas, los elementos no están ordenados por posición, sino por su clave.\n",
    "\n",
    "Los diccionarios se definen utilizando llaves (`{ }`) y separando cada clave de su valor con dos puntos (`:`):"
   ]
  },
  {
   "cell_type": "code",
   "execution_count": null,
   "id": "bd247379-e62d-43e1-9a99-5265648933fc",
   "metadata": {},
   "outputs": [],
   "source": [
    "diccionario = {'Coahuila':'Saltillo', 'Nuevo León':'Monterrey'}"
   ]
  },
  {
   "cell_type": "code",
   "execution_count": null,
   "id": "e9429f62-f884-4704-864d-e74c5a030152",
   "metadata": {
    "tags": []
   },
   "outputs": [],
   "source": [
    "diccionario"
   ]
  },
  {
   "cell_type": "markdown",
   "id": "3ee144fa-32f1-4b14-abcd-d36544ab4828",
   "metadata": {},
   "source": [
    "## Funciones\n",
    "Una función es un bloque de código reutilizable que puede tomar datos de entrada, procesarlos y devolver un resultado. La sintaxis básica de una función en Python es la siguiente::\n",
    "\n",
    "```\n",
    "def nombre_de_la_funcion(parametro1, parametro2):\n",
    "    # Ejemplo de procesamiento\n",
    "    resultado = parametro1 + parametro2 \n",
    "    # Devolver resultado\n",
    "    return resultado \n",
    "```\n",
    "Elementos clave de una función:\n",
    "- `def`: Es una palabra clave que indica el inicio de la definición de una función.\n",
    "- `nombre_de_la_funcion`: Puede ser cualquier nombre válido, pero se recomienda que sea breve, descriptivo y siga las siguientes reglas: usar minúsculas, separar las palabras con guiones bajos (`_`), incluir un verbo en infinitivo al inicio (como en calcular_suma o obtener_promedio).\n",
    "- `(parametro1, parametro2)`: Los parámetros son variables que la función utiliza para recibir valores (llamados argumentos) al ser invocada. Es posible establecer valores predeterminados para los parámetros, por ejemplo: `parametro2=1`. En este caso, si no se pasa un argumento para `parametro2`, tomará el valor definido por defecto. También se puede aceptar un número variable de parámetros utilizando `*` antes del nombre, como en `*numeros`. Esto permite pasar una lista de argumentos de longitud indefinida.\n",
    "- `return`: Es una palabra clave que devuelve el resultado de la función al lugar donde fue llamada. Si solo se desea mostrar el resultado en pantalla, se puede usar `print()` en lugar de `return`. Si no se requiere realizar ninguna operación, se puede usar `pass`."
   ]
  },
  {
   "cell_type": "code",
   "execution_count": null,
   "id": "3b63216d-5dc4-4e54-8827-c9ed4e85414a",
   "metadata": {
    "tags": []
   },
   "outputs": [],
   "source": [
    "# Ejemplo básico de una función\n",
    "def sumar(a, b):\n",
    "    resultado = a + b\n",
    "    return resultado"
   ]
  },
  {
   "cell_type": "markdown",
   "id": "221cbca0-b5d4-4842-81ab-47e4eda59118",
   "metadata": {
    "tags": []
   },
   "source": [
    "Observe que se utilizan bloques de 4 espacios (*indentación*) para agrupar el código. Todas las líneas que estén *indentadas* al mismo nivel pertenecen al mismo bloque de código. La palabra *indentación* es un anglicismo equivalente a *sangría* en español."
   ]
  },
  {
   "cell_type": "code",
   "execution_count": null,
   "id": "9d8c0429-a28c-4569-96e5-56b8d4b4291d",
   "metadata": {
    "tags": []
   },
   "outputs": [],
   "source": [
    "# Uso de la función\n",
    "sumar(3,4)"
   ]
  },
  {
   "cell_type": "code",
   "execution_count": null,
   "id": "99ebc019-19c1-437c-9938-b32447800f06",
   "metadata": {
    "tags": []
   },
   "outputs": [],
   "source": [
    "# Uso de la función\n",
    "suma = sumar(3,4)\n",
    "print(suma)"
   ]
  },
  {
   "cell_type": "markdown",
   "id": "763bc5c3-aefe-459c-be23-e2046c98ca84",
   "metadata": {},
   "source": [
    "Se pueden crear funciones que no requieran parámetros, que tengan parámetros predeterminados, que arrojen varios resultados y varios tipos más de funciones. Estos casos los veremos más adelante en el curso.\n",
    "\n",
    "Hay funciones que ya están incorporadas en Python, por ejemplo `input()` detiene un proceso y espera a que el usuario escriba algo y presione la tecla *Enter*, para luego devolver lo que el usuario ha escrito como una cadena de texto."
   ]
  },
  {
   "cell_type": "code",
   "execution_count": null,
   "id": "5601764d-e34d-49e7-b4c3-205eaee42c7b",
   "metadata": {
    "tags": []
   },
   "outputs": [],
   "source": [
    "input('¿Cuál es tu nombre?')"
   ]
  },
  {
   "cell_type": "markdown",
   "id": "7338018a-ce9a-4b3f-827b-4e00c577839f",
   "metadata": {},
   "source": [
    "Para ampliar las funcionalidades en Python, podemos importar *bibliotecas*. Una biblioteca es una colección de módulos, que a su vez contienen funciones, clases y variables relacionadas. Por ejemplo, la biblioteca *random* incluye un módulo que nos permite acceder a diversas herramientas para trabajar con valores aleatorios. Una de estas herramientas es la función `choice()` que selecciona al azar un elemento de una lista."
   ]
  },
  {
   "cell_type": "code",
   "execution_count": null,
   "id": "472204a2-879a-44b6-93a1-54cf54141924",
   "metadata": {
    "tags": []
   },
   "outputs": [],
   "source": [
    "# Importar librería\n",
    "import random\n",
    "\n",
    "estado = random.choice(lista)\n",
    "print(estado)"
   ]
  },
  {
   "cell_type": "markdown",
   "id": "f2eb27b0-ad74-494f-9691-9c65060d9780",
   "metadata": {},
   "source": [
    "## Estructuras condicionales\n",
    "\n",
    "En Python se pueden tomar decisiones con base en declaraciones como `if` y `else` con la siguiente estructura:\n",
    "```\n",
    "if condicion:\n",
    "    # Código que se ejecuta si es verdadero\n",
    "else:\n",
    "    # Código que se ejecuta si es falso.\n",
    "```"
   ]
  },
  {
   "cell_type": "code",
   "execution_count": null,
   "id": "f952b41f-31d2-4e88-b084-f95448cbf634",
   "metadata": {},
   "outputs": [],
   "source": [
    "# Ejemplo:\n",
    "utilidad = -5000\n",
    "if utilidad > 0:\n",
    "    print('no hay pérdidas')\n",
    "else:\n",
    "    print('hay pérdidas')"
   ]
  },
  {
   "cell_type": "markdown",
   "id": "6f73326f-fb77-46ef-a48f-ab1382f9de4e",
   "metadata": {},
   "source": [
    "Si se tienen múltiples condiciones secuenciales se puede utilizar `elif`(abreviatura de *else if*)\n",
    "```\n",
    "if condición1:\n",
    "    # Código que se ejecuta si condición1 es verdadera\n",
    "elif condición2:\n",
    "    # Código que se ejecuta si condición2 es verdadera\n",
    "elif condición3:\n",
    "    # Código que se ejecuta si condición3 es verdadera\n",
    "else:\n",
    "    # Código que se ejecuta si ninguna condición es verdadera\n",
    "```"
   ]
  },
  {
   "cell_type": "markdown",
   "id": "2ea7f810-eda6-4bb1-b199-58b9a6f28a9b",
   "metadata": {},
   "source": [
    "## Ejercicio: Listas y funciones"
   ]
  },
  {
   "cell_type": "markdown",
   "id": "7467a732-85a0-48dd-a5c7-6e34ab4288ec",
   "metadata": {},
   "source": [
    "La bola 8 mágica (Magic 8-Ball) es una esfera de juguete con aspecto de bola ocho, que se utiliza para pedir respuestas o consejos. Vamos a crear un código que replique su funcionamiento.\n",
    "\n",
    "Crea una lista llamada `respuestas`con las siguientes frases:\n",
    "```\n",
    "'Concéntrate y vuelve a preguntar', 'Lo más probable', 'Mejor no decirte ahora', 'Mi respuesta es no', 'Muy dudoso', 'No cuentes con ello', 'No se puede predecir ahora', 'Puedes confiar en ello', 'Sí, definitivamente', 'Sí', 'Sin lugar a dudas', 'Es cierto'  \n",
    "```\n",
    "\n"
   ]
  },
  {
   "cell_type": "code",
   "execution_count": null,
   "id": "dc5283f8-af67-42c2-9275-373c754956f9",
   "metadata": {},
   "outputs": [],
   "source": [
    "# Crear lista\n"
   ]
  },
  {
   "cell_type": "markdown",
   "id": "cde69c5a-639f-42d4-9b97-6e849eb26c67",
   "metadata": {},
   "source": [
    "Ahora, complementa la siguiente función para que puedas utilizarla para obtener un consejo."
   ]
  },
  {
   "cell_type": "code",
   "execution_count": null,
   "id": "287ee183-c54f-4021-9963-502daabd76bd",
   "metadata": {},
   "outputs": [],
   "source": [
    "# Completar función\n",
    "def magic_ball():\n",
    "    input(\"Haz tu pregunta: \") \n",
    "    respuesta = random.choice(respuestas)"
   ]
  },
  {
   "cell_type": "markdown",
   "id": "740fadaf-6cd6-467c-b02e-c8e73dfc7f35",
   "metadata": {},
   "source": [
    "Finalmente, ejecuta la función, escribe tu pregunta y oprime \"enter\""
   ]
  },
  {
   "cell_type": "code",
   "execution_count": null,
   "id": "0e451e27-ebe3-4e4a-b06b-0e4a6aa1c6ee",
   "metadata": {},
   "outputs": [],
   "source": [
    "magic_ball()"
   ]
  },
  {
   "cell_type": "markdown",
   "id": "5062424c-2481-4572-bd13-82709c9ec0d1",
   "metadata": {},
   "source": [
    "## Notas\n",
    "- El manual de estilo más utilizado para programar en Python es PEP-8 y se puede consultar aquí: https://peps.python.org/pep-0008/ \n",
    "- Un desglose de las principales reglas de estilo se puede encontrar en https://www.flake8rules.com/\n",
    "- La práctica está basada en una actividad del libro: Sweigart, Al (2015). *Automate the boring stuff with Python. Practical programming for total beginners*. San Francisco: No Starch Press Inc."
   ]
  }
 ],
 "metadata": {
  "kernelspec": {
   "display_name": "Python [conda env:base] *",
   "language": "python",
   "name": "conda-base-py"
  },
  "language_info": {
   "codemirror_mode": {
    "name": "ipython",
    "version": 3
   },
   "file_extension": ".py",
   "mimetype": "text/x-python",
   "name": "python",
   "nbconvert_exporter": "python",
   "pygments_lexer": "ipython3",
   "version": "3.12.7"
  }
 },
 "nbformat": 4,
 "nbformat_minor": 5
}
