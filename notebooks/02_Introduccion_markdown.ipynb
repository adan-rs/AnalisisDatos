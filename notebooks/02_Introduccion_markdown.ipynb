{
 "cells": [
  {
   "cell_type": "markdown",
   "id": "0e9c40ae-1207-4b20-89d7-44b02b050ce0",
   "metadata": {},
   "source": [
    "# Introducción a Markdown\n",
    "Markdown es un lenguaje de marcado ligero que permite agregar formato a texto plano. Es muy utilizado en publicaciones en internet, como en blogs, foros y plataformas de documentación. En el contexto de los notebooks de Python, Markdown se emplea para documentar y hacer más legibles los códigos, explicaciones y resultados que se presentan."
   ]
  },
  {
   "cell_type": "markdown",
   "id": "4c151b80-0cbe-41c2-90a0-e3c6ee58810c",
   "metadata": {},
   "source": [
    "## Títulos\n",
    "Para escribir títulos o encabezados (headings) se usa el símbolo \\#,  con un número diferente de \\# por cada nivel. Por ejemplo, practica en la siguiente celda con alguno de estos ejemplos:\n",
    "```\n",
    "# Título 1  \n",
    "## Título 2  \n",
    "### Título 3\n",
    "```"
   ]
  },
  {
   "cell_type": "markdown",
   "id": "cf6b932b-4fc3-4d52-9683-1168c42d2878",
   "metadata": {},
   "source": []
  },
  {
   "cell_type": "markdown",
   "id": "a408a753-c4ac-460d-8cbd-87ebf34c0162",
   "metadata": {},
   "source": [
    "## Párrafos\n",
    "Para separar los párrafos hay que pulsar dos veces \"enter\", es decir, dejar un renglón en blanco. Si dejas más de un renglón en blanco, se convertirá en uno solo.\n",
    "\n",
    "\n",
    "Para incluir un salto de línea hay que pulsar dos veces la barra espaciadora y luego pulsar \"enter\". Intenta replicar el siguiente poema de Mario Benedetti:\n",
    "\n",
    "\"me gustaría  \n",
    "mirar todo de lejos  \n",
    "pero contigo\"\n"
   ]
  },
  {
   "cell_type": "markdown",
   "id": "6480d904-9c81-4817-b455-8bd9f90f7d94",
   "metadata": {},
   "source": []
  },
  {
   "cell_type": "markdown",
   "id": "5a856df0-4adc-4917-b86f-9d6ddcb26f10",
   "metadata": {},
   "source": [
    "## Cursivas y negritas\n",
    "Para enfatizar texto podemos utilizar \"\\*\" o utilizar \"\\_\" justo antes y después del texto y obtendremos texto en cursiva. Si queremos resaltar con negritas se duplica el signo, y si deseamos mostrar con negritas y cursiva se triplica el signo.  \n",
    "\n",
    "| Si se escribe: | Se verá como: |\n",
    "| ----------- | ----------- |\n",
    "| \\*texto en cursiva* | *texto en cursiva* |\n",
    "| \\*\\*texto en negrita***  | **texto en negrita**  |\n",
    "| \\*\\*\\*texto en cursiva y en negrita***  | ***texto en cursiva y en negrita*** |\n",
    "\n",
    "Practica en el espacio a continuación:"
   ]
  },
  {
   "cell_type": "markdown",
   "id": "2f8a2e31-ef15-4fba-b0f1-ed9433d274d9",
   "metadata": {},
   "source": []
  },
  {
   "cell_type": "markdown",
   "id": "c85b2e4f-d4a9-44c3-b0f1-653cd6b9e1bd",
   "metadata": {},
   "source": [
    "## Código\n",
    "Si queremos ejemplificar código, utilizamos el acento grave. \n",
    "\n",
    "Por ejemplo:    \n",
    "\\`import pandas as\\`  \n",
    "\n",
    "Se verá como:  \n",
    "`import pandas as pd`\n",
    "\n",
    "Si queremos colocar un bloque de código, lo utilizamos tres veces antes del código y después del código.\n",
    "\n",
    "Por ejemplo  \n",
    "\\```  \n",
    "import pandas as pd  \n",
    "import numpy as np  \n",
    "\\```\n",
    "\n",
    "\n",
    "Se verá como:\n",
    "```\n",
    "import pandas as pd\n",
    "import numpy as np\n",
    "```"
   ]
  },
  {
   "cell_type": "markdown",
   "id": "7dc47960-315a-444f-b91b-d58f086f8539",
   "metadata": {},
   "source": []
  },
  {
   "cell_type": "markdown",
   "id": "be8006ee-96e8-4801-8863-f8bf7d35b32f",
   "metadata": {},
   "source": [
    "## Listas\n",
    "Para crear listas no ordenadas se pueden utilizar un \"\\- \", un \"\\* \" o un signo de \"\\+ \" antes de cada renglón.  \n",
    "Por ejemplo:\n",
    "```\n",
    "- Sesión 1\n",
    "- Sesión 2\n",
    "- Sesión 3\n",
    "```\n",
    "\n",
    "Se verá como:\n",
    "- Sesión 1\n",
    "- Sesión 2\n",
    "- Sesión 3\n",
    "\n",
    "Para crear listas ordenadas basta con agregar la numeración:\n",
    "```\n",
    "1. Sesión 1\n",
    "2. Sesión 2\n",
    "3. Sesión 3\n",
    "```\n",
    "Para crear listas anidadas incluye una sangría:\n",
    "```\n",
    "1. Sesión 1\n",
    "    - Introducción\n",
    "    - Conceptos básicos\n",
    "2. Sesión 2\n",
    "    - Estadística descriptiva\n",
    "    - Estadística inferencial\n",
    "```\n",
    "  Replica a continuación alguno de los listados anteriores"
   ]
  },
  {
   "cell_type": "markdown",
   "id": "d9e11b06-e8c4-444b-8fd8-188498aa930d",
   "metadata": {},
   "source": []
  },
  {
   "cell_type": "markdown",
   "id": "0b50214c-0168-47b1-9bdb-b779d3fa51a6",
   "metadata": {},
   "source": [
    "## Líneas horizontales\n",
    "Para agregar líneas horizontales, usa varios guiones cortos:  \n",
    "\\-\\-\\-"
   ]
  },
  {
   "cell_type": "markdown",
   "id": "f29f6131-5337-40a1-91d1-9f34a8c3d5a6",
   "metadata": {},
   "source": [
    "---"
   ]
  },
  {
   "cell_type": "markdown",
   "id": "51c0e8af-0066-4596-902e-57dc98af3c51",
   "metadata": {},
   "source": [
    "## Enlaces\n",
    "Para enlaces, podemos utilizar el siguiente formato:  \n",
    "`[Enlace misterioso](https://youtu.be/dQw4w9WgXcQ)`  \n",
    "Y se verá como:  \n",
    "[Enlace misterioso](https://youtu.be/dQw4w9WgXcQ)"
   ]
  },
  {
   "cell_type": "markdown",
   "id": "b940b0e7-d26b-4eee-b137-44c82af9b3ce",
   "metadata": {},
   "source": []
  },
  {
   "cell_type": "markdown",
   "id": "0823c259-521a-42e9-8fee-68f780492061",
   "metadata": {},
   "source": [
    "## Citas en bloque\n",
    "Para agregar una cita larga agregamos el signo \"\\>\" antes de un bloque de texto:\n",
    "\n",
    "Por ejemplo:  \n",
    "\\>Ayer sufrí la influencia refrescante de algunas páginas de estadística. Si se reflexiona con cuidado, el misterio del Universo se encuentra también ahí. Aunque no lo parezca. (Fernando Pessoa, \"Plural de nadie\")\n",
    "\n",
    "Se verá como:\n",
    ">Ayer sufrí la influencia refrescante de algunas páginas de estadística. Si se reflexiona con cuidado, el misterio del Universo se encuentra también ahí. Aunque no lo parezca. (Fernando Pessoa, \"Plural de nadie\")\n",
    "\n"
   ]
  },
  {
   "cell_type": "markdown",
   "id": "9b86a134-7878-463f-8291-1c8d4188689b",
   "metadata": {},
   "source": []
  },
  {
   "cell_type": "markdown",
   "id": "41608dc3-f243-435c-b98b-330cb05e9410",
   "metadata": {},
   "source": [
    "## Imágenes\n",
    "Finalmente, para incluir imágenes, si está en una subcarpeta, se puede utilizar la siguiente sintaxis:  \n",
    "`![Texto](../recursos/decline.png)`  \n",
    "\n",
    "Que se verá como:  \n",
    "![Texto](../recursos/decline.png)\n",
    "        "
   ]
  },
  {
   "cell_type": "code",
   "execution_count": null,
   "id": "c724539b-5824-4594-98d9-dc321d102b5f",
   "metadata": {},
   "outputs": [],
   "source": []
  }
 ],
 "metadata": {
  "kernelspec": {
   "display_name": "Python [conda env:base] *",
   "language": "python",
   "name": "conda-base-py"
  },
  "language_info": {
   "codemirror_mode": {
    "name": "ipython",
    "version": 3
   },
   "file_extension": ".py",
   "mimetype": "text/x-python",
   "name": "python",
   "nbconvert_exporter": "python",
   "pygments_lexer": "ipython3",
   "version": "3.12.7"
  }
 },
 "nbformat": 4,
 "nbformat_minor": 5
}
