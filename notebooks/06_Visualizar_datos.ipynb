{
 "cells": [
  {
   "cell_type": "markdown",
   "id": "ecc7a6a8-7b95-42a3-ae4d-1acce323a449",
   "metadata": {},
   "source": [
    "# Visualización de datos\n"
   ]
  },
  {
   "cell_type": "markdown",
   "id": "7218eb4b-0951-493a-bb40-4349e0324eca",
   "metadata": {},
   "source": [
    "## Visualización en Pandas y Matplotlib\n",
    "En esta práctica utilizaremos el archivo \"enigh_2020\" que incluye las variables principales de la ENIGH 2020 (Encuesta Nacional de Ingreso y Gasto en Hogares) con observaciones de los principales municipios de la zona metropolitana de Monterrey. "
   ]
  },
  {
   "cell_type": "code",
   "execution_count": null,
   "id": "147a8a4a-ad36-479a-968b-ef3a6b8dcff9",
   "metadata": {
    "tags": []
   },
   "outputs": [],
   "source": [
    "# Importar la biblioteca de pandas\n",
    "import pandas as pd"
   ]
  },
  {
   "cell_type": "code",
   "execution_count": null,
   "id": "b9109c73-2b62-4e45-b2b9-5ccc4e131a7b",
   "metadata": {
    "tags": []
   },
   "outputs": [],
   "source": [
    "# Cargar el archivo 'enigh2020.xlsx'\n",
    "#df = pd.read_excel('../data/enigh2020.xlsx')\n",
    "url = 'https://github.com/adan-rs/AnalisisDatos/raw/main/data/enigh2020.xlsx'\n",
    "columns = ['folioviv', 'ubica_geo', 'est_socio', 'clase_hog', 'sexo_jefe',\n",
    "           'edad_jefe', 'educa_jefe', 'tot_integ', 'hombres', 'mujeres',\n",
    "           'ing_cor', 'gasto_mon']\n",
    "df = pd.read_excel(url, usecols=columns)"
   ]
  },
  {
   "cell_type": "code",
   "execution_count": null,
   "id": "877882fd-b0e4-4191-8633-e682af56288d",
   "metadata": {},
   "outputs": [],
   "source": [
    "# Revisar las variables\n",
    "df.info()"
   ]
  },
  {
   "cell_type": "code",
   "execution_count": null,
   "id": "5079a3d8-cc1d-48d7-b780-59f16a802cbd",
   "metadata": {},
   "outputs": [],
   "source": [
    "# Eliminar valores atípicos\n",
    "from sklearn.ensemble import IsolationForest\n",
    "\n",
    "def remove_outliers_iso_forest(df, columns, contamination=0.05, random_state=42):\n",
    "    \"\"\"\n",
    "    Elimina valores atípicos utilizando el algoritmo Isolation Forest.\n",
    "    Retorna DataFrame sin valores atípicos.\n",
    "    \"\"\"\n",
    "    # Initialize and fit Isolation Forest model\n",
    "    iso_forest = IsolationForest(contamination=contamination, random_state=random_state)\n",
    "    iso_forest.fit(df[columns])\n",
    "    \n",
    "    # Predict labels: 1 (normal) or -1 (outlier)\n",
    "    labels = iso_forest.predict(df[columns])\n",
    "    \n",
    "    # Calculate and display number of excluded outliers\n",
    "    df_clean = df[labels == 1]\n",
    "    excluded_values = len(df) - len(df_clean)\n",
    "    print(f\"\\nCantidad de valores atípicos excluidos: {excluded_values}\")\n",
    "    return df_clean\n",
    "\n",
    "df = remove_outliers_iso_forest(df, columns=['ing_cor', 'gasto_mon'])"
   ]
  },
  {
   "cell_type": "markdown",
   "id": "0dba43cc-aae9-4f6b-9c30-f2c1a1ccaaa0",
   "metadata": {},
   "source": [
    "**Tabla de frecuencias**: Una tabla de frecuencia muestra el número de veces que se repite cada categoría o valor en una variable. Es útil para resumir datos categóricos o discretos. \n",
    "\n",
    "Seleccionemos una columna con una variable categórica. Por ejemplo, el sexo del jefe de familia ('sexo_jefe'). Para hacer un diagrama de pastel o de barras necesitamos tener las categorías en un índice y sus frecuencias respectivas. A partir de los datos originales, una opción rápida es obtener un conteo de la frecuencia en cada categoría con `df['X'].value_counts()`"
   ]
  },
  {
   "cell_type": "code",
   "execution_count": null,
   "id": "4e9b6ae2-326a-4e61-b092-2d83e7cbd2d6",
   "metadata": {
    "tags": []
   },
   "outputs": [],
   "source": [
    "# Obtener el conteo de la variable 'sexo_jefe'\n",
    "frecuencias = df['sexo_jefe'].value_counts()"
   ]
  },
  {
   "cell_type": "markdown",
   "id": "f8e1c9c4-d47a-4529-94b6-2c795f7fb1bf",
   "metadata": {},
   "source": [
    "Si la tabla de frecuencias ya está en un DataFrame hay que seleccionar el índice y la columna de valores. Por ejemplo, si tenemos un dataframe con las columnas \"sexo_jefe\" y \"count\". \n",
    "```\n",
    "frecuencias = df['sexo_jefe'].value_counts() #Obtener frecuencias\n",
    "frecuencias = frecuencias.reset_index()  #Convertir en dataframe solo para ejemplo\n",
    "frecuencias.set_index('sexo_jefe')['count'].plot.pie();\n",
    "```"
   ]
  },
  {
   "cell_type": "markdown",
   "id": "11fce521-3bdf-4b46-8790-950a8cf4519d",
   "metadata": {
    "tags": []
   },
   "source": [
    "**Diagramas de pastel**: Un diagrama de pastel representa proporciones relativas como segmentos de un círculo. Cada segmento muestra la participación de una categoría respecto al total. Útil cuando se tienen pocas categorías; no recomendable con muchas clases o valores similares\n",
    "\n",
    "Los dataframes en Pandas tienen un método *plot* que permite crear fácilmente un gráfico. Por ejemplo, para una variable categórica \"X\", podemos crear un diagrama de pastel (pie) con `plot.pie()`"
   ]
  },
  {
   "cell_type": "code",
   "execution_count": null,
   "id": "0e0066d9-c0a8-4414-b089-59292b41b569",
   "metadata": {
    "tags": []
   },
   "outputs": [],
   "source": [
    "# Crear un gráfico de pastel\n",
    "frecuencias.plot.pie()"
   ]
  },
  {
   "cell_type": "markdown",
   "id": "c800d1b1-be16-4d0f-b3fe-0d74f2f704fe",
   "metadata": {},
   "source": [
    "Observa que aparece un texto antes del gráfico relacionada con el comando utilizado. Para evitar esto, repite el comando agregando un punto y coma al final."
   ]
  },
  {
   "cell_type": "markdown",
   "id": "8273756e-dd0a-4ef5-bf3f-7d23a886060b",
   "metadata": {},
   "source": [
    "Algunos parámetros importantes son `figsize`para establecer el tamaño del gráfico, `'title'` para agregar un título al gráfico, y `autopct='%1.1f%%'` para mostrar los valores con un decimal. Si nombras explícitamente los parámetros no importa el orden en que se escriban. Por ejemplo:"
   ]
  },
  {
   "cell_type": "code",
   "execution_count": null,
   "id": "1efd83f3-2c61-46fe-9a53-3fabfd258666",
   "metadata": {},
   "outputs": [],
   "source": [
    "# Crear gráfico de pastel\n",
    "frecuencias.plot.pie(figsize=(4,4),      # Establecer tamaño del gráfico        \n",
    "                     title='Sexo del jefe de familia',   #Título\n",
    "                     autopct='%1.1f%%',  # Mostrar los valores con un decimal\n",
    "                     colormap='summer',  # Paleta automática de colores\n",
    "                     startangle=90,      # Angulo inicial para la primera sección\n",
    "                     explode=[0, 0.1],   # Lista para desplazar secciones hacia afuera\n",
    "                     labels=['Hombre', 'Mujer']\n",
    "                    );"
   ]
  },
  {
   "cell_type": "markdown",
   "id": "20ea5100-3f43-4b34-90a7-eb896165da84",
   "metadata": {},
   "source": [
    "Para ver las opciones de `colormap` consulta la página https://matplotlib.org/stable/users/explain/colors/colormaps.html "
   ]
  },
  {
   "cell_type": "markdown",
   "id": "0e51394b-92a6-4121-931a-afcdd3084720",
   "metadata": {},
   "source": [
    "**Diagramas de barra** Otra opción para variables categóricas son los diagramas de barra. Otra opción para variables categóricas son los diagramas de barra. Un diagrama de barras muestra valores categóricos mediante barras rectangulares cuya longitud es proporcional al valor que representan\n",
    "\n",
    "Para un diagrama de barras se puede utilizar `plot.bar()` si deseas un gráfico vertical o `.plot.barh()` si deseas un gráfico horizontal."
   ]
  },
  {
   "cell_type": "code",
   "execution_count": null,
   "id": "281ac832-fa0f-4aff-a41c-b1632df5c3a2",
   "metadata": {
    "tags": []
   },
   "outputs": [],
   "source": [
    "# Crea un gráfico de barras\n",
    "frecuencias.plot.bar();"
   ]
  },
  {
   "cell_type": "markdown",
   "id": "f5200c3a-97c2-4ce2-b70c-c894d54eccef",
   "metadata": {},
   "source": [
    "Existen algunos parámetros para modificar la apariencia del gráfico. Por ejemplo *width* indica la proporción de espacio que ocupan las barras, que dede manera predeterminada es 0.5 (*¿por qué es importante dejar un hueco entre las barras?*). El parámetro *alpha* sirve para agregar un nivel de transparencia desde completamente transparente (0) hasta completamente opaco (1). Con *color* podemos establecer una lista de colores codificados como `color=['red', 'blue']` o `color=['b', 'r']`"
   ]
  },
  {
   "cell_type": "code",
   "execution_count": null,
   "id": "5dd1fdb5-a4b8-4f5c-abc9-49919e5aec30",
   "metadata": {},
   "outputs": [],
   "source": [
    "# Crear un gráfico de barras utilizando parámetros\n",
    "frecuencias.plot.bar(figsize=(4,4),  \n",
    "                     width = 0.80,        # Proporción de espacio que ocupan las barras, default = 0.5\n",
    "                     alpha = 0.5,         # Transparencia, 0: transparente, 1: completamente opaco\n",
    "                     color = ['b', 'r'],  # Lista de colores codificados como 'blue' o 'b'\n",
    "                     align='center',      # Alienación: \"center\" o \"edge\"\n",
    "                     edgecolor='black'\n",
    "                    );"
   ]
  },
  {
   "cell_type": "markdown",
   "id": "c68520d1-521e-43e4-b5cc-bdc790addfb6",
   "metadata": {},
   "source": [
    "Para ejemplificar gráficos más complejos utilizaremos como referencia una tabla cruzada a partir de una tabla pivote. Crearemos esta tabla con la instrucción `tabla = df.pivot_table(index='ubica_geo', columns='sexo_jefe', values='tot_integ', aggfunc='sum')`. Las filas serán los diferentes municipios, las columnas el sexo del jefe de familia y los valores dentro de la tabla serán la suma de cada combinación de nombre y categoría"
   ]
  },
  {
   "cell_type": "code",
   "execution_count": null,
   "id": "bebf334d-208b-47a4-8282-bb522aceff08",
   "metadata": {
    "tags": []
   },
   "outputs": [],
   "source": [
    "# Crear tabla pivote\n",
    "tabla = df.pivot_table(index='ubica_geo', columns='sexo_jefe', values='tot_integ', aggfunc='sum')\n",
    "tabla"
   ]
  },
  {
   "cell_type": "code",
   "execution_count": null,
   "id": "53ea9974-aa62-4168-8997-128341178740",
   "metadata": {
    "tags": []
   },
   "outputs": [],
   "source": [
    "# Construye un gráfico de barras para \"tabla\". Modifica y agrega el parámetro 'stacked=True'\n",
    "tabla.plot.bar(stacked = True);"
   ]
  },
  {
   "cell_type": "markdown",
   "id": "26c556f6-30c5-4e14-aacf-e42003e304f9",
   "metadata": {
    "tags": []
   },
   "source": [
    "Si nos interesa mostrar más de un gráfico se utiliza el parámetro *subplots=True*"
   ]
  },
  {
   "cell_type": "code",
   "execution_count": null,
   "id": "4d78d3fe-f1af-4033-b2c2-5d734b46c909",
   "metadata": {
    "tags": []
   },
   "outputs": [],
   "source": [
    "# Construye gráficos de barras para tablas utilizando subplots=True\n",
    "tabla.plot.bar(subplots = True);"
   ]
  },
  {
   "cell_type": "markdown",
   "id": "e121b10a-7c83-4249-bfe7-8b87bd3bb70c",
   "metadata": {
    "tags": []
   },
   "source": [
    "**Diagrama de dispersión**: Un diagrama de dispersión representa dos variables numéricas en un plano cartesiano. Permite visualizar patrones, relaciones o posibles correlaciones entre ellas.\n",
    "\n",
    "Para los diagramas de dispersión está la función `.scatter`. Por ejemplo:  \n",
    "`df.plot.scatter(x='ing_cor', y='gasto_mon')` "
   ]
  },
  {
   "cell_type": "code",
   "execution_count": null,
   "id": "5228a140-5d4b-4a63-8b23-2a37b446f208",
   "metadata": {
    "tags": []
   },
   "outputs": [],
   "source": [
    "# Crear un diagrama de dispersión\n",
    "df.plot.scatter(x='ing_cor', y='gasto_mon');"
   ]
  },
  {
   "cell_type": "code",
   "execution_count": null,
   "id": "f4140249-88ed-4523-b3ae-7aa967883b00",
   "metadata": {},
   "outputs": [],
   "source": [
    "# Crear un diagrama de dispersión\n",
    "df.plot.scatter(x='ing_cor', y='gasto_mon',\n",
    "                figsize=(6,6),      # Establecer tamaño del gráfico \n",
    "                title='Diagrama de dispersión', # Título del gráfico\n",
    "                s=2,               # Tamaño de los puntos\n",
    "                c='red',           # Color de los puntos\n",
    "                alpha=0.7,         # Transparencia\n",
    "                grid=True,         # Cuadrícula\n",
    "                xlabel='Ingreso corriente',\n",
    "                ylabel='Gasto monetario'\n",
    "               );"
   ]
  },
  {
   "cell_type": "markdown",
   "id": "b698d2a7-0799-4e44-91c2-3d6f8c150335",
   "metadata": {},
   "source": [
    "**Histograma**: Un histograma agrupa datos numéricos continuos en rangos (intervalos) y muestra la frecuencia de observaciones en cada rango como una barra."
   ]
  },
  {
   "cell_type": "code",
   "execution_count": null,
   "id": "2902b973-3d33-45f5-b563-f882afaa9d12",
   "metadata": {},
   "outputs": [],
   "source": [
    "df['edad_jefe'].plot.hist(bins=10,            # Número de divisiones\n",
    "                          range=(0,100),      # Límite inferior y superior\n",
    "                          alpha=0.7,          # Transparencia\n",
    "                          color='green', \n",
    "                          edgecolor='black',  # Color de los bordes\n",
    "                          density=True        #Normaliza para que el área sea 1\n",
    "                         );"
   ]
  },
  {
   "cell_type": "markdown",
   "id": "c3de5149-0593-483a-8d61-0f224a94a606",
   "metadata": {},
   "source": [
    "**Diagrama de caja**: Un diagrama de caja resume la distribución de una variable numérica mostrando los cuartiles, la mediana y los valores atípicos. Permite detectar asimetrías y dispersión."
   ]
  },
  {
   "cell_type": "code",
   "execution_count": null,
   "id": "9f5aef10-aeda-46af-a5c0-893180826126",
   "metadata": {},
   "outputs": [],
   "source": [
    "df['edad_jefe'].plot.box(figsize=(6,2),\n",
    "                         vert=False,        # Orientación\n",
    "                         grid=True,         # Cuadrícula\n",
    "                         patch_artist=True, # Rellena el boxplot con color\n",
    "                         color={'boxes':'green'},   # Diccionario para colores de elementos\n",
    "                         showmeans=True,    # Muestra la media\n",
    "                         meanline=True,     # Si showmeans=True muestra media como línea\n",
    "                         showfliers=True    # Si False, oculta outliers\n",
    "                        );"
   ]
  },
  {
   "cell_type": "markdown",
   "id": "dc23ad92-68c6-452a-a868-418cf8fbb0e2",
   "metadata": {},
   "source": [
    "## Gráficos con Seaborn\n",
    "Para realizar gráficos más complejos es necesario utilizar otros paquetes como *Seaborn*. La estructura general de una función en Seaborn es `sns.plotClass(x=Xvar, y=Yvar, data=data, kind=kind, options)` en la cual sns es el alias de Seaborn, *plotClass* es una familia de gráficos.  \n",
    "Tanto Pandas como Seaborn están construidas con el paquete *Matplotlib* interactuando con el módulo *pyplot*. Por lo tanto, se requiere importar el módulo *pyplot* aunque no lo utilices directamente. Para importarlo utiliza `import matplotlib.pyplot as plt`"
   ]
  },
  {
   "cell_type": "code",
   "execution_count": null,
   "id": "5c4c7073-a004-496d-8f5a-be7d878acb2b",
   "metadata": {
    "tags": []
   },
   "outputs": [],
   "source": [
    "import matplotlib.pyplot as plt\n",
    "import seaborn as sns"
   ]
  },
  {
   "cell_type": "markdown",
   "id": "2e6e32a9-6854-40f1-bcf7-1e4d8d7b24f6",
   "metadata": {},
   "source": [
    "Se puede establecer un estilo para todos los gráficos en seaborn y matplotlib, por ejemplo:\n",
    "- 'whitegrid': Fondo blanco con cuadrícula.\n",
    "- 'darkgrid': Fondo gris con cuadrícula.\n",
    "- 'white': fondo blanco sin cuadrícula.\n",
    "- 'dark': fondo gris sin cuadrícula\n",
    "\n",
    "En cuanto a paletas categóricas\n",
    "- deep: colores intensos\n",
    "- pastel: colores suaves\n",
    "- dark: colores oscuros\n",
    "- muted: colores menos saturados.\n",
    "\n",
    "\n",
    "Paletas secuenciales:\n",
    "- rocket: del negro al blanco pasando por púrpura\n",
    "- mako: escala de azules\n",
    "- flare: escala de naranjas\n",
    "- crest: escala de azul a blanco\n",
    "- magma: escala de púrpura a amarillo\n",
    "\n",
    "Para consultar más paletas: https://seaborn.pydata.org/tutorial/color_palettes.html "
   ]
  },
  {
   "cell_type": "code",
   "execution_count": null,
   "id": "d78bdb00-6cf5-437c-85f3-8c4a6a772f41",
   "metadata": {},
   "outputs": [],
   "source": [
    "sns.set_style(\"whitegrid\")\n",
    "sns.set_palette(\"deep\")"
   ]
  },
  {
   "cell_type": "markdown",
   "id": "4118aa1a-34c5-4f5b-ae67-7f7752424647",
   "metadata": {},
   "source": [
    "Utiliza `sns.resets_defaults()` para volver a la configuración inicial."
   ]
  },
  {
   "cell_type": "code",
   "execution_count": null,
   "id": "3a8de778-f8ce-4de3-a714-56eb35a8913e",
   "metadata": {},
   "outputs": [],
   "source": [
    "sns.reset_defaults()"
   ]
  },
  {
   "cell_type": "markdown",
   "id": "73041612-12bc-4b05-b5b9-d4622bc284a4",
   "metadata": {},
   "source": [
    "## Diagrama de dispersión"
   ]
  },
  {
   "cell_type": "markdown",
   "id": "6ddf9e92-78d4-4ca7-9c81-7203c8b41ce4",
   "metadata": {},
   "source": [
    "Para un diagrama de dispersión se puede utilizar la función `sns.scatterplot()`."
   ]
  },
  {
   "cell_type": "markdown",
   "id": "3b556f48-4872-427a-a3ee-a13b54d87ece",
   "metadata": {},
   "source": [
    "El parámetro \"hue\" sirve para colorear los puntos de acuerdo a una categoría. El parámetro \"palette\" se utiliza para agregar una paleta de colores."
   ]
  },
  {
   "cell_type": "code",
   "execution_count": null,
   "id": "696238e1-4c48-4239-b52d-176666c0b6e9",
   "metadata": {},
   "outputs": [],
   "source": [
    "plt.figure(figsize=(6, 6))\n",
    "\n",
    "scatter = sns.scatterplot(data=df,\n",
    "                          x='ing_cor',\n",
    "                          y='gasto_mon',\n",
    "                          hue='est_socio',      # Color según categoría\n",
    "                          alpha=0.6,            # Transparencia\n",
    "#                          palette='deep',       # Paleta de colores\n",
    "                          legend='full',        # Mostrar leyenda completa\n",
    "                          )\n",
    "# Opcional, agregar linea de tendencia\n",
    "sns.regplot(data=df, x='ing_cor', \n",
    "            y='gasto_mon',\n",
    "            scatter=False,  \n",
    "            color='red',\n",
    "            line_kws={'linestyle': '--'}\n",
    "           )\n",
    "\n",
    "plt.title('Ingreso y gasto en Hogares')\n",
    "plt.xlabel('Ingreso corriente')\n",
    "plt.ylabel('Gasto monetario')\n",
    "plt.show()"
   ]
  },
  {
   "cell_type": "markdown",
   "id": "0dbccc69-2c66-420b-9a59-5bf1d726493c",
   "metadata": {},
   "source": [
    "## Diagrama de pastel"
   ]
  },
  {
   "cell_type": "code",
   "execution_count": null,
   "id": "25901560-8470-49ab-acc3-ef5a674772d3",
   "metadata": {},
   "outputs": [],
   "source": [
    "data = df['est_socio'].value_counts()"
   ]
  },
  {
   "cell_type": "code",
   "execution_count": null,
   "id": "31015753-c3ed-49b9-b87f-edc68b435791",
   "metadata": {},
   "outputs": [],
   "source": [
    "plt.figure(figsize=(6, 4)) # Tamaño específico\n",
    "\n",
    "plt.pie(data.values,                     # Valores numéricos\n",
    "        labels=data.index,              # Etiquetas para cada segmento\n",
    "        autopct='%1.1f%%',             # Formato para mostrar porcentajes\n",
    "        startangle=90,                 # Ángulo de inicio del primer segmento\n",
    "        textprops={'fontsize': 12}     # Tamaño de fuente para las etiqueta\n",
    "        )\n",
    "plt.title('Distribución de Categorías')\n",
    "plt.tight_layout()     # Ajuste del diseño\n",
    "plt.show()     #Mostrar el gráfico"
   ]
  },
  {
   "cell_type": "markdown",
   "id": "78960b86-919c-4219-88dd-5e403fecd549",
   "metadata": {},
   "source": [
    "## Histograma"
   ]
  },
  {
   "cell_type": "markdown",
   "id": "363da350-a938-4b2f-a019-5d42f8016275",
   "metadata": {},
   "source": [
    "Un histograma se puede crear con *hist()*. El primer argumento es el conjunto de datos. Los *bins* corresponden a las barras."
   ]
  },
  {
   "cell_type": "code",
   "execution_count": null,
   "id": "f720f9c6-df5a-482c-b96c-36a99dd82c2c",
   "metadata": {},
   "outputs": [],
   "source": [
    "plt.figure(figsize=(8, 6))\n",
    "\n",
    "hist = sns.histplot(\n",
    "    data=df,\n",
    "    x='edad_jefe',\n",
    "    hue='sexo_jefe',         # Color según grupo\n",
    "    multiple=\"layer\",        # Superponer histogramas\n",
    "    bins=30,                 # Número de bins\n",
    "    alpha=0.5,               # Transparencia\n",
    "    stat='density',          # Mostrar densidad en lugar de conteo\n",
    "    element='step',          # Tipo de elemento (step, bars, poly)\n",
    "    kde=True,                # Añadir estimación de densidad kernel\n",
    "    line_kws={'linewidth': 2})\n",
    "\n",
    "plt.title('Histograma edad del jefe de familia')\n",
    "plt.xlabel('Edad')\n",
    "plt.ylabel('Densidad')\n",
    "plt.show();"
   ]
  },
  {
   "cell_type": "markdown",
   "id": "576019a0-7c15-4eba-b191-cec0278a609d",
   "metadata": {
    "tags": []
   },
   "source": [
    "## Diagrama de caja (boxplot)"
   ]
  },
  {
   "cell_type": "code",
   "execution_count": null,
   "id": "b3f7a456-c4b7-4434-aa19-60d343097043",
   "metadata": {},
   "outputs": [],
   "source": [
    "plt.figure(figsize=(8, 6))\n",
    "\n",
    "box = sns.boxplot(data=df,\n",
    "                  x='est_socio',\n",
    "                  y='ing_cor',\n",
    "                  hue='sexo_jefe',         # Separar por condición\n",
    "#                  palette='Set3',          # Paleta de colores\n",
    "                  width=0.8,              # Ancho de las cajas\n",
    "                  fliersize=10,           # Tamaño de los puntos atípicos\n",
    "                  linewidth=2,            # Grosor de las líneas\n",
    "                  notch=False,             # Añadir muescas si True\n",
    "                  medianprops={           # Propiedades de la línea mediana\n",
    "                      'color': 'red',\n",
    "                      'linewidth': 2},\n",
    "                  boxprops={              # Propiedades de las cajas\n",
    "                      'alpha': 0.7},\n",
    "                  whiskerprops={          # Propiedades de los bigotes\n",
    "                      'linestyle': '--'})\n",
    "\n",
    "plt.title('Diagrama de Caja con Distribución de Puntos', \n",
    "         pad=20, size=16, fontweight='bold')\n",
    "plt.xlabel('Grupos', fontsize=12)\n",
    "plt.ylabel('Valores', fontsize=12)\n",
    "plt.show();"
   ]
  },
  {
   "cell_type": "markdown",
   "id": "a5e6b073-1367-4a01-8516-a488a01a7b8e",
   "metadata": {},
   "source": [
    "En la terminología de Matplotlib, los gráficos se crean en un contenedor llamado figura (figure), y cada gráfico se organiza dentro de un área definida por uno o más ejes (axes). Puedes crear una figura con `fig = plt.figure()`, pero de manera predeterminada esta no contiene ningún eje. Los ejes se deben agregar explícitamente con el método `add_subplot()` o utilizando `plt.subplots()`. El método `plt.subplots()` crea una figura y un conjunto de ejes de manera más conveniente:  \r\n",
    "- fig, ax = plt.subplots(nrows=1, ncols=1) crea una figura con un solo eje (1x1).  \r\n",
    "- fig, axs = plt.subplots(nrows=2, ncols=2) crea una figura con un conjunto de 4 ejes dispuestos en una cuadrícula de 2x2. \r\n",
    "\r\n",
    "En Matplotlib, es común asignar nombres descriptivos como ax (para un solo eje) o axs (para conjunto de ejes)  \n"
   ]
  },
  {
   "cell_type": "markdown",
   "id": "4c19476e-9432-41fc-a45c-675870e7cd0c",
   "metadata": {},
   "source": [
    "## Referencias\n",
    "- Se pueden encontrar varios ejemplos de gráficos y códigos en: https://matplotlib.org/stable/gallery/index.html\n",
    "- Documentación de Seaborn: https://seaborn.pydata.org/"
   ]
  },
  {
   "cell_type": "code",
   "execution_count": null,
   "id": "070b6b88-2c53-43db-bcb6-62497aa19c66",
   "metadata": {},
   "outputs": [],
   "source": []
  }
 ],
 "metadata": {
  "kernelspec": {
   "display_name": "Python [conda env:base] *",
   "language": "python",
   "name": "conda-base-py"
  },
  "language_info": {
   "codemirror_mode": {
    "name": "ipython",
    "version": 3
   },
   "file_extension": ".py",
   "mimetype": "text/x-python",
   "name": "python",
   "nbconvert_exporter": "python",
   "pygments_lexer": "ipython3",
   "version": "3.12.7"
  }
 },
 "nbformat": 4,
 "nbformat_minor": 5
}
