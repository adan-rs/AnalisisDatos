{
 "cells": [
  {
   "cell_type": "markdown",
   "id": "ae05dff2-ab04-4236-97d9-031979e53134",
   "metadata": {},
   "source": [
    "# Pruebas de normalidad"
   ]
  },
  {
   "cell_type": "markdown",
   "id": "027c0696-a2f4-4fb7-8bd7-6821f3500176",
   "metadata": {},
   "source": [
    "Antes de aplicar muchos de los métodos estadísticos (como la prueba t de Student o el ANOVA) es importante verificar si los datos siguien una distribución normal. La literatura especializada registra decenas de pruebas para evaluar la normalidad de los datos. Revisaremos los casos de la la prueba Shapiro-Wilk y la prueba Kolmogorov-Smirnov (con la corrección de Lilliefors). \n",
    "\n",
    "En las primeras dos pruebas (y otras más incluidas en este curso), vamos a crear funciones que realicen lo siguiente:\n",
    "1. *Preparar los datos*: Validar y procesar datos para la prueba.\n",
    "2. *Realizar la prueba estadística*: Obtener los estadísticos de prueva y valores p.\n",
    "3. *Mostrar los resultados e interpretación*: Para facilitar la descripción de los resultados de la prueba.\n",
    "4. *Guardar una conclusión general o el p-valor*: Para facilitar decisiones específicas en flujos automatizados."
   ]
  },
  {
   "cell_type": "code",
   "execution_count": null,
   "id": "984471df-d94c-4659-a6cf-71547352eac7",
   "metadata": {},
   "outputs": [],
   "source": [
    "import pandas as pd\n",
    "import numpy as np\n",
    "\n",
    "#df = pd.read_excel('../datas/enigh2020.xlsx')\n",
    "df = pd.read_excel('https://github.com/adan-rs/AnalisisDatos/raw/main/data/enigh2020.xlsx')"
   ]
  },
  {
   "cell_type": "code",
   "execution_count": null,
   "id": "21d0afc2-e9ae-4d4c-aa1f-bece3278c75d",
   "metadata": {},
   "outputs": [],
   "source": [
    "# Para propósitos de ejemplo obtenemos una muestra de tamaño mediano\n",
    "data = df['edad_jefe'].head(100)"
   ]
  },
  {
   "cell_type": "markdown",
   "id": "88c46e67-68eb-4e53-9e96-73f554aab906",
   "metadata": {},
   "source": [
    "## Prueba Shapiro-Wilk\n",
    "La prueba Shapiro-Wilk (1965) evalúa si los datos provienen de una distribución normal. Esta prueba compara valores observados con valores esperados bajo una distribución normal teórica mediante una combinación lineal de los datos ordenados. Originalmente fue diseñada para muestras pequeñas (n < 50) y luego se extendió hasta n = 2000.  No obstante, no es recomendable para muestras mayores debido a que puede ser muy sensible a pequeñas desviaciones de la normalidad que podrían no ser relevantes. \n",
    "\n",
    "Las hipótesis son:\n",
    "- Hipótesis nula (H0): Los datos provienen de una distribución normal\n",
    "- Hipótesis alternativa (H1): Los datos no provienen de una distribución normal.\n",
    "\n",
    "La prueba genera un estadístico W que toma valores de 0 a 1, donde 1 indica una normalidad perfecta."
   ]
  },
  {
   "cell_type": "code",
   "execution_count": null,
   "id": "06e8a602-3480-4c32-9517-9cca51cc4be3",
   "metadata": {},
   "outputs": [],
   "source": [
    "from scipy import stats\n",
    "\n",
    "def shapiro_wilk_test(data, alpha=0.05):\n",
    "    \"\"\" Aplica una prueba Shapiro-Wilk para evaluar la normalidad de los datos\"\"\"\n",
    "    statistic, p_value = stats.shapiro(data)\n",
    "    conclusion = \"no rechaza\" if p_value > alpha else \"rechaza\"\n",
    "    print(f'La prueba Shapiro-Wilk {conclusion} la normalidad de los datos (W = {statistic:.4f}, p = {p_value:.4f})')\n",
    "    return p_value > alpha"
   ]
  },
  {
   "cell_type": "code",
   "execution_count": null,
   "id": "fee95cec-14b5-4704-824b-60a34425a9c1",
   "metadata": {},
   "outputs": [],
   "source": [
    "resultado = shapiro_wilk_test(data)"
   ]
  },
  {
   "cell_type": "markdown",
   "id": "01c766bb-8b5a-4b83-b8f2-b53e6a4a3686",
   "metadata": {},
   "source": [
    "## Prueba Kolmogorov-Smirnov-Lilliefors\n",
    "La prueba de los matemáticos rusos Kolmogorov-Smirnov compara la función de distribución empírica (EDF) con la función de distribución acumulada (CDF) de una distribución específica (como la normal). En la biblioteca *scipy.stats* el módulo `kstest()` realiza esta prueba. Las hipótesis son:\n",
    "- Hipótesis nula (H0): Los datos provienen de una distribución específica\n",
    "- Hipótesis alternativa (H1): Los datos no provienen de una distribución específica\n",
    "\n",
    "Sin embargo, cuando los parámetros de la distribución se estiman a partir de los datos (en lugar de ser conocidos de antemano), la prueba de Kolmogorov-Smirnov clásica no es estrictamente válida. En este caso, es preferible utilizar la corrección de Lilliefors (1967), que adapta la prueba de KS para este escenario. Para realizar la prueba de Lilliefors se puede utilizar `lilliefors()` de la biblioteca statsmodels. Esta prueba arroja un estadístico D que mide la mayor diferencia absoluta entre la distribución teórica con la observada."
   ]
  },
  {
   "cell_type": "code",
   "execution_count": null,
   "id": "3512126e-63f4-414d-a7e2-8330379fbe66",
   "metadata": {},
   "outputs": [],
   "source": [
    "from statsmodels.stats.diagnostic import lilliefors as sm_lilliefors\n",
    "\n",
    "def lilliefors_test(data, alpha=0.05):\n",
    "    \"\"\" Aplica una prueba Kolmogorov-Smirnov-Lilliefors para evaluar la normalidad de los datos\"\"\"  \n",
    "    statistic, p_value = sm_lilliefors(data)\n",
    "    conclusion = \"no rechaza\" if p_value > alpha else \"rechaza\"\n",
    "    print(f'La prueba de Lilliefors {conclusion} la normalidad de los datos (D = {statistic:.4f}, p = {p_value:.4f})')\n",
    "    return p_value > alpha"
   ]
  },
  {
   "cell_type": "code",
   "execution_count": null,
   "id": "5e40a77a-2e78-4f72-8859-ea47997cc0dc",
   "metadata": {},
   "outputs": [],
   "source": [
    "lilliefors_test(data)"
   ]
  },
  {
   "cell_type": "markdown",
   "id": "585da2ba-3f4a-4cf0-a100-688e49b15dda",
   "metadata": {},
   "source": [
    "## Prueba Jarque-Bera\n",
    "La prueba Jarque-Bera (1980) evalúa cuanto se desvían el sesgo y la curtosis observados de los valores esperados bajo una distribución normal. Esta prueba fue desarrollada por el mexicano Carlos M. Jarque junto con Anil K. Bera.\n",
    "Las hipótesis son:\n",
    "- Hipótesis nula (H0): Los datos tienen una distribución normal.\n",
    "- Hipótesis alternativa (H1): Los datos no tienen una distribución normal.\n",
    "\n",
    "El estadístico Jarque-Bera (JB) sigue aproximadamente una distribución chi-cuadrada con dos grados de libertad asumiendo que la hipótesis nula es verdadera. Este estadístico se incluye en el reporte de resultados de la regresión lineal de la biblioteca de statsmodels."
   ]
  },
  {
   "cell_type": "markdown",
   "id": "7525363f-20ae-4db0-93ef-76c0ab2a3bfa",
   "metadata": {},
   "source": [
    "## Referencias\n",
    "https://docs.scipy.org/doc/scipy/reference/generated/scipy.stats.shapiro.html\n",
    "\n",
    "\n",
    "https://docs.scipy.org/doc/scipy/reference/generated/scipy.stats.kstest.html"
   ]
  },
  {
   "cell_type": "code",
   "execution_count": null,
   "id": "c056b8f7-fe3c-4f5f-b619-3fc78706b4d8",
   "metadata": {},
   "outputs": [],
   "source": []
  }
 ],
 "metadata": {
  "kernelspec": {
   "display_name": "Python [conda env:base] *",
   "language": "python",
   "name": "conda-base-py"
  },
  "language_info": {
   "codemirror_mode": {
    "name": "ipython",
    "version": 3
   },
   "file_extension": ".py",
   "mimetype": "text/x-python",
   "name": "python",
   "nbconvert_exporter": "python",
   "pygments_lexer": "ipython3",
   "version": "3.12.7"
  }
 },
 "nbformat": 4,
 "nbformat_minor": 5
}
