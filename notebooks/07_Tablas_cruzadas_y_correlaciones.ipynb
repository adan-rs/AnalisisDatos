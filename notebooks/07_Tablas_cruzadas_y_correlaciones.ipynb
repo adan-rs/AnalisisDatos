{
 "cells": [
  {
   "cell_type": "markdown",
   "id": "4bb25f87-283c-4782-8f92-5f75151b3607",
   "metadata": {},
   "source": [
    "[![Abrir en Colab](https://colab.research.google.com/assets/colab-badge.svg)](https://colab.research.google.com/github/adan-rs/AnalisisDatos/blob/main/notebooks/07_Tablas_cruzadas.ipynb)\n",
    "\n",
    "# Tablas cruzadas\n",
    "Una forma básica de realizar una tabla cruzada es mediante el método crosstab de Pandas, especificando las variables en las filas y columnas respectivamente. Por ejemplo, para las variables \"A\" y \"B\", utilizaremos:  \n",
    "`pd.crosstab(df['A'], df['B'])`  \n",
    "El argumento *margins* se puede agregar para mostrar la suma por fila o columna. Cada celda dentro de la tabla mostrará la frecuencia observada en esa intersección"
   ]
  },
  {
   "cell_type": "code",
   "execution_count": null,
   "id": "84acf7b0-721b-497a-a354-f0383003ca74",
   "metadata": {},
   "outputs": [],
   "source": [
    "import pandas as pd\n",
    "import matplotlib.pyplot as plt\n",
    "import seaborn as sns"
   ]
  },
  {
   "cell_type": "code",
   "execution_count": null,
   "id": "32566691-ff81-46de-990d-43443d2da129",
   "metadata": {},
   "outputs": [],
   "source": [
    "#df = pd.read_excel('../data/enigh2020.xlsx')\n",
    "df = pd.read_excel('https://github.com/adan-rs/AnalisisDatos/raw/main/data/enigh2020.xlsx')"
   ]
  },
  {
   "cell_type": "code",
   "execution_count": null,
   "id": "8a6cb310-c27e-475a-8246-d5c928f2bd87",
   "metadata": {},
   "outputs": [],
   "source": [
    "# Crea una tabla cruzada para relacionar \"sexo_jefe\" con \"est_socio\"\n",
    "tabla = pd.crosstab(df['sexo_jefe'], df['est_socio'], margins=False)\n",
    "tabla"
   ]
  },
  {
   "cell_type": "markdown",
   "id": "f3faedc5-811a-4f5d-a3be-739e8dbd3a51",
   "metadata": {},
   "source": [
    "En muchas ocasiones se requiere representar esta tabla cruzada mediante proporciones. Para ello se puede utilizar el argumento *normalize* con los siguientes valores:\n",
    "\n",
    "    'all': para dividir cada cantidad entre el total.\n",
    "    'index': para dividir las celdas en cada fila entre el total de la fila.\n",
    "    'columns': para dividir las celdas en cada columna entre el total de la columna."
   ]
  },
  {
   "cell_type": "code",
   "execution_count": null,
   "id": "ff5a116e-4ca1-48aa-ab26-d8dee90a2625",
   "metadata": {},
   "outputs": [],
   "source": [
    "# Muestra una tabla con las cantidades *normalizadas* entre el total de la columna\n",
    "tabla_normalizada = pd.crosstab(df['sexo_jefe'], df['est_socio'], normalize='index')\n",
    "tabla_normalizada"
   ]
  },
  {
   "cell_type": "code",
   "execution_count": null,
   "id": "63adcdfa-fe48-4003-96a8-050f87e7e81f",
   "metadata": {},
   "outputs": [],
   "source": [
    "# Ejemplo de reordenar columnas\n",
    "orden_columnas = ['bajo', 'medio_bajo', 'medio_alto', 'alto']\n",
    "tabla_normalizada = tabla_normalizada[orden_columnas]\n",
    "tabla_normalizada"
   ]
  },
  {
   "cell_type": "markdown",
   "id": "cb004270-0288-4f9a-bf0a-45ca84fc58c2",
   "metadata": {},
   "source": [
    "Para visualizar la relación entre ambas variables se puede utilizar un \"mapa de calor\". Es recomendable utilizar la librería *seaborn* como en el siguiente ejemplo:  \n",
    "`sns.heatmap(tabla, annot=True, cmap='YlGnBu', fmt='d')`  \n",
    "*annot=True* sirve para indicar la cantidad en cada celda, *fmt=d* se utiliza para que se despliegue como números enteros, y *cmap* se utiliza para seleccionar una paleta de colores (ver https://matplotlib.org/stable/gallery/color/colormap_reference.html)"
   ]
  },
  {
   "cell_type": "code",
   "execution_count": null,
   "id": "d1715269-fe75-4433-9437-2c28630642ab",
   "metadata": {},
   "outputs": [],
   "source": [
    "plt.figure(figsize=(6, 2)) \n",
    "sns.heatmap(tabla_normalizada,annot=True, cmap='Greens');"
   ]
  },
  {
   "cell_type": "markdown",
   "id": "fb4d3583-db47-44fe-aa13-2f2e45e1fb57",
   "metadata": {},
   "source": [
    "# Matriz de correlaciones\n",
    "Un medida útil para evaluar el grado de relación lineal entre dos variables cuantitativas es el coeficiente de correlación de Pearson. Este coeficiente puede tomar valores entre -1 y 1, donde valores positivos indican una relación directa, valores negativos indican una relación inversa, y cuanto más cercano sea a 0 más débil es esta relación. \n",
    "\n",
    "Para calcular un coeficiente de correlación de Pearson entre dos columnas se puede utilizar el método *corr()* de Pandas. Por ejemplo:\n",
    "`correlacion = df['X'].corr(df['Y'])`  \n",
    "\n",
    "Para calcular el coeficiente de correlación de Spearman se puede agregar como argumento:  \n",
    "`correlacion = df['X'].corr(df['Y'], method='spearman')`  "
   ]
  },
  {
   "cell_type": "code",
   "execution_count": null,
   "id": "1f16b404-8c6b-4a1f-89f5-2e42cde95ea3",
   "metadata": {},
   "outputs": [],
   "source": []
  },
  {
   "cell_type": "code",
   "execution_count": null,
   "id": "3acc92c1-e1ac-45be-bae9-034acec4ba4a",
   "metadata": {},
   "outputs": [],
   "source": [
    "import pandas as pd\n",
    "import numpy as np\n",
    "import matplotlib.pyplot as plt\n",
    "import seaborn as sns\n",
    "\n",
    "df = pd.read_excel('https://github.com/adan-rs/AnalisisDatos/raw/main/data/enigh2020.xlsx')"
   ]
  },
  {
   "cell_type": "code",
   "execution_count": null,
   "id": "1b2393bf-f169-4ff9-bff0-850bf50738ab",
   "metadata": {},
   "outputs": [],
   "source": [
    "from sklearn.ensemble import IsolationForest\n",
    "\n",
    "def remove_outliers_iso_forest(df, columns, contamination=0.05, random_state=42):\n",
    "    \"\"\"\n",
    "    Elimina valores atípicos utilizando el algoritmo Isolation Forest.\n",
    "    Retorna DataFrame sin valores atípicos.\n",
    "    \"\"\"\n",
    "    # Initialize and fit Isolation Forest model\n",
    "    iso_forest = IsolationForest(contamination=contamination, random_state=random_state)\n",
    "    iso_forest.fit(df[columns])\n",
    "    \n",
    "    # Predict labels: 1 (normal) or -1 (outlier)\n",
    "    labels = iso_forest.predict(df[columns])\n",
    "    \n",
    "    # Calculate and display number of excluded outliers\n",
    "    df_clean = df[labels == 1]\n",
    "    excluded_values = len(df) - len(df_clean)\n",
    "    print(f\"\\nCantidad de valores atípicos excluidos: {excluded_values}\")\n",
    "    return df_clean"
   ]
  },
  {
   "cell_type": "code",
   "execution_count": null,
   "id": "6ae4e7c8-39ac-455c-96be-c833a9a7290a",
   "metadata": {},
   "outputs": [],
   "source": [
    "df = remove_outliers_iso_forest(df, ['ing_cor', 'gasto_mon'])"
   ]
  },
  {
   "cell_type": "code",
   "execution_count": null,
   "id": "29ff08dd-ea3c-4c94-9976-710680504eef",
   "metadata": {},
   "outputs": [],
   "source": [
    "df.plot(kind='scatter', x='ing_cor', y='gasto_mon');"
   ]
  },
  {
   "cell_type": "markdown",
   "id": "b79696e0-98ef-4b6f-ad21-e1bbd089fe4b",
   "metadata": {},
   "source": [
    "El coeficiente de correlación es una medida del grado o fuerza de la relación lineal entre dos variables cuantitativas. Un valor positivo del coeficiente de correlación indica una relación directa mientras que un valor negativo indica una relación inversa."
   ]
  },
  {
   "cell_type": "code",
   "execution_count": null,
   "id": "39656ff7-a4b8-411c-aaf0-e8484b239689",
   "metadata": {},
   "outputs": [],
   "source": [
    "# Calcula la correlación entre \"ing_cor\" y \"gasto_mon\"\n",
    "correlacion = df['ing_cor'].corr(df['gasto_mon'])\n",
    "correlacion.round(4)"
   ]
  },
  {
   "cell_type": "markdown",
   "id": "a2880e11-c8e9-48dd-b04f-3a354fb6a324",
   "metadata": {},
   "source": [
    "Si se tiene un DataFrame df de variables cuantitativas se puede obtener la matriz de correlaciones utilizando df.corr()\n"
   ]
  },
  {
   "cell_type": "code",
   "execution_count": null,
   "id": "f7433166-0e7f-4d49-97e4-407af4f5a087",
   "metadata": {},
   "outputs": [],
   "source": [
    "var_cont = [\"ing_cor\", \"gasto_mon\", \"edad_jefe\", \"tot_integ\"]\n",
    "matriz_corr = df[var_cont].corr()\n",
    "matriz_corr"
   ]
  },
  {
   "cell_type": "code",
   "execution_count": null,
   "id": "62602378-4b32-45e0-80af-aa5ca582a616",
   "metadata": {},
   "outputs": [],
   "source": [
    "plt.figure(figsize=(6, 4)) \n",
    "sns.heatmap(matriz_corr,annot=True, cmap='Greens');\n",
    "plt.title(\"Mapa de calor\", fontsize=16) "
   ]
  }
 ],
 "metadata": {
  "kernelspec": {
   "display_name": "Python [conda env:base] *",
   "language": "python",
   "name": "conda-base-py"
  },
  "language_info": {
   "codemirror_mode": {
    "name": "ipython",
    "version": 3
   },
   "file_extension": ".py",
   "mimetype": "text/x-python",
   "name": "python",
   "nbconvert_exporter": "python",
   "pygments_lexer": "ipython3",
   "version": "3.12.7"
  }
 },
 "nbformat": 4,
 "nbformat_minor": 5
}
