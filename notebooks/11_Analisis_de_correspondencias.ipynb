{
 "cells": [
  {
   "cell_type": "markdown",
   "id": "564d35fd-6f46-44f6-8df9-46d2c4e0219a",
   "metadata": {
    "tags": []
   },
   "source": [
    "[![Abrir en Colab](https://colab.research.google.com/assets/colab-badge.svg)](https://colab.research.google.com/github/adan-rs/AnalisisDatos/blob/main/notebooks/08_Analisis_de_correspondencias.ipynb)\n",
    "\n",
    "# Análisis de correspondencias múltiple"
   ]
  },
  {
   "cell_type": "markdown",
   "id": "4b7f0aee-de90-46f5-ac60-6c2b5926082a",
   "metadata": {},
   "source": [
    "*¿Para qué se utiliza?* \n",
    "El Análisis de Correspondencias (AC) es una técnica estadística exploratoria que permite representar gráficamente tablas de contingencia, revelando la relación entre categorías de filas y columnas. Su principal utilidad es generar mapas perceptuales que muestran asociaciones entre marcas, atributos, respuestas u otras variables categóricas. Es particularmente útil en investigación de mercados, sociología y estudios de opinión.\n",
    "\n",
    "*¿Qué variables considera?*\n",
    "    Una tabla de contingencia (frecuencias cruzadas) que cruza dos variables categóricas nominales.\n",
    "    Las categorías pueden provenir de escalas tipo Likert, preguntas cerradas o etiquetas de productos/servicios.\n",
    "    A diferencia de otras técnicas, no requiere datos cuantitativos, y puede utilizar categorías sin orden implícito.\n",
    "\n",
    "*¿Cómo funciona?*\n",
    "El AC transforma la tabla de contingencia en una representación geométrica usando la distancia chi-cuadrado como métrica de semejanza. Así cada categoría de fila y columna se representa como un punto en un espacio bidimensional (o de más dimensiones). Las distancias entre puntos reflejan el grado de asociación: menor distancia = mayor asociación. Finalmente, las coordenadas de cada punto son derivadas de la descomposición de valores propios de la tabla estandarizada.\n",
    "\n",
    "*Supuestos y recomendaciones*\n",
    "- No se requiere normalidad ni homocedasticidad.\n",
    "- Es ideal para datos cualitativos o nominales con suficientes frecuencias por celda.\n",
    "- Se recomienda interpretar el porcentaje de varianza explicada por cada dimensión.\n",
    "- En estudios más complejos puede utilizarse el análisis de correspondencias múltiple, que permite incluir más de dos variables categóricas.\n"
   ]
  },
  {
   "cell_type": "markdown",
   "id": "c5f5651f-44ca-4146-8a2a-47c6d82dd7a4",
   "metadata": {},
   "source": [
    "Para realizar el análisis de correspondencia se recomienda instalar la biblioteca *Prince* (solo es necesario hacerlo la primera vez) \n",
    "`!pip install prince`  \n",
    "La documentación se puede consultar en: documentación https://libraries.io/pypi/prince"
   ]
  },
  {
   "cell_type": "code",
   "execution_count": null,
   "id": "b858bcfc-8b82-4383-9859-06aa2a3dac61",
   "metadata": {},
   "outputs": [],
   "source": [
    "# Instalar la biblioteca Prince\n",
    "#!pip install prince"
   ]
  },
  {
   "cell_type": "code",
   "execution_count": null,
   "id": "fc4536e3-9e07-4b7e-a1e6-7fca34bf75c7",
   "metadata": {
    "tags": []
   },
   "outputs": [],
   "source": [
    "import pandas as pd\n",
    "import matplotlib.pyplot as plt\n",
    "import prince"
   ]
  },
  {
   "cell_type": "code",
   "execution_count": null,
   "id": "fc69b392-0319-4079-8f87-931ad84efc76",
   "metadata": {},
   "outputs": [],
   "source": [
    "import warnings\n",
    "warnings.filterwarnings(\"ignore\", category=FutureWarning)"
   ]
  },
  {
   "cell_type": "markdown",
   "id": "7dea90bf-8576-47d3-8152-e5e76e4e574b",
   "metadata": {},
   "source": [
    "Seleccionamos un conjunto de variables cualitativas"
   ]
  },
  {
   "cell_type": "code",
   "execution_count": null,
   "id": "69f0771d-aba2-4b6c-8663-4ffff784858d",
   "metadata": {
    "tags": []
   },
   "outputs": [],
   "source": [
    "#df = pd.read_excel('../data/enigh2020.xlsx')\n",
    "df = pd.read_excel('https://github.com/adan-rs/AnalisisDatos/raw/main/data/enigh2020.xlsx')\n",
    "variables_categoricas = ['est_socio', 'sexo_jefe', 'ubica_geo']\n",
    "dataframe = df[variables_categoricas]"
   ]
  },
  {
   "cell_type": "code",
   "execution_count": null,
   "id": "679246c3-ab11-4145-ba29-2039a2579d2e",
   "metadata": {},
   "outputs": [],
   "source": [
    "dataframe.head(5)"
   ]
  },
  {
   "cell_type": "code",
   "execution_count": null,
   "id": "f356fcb2-024d-4a31-adfc-1f1cc1a72d80",
   "metadata": {},
   "outputs": [],
   "source": [
    "# Creación de instancia del modelo\n",
    "mca = prince.MCA(n_components = 2)\n",
    "# Ajuste del modelo a los datos\n",
    "mca = mca.fit(dataframe)\n",
    "# Crea gráfico\n",
    "ax = mca.plot(dataframe, show_column_labels=True, show_row_markers=False)\n",
    "ax"
   ]
  },
  {
   "cell_type": "markdown",
   "id": "5210cf9b-2180-416c-ab3a-14986da27a66",
   "metadata": {},
   "source": [
    "Cada punto corresponde a una observación o una categoría. La interpretación de las dimensiones depende del contexto. \n",
    "- En general, la distancia entre los puntos de cada categoría indican la relación entre ellas. Entre más corta sea la distancia, mayor será la asociación de las categorías.\n",
    "- Observaciones y categorías en el mismo cuadrante tienden a tener relaciones más fuertes, mientras que observaciones y categorías en cuadrantes opuestos pueden representar relaciones negativas.\n",
    "- Una categoría cerca del centro generalmente indica que esa categoría no está fuertemente asociada con ninguna de las dimensiones, por ejemplo, por ser independiente, tener baja variabilidad o baja frecuencia.\n"
   ]
  },
  {
   "cell_type": "markdown",
   "id": "c9d008a0-8b74-4d45-ace0-cfb1e2345a8d",
   "metadata": {},
   "source": [
    "Ejemplo de resultados:\n",
    "> Se aplicó un análisis de correspondencias a una tabla de contingencia entre marcas y atributos percibidos por los consumidores. El mapa bidimensional resultante explicó el 84% de la varianza total. Marca A se asoció fuertemente con el atributo \"Precio bajo\", mientras que Marca C mostró afinidad con \"Innovación\". Marca B fue percibida en relación con \"Calidad alta\"."
   ]
  },
  {
   "cell_type": "markdown",
   "id": "670b86ad-d4b3-4028-96ee-52cb8ec8fe2c",
   "metadata": {},
   "source": [
    "## Ejercicio"
   ]
  },
  {
   "cell_type": "code",
   "execution_count": null,
   "id": "2958efa9-5189-40d6-a0d4-781c47cd1d61",
   "metadata": {},
   "outputs": [],
   "source": [
    "url = 'https://github.com/adan-rs/AnalisisDatos/raw/main/data/aerolineas.xlsx'\n",
    "aerolineas = pd.read_excel(url)\n",
    "var_cat_aerolineas = ['sentimiento', 'aerolinea']\n",
    "dataframe = aerolineas[var_cat_aerolineas]"
   ]
  },
  {
   "cell_type": "code",
   "execution_count": null,
   "id": "4814b659-5b18-4312-9a41-ecf6b92e54d9",
   "metadata": {},
   "outputs": [],
   "source": [
    "# Creación de instancia del modelo\n",
    "mca = prince.MCA(n_components = 2)\n",
    "# Ajuste del modelo a los datos\n",
    "mca = mca.fit(dataframe)\n",
    "# Crea gráfico\n",
    "ax = mca.plot(dataframe, show_column_labels=True, show_row_markers=False)\n",
    "ax"
   ]
  },
  {
   "cell_type": "markdown",
   "id": "72157395-dca0-48af-a909-28a59e954b88",
   "metadata": {},
   "source": [
    "Interpreta los resultados"
   ]
  },
  {
   "cell_type": "markdown",
   "id": "3630411c-9151-4cdf-b3da-c8e649827ca4",
   "metadata": {},
   "source": [
    "## Referencias\n",
    "- Página del proyecto: https://maxhalford.github.io/prince/"
   ]
  },
  {
   "cell_type": "code",
   "execution_count": null,
   "id": "9b76702b-cbfc-4cc7-8cbf-f7e008afe388",
   "metadata": {},
   "outputs": [],
   "source": []
  }
 ],
 "metadata": {
  "kernelspec": {
   "display_name": "Python [conda env:base] *",
   "language": "python",
   "name": "conda-base-py"
  },
  "language_info": {
   "codemirror_mode": {
    "name": "ipython",
    "version": 3
   },
   "file_extension": ".py",
   "mimetype": "text/x-python",
   "name": "python",
   "nbconvert_exporter": "python",
   "pygments_lexer": "ipython3",
   "version": "3.12.7"
  }
 },
 "nbformat": 4,
 "nbformat_minor": 5
}
