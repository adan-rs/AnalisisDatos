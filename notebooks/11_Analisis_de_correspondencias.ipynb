{
 "cells": [
  {
   "cell_type": "markdown",
   "id": "564d35fd-6f46-44f6-8df9-46d2c4e0219a",
   "metadata": {
    "tags": []
   },
   "source": [
    "[![Abrir en Colab](https://colab.research.google.com/assets/colab-badge.svg)](https://colab.research.google.com/github/adan-rs/AnalisisDatos/blob/main/notebooks/08_Analisis_de_correspondencias.ipynb)\n",
    "\n",
    "# Análisis de correspondencias múltiple"
   ]
  },
  {
   "cell_type": "markdown",
   "id": "4b7f0aee-de90-46f5-ac60-6c2b5926082a",
   "metadata": {},
   "source": [
    "*¿Para qué se utiliza?* \n",
    "El Análisis de Correspondencias (AC) es una técnica estadística exploratoria que permite representar gráficamente tablas de contingencia, revelando la relación entre categorías de filas y columnas. Su principal utilidad es generar mapas perceptuales que muestran asociaciones entre marcas, atributos, respuestas u otras variables categóricas. Es particularmente útil en investigación de mercados, sociología y estudios de opinión.\n",
    "\n",
    "*¿Qué variables considera?*\n",
    "    Una tabla de contingencia (frecuencias cruzadas) que cruza dos variables categóricas nominales.\n",
    "    Las categorías pueden provenir de escalas tipo Likert, preguntas cerradas o etiquetas de productos/servicios.\n",
    "    A diferencia de otras técnicas, no requiere datos cuantitativos, y puede utilizar categorías sin orden implícito.\n",
    "\n",
    "*¿Cómo funciona?*\n",
    "El AC transforma la tabla de contingencia en una representación geométrica usando la distancia chi-cuadrado como métrica de semejanza. Así cada categoría de fila y columna se representa como un punto en un espacio bidimensional (o de más dimensiones). Las distancias entre puntos reflejan el grado de asociación: menor distancia = mayor asociación. Finalmente, las coordenadas de cada punto son derivadas de la descomposición de valores propios de la tabla estandarizada.\n",
    "\n",
    "*Supuestos y recomendaciones*\n",
    "- No se requiere normalidad ni homocedasticidad.\n",
    "- Es ideal para datos cualitativos o nominales con suficientes frecuencias por celda.\n",
    "- Se recomienda interpretar el porcentaje de varianza explicada por cada dimensión.\n",
    "- En estudios más complejos puede utilizarse el análisis de correspondencias múltiple, que permite incluir más de dos variables categóricas.\n"
   ]
  },
  {
   "cell_type": "markdown",
   "id": "c5f5651f-44ca-4146-8a2a-47c6d82dd7a4",
   "metadata": {},
   "source": [
    "Para realizar el análisis de correspondencia se recomienda instalar la biblioteca *Prince* (solo es necesario hacerlo la primera vez) \n",
    "`!pip install prince`  \n",
    "La documentación se puede consultar en: documentación https://libraries.io/pypi/prince"
   ]
  },
  {
   "cell_type": "code",
   "execution_count": 3,
   "id": "b858bcfc-8b82-4383-9859-06aa2a3dac61",
   "metadata": {},
   "outputs": [],
   "source": [
    "# Instalar la biblioteca Prince\n",
    "#!pip install prince"
   ]
  },
  {
   "cell_type": "code",
   "execution_count": 4,
   "id": "fc4536e3-9e07-4b7e-a1e6-7fca34bf75c7",
   "metadata": {
    "tags": []
   },
   "outputs": [],
   "source": [
    "import pandas as pd\n",
    "import matplotlib.pyplot as plt\n",
    "import prince"
   ]
  },
  {
   "cell_type": "code",
   "execution_count": 5,
   "id": "fc69b392-0319-4079-8f87-931ad84efc76",
   "metadata": {},
   "outputs": [],
   "source": [
    "import warnings\n",
    "warnings.filterwarnings(\"ignore\", category=FutureWarning)"
   ]
  },
  {
   "cell_type": "markdown",
   "id": "7dea90bf-8576-47d3-8152-e5e76e4e574b",
   "metadata": {},
   "source": [
    "Seleccionamos un conjunto de variables cualitativas"
   ]
  },
  {
   "cell_type": "code",
   "execution_count": 6,
   "id": "69f0771d-aba2-4b6c-8663-4ffff784858d",
   "metadata": {
    "tags": []
   },
   "outputs": [],
   "source": [
    "#df = pd.read_excel('../data/enigh2020.xlsx')\n",
    "df = pd.read_excel('https://github.com/adan-rs/AnalisisDatos/raw/main/data/enigh2020.xlsx')\n",
    "variables_categoricas = ['est_socio', 'sexo_jefe', 'ubica_geo']\n",
    "dataframe = df[variables_categoricas]"
   ]
  },
  {
   "cell_type": "code",
   "execution_count": 8,
   "id": "679246c3-ab11-4145-ba29-2039a2579d2e",
   "metadata": {},
   "outputs": [
    {
     "data": {
      "text/html": [
       "<div>\n",
       "<style scoped>\n",
       "    .dataframe tbody tr th:only-of-type {\n",
       "        vertical-align: middle;\n",
       "    }\n",
       "\n",
       "    .dataframe tbody tr th {\n",
       "        vertical-align: top;\n",
       "    }\n",
       "\n",
       "    .dataframe thead th {\n",
       "        text-align: right;\n",
       "    }\n",
       "</style>\n",
       "<table border=\"1\" class=\"dataframe\">\n",
       "  <thead>\n",
       "    <tr style=\"text-align: right;\">\n",
       "      <th></th>\n",
       "      <th>est_socio</th>\n",
       "      <th>sexo_jefe</th>\n",
       "      <th>ubica_geo</th>\n",
       "    </tr>\n",
       "  </thead>\n",
       "  <tbody>\n",
       "    <tr>\n",
       "      <th>0</th>\n",
       "      <td>medio_alto</td>\n",
       "      <td>hombre</td>\n",
       "      <td>Apodaca</td>\n",
       "    </tr>\n",
       "    <tr>\n",
       "      <th>1</th>\n",
       "      <td>medio_alto</td>\n",
       "      <td>mujer</td>\n",
       "      <td>Apodaca</td>\n",
       "    </tr>\n",
       "    <tr>\n",
       "      <th>2</th>\n",
       "      <td>medio_alto</td>\n",
       "      <td>hombre</td>\n",
       "      <td>Apodaca</td>\n",
       "    </tr>\n",
       "    <tr>\n",
       "      <th>3</th>\n",
       "      <td>medio_alto</td>\n",
       "      <td>hombre</td>\n",
       "      <td>Apodaca</td>\n",
       "    </tr>\n",
       "    <tr>\n",
       "      <th>4</th>\n",
       "      <td>alto</td>\n",
       "      <td>hombre</td>\n",
       "      <td>Apodaca</td>\n",
       "    </tr>\n",
       "  </tbody>\n",
       "</table>\n",
       "</div>"
      ],
      "text/plain": [
       "    est_socio sexo_jefe ubica_geo\n",
       "0  medio_alto    hombre   Apodaca\n",
       "1  medio_alto     mujer   Apodaca\n",
       "2  medio_alto    hombre   Apodaca\n",
       "3  medio_alto    hombre   Apodaca\n",
       "4        alto    hombre   Apodaca"
      ]
     },
     "execution_count": 8,
     "metadata": {},
     "output_type": "execute_result"
    }
   ],
   "source": [
    "dataframe.head(5)"
   ]
  },
  {
   "cell_type": "code",
   "execution_count": 7,
   "id": "f356fcb2-024d-4a31-adfc-1f1cc1a72d80",
   "metadata": {},
   "outputs": [
    {
     "data": {
      "text/html": [
       "\n",
       "<style>\n",
       "  #altair-viz-3a9c9ca6d0dd4409ad166175419cf1d6.vega-embed {\n",
       "    width: 100%;\n",
       "    display: flex;\n",
       "  }\n",
       "\n",
       "  #altair-viz-3a9c9ca6d0dd4409ad166175419cf1d6.vega-embed details,\n",
       "  #altair-viz-3a9c9ca6d0dd4409ad166175419cf1d6.vega-embed details summary {\n",
       "    position: relative;\n",
       "  }\n",
       "</style>\n",
       "<div id=\"altair-viz-3a9c9ca6d0dd4409ad166175419cf1d6\"></div>\n",
       "<script type=\"text/javascript\">\n",
       "  var VEGA_DEBUG = (typeof VEGA_DEBUG == \"undefined\") ? {} : VEGA_DEBUG;\n",
       "  (function(spec, embedOpt){\n",
       "    let outputDiv = document.currentScript.previousElementSibling;\n",
       "    if (outputDiv.id !== \"altair-viz-3a9c9ca6d0dd4409ad166175419cf1d6\") {\n",
       "      outputDiv = document.getElementById(\"altair-viz-3a9c9ca6d0dd4409ad166175419cf1d6\");\n",
       "    }\n",
       "    const paths = {\n",
       "      \"vega\": \"https://cdn.jsdelivr.net/npm/vega@5?noext\",\n",
       "      \"vega-lib\": \"https://cdn.jsdelivr.net/npm/vega-lib?noext\",\n",
       "      \"vega-lite\": \"https://cdn.jsdelivr.net/npm/vega-lite@5.8.0?noext\",\n",
       "      \"vega-embed\": \"https://cdn.jsdelivr.net/npm/vega-embed@6?noext\",\n",
       "    };\n",
       "\n",
       "    function maybeLoadScript(lib, version) {\n",
       "      var key = `${lib.replace(\"-\", \"\")}_version`;\n",
       "      return (VEGA_DEBUG[key] == version) ?\n",
       "        Promise.resolve(paths[lib]) :\n",
       "        new Promise(function(resolve, reject) {\n",
       "          var s = document.createElement('script');\n",
       "          document.getElementsByTagName(\"head\")[0].appendChild(s);\n",
       "          s.async = true;\n",
       "          s.onload = () => {\n",
       "            VEGA_DEBUG[key] = version;\n",
       "            return resolve(paths[lib]);\n",
       "          };\n",
       "          s.onerror = () => reject(`Error loading script: ${paths[lib]}`);\n",
       "          s.src = paths[lib];\n",
       "        });\n",
       "    }\n",
       "\n",
       "    function showError(err) {\n",
       "      outputDiv.innerHTML = `<div class=\"error\" style=\"color:red;\">${err}</div>`;\n",
       "      throw err;\n",
       "    }\n",
       "\n",
       "    function displayChart(vegaEmbed) {\n",
       "      vegaEmbed(outputDiv, spec, embedOpt)\n",
       "        .catch(err => showError(`Javascript Error: ${err.message}<br>This usually means there's a typo in your chart specification. See the javascript console for the full traceback.`));\n",
       "    }\n",
       "\n",
       "    if(typeof define === \"function\" && define.amd) {\n",
       "      requirejs.config({paths});\n",
       "      require([\"vega-embed\"], displayChart, err => showError(`Error loading script: ${err.message}`));\n",
       "    } else {\n",
       "      maybeLoadScript(\"vega\", \"5\")\n",
       "        .then(() => maybeLoadScript(\"vega-lite\", \"5.8.0\"))\n",
       "        .then(() => maybeLoadScript(\"vega-embed\", \"6\"))\n",
       "        .catch(showError)\n",
       "        .then(() => displayChart(vegaEmbed));\n",
       "    }\n",
       "  })({\"config\": {\"view\": {\"continuousWidth\": 300, \"continuousHeight\": 300}}, \"layer\": [{\"mark\": {\"type\": \"circle\", \"size\": 50}, \"encoding\": {\"color\": {\"field\": \"variable\", \"type\": \"nominal\"}, \"tooltip\": [{\"field\": \"variable\", \"type\": \"nominal\"}, {\"field\": \"value\", \"type\": \"nominal\"}, {\"field\": \"component 0\", \"type\": \"quantitative\"}, {\"field\": \"component 1\", \"type\": \"quantitative\"}], \"x\": {\"axis\": {\"title\": \"component 0 \\u2014 11.53%\"}, \"field\": \"component 0\", \"scale\": {\"zero\": false}, \"type\": \"quantitative\"}, \"y\": {\"axis\": {\"title\": \"component 1 \\u2014 9.73%\"}, \"field\": \"component 1\", \"scale\": {\"zero\": false}, \"type\": \"quantitative\"}}, \"name\": \"view_1\"}, {\"mark\": {\"type\": \"text\"}, \"encoding\": {\"text\": {\"field\": \"label\", \"type\": \"nominal\"}, \"x\": {\"axis\": {\"title\": \"component 0 \\u2014 11.53%\"}, \"field\": \"component 0\", \"scale\": {\"zero\": false}, \"type\": \"quantitative\"}, \"y\": {\"axis\": {\"title\": \"component 1 \\u2014 9.73%\"}, \"field\": \"component 1\", \"scale\": {\"zero\": false}, \"type\": \"quantitative\"}}}], \"data\": {\"name\": \"data-7341d93ce2fb7c8346b398b563a60280\"}, \"params\": [{\"name\": \"param_1\", \"select\": {\"type\": \"interval\", \"encodings\": [\"x\", \"y\"]}, \"bind\": \"scales\", \"views\": [\"view_1\"]}], \"$schema\": \"https://vega.github.io/schema/vega-lite/v5.8.0.json\", \"datasets\": {\"data-7341d93ce2fb7c8346b398b563a60280\": [{\"component 0\": -1.0177344497967946, \"component 1\": 0.35810865238351364, \"variable\": \"column\", \"value\": \"est_socio__alto\", \"label\": \"est_socio__alto\"}, {\"component 0\": 1.5045620261854022, \"component 1\": 2.0573797527868587, \"variable\": \"column\", \"value\": \"est_socio__bajo\", \"label\": \"est_socio__bajo\"}, {\"component 0\": -0.8778642426824513, \"component 1\": 0.22433973379065913, \"variable\": \"column\", \"value\": \"est_socio__medio_alto\", \"label\": \"est_socio__medio_alto\"}, {\"component 0\": 0.6053941158882206, \"component 1\": -0.7166945507791981, \"variable\": \"column\", \"value\": \"est_socio__medio_bajo\", \"label\": \"est_socio__medio_bajo\"}, {\"component 0\": 0.13152609888688588, \"component 1\": 0.03756871629724174, \"variable\": \"column\", \"value\": \"sexo_jefe__hombre\", \"label\": \"sexo_jefe__hombre\"}, {\"component 0\": -0.4241240145265545, \"component 1\": -0.12114549820487217, \"variable\": \"column\", \"value\": \"sexo_jefe__mujer\", \"label\": \"sexo_jefe__mujer\"}, {\"component 0\": -0.5797656854957918, \"component 1\": -0.17032360941149674, \"variable\": \"column\", \"value\": \"ubica_geo__Apodaca\", \"label\": \"ubica_geo__Apodaca\"}, {\"component 0\": 1.2323156485683855, \"component 1\": -0.8369824836497692, \"variable\": \"column\", \"value\": \"ubica_geo__Cadereyta\", \"label\": \"ubica_geo__Cadereyta\"}, {\"component 0\": 0.6783563196229085, \"component 1\": 0.8824777921577464, \"variable\": \"column\", \"value\": \"ubica_geo__Escobedo\", \"label\": \"ubica_geo__Escobedo\"}, {\"component 0\": 1.7165492407867708, \"component 1\": 2.0983785101710253, \"variable\": \"column\", \"value\": \"ubica_geo__Garcia\", \"label\": \"ubica_geo__Garcia\"}, {\"component 0\": -0.6537008378495378, \"component 1\": 0.5222263419078843, \"variable\": \"column\", \"value\": \"ubica_geo__Guadalupe\", \"label\": \"ubica_geo__Guadalupe\"}, {\"component 0\": 0.829141281162386, \"component 1\": -0.31457755217393274, \"variable\": \"column\", \"value\": \"ubica_geo__Juarez\", \"label\": \"ubica_geo__Juarez\"}, {\"component 0\": -0.54636632006388, \"component 1\": -0.3655027478446566, \"variable\": \"column\", \"value\": \"ubica_geo__Monterrey\", \"label\": \"ubica_geo__Monterrey\"}, {\"component 0\": 1.023436449812648, \"component 1\": -1.960561483183824, \"variable\": \"column\", \"value\": \"ubica_geo__Pesqueria\", \"label\": \"ubica_geo__Pesqueria\"}, {\"component 0\": -1.0719837499171412, \"component 1\": 0.2035349225026544, \"variable\": \"column\", \"value\": \"ubica_geo__San_Nicolas\", \"label\": \"ubica_geo__San_Nicolas\"}, {\"component 0\": -1.1810991828949053, \"component 1\": 0.3458581396866437, \"variable\": \"column\", \"value\": \"ubica_geo__San_Pedro\", \"label\": \"ubica_geo__San_Pedro\"}, {\"component 0\": -0.4940756525043402, \"component 1\": -0.39159403387798186, \"variable\": \"column\", \"value\": \"ubica_geo__Santa_Catarina\", \"label\": \"ubica_geo__Santa_Catarina\"}]}}, {\"mode\": \"vega-lite\"});\n",
       "</script>"
      ],
      "text/plain": [
       "alt.LayerChart(...)"
      ]
     },
     "execution_count": 7,
     "metadata": {},
     "output_type": "execute_result"
    }
   ],
   "source": [
    "# Creación de instancia del modelo\n",
    "mca = prince.MCA(n_components = 2)\n",
    "# Ajuste del modelo a los datos\n",
    "mca = mca.fit(dataframe)\n",
    "# Crea gráfico\n",
    "ax = mca.plot(dataframe, show_column_labels=True, show_row_markers=False)\n",
    "ax"
   ]
  },
  {
   "cell_type": "markdown",
   "id": "5210cf9b-2180-416c-ab3a-14986da27a66",
   "metadata": {},
   "source": [
    "Cada punto corresponde a una observación o una categoría. La interpretación de las dimensiones depende del contexto. \n",
    "- En general, la distancia entre los puntos de cada categoría indican la relación entre ellas. Entre más corta sea la distancia, mayor será la asociación de las categorías.\n",
    "- Observaciones y categorías en el mismo cuadrante tienden a tener relaciones más fuertes, mientras que observaciones y categorías en cuadrantes opuestos pueden representar relaciones negativas.\n",
    "- Una categoría cerca del centro generalmente indica que esa categoría no está fuertemente asociada con ninguna de las dimensiones, por ejemplo, por ser independiente, tener baja variabilidad o baja frecuencia.\n"
   ]
  },
  {
   "cell_type": "markdown",
   "id": "c9d008a0-8b74-4d45-ace0-cfb1e2345a8d",
   "metadata": {},
   "source": [
    "Ejemplo de resultados:\n",
    "> Se aplicó un análisis de correspondencias a una tabla de contingencia entre marcas y atributos percibidos por los consumidores. El mapa bidimensional resultante explicó el 84% de la varianza total. Marca A se asoció fuertemente con el atributo \"Precio bajo\", mientras que Marca C mostró afinidad con \"Innovación\". Marca B fue percibida en relación con \"Calidad alta\"."
   ]
  },
  {
   "cell_type": "markdown",
   "id": "670b86ad-d4b3-4028-96ee-52cb8ec8fe2c",
   "metadata": {},
   "source": [
    "## Ejercicio"
   ]
  },
  {
   "cell_type": "code",
   "execution_count": 10,
   "id": "2958efa9-5189-40d6-a0d4-781c47cd1d61",
   "metadata": {},
   "outputs": [],
   "source": [
    "url = 'https://github.com/adan-rs/AnalisisDatos/raw/main/data/aerolineas.xlsx'\n",
    "aerolineas = pd.read_excel(url)\n",
    "var_cat_aerolineas = ['sentimiento', 'aerolinea']\n",
    "dataframe = aerolineas[var_cat_aerolineas]"
   ]
  },
  {
   "cell_type": "code",
   "execution_count": 11,
   "id": "4814b659-5b18-4312-9a41-ecf6b92e54d9",
   "metadata": {},
   "outputs": [
    {
     "data": {
      "text/html": [
       "\n",
       "<style>\n",
       "  #altair-viz-abfd31ca9a1a45caa95e496618640bc9.vega-embed {\n",
       "    width: 100%;\n",
       "    display: flex;\n",
       "  }\n",
       "\n",
       "  #altair-viz-abfd31ca9a1a45caa95e496618640bc9.vega-embed details,\n",
       "  #altair-viz-abfd31ca9a1a45caa95e496618640bc9.vega-embed details summary {\n",
       "    position: relative;\n",
       "  }\n",
       "</style>\n",
       "<div id=\"altair-viz-abfd31ca9a1a45caa95e496618640bc9\"></div>\n",
       "<script type=\"text/javascript\">\n",
       "  var VEGA_DEBUG = (typeof VEGA_DEBUG == \"undefined\") ? {} : VEGA_DEBUG;\n",
       "  (function(spec, embedOpt){\n",
       "    let outputDiv = document.currentScript.previousElementSibling;\n",
       "    if (outputDiv.id !== \"altair-viz-abfd31ca9a1a45caa95e496618640bc9\") {\n",
       "      outputDiv = document.getElementById(\"altair-viz-abfd31ca9a1a45caa95e496618640bc9\");\n",
       "    }\n",
       "    const paths = {\n",
       "      \"vega\": \"https://cdn.jsdelivr.net/npm/vega@5?noext\",\n",
       "      \"vega-lib\": \"https://cdn.jsdelivr.net/npm/vega-lib?noext\",\n",
       "      \"vega-lite\": \"https://cdn.jsdelivr.net/npm/vega-lite@5.8.0?noext\",\n",
       "      \"vega-embed\": \"https://cdn.jsdelivr.net/npm/vega-embed@6?noext\",\n",
       "    };\n",
       "\n",
       "    function maybeLoadScript(lib, version) {\n",
       "      var key = `${lib.replace(\"-\", \"\")}_version`;\n",
       "      return (VEGA_DEBUG[key] == version) ?\n",
       "        Promise.resolve(paths[lib]) :\n",
       "        new Promise(function(resolve, reject) {\n",
       "          var s = document.createElement('script');\n",
       "          document.getElementsByTagName(\"head\")[0].appendChild(s);\n",
       "          s.async = true;\n",
       "          s.onload = () => {\n",
       "            VEGA_DEBUG[key] = version;\n",
       "            return resolve(paths[lib]);\n",
       "          };\n",
       "          s.onerror = () => reject(`Error loading script: ${paths[lib]}`);\n",
       "          s.src = paths[lib];\n",
       "        });\n",
       "    }\n",
       "\n",
       "    function showError(err) {\n",
       "      outputDiv.innerHTML = `<div class=\"error\" style=\"color:red;\">${err}</div>`;\n",
       "      throw err;\n",
       "    }\n",
       "\n",
       "    function displayChart(vegaEmbed) {\n",
       "      vegaEmbed(outputDiv, spec, embedOpt)\n",
       "        .catch(err => showError(`Javascript Error: ${err.message}<br>This usually means there's a typo in your chart specification. See the javascript console for the full traceback.`));\n",
       "    }\n",
       "\n",
       "    if(typeof define === \"function\" && define.amd) {\n",
       "      requirejs.config({paths});\n",
       "      require([\"vega-embed\"], displayChart, err => showError(`Error loading script: ${err.message}`));\n",
       "    } else {\n",
       "      maybeLoadScript(\"vega\", \"5\")\n",
       "        .then(() => maybeLoadScript(\"vega-lite\", \"5.8.0\"))\n",
       "        .then(() => maybeLoadScript(\"vega-embed\", \"6\"))\n",
       "        .catch(showError)\n",
       "        .then(() => displayChart(vegaEmbed));\n",
       "    }\n",
       "  })({\"config\": {\"view\": {\"continuousWidth\": 300, \"continuousHeight\": 300}}, \"layer\": [{\"mark\": {\"type\": \"circle\", \"size\": 50}, \"encoding\": {\"color\": {\"field\": \"variable\", \"type\": \"nominal\"}, \"tooltip\": [{\"field\": \"variable\", \"type\": \"nominal\"}, {\"field\": \"value\", \"type\": \"nominal\"}, {\"field\": \"component 0\", \"type\": \"quantitative\"}, {\"field\": \"component 1\", \"type\": \"quantitative\"}], \"x\": {\"axis\": {\"title\": \"component 0 \\u2014 18.29%\"}, \"field\": \"component 0\", \"scale\": {\"zero\": false}, \"type\": \"quantitative\"}, \"y\": {\"axis\": {\"title\": \"component 1 \\u2014 14.58%\"}, \"field\": \"component 1\", \"scale\": {\"zero\": false}, \"type\": \"quantitative\"}}, \"name\": \"view_2\"}, {\"mark\": {\"type\": \"text\"}, \"encoding\": {\"text\": {\"field\": \"label\", \"type\": \"nominal\"}, \"x\": {\"axis\": {\"title\": \"component 0 \\u2014 18.29%\"}, \"field\": \"component 0\", \"scale\": {\"zero\": false}, \"type\": \"quantitative\"}, \"y\": {\"axis\": {\"title\": \"component 1 \\u2014 14.58%\"}, \"field\": \"component 1\", \"scale\": {\"zero\": false}, \"type\": \"quantitative\"}}}], \"data\": {\"name\": \"data-3da59e8caa8edca141f87213601291ba\"}, \"params\": [{\"name\": \"param_2\", \"select\": {\"type\": \"interval\", \"encodings\": [\"x\", \"y\"]}, \"bind\": \"scales\", \"views\": [\"view_2\"]}], \"$schema\": \"https://vega.github.io/schema/vega-lite/v5.8.0.json\", \"datasets\": {\"data-3da59e8caa8edca141f87213601291ba\": [{\"component 0\": -0.6156974782520696, \"component 1\": 0.03781927987607146, \"variable\": \"column\", \"value\": \"sentimiento__negative\", \"label\": \"sentimiento__negative\"}, {\"component 0\": 0.9560912912894782, \"component 1\": -1.082388909536088, \"variable\": \"column\", \"value\": \"sentimiento__neutral\", \"label\": \"sentimiento__neutral\"}, {\"component 0\": 1.1375135605971312, \"component 1\": 1.272627118048986, \"variable\": \"column\", \"value\": \"sentimiento__positive\", \"label\": \"sentimiento__positive\"}, {\"component 0\": -0.4943390147113269, \"component 1\": 0.010242008809938412, \"variable\": \"column\", \"value\": \"aerolinea__American\", \"label\": \"aerolinea__American\"}, {\"component 0\": 1.1605695801048612, \"component 1\": -1.182138735401064, \"variable\": \"column\", \"value\": \"aerolinea__Delta\", \"label\": \"aerolinea__Delta\"}, {\"component 0\": 0.8161190006731395, \"component 1\": 1.0333787569803794, \"variable\": \"column\", \"value\": \"aerolinea__Southwest\", \"label\": \"aerolinea__Southwest\"}, {\"component 0\": -0.8864831671563076, \"component 1\": 0.25868046443197584, \"variable\": \"column\", \"value\": \"aerolinea__US Airways\", \"label\": \"aerolinea__US Airways\"}, {\"component 0\": -0.3691723783766063, \"component 1\": -0.36450024055011804, \"variable\": \"column\", \"value\": \"aerolinea__United\", \"label\": \"aerolinea__United\"}, {\"component 0\": 1.5940278750960026, \"component 1\": 1.4628208380043237, \"variable\": \"column\", \"value\": \"aerolinea__Virgin America\", \"label\": \"aerolinea__Virgin America\"}]}}, {\"mode\": \"vega-lite\"});\n",
       "</script>"
      ],
      "text/plain": [
       "alt.LayerChart(...)"
      ]
     },
     "execution_count": 11,
     "metadata": {},
     "output_type": "execute_result"
    }
   ],
   "source": [
    "# Creación de instancia del modelo\n",
    "mca = prince.MCA(n_components = 2)\n",
    "# Ajuste del modelo a los datos\n",
    "mca = mca.fit(dataframe)\n",
    "# Crea gráfico\n",
    "ax = mca.plot(dataframe, show_column_labels=True, show_row_markers=False)\n",
    "ax"
   ]
  },
  {
   "cell_type": "markdown",
   "id": "72157395-dca0-48af-a909-28a59e954b88",
   "metadata": {},
   "source": [
    "Interpreta los resultados"
   ]
  },
  {
   "cell_type": "markdown",
   "id": "3630411c-9151-4cdf-b3da-c8e649827ca4",
   "metadata": {},
   "source": [
    "## Referencias\n",
    "- Página del proyecto: https://maxhalford.github.io/prince/"
   ]
  },
  {
   "cell_type": "code",
   "execution_count": null,
   "id": "9b76702b-cbfc-4cc7-8cbf-f7e008afe388",
   "metadata": {},
   "outputs": [],
   "source": []
  }
 ],
 "metadata": {
  "kernelspec": {
   "display_name": "Python [conda env:base] *",
   "language": "python",
   "name": "conda-base-py"
  },
  "language_info": {
   "codemirror_mode": {
    "name": "ipython",
    "version": 3
   },
   "file_extension": ".py",
   "mimetype": "text/x-python",
   "name": "python",
   "nbconvert_exporter": "python",
   "pygments_lexer": "ipython3",
   "version": "3.12.7"
  }
 },
 "nbformat": 4,
 "nbformat_minor": 5
}
