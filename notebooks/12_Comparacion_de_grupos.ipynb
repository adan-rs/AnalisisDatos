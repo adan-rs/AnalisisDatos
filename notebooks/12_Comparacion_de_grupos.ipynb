{
 "cells": [
  {
   "cell_type": "markdown",
   "id": "ecc7a6a8-7b95-42a3-ae4d-1acce323a449",
   "metadata": {},
   "source": [
    "# Comparación de grupos\n",
    "\"*La mitad de mi gasto en publicidad no sirve para nada. El problema es que no sé qué mitad\" atribuida a John Wanamaker(1838-1922)*"
   ]
  },
  {
   "cell_type": "markdown",
   "id": "350d2a3e-4bb8-4799-8d2a-d81c85c83d48",
   "metadata": {},
   "source": [
    "En el análisis de datos aplicado a los negocios, uno de los objetivos más comunes es comparar grupos para tomar decisiones fundamentadas. Estas comparaciones permiten evaluar si existen diferencias significativas entre segmentos de clientes, campañas, productos o procesos, y son clave para validar hipótesis estratégicas. Existen tres tipos principales de comparaciones estadísticas entre grupos: comparación de proporciones, comparación de medias y comparación de varianzas."
   ]
  },
  {
   "cell_type": "markdown",
   "id": "7218eb4b-0951-493a-bb40-4349e0324eca",
   "metadata": {},
   "source": [
    "## Pruebas A/B\n",
    "Un caso muy común de lo anterior en negocios, especialmente en marketing digital y comercio electrónico, es el uso de pruebas A/B, que consisten en comparar dos versiones de una misma estrategia (por ejemplo, diseño de página, mensaje publicitario, precio, etc.).\n",
    "Estas pruebas generalmente se centran en comparar:\n",
    "- Medias: como el tiempo promedio en la página o el ticket de compra.\n",
    "- Proporciones: como la tasa de conversión o de clics (CTR).\n",
    "La lógica detrás de las pruebas A/B es precisamente la comparación de grupos para determinar si la diferencia observada es estadísticamente significativa y no producto del azar. Esto permite optimizar decisiones basadas en datos reales del comportamiento de los usuarios.\n",
    "  \n",
    "En la siguiente liga se muestran varios ejemplos de aplicaciones prácticas:\n",
    "https://goodui.org/leaks/. Este tipo de experimentos ejemplifica la aplicación de técnicas que veremos en esta sesión relacionadas con la comparación de dos o más grupos"
   ]
  },
  {
   "attachments": {},
   "cell_type": "markdown",
   "id": "dba72061-0ed4-4534-b474-58c44d862d37",
   "metadata": {
    "tags": []
   },
   "source": [
    "El archivo \"cookie_cats.csv\" contiene información de 90,189 jugadores. Cuando un jugador instala el juego empieza en el nivel 30, sin embargo, en la empresa que diseñó el juego han propuesto que el jugador empiece en el nivel 40. Para evaluar ambas opciones se diseñó una prueba A/B en la cual los jugadores fueron asignados aleatoriamente para comenzar en el nivel 30 (control) o en el nivel 40 (tratamiento).\n",
    "\n",
    "<div style=\"text-align: center;\">\n",
    "<img src=\"../recursos/cookie_cats.jpg\" alt=\"Cookie cats\" width=\"300\" height=\"200\">\n",
    "</div>\n",
    "\n",
    "Las variables en el dataset son:\n",
    "\n",
    "- userid: identificador del jugador.\n",
    "- version: gate30, empieza en el nivel 30; gate40: empieza en el nivel 40.\n",
    "- sum_gamerounds: número de rondas jugadas durante los primeros 14 días.\n",
    "- retention_1: el jugador jugó un día después de instalar el juego.\n",
    "- retention_7_ el jugador jugó después de 7 días de haber instalado el juego."
   ]
  },
  {
   "cell_type": "code",
   "execution_count": null,
   "id": "40944a26-4c98-4148-a9bb-bf006c9aada8",
   "metadata": {},
   "outputs": [],
   "source": [
    "import pandas as pd"
   ]
  },
  {
   "cell_type": "code",
   "execution_count": null,
   "id": "a430a526-6ad4-4906-a0db-3407749fa511",
   "metadata": {},
   "outputs": [],
   "source": [
    "df = pd.read_csv('https://github.com/adan-rs/AnalisisDatos/raw/main/data/cookie_cats.csv')\n",
    "df.info()"
   ]
  },
  {
   "cell_type": "code",
   "execution_count": null,
   "id": "1787f5c2-3293-4a4f-ac3c-38b91fe5121e",
   "metadata": {},
   "outputs": [],
   "source": [
    "df.describe().T"
   ]
  },
  {
   "cell_type": "code",
   "execution_count": null,
   "id": "2b9dd894-7af2-4d6e-afc7-05386c5710fa",
   "metadata": {},
   "outputs": [],
   "source": [
    "# Eliminación de datos atípicos\n",
    "from sklearn.ensemble import IsolationForest\n",
    "\n",
    "def remove_outliers_iso_forest(df, columns, contamination=0.05, random_state=42):\n",
    "    \"\"\"\n",
    "    Elimina valores atípicos utilizando el algoritmo Isolation Forest.\n",
    "    Retorna DataFrame sin valores atípicos.\n",
    "    \"\"\"\n",
    "    # Initialize and fit Isolation Forest model\n",
    "    iso_forest = IsolationForest(contamination=contamination, random_state=random_state)\n",
    "    iso_forest.fit(df[columns])\n",
    "    \n",
    "    # Predict labels: 1 (normal) or -1 (outlier)\n",
    "    labels = iso_forest.predict(df[columns])\n",
    "    \n",
    "    # Calculate and display number of excluded outliers\n",
    "    df_clean = df[labels == 1]\n",
    "    excluded_values = len(df) - len(df_clean)\n",
    "    print(f\"\\nCantidad de valores atípicos excluidos: {excluded_values}\")\n",
    "    return df_clean"
   ]
  },
  {
   "cell_type": "code",
   "execution_count": null,
   "id": "0e275ab8-7870-4f45-b230-a279058d2c10",
   "metadata": {},
   "outputs": [],
   "source": [
    "df = remove_outliers_iso_forest(df, columns=['sum_gamerounds'])\n",
    "df.info()"
   ]
  },
  {
   "cell_type": "markdown",
   "id": "589e1f01-4e56-43df-a377-6a8ebfb6fc7f",
   "metadata": {},
   "source": [
    "## Prueba z para dos proporciones\n",
    "*¿Para qué se utiliza?*\n",
    "La prueba z para dos proporciones se emplea para determinar si existe una diferencia estadísticamente significativa entre las proporciones de éxito de dos grupos independientes. \n",
    "Ejemplos en el área de negocios son:\n",
    "- ¿La proporción de clientes que hacen clic en un anuncio difiere entre dos versiones del mismo?\n",
    "- ¿La tasa de conversión varía entre usuarios nuevos y recurrentes?\n",
    "- ¿Hay diferencia en la proporción de empleados que renuncian entre dos sucursales?\n",
    "\n",
    "*Variables consideradas:*\n",
    "Se analiza una variable categórica dicotómica (como “sí/no”, “éxito/fracaso”, “aprueba/no aprueba”) en dos grupos independientes. La variable puede estar en escala nominal o binaria codificada como 0 y 1.\n",
    "\n",
    "*¿Cómo funciona?*\n",
    "Para cada grupo se calcula la proporción muestral de éxitos en el primer grupo y el segundo grupo.\n",
    "\n",
    "Se plantea la hipótesis nula de que las proporciones poblacionales son iguales. Bajo esta hipótesis, se calcula una proporción combinada (pooled proportion):\n",
    "Luego se utiliza esta proporción conjunta para calcular el estadístico z, que sigue una distribución normal estándar bajo la hipótesis nula.\n",
    "\n",
    "Hipótesis planteadas (prueba bilateral):\n",
    "- H<sub>0</sub>: p=p<sub>0</sub> (Hipótesis nula)\n",
    "- H<sub>1</sub>: p ≠ p<sub>0</sub> (Hipótesis alternativa)\n",
    "\n",
    "También es posible plantear una prueba unilateral si se desea evaluar si una proporción es mayor o menor que la otra.\n",
    "\n",
    "*Supuestos o requisitos principales:*\n",
    "- Las muestras deben ser aleatorias e independientes entre sí.\n",
    "- La variable debe ser dicotómica (solo dos posibles resultados).\n",
    "- Cada grupo debe tener un número suficiente de observaciones para garantizar que la distribución de las proporciones se aproxime a la normal (regla común: np ≥ 5, y lo mismo para el segundo grupo).\n",
    "\n",
    "*Criterio de decisión:*\n",
    "Se calcula el estadístico z y su correspondiente valor p. Si el valor p es menor que el nivel de significancia (por ejemplo, α = 0.05), se rechaza la hipótesis nula, concluyendo que existe una diferencia significativa entre ambas proporciones.\n",
    "\n",
    "Para calcular las proporciones conviene obtener una tabla con el conteo de cada caso. Realicemos una tabla de contigencia o tabla cruzada. "
   ]
  },
  {
   "cell_type": "code",
   "execution_count": null,
   "id": "e09222ae-74d1-4c7b-83cd-99af3050a01a",
   "metadata": {},
   "outputs": [],
   "source": [
    "from statsmodels.stats.proportion import proportions_ztest\n",
    "\n",
    "def compare_proportions(data, group_column, category_column,\n",
    "                       success_category=None, alpha = 0.05):\n",
    "    \"\"\"\n",
    "    Realiza e interpreta una prueba z bilateral para comparar proporciones entre grupos.\n",
    "    Args:\n",
    "        data: DataFrame con los datos\n",
    "        group_column: Nombre de la columna que identifica los grupos\n",
    "        category_column: Nombre de la columna con las categorías a comparar\n",
    "        success_category: Categoría a considerar como \"éxito\" (si es None, \n",
    "                         usa la primera categoría encontrada)\n",
    "        alpha: Nivel de significancia (predeterminado: 0.05)    \n",
    "    Returns:\n",
    "        p-valor\n",
    "    \"\"\"\n",
    "    # Identificar categorías\n",
    "    categorias = data[category_column].unique()  # Obtener valores únicos\n",
    "    if len(categorias) != 2:                     # Sólo se comparan dos grupos\n",
    "        raise ValueError(f\"La columna {category_column} debe tener exactamente dos categorías\")\n",
    "    \n",
    "    # Determinar categoría de éxito\n",
    "    if success_category is None:\n",
    "        success_category = categorias[0]\n",
    "    elif success_category not in categorias:\n",
    "        raise ValueError(f\"La categoría '{success_category}' no existe en los datos\")\n",
    "    \n",
    "    # Convertir a binario (1 para success_category, 0 para la otra)\n",
    "    data_binaria = data.copy()\n",
    "    data_binaria[category_column] = (data[category_column] == success_category).astype(int)\n",
    "    \n",
    "    # Calcular estadísticos\n",
    "    conteos = data_binaria.groupby(group_column)[category_column].agg(['sum', 'count'])\n",
    "    proporciones = (conteos['sum'] / conteos['count']).round(4)\n",
    "    \n",
    "    # Realizar prueba z\n",
    "    stat, p_value = proportions_ztest(conteos['sum'], conteos['count'])\n",
    "    \n",
    "    # Preparar interpretación\n",
    "    es_significativo = p_value < alpha\n",
    "    interpretacion = (f\"Estadístico z: {stat:.4f}\\n\"\n",
    "                      f\"Valor p: {p_value:.4f}\\n\\n\"\n",
    "                      f\"Proporciones de '{success_category}' por grupo:\\n\")\n",
    "    for grupo in proporciones.index:\n",
    "        n = conteos.loc[grupo, 'count']\n",
    "        prop = proporciones[grupo]\n",
    "        interpretacion += f\"{grupo}: {prop:.1%} (n={n})\\n\"    \n",
    "    interpretacion += f\"\\nConclusión: {'Se rechaza' if es_significativo else 'No se rechaza'} \"\n",
    "    interpretacion += \"la hipótesis nula\" + (\" (hay diferencias significativas)\" if es_significativo else \"\")\n",
    "\n",
    "    print(f'Categoria de exito: {success_category}')\n",
    "    print(interpretacion)\n",
    "\n",
    "    return p_value"
   ]
  },
  {
   "cell_type": "code",
   "execution_count": null,
   "id": "cf1c7a11-3427-48f0-9cf7-0e14baa34d2e",
   "metadata": {},
   "outputs": [],
   "source": [
    "results = compare_proportions(df, \n",
    "                              group_column='version',\n",
    "                              category_column='retention_7',\n",
    "                              success_category=True)"
   ]
  },
  {
   "cell_type": "markdown",
   "id": "c52ce464-bf45-43e5-b35e-25608e274473",
   "metadata": {},
   "source": [
    "Ejemplo de resultados:\n",
    ">Se realizó una prueba z para comparar las proporciones de clics entre dos versiones de un anuncio publicitario (versión A y versión B) como parte de una prueba A/B. En la versión A, el 18.2% de los usuarios hizo clic en el anuncio (n = 275), mientras que en la versión B, la proporción de clics fue del 24.7% (n = 290). La prueba z reveló una diferencia estadísticamente significativa entre las proporciones (z = 2.15, p = 0.0316), lo que indica que la versión B generó una tasa de clics significativamente mayor. Este resultado sugiere que la versión B es más efectiva y debe considerarse para su implementación en la campaña principal."
   ]
  },
  {
   "cell_type": "markdown",
   "id": "7b57e2df-31ff-4c38-89b0-d35b467cb1eb",
   "metadata": {
    "tags": []
   },
   "source": [
    "## Prueba t para dos muestras independientes"
   ]
  },
  {
   "cell_type": "markdown",
   "id": "19fb176c-4218-4884-8a01-b190255d7bb4",
   "metadata": {},
   "source": [
    "*¿Para qué se utiliza?*\n",
    "La prueba t para dos muestras independientes se utiliza para evaluar si existe una diferencia estadísticamente significativa entre las medias de dos grupos independientes. Es una de las pruebas más comunes para comparar resultados entre dos condiciones, tratamientos o poblaciones distintas.\n",
    "Ejemplos de negocios son:\n",
    "- ¿El ingreso promedio de los clientes es diferente entre dos regiones geográficas?\n",
    "- ¿Una nueva capacitación mejora el promedio de productividad del personal?\n",
    "- ¿El ticket promedio de venta varía entre hombres y mujeres?\n",
    "\n",
    "*Variables consideradas:*\n",
    "Se analiza una variable cuantitativa continua (de intervalo o razón) medida en dos grupos independientes. Ejemplos incluyen comparar el ingreso promedio entre hombres y mujeres, o el nivel de colesterol entre pacientes tratados con dos medicamentos distintos.\n",
    "\n",
    "*¿Cómo funciona?*\n",
    "La prueba compara las medias muestrales de ambos grupos y evalúa si la diferencia observada puede atribuirse al azar, bajo el supuesto de que las medias poblacionales son iguales.\n",
    "\n",
    "Dependiendo de si se asume igualdad de varianzas o no, se utiliza la versión clásica de Student o la versión de Welch (más robusta ante varianzas desiguales).\n",
    "Hipótesis planteadas (prueba bilateral):\n",
    "- Hipótesis nula (H₀): Las medias poblacionales son iguales (μ1=μ2)\n",
    "- Hipótesis alternativa (H₁): Las medias poblacionales son diferentes (μ1≠μ2 )\n",
    "También es posible plantear pruebas unilaterales si se quiere evaluar si una media es mayor o menor que la otra.\n",
    "\n",
    "*Supuestos o requisitos principales:*\n",
    "1.\tEscala adecuada: La variable debe estar medida en escala de intervalo o de razón.\n",
    "2.\tDistribución normal: La variable debe estar distribuida normalmente en cada grupo. Este supuesto puede relajarse si el tamaño de muestra en cada grupo es mayor a 30 (gracias al teorema del límite central).\n",
    "3.\tIndependencia: Las observaciones dentro y entre los grupos deben ser independientes.\n",
    "4.\tHomogeneidad de varianzas (opcional): Aunque la prueba clásica asume varianzas iguales, si se duda de este supuesto se puede aplicar la versión de Welch, que no requiere varianzas iguales.\n",
    "\n",
    "*Criterio de decisión:*\n",
    "Se calcula el estadístico t, el cual se compara con una distribución t de Student con un número de grados de libertad determinado por el método elegido (Student o Welch). Si el valor p es menor que el nivel de significancia (por ejemplo, α = 0.05), se rechaza la hipótesis nula y se concluye que hay una diferencia significativa entre las medias de los dos grupos.\n"
   ]
  },
  {
   "cell_type": "markdown",
   "id": "c63521f7-0201-49e8-a329-ea7b107387a9",
   "metadata": {},
   "source": [
    "Los promedios también son una métrica comúnmente utilizada en las pruebas A/B. Comparemos las rondas de juego en promedio por cada grupo en el experimento."
   ]
  },
  {
   "cell_type": "code",
   "execution_count": null,
   "id": "d14cef26-d2ab-4def-aa1c-8fbadcf080a6",
   "metadata": {},
   "outputs": [],
   "source": [
    "# Estadística descriptiva\n",
    "df.groupby('version').agg({'sum_gamerounds':'mean'})"
   ]
  },
  {
   "cell_type": "markdown",
   "id": "027db370-f58d-4303-b277-d19c5d259b87",
   "metadata": {},
   "source": [
    "Consideraciones previas para realizar una prueba t:  \n",
    "- la variable debe tener escala de medición de intervalo o de razón\n",
    "- la variable debe tener una distribución normal o la muestra debe ser grande (mayor a 30)\n",
    "- las observaciones deben ser independientes.\n",
    "\n",
    "Planteamiento de hipótesis:  \n",
    "$H_0: \\mu_1 = \\mu_2$  \n",
    "$H_1: \\mu_1 \\neq \\mu_2$"
   ]
  },
  {
   "cell_type": "code",
   "execution_count": null,
   "id": "efcc7807-808b-41cd-ac0d-18947390e37a",
   "metadata": {},
   "outputs": [],
   "source": [
    "from scipy.stats import ttest_ind\n",
    "\n",
    "def compare_means(data, group_column, measure_column,\n",
    "                  group1=None, group2=None,\n",
    "                  equal_var: bool = True,\n",
    "                  alpha = 0.05):\n",
    "    \"\"\"\n",
    "    Realiza e interpreta una prueba t bilateral para comparar medias entre grupos.\n",
    "    Args:\n",
    "        data: DataFrame con los datos\n",
    "        group_column: Nombre de la columna que identifica los grupos\n",
    "        measure_column: Nombre de la columna con la variable a comparar\n",
    "        group1: Primer grupo a comparar (si es None, usa el primero encontrado)\n",
    "        group2: Segundo grupo a comparar (si es None, usa el segundo encontrado)\n",
    "        equal_var: Si es True, asume varianzas iguales (t de Student)\n",
    "                   Si es False, no asume varianzas iguales (t de Welch)\n",
    "        alpha: Nivel de significancia (default: 0.05)\n",
    "    Returns:\n",
    "        p-value\n",
    "    \"\"\"\n",
    "    # Identificar grupos si no se especifican\n",
    "    grupos = data[group_column].unique()    # Obtener valores únicos\n",
    "    if len(grupos) != 2:\n",
    "        raise ValueError(f\"La columna {group_column} debe tener exactamente dos grupos\")  \n",
    "    group1 = group1 if group1 is not None else grupos[0]\n",
    "    group2 = group2 if group2 is not None else grupos[1]\n",
    "    \n",
    "    # Obtener datos de cada grupo\n",
    "    datos_group1 = data[data[group_column] == group1][measure_column]\n",
    "    datos_group2 = data[data[group_column] == group2][measure_column]\n",
    "    \n",
    "    # Calcular estadísticos descriptivos\n",
    "    stats = pd.DataFrame({\n",
    "        'n': [len(datos_group1), len(datos_group2)],\n",
    "        'media': [datos_group1.mean(), datos_group2.mean()],\n",
    "        'std': [datos_group1.std(), datos_group2.std()]}, \n",
    "        index=[group1, group2])\n",
    "    \n",
    "    # Realizar prueba t\n",
    "    t_stat, p_value = ttest_ind(datos_group1, datos_group2, equal_var=equal_var)\n",
    "    \n",
    "    # Preparar interpretación\n",
    "    es_significativo = p_value < alpha\n",
    "    interpretacion = (f\"{'Prueba t de Student' if equal_var else 'Prueba t de Welch'}\\n\"\n",
    "                      f\"Estadístico t: {t_stat:.4f}\\n\"\n",
    "                      f\"Valor p: {p_value:.4f}\\n\\n\"\n",
    "                      \"Estadísticos descriptivos:\\n\")\n",
    "    \n",
    "    for grupo in [group1, group2]:\n",
    "        n = stats.loc[grupo, 'n']\n",
    "        media = stats.loc[grupo, 'media']\n",
    "        std = stats.loc[grupo, 'std']\n",
    "        interpretacion += f\"{grupo}: media={media:.2f}, std={std:.2f}, n={n}\\n\"\n",
    "    \n",
    "    interpretacion += f\"\\nConclusión: {'Se rechaza' if es_significativo else 'No se rechaza'} \"\n",
    "    interpretacion += \"la hipótesis nula\" + (\" (hay diferencias significativas entre las medias)\" \n",
    "                                           if es_significativo else \"\")\n",
    "    \n",
    "    print(interpretacion)\n",
    "    return p_value"
   ]
  },
  {
   "cell_type": "code",
   "execution_count": null,
   "id": "174d5952-d0a5-4d86-906f-da09979d7a05",
   "metadata": {},
   "outputs": [],
   "source": [
    "resultados = compare_means(df, 'version', 'sum_gamerounds')"
   ]
  },
  {
   "cell_type": "markdown",
   "id": "ebf3d54b-7b74-4d67-b347-866278b0cbdd",
   "metadata": {},
   "source": [
    "El p-valor reportado corresponde a una prueba bilateral, es decir, cuando no se anticipa si la diferencia será positiva o negativa"
   ]
  },
  {
   "cell_type": "markdown",
   "id": "05211313-4205-462d-ac6e-7a7ffba44432",
   "metadata": {
    "tags": []
   },
   "source": [
    "Si la muestra es pequeña (p<30) se requiere evaluar la normalidad en la distribución de los datos. Existen varias pruebas para evaluar la normalidad de los datos. La prueba Shapiro-Wilk es una de las más utilizadas.  \n",
    "- Hipótesis nula (H0): Los datos provienen de una distribución normal  \n",
    "- Hipótesis alternativa (H1): Los datos no provienen de una distribución normal.  "
   ]
  },
  {
   "cell_type": "markdown",
   "id": "5033ce47-b63e-41a6-89b7-3dcbbec7fb19",
   "metadata": {},
   "source": [
    "Ejemplo de reporte de resultados:\n",
    ">Se aplicó una prueba t para muestras independientes con el fin de comparar el promedio de productividad mensual (en unidades producidas) entre dos turnos de trabajo en una planta manufacturera: turno matutino y turno vespertino. La muestra incluyó a 35 trabajadores por turno. El promedio de productividad en el turno matutino fue de 128.4 unidades (DE = 14.6), mientras que en el turno vespertino fue de 119.7 unidades (DE = 15.2). La prueba t arrojó un resultado de t(68) = 2.56, con un valor p = 0.0129, lo que indica que la diferencia entre ambos grupos es estadísticamente significativa al nivel del 5%. En consecuencia, se concluye que el turno matutino presenta una mayor productividad promedio.\n"
   ]
  },
  {
   "cell_type": "markdown",
   "id": "ac0113e6-3ba5-4384-bdbb-6fd60c48abc8",
   "metadata": {},
   "source": [
    "## Prueba de Levene\n",
    "*¿Para qué se utiliza?*\n",
    "La prueba de Levene se emplea para evaluar si dos o más grupos presentan varianzas poblacionales iguales. Es una herramienta fundamental para comprobar el supuesto de homogeneidad de varianzas, necesario en muchas pruebas estadísticas como el ANOVA o la prueba t para dos muestras independientes (versión clásica). Comparar varianzas también permite saber si la dispersión o variabilidad de un proceso es distinta entre grupos. Esto es importante para evaluar consistencia, control de calidad o riesgo.\n",
    "\n",
    "Ejemplos en el área de negocios son:\n",
    "- ¿Una nueva máquina reduce la variabilidad en los tiempos de producción?\n",
    "- ¿Los tiempos de entrega son más consistentes en una zona geográfica respecto a otra?\n",
    "- ¿Las variaciones en el rendimiento financiero son distintas entre dos líneas de negocio?\n",
    "\n",
    "*Variables consideradas:*\n",
    "- Una variable cuantitativa continua (de intervalo o razón), que se desea comparar entre grupos.\n",
    "- Una variable categórica que define los grupos (nominal u ordinal).\n",
    "\n",
    "*¿Cómo funciona?*\n",
    "La prueba transforma los datos en desviaciones absolutas respecto a la media (o mediana) del grupo, y luego compara esas desviaciones mediante un análisis de varianza (ANOVA). El estadístico de Levene evalúa si estas desviaciones son significativamente distintas entre los grupos.\n",
    "\n",
    "*Hipótesis planteadas:*\n",
    "- Hipótesis nula (H₀): Las varianzas de los grupos son iguales (existe homogeneidad de varianzas).\n",
    "- Hipótesis alternativa (H₁): Al menos una de las varianzas difiere (existe heterogeneidad de varianzas).\n",
    "\n",
    "*Supuestos o requisitos principales:*\n",
    "- La variable cuantitativa debe estar medida en escala continua (intervalo o razón).\n",
    "- Las observaciones deben ser independientes dentro y entre grupos.\n",
    "- A diferencia de otras pruebas (como F de Fisher), no requiere que los datos provengan de distribuciones normales, lo que hace a Levene más robusta ante desviaciones de la normalidad.\n",
    "\n",
    "*Criterio de decisión*: Se revisa el valor p asociado al estadístico de Levene.\n",
    "- Si p > 0.05, no se rechaza la hipótesis nula: se asume que las varianzas son iguales.\n",
    "- Si p ≤ 0.05, se rechaza la hipótesis nula: hay evidencia de que al menos un grupo tiene una varianza distinta.\n"
   ]
  },
  {
   "cell_type": "code",
   "execution_count": null,
   "id": "9c169f47-1807-4647-8aca-e364e0f52e78",
   "metadata": {},
   "outputs": [],
   "source": [
    "from scipy.stats import levene\n",
    "\n",
    "def compare_variances(data, group_column, measure_column, groups=None, alpha=0.05):\n",
    "    \"\"\"\n",
    "    Realiza e interpreta una prueba de Levene para comparar varianzas entre múltiples grupos.   \n",
    "    Args:\n",
    "        data: DataFrame con los datos\n",
    "        group_column: Nombre de la columna que identifica los grupos\n",
    "        measure_column: Nombre de la columna con la variable a comparar\n",
    "        groups: Lista de grupos a comparar (si es None, usa todos los grupos encontrados)\n",
    "        alpha: Nivel de significancia (default: 0.05)\n",
    "    Returns:\n",
    "        p-value\n",
    "    \"\"\"\n",
    "    # Identificar grupos si no se especifican\n",
    "    grupos_disponibles = data[group_column].unique()\n",
    "    if len(grupos_disponibles) < 2:\n",
    "        raise ValueError(f\"La columna {group_column} debe tener al menos dos grupos\")\n",
    "    \n",
    "    # Usar grupos especificados o todos los disponibles\n",
    "    grupos = groups if groups is not None else grupos_disponibles\n",
    "    \n",
    "    # Verificar que todos los grupos especificados existen\n",
    "    grupos_invalidos = set(grupos) - set(grupos_disponibles)\n",
    "    if grupos_invalidos:\n",
    "        raise ValueError(f\"Grupos no encontrados en los datos: {grupos_invalidos}\")\n",
    "    \n",
    "    # Obtener datos de cada grupo\n",
    "    datos_grupos = [data[data[group_column] == grupo][measure_column] for grupo in grupos]\n",
    "    \n",
    "    # Calcular estadísticas por grupo\n",
    "    stats = pd.DataFrame({\n",
    "        'n': [len(datos) for datos in datos_grupos],\n",
    "        'varianza': [datos.var() for datos in datos_grupos],\n",
    "        'desv_std': [datos.std() for datos in datos_grupos]\n",
    "    }, index=grupos)\n",
    "    \n",
    "    # Realizar prueba de Levene\n",
    "    stat, p_value = levene(*datos_grupos)\n",
    "    \n",
    "    # Preparar interpretación\n",
    "    es_significativo = p_value < alpha\n",
    "    interpretacion = (f\"Prueba de Levene para {len(grupos)} grupos\\n\"\n",
    "                     f\"Estadístico de Levene: {stat:.4f}\\n\"\n",
    "                     f\"Valor p: {p_value:.4f}\\n\\n\"\n",
    "                     \"Estadísticas por grupo:\\n\")\n",
    "    \n",
    "    # Añadir estadísticas de cada grupo\n",
    "    for grupo in grupos:\n",
    "        n = stats.loc[grupo, 'n']\n",
    "        var = stats.loc[grupo, 'varianza']\n",
    "        std = stats.loc[grupo, 'desv_std']\n",
    "        interpretacion += f\"{grupo}: n={n}, varianza={var:.2f}, desv. estándar={std:.2f}\\n\"\n",
    "    \n",
    "    # Añadir conclusión\n",
    "    interpretacion += f\"\\nConclusión: {'Se rechaza' if es_significativo else 'No se rechaza'} \"\n",
    "    interpretacion += \"la hipótesis nula de igualdad de varianzas\"\n",
    "    interpretacion += (\" (hay diferencias significativas en las varianzas entre los grupos)\" \n",
    "                      if es_significativo \n",
    "                      else \"\\n (no hay evidencia de diferencias significativas en las varianzas)\")\n",
    "    \n",
    "    print(interpretacion)\n",
    "    return p_value"
   ]
  },
  {
   "cell_type": "code",
   "execution_count": null,
   "id": "db08b3ee-9915-48d1-835f-2babfd72bfe2",
   "metadata": {},
   "outputs": [],
   "source": [
    "resultado = compare_variances(df, 'version', 'sum_gamerounds')"
   ]
  },
  {
   "cell_type": "markdown",
   "id": "1fda9289-253a-4223-ae1b-8a059c10a2e4",
   "metadata": {},
   "source": [
    "Ejemplo de reporte de resultados\n",
    ">Se realizó una prueba de Levene con el objetivo de evaluar si existe una diferencia significativa en la variabilidad de los tiempos de atención al cliente entre dos sucursales de una empresa de servicios (Sucursal A y Sucursal B).\n",
    "La muestra incluyó 40 registros por sucursal. Los tiempos de atención se midieron en minutos. La desviación estándar en la Sucursal A fue de 4.2 minutos, mientras que en la Sucursal B fue de 6.8 minutos, lo que sugiere una mayor dispersión en esta última.\n",
    "La prueba de Levene resultó en W = 5.27 con un valor p = 0.024, lo que indica que existe una diferencia estadísticamente significativa en las varianzas de los tiempos de atención entre ambas sucursales.\n"
   ]
  },
  {
   "cell_type": "markdown",
   "id": "e281aaa0-63ba-447e-9508-30f396d75dfb",
   "metadata": {},
   "source": [
    "## Prueba t de Welch \n",
    "Si hay evidencia estadística de que las varianzas son diferentes, se recomienda hacer una prueba t de Welch (para varianzas diferentes)"
   ]
  },
  {
   "cell_type": "code",
   "execution_count": null,
   "id": "1bf6013b-2f18-43fa-8ea0-c141f90707c2",
   "metadata": {},
   "outputs": [],
   "source": [
    "resultados = compare_means(df, 'version', 'sum_gamerounds', equal_var=False )"
   ]
  },
  {
   "cell_type": "markdown",
   "id": "5c22afbb-4c84-48a1-b9bc-dc6a92528be6",
   "metadata": {},
   "source": [
    "## Prueba Mann-Whitney\n",
    "*¿Para qué se utiliza?*\n",
    "La prueba de Mann-Whitney U es una alternativa no paramétrica a la prueba t para dos muestras independientes. Se utiliza cuando no se puede asumir la normalidad de los datos, pero se desea comparar si dos grupos independientes provienen de la misma población o si tienden a presentar valores mayores en uno que en otro.\n",
    "Variables consideradas:\n",
    "•\tUna variable cuantitativa (de intervalo o razón), que no necesariamente sigue una distribución normal.\n",
    "•\tUna variable categórica binaria, que identifica los dos grupos independientes a comparar.\n",
    "\n",
    "*¿Cómo funciona?*\n",
    "La prueba ordena todos los valores de ambas muestras de menor a mayor, y luego asigna rangos. Se calcula la suma de los rangos en cada grupo y se evalúa si una de las dos muestras tiende a tener valores sistemáticamente más altos o bajos que la otra.\n",
    "\n",
    "*Hipótesis planteadas (para prueba bilateral):*\n",
    "- Hipótesis nula (H₀): Las distribuciones de los dos grupos son iguales (no hay diferencia sistemática en las posiciones o medianas).\n",
    "- Hipótesis alternativa (H₁): Las distribuciones difieren (uno de los grupos tiende a tener valores mayores o menores).\n",
    "También se puede formular como prueba unilateral si se desea comprobar si un grupo tiende a tener valores mayores (o menores) que el otro.\n",
    "\n",
    "*Supuestos o requisitos principales:*\n",
    "- La variable dependiente debe ser ordinal o continua.\n",
    "- Las observaciones deben ser independientes dentro y entre los grupos.\n",
    "- No se requiere normalidad ni homogeneidad de varianzas.\n",
    "- Se asume que las distribuciones de los dos grupos tienen forma similar si se desea interpretar la prueba como una comparación de medianas.\n",
    "\n",
    "\n",
    "*Criterio de decisión:*\n",
    "Se calcula el estadístico U, que se convierte en un valor z (en muestras grandes) para obtener el valor p.\n",
    "- Si p ≤ 0.05, se rechaza la hipótesis nula, indicando que hay diferencias significativas entre los grupos.\n",
    "- Si p > 0.05, no se rechaza H₀: no hay evidencia suficiente para afirmar que los grupos difieren.\n"
   ]
  },
  {
   "cell_type": "code",
   "execution_count": null,
   "id": "2c6ec729-3686-4e21-ad75-e6453566a557",
   "metadata": {},
   "outputs": [],
   "source": [
    "from scipy.stats import mannwhitneyu\n",
    "\n",
    "def compare_distributions(data, group_column, measure_column,\n",
    "                          group1=None, group2=None, alpha = 0.05):\n",
    "    \"\"\"\n",
    "    Realiza e interpreta una prueba de Mann-Whitney para comparar distribuciones.\n",
    "    Args:\n",
    "        data: DataFrame con los datos\n",
    "        group_column: Nombre de la columna que identifica los grupos\n",
    "        measure_column: Nombre de la columna con la variable a comparar\n",
    "        group1: Primer grupo a comparar (si es None, usa el primero encontrado)\n",
    "        group2: Segundo grupo a comparar (si es None, usa el segundo encontrado)\n",
    "        alpha: Nivel de significancia (default: 0.05)\n",
    "    Returns:\n",
    "        valor p de la prueba\n",
    "    \"\"\"\n",
    "    # Identificar grupos si no se especifican\n",
    "    grupos = data[group_column].unique()\n",
    "    if len(grupos) < 2:\n",
    "        raise ValueError(f\"La columna {group_column} debe tener al menos dos grupos\")\n",
    "    group1 = group1 if group1 is not None else grupos[0]\n",
    "    group2 = group2 if group2 is not None else grupos[1]\n",
    "    \n",
    "    # Obtener datos de cada grupo\n",
    "    datos_group1 = data[data[group_column] == group1][measure_column]\n",
    "    datos_group2 = data[data[group_column] == group2][measure_column]\n",
    "    \n",
    "    # Calcular estadísticos descriptivos\n",
    "    stats = pd.DataFrame({\n",
    "        'n': [len(datos_group1), len(datos_group2)],\n",
    "        'mediana': [datos_group1.median(), datos_group2.median()],\n",
    "        'rango_iq': [datos_group1.quantile(0.75) - datos_group1.quantile(0.25),\n",
    "                    datos_group2.quantile(0.75) - datos_group2.quantile(0.25)]\n",
    "    }, index=[group1, group2])\n",
    "    \n",
    "    # Realizar prueba de Mann-Whitney\n",
    "    statistic, p_value = mannwhitneyu(datos_group1, datos_group2)\n",
    "    \n",
    "    # Preparar interpretación\n",
    "    es_significativo = p_value < alpha\n",
    "    interpretacion = (f\"Estadístico U: {statistic:.4f}\\n\"\n",
    "                      f\"Valor p: {p_value:.4f}\\n\\n\"\n",
    "                      \"Estadísticos descriptivos:\\n\")\n",
    "    \n",
    "    for grupo in [group1, group2]:\n",
    "        n = stats.loc[grupo, 'n']\n",
    "        mediana = stats.loc[grupo, 'mediana']\n",
    "        rango = stats.loc[grupo, 'rango_iq']\n",
    "        interpretacion += f\"{grupo}: mediana={mediana:.2f}, rango_IQ={rango:.2f}, n={n}\\n\"\n",
    "    \n",
    "    interpretacion += f\"\\nConclusión: {'Se rechaza' if es_significativo else 'No se rechaza'} \"\n",
    "    interpretacion += \"la hipótesis nula\" + (\" (hay diferencias significativas en la distribución)\" \n",
    "                                           if es_significativo else \"\")\n",
    "    \n",
    "    print(interpretacion)\n",
    "    return p_value"
   ]
  },
  {
   "cell_type": "code",
   "execution_count": null,
   "id": "e909debc-1aed-437d-9e98-9d8842ea9e7b",
   "metadata": {},
   "outputs": [],
   "source": [
    "resultados = compare_distributions(df, 'version', 'sum_gamerounds')"
   ]
  },
  {
   "cell_type": "markdown",
   "id": "8c367579-f5b8-4972-8b76-1664b4dcf53c",
   "metadata": {},
   "source": [
    "Ejemplo de reporte de resultados:\n",
    ">Se aplicó la prueba de Mann-Whitney U para comparar la satisfacción del cliente entre dos grupos de consumidores expuestos a diferentes estrategias de promoción: descuento directo y puntos de lealtad. La satisfacción se midió en una escala ordinal de 1 a 10.\n",
    "La muestra incluyó 45 participantes por grupo. Dado que los datos no seguían una distribución normal (p < 0.05 en la prueba de Shapiro-Wilk), se optó por un enfoque no paramétrico.\n",
    "El resultado de la prueba de Mann-Whitney fue U = 728.5, con un valor p = 0.037, lo que indica una diferencia estadísticamente significativa en los niveles de satisfacción entre ambos grupos.\n"
   ]
  },
  {
   "cell_type": "markdown",
   "id": "e8a40db5-2c70-4c72-b50f-5f4ae60f9073",
   "metadata": {},
   "source": [
    "## Ejercicio\n",
    "Utiliza la base de datos \"enigh_2020\" para evaluar si ___________ por hogar en promedio es diferente entre los hogares donde el jefe de familia es hombre en comparación con los hogares donde el jefe de familia es mujer.\n",
    "\n",
    "- Cargar los datos y librerías, explorar los datos\n",
    "- Evaluar supuestos: igualdad de varianzas y normalidad (no se requiere en este caso)\n",
    "- Realizar la prueba correspondiente"
   ]
  },
  {
   "cell_type": "markdown",
   "id": "ff6da0a3-74a6-4822-8e4d-e0fd54676a22",
   "metadata": {},
   "source": [
    "## Referencias\n",
    "https://roirevolution.com/blog/why-ab-testing-could-save-your-marketing-strategy/"
   ]
  },
  {
   "cell_type": "code",
   "execution_count": null,
   "id": "3bf13e16-5be0-4285-80b2-34b24659ab88",
   "metadata": {},
   "outputs": [],
   "source": []
  }
 ],
 "metadata": {
  "kernelspec": {
   "display_name": "Python [conda env:base] *",
   "language": "python",
   "name": "conda-base-py"
  },
  "language_info": {
   "codemirror_mode": {
    "name": "ipython",
    "version": 3
   },
   "file_extension": ".py",
   "mimetype": "text/x-python",
   "name": "python",
   "nbconvert_exporter": "python",
   "pygments_lexer": "ipython3",
   "version": "3.12.7"
  }
 },
 "nbformat": 4,
 "nbformat_minor": 5
}
