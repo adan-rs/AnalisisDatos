{
 "cells": [
  {
   "cell_type": "markdown",
   "id": "36b2b964-9ddc-4ad5-b267-a9bc13cc8b47",
   "metadata": {},
   "source": [
    "[![Abrir en Colab](https://colab.research.google.com/assets/colab-badge.svg)](https://colab.research.google.com/github/adan-rs/AnalisisDatos/blob/main/notebooks/09_Escalamiento_multidimensional.ipynb)\n",
    "\n",
    "# Escalamiento multidimensional"
   ]
  },
  {
   "cell_type": "markdown",
   "id": "d428f9ab-8088-41a1-94c2-5d46a60f906a",
   "metadata": {},
   "source": [
    "*¿Para qué se utiliza?*\n",
    "El escalamiento multidimensional (EMD) es una técnica que permite construir una representación espacial o geométrica de objetos (productos, marcas, servicios) a partir de las percepciones o preferencias de los encuestados. Su uso más común en investigación de mercados es el mapa perceptual, que permite visualizar el posicionamiento relativo de marcas según cómo son percibidas o preferidas por los consumidores.\n",
    "\n",
    "*¿Qué variables considera?*\n",
    "- Juicios de semejanza o disimilitud (percepción directa): evaluaciones de qué tan similares o diferentes son los objetos.\n",
    "- Calificaciones por atributos (percepción derivada): evaluación de marcas en atributos específicos (precio, calidad, etc.).\n",
    "- Preferencias: ordenamientos o comparaciones de marcas según el agrado o intención de compra.\n",
    "Los datos pueden obtenerse mediante escalas Likert o de diferencial semántico, comparaciones por pares, ordenamientos simples.\n",
    "\n",
    "*¿Cómo funciona?*\n",
    "El EMD utiliza los datos de semejanza o preferencia para estimar distancias euclidianas entre los objetos, y luego los ubica en un espacio de 2 o más dimensiones tal que esas distancias sean lo más fieles posible a los juicios recogidos. Cuanto más cercanos estén dos objetos en el mapa, más similares son percibidos por los encuestados.\n",
    "\n",
    "Tipos de escalamiento:\n",
    "    Métrico: usa distancias o calificaciones numéricas (intervalo o razón).\n",
    "    No métrico: usa ordenamientos o rangos, preserva solo la estructura de orden.\n",
    "\n",
    "*Evaluación del ajuste*\n",
    "- Stress-I: mide el error de representación espacial. Valores menores a 0.10 indican un buen ajuste.\n",
    "- R² (R cuadrada): mide la proporción de varianza explicada por la configuración. Se recomiendan valores mayores a 0.60.\n",
    "- Otros indicadores como dispersión contada o congruencia de Tucker también evalúan la calidad de la solución.\n"
   ]
  },
  {
   "cell_type": "code",
   "execution_count": null,
   "id": "f676f1f0-4b0a-466c-9267-22295f891166",
   "metadata": {},
   "outputs": [],
   "source": [
    "import pandas as pd\n",
    "import numpy as np\n",
    "import matplotlib.pyplot as plt\n",
    "import seaborn as sns"
   ]
  },
  {
   "cell_type": "markdown",
   "id": "d35f9b52-bd98-46a8-9af7-c54d2ea1ede6",
   "metadata": {},
   "source": [
    "Para este ejemplo utilizaremos una matriz de correlaciones para calcular la matriz de distancias"
   ]
  },
  {
   "cell_type": "code",
   "execution_count": null,
   "id": "a12fe64d-4907-4a83-9b04-af251c7028dd",
   "metadata": {},
   "outputs": [],
   "source": [
    "from sklearn.manifold import MDS"
   ]
  },
  {
   "cell_type": "code",
   "execution_count": null,
   "id": "098a66a5-f991-41e9-891b-fe14d8dde494",
   "metadata": {},
   "outputs": [],
   "source": [
    "#df = pd.read_excel('../data/enigh2020.xlsx')\n",
    "df = pd.read_excel('https://github.com/adan-rs/AnalisisDatos/raw/main/data/enigh2020.xlsx')"
   ]
  },
  {
   "cell_type": "code",
   "execution_count": null,
   "id": "4a47a0fe-d2c2-4b6d-b866-4236bc94034c",
   "metadata": {},
   "outputs": [],
   "source": [
    "variables = [\"ing_cor\", \"gasto_mon\", \"edad_jefe\", \"tot_integ\"]"
   ]
  },
  {
   "cell_type": "code",
   "execution_count": null,
   "id": "c0a4917d-91c1-47e9-9864-4fc2ccf45430",
   "metadata": {
    "tags": []
   },
   "outputs": [],
   "source": [
    "def realizar_mds(df, variables):\n",
    "    '''\n",
    "    Realiza escalamiento multidimensional con base en correlaciones\n",
    "    '''\n",
    "    # Validar variables\n",
    "    for var in variables:\n",
    "       if var not in df.columns:\n",
    "           raise ValueError(f\"Variable {var} no encontrada en el DataFrame\")\n",
    "       if not np.issubdtype(df[var].dtype, np.number):\n",
    "           raise ValueError(f\"Variable {var} debe ser numérica\")    \n",
    "    \n",
    "    # Calcular matriz de correlaciones y distancias\n",
    "    matriz_corr = df[variables].corr()\n",
    "    distancias = 1-np.abs(matriz_corr)\n",
    "    \n",
    "    # Aplicar modelo\n",
    "    mds = MDS(n_components=2, dissimilarity='precomputed', normalized_stress='auto', random_state=42)\n",
    "    mds_resultados = mds.fit_transform(distancias)\n",
    "\n",
    "    # Convertir resultados a dataframe\n",
    "    mds_df = pd.DataFrame(mds_resultados, columns=['Dimension 1', 'Dimension 2'])\n",
    "    mds_df['Etiqueta']=variables\n",
    "\n",
    "    #Visualización\n",
    "    plt.figure(figsize=(8,6))\n",
    "    sns.scatterplot(data=mds_df, x='Dimension 1', y='Dimension 2')\n",
    "    for i in range(len(mds_df)):\n",
    "        plt.text(mds_df['Dimension 1'][i], mds_df['Dimension 2'][i], \n",
    "             mds_df['Etiqueta'][i])\n",
    "    plt.show()\n",
    "    \n",
    "    return mds_df"
   ]
  },
  {
   "cell_type": "code",
   "execution_count": null,
   "id": "b2617daa-8034-432a-aca0-2e1ca5bc0164",
   "metadata": {},
   "outputs": [],
   "source": [
    "resultado = realizar_mds(df, variables)"
   ]
  },
  {
   "cell_type": "markdown",
   "id": "28a7bd89-1622-4e50-86ff-c6f3d80feeab",
   "metadata": {},
   "source": [
    "Ejemplo de reporte de resultados:\n",
    ">Se aplicó escalamiento multidimensional (EMD) no métrico a una matriz de disimilitudes obtenida mediante juicios pareados sobre cinco marcas de supermercados. La configuración espacial de dos dimensiones explicó el 91% de la varianza, y el valor de Stress-I fue 0.072, indicando un ajuste adecuado. En el mapa perceptual resultante, Marca A y Marca E fueron percibidas como similares entre sí, mientras que Marca D fue percibida como distinta a todas las demás. Se solicitó a los encuestados que interpretaran las dimensiones, identificándolas como \"precio percibido\" y \"variedad de productos\".\n"
   ]
  },
  {
   "cell_type": "code",
   "execution_count": null,
   "id": "f6f732f8-19bd-4561-aa39-cffc8726d39a",
   "metadata": {},
   "outputs": [],
   "source": []
  }
 ],
 "metadata": {
  "kernelspec": {
   "display_name": "Python [conda env:base] *",
   "language": "python",
   "name": "conda-base-py"
  },
  "language_info": {
   "codemirror_mode": {
    "name": "ipython",
    "version": 3
   },
   "file_extension": ".py",
   "mimetype": "text/x-python",
   "name": "python",
   "nbconvert_exporter": "python",
   "pygments_lexer": "ipython3",
   "version": "3.12.7"
  }
 },
 "nbformat": 4,
 "nbformat_minor": 5
}
