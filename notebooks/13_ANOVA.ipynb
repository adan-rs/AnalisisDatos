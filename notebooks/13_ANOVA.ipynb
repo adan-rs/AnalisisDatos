{
 "cells": [
  {
   "cell_type": "markdown",
   "id": "dfc48533-af4c-4575-bbfe-9f5d09bb23b7",
   "metadata": {
    "tags": []
   },
   "source": [
    "# ANOVA de un factor y Prueba Kruskal-Wallis"
   ]
  },
  {
   "cell_type": "markdown",
   "id": "c9301ac2-ae2f-42ce-a4c1-e97a4dfb8a8e",
   "metadata": {},
   "source": [
    "El análisis de varianza (ANOVA) describe a un conjunto técnicas estadísticas que se utilizan para comparar la media entre dos o más grupos. La hipótesis nula es que todas las medias son iguales mientras que la hipótesis alternativa plantea que al menos una es diferente.\n",
    "\n",
    "El análisis de varianza de un factor implica una variable dependiente continua y una variable independiente (llamada factor) que tiene cierto número de niveles. Los diferentes niveles de la variable independiente corresponden a diferente grupos o condiciones. Cuando existen dos o más factores el análisis se le llama análisis de varianza de n factores. Si el conjunto de variables independientes incluye variables cuantitativas (covariables), a la técnica se le llama análisis de covarianza (ANCOVA). Si hay dos o más variables dependientes se le conoce como MANOVA.\n",
    "\n",
    "El análisis de varianza recibe su nombre debido a que compara la variabilidad entre grupos con la variabilidad dentro de los grupos. Se calcula un valor F que representa la variabilidad entre los grupos dividida entre la variabilidad dentro de los grupos. Un valor grande de la F indica que hay más variabilidad entre los grupos (causados por la variable independiente) que la que hay dentro de cada grupo (atribuida al azar).\n",
    "\n",
    "Un valor significativo en la F implica que se rechaza la hipótesis nula, es decir, que al menos una media es diferente. Para determinar qué grupo es diferente se deben llevar a cabo pruebas post-hoc o realizar comparaciones específicas. \n",
    "\n",
    "El ANOVA de un factor requiere el cumplimiento de varios supuestos: las muestras son independientes, la variable dependiente está normalmente distribuida en cada grupo, y las varianzas en cada grupo son iguales. Debido a que la ANOVA se considera como una prueba robusta, variaciones en el cumplimiento de los supuestos de normalidad y homogeneidad de varianzas no afectan de manera importante los resultados si el tamaño de las muestras es igual. "
   ]
  },
  {
   "cell_type": "markdown",
   "id": "dbaae70b-8d65-4411-aaa2-999c0511fbe9",
   "metadata": {},
   "source": [
    "**Caso de uso**\n",
    "Una cadena de comida rápida planea agregar un nuevo producto a su menú, pero están indecisos entre tres posibles campañas de mercadotecnica. Como un experimento, el producto fue introducido en varias ubicaciones seleccionadas aleatoriamente utilizando diferentes campañas. Se registraron las ventas del nuevo producto por las primeras cuatro semanas. El archivo \"marketing.csv\" contiene las siguientes variables:  \n",
    "- MarketID: identificador del mercado\n",
    "- MarketSize: tamaño del mercado de acuerdo a las ventas\n",
    "- LocationID: identificador de la ubicación de la tienda\n",
    "- AgeOfStore: antigüedad de la tienda en años\n",
    "- Promotion: promoción (1 de 3) que fue probada\n",
    "- week: semana en que se llevó a cabo la promoción.\n",
    "- SalesInThousands: ventas para una ubicación específica (LocationID), promoción (Promotion) y semana (week).\n",
    "\n",
    "Para comparar las ventas de acuerdo a las diferentes promociones, utilizaremos una ANOVA  \n",
    "Hipótesis nula: todas las medias son iguales.  \n",
    "Hipótesis alternativa: al menos un par es diferente."
   ]
  },
  {
   "cell_type": "code",
   "execution_count": null,
   "id": "f79f2270-392d-443a-940e-ce7c84d67305",
   "metadata": {},
   "outputs": [],
   "source": [
    "import pandas as pd\n",
    "import numpy as np"
   ]
  },
  {
   "cell_type": "code",
   "execution_count": null,
   "id": "2ae78e95-38a7-40ca-b839-bf36fd737d3a",
   "metadata": {},
   "outputs": [],
   "source": [
    "df = pd.read_csv('https://github.com/adan-rs/AnalisisDatos/raw/main/data/marketing.csv')"
   ]
  },
  {
   "cell_type": "code",
   "execution_count": null,
   "id": "fd0e0fcb-3617-4873-8e6e-8176d84c3c97",
   "metadata": {},
   "outputs": [],
   "source": [
    "df.info()"
   ]
  },
  {
   "cell_type": "code",
   "execution_count": null,
   "id": "147d3ef5-2740-4b39-a654-c0958840fb25",
   "metadata": {},
   "outputs": [],
   "source": [
    "df['Promotion'].value_counts()"
   ]
  },
  {
   "cell_type": "code",
   "execution_count": null,
   "id": "6367c3ae-c1c7-4da6-b791-03eb3af7857e",
   "metadata": {},
   "outputs": [],
   "source": [
    "df.sample(4)"
   ]
  },
  {
   "cell_type": "markdown",
   "id": "3fa3a570-85a2-48c0-8d77-8a7aa8a174df",
   "metadata": {},
   "source": [
    "## Supuesto de igualdad de varianzas"
   ]
  },
  {
   "cell_type": "code",
   "execution_count": null,
   "id": "469f8cd4-6abc-4797-bc70-c7a55961ea1e",
   "metadata": {},
   "outputs": [],
   "source": [
    "from scipy.stats import levene\n",
    "\n",
    "def compare_variances(data, group_column, measure_column, groups=None, alpha=0.05):\n",
    "    \"\"\"\n",
    "    Realiza e interpreta una prueba de Levene para comparar varianzas entre múltiples grupos.   \n",
    "    Args:\n",
    "        data: DataFrame con los datos\n",
    "        group_column: Nombre de la columna que identifica los grupos\n",
    "        measure_column: Nombre de la columna con la variable a comparar\n",
    "        groups: Lista de grupos a comparar (si es None, usa todos los grupos encontrados)\n",
    "        alpha: Nivel de significancia (default: 0.05)\n",
    "    Returns:\n",
    "        p-value\n",
    "    \"\"\"\n",
    "    # Identificar grupos si no se especifican\n",
    "    grupos_disponibles = data[group_column].unique()\n",
    "    if len(grupos_disponibles) < 2:\n",
    "        raise ValueError(f\"La columna {group_column} debe tener al menos dos grupos\")\n",
    "    \n",
    "    # Usar grupos especificados o todos los disponibles\n",
    "    grupos = groups if groups is not None else grupos_disponibles\n",
    "    \n",
    "    # Verificar que todos los grupos especificados existen\n",
    "    grupos_invalidos = set(grupos) - set(grupos_disponibles)\n",
    "    if grupos_invalidos:\n",
    "        raise ValueError(f\"Grupos no encontrados en los datos: {grupos_invalidos}\")\n",
    "    \n",
    "    # Obtener datos de cada grupo\n",
    "    datos_grupos = [data[data[group_column] == grupo][measure_column] for grupo in grupos]\n",
    "    \n",
    "    # Calcular estadísticas por grupo\n",
    "    stats = pd.DataFrame({\n",
    "        'n': [len(datos) for datos in datos_grupos],\n",
    "        'varianza': [datos.var() for datos in datos_grupos],\n",
    "        'desv_std': [datos.std() for datos in datos_grupos]\n",
    "    }, index=grupos)\n",
    "    \n",
    "    # Realizar prueba de Levene\n",
    "    stat, p_value = levene(*datos_grupos)\n",
    "    \n",
    "    # Preparar interpretación\n",
    "    es_significativo = p_value < alpha\n",
    "    interpretacion = (f\"Prueba de Levene para {len(grupos)} grupos\\n\"\n",
    "                     f\"Estadístico de Levene: {stat:.4f}\\n\"\n",
    "                     f\"Valor p: {p_value:.4f}\\n\\n\"\n",
    "                     \"Estadísticas por grupo:\\n\")\n",
    "    \n",
    "    # Añadir estadísticas de cada grupo\n",
    "    for grupo in grupos:\n",
    "        n = stats.loc[grupo, 'n']\n",
    "        var = stats.loc[grupo, 'varianza']\n",
    "        std = stats.loc[grupo, 'desv_std']\n",
    "        interpretacion += f\"{grupo}: n={n}, varianza={var:.2f}, desv. estándar={std:.2f}\\n\"\n",
    "    \n",
    "    # Añadir conclusión\n",
    "    interpretacion += f\"\\nConclusión: {'Se rechaza' if es_significativo else 'No se rechaza'} \"\n",
    "    interpretacion += \"la hipótesis nula de igualdad de varianzas\"\n",
    "    interpretacion += (\" (hay diferencias significativas en las varianzas entre los grupos)\" \n",
    "                      if es_significativo \n",
    "                      else \"\\n (no hay evidencia de diferencias significativas en las varianzas)\")\n",
    "    \n",
    "    print(interpretacion)\n",
    "    return p_value"
   ]
  },
  {
   "cell_type": "code",
   "execution_count": null,
   "id": "559ad331-cc1f-4e0e-b1ef-bbb3ef391ca1",
   "metadata": {},
   "outputs": [],
   "source": [
    "resultados_levene = compare_variances(df,'Promotion', 'SalesInThousands')"
   ]
  },
  {
   "cell_type": "markdown",
   "id": "bbbd9b9a-b4cf-46be-98ff-c8a437ef20cc",
   "metadata": {},
   "source": [
    "## Supuesto de normalidad"
   ]
  },
  {
   "cell_type": "code",
   "execution_count": null,
   "id": "4042eb23-c4fc-49db-b5ac-e20c8346c03d",
   "metadata": {},
   "outputs": [],
   "source": [
    "from scipy import stats\n",
    "import pandas as pd\n",
    "\n",
    "def test_ks_normality(df, group_column, measure_column):\n",
    "    \"\"\"\n",
    "    Realiza la prueba de Kolmogorov-Smirnov para evaluar normalidad por grupos\n",
    "    Args:\n",
    "        df: DataFrame con los datos\n",
    "        group_col: Nombre de la columna de agrupación\n",
    "        value_col: Nombre de la columna con valores a evaluar\n",
    "    Returns:\n",
    "        DataFrame con resultados de la prueba por grupo\n",
    "    \"\"\"\n",
    "    results = []\n",
    "    for group in df[group_column].unique():\n",
    "        data = df[df[group_column] == group][measure_column]\n",
    "        stat, pval = stats.kstest(data, 'norm', args=(data.mean(), data.std()))\n",
    "        results.append({'grupo': group,'estadistico_ks': stat.round(4),'valor_p': pval.round(4)})\n",
    "        \n",
    "    return pd.DataFrame(results)"
   ]
  },
  {
   "cell_type": "code",
   "execution_count": null,
   "id": "4b3c2bc7-f4bf-4ea8-b5f0-64fb371a1916",
   "metadata": {},
   "outputs": [],
   "source": [
    "normalidad = test_ks_normality(df,'Promotion', 'SalesInThousands')\n",
    "normalidad"
   ]
  },
  {
   "cell_type": "markdown",
   "id": "ce26e2f6-5c8d-43ba-8629-0cf492ced1ed",
   "metadata": {},
   "source": [
    "Sin embargo, varios estudios muestran que la prueba ANOVA es robusta ante violaciones de la normalidad si:\n",
    "- Los grupos tienen un tamaño similar\n",
    "- Hay por lo menos 40 observaciones en cada grupo."
   ]
  },
  {
   "cell_type": "markdown",
   "id": "430a573e-6616-484c-b264-fee1fa4cdc67",
   "metadata": {},
   "source": [
    "## ANOVA"
   ]
  },
  {
   "cell_type": "code",
   "execution_count": null,
   "id": "05800207-266b-4d6f-ab93-81a8b7af2ca3",
   "metadata": {},
   "outputs": [],
   "source": [
    "from scipy.stats import f_oneway\n",
    "\n",
    "def realizar_anova(df, group_column, measure_column, alpha=0.05):\n",
    "    \"\"\"\n",
    "    Realiza prueba ANOVA de una vía para comparar medias entre grupos.\n",
    "    Parámetros:\n",
    "    df (pandas.DataFrame): DataFrame con los datos\n",
    "    grupo_col (str): Nombre de la columna que contiene los grupos\n",
    "    valor_col (str): Nombre de la columna con los valores a comparar\n",
    "    alpha (float): Nivel de significancia (default 0.05)\n",
    "    Retorna:\n",
    "    p-value\n",
    "    \"\"\"\n",
    "    # Crear valores por grupo\n",
    "    grupos = df[group_column].unique()\n",
    "    valores_grupos = [df[df[group_column] == grupo][measure_column] for grupo in grupos]\n",
    "    \n",
    "    # Realizar prueba ANOVA\n",
    "    statistic, p_value = f_oneway(*valores_grupos)\n",
    "    \n",
    "    # Determinar resultado\n",
    "    resultado = \"Se rechaza la hipótesis nula: hay al menos una diferencia significativa entre los grupos.\" if p_value < alpha else \"No se puede rechazar la hipótesis nula: no hay suficiente evidencia para afirmar que hay diferencias significativas entre los grupos.\"\n",
    "\n",
    "    print(f'Estadistico {statistic:.4f}')\n",
    "    print(f'Valor p: {p_value:.4f}')\n",
    "    print(resultado)\n",
    "    \n",
    "    return  p_value"
   ]
  },
  {
   "cell_type": "code",
   "execution_count": null,
   "id": "214d203c-06e8-4c6f-9d4d-ee72716f2090",
   "metadata": {},
   "outputs": [],
   "source": [
    "resultado = realizar_anova(df,'Promotion', 'SalesInThousands')"
   ]
  },
  {
   "cell_type": "markdown",
   "id": "1350cdd5-82bb-4a3b-8740-098692bfdafd",
   "metadata": {},
   "source": [
    "La tabla ANOVA no indica qué grupo es diferente al resto, sin embargo, las pruebas post-hoc son útiles para detectar qué grupo es diferente al resto. \n",
    "- LSD/DMS (Diferencia menos significativa): Es el equivalente a múltiples pruebas t, no se hacen correcciones y los resultados no son precisos.\n",
    "- Bonferroni: Corrige el nivel de significancia dividiéndolo entre el número de grupos. Es preferible cuando son pocas comparaciones. \n",
    "- Tukey: Preferible cuando son muchas comparaciones. Es deseable que el tamaño de cada grupo sea igual. \n",
    "- REGWQ (Ryan-Einot-Gabriel-Welsh): Recomendable, pero se debe evitar cuando las muestras son de diferente tamaño.\n",
    "- Dunnett: Es apropiada cuando se desea comparar con un grupo de control.\n",
    "- Gabriel: Apropiada cuando el tamaño de las muestras es ligeramente diferente.\n",
    "- GT2 de Hochberg: Apropiadas cuando el tamaño de las muestras es muy diferente\n",
    "- Games- Howell: Recomendable cuando las varianzas son diferentes.\n",
    "\n",
    "La librería statsmodel permite realizar la prueba de Tukey, Bonferroni y Dunnet"
   ]
  },
  {
   "cell_type": "code",
   "execution_count": null,
   "id": "74e33c4e-aa28-48ec-8026-a2c87cc0f766",
   "metadata": {},
   "outputs": [],
   "source": [
    "def post_hoc_test(data, group_column, value_column, test_type='tukey', control_group=None, alpha=0.05):\n",
    "    \"\"\"\n",
    "    Realiza pruebas post hoc múltiples: Tukey o Bonferroni.\n",
    "    Parámetros:\n",
    "    data: DataFrame que contiene los datos\n",
    "    group_column: Nombre de la columna que contiene los grupos\n",
    "    value_column: Nombre de la columna que contiene los valores a comparar\n",
    "    test_type: Tipo de prueba ('tukey', 'bonferroni')\n",
    "    alpha : Nivel de significancia (por defecto 0.05)\n",
    "    Retorna:\n",
    "    Objeto con resultados de la prueba seleccionada\n",
    "    \"\"\"\n",
    "    from statsmodels.stats.multicomp import MultiComparison\n",
    "    from statsmodels.stats.multicomp import pairwise_tukeyhsd\n",
    "    \n",
    "    mc = MultiComparison(data[value_column], data[group_column])\n",
    "    \n",
    "    if test_type.lower() == 'tukey':\n",
    "        print(mc.tukeyhsd(alpha=alpha))\n",
    "    \n",
    "    elif test_type.lower() == 'bonferroni':\n",
    "        print(mc.allpairtest(stats.ttest_ind, method='bonf')[0])\n",
    "    \n",
    "    else:\n",
    "        raise ValueError(\"Tipo de prueba no válido. Usar 'tukey' o 'bonferroni'\")"
   ]
  },
  {
   "cell_type": "code",
   "execution_count": null,
   "id": "29c52f95-f83e-4029-a215-30234dd45ff8",
   "metadata": {},
   "outputs": [],
   "source": [
    "resultado_tukey = post_hoc_test(df, \"Promotion\", \"SalesInThousands\", test_type='tukey')\n",
    "resultado_tukey"
   ]
  },
  {
   "cell_type": "code",
   "execution_count": null,
   "id": "f113cfd0-7134-45e0-9e74-cbdbe898259d",
   "metadata": {},
   "outputs": [],
   "source": [
    "resultado_bonferroni = post_hoc_test(df, \"Promotion\", \"SalesInThousands\", test_type='bonferroni')\n",
    "resultado_bonferroni"
   ]
  },
  {
   "cell_type": "markdown",
   "id": "b3ac4869-9bb9-4372-8f20-c4a920285f86",
   "metadata": {},
   "source": [
    "Ejemplo de redacción de conclusiones: \n",
    "\n",
    ">Se realizó un ANOVA de un factor para analizar cómo ________ influye en _________. Los resultados muestran que _________tiene un efecto significativo en __________, F(_,_) = ___, p = ___. Las comparaciones post-hoc utilizando el método de Tukey HSD indican que la media de ______ es significativamente diferente a la media de _________ y _______"
   ]
  },
  {
   "cell_type": "markdown",
   "id": "b102d7c2-7566-4f72-9f2c-3a22bae9098e",
   "metadata": {
    "tags": []
   },
   "source": [
    "## Prueba Kruskal-Wallis"
   ]
  },
  {
   "cell_type": "code",
   "execution_count": null,
   "id": "7dadbfa2-e47f-41e9-aeed-be31d322407c",
   "metadata": {},
   "outputs": [],
   "source": [
    "from scipy.stats import kruskal\n",
    "import pandas as pd\n",
    "\n",
    "def kruskal_test(df: pd.DataFrame, group_col: str, value_col: str, alpha: float = 0.05) -> dict:\n",
    "    \"\"\"\n",
    "    Realiza la prueba de Kruskal-Wallis para comparar múltiples grupos.\n",
    "    Args:\n",
    "        df: DataFrame con los datos\n",
    "        group_col: Nombre de la columna que contiene los grupos\n",
    "        value_col: Nombre de la columna con los valores a comparar\n",
    "        alpha: Nivel de significancia (por defecto 0.05)  \n",
    "    Returns:\n",
    "        dict: Diccionario con los resultados de la prueba\n",
    "    \"\"\"\n",
    "    # Obtener grupos únicos\n",
    "    grupos = [df[df[group_col] == g][value_col] for g in df[group_col].unique()]\n",
    "    \n",
    "    # Realizar prueba Kruskal-Wallis\n",
    "    statistic, p_value = kruskal(*grupos)\n",
    "    \n",
    "    # Preparar resultados\n",
    "    resultados = {\n",
    "        'estadistico': statistic,\n",
    "        'p_valor': p_value,\n",
    "        'alfa': alpha,\n",
    "        'decision': 'Se rechaza H0' if p_value < alpha else 'No se rechaza H0',\n",
    "        'interpretacion': ('Hay evidencia de diferencias significativas entre los grupos.' \n",
    "                         if p_value < alpha \n",
    "                         else 'No hay suficiente evidencia para afirmar diferencias significativas entre los grupos.')}\n",
    "    \n",
    "    return resultados"
   ]
  },
  {
   "cell_type": "code",
   "execution_count": null,
   "id": "c3d8e44b-1685-4192-8e28-36093c46a263",
   "metadata": {},
   "outputs": [],
   "source": [
    "# Ejemplo de uso:\n",
    "resultados = kruskal_test(df, 'Promotion', 'SalesInThousands')\n",
    "print(f\"Estadístico: {resultados['estadistico']:.4f}\")\n",
    "print(f\"Valor p: {resultados['p_valor']:.4f}\")\n",
    "print(f\"Decisión: {resultados['decision']}\")\n",
    "print(f\"Interpretación: {resultados['interpretacion']}\")"
   ]
  },
  {
   "cell_type": "code",
   "execution_count": null,
   "id": "ecd28793-f8b3-441f-8eda-ebe646b7b018",
   "metadata": {},
   "outputs": [],
   "source": []
  }
 ],
 "metadata": {
  "kernelspec": {
   "display_name": "Python [conda env:base] *",
   "language": "python",
   "name": "conda-base-py"
  },
  "language_info": {
   "codemirror_mode": {
    "name": "ipython",
    "version": 3
   },
   "file_extension": ".py",
   "mimetype": "text/x-python",
   "name": "python",
   "nbconvert_exporter": "python",
   "pygments_lexer": "ipython3",
   "version": "3.12.7"
  }
 },
 "nbformat": 4,
 "nbformat_minor": 5
}
