{
 "cells": [
  {
   "cell_type": "markdown",
   "id": "874f1b01-2188-4e09-9891-05333ddd9bf3",
   "metadata": {},
   "source": [
    "# Selección de modelos"
   ]
  },
  {
   "cell_type": "code",
   "execution_count": null,
   "id": "ee47ede9-4aae-423e-9e44-deff93eabb57",
   "metadata": {},
   "outputs": [],
   "source": [
    "import pandas as pd\n",
    "import numpy as np\n",
    "import statsmodels.api as sm"
   ]
  },
  {
   "cell_type": "markdown",
   "id": "3228b8c4-f728-439c-ba9e-ffb9dae33bcb",
   "metadata": {},
   "source": [
    "## Preparación de los datos"
   ]
  },
  {
   "cell_type": "code",
   "execution_count": null,
   "id": "5f4cb523-2aec-4de5-9fa1-3678fc444f04",
   "metadata": {},
   "outputs": [],
   "source": [
    "df = pd.read_excel('https://github.com/adan-rs/AnalisisDatos/raw/main/data/burritos.xlsx')\n",
    "df.columns"
   ]
  },
  {
   "cell_type": "code",
   "execution_count": null,
   "id": "4f6b4b04-d486-414d-b5c6-0eac5469ae19",
   "metadata": {},
   "outputs": [],
   "source": [
    "df.info()"
   ]
  },
  {
   "cell_type": "code",
   "execution_count": null,
   "id": "a8494eda-f9f4-4319-afa6-0219c866c377",
   "metadata": {},
   "outputs": [],
   "source": [
    "df.head(3)"
   ]
  },
  {
   "cell_type": "code",
   "execution_count": null,
   "id": "4427b0f4-3953-426e-a9bd-0a6106989c9f",
   "metadata": {},
   "outputs": [],
   "source": [
    "df.dropna(inplace=True)\n",
    "df.info()"
   ]
  },
  {
   "cell_type": "markdown",
   "id": "895b463c-8a99-430c-9947-f3a688fcd38f",
   "metadata": {},
   "source": [
    "## Análisis de regresión múltiple (Con StatsModels)"
   ]
  },
  {
   "cell_type": "code",
   "execution_count": null,
   "id": "5b239fec-9adc-4971-a785-a9acd7355067",
   "metadata": {},
   "outputs": [],
   "source": [
    "var_ind = ['Cost', 'Hunger', 'Tortilla', 'Temp', 'Meat',\n",
    "           'Fillings', 'Meat:filling', 'Uniformity', 'Salsa', \n",
    "           'Synergy', 'Wrap']\n",
    "X = df[var_ind]\n",
    "X = sm.add_constant(X)\n",
    "y = df['overall']"
   ]
  },
  {
   "cell_type": "code",
   "execution_count": null,
   "id": "83418a1e-5d64-439f-b2ba-0abd13729098",
   "metadata": {},
   "outputs": [],
   "source": [
    "results = sm.OLS(y, X).fit()\n",
    "results.summary()"
   ]
  },
  {
   "cell_type": "markdown",
   "id": "6c433bd3-6ec3-4241-ba43-b6857a590f70",
   "metadata": {},
   "source": [
    "## Eliminación hacia atrás"
   ]
  },
  {
   "cell_type": "code",
   "execution_count": null,
   "id": "3186d2fd-7990-49d5-8bdc-181b442b40dc",
   "metadata": {},
   "outputs": [],
   "source": [
    "def backward_elimination(X, y, significance_level=0.05):\n",
    "    while True:\n",
    "        model = sm.OLS(y, X).fit()\n",
    "        pvalues = model.pvalues.drop('const')  # Excluir la constante\n",
    "        if pvalues.max() > significance_level:\n",
    "            excl_var = pvalues.idxmax()\n",
    "            print(f\"Eliminando {excl_var} con p-valor {pvalues[excl_var]:.4f}\")\n",
    "            X = X.drop(columns=[excl_var])\n",
    "        else:\n",
    "            break\n",
    "    return model"
   ]
  },
  {
   "cell_type": "code",
   "execution_count": null,
   "id": "fdf6adc2-4464-426c-9fd7-580ebb0ee120",
   "metadata": {},
   "outputs": [],
   "source": [
    "model = backward_elimination(X, y)"
   ]
  },
  {
   "cell_type": "code",
   "execution_count": null,
   "id": "719bc1ac-d3a2-4184-b20e-111ebe252c57",
   "metadata": {},
   "outputs": [],
   "source": [
    "model.summary()"
   ]
  },
  {
   "cell_type": "markdown",
   "id": "698f09a8-fc57-42f8-a1ef-ee30adc531a6",
   "metadata": {},
   "source": [
    "## Eliminación hacia atrás (con librería stepwise_regression)"
   ]
  },
  {
   "cell_type": "markdown",
   "id": "87cdc885-025f-430f-ba77-15f1944d727f",
   "metadata": {},
   "source": [
    "Para utilizar las funciones de la regresión por pasos se requiere hacer la siguiente instalación:\n",
    "`!pip install stepwise-regression`"
   ]
  },
  {
   "cell_type": "code",
   "execution_count": null,
   "id": "dff21245-596e-4e93-9e0d-21af8477395d",
   "metadata": {},
   "outputs": [],
   "source": [
    "#!pip install stepwise-regression"
   ]
  },
  {
   "cell_type": "code",
   "execution_count": null,
   "id": "8c11263d-ba29-4445-a3e6-3a83a0f5e6e0",
   "metadata": {},
   "outputs": [],
   "source": [
    "from stepwise_regression import step_reg"
   ]
  },
  {
   "cell_type": "code",
   "execution_count": null,
   "id": "9c2e73e0-42a9-43ee-816b-3f9e94db866e",
   "metadata": {},
   "outputs": [],
   "source": [
    "# Modelo completo con todos los predictores\n",
    "var_ind = ['Cost', 'Hunger', 'Tortilla', 'Temp', 'Meat',\n",
    "           'Fillings', 'Meat:filling', 'Uniformity', 'Salsa', \n",
    "           'Synergy', 'Wrap']\n",
    "X = df[var_ind]\n",
    "X = sm.add_constant(X)\n",
    "y = df['overall']"
   ]
  },
  {
   "cell_type": "markdown",
   "id": "31e618ac-2665-4f2e-96cc-af9b759f144b",
   "metadata": {},
   "source": [
    "El paquete *Stepwise-regression* tiene dos funciones: *backward-regression* y *forward_regression*. Hay cuatro parámetros:\n",
    "- X: variables independientes\n",
    "- y: variable dependiente\n",
    "- threshold_in: el nivel de significancia para el p-valor\n",
    "- verbose=False (con 'True' detalla el procedimiento escalonado)"
   ]
  },
  {
   "cell_type": "code",
   "execution_count": null,
   "id": "37039a6f-79bf-41cf-bb58-3d8dcd466aa1",
   "metadata": {},
   "outputs": [],
   "source": [
    "backselect = step_reg.backward_regression(X, y, 0.05,verbose=True)\n",
    "backselect"
   ]
  },
  {
   "cell_type": "markdown",
   "id": "d1eb7df5-bb56-4710-be66-e3c487c196f0",
   "metadata": {},
   "source": [
    "Una vez que identificamos las mejores variables para el modelo, realizamos el análisis"
   ]
  },
  {
   "cell_type": "code",
   "execution_count": null,
   "id": "f4d166a3-f8a3-479e-a64f-6e050f0a4ad3",
   "metadata": {},
   "outputs": [],
   "source": []
  }
 ],
 "metadata": {
  "kernelspec": {
   "display_name": "Python [conda env:base] *",
   "language": "python",
   "name": "conda-base-py"
  },
  "language_info": {
   "codemirror_mode": {
    "name": "ipython",
    "version": 3
   },
   "file_extension": ".py",
   "mimetype": "text/x-python",
   "name": "python",
   "nbconvert_exporter": "python",
   "pygments_lexer": "ipython3",
   "version": "3.12.7"
  }
 },
 "nbformat": 4,
 "nbformat_minor": 5
}
