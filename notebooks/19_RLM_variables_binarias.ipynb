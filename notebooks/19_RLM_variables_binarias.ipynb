{
 "cells": [
  {
   "cell_type": "markdown",
   "id": "2bc86e26-491a-4f6a-b916-ca953a5b4cc0",
   "metadata": {},
   "source": [
    "# Análisis de regresión: variables dicotómicas"
   ]
  },
  {
   "cell_type": "markdown",
   "id": "ae0caa20-8068-4905-b7f0-7c803f476915",
   "metadata": {},
   "source": [
    "Una variable dicotómica toma solo dos valores, generalmente 0 y 1, y se utiliza para representar categorías. Por ejemplo:\n",
    "- Genero_femenino = 1 si el individuo es mujer, 0 si es hombre.\n",
    "- Sucursal_Norte = 1 si pertenece a la sucursal del norte, 0 en caso contrario.\n",
    "\n",
    "En un modelo de regresión lineal, el coeficiente β de una variable dicotómica se interpreta como la diferencia en el valor promedio de la variable dependiente entre el grupo codificado como 1 y el grupo de referencia (codificado como 0), manteniendo constantes las demás variables.\n",
    "\n",
    "*Interpretación de coeficientes de regresión para variables dicotómicas*\n",
    "\n",
    "Supón que estimas el siguiente modelo:\n",
    "\n",
    "Ventas = β₀ + β₁ * Publicidad + β₂ * Genero_femenino + ε\n",
    "\n",
    "Y el resultado de la regresión es:\n",
    "- β₀ = 120\n",
    "- β₁ = 5.2\n",
    "- β₂ = 18.7\n",
    "\n",
    "La interpretación es:\n",
    "- Por cada unidad adicional de gasto en publicidad, las ventas aumentan en promedio 5.2 unidades (β₁).\n",
    "- Si el cliente es mujer (Genero_femenino = 1), las ventas aumentan en promedio 18.7 unidades en comparación con hombres (Genero_femenino = 0), manteniendo constante el gasto en publicidad (β₂).\n"
   ]
  },
  {
   "cell_type": "code",
   "execution_count": null,
   "id": "99667d79-7dfd-4e36-bfe3-b2b83e8a4cd4",
   "metadata": {},
   "outputs": [],
   "source": [
    "import pandas as pd\n",
    "import numpy as np\n",
    "import matplotlib.pyplot as plt\n",
    "import seaborn as sns\n",
    "import statsmodels.api as sm"
   ]
  },
  {
   "cell_type": "markdown",
   "id": "d604ce8f-2a2d-47a7-a4e3-59f4daca8037",
   "metadata": {},
   "source": [
    "## 9.1. Variables dicotómicas"
   ]
  },
  {
   "cell_type": "markdown",
   "id": "e1ea4bc7-11ca-4a28-b8ce-d96c2ca9a627",
   "metadata": {},
   "source": [
    "El archivo *ubermty* contiene información de viajes en taxi o uber en la ciudad de Monterrey de junio de 2016 a agosto de 2017. Crearemos un modelo para estimar la duración de cada viaje en función de la distancia y el día de la semana."
   ]
  },
  {
   "cell_type": "code",
   "execution_count": null,
   "id": "47e6f427-7721-4daf-bba4-7ee6f04c6194",
   "metadata": {},
   "outputs": [],
   "source": [
    "variables=['id', 'dropoff_longitude', 'dropoff_latitude', \n",
    "           'Dia', 'DuracionMinutos', 'DistanciaKm']\n",
    "\n",
    "# Cargar los datos\n",
    "df = pd.read_excel('https://github.com/adan-rs/AnalisisDatos/raw/main/data/ubermty.xlsx', usecols=variables)"
   ]
  },
  {
   "cell_type": "code",
   "execution_count": null,
   "id": "fda55140-3ed2-465d-94c2-0bcdb62a8c79",
   "metadata": {},
   "outputs": [],
   "source": [
    "# Revisar las variables\n",
    "df.info()"
   ]
  },
  {
   "cell_type": "code",
   "execution_count": null,
   "id": "e5e76e8e-7320-4e7b-bb99-f9156e837a69",
   "metadata": {},
   "outputs": [],
   "source": [
    "# Obtener la estadística descriptiva\n",
    "df.describe().T"
   ]
  },
  {
   "cell_type": "code",
   "execution_count": null,
   "id": "fac55ecb-d6ee-47d1-b2c6-2392c9393b52",
   "metadata": {},
   "outputs": [],
   "source": [
    "# Filtrado de valores atípicos\n",
    "Q1 = df['DuracionMinutos'].quantile(0.25)\n",
    "Q3 = df['DuracionMinutos'].quantile(0.75)\n",
    "IQR = Q3-Q1\n",
    "lim_inf = Q1-1.5*IQR\n",
    "lim_sup = Q3+1.5*IQR\n",
    "df = df[(df['DuracionMinutos']>lim_inf)&(df['DuracionMinutos']<lim_sup)]"
   ]
  },
  {
   "cell_type": "code",
   "execution_count": null,
   "id": "99a86607-e951-4d6b-bce8-bb7f86208d5c",
   "metadata": {},
   "outputs": [],
   "source": [
    "# Generar un gráfico\n",
    "sns.scatterplot(x=\"dropoff_longitude\",\n",
    "                y=\"dropoff_latitude\",\n",
    "                data=df)"
   ]
  },
  {
   "cell_type": "code",
   "execution_count": null,
   "id": "eb61e565-1e20-4840-aeb7-513a71d26677",
   "metadata": {},
   "outputs": [],
   "source": [
    "\n",
    "import folium\n",
    "# Calcula centro del mapa con la media de las coordenadas\n",
    "map_center = [df['dropoff_latitude'].mean(), df['dropoff_longitude'].mean()]\n",
    "# Crea un mapa alrededor del centro con un nivel inicial de zoom\n",
    "mapa = folium.Map(location=map_center, zoom_start=10)\n",
    "# Recorre cada fila, crea un marcador circular y lo añade al mapa\n",
    "for index, row in df.iterrows(): \n",
    "    folium.CircleMarker(\n",
    "        location=[row['dropoff_latitude'], row['dropoff_longitude']],\n",
    "        radius=3, color='blue', fill=True, fill_color='blue', \n",
    "        fill_opacity=0.6 \n",
    "    ).add_to(mapa)\n",
    "mapa"
   ]
  },
  {
   "cell_type": "code",
   "execution_count": null,
   "id": "71fffb1a-9a76-40e4-8355-fc2e08e53695",
   "metadata": {},
   "outputs": [],
   "source": [
    "sns.boxplot(x='Dia', y='DuracionMinutos', data=df);"
   ]
  },
  {
   "cell_type": "code",
   "execution_count": null,
   "id": "d0a81089-2385-4743-8d90-375b3536a33b",
   "metadata": {},
   "outputs": [],
   "source": [
    "df.head()"
   ]
  },
  {
   "cell_type": "markdown",
   "id": "e91cdba9-69fb-4927-8bc5-7b77a3ed7225",
   "metadata": {},
   "source": [
    "**Creación de variables dicotómicas**: La función `get_dummies` convierte una variable categórica (con k categorías) en k variables dicotómicas. Entre otros parámetros se puede establecer:\n",
    "- prefix: agrega un prefijo a los nombres de las columnas.\n",
    "- dtype: de manera predeterminada está en *booleano*, se puede cambiar a *int*\n",
    "- drop_first: quita la columna con la primera categoría\n",
    "\n",
    "Puedes usar esta función para crear un nuevo dataframe de las variables dummy o puedes aplicarlo directamente al dataframe.\n",
    "\n",
    "Es importante considerar que\n",
    "- Si una variable categórica tiene más de dos categorías, se deben crear k – 1 variables dummy para evitar multicolinealidad (esto se puede automatizar con drop_first=True en pd.get_dummies()).\n",
    "- El grupo que se omite (referencia) es el que se considera como base para las comparaciones.\n",
    "- Las variables dummy permiten capturar efectos de pertenencia a una categoría específica, no cambios graduales como ocurre con variables continuas.\n"
   ]
  },
  {
   "cell_type": "code",
   "execution_count": null,
   "id": "d34662e7-fdd8-48f3-b24c-06e05c315bc0",
   "metadata": {},
   "outputs": [],
   "source": [
    "# Crear variables dicotómicas\n",
    "df = pd.get_dummies(df, columns=['Dia'], prefix='dia',  \n",
    "                    dtype=int, drop_first=True)\n",
    "df.head(3)"
   ]
  },
  {
   "cell_type": "code",
   "execution_count": null,
   "id": "7e1145b9-71e5-4fff-b3c3-d438d9eef055",
   "metadata": {},
   "outputs": [],
   "source": [
    "df.columns"
   ]
  },
  {
   "cell_type": "code",
   "execution_count": null,
   "id": "58528709-ca02-4011-81a7-4769be376409",
   "metadata": {},
   "outputs": [],
   "source": [
    "X = df[['DistanciaKm', 'dia_lunes', 'dia_martes', 'dia_miercoles', \n",
    "        'dia_jueves', 'dia_viernes', 'dia_sabado']]  \n",
    "# Añadir una columna de unos para el intercepto\n",
    "X = sm.add_constant(X)\n",
    "y = df['DuracionMinutos']"
   ]
  },
  {
   "cell_type": "code",
   "execution_count": null,
   "id": "de7a21a9-a3e2-4c64-888a-0f32bea40f0d",
   "metadata": {},
   "outputs": [],
   "source": [
    "# Ajustar el modelo de regresión\n",
    "model = sm.OLS(y, X).fit()\n",
    "\n",
    "# Imprimir los resultados\n",
    "print(model.summary())"
   ]
  },
  {
   "cell_type": "code",
   "execution_count": null,
   "id": "6ca47032-6937-4bb5-a96b-9e6e60ed1202",
   "metadata": {},
   "outputs": [],
   "source": [
    "pronostico = model.predict([[1, 10, 0, 0, 0, 0, 1, 0]])\n",
    "pronostico"
   ]
  },
  {
   "cell_type": "code",
   "execution_count": null,
   "id": "6c5d1546-b6f2-4314-a5b9-ed304a4ca428",
   "metadata": {},
   "outputs": [],
   "source": []
  }
 ],
 "metadata": {
  "kernelspec": {
   "display_name": "Python [conda env:base] *",
   "language": "python",
   "name": "conda-base-py"
  },
  "language_info": {
   "codemirror_mode": {
    "name": "ipython",
    "version": 3
   },
   "file_extension": ".py",
   "mimetype": "text/x-python",
   "name": "python",
   "nbconvert_exporter": "python",
   "pygments_lexer": "ipython3",
   "version": "3.12.7"
  }
 },
 "nbformat": 4,
 "nbformat_minor": 5
}
