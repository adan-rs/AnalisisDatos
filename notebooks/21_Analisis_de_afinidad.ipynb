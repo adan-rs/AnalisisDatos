{
 "cells": [
  {
   "cell_type": "markdown",
   "id": "c026c528-7525-422b-89b2-9bcf2a469a84",
   "metadata": {},
   "source": [
    "# Análisis de afinidad"
   ]
  },
  {
   "cell_type": "markdown",
   "id": "c761e4b8-7862-4123-9afc-05a203bf5049",
   "metadata": {},
   "source": [
    "El análisis de afinidad se utiliza para determinar qué objetos están juntos con frecuencia. Una aplicación común es el \"análisis de canasta\" (*basket analysis*) para identificar qué artículos son comprados al mismo tiempo. Otras aplicaciones son detección de fraudes, segmentación de mercados, recomendación de productos, y otras más. \n",
    "\n",
    "El algoritmo que utilizaremos será el *algoritmo a priori* que incluye los siguientes pasos:\n",
    "1. Cálculo de la frecuencia de los ítems. Se identifican los elementos individuales más frecuentes y se descartan aquellos cuyo *soporte* (proporción en que aparece) sea menor a cierto umbral.\n",
    "2. Generación de conjuntos de ítems frecuentes. Se combinan los ítems frecuentes en pares, tríos, etc., para formar conjuntos más grandes. Se descartan los conjuntos cuyo soporte sea menor al umbral.\n",
    "3. Extracción de reglas de asociación. Se generan reglas del tipo \"si compras X, es probable que compres Y\""
   ]
  },
  {
   "cell_type": "markdown",
   "id": "905c8182-bd83-4f13-81f1-92f7940bfc0f",
   "metadata": {},
   "source": [
    "## Ejemplo: Recomendación de películas"
   ]
  },
  {
   "cell_type": "markdown",
   "id": "a9f4e03a-8cd3-4686-a2ae-abbf44b1895b",
   "metadata": {},
   "source": [
    "El archivo `peliculas.csv` contiene información de las evaluaciones de películas realizadas por los usuarios de un sitio web. Cada usuario está representado por un id y no se proporciona ninguna otra información personal. Los datos provienen originalmente de la base \"MovieLens Beliefs Dataset 2024\" en el sitio http://grouplens.org/datasets/movielens y los datos fueron filtrados para mostrar solo películas del año 2020 y posteriores, con más de 50 evaluaciones. Las calificaciones de cada película va desde 0.5 estrellas hasta 5 estrellas."
   ]
  },
  {
   "cell_type": "code",
   "execution_count": null,
   "id": "0376ce33-d4f5-4623-965e-8e0f23d84a06",
   "metadata": {},
   "outputs": [],
   "source": [
    "import pandas as pd\n",
    "from mlxtend.frequent_patterns import apriori\n",
    "from mlxtend.frequent_patterns import association_rules\n",
    "\n",
    "import warnings\n",
    "warnings.simplefilter(action='ignore', category=DeprecationWarning)\n",
    "warnings.simplefilter(action='ignore', category=FutureWarning)"
   ]
  },
  {
   "cell_type": "code",
   "execution_count": null,
   "id": "047db7d3-910a-4c9f-84d3-f857ce721a67",
   "metadata": {},
   "outputs": [],
   "source": [
    "df = pd.read_excel('https://github.com/adan-rs/AnalisisDatos/raw/main/data/movies2.xlsx')"
   ]
  },
  {
   "cell_type": "code",
   "execution_count": null,
   "id": "63eea6cb-ac29-4ba3-8e21-5beb539e01df",
   "metadata": {},
   "outputs": [],
   "source": [
    "# Convertir ratings > 3 en \"me gusta\"\n",
    "likes_matrix = df.copy()\n",
    "likes_matrix['liked'] = (likes_matrix['rating'] > 3).astype(int)\n",
    "likes_matrix.sample(5)"
   ]
  },
  {
   "cell_type": "code",
   "execution_count": null,
   "id": "ff5c80dc-003a-4835-b59c-ad15c48615d0",
   "metadata": {},
   "outputs": [],
   "source": [
    "# Crear matriz usuario-película\n",
    "user_movie_matrix = likes_matrix.pivot_table(index='userId',columns='title',\n",
    "    values='liked', fill_value=0)\n",
    "\n",
    "# Verificar que todos los valores son binarios (0 o 1)\n",
    "user_movie_matrix = user_movie_matrix.astype(bool).astype(int)\n",
    "user_movie_matrix"
   ]
  },
  {
   "cell_type": "code",
   "execution_count": null,
   "id": "e10354ea-b7c0-4b5e-a7f6-48af7d8743aa",
   "metadata": {},
   "outputs": [],
   "source": [
    "# Encontrar conjuntos frecuentes\n",
    "frequent_itemsets = apriori(user_movie_matrix, \n",
    "                          min_support=0.1,  # Ajustar soporte\n",
    "                          use_colnames=True)"
   ]
  },
  {
   "cell_type": "code",
   "execution_count": null,
   "id": "14cdad46-af53-4957-87dd-1e4f73eb348e",
   "metadata": {},
   "outputs": [],
   "source": [
    "frequent_itemsets"
   ]
  },
  {
   "cell_type": "code",
   "execution_count": null,
   "id": "07ee39de-bf1b-4e0c-ba00-ef939b608da4",
   "metadata": {},
   "outputs": [],
   "source": [
    "# Generar reglas de asociación\n",
    "rules = association_rules(frequent_itemsets, \n",
    "                        metric=\"confidence\",\n",
    "                        min_threshold=0.5)  # Ajusta este valor según tus necesidades"
   ]
  },
  {
   "cell_type": "markdown",
   "id": "e2e47028-69df-490e-b9ae-eb7f9faf6ec5",
   "metadata": {},
   "source": [
    "Support: Frecuencia de aparición conjunta  \n",
    "Confidence: Probabilidad condicional  \n",
    "Lift: Mejora sobre la probabilidad aleatoria"
   ]
  },
  {
   "cell_type": "code",
   "execution_count": null,
   "id": "f043af28-fce0-4518-8140-7349461a1ef7",
   "metadata": {},
   "outputs": [],
   "source": [
    "# Ordenar reglas por lift\n",
    "rules = rules.sort_values('lift', ascending=False)\n",
    "rules.head(5)"
   ]
  },
  {
   "cell_type": "code",
   "execution_count": null,
   "id": "07acd3f6-13aa-4a2b-a562-64df17886e55",
   "metadata": {},
   "outputs": [],
   "source": [
    "def recomendar_items(item, rules_df, n_recomendaciones=5):\n",
    "    \"\"\"\n",
    "    Obtiene recomendaciones únicas para un item específico basado en reglas de asociación\n",
    "    \"\"\"\n",
    "    # Filtrar reglas donde el item dado está en los antecedentes\n",
    "    item_rules = rules_df[rules_df['antecedents'].apply(lambda x: item in str(x))].copy()\n",
    "    \n",
    "    if len(item_rules) == 0:\n",
    "        return \"No se encontraron recomendaciones para este item\"\n",
    "    \n",
    "    # Crear nueva columna con items individuales usando loc\n",
    "    item_rules.loc[:, 'item'] = item_rules['consequents'].apply(lambda x: list(x)[0])\n",
    "    \n",
    "    # Quedarnos con la mejor regla (mayor lift) para cada item\n",
    "    best_rules = item_rules.sort_values('lift', ascending=False)\\\n",
    "                          .drop_duplicates(subset=['item'], keep='first')\n",
    "    \n",
    "    # Seleccionar las columnas relevantes y renombrarlas para mayor claridad\n",
    "    recommendations = best_rules[['item', 'confidence', 'lift']].copy()\n",
    "    recommendations = recommendations.head(n_recomendaciones)\n",
    "    recommendations = recommendations.rename(columns={'item': 'item_recomendado'})\n",
    "    \n",
    "    # Formatear los valores numéricos\n",
    "    recommendations.loc[:, 'confidence'] = recommendations['confidence'].apply(lambda x: f\"{x:.2%}\")\n",
    "    recommendations.loc[:, 'lift'] = recommendations['lift'].apply(lambda x: f\"{x:.2f}\")\n",
    "    \n",
    "    return recommendations"
   ]
  },
  {
   "cell_type": "code",
   "execution_count": null,
   "id": "932d68b6-e778-4b06-b4a9-2133be77f77c",
   "metadata": {},
   "outputs": [],
   "source": [
    "pelicula_ejemplo = 'The Batman (2022)'\n",
    "recomendaciones = recomendar_items(pelicula_ejemplo, rules)\n",
    "print(f\"Recomendaciones para {pelicula_ejemplo}:\")\n",
    "print(recomendaciones)"
   ]
  },
  {
   "cell_type": "code",
   "execution_count": null,
   "id": "d4084dbc-7d69-4042-8333-1e84fee3e1a1",
   "metadata": {},
   "outputs": [],
   "source": []
  }
 ],
 "metadata": {
  "kernelspec": {
   "display_name": "Python [conda env:base] *",
   "language": "python",
   "name": "conda-base-py"
  },
  "language_info": {
   "codemirror_mode": {
    "name": "ipython",
    "version": 3
   },
   "file_extension": ".py",
   "mimetype": "text/x-python",
   "name": "python",
   "nbconvert_exporter": "python",
   "pygments_lexer": "ipython3",
   "version": "3.12.7"
  }
 },
 "nbformat": 4,
 "nbformat_minor": 5
}
