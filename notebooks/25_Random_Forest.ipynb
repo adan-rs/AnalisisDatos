{
 "cells": [
  {
   "cell_type": "markdown",
   "id": "ef7a7d7e-e6dc-4418-9748-7383cf8b45bf",
   "metadata": {},
   "source": [
    "*¿Para qué se utiliza?*\n",
    "Random Forest es una técnica de machine learning supervisado utilizada tanto para clasificación como para regresión. Se basa en construir múltiples árboles de decisión y combinar sus resultados para mejorar la precisión y robustez del modelo. Es ideal para manejar datos con muchas variables, relaciones no lineales y posibles interacciones entre atributos. Se utiliza ampliamente en aplicaciones como predicción de riesgo, segmentación de clientes, detección de fraude, y diagnóstico médico.\n",
    "\n",
    "*¿Qué variables considera?*\n",
    "Variable dependiente: En clasificación: variable categórica. En regresión: variable numérica continua.\n",
    "Variables independientes: pueden ser numéricas o categóricas. Random Forest selecciona aleatoriamente subconjuntos de variables y observaciones para construir cada árbol, lo que mejora la generalización y reduce el riesgo de sobreajuste.\n",
    "\n",
    "*¿Cómo funciona?*\n",
    "Random Forest construye un conjunto (bosque) de árboles de decisión. Cada árbol se entrena con una muestra aleatoria del conjunto de datos (con reemplazo, \"bootstrap\"). Posteriomente selecciona aleatoriamente un subconjunto de variables en cada nodo para hacer divisiones.\n",
    "\n",
    "El resultado final es:\n",
    "- En clasificación: la clase predicha por la mayoría de los árboles.\n",
    "- En regresión: el promedio de las predicciones de todos los árboles.\n",
    "\n",
    "Este enfoque reduce la varianza del modelo sin aumentar demasiado el sesgo, logrando predicciones más estables que un solo árbol de decisión.\n",
    "\n",
    "*Supuestos y recomendaciones*\n",
    "- No requiere supuestos estadísticos como normalidad o independencia entre variables.\n",
    "- Puede manejar conjuntos de datos con muchas variables y ruido.\n",
    "- Es recomendable normalizar el número de árboles (n_estimators) y limitar la profundidad máxima para evitar tiempos de cómputo excesivos.\n",
    "- Permite calcular la importancia de las variables, lo que facilita la interpretación del modelo.\n",
    "- No es tan interpretable como un único árbol, pero es mucho más preciso.\n"
   ]
  },
  {
   "cell_type": "code",
   "execution_count": null,
   "id": "f8206ef2-98bb-4623-a417-77dde8eb27e9",
   "metadata": {},
   "outputs": [],
   "source": [
    "import pandas as pd\n",
    "from sklearn.ensemble import RandomForestClassifier\n",
    "from sklearn.model_selection import train_test_split\n",
    "from sklearn.metrics import classification_report, ConfusionMatrixDisplay\n",
    "import matplotlib.pyplot as plt\n",
    "\n",
    "# Suponemos que df es tu DataFrame con variables predictoras y una variable objetivo 'y'\n",
    "# Ejemplo:\n",
    "# df = pd.DataFrame({\n",
    "#     'edad': [25, 40, 35, 22, 50],\n",
    "#     'ingreso': [30000, 70000, 50000, 28000, 80000],\n",
    "#     'compra': [0, 1, 1, 0, 1]\n",
    "# })\n",
    "\n",
    "X = df.drop(columns='y')\n",
    "y = df['y']\n",
    "\n",
    "# Dividir en entrenamiento y prueba\n",
    "X_train, X_test, y_train, y_test = train_test_split(X, y, test_size=0.3, random_state=42)\n",
    "\n",
    "# Crear y entrenar el modelo\n",
    "modelo = RandomForestClassifier(n_estimators=100, max_depth=5, random_state=42)\n",
    "modelo.fit(X_train, y_train)\n",
    "\n",
    "# Evaluar desempeño\n",
    "y_pred = modelo.predict(X_test)\n",
    "print(\"Reporte de clasificación:\")\n",
    "print(classification_report(y_test, y_pred))\n",
    "\n",
    "# Matriz de confusión\n",
    "ConfusionMatrixDisplay.from_estimator(modelo, X_test, y_test, cmap='Blues')\n",
    "plt.title(\"Matriz de Confusión - Random Forest\")\n",
    "plt.show()\n",
    "\n",
    "# Importancia de variables\n",
    "importancia = pd.Series(modelo.feature_importances_, index=X.columns).sort_values(ascending=False)\n",
    "print(\"Importancia de variables:\")\n",
    "print(importancia.round(3))\n"
   ]
  },
  {
   "cell_type": "markdown",
   "id": "e359b481-27d9-43ff-8c28-335694f07914",
   "metadata": {},
   "source": [
    "Ejemplo de resultados:\n",
    ">Se utilizó un modelo de Random Forest para predecir la probabilidad de compra de un cliente, utilizando variables como edad, ingreso y antigüedad como predictores. El modelo fue entrenado con el 70% de los datos y evaluado con el 30% restante. La precisión global fue del 91%, con una sensibilidad del 94% para los compradores. La matriz de confusión reflejó un bajo número de errores de clasificación. Según el análisis de importancia de variables, el ingreso fue el predictor más relevante, seguido por la edad. La estabilidad del modelo y su capacidad de generalización lo convierten en una herramienta útil para apoyar decisiones de segmentación y estrategias comerciales."
   ]
  },
  {
   "cell_type": "code",
   "execution_count": null,
   "id": "6e06b40b-27e9-4efe-8bfd-06b7b770d27a",
   "metadata": {},
   "outputs": [],
   "source": []
  }
 ],
 "metadata": {
  "kernelspec": {
   "display_name": "Python [conda env:base] *",
   "language": "python",
   "name": "conda-base-py"
  },
  "language_info": {
   "codemirror_mode": {
    "name": "ipython",
    "version": 3
   },
   "file_extension": ".py",
   "mimetype": "text/x-python",
   "name": "python",
   "nbconvert_exporter": "python",
   "pygments_lexer": "ipython3",
   "version": "3.12.7"
  }
 },
 "nbformat": 4,
 "nbformat_minor": 5
}
