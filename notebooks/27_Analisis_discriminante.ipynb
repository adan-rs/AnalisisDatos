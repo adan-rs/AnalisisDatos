{
 "cells": [
  {
   "cell_type": "markdown",
   "id": "572f50d1-fa47-4ae8-9547-2a127838fca1",
   "metadata": {},
   "source": [
    "# Análisis discriminante\n",
    "*¿Para qué se utiliza?*\n",
    "El análisis discriminante es una técnica de clasificación supervisada utilizada cuando se desea predecir o explicar una variable dependiente cualitativa (categórica), como por ejemplo si un individuo es \"comprador\" o \"no comprador\". Su objetivo es encontrar combinaciones lineales de variables independientes que maximicen la separación entre dos o más grupos predefinidos. A partir de estas combinaciones se construyen funciones discriminantes que permiten:\n",
    "- Determinar si existen diferencias significativas entre los grupos,\n",
    "- Identificar la importancia relativa de cada variable independiente,\n",
    "- Desarrollar reglas para clasificar nuevas observaciones,\n",
    "- Evaluar la precisión del modelo para predecir correctamente las categorías.\n",
    "\n",
    "*Variables consideradas*\n",
    "- Variable dependiente: debe ser cualitativa, con dos o más categorías mutuamente excluyentes (por ejemplo: tipo de cliente, decisión de compra, nivel de riesgo).\n",
    "- Variables independientes: deben ser cuantitativas y continuas, ya que el modelo calcula combinaciones lineales de estas para construir las funciones discriminantes.\n",
    "\n",
    "*Requisitos y recomendaciones*\n",
    "Para aplicar correctamente el análisis discriminante, es importante verificar que se cumplan ciertos supuestos estadísticos:\n",
    "- Las variables independientes deben seguir una distribución normal multivariada dentro de cada grupo.\n",
    "- Las matrices de covarianza deben ser iguales entre grupos, es decir, debe haber homogeneidad de varianzas y covarianzas. Para evaluar esto se puede utilizar la prueba M de Box\n",
    "- No debe haber multicolinealidad significativa entre las variables independientes.\n",
    "- Se recomienda que los tamaños de grupo sean relativamente similares.\n",
    " Es importante revisar y, si es necesario, excluir valores atípicos.\n",
    "- En cuanto al tamaño muestral, se sugiere tener al menos 20 observaciones por variable independiente, con un mínimo absoluto de 5 observaciones por variable\n",
    "\n",
    "*Comparación con la regresión logística*\n",
    "\n",
    "Aunque tanto el análisis discriminante como la regresión logística son técnicas de clasificación supervisada utilizadas para predecir una variable dependiente categórica, difieren en varios aspectos clave. El análisis discriminante requiere que las variables independientes sean cuantitativas y que cumplan supuestos estadísticos más estrictos, como la normalidad multivariada y la igualdad de matrices de covarianza entre los grupos. En cambio, la regresión logística es más flexible, ya que permite variables independientes tanto cuantitativas como categóricas y no requiere normalidad ni homocedasticidad. Además, la regresión logística estima probabilidades mediante el método de máxima verosimilitud, mientras que el análisis discriminante construye funciones que maximizan la separación entre grupos con base en varianzas. Por ello, la regresión logística suele ser preferida cuando los supuestos del análisis discriminante no se cumplen.\n"
   ]
  },
  {
   "cell_type": "code",
   "execution_count": null,
   "id": "91489167-7595-4344-9c7d-20c3d2f1bddf",
   "metadata": {},
   "outputs": [],
   "source": [
    "import pandas as pd\n",
    "from sklearn.discriminant_analysis import LinearDiscriminantAnalysis\n",
    "from sklearn.model_selection import train_test_split\n",
    "from sklearn.metrics import classification_report, ConfusionMatrixDisplay\n",
    "import matplotlib.pyplot as plt\n",
    "\n",
    "# Suponemos que ya tienes un DataFrame llamado df\n",
    "# con variables independientes en columnas X_cols y la variable dependiente en 'y'\n",
    "\n",
    "# Definir columnas independientes y la columna objetivo\n",
    "X_cols = ['col1', 'col2', 'col3', 'col4']  # ← ajusta según tu DataFrame\n",
    "X = df[X_cols]\n",
    "y = df['y']\n",
    "\n",
    "# División en conjunto de entrenamiento y prueba\n",
    "X_train, X_test, y_train, y_test = train_test_split(X, y, test_size=0.3, random_state=42)\n",
    "\n",
    "# Aplicar Análisis Discriminante Lineal\n",
    "lda = LinearDiscriminantAnalysis()\n",
    "lda.fit(X_train, y_train)\n",
    "\n",
    "# Predicciones\n",
    "y_pred = lda.predict(X_test)\n",
    "\n",
    "# Reporte de clasificación\n",
    "print(\"Reporte de clasificación:\\n\")\n",
    "print(classification_report(y_test, y_pred))\n",
    "\n",
    "# Mostrar matriz de confusión\n",
    "ConfusionMatrixDisplay.from_estimator(lda, X_test, y_test, cmap='Blues')\n",
    "plt.title(\"Matriz de Confusión - LDA\")\n",
    "plt.show()\n"
   ]
  },
  {
   "cell_type": "code",
   "execution_count": null,
   "id": "ef4def88-3b86-4d2e-8867-0f8ca74e4459",
   "metadata": {},
   "outputs": [],
   "source": []
  }
 ],
 "metadata": {
  "kernelspec": {
   "display_name": "Python [conda env:base] *",
   "language": "python",
   "name": "conda-base-py"
  },
  "language_info": {
   "codemirror_mode": {
    "name": "ipython",
    "version": 3
   },
   "file_extension": ".py",
   "mimetype": "text/x-python",
   "name": "python",
   "nbconvert_exporter": "python",
   "pygments_lexer": "ipython3",
   "version": "3.12.7"
  }
 },
 "nbformat": 4,
 "nbformat_minor": 5
}
