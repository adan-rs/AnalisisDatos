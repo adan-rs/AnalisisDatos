{
 "cells": [
  {
   "cell_type": "markdown",
   "id": "3d4e13e8-f34e-4186-88b9-4866fae47b0b",
   "metadata": {},
   "source": [
    "# ARIMA\n",
    "*¿Para qué se utiliza?*\n",
    "El modelo ARIMA (AutoRegressive Integrated Moving Average) es una técnica estadística clásica ampliamente utilizada para el pronóstico de series de tiempo univariadas. Es especialmente útil cuando la serie presenta tendencia o no es estacionaria, y se busca capturar sus patrones a través de combinaciones de dependencia temporal y suavización de ruido. Se utiliza comúnmente en contextos financieros, económicos, logísticos y operativos.\n",
    "\n",
    "*¿Qué variables considera?*\n",
    "Una sola serie temporal univariada, es decir, una variable numérica ordenada en el tiempo (por ejemplo, ventas, ingresos, precios).  No requiere variables independientes (aunque su versión extendida ARIMAX sí puede incluirlas).\n",
    "\n",
    "*¿Cómo funciona?*\n",
    "ARIMA modela una serie a través de tres componentes:\n",
    "- AR (autoregresivo): relación lineal con valores pasados.\n",
    "- I (integración): número de diferenciaciones necesarias para hacer la serie estacionaria.\n",
    "- MA (promedio móvil): corrección del error mediante residuos pasados.\n",
    "\n",
    "El modelo se expresa como:\n",
    "\n",
    "ARIMA(p,d,q)\n",
    "\n",
    "Donde\n",
    "- p: orden del componente autorregresivo (AR)\n",
    "- d: número de diferenciaciones necesarias para estacionarizar la serie\n",
    "- q: orden del componente de promedio móvil (MA)\n",
    "\n",
    "Supuestos y recomendaciones\n",
    "- La serie debe volverse estacionaria mediante diferenciación si es necesario.\n",
    "- Se recomienda analizar los gráficos ACF y PACF para determinar los valores óptimos de p y q.\n",
    "- La serie debe tener frecuencia regular (diaria, mensual, etc.).\n",
    "- Es importante evaluar los residuos del modelo para verificar que se comportan como ruido blanco (sin estructura).\n"
   ]
  },
  {
   "cell_type": "code",
   "execution_count": null,
   "id": "5d8f9484-c716-48ce-9494-4fc5a8ae73a9",
   "metadata": {},
   "outputs": [],
   "source": [
    "import pandas as pd\n",
    "import matplotlib.pyplot as plt\n",
    "from statsmodels.tsa.arima.model import ARIMA\n",
    "from statsmodels.graphics.tsaplots import plot_acf, plot_pacf\n",
    "\n",
    "# Supongamos que df tiene una columna 'ventas' como serie de tiempo\n",
    "serie = df['ventas']\n",
    "\n",
    "# Graficar ACF y PACF para ayudar a elegir p y q\n",
    "plot_acf(serie)\n",
    "plt.title(\"ACF\")\n",
    "plt.show()\n",
    "\n",
    "plot_pacf(serie)\n",
    "plt.title(\"PACF\")\n",
    "plt.show()\n",
    "\n",
    "# Ajustar un modelo ARIMA(p=1, d=1, q=1) como ejemplo\n",
    "modelo = ARIMA(serie, order=(1, 1, 1))\n",
    "resultado = modelo.fit()\n",
    "\n",
    "# Mostrar resumen del modelo\n",
    "print(resultado.summary())\n",
    "\n",
    "# Pronóstico de los próximos 6 periodos\n",
    "pronostico = resultado.forecast(steps=6)\n",
    "print(\"Pronóstico:\", pronostico)\n",
    "\n",
    "# Visualizar\n",
    "plt.figure(figsize=(10, 5))\n",
    "plt.plot(serie, label='Serie original')\n",
    "plt.plot(pronostico, label='Pronóstico', marker='o')\n",
    "plt.title(\"Modelo ARIMA\")\n",
    "plt.legend()\n",
    "plt.show()\n"
   ]
  }
 ],
 "metadata": {
  "kernelspec": {
   "display_name": "Python [conda env:base] *",
   "language": "python",
   "name": "conda-base-py"
  },
  "language_info": {
   "codemirror_mode": {
    "name": "ipython",
    "version": 3
   },
   "file_extension": ".py",
   "mimetype": "text/x-python",
   "name": "python",
   "nbconvert_exporter": "python",
   "pygments_lexer": "ipython3",
   "version": "3.12.7"
  }
 },
 "nbformat": 4,
 "nbformat_minor": 5
}
