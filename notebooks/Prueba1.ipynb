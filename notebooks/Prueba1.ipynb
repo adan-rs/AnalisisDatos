{
 "cells": [
  {
   "cell_type": "code",
   "execution_count": 1,
   "id": "e64b7781-75f0-4f16-8529-460c9a88fe26",
   "metadata": {},
   "outputs": [],
   "source": [
    "import pandas as pd\n",
    "import matplotlib.pyplot as plt\n",
    "import prince"
   ]
  },
  {
   "cell_type": "code",
   "execution_count": 2,
   "id": "8969df7a-ea75-4825-b232-c43b34b1742d",
   "metadata": {},
   "outputs": [],
   "source": [
    "import warnings\n",
    "warnings.filterwarnings(\"ignore\", category=FutureWarning)"
   ]
  },
  {
   "cell_type": "code",
   "execution_count": 3,
   "id": "2dad8f3d-a86c-4aa5-801f-fd7ab4ed8d9b",
   "metadata": {},
   "outputs": [],
   "source": [
    "df = pd.read_excel('https://github.com/adan-rs/AnalisisDatos/raw/main/data/recursos_humanos.xlsx')"
   ]
  },
  {
   "cell_type": "code",
   "execution_count": 4,
   "id": "4e896202-cd16-4238-8d29-3a6556f0407a",
   "metadata": {},
   "outputs": [
    {
     "name": "stdout",
     "output_type": "stream",
     "text": [
      "<class 'pandas.core.frame.DataFrame'>\n",
      "RangeIndex: 14999 entries, 0 to 14998\n",
      "Data columns (total 10 columns):\n",
      " #   Column                 Non-Null Count  Dtype  \n",
      "---  ------                 --------------  -----  \n",
      " 0   satisfaction_level     14999 non-null  float64\n",
      " 1   last_evaluation        14999 non-null  float64\n",
      " 2   number_project         14999 non-null  int64  \n",
      " 3   average_montly_hours   14999 non-null  int64  \n",
      " 4   time_spend_company     14999 non-null  int64  \n",
      " 5   Work_accident          14999 non-null  int64  \n",
      " 6   left                   14999 non-null  int64  \n",
      " 7   promotion_last_5years  14999 non-null  int64  \n",
      " 8   area                   14999 non-null  object \n",
      " 9   salary                 14999 non-null  object \n",
      "dtypes: float64(2), int64(6), object(2)\n",
      "memory usage: 1.1+ MB\n"
     ]
    }
   ],
   "source": [
    "df.info()"
   ]
  },
  {
   "cell_type": "code",
   "execution_count": 15,
   "id": "d0d5b481-aaf8-49ca-8f7a-e1a608190a2f",
   "metadata": {},
   "outputs": [],
   "source": [
    "variables = ['left', 'area', \"salary\", \"time_spend_company\"]"
   ]
  },
  {
   "cell_type": "code",
   "execution_count": 16,
   "id": "22dd4ccc-e518-47c4-afab-767c24c440ce",
   "metadata": {},
   "outputs": [],
   "source": [
    "dataframe = df[variables]"
   ]
  },
  {
   "cell_type": "code",
   "execution_count": 17,
   "id": "1c5dfc66-c6e2-4bf9-95d0-026cd1b6471f",
   "metadata": {},
   "outputs": [
    {
     "data": {
      "text/html": [
       "\n",
       "<style>\n",
       "  #altair-viz-24ce812d8f3c419b9398dbdf87e9f4ab.vega-embed {\n",
       "    width: 100%;\n",
       "    display: flex;\n",
       "  }\n",
       "\n",
       "  #altair-viz-24ce812d8f3c419b9398dbdf87e9f4ab.vega-embed details,\n",
       "  #altair-viz-24ce812d8f3c419b9398dbdf87e9f4ab.vega-embed details summary {\n",
       "    position: relative;\n",
       "  }\n",
       "</style>\n",
       "<div id=\"altair-viz-24ce812d8f3c419b9398dbdf87e9f4ab\"></div>\n",
       "<script type=\"text/javascript\">\n",
       "  var VEGA_DEBUG = (typeof VEGA_DEBUG == \"undefined\") ? {} : VEGA_DEBUG;\n",
       "  (function(spec, embedOpt){\n",
       "    let outputDiv = document.currentScript.previousElementSibling;\n",
       "    if (outputDiv.id !== \"altair-viz-24ce812d8f3c419b9398dbdf87e9f4ab\") {\n",
       "      outputDiv = document.getElementById(\"altair-viz-24ce812d8f3c419b9398dbdf87e9f4ab\");\n",
       "    }\n",
       "    const paths = {\n",
       "      \"vega\": \"https://cdn.jsdelivr.net/npm/vega@5?noext\",\n",
       "      \"vega-lib\": \"https://cdn.jsdelivr.net/npm/vega-lib?noext\",\n",
       "      \"vega-lite\": \"https://cdn.jsdelivr.net/npm/vega-lite@5.8.0?noext\",\n",
       "      \"vega-embed\": \"https://cdn.jsdelivr.net/npm/vega-embed@6?noext\",\n",
       "    };\n",
       "\n",
       "    function maybeLoadScript(lib, version) {\n",
       "      var key = `${lib.replace(\"-\", \"\")}_version`;\n",
       "      return (VEGA_DEBUG[key] == version) ?\n",
       "        Promise.resolve(paths[lib]) :\n",
       "        new Promise(function(resolve, reject) {\n",
       "          var s = document.createElement('script');\n",
       "          document.getElementsByTagName(\"head\")[0].appendChild(s);\n",
       "          s.async = true;\n",
       "          s.onload = () => {\n",
       "            VEGA_DEBUG[key] = version;\n",
       "            return resolve(paths[lib]);\n",
       "          };\n",
       "          s.onerror = () => reject(`Error loading script: ${paths[lib]}`);\n",
       "          s.src = paths[lib];\n",
       "        });\n",
       "    }\n",
       "\n",
       "    function showError(err) {\n",
       "      outputDiv.innerHTML = `<div class=\"error\" style=\"color:red;\">${err}</div>`;\n",
       "      throw err;\n",
       "    }\n",
       "\n",
       "    function displayChart(vegaEmbed) {\n",
       "      vegaEmbed(outputDiv, spec, embedOpt)\n",
       "        .catch(err => showError(`Javascript Error: ${err.message}<br>This usually means there's a typo in your chart specification. See the javascript console for the full traceback.`));\n",
       "    }\n",
       "\n",
       "    if(typeof define === \"function\" && define.amd) {\n",
       "      requirejs.config({paths});\n",
       "      require([\"vega-embed\"], displayChart, err => showError(`Error loading script: ${err.message}`));\n",
       "    } else {\n",
       "      maybeLoadScript(\"vega\", \"5\")\n",
       "        .then(() => maybeLoadScript(\"vega-lite\", \"5.8.0\"))\n",
       "        .then(() => maybeLoadScript(\"vega-embed\", \"6\"))\n",
       "        .catch(showError)\n",
       "        .then(() => displayChart(vegaEmbed));\n",
       "    }\n",
       "  })({\"config\": {\"view\": {\"continuousWidth\": 300, \"continuousHeight\": 300}}, \"layer\": [{\"mark\": {\"type\": \"circle\", \"size\": 50}, \"encoding\": {\"color\": {\"field\": \"variable\", \"type\": \"nominal\"}, \"tooltip\": [{\"field\": \"variable\", \"type\": \"nominal\"}, {\"field\": \"value\", \"type\": \"nominal\"}, {\"field\": \"component 0\", \"type\": \"quantitative\"}, {\"field\": \"component 1\", \"type\": \"quantitative\"}], \"x\": {\"axis\": {\"title\": \"component 0 \\u2014 7.95%\"}, \"field\": \"component 0\", \"scale\": {\"zero\": false}, \"type\": \"quantitative\"}, \"y\": {\"axis\": {\"title\": \"component 1 \\u2014 6.52%\"}, \"field\": \"component 1\", \"scale\": {\"zero\": false}, \"type\": \"quantitative\"}}, \"name\": \"view_4\"}, {\"mark\": {\"type\": \"text\"}, \"encoding\": {\"text\": {\"field\": \"label\", \"type\": \"nominal\"}, \"x\": {\"axis\": {\"title\": \"component 0 \\u2014 7.95%\"}, \"field\": \"component 0\", \"scale\": {\"zero\": false}, \"type\": \"quantitative\"}, \"y\": {\"axis\": {\"title\": \"component 1 \\u2014 6.52%\"}, \"field\": \"component 1\", \"scale\": {\"zero\": false}, \"type\": \"quantitative\"}}}], \"data\": {\"name\": \"data-2b6843f7fe393ac7082e33d809bf591c\"}, \"params\": [{\"name\": \"param_4\", \"select\": {\"type\": \"interval\", \"encodings\": [\"x\", \"y\"]}, \"bind\": \"scales\", \"views\": [\"view_4\"]}], \"$schema\": \"https://vega.github.io/schema/vega-lite/v5.8.0.json\", \"datasets\": {\"data-2b6843f7fe393ac7082e33d809bf591c\": [{\"component 0\": 0.3924334681402378, \"component 1\": -0.23803855687515876, \"variable\": \"column\", \"value\": \"left__0\", \"label\": \"left__0\"}, {\"component 0\": -1.2558750136955055, \"component 1\": 0.7617767090365042, \"variable\": \"column\", \"value\": \"left__1\", \"label\": \"left__1\"}, {\"component 0\": -0.049404940754427605, \"component 1\": -0.21587270108502873, \"variable\": \"column\", \"value\": \"area__IT\", \"label\": \"area__IT\"}, {\"component 0\": 0.11857526153800546, \"component 1\": -0.7534905921064556, \"variable\": \"column\", \"value\": \"area__RandD\", \"label\": \"area__RandD\"}, {\"component 0\": -0.14207176339607805, \"component 1\": 0.2842045967545068, \"variable\": \"column\", \"value\": \"area__accounting\", \"label\": \"area__accounting\"}, {\"component 0\": -0.34265850656062846, \"component 1\": -0.2512775186650671, \"variable\": \"column\", \"value\": \"area__hr\", \"label\": \"area__hr\"}, {\"component 0\": 2.1008485226721882, \"component 1\": 2.715414670707104, \"variable\": \"column\", \"value\": \"area__management\", \"label\": \"area__management\"}, {\"component 0\": 0.10780515298221313, \"component 1\": 0.1839643922347665, \"variable\": \"column\", \"value\": \"area__marketing\", \"label\": \"area__marketing\"}, {\"component 0\": 0.04569873613654505, \"component 1\": -0.09617435354812011, \"variable\": \"column\", \"value\": \"area__product_mng\", \"label\": \"area__product_mng\"}, {\"component 0\": -0.018659519463679428, \"component 1\": 0.005334664478928068, \"variable\": \"column\", \"value\": \"area__sales\", \"label\": \"area__sales\"}, {\"component 0\": -0.18353721080882424, \"component 1\": -0.30585127501034554, \"variable\": \"column\", \"value\": \"area__support\", \"label\": \"area__support\"}, {\"component 0\": -0.2358095539398978, \"component 1\": -0.10903102291371716, \"variable\": \"column\", \"value\": \"area__technical\", \"label\": \"area__technical\"}, {\"component 0\": 1.635901697790096, \"component 1\": 1.363104383195321, \"variable\": \"column\", \"value\": \"salary__high\", \"label\": \"salary__high\"}, {\"component 0\": -0.38690718244326877, \"component 1\": -0.025165961924794613, \"variable\": \"column\", \"value\": \"salary__low\", \"label\": \"salary__low\"}, {\"component 0\": 0.12519431377422938, \"component 1\": -0.23301984867681075, \"variable\": \"column\", \"value\": \"salary__medium\", \"label\": \"salary__medium\"}, {\"component 0\": 0.7387939712222018, \"component 1\": -0.9541894349781376, \"variable\": \"column\", \"value\": \"time_spend_company__2\", \"label\": \"time_spend_company__2\"}, {\"component 0\": -0.060979679821259875, \"component 1\": -0.03450990994797866, \"variable\": \"column\", \"value\": \"time_spend_company__3\", \"label\": \"time_spend_company__3\"}, {\"component 0\": -0.4589067679794178, \"component 1\": 0.321183779760604, \"variable\": \"column\", \"value\": \"time_spend_company__4\", \"label\": \"time_spend_company__4\"}, {\"component 0\": -1.278323302467843, \"component 1\": 1.031544417994884, \"variable\": \"column\", \"value\": \"time_spend_company__5\", \"label\": \"time_spend_company__5\"}, {\"component 0\": -0.25180241653627977, \"component 1\": -0.09652840021847657, \"variable\": \"column\", \"value\": \"time_spend_company__6\", \"label\": \"time_spend_company__6\"}, {\"component 0\": 2.188249831589516, \"component 1\": 1.6398564199647316, \"variable\": \"column\", \"value\": \"time_spend_company__7\", \"label\": \"time_spend_company__7\"}, {\"component 0\": 1.4952880423546175, \"component 1\": 0.1721026988991085, \"variable\": \"column\", \"value\": \"time_spend_company__8\", \"label\": \"time_spend_company__8\"}, {\"component 0\": 2.7093727503496625, \"component 1\": 3.3184101471557823, \"variable\": \"column\", \"value\": \"time_spend_company__10\", \"label\": \"time_spend_company__10\"}]}}, {\"mode\": \"vega-lite\"});\n",
       "</script>"
      ],
      "text/plain": [
       "alt.LayerChart(...)"
      ]
     },
     "execution_count": 17,
     "metadata": {},
     "output_type": "execute_result"
    }
   ],
   "source": [
    "# Creación de instancia del modelo\n",
    "mca = prince.MCA(n_components = 2)\n",
    "# Ajuste del modelo a los datos\n",
    "mca = mca.fit(dataframe)\n",
    "# Crea gráfico\n",
    "ax = mca.plot(dataframe, show_column_labels=True, show_row_markers=False)\n",
    "ax"
   ]
  },
  {
   "cell_type": "code",
   "execution_count": null,
   "id": "3561e6fc-f55b-42b7-95aa-b61cc729f8d2",
   "metadata": {},
   "outputs": [],
   "source": []
  }
 ],
 "metadata": {
  "kernelspec": {
   "display_name": "Python [conda env:base] *",
   "language": "python",
   "name": "conda-base-py"
  },
  "language_info": {
   "codemirror_mode": {
    "name": "ipython",
    "version": 3
   },
   "file_extension": ".py",
   "mimetype": "text/x-python",
   "name": "python",
   "nbconvert_exporter": "python",
   "pygments_lexer": "ipython3",
   "version": "3.12.7"
  }
 },
 "nbformat": 4,
 "nbformat_minor": 5
}
