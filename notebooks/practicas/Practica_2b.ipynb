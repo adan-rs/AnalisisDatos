{
 "cells": [
  {
   "cell_type": "markdown",
   "id": "af291129-626e-4fc6-b6ae-bd8c0ebd3377",
   "metadata": {},
   "source": [
    "# Práctica 2b: Limpieza de datos\r\n",
    "\r\n",
    "**Objetivo**  \r\n",
    "El archivo \"taxis_mty\" contiene información sobre viajes en taxi y Uber en la zona metropolitana de Monterrey (ZMM). Los datos, registrados por los usuarios a través de una aplicación, presentan inconsistencias que afectan la calidad de la base de datos, como valores atípicos o faltantes, que pueden distorsionar los resultados de cualquier análisis.\r\n",
    "\r\n",
    "El propósito de esta tarea es limpiar los datos y asegurar su calidad para que puedan ser utilizados en un estudio sobre los patrones de viaje en la ZMM. Esto implica identificar y eliminar observaciones erróneas o inconsistentes, garantizando que las decisiones tomadas se fundamenten en criterios lógicos y justificar cada decisión tomada.\n",
    "\n",
    "\n",
    "\n",
    "\n"
   ]
  },
  {
   "cell_type": "markdown",
   "id": "817106dd-95cd-4bf5-b565-a0804d129a99",
   "metadata": {},
   "source": [
    "**Actividades**  \n",
    "La base de datos incluye las siguientes variables:\n",
    "- id: identificador único de cada viaje.  \n",
    "- pickup_datetime: fecha y hora en que se activó el taxímetro.  \n",
    "- dropoff_datetime: fecha y hora en que se desactivó el taxímetro.  \n",
    "- dropoff_longitude: longitud geográfica del lugar donde se desactivó el taxímetro.  \n",
    "- dropoff_latitude: latitud geográfica del lugar donde se desactivó el taxímetro.  \n",
    "- trip_duration: duración del viaje en segundos.  \n",
    "- dist_meters: distancia recorrida durante el viaje en metros.  \n",
    "- wait_sec: tiempo que el vehículo estuvo completamente detenido durante el viaje (en segundos).  "
   ]
  },
  {
   "cell_type": "markdown",
   "id": "0f19b064-af0b-42f3-961b-2c36e2ff16b1",
   "metadata": {},
   "source": [
    "Analiza estas variables para:\n",
    "1. Identificar inconsistencias: Busca valores atípicos, duplicados, registros faltantes o cualquier otra anomalía que comprometa la calidad de los datos. Por ejemplo, distancias o duraciones de viaje excesivamente largos, Velocidad promedio demasiado baja o demasiado alta.\n",
    "2. Eliminar observaciones erróneas: Aplica criterios claros para descartar registros inconsistentes Por ejemplo: Tiempos de espera (wait_sec) mayores que la duración del viaje (trip_duration), longitudes y latitudes que no correspondan a la zona metropolitana de Monterrey (si las hubiera).\n",
    "3. Justificar cada decisión: Documenta los criterios utilizados para identificar y tratar los problemas encontrados, explicando por qué fue eliminado o modificado cada registro.\n",
    "4. Finalmente, crea un gráfico que ilustre la distribución de las distancias de los viajes."
   ]
  },
  {
   "cell_type": "markdown",
   "id": "7e2babcf-013e-414e-ae11-52543deec7db",
   "metadata": {},
   "source": [
    "**Entregable**\n",
    "\n",
    "Un archivo en formato html o pdf con el código utilizado para el análisis. Para ello, una vez creado el notebook en Jupyter o Colab, guarda o exporta el archivo en formato html o pdf y comparte este archivo en la plataforma.  \n",
    "\n",
    "Un informe de no más de 2 páginas en formato pdf documentando los pasos seguidos y justificando cada decisión tomada."
   ]
  },
  {
   "cell_type": "markdown",
   "id": "18e00553-e83a-4ccb-9a75-1b19391ca489",
   "metadata": {},
   "source": [
    "https://github.com/adan-rs/AnalisisDatos/raw/main/data/cerveza.xlsx"
   ]
  },
  {
   "cell_type": "code",
   "execution_count": null,
   "id": "de628540-1b66-4706-a3e1-fa54beff2567",
   "metadata": {},
   "outputs": [],
   "source": []
  }
 ],
 "metadata": {
  "kernelspec": {
   "display_name": "Python [conda env:base] *",
   "language": "python",
   "name": "conda-base-py"
  },
  "language_info": {
   "codemirror_mode": {
    "name": "ipython",
    "version": 3
   },
   "file_extension": ".py",
   "mimetype": "text/x-python",
   "name": "python",
   "nbconvert_exporter": "python",
   "pygments_lexer": "ipython3",
   "version": "3.12.7"
  }
 },
 "nbformat": 4,
 "nbformat_minor": 5
}
