{
 "cells": [
  {
   "cell_type": "markdown",
   "id": "2205c9c5-be59-4cbf-ab38-ed37219e0848",
   "metadata": {},
   "source": [
    "# Práctica"
   ]
  },
  {
   "cell_type": "markdown",
   "id": "8825a83c-ff75-4a01-9bae-d11c4040a841",
   "metadata": {},
   "source": [
    "**Nota**: Se actualiza liga a archivo (15/02/2025).\n",
    "\n",
    "El archivo *acsi2015* contiene una muestra de la encuesta recopilada para el índice de satisfacción del cliente estadounidense (ACSI: American Customer Satisfaction Index). La encuesta original recopila los datos de más de 400,000 consumidores de más de 400 empresas dentro de aproximadamente 50 industrias en Estados Unidos. La muestra en el archivo incluye cuatro industrias (alimentos procesados, aerolíneas comerciales, proveedores de servicios de internet y bancos comerciales). El tamaño de la muestra es de 8239 consumidores. Las industrias en esta muestra son:\n",
    "\n",
    "+ 1001=\"Processed Food (Nondurables)\n",
    "+ 3003=\"Commercial Airlines (Transportation)\"\n",
    "+ 3013=\"Internet Service Providers (Telecommunications)\"\n",
    "+ 5001=\"Commercial Banks (Finance)\"\n",
    "\n",
    "El archivo está localizado en: https://github.com/adan-rs/AnalisisDatos/raw/main/data/acsi2015.xlsx\n",
    "\n",
    "La descripción de las variables es la siguiente:"
   ]
  },
  {
   "attachments": {},
   "cell_type": "markdown",
   "id": "2a97c885-6ce3-4e2e-bff3-7139afa65437",
   "metadata": {
    "jp-MarkdownHeadingCollapsed": true
   },
   "source": [
    "\n",
    "|VARIABLE\t|LABEL\t|VALUE|\n",
    "|-------------|--------|----------|\n",
    "|INDUSTRY\t|Industry Code\t| Industry Code|\n",
    "|YEAR\t|Year in which data collected\t|Year|\n",
    "|SATIS\t|Overall Customer Satisfaction\t|1=\"Very dissatisfied\"; 10=\"Very satisfied\"|\n",
    "|CONFIRM\t|Confirmation to Expectations\t|1=\"Falls short of expectations\"; 10=\"Exceeds expectations\"|\n",
    "|IDEAL\t|Close to ideal product/service\t|1=\"Not very close to ideal\"; 10=\"Very close to ideal\"|\n",
    "|OVERALLX\t|Expectation about overall quality\t|1=\"Not very high\"; 10=\"Very high\"|\n",
    "|CUSTOMX\t|Expectations about customization\t|1=\"Not very high\"; 10=\"Very high\"|\n",
    "|WRONGX\t|Expectation about reliability\t|1=\"Not very high\"; 10=\"Very high\"|\n",
    "|OVERALLQ\t|Overall Quality\t|1=\"Not very good\"; 10=\"Very good\"|\n",
    "|CUSTOMQ\t|Meeting personal requirement (Customization)\t|1=\"Not very good\"; 10=\"Very good\"|\n",
    "|WRONGQ\t|Things went wrong (Reliability)\t|1=\"Not very good\"; 10=\"Very good\"|\n",
    "|PQ\t|Price given Quality\t|1=\"Not very good price given quality\"; 10=\"Very good price given quality\"|\n",
    "|QP\t|Quality given Price\t|1=\"Not very good quality given price\"; 10=\"Very good quality given price\"|\n",
    "|COMP\t|Customer complaints\t|1=\"Yes\"; 0=\"No\"|\n",
    "|REPUR\t|Repurchase Intention\t|1=\"Not very likely\"; 10=\"Very likely\"|\n",
    "|AGE\t|Age\t|Age|\n",
    "|EDUCAT\t|Education\t|1=Less than high school; 2=High school; 3=Some college or associate degree; 4=College graduate; 5=Post-graduate|\n",
    "|HISPANIC\t|Hispanic\t|1=\"Yes\"; 0=\"No\"|\n",
    "|RACE_1\t|Race_1\t|1=\"White\"; 2=\"Black/African-American\"; 3=\"American Indian/Alaskan Native\"; 4=\"Asian\"; 5=\"Native Hawaiian or Pacific Islander\"; 6=\"Other Race\"|\n",
    "|INCOME\t|Income\t|1=\"Under 20K\"; 2=\"20K to 30K\"; 3=\"30K to 40K\"; 4=\"40K to 60K\"; 5=\"60K to 80K\"; 6=\"80K to 100K\"; 7=\"100K or More\"|\n",
    "|GENDER\t|Gender\t|1=\"Male\"; 2=\"Female\"|\n",
    "|ZIPCODE\t|Zip code\t|Respondent zip code|\n"
   ]
  },
  {
   "cell_type": "markdown",
   "id": "ff7c6708-d65f-46c2-ad01-3cefa4a438df",
   "metadata": {},
   "source": [
    "Selecciona una de las industrias ('INDUSTRY')  y construye un modelo para explicar la satisfacción de los clientes ('SATIS') en función de las variables disponibles.\n",
    "Se evaluará que se cumpla con al menos los siguientes lineamientos:\n",
    "1. *Planteamiento del modelo*: Describe las variables independientes seleccionadas\n",
    "2. *Justificación*: Justifica la elección de las variables independientes seleccionadas.\n",
    "3. *Preparación de los datos*: Filtra los datos por la industria seleccionada. Elimina las filas con valores perdidos. No eliminar valores atípicos.\n",
    "4. *Tamaño muestral*: Verifica que el tamaño de la muestra sea la mínima apropiada. \n",
    "5. *Estadística descriptiva*: Obtén la estadística descriptiva de las variables cuantitativas\n",
    "6. *Evaluación del ajuste del modelo*: Identificación e interpretación de la R cuadrada\n",
    "7. *Evaluación de la significancia del modelo*: Interpretación del p-valor del estadístico F.\n",
    "8. *Evaluación de la significancia de los coeficientes de regresión*: Interpretación de los p-valores del estadístico t correspondiente a cada variable.\n",
    "9. *Interpretación de resultados*: Interpretación del signo de los coeficientes de regresión de cada variable.\n",
    "10. *Evaluación de supuestos*: Identifica posibles problemas en el cumplimiento de los supuestos sobre el error."
   ]
  },
  {
   "cell_type": "markdown",
   "id": "332be303-7def-4a0c-a3a2-9a18fe05face",
   "metadata": {},
   "source": [
    "**Entregable** \n",
    "- Archivo con código exportado a pdf o html\n",
    "- Reporte ejecutivo que abarque los aspectos listados."
   ]
  },
  {
   "cell_type": "code",
   "execution_count": null,
   "id": "da727d7e-95ee-40c7-b614-01d5dcc1d831",
   "metadata": {},
   "outputs": [],
   "source": []
  }
 ],
 "metadata": {
  "kernelspec": {
   "display_name": "Python [conda env:base] *",
   "language": "python",
   "name": "conda-base-py"
  },
  "language_info": {
   "codemirror_mode": {
    "name": "ipython",
    "version": 3
   },
   "file_extension": ".py",
   "mimetype": "text/x-python",
   "name": "python",
   "nbconvert_exporter": "python",
   "pygments_lexer": "ipython3",
   "version": "3.12.7"
  }
 },
 "nbformat": 4,
 "nbformat_minor": 5
}
