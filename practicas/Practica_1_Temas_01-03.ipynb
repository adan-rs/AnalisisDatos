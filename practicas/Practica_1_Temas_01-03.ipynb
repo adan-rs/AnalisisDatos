{
 "cells": [
  {
   "cell_type": "markdown",
   "id": "2b9785bc-b0a9-4c45-bfde-0e9e6c6b795d",
   "metadata": {},
   "source": [
    "# Práctica 01: Organización de datos\n",
    "\n",
    "**Nota**: Se modificó el paso de *renombrar variable* (08/01/2025) para considerar \"Close\" y \"Adj Close\" según el caso.\n",
    "\n",
    "**Objetivo**: En el área de negocios, con frecuencia es necesario analizar datos financieros para comprender el desempeño del mercado o identificar tendencias relevantes. Imagina que trabajas como analista en el área de ventas de una empresa y necesitas evaluar el desempeño financiero de tu principal cliente para anticiparte a riesgos o identificar oportunidades. Tu tarea será descargar datos históricos de precios de una acción desde una fuente confiable y organizarlos en un DataFrame. Luego, calcularás el rendimiento diario con la finalidad de identificar tendencias, medir la estabilidad de su crecimiento y evaluar posibles riesgos financieros.\n",
    "\n",
    "**Actividades**:"
   ]
  },
  {
   "cell_type": "code",
   "execution_count": null,
   "id": "7c19e7d4-e861-4bfd-a856-634a78f2dd15",
   "metadata": {},
   "outputs": [],
   "source": [
    "# Importa las bibliotecas necesarias\n",
    "import pandas as pd\n",
    "import numpy as np\n",
    "import yfinance as yf"
   ]
  },
  {
   "cell_type": "markdown",
   "id": "2b25a80d-92f4-4ac3-814a-eb95235353d3",
   "metadata": {},
   "source": [
    "*Descarga de datos*: Localiza el símbolo (*ticker*) que identifica las acciones de una empresa que cotiza en alguna de las principales bolsas de valores, por ejemplo 'AAPL', 'MSFT', etc. Puedes realizar una búsqueda en https://finance.yahoo.com/. Utiliza la función `download()`de la librería *yfinance* para descargar los datos de esa acción y guardar el resultado en un DataFrame con un nombre descriptivo. El siguiente ejemplo te puede servir como guía sustituyendo 'APPL' por el símbolo de la acción seleccionada:\n",
    "`df_apple = yf.download('AAPL', period='1mo', interval='1d', progress=False)`."
   ]
  },
  {
   "cell_type": "code",
   "execution_count": null,
   "id": "67f60e44-e5ea-4a1f-80a0-cb6084382ab7",
   "metadata": {
    "tags": []
   },
   "outputs": [],
   "source": [
    "# Descargar datos\n"
   ]
  },
  {
   "cell_type": "markdown",
   "id": "e4c5a4f7-eb73-4b9d-887c-134bf98f23ff",
   "metadata": {},
   "source": [
    "*Renombrar variables*: En algunos casos, además de \"Close\" se muestra una variable llamada \"Adj Close\" que corresponde a un precio de cierre ajustado . Versiones recientes de yfinance reemplazan \"Adj Close\" en el lugar de \"Close\" a menos que se utilice el argumento `auto_adjust=False`. Entonces:\n",
    "- Si tu DataFrame incluye la columna \"Adj Close\", renombra esta variable como \"price\".\n",
    "- Si tu DataFrame solo incluye \"Close\", renombra esta variable como \"price\"."
   ]
  },
  {
   "cell_type": "code",
   "execution_count": null,
   "id": "e8d89a50-2a0f-430b-b86e-95e0ccfbc2c1",
   "metadata": {},
   "outputs": [],
   "source": [
    "# Renombrar variable"
   ]
  },
  {
   "cell_type": "markdown",
   "id": "2ec193f8-9ce3-4ca8-a0b2-882dface031a",
   "metadata": {
    "tags": []
   },
   "source": [
    "*Crear nueva variable*: En una nueva columna del DataFrame, calcula el rendimiento simple (R) diario con base en los precios (P) de la acción. El rendimiento simple se define como:  \n",
    "$$\n",
    " R_t = P_t / P_t-1\n",
    "$$\n",
    "La función `pct_change()`en Pandas, de manera predeterminada calcula el cambio respecto a la fila anterior; que en este caso equivale al rendimiento simple diario. Utiliza algo similar a:   `df['simple_rtn'] = df['price'].pct_change()`."
   ]
  },
  {
   "cell_type": "code",
   "execution_count": null,
   "id": "4afd4072-73f9-4c7a-be2e-114f8f6a236f",
   "metadata": {},
   "outputs": [],
   "source": [
    "# Calcular rendimiento"
   ]
  },
  {
   "cell_type": "markdown",
   "id": "8af95a3c-ee7e-4159-a23f-5a97f9ca707e",
   "metadata": {},
   "source": [
    "*Borrar filas con datos perdidos*: El primer renglón siempre mostrará un *not a number* (NaN) porque no hay un precio previo para calcular el rendimiento. Quita el renglón con los valores perdidos."
   ]
  },
  {
   "cell_type": "code",
   "execution_count": null,
   "id": "d42b38ec-16a0-4064-a91b-82562f3acf2a",
   "metadata": {},
   "outputs": [],
   "source": [
    "# Borrar fila con datos perdidos"
   ]
  },
  {
   "cell_type": "markdown",
   "id": "850f1da7-b66c-4d36-8b91-cf367342dd79",
   "metadata": {},
   "source": [
    "*Seleccionar columnas*: Reescribe o crea un nuevo dataframe que además de la fecha solo contenga las columnas con el dato del precio de la acción `price` y el rendimiento diario `simple_rtn`."
   ]
  },
  {
   "cell_type": "code",
   "execution_count": null,
   "id": "aaa89ec6-33e3-4559-9c6f-6cf15b0a70c4",
   "metadata": {},
   "outputs": [],
   "source": [
    "# Seleccionar columnas"
   ]
  },
  {
   "cell_type": "markdown",
   "id": "7634ae64-33cb-44c1-9628-9df7d6425f63",
   "metadata": {},
   "source": [
    "*OPCIONAL: Crear función*: Agrupa los pasos anteriores en una función que descargue los precios históricos de una acción y calcule el rendimiento diario simple. \n",
    "- La función debe incluir el parámetro *ticker* para recibir el símbolo de una acción.\n",
    "- La función debe devolver un DataFrame con las columnas 'price' y 'simple_rtn'.\n",
    "\n",
    "Ejemplo de uso:\n",
    "df = descargar_accion('APPL')"
   ]
  },
  {
   "cell_type": "code",
   "execution_count": null,
   "id": "30f008b0-7e31-4c79-bca5-b7112e089a02",
   "metadata": {},
   "outputs": [],
   "source": [
    "# Crear función\n",
    "def descargar_accion(ticker):\n",
    "    pass"
   ]
  },
  {
   "cell_type": "markdown",
   "id": "4a3f8009-eb09-4b01-bdcf-60eff388a8fd",
   "metadata": {},
   "source": []
  },
  {
   "cell_type": "markdown",
   "id": "236affdd-9e16-4dc9-b4d1-5e266657da21",
   "metadata": {},
   "source": [
    "**Entregable**: Guarda y exporta este notebook en formato html o (o \"Imprime\" como pdf) y compártelo en la plataforma del curso"
   ]
  },
  {
   "cell_type": "markdown",
   "id": "ff5ff622-fccb-4f47-8b43-704bcaca0429",
   "metadata": {},
   "source": [
    "### Nota para financieros y economistas\n",
    "Si estás interesado en calcular el rendimiento logarítmico en vez del rendimiento simple, puedes utilizar lo siguiente:  \n",
    "`df['log_rtn'] = np.log(df.price/df.price.shift(1))`"
   ]
  },
  {
   "cell_type": "code",
   "execution_count": null,
   "id": "681dd357-e257-41e8-9eda-e453b835a8f3",
   "metadata": {},
   "outputs": [],
   "source": []
  }
 ],
 "metadata": {
  "kernelspec": {
   "display_name": "Python [conda env:base] *",
   "language": "python",
   "name": "conda-base-py"
  },
  "language_info": {
   "codemirror_mode": {
    "name": "ipython",
    "version": 3
   },
   "file_extension": ".py",
   "mimetype": "text/x-python",
   "name": "python",
   "nbconvert_exporter": "python",
   "pygments_lexer": "ipython3",
   "version": "3.12.7"
  }
 },
 "nbformat": 4,
 "nbformat_minor": 5
}
