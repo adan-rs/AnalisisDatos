{
 "cells": [
  {
   "cell_type": "markdown",
   "id": "2229fb88-c4af-434f-a750-7f28e2b78dc9",
   "metadata": {},
   "source": [
    "**Objetivo General**:  \n",
    "El estudiante desarrollará habilidades para aplicar pruebas estadísticas de asociación entre variables categóricas, utilizando bases de datos reales y realizando una interpretación detallada de los resultados obtenidos.\n",
    "\n",
    "**Instrucciones:** \n",
    "1. Carga de datos: Descarga y carga la siguiente base de datos: https://github.com/adan-rs/AnalisisDatos/raw/main/data/recursos_humanos.xlsx. Esta base contiene información sobre empleados que dejaron la empresa (left = 1) y aquellos que permanecen (left = 0).\n",
    "2. Análisis exploratorio mediante mapas perceptuales: Realiza un análisis de análisis de correspondencia o escalamiento multidimensional considerando las variables: left, area, salary. Interpreta el mapa perceptual resultante y comenta posibles agrupamientos o patrones relevantes.\n",
    "3. Selección de variable relacionada: A partir del análisis anterior, selecciona una variable categórica que consideres fuertemente relacionada con la decisión de renunciar (left).\n",
    "4. Análisis de asociación: Construye una tabla de contingencia entre la variable seleccionada y left. Realiza una prueba de Chi-cuadrado para evaluar si existe una asociación significativa. Reporta: Valor de la estadística de Chi-cuadrado, Grados de libertad, Valor-p. Interpreta los resultados.\n",
    "\n",
    "**Interpretación final:**  \n",
    "Redacta un párrafo con tus conclusiones, interpretando el valor-p obtenido. Indica si se puede afirmar que existe una asociación estadísticamente significativa entre la variable analizada y la renuncia del empleado.\n",
    "\n",
    "\n",
    "**Formato de entrega**  \n",
    "Exporta tu análisis en formato PDF o HTML. El reporte debe estar bien documentado y estructurado, utilizando celdas Markdown para explicar cada paso. Asegúrate de incluir: Tablas de datos relevantes, gráficos y salidas estadísticas, interpretaciones, conclusiones finales claras\n",
    "\n",
    "**Fecha de entrega**  \n",
    "Martes 29 de agosto de 2025 antes de las 23:59 horas."
   ]
  },
  {
   "cell_type": "code",
   "execution_count": null,
   "id": "edf2425b-2961-4b43-b811-105500f82343",
   "metadata": {},
   "outputs": [],
   "source": []
  }
 ],
 "metadata": {
  "kernelspec": {
   "display_name": "Python [conda env:base] *",
   "language": "python",
   "name": "conda-base-py"
  },
  "language_info": {
   "codemirror_mode": {
    "name": "ipython",
    "version": 3
   },
   "file_extension": ".py",
   "mimetype": "text/x-python",
   "name": "python",
   "nbconvert_exporter": "python",
   "pygments_lexer": "ipython3",
   "version": "3.12.7"
  }
 },
 "nbformat": 4,
 "nbformat_minor": 5
}
