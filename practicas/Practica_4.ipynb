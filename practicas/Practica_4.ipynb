{
 "cells": [
  {
   "cell_type": "markdown",
   "id": "efab8d53-9b97-49a6-837d-ae2c7a323367",
   "metadata": {},
   "source": [
    "## Implementación del CAPM"
   ]
  },
  {
   "cell_type": "markdown",
   "id": "94f6de50-69f6-479d-b205-d49ebd3678b3",
   "metadata": {},
   "source": [
    "En esta práctica utilizaremos un modelo de regresión para implementar una versión simplificada del CAPM (Capital Asset Pricing Model) y estimar la *beta financiera* de una acción. Este modelo implica que los rendimientos esperados de un acción está determinado por los rendimientos del mercado y la tasa libre de riesgo.  \n",
    "\n",
    "$E(R_i) = R_f + \\beta_i (E(R_m) - R_f)$\n",
    "\n",
    "Si reordenamos esta expresión y agregamos un intercepto obtendremos una ecuación que se puede estimar con una regresión lineal:\n",
    "\n",
    "$R_i - R_f = \\alpha + \\beta_i (R_m - R_f) + \\epsilon$\n",
    "\n",
    "En este ejercicio, por practicidad, vamos a correr este modelo de manera directa omitiendo la tasa libre de riesgo:\n",
    "\n",
    "$R_i = \\alpha + \\beta_i R_m + \\epsilon$"
   ]
  },
  {
   "cell_type": "code",
   "execution_count": null,
   "id": "b2deea43-3d6f-443e-a74c-1493ae21994f",
   "metadata": {},
   "outputs": [],
   "source": [
    "import pandas as pd\n",
    "import yfinance as yf\n",
    "import numpy as np\n",
    "import statsmodels.api as sm"
   ]
  },
  {
   "cell_type": "markdown",
   "id": "bd1fff22-ff7e-4d56-926c-9479c32f9c79",
   "metadata": {},
   "source": [
    "Especificamos el periodo que nos interesa, el código de la emisora de la acción (*ticker*) y el índice del mercado. Utiliza los datos de una acción diferente a la del ejemplo ('AAPL')."
   ]
  },
  {
   "cell_type": "code",
   "execution_count": null,
   "id": "741c165e-4e95-496c-83d2-9eaa72f24440",
   "metadata": {},
   "outputs": [],
   "source": [
    "# Parámetros\n",
    "ticker_accion = 'AAPL'\n",
    "ticker_mercado = '^DJI'\n",
    "fecha_inicio = '2023-08-01'\n",
    "fecha_fin = '2025-08-01'\n",
    "\n",
    "# Descargar precios de cierre de ambos activos al mismo tiempo\n",
    "tickers = [ticker_accion, ticker_mercado]\n",
    "df = yf.download(tickers, start=fecha_inicio, end=fecha_fin, progress=False)['Close']\n",
    "\n",
    "# Si hay MultiIndex en columnas, eliminar el primer nivel\n",
    "if isinstance(df.columns, pd.MultiIndex):\n",
    "    df.columns = df.columns.droplevel(0)\n",
    "\n",
    "# Renombrar columnas\n",
    "df = df.rename(columns={ticker_accion: 'accion', ticker_mercado: 'mercado'})"
   ]
  },
  {
   "cell_type": "code",
   "execution_count": null,
   "id": "14556450-d947-4888-a408-2e20332ad3e7",
   "metadata": {},
   "outputs": [],
   "source": [
    "df"
   ]
  },
  {
   "cell_type": "markdown",
   "id": "25247a8c-3f08-44e8-b68f-0db4c738e227",
   "metadata": {},
   "source": [
    "Tomamos los datos mensuales, conservamos solo el último dato de cada mes, calculamos el rendimiento (como porcentaje de cambio) y borramos filas con datos perdidos (la primera fila tendrá datos perdidos)"
   ]
  },
  {
   "cell_type": "code",
   "execution_count": null,
   "id": "344c61a4-218d-4320-89c0-4466fdb73a0e",
   "metadata": {},
   "outputs": [],
   "source": [
    "df = df.resample('ME').last().pct_change().dropna()"
   ]
  },
  {
   "cell_type": "code",
   "execution_count": null,
   "id": "dad03133-dd29-4439-ad36-9dbe28e5f87d",
   "metadata": {},
   "outputs": [],
   "source": [
    "df"
   ]
  },
  {
   "cell_type": "markdown",
   "id": "edc5068d-2926-461e-8510-07d9920d9d2f",
   "metadata": {},
   "source": [
    "Calcula un modelo de regresión con el rendimiento de la acción como variable dependiente y el rendimiento del mercado como variable independiente. Identifica e interpreta:\n",
    "- El ajuste del modelo (R cuadrada)\n",
    "- El p-valor del estadístico F\n",
    "- El p-valor de la variable independiente\n",
    "- El coeficiente de regresión de la variable independiente (beta financiera)"
   ]
  },
  {
   "cell_type": "markdown",
   "id": "267eebe6-8221-4629-895e-bab7784ff735",
   "metadata": {},
   "source": [
    "**Entregable**: notebook en Jupyter exportado a pdf o html, con el código, análisis e interpretación. No se requiere elaborar reporte ejecutivo."
   ]
  },
  {
   "cell_type": "markdown",
   "id": "30ae11c1-c3d4-4692-a8d4-10fe693b901a",
   "metadata": {},
   "source": [
    "**Nota**: Los datos utilizados corresponden a una serie de tiempo, lo cual implica ciertas consideraciones metodológicas (como autocorrelación y estacionariedad) que no se han cubierto en el curso. Por lo tanto, este análisis no debe interpretarse como un modelo estadístico definitivo, sino como un ejercicio interpretación básica de la regresión y una aproximación al cálculo de las betas financieras."
   ]
  },
  {
   "cell_type": "code",
   "execution_count": null,
   "id": "00ea0e10-4ec4-4206-8663-ab155586db25",
   "metadata": {},
   "outputs": [],
   "source": []
  }
 ],
 "metadata": {
  "kernelspec": {
   "display_name": "Python [conda env:base] *",
   "language": "python",
   "name": "conda-base-py"
  },
  "language_info": {
   "codemirror_mode": {
    "name": "ipython",
    "version": 3
   },
   "file_extension": ".py",
   "mimetype": "text/x-python",
   "name": "python",
   "nbconvert_exporter": "python",
   "pygments_lexer": "ipython3",
   "version": "3.12.7"
  }
 },
 "nbformat": 4,
 "nbformat_minor": 5
}
