{
 "cells": [
  {
   "cell_type": "markdown",
   "id": "0122e0d2-db7f-46e3-a601-4442721fe30e",
   "metadata": {},
   "source": [
    "**Instrucciones**: Selecciona solamente **uno** de los siguientes casos y envía tu análisis e interpretación en un jupyter notebook exportado a pdf o html. No se requiere reporte ejecutivo.\n",
    "\n",
    "\n",
    "# Caso 1: Cluster Analysis (Método jerárquico)\n",
    "Cuando Tesla inició operaciones en Europa, el mercado europeo era muy diferente al norteamericano. Por ello, les interesó conocer cómo se podía segmentar el mercado automotriz. En el archivo `https://github.com/adan-rs/AnalisisDatos/raw/main/data/autos.xlsx` se recopila una muestra aleatoria de 15 modelos de automóviles con las siguientes variables:\n",
    "- Desplazamiento del motor\n",
    "- Momento de giro en Nm\n",
    "- Caballos de fuerza\n",
    "- Longitud en milímetros\n",
    "- Ancho en milímetros\n",
    "- Peso en kilogramos\n",
    "- Volumen en litros de la cajuela\n",
    "- Velocidad máxima en kmph\n",
    "- Aceleración de 0 a 100 km/h en segundos\n",
    "\n",
    "\n",
    "Realiza los siguientes pasos\n",
    "1. Carga las librerías y los datos\n",
    "2. Obtén la estadística descriptica de cada variable\n",
    "3. Elimina variables altamente correlacionadas (r > 0.90).\n",
    "4. Estandariza las variables\n",
    "5. Realiza un análisis de conglomerados mediante el método jerárquico.\n",
    "6. Ilustra con un dendrograma.\n",
    "7. **Interpreta los resultados**"
   ]
  },
  {
   "cell_type": "markdown",
   "id": "bc8f535b-2692-45c2-97a8-7aed7d1a188a",
   "metadata": {},
   "source": [
    "# Caso 2: Cluster Analysis (k medias) TAREA \n",
    "Una cadena de tiendas de accesorios masculinos entrevistaron a 180 clientes y se les pidió que, en una escala de 5 niveles ((1: nada importante, 5: muy importante), evaluaran la importancia de los siguientes aspectos al momento de comprar productos:\n",
    "- Tiempo: ahorro de tiempo.\n",
    "- Ofertas: conseguir ofertas.\n",
    "- Exclusivo: obtener productos que no están en otras tiendas.\n",
    "- Novedad: probar cosas nuevas.\n",
    "- Conocimiento: conocer lo que la tienda tiene para ofrecer.\n",
    "\n",
    "El archivo `https://github.com/adan-rs/AnalisisDatos/raw/main/data/actitudes-compra.xlsx`contiene los resultados obtenidos. Realiza los siguientes pasos\n",
    "1. Carga las librerías y los datos\n",
    "2. Obtén la estadística descriptica de cada variable\n",
    "3. Elimina variables altamente correlacionadas (r > 0.90).\n",
    "4. Estandariza las variables\n",
    "5. Realiza un análisis de conglomerados mediante el método de k medias\n",
    "6. **Interpreta los resultados** y describe cada segmento con base en los valores de los centroides"
   ]
  },
  {
   "cell_type": "markdown",
   "id": "16cefe70-dd6a-4dfd-9d55-be8f0a6327ff",
   "metadata": {},
   "source": [
    "# Caso 3: Análisis factorial\n",
    "El archivo `https://github.com/adan-rs/AnalisisDatos/raw/main/data/enigh2020_gasto.xlsx` contiene registros de los gastos en una muestra de hogares en la zona metropolitana de Monterrey en 2020. Aplica un análisis factorial exploratorio cubriendo los siguientes puntos:\n",
    "1. Importas las librerías necesarias\n",
    "2. Carga el archivo con los datos\n",
    "3. Prepara los datos eliminando filas con valores faltantes y estandarizando las variables\n",
    "4. Evalúa la aplicabilidad del análisis factorial exploratorio, aplicando la prueba de esfericidad de Bartlett y obteniendo el indicador KMO. Interpreta los resultados.\n",
    "5. Determina el número óptimo de factores mediante el criterio Kaiser y el análisis del scree plot.\n",
    "6. Realiza un análisis factorial con rotación varimax mediante el método 'principal'.\n",
    "7. Identifica si alguna de las comunalidades es menor 0.30\n",
    "8. Obtén la matriz de cargas factoriales.\n",
    "9. **Interpreta los resultados\"** e identifica con qué se relaciona cada factor, es decir, \"nombra\" cada factor."
   ]
  },
  {
   "cell_type": "markdown",
   "id": "a5f3ca48-c68a-43a7-84a2-4ecf19fa4dad",
   "metadata": {},
   "source": [
    "# Entregable\n",
    "Antes del día 26 de agosto a las 23:59 horas, a través de la plataforma de deben entregar:\n",
    "- Notebook con código exportado a pdf o html\n",
    "- Interpretación de los resultados (en el mismo notebook del código o en documento aparte)\n"
   ]
  },
  {
   "cell_type": "code",
   "execution_count": null,
   "id": "189bb91e-5fa8-4e17-a108-dc350e0471ab",
   "metadata": {},
   "outputs": [],
   "source": []
  }
 ],
 "metadata": {
  "kernelspec": {
   "display_name": "Python [conda env:base] *",
   "language": "python",
   "name": "conda-base-py"
  },
  "language_info": {
   "codemirror_mode": {
    "name": "ipython",
    "version": 3
   },
   "file_extension": ".py",
   "mimetype": "text/x-python",
   "name": "python",
   "nbconvert_exporter": "python",
   "pygments_lexer": "ipython3",
   "version": "3.12.7"
  }
 },
 "nbformat": 4,
 "nbformat_minor": 5
}
