{
 "cells": [
  {
   "cell_type": "code",
   "execution_count": 1,
   "id": "ae4ad695-7869-470d-8efa-832c986d25e5",
   "metadata": {},
   "outputs": [],
   "source": [
    "import pandas as pd\n",
    "import yfinance as yf\n",
    "import numpy as np\n",
    "import statsmodels.api as sm"
   ]
  },
  {
   "cell_type": "code",
   "execution_count": 29,
   "id": "41627a47-95ce-4ec0-9512-8be563554ca0",
   "metadata": {},
   "outputs": [
    {
     "name": "stderr",
     "output_type": "stream",
     "text": [
      "C:\\Users\\adanr\\AppData\\Local\\Temp\\ipykernel_15176\\2240491502.py:9: FutureWarning: YF.download() has changed argument auto_adjust default to True\n",
      "  data = yf.download(tickers, start=fecha_inicio, end=fecha_fin, progress=False)['Close']\n"
     ]
    }
   ],
   "source": [
    "# Parámetros\n",
    "ticker_accion = 'AAPL'\n",
    "ticker_mercado = '^DJI'\n",
    "fecha_inicio = '2023-01-01'\n",
    "fecha_fin = '2023-12-31'\n",
    "\n",
    "# Descargar precios de cierre de ambos activos al mismo tiempo\n",
    "tickers = [ticker_accion, ticker_mercado]\n",
    "data = yf.download(tickers, start=fecha_inicio, end=fecha_fin, progress=False)['Close']\n",
    "\n",
    "# Si hay MultiIndex en columnas, eliminar el primer nivel\n",
    "if isinstance(data.columns, pd.MultiIndex):\n",
    "    data.columns = data.columns.droplevel(0)\n",
    "\n",
    "# Renombrar columnas\n",
    "data = data.rename(columns={ticker_accion: 'accion', ticker_mercado: 'mercado'})"
   ]
  },
  {
   "cell_type": "code",
   "execution_count": 30,
   "id": "12fd3e72-25a2-4d7e-bfb7-b227d0575ca3",
   "metadata": {},
   "outputs": [
    {
     "data": {
      "text/html": [
       "<div>\n",
       "<style scoped>\n",
       "    .dataframe tbody tr th:only-of-type {\n",
       "        vertical-align: middle;\n",
       "    }\n",
       "\n",
       "    .dataframe tbody tr th {\n",
       "        vertical-align: top;\n",
       "    }\n",
       "\n",
       "    .dataframe thead th {\n",
       "        text-align: right;\n",
       "    }\n",
       "</style>\n",
       "<table border=\"1\" class=\"dataframe\">\n",
       "  <thead>\n",
       "    <tr style=\"text-align: right;\">\n",
       "      <th>Ticker</th>\n",
       "      <th>accion</th>\n",
       "      <th>mercado</th>\n",
       "    </tr>\n",
       "    <tr>\n",
       "      <th>Date</th>\n",
       "      <th></th>\n",
       "      <th></th>\n",
       "    </tr>\n",
       "  </thead>\n",
       "  <tbody>\n",
       "    <tr>\n",
       "      <th>2023-01-03</th>\n",
       "      <td>123.470596</td>\n",
       "      <td>33136.371094</td>\n",
       "    </tr>\n",
       "    <tr>\n",
       "      <th>2023-01-04</th>\n",
       "      <td>124.744125</td>\n",
       "      <td>33269.769531</td>\n",
       "    </tr>\n",
       "    <tr>\n",
       "      <th>2023-01-05</th>\n",
       "      <td>123.421257</td>\n",
       "      <td>32930.078125</td>\n",
       "    </tr>\n",
       "    <tr>\n",
       "      <th>2023-01-06</th>\n",
       "      <td>127.962425</td>\n",
       "      <td>33630.609375</td>\n",
       "    </tr>\n",
       "    <tr>\n",
       "      <th>2023-01-09</th>\n",
       "      <td>128.485641</td>\n",
       "      <td>33517.648438</td>\n",
       "    </tr>\n",
       "    <tr>\n",
       "      <th>...</th>\n",
       "      <td>...</td>\n",
       "      <td>...</td>\n",
       "    </tr>\n",
       "    <tr>\n",
       "      <th>2023-12-22</th>\n",
       "      <td>192.192566</td>\n",
       "      <td>37385.968750</td>\n",
       "    </tr>\n",
       "    <tr>\n",
       "      <th>2023-12-26</th>\n",
       "      <td>191.646561</td>\n",
       "      <td>37545.328125</td>\n",
       "    </tr>\n",
       "    <tr>\n",
       "      <th>2023-12-27</th>\n",
       "      <td>191.745804</td>\n",
       "      <td>37656.519531</td>\n",
       "    </tr>\n",
       "    <tr>\n",
       "      <th>2023-12-28</th>\n",
       "      <td>192.172699</td>\n",
       "      <td>37710.101562</td>\n",
       "    </tr>\n",
       "    <tr>\n",
       "      <th>2023-12-29</th>\n",
       "      <td>191.130341</td>\n",
       "      <td>37689.539062</td>\n",
       "    </tr>\n",
       "  </tbody>\n",
       "</table>\n",
       "<p>250 rows × 2 columns</p>\n",
       "</div>"
      ],
      "text/plain": [
       "Ticker          accion       mercado\n",
       "Date                                \n",
       "2023-01-03  123.470596  33136.371094\n",
       "2023-01-04  124.744125  33269.769531\n",
       "2023-01-05  123.421257  32930.078125\n",
       "2023-01-06  127.962425  33630.609375\n",
       "2023-01-09  128.485641  33517.648438\n",
       "...                ...           ...\n",
       "2023-12-22  192.192566  37385.968750\n",
       "2023-12-26  191.646561  37545.328125\n",
       "2023-12-27  191.745804  37656.519531\n",
       "2023-12-28  192.172699  37710.101562\n",
       "2023-12-29  191.130341  37689.539062\n",
       "\n",
       "[250 rows x 2 columns]"
      ]
     },
     "execution_count": 30,
     "metadata": {},
     "output_type": "execute_result"
    }
   ],
   "source": [
    "data"
   ]
  },
  {
   "cell_type": "code",
   "execution_count": null,
   "id": "9e2c51a2-48de-4f5a-a4fb-23135fe62791",
   "metadata": {},
   "outputs": [],
   "source": []
  }
 ],
 "metadata": {
  "kernelspec": {
   "display_name": "Python [conda env:base] *",
   "language": "python",
   "name": "conda-base-py"
  },
  "language_info": {
   "codemirror_mode": {
    "name": "ipython",
    "version": 3
   },
   "file_extension": ".py",
   "mimetype": "text/x-python",
   "name": "python",
   "nbconvert_exporter": "python",
   "pygments_lexer": "ipython3",
   "version": "3.12.7"
  }
 },
 "nbformat": 4,
 "nbformat_minor": 5
}
