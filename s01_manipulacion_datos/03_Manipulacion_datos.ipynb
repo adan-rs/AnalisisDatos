{
 "cells": [
  {
   "cell_type": "markdown",
   "id": "ecc7a6a8-7b95-42a3-ae4d-1acce323a449",
   "metadata": {},
   "source": [
    "# 3. Manipulación básica de datos\n",
    "*\"In God we trust. All others must bring data\" (W. E. Deming).*  \n"
   ]
  },
  {
   "cell_type": "markdown",
   "id": "7218eb4b-0951-493a-bb40-4349e0324eca",
   "metadata": {},
   "source": [
    "## 3.1 Carga de los datos\n",
    "\n",
    "En python trabajaremos con varias bibliotecas y como primer paso debemos indicar cuál emplearemos para importar los datos. En este caso utilizaremos *pandas* con el alias *pd*. El nombre de pandas proviene de *panel data*. Otra alternativa, especialmente para grandes conjuntos de datos, es *polars*."
   ]
  },
  {
   "cell_type": "code",
   "execution_count": 1,
   "id": "d6392809-ffcc-41fd-98e0-38d827c9de04",
   "metadata": {
    "tags": []
   },
   "outputs": [],
   "source": [
    "import pandas as pd"
   ]
  },
  {
   "cell_type": "markdown",
   "id": "b5573d29-68bc-4358-877c-01be0c5af3f6",
   "metadata": {},
   "source": [
    "Ahora vamos a utilizar la función `pd.read_excel()` para leer el archivo en la cual agregaremos como argumentos la ubicación del archivo. "
   ]
  },
  {
   "cell_type": "code",
   "execution_count": 2,
   "id": "67f52041-5416-4da2-ad54-8d7fdc2b094b",
   "metadata": {
    "tags": []
   },
   "outputs": [],
   "source": [
    "url = 'https://github.com/adan-rs/AnalisisDatos/raw/main/s01_manipulacion_datos/data/casas.xlsx'\n",
    "\n",
    "df = pd.read_excel(url)"
   ]
  },
  {
   "cell_type": "markdown",
   "id": "62d174aa-f1ce-4ed0-b23b-a5415e16bc1b",
   "metadata": {},
   "source": [
    "Siempre se debe indicar la ubicación del archivo, a menos que el archivo esté en el mismo directorio del Jupyter notebook. Se pueden incluir algunas instrucciones mediante otros argumentos, por ejemplo, si es un archivo de Excel indicar qué hoja o columnas utilizar.\n",
    "\n",
    "Los formatos más comunes son *csv* (comma separated value) y excel por lo que lo más frecuente es usar *read_excel* y *read_csv*. Dependiendo del tipo de archivo, también están disponibles funciones como *read_json*, *read_sas*, *read_stata*, *read_sql* y al menos una docena más."
   ]
  },
  {
   "cell_type": "markdown",
   "id": "fd6ae18b-b120-48c6-9006-8701b2965d43",
   "metadata": {
    "tags": []
   },
   "source": [
    "### Dataframes\n",
    "\n",
    "Una forma muy común de organizar los datos es en filas y columnas. Cada fila corresponde a una observación (elemento, objeto, caso, individuo, evento), y cada columna corresponde a una variable (en *machine learning* a las variables se les conoce como *features*). En Pandas, a este tipo de ordenamiento se le conoce como DataFrame y la función que utilizamos importa los datos en un dataframe."
   ]
  },
  {
   "cell_type": "code",
   "execution_count": 3,
   "id": "5fabdc2e-012e-48a1-be94-0a0fb50f9200",
   "metadata": {},
   "outputs": [
    {
     "data": {
      "text/html": [
       "<div>\n",
       "<style scoped>\n",
       "    .dataframe tbody tr th:only-of-type {\n",
       "        vertical-align: middle;\n",
       "    }\n",
       "\n",
       "    .dataframe tbody tr th {\n",
       "        vertical-align: top;\n",
       "    }\n",
       "\n",
       "    .dataframe thead th {\n",
       "        text-align: right;\n",
       "    }\n",
       "</style>\n",
       "<table border=\"1\" class=\"dataframe\">\n",
       "  <thead>\n",
       "    <tr style=\"text-align: right;\">\n",
       "      <th></th>\n",
       "      <th>operacion</th>\n",
       "      <th>tipo</th>\n",
       "      <th>municipio</th>\n",
       "      <th>colonia</th>\n",
       "      <th>preciomillones</th>\n",
       "      <th>recamaras</th>\n",
       "      <th>baños</th>\n",
       "      <th>construccion</th>\n",
       "    </tr>\n",
       "  </thead>\n",
       "  <tbody>\n",
       "    <tr>\n",
       "      <th>0</th>\n",
       "      <td>Venta</td>\n",
       "      <td>1</td>\n",
       "      <td>San Pedro Garza García</td>\n",
       "      <td>Colonia Del Valle</td>\n",
       "      <td>4.20</td>\n",
       "      <td>3</td>\n",
       "      <td>2.0</td>\n",
       "      <td>130</td>\n",
       "    </tr>\n",
       "    <tr>\n",
       "      <th>1</th>\n",
       "      <td>Venta</td>\n",
       "      <td>0</td>\n",
       "      <td>San Pedro Garza García</td>\n",
       "      <td>Colonia Del Valle</td>\n",
       "      <td>5.10</td>\n",
       "      <td>3</td>\n",
       "      <td>5.0</td>\n",
       "      <td>280</td>\n",
       "    </tr>\n",
       "    <tr>\n",
       "      <th>2</th>\n",
       "      <td>Venta</td>\n",
       "      <td>1</td>\n",
       "      <td>San Pedro Garza García</td>\n",
       "      <td>Colonia Del Valle</td>\n",
       "      <td>5.50</td>\n",
       "      <td>2</td>\n",
       "      <td>2.0</td>\n",
       "      <td>112</td>\n",
       "    </tr>\n",
       "    <tr>\n",
       "      <th>3</th>\n",
       "      <td>Venta</td>\n",
       "      <td>1</td>\n",
       "      <td>San Pedro Garza García</td>\n",
       "      <td>Colonia Del Valle</td>\n",
       "      <td>5.70</td>\n",
       "      <td>2</td>\n",
       "      <td>2.0</td>\n",
       "      <td>112</td>\n",
       "    </tr>\n",
       "    <tr>\n",
       "      <th>4</th>\n",
       "      <td>Venta</td>\n",
       "      <td>1</td>\n",
       "      <td>San Pedro Garza García</td>\n",
       "      <td>Colonia Del Valle</td>\n",
       "      <td>5.80</td>\n",
       "      <td>2</td>\n",
       "      <td>2.0</td>\n",
       "      <td>112</td>\n",
       "    </tr>\n",
       "    <tr>\n",
       "      <th>...</th>\n",
       "      <td>...</td>\n",
       "      <td>...</td>\n",
       "      <td>...</td>\n",
       "      <td>...</td>\n",
       "      <td>...</td>\n",
       "      <td>...</td>\n",
       "      <td>...</td>\n",
       "      <td>...</td>\n",
       "    </tr>\n",
       "    <tr>\n",
       "      <th>149</th>\n",
       "      <td>Venta</td>\n",
       "      <td>0</td>\n",
       "      <td>San Pedro Garza García</td>\n",
       "      <td>Colonia Del Valle</td>\n",
       "      <td>47.00</td>\n",
       "      <td>3</td>\n",
       "      <td>5.0</td>\n",
       "      <td>950</td>\n",
       "    </tr>\n",
       "    <tr>\n",
       "      <th>150</th>\n",
       "      <td>Venta</td>\n",
       "      <td>0</td>\n",
       "      <td>San Pedro Garza García</td>\n",
       "      <td>Colonia Del Valle</td>\n",
       "      <td>47.00</td>\n",
       "      <td>3</td>\n",
       "      <td>4.0</td>\n",
       "      <td>950</td>\n",
       "    </tr>\n",
       "    <tr>\n",
       "      <th>151</th>\n",
       "      <td>Venta</td>\n",
       "      <td>0</td>\n",
       "      <td>San Pedro Garza García</td>\n",
       "      <td>Colonia Del Valle</td>\n",
       "      <td>49.00</td>\n",
       "      <td>4</td>\n",
       "      <td>5.0</td>\n",
       "      <td>960</td>\n",
       "    </tr>\n",
       "    <tr>\n",
       "      <th>152</th>\n",
       "      <td>Venta</td>\n",
       "      <td>0</td>\n",
       "      <td>San Pedro Garza García</td>\n",
       "      <td>Colonia Del Valle</td>\n",
       "      <td>49.00</td>\n",
       "      <td>4</td>\n",
       "      <td>4.0</td>\n",
       "      <td>960</td>\n",
       "    </tr>\n",
       "    <tr>\n",
       "      <th>153</th>\n",
       "      <td>Venta</td>\n",
       "      <td>0</td>\n",
       "      <td>San Pedro Garza García</td>\n",
       "      <td>Colonia Del Valle</td>\n",
       "      <td>49.98</td>\n",
       "      <td>4</td>\n",
       "      <td>6.0</td>\n",
       "      <td>1100</td>\n",
       "    </tr>\n",
       "  </tbody>\n",
       "</table>\n",
       "<p>154 rows × 8 columns</p>\n",
       "</div>"
      ],
      "text/plain": [
       "    operacion  tipo               municipio              colonia  \\\n",
       "0       Venta     1  San Pedro Garza García  Colonia Del Valle     \n",
       "1       Venta     0  San Pedro Garza García  Colonia Del Valle     \n",
       "2       Venta     1  San Pedro Garza García  Colonia Del Valle     \n",
       "3       Venta     1  San Pedro Garza García  Colonia Del Valle     \n",
       "4       Venta     1  San Pedro Garza García  Colonia Del Valle     \n",
       "..        ...   ...                     ...                  ...   \n",
       "149     Venta     0  San Pedro Garza García  Colonia Del Valle     \n",
       "150     Venta     0  San Pedro Garza García  Colonia Del Valle     \n",
       "151     Venta     0  San Pedro Garza García  Colonia Del Valle     \n",
       "152     Venta     0  San Pedro Garza García  Colonia Del Valle     \n",
       "153     Venta     0  San Pedro Garza García  Colonia Del Valle     \n",
       "\n",
       "     preciomillones  recamaras  baños  construccion  \n",
       "0              4.20          3    2.0           130  \n",
       "1              5.10          3    5.0           280  \n",
       "2              5.50          2    2.0           112  \n",
       "3              5.70          2    2.0           112  \n",
       "4              5.80          2    2.0           112  \n",
       "..              ...        ...    ...           ...  \n",
       "149           47.00          3    5.0           950  \n",
       "150           47.00          3    4.0           950  \n",
       "151           49.00          4    5.0           960  \n",
       "152           49.00          4    4.0           960  \n",
       "153           49.98          4    6.0          1100  \n",
       "\n",
       "[154 rows x 8 columns]"
      ]
     },
     "execution_count": 3,
     "metadata": {},
     "output_type": "execute_result"
    }
   ],
   "source": [
    "df"
   ]
  },
  {
   "cell_type": "markdown",
   "id": "5600ace9-0ad8-4016-abb8-e4def0c38762",
   "metadata": {},
   "source": [
    "Observa que una característica adicional es que cuentan con un índice para las filas. En principio, este índice es secuencial empezando por cero, pero puede ser sustituido por un ID, una fecha o cualquier otra variable. Un dataframe puede incluso tener varios índices para representar objetos multidimensionales (cubos de datos).\n",
    "\n",
    "Para seleccionar solamente una columna utiliza corchetes o notación con punto, por ejemplo `df['recamaras']` o `df.recamaras`. Al seleccionar una sola columna esta se mostrará como una serie."
   ]
  },
  {
   "cell_type": "code",
   "execution_count": 4,
   "id": "3bff595e-82b9-456d-b71c-534b146bcd1d",
   "metadata": {
    "tags": []
   },
   "outputs": [
    {
     "data": {
      "text/plain": [
       "0      3\n",
       "1      3\n",
       "2      2\n",
       "3      2\n",
       "4      2\n",
       "      ..\n",
       "149    3\n",
       "150    3\n",
       "151    4\n",
       "152    4\n",
       "153    4\n",
       "Name: recamaras, Length: 154, dtype: int64"
      ]
     },
     "execution_count": 4,
     "metadata": {},
     "output_type": "execute_result"
    }
   ],
   "source": [
    "df['recamaras']"
   ]
  },
  {
   "cell_type": "markdown",
   "id": "241e8696-2ee5-4eb5-8514-b921efde3300",
   "metadata": {},
   "source": [
    "Para seleccionar múltiples columnas, agrega las columnas en una lista:"
   ]
  },
  {
   "cell_type": "code",
   "execution_count": 5,
   "id": "cdfbb101-ed74-4d6b-aa29-c9b7278d940e",
   "metadata": {
    "tags": []
   },
   "outputs": [
    {
     "data": {
      "text/html": [
       "<div>\n",
       "<style scoped>\n",
       "    .dataframe tbody tr th:only-of-type {\n",
       "        vertical-align: middle;\n",
       "    }\n",
       "\n",
       "    .dataframe tbody tr th {\n",
       "        vertical-align: top;\n",
       "    }\n",
       "\n",
       "    .dataframe thead th {\n",
       "        text-align: right;\n",
       "    }\n",
       "</style>\n",
       "<table border=\"1\" class=\"dataframe\">\n",
       "  <thead>\n",
       "    <tr style=\"text-align: right;\">\n",
       "      <th></th>\n",
       "      <th>recamaras</th>\n",
       "      <th>baños</th>\n",
       "    </tr>\n",
       "  </thead>\n",
       "  <tbody>\n",
       "    <tr>\n",
       "      <th>0</th>\n",
       "      <td>3</td>\n",
       "      <td>2.0</td>\n",
       "    </tr>\n",
       "    <tr>\n",
       "      <th>1</th>\n",
       "      <td>3</td>\n",
       "      <td>5.0</td>\n",
       "    </tr>\n",
       "    <tr>\n",
       "      <th>2</th>\n",
       "      <td>2</td>\n",
       "      <td>2.0</td>\n",
       "    </tr>\n",
       "    <tr>\n",
       "      <th>3</th>\n",
       "      <td>2</td>\n",
       "      <td>2.0</td>\n",
       "    </tr>\n",
       "    <tr>\n",
       "      <th>4</th>\n",
       "      <td>2</td>\n",
       "      <td>2.0</td>\n",
       "    </tr>\n",
       "    <tr>\n",
       "      <th>...</th>\n",
       "      <td>...</td>\n",
       "      <td>...</td>\n",
       "    </tr>\n",
       "    <tr>\n",
       "      <th>149</th>\n",
       "      <td>3</td>\n",
       "      <td>5.0</td>\n",
       "    </tr>\n",
       "    <tr>\n",
       "      <th>150</th>\n",
       "      <td>3</td>\n",
       "      <td>4.0</td>\n",
       "    </tr>\n",
       "    <tr>\n",
       "      <th>151</th>\n",
       "      <td>4</td>\n",
       "      <td>5.0</td>\n",
       "    </tr>\n",
       "    <tr>\n",
       "      <th>152</th>\n",
       "      <td>4</td>\n",
       "      <td>4.0</td>\n",
       "    </tr>\n",
       "    <tr>\n",
       "      <th>153</th>\n",
       "      <td>4</td>\n",
       "      <td>6.0</td>\n",
       "    </tr>\n",
       "  </tbody>\n",
       "</table>\n",
       "<p>154 rows × 2 columns</p>\n",
       "</div>"
      ],
      "text/plain": [
       "     recamaras  baños\n",
       "0            3    2.0\n",
       "1            3    5.0\n",
       "2            2    2.0\n",
       "3            2    2.0\n",
       "4            2    2.0\n",
       "..         ...    ...\n",
       "149          3    5.0\n",
       "150          3    4.0\n",
       "151          4    5.0\n",
       "152          4    4.0\n",
       "153          4    6.0\n",
       "\n",
       "[154 rows x 2 columns]"
      ]
     },
     "execution_count": 5,
     "metadata": {},
     "output_type": "execute_result"
    }
   ],
   "source": [
    "df[['recamaras', 'baños']]"
   ]
  },
  {
   "cell_type": "markdown",
   "id": "13876511-b67d-4c3b-9e63-a1be29366665",
   "metadata": {},
   "source": [
    "Es posible hacer operaciones básicas con columnas. Por ejemplo"
   ]
  },
  {
   "cell_type": "code",
   "execution_count": 6,
   "id": "cac81ab5-0475-457b-9711-60fdb29ad4cb",
   "metadata": {
    "tags": []
   },
   "outputs": [
    {
     "data": {
      "text/html": [
       "<div>\n",
       "<style scoped>\n",
       "    .dataframe tbody tr th:only-of-type {\n",
       "        vertical-align: middle;\n",
       "    }\n",
       "\n",
       "    .dataframe tbody tr th {\n",
       "        vertical-align: top;\n",
       "    }\n",
       "\n",
       "    .dataframe thead th {\n",
       "        text-align: right;\n",
       "    }\n",
       "</style>\n",
       "<table border=\"1\" class=\"dataframe\">\n",
       "  <thead>\n",
       "    <tr style=\"text-align: right;\">\n",
       "      <th></th>\n",
       "      <th>operacion</th>\n",
       "      <th>tipo</th>\n",
       "      <th>municipio</th>\n",
       "      <th>colonia</th>\n",
       "      <th>preciomillones</th>\n",
       "      <th>recamaras</th>\n",
       "      <th>baños</th>\n",
       "      <th>construccion</th>\n",
       "      <th>preciom2</th>\n",
       "    </tr>\n",
       "  </thead>\n",
       "  <tbody>\n",
       "    <tr>\n",
       "      <th>0</th>\n",
       "      <td>Venta</td>\n",
       "      <td>1</td>\n",
       "      <td>San Pedro Garza García</td>\n",
       "      <td>Colonia Del Valle</td>\n",
       "      <td>4.20</td>\n",
       "      <td>3</td>\n",
       "      <td>2.0</td>\n",
       "      <td>130</td>\n",
       "      <td>32307.692308</td>\n",
       "    </tr>\n",
       "    <tr>\n",
       "      <th>1</th>\n",
       "      <td>Venta</td>\n",
       "      <td>0</td>\n",
       "      <td>San Pedro Garza García</td>\n",
       "      <td>Colonia Del Valle</td>\n",
       "      <td>5.10</td>\n",
       "      <td>3</td>\n",
       "      <td>5.0</td>\n",
       "      <td>280</td>\n",
       "      <td>18214.285714</td>\n",
       "    </tr>\n",
       "    <tr>\n",
       "      <th>2</th>\n",
       "      <td>Venta</td>\n",
       "      <td>1</td>\n",
       "      <td>San Pedro Garza García</td>\n",
       "      <td>Colonia Del Valle</td>\n",
       "      <td>5.50</td>\n",
       "      <td>2</td>\n",
       "      <td>2.0</td>\n",
       "      <td>112</td>\n",
       "      <td>49107.142857</td>\n",
       "    </tr>\n",
       "    <tr>\n",
       "      <th>3</th>\n",
       "      <td>Venta</td>\n",
       "      <td>1</td>\n",
       "      <td>San Pedro Garza García</td>\n",
       "      <td>Colonia Del Valle</td>\n",
       "      <td>5.70</td>\n",
       "      <td>2</td>\n",
       "      <td>2.0</td>\n",
       "      <td>112</td>\n",
       "      <td>50892.857143</td>\n",
       "    </tr>\n",
       "    <tr>\n",
       "      <th>4</th>\n",
       "      <td>Venta</td>\n",
       "      <td>1</td>\n",
       "      <td>San Pedro Garza García</td>\n",
       "      <td>Colonia Del Valle</td>\n",
       "      <td>5.80</td>\n",
       "      <td>2</td>\n",
       "      <td>2.0</td>\n",
       "      <td>112</td>\n",
       "      <td>51785.714286</td>\n",
       "    </tr>\n",
       "    <tr>\n",
       "      <th>...</th>\n",
       "      <td>...</td>\n",
       "      <td>...</td>\n",
       "      <td>...</td>\n",
       "      <td>...</td>\n",
       "      <td>...</td>\n",
       "      <td>...</td>\n",
       "      <td>...</td>\n",
       "      <td>...</td>\n",
       "      <td>...</td>\n",
       "    </tr>\n",
       "    <tr>\n",
       "      <th>149</th>\n",
       "      <td>Venta</td>\n",
       "      <td>0</td>\n",
       "      <td>San Pedro Garza García</td>\n",
       "      <td>Colonia Del Valle</td>\n",
       "      <td>47.00</td>\n",
       "      <td>3</td>\n",
       "      <td>5.0</td>\n",
       "      <td>950</td>\n",
       "      <td>49473.684211</td>\n",
       "    </tr>\n",
       "    <tr>\n",
       "      <th>150</th>\n",
       "      <td>Venta</td>\n",
       "      <td>0</td>\n",
       "      <td>San Pedro Garza García</td>\n",
       "      <td>Colonia Del Valle</td>\n",
       "      <td>47.00</td>\n",
       "      <td>3</td>\n",
       "      <td>4.0</td>\n",
       "      <td>950</td>\n",
       "      <td>49473.684211</td>\n",
       "    </tr>\n",
       "    <tr>\n",
       "      <th>151</th>\n",
       "      <td>Venta</td>\n",
       "      <td>0</td>\n",
       "      <td>San Pedro Garza García</td>\n",
       "      <td>Colonia Del Valle</td>\n",
       "      <td>49.00</td>\n",
       "      <td>4</td>\n",
       "      <td>5.0</td>\n",
       "      <td>960</td>\n",
       "      <td>51041.666667</td>\n",
       "    </tr>\n",
       "    <tr>\n",
       "      <th>152</th>\n",
       "      <td>Venta</td>\n",
       "      <td>0</td>\n",
       "      <td>San Pedro Garza García</td>\n",
       "      <td>Colonia Del Valle</td>\n",
       "      <td>49.00</td>\n",
       "      <td>4</td>\n",
       "      <td>4.0</td>\n",
       "      <td>960</td>\n",
       "      <td>51041.666667</td>\n",
       "    </tr>\n",
       "    <tr>\n",
       "      <th>153</th>\n",
       "      <td>Venta</td>\n",
       "      <td>0</td>\n",
       "      <td>San Pedro Garza García</td>\n",
       "      <td>Colonia Del Valle</td>\n",
       "      <td>49.98</td>\n",
       "      <td>4</td>\n",
       "      <td>6.0</td>\n",
       "      <td>1100</td>\n",
       "      <td>45436.363636</td>\n",
       "    </tr>\n",
       "  </tbody>\n",
       "</table>\n",
       "<p>154 rows × 9 columns</p>\n",
       "</div>"
      ],
      "text/plain": [
       "    operacion  tipo               municipio              colonia  \\\n",
       "0       Venta     1  San Pedro Garza García  Colonia Del Valle     \n",
       "1       Venta     0  San Pedro Garza García  Colonia Del Valle     \n",
       "2       Venta     1  San Pedro Garza García  Colonia Del Valle     \n",
       "3       Venta     1  San Pedro Garza García  Colonia Del Valle     \n",
       "4       Venta     1  San Pedro Garza García  Colonia Del Valle     \n",
       "..        ...   ...                     ...                  ...   \n",
       "149     Venta     0  San Pedro Garza García  Colonia Del Valle     \n",
       "150     Venta     0  San Pedro Garza García  Colonia Del Valle     \n",
       "151     Venta     0  San Pedro Garza García  Colonia Del Valle     \n",
       "152     Venta     0  San Pedro Garza García  Colonia Del Valle     \n",
       "153     Venta     0  San Pedro Garza García  Colonia Del Valle     \n",
       "\n",
       "     preciomillones  recamaras  baños  construccion      preciom2  \n",
       "0              4.20          3    2.0           130  32307.692308  \n",
       "1              5.10          3    5.0           280  18214.285714  \n",
       "2              5.50          2    2.0           112  49107.142857  \n",
       "3              5.70          2    2.0           112  50892.857143  \n",
       "4              5.80          2    2.0           112  51785.714286  \n",
       "..              ...        ...    ...           ...           ...  \n",
       "149           47.00          3    5.0           950  49473.684211  \n",
       "150           47.00          3    4.0           950  49473.684211  \n",
       "151           49.00          4    5.0           960  51041.666667  \n",
       "152           49.00          4    4.0           960  51041.666667  \n",
       "153           49.98          4    6.0          1100  45436.363636  \n",
       "\n",
       "[154 rows x 9 columns]"
      ]
     },
     "execution_count": 6,
     "metadata": {},
     "output_type": "execute_result"
    }
   ],
   "source": [
    "df['preciom2'] = (df['preciomillones'] / df['construccion']) * 1000000\n",
    "df"
   ]
  },
  {
   "cell_type": "markdown",
   "id": "9eb41711-6421-4b2d-92d4-d7c9f836db46",
   "metadata": {},
   "source": [
    "Observe que el resultado se guardó en una nueva columna con el nombre de *preciom2*"
   ]
  },
  {
   "cell_type": "markdown",
   "id": "6936f171-75d9-4e99-8097-931d2657bad6",
   "metadata": {},
   "source": [
    "## 3.2 Revisión de los datos\n",
    "\n",
    "### Revisa los primeros renglones\n",
    "\n",
    "Siempre es útil revisar los primeros renglones del dataframe para verificar que los datos estén en el formato apropiado. Para ello, vamos a utilizar el método `head()`. \n",
    "\n",
    "Un *método* es una función asociada a un objeto y se utiliza un punto para indicar esta asociación, por ejemplo `df.head()`. Un método tiene parámetros que van entre paréntesis. En el caso de `head()` podemos agregar el número de renglones que deseamos visualizar. De manera predeterminada este número es de 5 renglones"
   ]
  },
  {
   "cell_type": "code",
   "execution_count": 7,
   "id": "2cc50292-724c-4108-87db-bc8d0e9f5a80",
   "metadata": {},
   "outputs": [
    {
     "data": {
      "text/html": [
       "<div>\n",
       "<style scoped>\n",
       "    .dataframe tbody tr th:only-of-type {\n",
       "        vertical-align: middle;\n",
       "    }\n",
       "\n",
       "    .dataframe tbody tr th {\n",
       "        vertical-align: top;\n",
       "    }\n",
       "\n",
       "    .dataframe thead th {\n",
       "        text-align: right;\n",
       "    }\n",
       "</style>\n",
       "<table border=\"1\" class=\"dataframe\">\n",
       "  <thead>\n",
       "    <tr style=\"text-align: right;\">\n",
       "      <th></th>\n",
       "      <th>operacion</th>\n",
       "      <th>tipo</th>\n",
       "      <th>municipio</th>\n",
       "      <th>colonia</th>\n",
       "      <th>preciomillones</th>\n",
       "      <th>recamaras</th>\n",
       "      <th>baños</th>\n",
       "      <th>construccion</th>\n",
       "      <th>preciom2</th>\n",
       "    </tr>\n",
       "  </thead>\n",
       "  <tbody>\n",
       "    <tr>\n",
       "      <th>0</th>\n",
       "      <td>Venta</td>\n",
       "      <td>1</td>\n",
       "      <td>San Pedro Garza García</td>\n",
       "      <td>Colonia Del Valle</td>\n",
       "      <td>4.2</td>\n",
       "      <td>3</td>\n",
       "      <td>2.0</td>\n",
       "      <td>130</td>\n",
       "      <td>32307.692308</td>\n",
       "    </tr>\n",
       "    <tr>\n",
       "      <th>1</th>\n",
       "      <td>Venta</td>\n",
       "      <td>0</td>\n",
       "      <td>San Pedro Garza García</td>\n",
       "      <td>Colonia Del Valle</td>\n",
       "      <td>5.1</td>\n",
       "      <td>3</td>\n",
       "      <td>5.0</td>\n",
       "      <td>280</td>\n",
       "      <td>18214.285714</td>\n",
       "    </tr>\n",
       "    <tr>\n",
       "      <th>2</th>\n",
       "      <td>Venta</td>\n",
       "      <td>1</td>\n",
       "      <td>San Pedro Garza García</td>\n",
       "      <td>Colonia Del Valle</td>\n",
       "      <td>5.5</td>\n",
       "      <td>2</td>\n",
       "      <td>2.0</td>\n",
       "      <td>112</td>\n",
       "      <td>49107.142857</td>\n",
       "    </tr>\n",
       "    <tr>\n",
       "      <th>3</th>\n",
       "      <td>Venta</td>\n",
       "      <td>1</td>\n",
       "      <td>San Pedro Garza García</td>\n",
       "      <td>Colonia Del Valle</td>\n",
       "      <td>5.7</td>\n",
       "      <td>2</td>\n",
       "      <td>2.0</td>\n",
       "      <td>112</td>\n",
       "      <td>50892.857143</td>\n",
       "    </tr>\n",
       "    <tr>\n",
       "      <th>4</th>\n",
       "      <td>Venta</td>\n",
       "      <td>1</td>\n",
       "      <td>San Pedro Garza García</td>\n",
       "      <td>Colonia Del Valle</td>\n",
       "      <td>5.8</td>\n",
       "      <td>2</td>\n",
       "      <td>2.0</td>\n",
       "      <td>112</td>\n",
       "      <td>51785.714286</td>\n",
       "    </tr>\n",
       "  </tbody>\n",
       "</table>\n",
       "</div>"
      ],
      "text/plain": [
       "  operacion  tipo               municipio              colonia  \\\n",
       "0     Venta     1  San Pedro Garza García  Colonia Del Valle     \n",
       "1     Venta     0  San Pedro Garza García  Colonia Del Valle     \n",
       "2     Venta     1  San Pedro Garza García  Colonia Del Valle     \n",
       "3     Venta     1  San Pedro Garza García  Colonia Del Valle     \n",
       "4     Venta     1  San Pedro Garza García  Colonia Del Valle     \n",
       "\n",
       "   preciomillones  recamaras  baños  construccion      preciom2  \n",
       "0             4.2          3    2.0           130  32307.692308  \n",
       "1             5.1          3    5.0           280  18214.285714  \n",
       "2             5.5          2    2.0           112  49107.142857  \n",
       "3             5.7          2    2.0           112  50892.857143  \n",
       "4             5.8          2    2.0           112  51785.714286  "
      ]
     },
     "execution_count": 7,
     "metadata": {},
     "output_type": "execute_result"
    }
   ],
   "source": [
    "df.head(5)"
   ]
  },
  {
   "cell_type": "markdown",
   "id": "a3b65af9-114a-4ff5-9100-f6f5a8d29e1c",
   "metadata": {},
   "source": [
    "Una alternativa es revisar los últimos cinco valores con `tail()` o una muestra con `sample()`. "
   ]
  },
  {
   "cell_type": "code",
   "execution_count": 8,
   "id": "72049475-3581-47d5-926f-4f2dcc96037f",
   "metadata": {
    "tags": []
   },
   "outputs": [],
   "source": [
    "# Práctica: encuentra los últimos 3 valores del DataFrame\n"
   ]
  },
  {
   "cell_type": "markdown",
   "id": "6245eb9b-4e5e-4cf9-bf97-8f17e92522f3",
   "metadata": {},
   "source": [
    "### Revisa la forma de tu dataframe\n",
    "\n",
    "Cada dataframe tiene un *atributo* (una característica automática) de forma (*shape*). Esta forma tiene dos dimensiones: número de renglones y número de columnas. Estos dos valores se acomodan en una *tupla* (una lista que no puede ser modificada). Para desplegar este atributo agregamos `.shape` al nombre del DataFrame: "
   ]
  },
  {
   "cell_type": "code",
   "execution_count": 9,
   "id": "a03c95f2-e89e-4a39-8781-0da1fb652549",
   "metadata": {},
   "outputs": [
    {
     "data": {
      "text/plain": [
       "(154, 9)"
      ]
     },
     "execution_count": 9,
     "metadata": {},
     "output_type": "execute_result"
    }
   ],
   "source": [
    "df.shape"
   ]
  },
  {
   "cell_type": "markdown",
   "id": "a5c53c29-4c43-423f-8948-6da6d90b1e50",
   "metadata": {},
   "source": [
    "Nótese que *shape* no requiere argumentos y por tanto no se añaden paréntesis. Esa es la diferencia entre un *atributo* y un *método*."
   ]
  },
  {
   "cell_type": "markdown",
   "id": "420c8066-5c9e-492e-9d28-6070ff4b77bb",
   "metadata": {
    "tags": []
   },
   "source": [
    "### Revisa los nombres de las columnas\n",
    "Los nombres de las columnas corresponden a los nombres de las variables y son otro atributo de los dataframes. Puedes consultar estos nombres agregando `.columns` al nombre del DataFrame:"
   ]
  },
  {
   "cell_type": "code",
   "execution_count": 10,
   "id": "ef9e231a-c683-4309-a003-d5dcfcaf4006",
   "metadata": {},
   "outputs": [
    {
     "data": {
      "text/plain": [
       "Index(['operacion', 'tipo', 'municipio', 'colonia', 'preciomillones',\n",
       "       'recamaras', 'baños', 'construccion', 'preciom2'],\n",
       "      dtype='object')"
      ]
     },
     "execution_count": 10,
     "metadata": {},
     "output_type": "execute_result"
    }
   ],
   "source": [
    "df.columns"
   ]
  },
  {
   "cell_type": "markdown",
   "id": "9cbfa61a-74d2-449e-b5fe-e9cc0c9f1bd5",
   "metadata": {},
   "source": [
    "En caso de desear renombrar una columna en un dataframe llamado *df* se puede utilizar:   \n",
    "`df.rename(columns={'nombre_anterior': 'nombre_nuevo'})`  \n",
    "que sobreescribe el DataFrame con el nuevo nombre."
   ]
  },
  {
   "cell_type": "code",
   "execution_count": 11,
   "id": "03528284-d34d-4282-9a07-5bd0e9ec1565",
   "metadata": {
    "tags": []
   },
   "outputs": [
    {
     "data": {
      "text/plain": [
       "Index(['operacion', 'tipo', 'municipio', 'colonia', 'preciomillones',\n",
       "       'recamaras', 'banos', 'construccion', 'preciom2'],\n",
       "      dtype='object')"
      ]
     },
     "execution_count": 11,
     "metadata": {},
     "output_type": "execute_result"
    }
   ],
   "source": [
    "df = df.rename(columns={'baños':'banos'})\n",
    "df.columns"
   ]
  },
  {
   "cell_type": "markdown",
   "id": "c82bddcb-4463-45ab-a137-4c23093c8e9b",
   "metadata": {},
   "source": [
    "Si deseas borrar una columna puedes utilizar `df.drop(columns=['nombre_columna'])`."
   ]
  },
  {
   "cell_type": "code",
   "execution_count": 12,
   "id": "4311c498-7b31-4b99-8ca2-2cbd6c8e7082",
   "metadata": {
    "tags": []
   },
   "outputs": [
    {
     "data": {
      "text/html": [
       "<div>\n",
       "<style scoped>\n",
       "    .dataframe tbody tr th:only-of-type {\n",
       "        vertical-align: middle;\n",
       "    }\n",
       "\n",
       "    .dataframe tbody tr th {\n",
       "        vertical-align: top;\n",
       "    }\n",
       "\n",
       "    .dataframe thead th {\n",
       "        text-align: right;\n",
       "    }\n",
       "</style>\n",
       "<table border=\"1\" class=\"dataframe\">\n",
       "  <thead>\n",
       "    <tr style=\"text-align: right;\">\n",
       "      <th></th>\n",
       "      <th>operacion</th>\n",
       "      <th>tipo</th>\n",
       "      <th>municipio</th>\n",
       "      <th>preciomillones</th>\n",
       "      <th>recamaras</th>\n",
       "      <th>banos</th>\n",
       "      <th>construccion</th>\n",
       "      <th>preciom2</th>\n",
       "    </tr>\n",
       "  </thead>\n",
       "  <tbody>\n",
       "    <tr>\n",
       "      <th>0</th>\n",
       "      <td>Venta</td>\n",
       "      <td>1</td>\n",
       "      <td>San Pedro Garza García</td>\n",
       "      <td>4.20</td>\n",
       "      <td>3</td>\n",
       "      <td>2.0</td>\n",
       "      <td>130</td>\n",
       "      <td>32307.692308</td>\n",
       "    </tr>\n",
       "    <tr>\n",
       "      <th>1</th>\n",
       "      <td>Venta</td>\n",
       "      <td>0</td>\n",
       "      <td>San Pedro Garza García</td>\n",
       "      <td>5.10</td>\n",
       "      <td>3</td>\n",
       "      <td>5.0</td>\n",
       "      <td>280</td>\n",
       "      <td>18214.285714</td>\n",
       "    </tr>\n",
       "    <tr>\n",
       "      <th>2</th>\n",
       "      <td>Venta</td>\n",
       "      <td>1</td>\n",
       "      <td>San Pedro Garza García</td>\n",
       "      <td>5.50</td>\n",
       "      <td>2</td>\n",
       "      <td>2.0</td>\n",
       "      <td>112</td>\n",
       "      <td>49107.142857</td>\n",
       "    </tr>\n",
       "    <tr>\n",
       "      <th>3</th>\n",
       "      <td>Venta</td>\n",
       "      <td>1</td>\n",
       "      <td>San Pedro Garza García</td>\n",
       "      <td>5.70</td>\n",
       "      <td>2</td>\n",
       "      <td>2.0</td>\n",
       "      <td>112</td>\n",
       "      <td>50892.857143</td>\n",
       "    </tr>\n",
       "    <tr>\n",
       "      <th>4</th>\n",
       "      <td>Venta</td>\n",
       "      <td>1</td>\n",
       "      <td>San Pedro Garza García</td>\n",
       "      <td>5.80</td>\n",
       "      <td>2</td>\n",
       "      <td>2.0</td>\n",
       "      <td>112</td>\n",
       "      <td>51785.714286</td>\n",
       "    </tr>\n",
       "    <tr>\n",
       "      <th>...</th>\n",
       "      <td>...</td>\n",
       "      <td>...</td>\n",
       "      <td>...</td>\n",
       "      <td>...</td>\n",
       "      <td>...</td>\n",
       "      <td>...</td>\n",
       "      <td>...</td>\n",
       "      <td>...</td>\n",
       "    </tr>\n",
       "    <tr>\n",
       "      <th>149</th>\n",
       "      <td>Venta</td>\n",
       "      <td>0</td>\n",
       "      <td>San Pedro Garza García</td>\n",
       "      <td>47.00</td>\n",
       "      <td>3</td>\n",
       "      <td>5.0</td>\n",
       "      <td>950</td>\n",
       "      <td>49473.684211</td>\n",
       "    </tr>\n",
       "    <tr>\n",
       "      <th>150</th>\n",
       "      <td>Venta</td>\n",
       "      <td>0</td>\n",
       "      <td>San Pedro Garza García</td>\n",
       "      <td>47.00</td>\n",
       "      <td>3</td>\n",
       "      <td>4.0</td>\n",
       "      <td>950</td>\n",
       "      <td>49473.684211</td>\n",
       "    </tr>\n",
       "    <tr>\n",
       "      <th>151</th>\n",
       "      <td>Venta</td>\n",
       "      <td>0</td>\n",
       "      <td>San Pedro Garza García</td>\n",
       "      <td>49.00</td>\n",
       "      <td>4</td>\n",
       "      <td>5.0</td>\n",
       "      <td>960</td>\n",
       "      <td>51041.666667</td>\n",
       "    </tr>\n",
       "    <tr>\n",
       "      <th>152</th>\n",
       "      <td>Venta</td>\n",
       "      <td>0</td>\n",
       "      <td>San Pedro Garza García</td>\n",
       "      <td>49.00</td>\n",
       "      <td>4</td>\n",
       "      <td>4.0</td>\n",
       "      <td>960</td>\n",
       "      <td>51041.666667</td>\n",
       "    </tr>\n",
       "    <tr>\n",
       "      <th>153</th>\n",
       "      <td>Venta</td>\n",
       "      <td>0</td>\n",
       "      <td>San Pedro Garza García</td>\n",
       "      <td>49.98</td>\n",
       "      <td>4</td>\n",
       "      <td>6.0</td>\n",
       "      <td>1100</td>\n",
       "      <td>45436.363636</td>\n",
       "    </tr>\n",
       "  </tbody>\n",
       "</table>\n",
       "<p>154 rows × 8 columns</p>\n",
       "</div>"
      ],
      "text/plain": [
       "    operacion  tipo               municipio  preciomillones  recamaras  banos  \\\n",
       "0       Venta     1  San Pedro Garza García            4.20          3    2.0   \n",
       "1       Venta     0  San Pedro Garza García            5.10          3    5.0   \n",
       "2       Venta     1  San Pedro Garza García            5.50          2    2.0   \n",
       "3       Venta     1  San Pedro Garza García            5.70          2    2.0   \n",
       "4       Venta     1  San Pedro Garza García            5.80          2    2.0   \n",
       "..        ...   ...                     ...             ...        ...    ...   \n",
       "149     Venta     0  San Pedro Garza García           47.00          3    5.0   \n",
       "150     Venta     0  San Pedro Garza García           47.00          3    4.0   \n",
       "151     Venta     0  San Pedro Garza García           49.00          4    5.0   \n",
       "152     Venta     0  San Pedro Garza García           49.00          4    4.0   \n",
       "153     Venta     0  San Pedro Garza García           49.98          4    6.0   \n",
       "\n",
       "     construccion      preciom2  \n",
       "0             130  32307.692308  \n",
       "1             280  18214.285714  \n",
       "2             112  49107.142857  \n",
       "3             112  50892.857143  \n",
       "4             112  51785.714286  \n",
       "..            ...           ...  \n",
       "149           950  49473.684211  \n",
       "150           950  49473.684211  \n",
       "151           960  51041.666667  \n",
       "152           960  51041.666667  \n",
       "153          1100  45436.363636  \n",
       "\n",
       "[154 rows x 8 columns]"
      ]
     },
     "execution_count": 12,
     "metadata": {},
     "output_type": "execute_result"
    }
   ],
   "source": [
    "df = df.drop(columns=['colonia'])\n",
    "df"
   ]
  },
  {
   "cell_type": "markdown",
   "id": "c1529e4e-bd2d-4460-99d4-9e5257d5a0d3",
   "metadata": {
    "tags": []
   },
   "source": [
    "### Revisa los datos perdidos\n",
    "Es importante identificar los datos perdidos en un dataframe. Aunque en algunos casos son omitidos automáticamente, muchos procedimientos requieren que se tenga una matriz completa sin datos perdidos. \n",
    "\n",
    "Pandas utiliza el símbolo *NaN* (Not a number) para indicar datos numéricos perdidos (específicamente, datos perdidos de punto flotante). Si son datos de series de tiempo (*datatime*) son indicados como *NaT*.\n",
    "\n",
    "Una forma rápida de consultar los datos perdidos en un dataframe es mediante el método `info()`. Al utilizarlo se mostrará el nombre de cada columna y el total de registros (*non-null values*)"
   ]
  },
  {
   "cell_type": "code",
   "execution_count": 13,
   "id": "01256929-37cb-41ef-99d4-379fe8843312",
   "metadata": {},
   "outputs": [
    {
     "name": "stdout",
     "output_type": "stream",
     "text": [
      "<class 'pandas.core.frame.DataFrame'>\n",
      "RangeIndex: 154 entries, 0 to 153\n",
      "Data columns (total 8 columns):\n",
      " #   Column          Non-Null Count  Dtype  \n",
      "---  ------          --------------  -----  \n",
      " 0   operacion       154 non-null    object \n",
      " 1   tipo            154 non-null    int64  \n",
      " 2   municipio       154 non-null    object \n",
      " 3   preciomillones  154 non-null    float64\n",
      " 4   recamaras       154 non-null    int64  \n",
      " 5   banos           154 non-null    float64\n",
      " 6   construccion    154 non-null    int64  \n",
      " 7   preciom2        154 non-null    float64\n",
      "dtypes: float64(3), int64(3), object(2)\n",
      "memory usage: 9.8+ KB\n"
     ]
    }
   ],
   "source": [
    "df.info()"
   ]
  },
  {
   "cell_type": "markdown",
   "id": "85195b1d-a0af-4b27-9cf5-fe03f4480659",
   "metadata": {},
   "source": [
    "Para revisar los valores perdidos en una variable puedes usar los métodos `isna()` o `notna()`, que arrojarán *True* o *False* para elemento según corresponda. Puedes contar el número de valores perdidos encadenando `sum()` y especificar incluso la variable:"
   ]
  },
  {
   "cell_type": "code",
   "execution_count": 14,
   "id": "87eadd58-5378-48b8-93f3-98cc2206bd7c",
   "metadata": {},
   "outputs": [
    {
     "data": {
      "text/plain": [
       "0"
      ]
     },
     "execution_count": 14,
     "metadata": {},
     "output_type": "execute_result"
    }
   ],
   "source": [
    "df.recamaras.isna().sum()"
   ]
  },
  {
   "cell_type": "markdown",
   "id": "4706a9f7-c901-4725-a6cb-233478daafd6",
   "metadata": {},
   "source": [
    "Pandas reconoce automáticamente algunos formatos de valores perdidos como *NA* o *NULL* pero considera que en muchas bases de datos los valores perdidos tienen algún código numérico como 99 o incluso 0."
   ]
  },
  {
   "cell_type": "markdown",
   "id": "d6978ebe-de83-4e2e-9969-aba1976782da",
   "metadata": {},
   "source": [
    "Para borrar los datos perdidos puedes utilizar `df.dropna()` para borrar las filas con valores perdidos. Se puede sobrescribir el DataFrame con los cambios utilizando `df = df.dropna()` o bien con: `df.dropna(inplace=True)`"
   ]
  },
  {
   "cell_type": "code",
   "execution_count": 15,
   "id": "9402d6e0-1fda-4ccf-924b-9228a440389c",
   "metadata": {},
   "outputs": [],
   "source": [
    "df = df.dropna()"
   ]
  },
  {
   "cell_type": "markdown",
   "id": "42af342b-e218-41e3-84f0-0112d5f998dc",
   "metadata": {},
   "source": [
    "### Revisa los tipos de datos"
   ]
  },
  {
   "cell_type": "markdown",
   "id": "e2d963d3-7d18-4e30-b378-47bfc978c93c",
   "metadata": {},
   "source": [
    "Para identicar qué tipo de dato es cada variable se puede utilizar el atributo `dtypes`."
   ]
  },
  {
   "cell_type": "code",
   "execution_count": 16,
   "id": "1d1aa583-5bed-44d9-a535-4498a36330f1",
   "metadata": {},
   "outputs": [
    {
     "data": {
      "text/plain": [
       "operacion          object\n",
       "tipo                int64\n",
       "municipio          object\n",
       "preciomillones    float64\n",
       "recamaras           int64\n",
       "banos             float64\n",
       "construccion        int64\n",
       "preciom2          float64\n",
       "dtype: object"
      ]
     },
     "execution_count": 16,
     "metadata": {},
     "output_type": "execute_result"
    }
   ],
   "source": [
    "df.dtypes"
   ]
  },
  {
   "cell_type": "markdown",
   "id": "1d1f0f6f-c59f-474f-8b89-fe7a50d7659e",
   "metadata": {},
   "source": [
    "Puedes cambiar un tipo de dato a otro mediante el método `astype()`. Por ejemplo, si X debe ser *float* se puede usar `df.X.astype(float)`"
   ]
  },
  {
   "cell_type": "code",
   "execution_count": 17,
   "id": "6cedd615-c496-46f6-9dce-bf9a44a91c8d",
   "metadata": {
    "tags": []
   },
   "outputs": [
    {
     "data": {
      "text/plain": [
       "operacion          object\n",
       "tipo               object\n",
       "municipio          object\n",
       "preciomillones    float64\n",
       "recamaras           int64\n",
       "banos             float64\n",
       "construccion        int64\n",
       "preciom2          float64\n",
       "dtype: object"
      ]
     },
     "execution_count": 17,
     "metadata": {},
     "output_type": "execute_result"
    }
   ],
   "source": [
    "df['tipo'] = df['tipo'].astype(object)\n",
    "df.dtypes"
   ]
  },
  {
   "cell_type": "markdown",
   "id": "6f6e4e8f-ba4c-4eb8-9b53-ace1e879eef5",
   "metadata": {},
   "source": [
    "### Cálculo de estadística descriptiva\n",
    "Aunque este tema se revisará a detalle más adelante, se puede utilizar `df.describe()` para obtener de manera general la estadística descriptiva."
   ]
  },
  {
   "cell_type": "code",
   "execution_count": 18,
   "id": "9760a7aa-55b9-442a-8d40-916b16426238",
   "metadata": {
    "tags": []
   },
   "outputs": [
    {
     "data": {
      "text/html": [
       "<div>\n",
       "<style scoped>\n",
       "    .dataframe tbody tr th:only-of-type {\n",
       "        vertical-align: middle;\n",
       "    }\n",
       "\n",
       "    .dataframe tbody tr th {\n",
       "        vertical-align: top;\n",
       "    }\n",
       "\n",
       "    .dataframe thead th {\n",
       "        text-align: right;\n",
       "    }\n",
       "</style>\n",
       "<table border=\"1\" class=\"dataframe\">\n",
       "  <thead>\n",
       "    <tr style=\"text-align: right;\">\n",
       "      <th></th>\n",
       "      <th>preciomillones</th>\n",
       "      <th>recamaras</th>\n",
       "      <th>banos</th>\n",
       "      <th>construccion</th>\n",
       "      <th>preciom2</th>\n",
       "    </tr>\n",
       "  </thead>\n",
       "  <tbody>\n",
       "    <tr>\n",
       "      <th>count</th>\n",
       "      <td>154.000000</td>\n",
       "      <td>154.000000</td>\n",
       "      <td>154.000000</td>\n",
       "      <td>154.000000</td>\n",
       "      <td>154.000000</td>\n",
       "    </tr>\n",
       "    <tr>\n",
       "      <th>mean</th>\n",
       "      <td>19.226234</td>\n",
       "      <td>3.175325</td>\n",
       "      <td>3.727273</td>\n",
       "      <td>450.311688</td>\n",
       "      <td>41673.282911</td>\n",
       "    </tr>\n",
       "    <tr>\n",
       "      <th>std</th>\n",
       "      <td>10.509965</td>\n",
       "      <td>0.667970</td>\n",
       "      <td>1.199252</td>\n",
       "      <td>194.372176</td>\n",
       "      <td>8675.386644</td>\n",
       "    </tr>\n",
       "    <tr>\n",
       "      <th>min</th>\n",
       "      <td>4.200000</td>\n",
       "      <td>2.000000</td>\n",
       "      <td>2.000000</td>\n",
       "      <td>112.000000</td>\n",
       "      <td>18214.285714</td>\n",
       "    </tr>\n",
       "    <tr>\n",
       "      <th>25%</th>\n",
       "      <td>10.520000</td>\n",
       "      <td>3.000000</td>\n",
       "      <td>3.000000</td>\n",
       "      <td>275.000000</td>\n",
       "      <td>36981.581109</td>\n",
       "    </tr>\n",
       "    <tr>\n",
       "      <th>50%</th>\n",
       "      <td>18.035000</td>\n",
       "      <td>3.000000</td>\n",
       "      <td>4.000000</td>\n",
       "      <td>474.000000</td>\n",
       "      <td>41020.440252</td>\n",
       "    </tr>\n",
       "    <tr>\n",
       "      <th>75%</th>\n",
       "      <td>26.500000</td>\n",
       "      <td>4.000000</td>\n",
       "      <td>5.000000</td>\n",
       "      <td>584.750000</td>\n",
       "      <td>47116.968699</td>\n",
       "    </tr>\n",
       "    <tr>\n",
       "      <th>max</th>\n",
       "      <td>49.980000</td>\n",
       "      <td>6.000000</td>\n",
       "      <td>8.000000</td>\n",
       "      <td>1100.000000</td>\n",
       "      <td>72580.645161</td>\n",
       "    </tr>\n",
       "  </tbody>\n",
       "</table>\n",
       "</div>"
      ],
      "text/plain": [
       "       preciomillones   recamaras       banos  construccion      preciom2\n",
       "count      154.000000  154.000000  154.000000    154.000000    154.000000\n",
       "mean        19.226234    3.175325    3.727273    450.311688  41673.282911\n",
       "std         10.509965    0.667970    1.199252    194.372176   8675.386644\n",
       "min          4.200000    2.000000    2.000000    112.000000  18214.285714\n",
       "25%         10.520000    3.000000    3.000000    275.000000  36981.581109\n",
       "50%         18.035000    3.000000    4.000000    474.000000  41020.440252\n",
       "75%         26.500000    4.000000    5.000000    584.750000  47116.968699\n",
       "max         49.980000    6.000000    8.000000   1100.000000  72580.645161"
      ]
     },
     "execution_count": 18,
     "metadata": {},
     "output_type": "execute_result"
    }
   ],
   "source": [
    "df.describe()"
   ]
  },
  {
   "cell_type": "markdown",
   "id": "b45942b4-147e-44af-ac1f-7a742b738ac5",
   "metadata": {},
   "source": [
    "## 3.3 Consulta y filtrado de dataframes\n",
    "Pandas tiene un método `query()`en el cual se introduce una expresión booleana y arroja un subconjunto del dataframe en el cual la expresión booleana es verdadera."
   ]
  },
  {
   "cell_type": "code",
   "execution_count": 19,
   "id": "73e2600d-7d39-491d-b572-fa46fc6060cf",
   "metadata": {},
   "outputs": [
    {
     "data": {
      "text/html": [
       "<div>\n",
       "<style scoped>\n",
       "    .dataframe tbody tr th:only-of-type {\n",
       "        vertical-align: middle;\n",
       "    }\n",
       "\n",
       "    .dataframe tbody tr th {\n",
       "        vertical-align: top;\n",
       "    }\n",
       "\n",
       "    .dataframe thead th {\n",
       "        text-align: right;\n",
       "    }\n",
       "</style>\n",
       "<table border=\"1\" class=\"dataframe\">\n",
       "  <thead>\n",
       "    <tr style=\"text-align: right;\">\n",
       "      <th></th>\n",
       "      <th>operacion</th>\n",
       "      <th>tipo</th>\n",
       "      <th>municipio</th>\n",
       "      <th>preciomillones</th>\n",
       "      <th>recamaras</th>\n",
       "      <th>banos</th>\n",
       "      <th>construccion</th>\n",
       "      <th>preciom2</th>\n",
       "    </tr>\n",
       "  </thead>\n",
       "  <tbody>\n",
       "    <tr>\n",
       "      <th>0</th>\n",
       "      <td>Venta</td>\n",
       "      <td>1</td>\n",
       "      <td>San Pedro Garza García</td>\n",
       "      <td>4.20</td>\n",
       "      <td>3</td>\n",
       "      <td>2.0</td>\n",
       "      <td>130</td>\n",
       "      <td>32307.692308</td>\n",
       "    </tr>\n",
       "    <tr>\n",
       "      <th>2</th>\n",
       "      <td>Venta</td>\n",
       "      <td>1</td>\n",
       "      <td>San Pedro Garza García</td>\n",
       "      <td>5.50</td>\n",
       "      <td>2</td>\n",
       "      <td>2.0</td>\n",
       "      <td>112</td>\n",
       "      <td>49107.142857</td>\n",
       "    </tr>\n",
       "    <tr>\n",
       "      <th>3</th>\n",
       "      <td>Venta</td>\n",
       "      <td>1</td>\n",
       "      <td>San Pedro Garza García</td>\n",
       "      <td>5.70</td>\n",
       "      <td>2</td>\n",
       "      <td>2.0</td>\n",
       "      <td>112</td>\n",
       "      <td>50892.857143</td>\n",
       "    </tr>\n",
       "    <tr>\n",
       "      <th>4</th>\n",
       "      <td>Venta</td>\n",
       "      <td>1</td>\n",
       "      <td>San Pedro Garza García</td>\n",
       "      <td>5.80</td>\n",
       "      <td>2</td>\n",
       "      <td>2.0</td>\n",
       "      <td>112</td>\n",
       "      <td>51785.714286</td>\n",
       "    </tr>\n",
       "    <tr>\n",
       "      <th>6</th>\n",
       "      <td>Venta</td>\n",
       "      <td>0</td>\n",
       "      <td>San Pedro Garza García</td>\n",
       "      <td>6.11</td>\n",
       "      <td>2</td>\n",
       "      <td>2.0</td>\n",
       "      <td>135</td>\n",
       "      <td>45259.259259</td>\n",
       "    </tr>\n",
       "    <tr>\n",
       "      <th>7</th>\n",
       "      <td>Venta</td>\n",
       "      <td>1</td>\n",
       "      <td>San Pedro Garza García</td>\n",
       "      <td>6.20</td>\n",
       "      <td>2</td>\n",
       "      <td>2.0</td>\n",
       "      <td>129</td>\n",
       "      <td>48062.015504</td>\n",
       "    </tr>\n",
       "  </tbody>\n",
       "</table>\n",
       "</div>"
      ],
      "text/plain": [
       "  operacion tipo               municipio  preciomillones  recamaras  banos  \\\n",
       "0     Venta    1  San Pedro Garza García            4.20          3    2.0   \n",
       "2     Venta    1  San Pedro Garza García            5.50          2    2.0   \n",
       "3     Venta    1  San Pedro Garza García            5.70          2    2.0   \n",
       "4     Venta    1  San Pedro Garza García            5.80          2    2.0   \n",
       "6     Venta    0  San Pedro Garza García            6.11          2    2.0   \n",
       "7     Venta    1  San Pedro Garza García            6.20          2    2.0   \n",
       "\n",
       "   construccion      preciom2  \n",
       "0           130  32307.692308  \n",
       "2           112  49107.142857  \n",
       "3           112  50892.857143  \n",
       "4           112  51785.714286  \n",
       "6           135  45259.259259  \n",
       "7           129  48062.015504  "
      ]
     },
     "execution_count": 19,
     "metadata": {},
     "output_type": "execute_result"
    }
   ],
   "source": [
    "df.query('construccion < 150')"
   ]
  },
  {
   "cell_type": "markdown",
   "id": "3d9e192c-b035-485e-8542-d262d781c87d",
   "metadata": {},
   "source": [
    "Las consultas se pueden ser más complejas, por ejemplo"
   ]
  },
  {
   "cell_type": "code",
   "execution_count": 20,
   "id": "7788124e-9dcb-411d-a16e-7b8aa51f9fef",
   "metadata": {
    "tags": []
   },
   "outputs": [
    {
     "data": {
      "text/html": [
       "<div>\n",
       "<style scoped>\n",
       "    .dataframe tbody tr th:only-of-type {\n",
       "        vertical-align: middle;\n",
       "    }\n",
       "\n",
       "    .dataframe tbody tr th {\n",
       "        vertical-align: top;\n",
       "    }\n",
       "\n",
       "    .dataframe thead th {\n",
       "        text-align: right;\n",
       "    }\n",
       "</style>\n",
       "<table border=\"1\" class=\"dataframe\">\n",
       "  <thead>\n",
       "    <tr style=\"text-align: right;\">\n",
       "      <th></th>\n",
       "      <th>operacion</th>\n",
       "      <th>tipo</th>\n",
       "      <th>municipio</th>\n",
       "      <th>preciomillones</th>\n",
       "      <th>recamaras</th>\n",
       "      <th>banos</th>\n",
       "      <th>construccion</th>\n",
       "      <th>preciom2</th>\n",
       "    </tr>\n",
       "  </thead>\n",
       "  <tbody>\n",
       "    <tr>\n",
       "      <th>2</th>\n",
       "      <td>Venta</td>\n",
       "      <td>1</td>\n",
       "      <td>San Pedro Garza García</td>\n",
       "      <td>5.50</td>\n",
       "      <td>2</td>\n",
       "      <td>2.0</td>\n",
       "      <td>112</td>\n",
       "      <td>49107.142857</td>\n",
       "    </tr>\n",
       "    <tr>\n",
       "      <th>3</th>\n",
       "      <td>Venta</td>\n",
       "      <td>1</td>\n",
       "      <td>San Pedro Garza García</td>\n",
       "      <td>5.70</td>\n",
       "      <td>2</td>\n",
       "      <td>2.0</td>\n",
       "      <td>112</td>\n",
       "      <td>50892.857143</td>\n",
       "    </tr>\n",
       "    <tr>\n",
       "      <th>4</th>\n",
       "      <td>Venta</td>\n",
       "      <td>1</td>\n",
       "      <td>San Pedro Garza García</td>\n",
       "      <td>5.80</td>\n",
       "      <td>2</td>\n",
       "      <td>2.0</td>\n",
       "      <td>112</td>\n",
       "      <td>51785.714286</td>\n",
       "    </tr>\n",
       "    <tr>\n",
       "      <th>6</th>\n",
       "      <td>Venta</td>\n",
       "      <td>0</td>\n",
       "      <td>San Pedro Garza García</td>\n",
       "      <td>6.11</td>\n",
       "      <td>2</td>\n",
       "      <td>2.0</td>\n",
       "      <td>135</td>\n",
       "      <td>45259.259259</td>\n",
       "    </tr>\n",
       "    <tr>\n",
       "      <th>7</th>\n",
       "      <td>Venta</td>\n",
       "      <td>1</td>\n",
       "      <td>San Pedro Garza García</td>\n",
       "      <td>6.20</td>\n",
       "      <td>2</td>\n",
       "      <td>2.0</td>\n",
       "      <td>129</td>\n",
       "      <td>48062.015504</td>\n",
       "    </tr>\n",
       "  </tbody>\n",
       "</table>\n",
       "</div>"
      ],
      "text/plain": [
       "  operacion tipo               municipio  preciomillones  recamaras  banos  \\\n",
       "2     Venta    1  San Pedro Garza García            5.50          2    2.0   \n",
       "3     Venta    1  San Pedro Garza García            5.70          2    2.0   \n",
       "4     Venta    1  San Pedro Garza García            5.80          2    2.0   \n",
       "6     Venta    0  San Pedro Garza García            6.11          2    2.0   \n",
       "7     Venta    1  San Pedro Garza García            6.20          2    2.0   \n",
       "\n",
       "   construccion      preciom2  \n",
       "2           112  49107.142857  \n",
       "3           112  50892.857143  \n",
       "4           112  51785.714286  \n",
       "6           135  45259.259259  \n",
       "7           129  48062.015504  "
      ]
     },
     "execution_count": 20,
     "metadata": {},
     "output_type": "execute_result"
    }
   ],
   "source": [
    "df.query('construccion < 150 and recamaras == 2')"
   ]
  },
  {
   "cell_type": "markdown",
   "id": "0e1d0076-3805-426e-838c-664e39b26e34",
   "metadata": {},
   "source": [
    "En el ejemplo anterior, observe que se utilizó el doble signo de igualdad `==`. Se utiliza así cuando el objetivo es la comparación de valores"
   ]
  },
  {
   "cell_type": "markdown",
   "id": "1319b6bb-ccea-4319-a81f-285f8a9aaf11",
   "metadata": {},
   "source": [
    "Otra opción para filtrar con condiciones es escribir la condición dentro de los corchetes"
   ]
  },
  {
   "cell_type": "code",
   "execution_count": 21,
   "id": "86474bad-9d56-44e4-b58d-25838e50789d",
   "metadata": {
    "tags": []
   },
   "outputs": [
    {
     "data": {
      "text/html": [
       "<div>\n",
       "<style scoped>\n",
       "    .dataframe tbody tr th:only-of-type {\n",
       "        vertical-align: middle;\n",
       "    }\n",
       "\n",
       "    .dataframe tbody tr th {\n",
       "        vertical-align: top;\n",
       "    }\n",
       "\n",
       "    .dataframe thead th {\n",
       "        text-align: right;\n",
       "    }\n",
       "</style>\n",
       "<table border=\"1\" class=\"dataframe\">\n",
       "  <thead>\n",
       "    <tr style=\"text-align: right;\">\n",
       "      <th></th>\n",
       "      <th>operacion</th>\n",
       "      <th>tipo</th>\n",
       "      <th>municipio</th>\n",
       "      <th>preciomillones</th>\n",
       "      <th>recamaras</th>\n",
       "      <th>banos</th>\n",
       "      <th>construccion</th>\n",
       "      <th>preciom2</th>\n",
       "    </tr>\n",
       "  </thead>\n",
       "  <tbody>\n",
       "    <tr>\n",
       "      <th>0</th>\n",
       "      <td>Venta</td>\n",
       "      <td>1</td>\n",
       "      <td>San Pedro Garza García</td>\n",
       "      <td>4.20</td>\n",
       "      <td>3</td>\n",
       "      <td>2.0</td>\n",
       "      <td>130</td>\n",
       "      <td>32307.692308</td>\n",
       "    </tr>\n",
       "    <tr>\n",
       "      <th>2</th>\n",
       "      <td>Venta</td>\n",
       "      <td>1</td>\n",
       "      <td>San Pedro Garza García</td>\n",
       "      <td>5.50</td>\n",
       "      <td>2</td>\n",
       "      <td>2.0</td>\n",
       "      <td>112</td>\n",
       "      <td>49107.142857</td>\n",
       "    </tr>\n",
       "    <tr>\n",
       "      <th>3</th>\n",
       "      <td>Venta</td>\n",
       "      <td>1</td>\n",
       "      <td>San Pedro Garza García</td>\n",
       "      <td>5.70</td>\n",
       "      <td>2</td>\n",
       "      <td>2.0</td>\n",
       "      <td>112</td>\n",
       "      <td>50892.857143</td>\n",
       "    </tr>\n",
       "    <tr>\n",
       "      <th>4</th>\n",
       "      <td>Venta</td>\n",
       "      <td>1</td>\n",
       "      <td>San Pedro Garza García</td>\n",
       "      <td>5.80</td>\n",
       "      <td>2</td>\n",
       "      <td>2.0</td>\n",
       "      <td>112</td>\n",
       "      <td>51785.714286</td>\n",
       "    </tr>\n",
       "    <tr>\n",
       "      <th>6</th>\n",
       "      <td>Venta</td>\n",
       "      <td>0</td>\n",
       "      <td>San Pedro Garza García</td>\n",
       "      <td>6.11</td>\n",
       "      <td>2</td>\n",
       "      <td>2.0</td>\n",
       "      <td>135</td>\n",
       "      <td>45259.259259</td>\n",
       "    </tr>\n",
       "    <tr>\n",
       "      <th>7</th>\n",
       "      <td>Venta</td>\n",
       "      <td>1</td>\n",
       "      <td>San Pedro Garza García</td>\n",
       "      <td>6.20</td>\n",
       "      <td>2</td>\n",
       "      <td>2.0</td>\n",
       "      <td>129</td>\n",
       "      <td>48062.015504</td>\n",
       "    </tr>\n",
       "  </tbody>\n",
       "</table>\n",
       "</div>"
      ],
      "text/plain": [
       "  operacion tipo               municipio  preciomillones  recamaras  banos  \\\n",
       "0     Venta    1  San Pedro Garza García            4.20          3    2.0   \n",
       "2     Venta    1  San Pedro Garza García            5.50          2    2.0   \n",
       "3     Venta    1  San Pedro Garza García            5.70          2    2.0   \n",
       "4     Venta    1  San Pedro Garza García            5.80          2    2.0   \n",
       "6     Venta    0  San Pedro Garza García            6.11          2    2.0   \n",
       "7     Venta    1  San Pedro Garza García            6.20          2    2.0   \n",
       "\n",
       "   construccion      preciom2  \n",
       "0           130  32307.692308  \n",
       "2           112  49107.142857  \n",
       "3           112  50892.857143  \n",
       "4           112  51785.714286  \n",
       "6           135  45259.259259  \n",
       "7           129  48062.015504  "
      ]
     },
     "execution_count": 21,
     "metadata": {},
     "output_type": "execute_result"
    }
   ],
   "source": [
    "df[df['construccion'] < 150]"
   ]
  },
  {
   "cell_type": "markdown",
   "id": "61c745ee-90f4-4eae-a42d-441d421f1b58",
   "metadata": {},
   "source": [
    "En el ejemplo anterior `df['construccion']` sirve para identificar una columna, luego `df['construccion'] < 150` hace una comparación cuyo resultado es una serie booleana y finalmente, al usar `df[...]` Pandas selecciona solamente las filas para las cuales el resultado es `True`"
   ]
  },
  {
   "cell_type": "markdown",
   "id": "83403132-40c1-43e3-9f39-78302007b345",
   "metadata": {},
   "source": [
    "Si son dos condiciones, cada condición va dentro de un paréntesis"
   ]
  },
  {
   "cell_type": "code",
   "execution_count": 22,
   "id": "d9fbb9c8-2ae6-4202-a87f-ab5be9633dff",
   "metadata": {
    "tags": []
   },
   "outputs": [
    {
     "data": {
      "text/html": [
       "<div>\n",
       "<style scoped>\n",
       "    .dataframe tbody tr th:only-of-type {\n",
       "        vertical-align: middle;\n",
       "    }\n",
       "\n",
       "    .dataframe tbody tr th {\n",
       "        vertical-align: top;\n",
       "    }\n",
       "\n",
       "    .dataframe thead th {\n",
       "        text-align: right;\n",
       "    }\n",
       "</style>\n",
       "<table border=\"1\" class=\"dataframe\">\n",
       "  <thead>\n",
       "    <tr style=\"text-align: right;\">\n",
       "      <th></th>\n",
       "      <th>operacion</th>\n",
       "      <th>tipo</th>\n",
       "      <th>municipio</th>\n",
       "      <th>preciomillones</th>\n",
       "      <th>recamaras</th>\n",
       "      <th>banos</th>\n",
       "      <th>construccion</th>\n",
       "      <th>preciom2</th>\n",
       "    </tr>\n",
       "  </thead>\n",
       "  <tbody>\n",
       "    <tr>\n",
       "      <th>2</th>\n",
       "      <td>Venta</td>\n",
       "      <td>1</td>\n",
       "      <td>San Pedro Garza García</td>\n",
       "      <td>5.50</td>\n",
       "      <td>2</td>\n",
       "      <td>2.0</td>\n",
       "      <td>112</td>\n",
       "      <td>49107.142857</td>\n",
       "    </tr>\n",
       "    <tr>\n",
       "      <th>3</th>\n",
       "      <td>Venta</td>\n",
       "      <td>1</td>\n",
       "      <td>San Pedro Garza García</td>\n",
       "      <td>5.70</td>\n",
       "      <td>2</td>\n",
       "      <td>2.0</td>\n",
       "      <td>112</td>\n",
       "      <td>50892.857143</td>\n",
       "    </tr>\n",
       "    <tr>\n",
       "      <th>4</th>\n",
       "      <td>Venta</td>\n",
       "      <td>1</td>\n",
       "      <td>San Pedro Garza García</td>\n",
       "      <td>5.80</td>\n",
       "      <td>2</td>\n",
       "      <td>2.0</td>\n",
       "      <td>112</td>\n",
       "      <td>51785.714286</td>\n",
       "    </tr>\n",
       "    <tr>\n",
       "      <th>6</th>\n",
       "      <td>Venta</td>\n",
       "      <td>0</td>\n",
       "      <td>San Pedro Garza García</td>\n",
       "      <td>6.11</td>\n",
       "      <td>2</td>\n",
       "      <td>2.0</td>\n",
       "      <td>135</td>\n",
       "      <td>45259.259259</td>\n",
       "    </tr>\n",
       "    <tr>\n",
       "      <th>7</th>\n",
       "      <td>Venta</td>\n",
       "      <td>1</td>\n",
       "      <td>San Pedro Garza García</td>\n",
       "      <td>6.20</td>\n",
       "      <td>2</td>\n",
       "      <td>2.0</td>\n",
       "      <td>129</td>\n",
       "      <td>48062.015504</td>\n",
       "    </tr>\n",
       "  </tbody>\n",
       "</table>\n",
       "</div>"
      ],
      "text/plain": [
       "  operacion tipo               municipio  preciomillones  recamaras  banos  \\\n",
       "2     Venta    1  San Pedro Garza García            5.50          2    2.0   \n",
       "3     Venta    1  San Pedro Garza García            5.70          2    2.0   \n",
       "4     Venta    1  San Pedro Garza García            5.80          2    2.0   \n",
       "6     Venta    0  San Pedro Garza García            6.11          2    2.0   \n",
       "7     Venta    1  San Pedro Garza García            6.20          2    2.0   \n",
       "\n",
       "   construccion      preciom2  \n",
       "2           112  49107.142857  \n",
       "3           112  50892.857143  \n",
       "4           112  51785.714286  \n",
       "6           135  45259.259259  \n",
       "7           129  48062.015504  "
      ]
     },
     "execution_count": 22,
     "metadata": {},
     "output_type": "execute_result"
    }
   ],
   "source": [
    "df[(df.construccion < 150) & (df.recamaras == 2)]"
   ]
  },
  {
   "cell_type": "markdown",
   "id": "b72b6763-acd5-45c8-a96d-ab876ac7bdb2",
   "metadata": {},
   "source": [
    "Una selección avanzada de filas y columnas también se puede realizar con `.loc` con el formato `df.loc[filtro, columnas]`. Si se omiten las columnas se seleccionarán todas."
   ]
  },
  {
   "cell_type": "code",
   "execution_count": 23,
   "id": "19a778bd-db3a-4932-80a2-e1129b14f503",
   "metadata": {},
   "outputs": [
    {
     "data": {
      "text/html": [
       "<div>\n",
       "<style scoped>\n",
       "    .dataframe tbody tr th:only-of-type {\n",
       "        vertical-align: middle;\n",
       "    }\n",
       "\n",
       "    .dataframe tbody tr th {\n",
       "        vertical-align: top;\n",
       "    }\n",
       "\n",
       "    .dataframe thead th {\n",
       "        text-align: right;\n",
       "    }\n",
       "</style>\n",
       "<table border=\"1\" class=\"dataframe\">\n",
       "  <thead>\n",
       "    <tr style=\"text-align: right;\">\n",
       "      <th></th>\n",
       "      <th>construccion</th>\n",
       "      <th>recamaras</th>\n",
       "    </tr>\n",
       "  </thead>\n",
       "  <tbody>\n",
       "    <tr>\n",
       "      <th>0</th>\n",
       "      <td>130</td>\n",
       "      <td>3</td>\n",
       "    </tr>\n",
       "    <tr>\n",
       "      <th>2</th>\n",
       "      <td>112</td>\n",
       "      <td>2</td>\n",
       "    </tr>\n",
       "    <tr>\n",
       "      <th>3</th>\n",
       "      <td>112</td>\n",
       "      <td>2</td>\n",
       "    </tr>\n",
       "    <tr>\n",
       "      <th>4</th>\n",
       "      <td>112</td>\n",
       "      <td>2</td>\n",
       "    </tr>\n",
       "    <tr>\n",
       "      <th>6</th>\n",
       "      <td>135</td>\n",
       "      <td>2</td>\n",
       "    </tr>\n",
       "    <tr>\n",
       "      <th>7</th>\n",
       "      <td>129</td>\n",
       "      <td>2</td>\n",
       "    </tr>\n",
       "  </tbody>\n",
       "</table>\n",
       "</div>"
      ],
      "text/plain": [
       "   construccion  recamaras\n",
       "0           130          3\n",
       "2           112          2\n",
       "3           112          2\n",
       "4           112          2\n",
       "6           135          2\n",
       "7           129          2"
      ]
     },
     "execution_count": 23,
     "metadata": {},
     "output_type": "execute_result"
    }
   ],
   "source": [
    "df.loc[df['construccion'] < 150, ['construccion', 'recamaras']]"
   ]
  },
  {
   "cell_type": "markdown",
   "id": "9e95696a-fd74-4f5a-96f5-364be9bc42da",
   "metadata": {},
   "source": [
    "*Nota*: Al filtrar con condiciones y luego hacer modificaciones al DataFrame es posible que te arroje la siguiente advertencia:  \n",
    "`SettingWithCopyWarning: A value is trying to be set on a copy of a slice from a DataFrame`.  \n",
    "En esos casos surgen cuando Pandas no puede determinar si deseas modificar una copia del DataFrame o el DataFrame original. La alternativa para evitar este error es filtrar utilizando `.loc`.  \n",
    "Por ejemplo, supongamos que realizas lo siguiente:  \n",
    "```\n",
    "filtro = df['recamaras'] > 5  \n",
    "df[filtro]['construccion'] = 800    \n",
    "```\n",
    "Esto arrojará la advertencia `SettingWithCopyWarning`.\n",
    "La alternativa para evitarlo es:  \n",
    "```\n",
    "filtro = df['recamaras'] > 5  \n",
    "df.loc[filtro, 'construccion'] = 800  \n",
    "```\n",
    "La diferencia está en que ahora se está accediendo directamente al DataFrame original y no una copia del original"
   ]
  },
  {
   "cell_type": "code",
   "execution_count": null,
   "id": "64175b2d-c715-487a-be0a-0e90c907f1ec",
   "metadata": {},
   "outputs": [],
   "source": []
  },
  {
   "cell_type": "markdown",
   "id": "cb791b43-0b96-4918-bf61-f0c06f27e7b1",
   "metadata": {},
   "source": [
    "## 3.4 Transformaciones básicas"
   ]
  },
  {
   "cell_type": "markdown",
   "id": "4ed7c615-2a2e-4dbb-92c0-ae9c136c9197",
   "metadata": {
    "tags": []
   },
   "source": [
    "### Ordenar dataframe\n",
    "Podemos ordenar un dataframe con base en varias de las variables"
   ]
  },
  {
   "cell_type": "code",
   "execution_count": 24,
   "id": "94df0687-f7f1-4b78-96b9-2e665723aae2",
   "metadata": {
    "tags": []
   },
   "outputs": [
    {
     "data": {
      "text/html": [
       "<div>\n",
       "<style scoped>\n",
       "    .dataframe tbody tr th:only-of-type {\n",
       "        vertical-align: middle;\n",
       "    }\n",
       "\n",
       "    .dataframe tbody tr th {\n",
       "        vertical-align: top;\n",
       "    }\n",
       "\n",
       "    .dataframe thead th {\n",
       "        text-align: right;\n",
       "    }\n",
       "</style>\n",
       "<table border=\"1\" class=\"dataframe\">\n",
       "  <thead>\n",
       "    <tr style=\"text-align: right;\">\n",
       "      <th></th>\n",
       "      <th>operacion</th>\n",
       "      <th>tipo</th>\n",
       "      <th>municipio</th>\n",
       "      <th>preciomillones</th>\n",
       "      <th>recamaras</th>\n",
       "      <th>banos</th>\n",
       "      <th>construccion</th>\n",
       "      <th>preciom2</th>\n",
       "    </tr>\n",
       "  </thead>\n",
       "  <tbody>\n",
       "    <tr>\n",
       "      <th>2</th>\n",
       "      <td>Venta</td>\n",
       "      <td>1</td>\n",
       "      <td>San Pedro Garza García</td>\n",
       "      <td>5.50</td>\n",
       "      <td>2</td>\n",
       "      <td>2.0</td>\n",
       "      <td>112</td>\n",
       "      <td>49107.142857</td>\n",
       "    </tr>\n",
       "    <tr>\n",
       "      <th>3</th>\n",
       "      <td>Venta</td>\n",
       "      <td>1</td>\n",
       "      <td>San Pedro Garza García</td>\n",
       "      <td>5.70</td>\n",
       "      <td>2</td>\n",
       "      <td>2.0</td>\n",
       "      <td>112</td>\n",
       "      <td>50892.857143</td>\n",
       "    </tr>\n",
       "    <tr>\n",
       "      <th>4</th>\n",
       "      <td>Venta</td>\n",
       "      <td>1</td>\n",
       "      <td>San Pedro Garza García</td>\n",
       "      <td>5.80</td>\n",
       "      <td>2</td>\n",
       "      <td>2.0</td>\n",
       "      <td>112</td>\n",
       "      <td>51785.714286</td>\n",
       "    </tr>\n",
       "    <tr>\n",
       "      <th>5</th>\n",
       "      <td>Venta</td>\n",
       "      <td>1</td>\n",
       "      <td>San Pedro Garza García</td>\n",
       "      <td>6.00</td>\n",
       "      <td>2</td>\n",
       "      <td>2.0</td>\n",
       "      <td>211</td>\n",
       "      <td>28436.018957</td>\n",
       "    </tr>\n",
       "    <tr>\n",
       "      <th>6</th>\n",
       "      <td>Venta</td>\n",
       "      <td>0</td>\n",
       "      <td>San Pedro Garza García</td>\n",
       "      <td>6.11</td>\n",
       "      <td>2</td>\n",
       "      <td>2.0</td>\n",
       "      <td>135</td>\n",
       "      <td>45259.259259</td>\n",
       "    </tr>\n",
       "    <tr>\n",
       "      <th>...</th>\n",
       "      <td>...</td>\n",
       "      <td>...</td>\n",
       "      <td>...</td>\n",
       "      <td>...</td>\n",
       "      <td>...</td>\n",
       "      <td>...</td>\n",
       "      <td>...</td>\n",
       "      <td>...</td>\n",
       "    </tr>\n",
       "    <tr>\n",
       "      <th>144</th>\n",
       "      <td>Venta</td>\n",
       "      <td>0</td>\n",
       "      <td>San Pedro Garza García</td>\n",
       "      <td>39.50</td>\n",
       "      <td>4</td>\n",
       "      <td>7.0</td>\n",
       "      <td>762</td>\n",
       "      <td>51837.270341</td>\n",
       "    </tr>\n",
       "    <tr>\n",
       "      <th>137</th>\n",
       "      <td>Venta</td>\n",
       "      <td>0</td>\n",
       "      <td>San Pedro Garza García</td>\n",
       "      <td>31.60</td>\n",
       "      <td>4</td>\n",
       "      <td>8.0</td>\n",
       "      <td>643</td>\n",
       "      <td>49144.634526</td>\n",
       "    </tr>\n",
       "    <tr>\n",
       "      <th>28</th>\n",
       "      <td>Venta</td>\n",
       "      <td>0</td>\n",
       "      <td>San Pedro Garza García</td>\n",
       "      <td>9.60</td>\n",
       "      <td>5</td>\n",
       "      <td>5.0</td>\n",
       "      <td>340</td>\n",
       "      <td>28235.294118</td>\n",
       "    </tr>\n",
       "    <tr>\n",
       "      <th>87</th>\n",
       "      <td>Venta</td>\n",
       "      <td>0</td>\n",
       "      <td>San Pedro Garza García</td>\n",
       "      <td>18.99</td>\n",
       "      <td>5</td>\n",
       "      <td>5.0</td>\n",
       "      <td>480</td>\n",
       "      <td>39562.500000</td>\n",
       "    </tr>\n",
       "    <tr>\n",
       "      <th>145</th>\n",
       "      <td>Venta</td>\n",
       "      <td>0</td>\n",
       "      <td>San Pedro Garza García</td>\n",
       "      <td>40.00</td>\n",
       "      <td>6</td>\n",
       "      <td>4.0</td>\n",
       "      <td>775</td>\n",
       "      <td>51612.903226</td>\n",
       "    </tr>\n",
       "  </tbody>\n",
       "</table>\n",
       "<p>154 rows × 8 columns</p>\n",
       "</div>"
      ],
      "text/plain": [
       "    operacion tipo               municipio  preciomillones  recamaras  banos  \\\n",
       "2       Venta    1  San Pedro Garza García            5.50          2    2.0   \n",
       "3       Venta    1  San Pedro Garza García            5.70          2    2.0   \n",
       "4       Venta    1  San Pedro Garza García            5.80          2    2.0   \n",
       "5       Venta    1  San Pedro Garza García            6.00          2    2.0   \n",
       "6       Venta    0  San Pedro Garza García            6.11          2    2.0   \n",
       "..        ...  ...                     ...             ...        ...    ...   \n",
       "144     Venta    0  San Pedro Garza García           39.50          4    7.0   \n",
       "137     Venta    0  San Pedro Garza García           31.60          4    8.0   \n",
       "28      Venta    0  San Pedro Garza García            9.60          5    5.0   \n",
       "87      Venta    0  San Pedro Garza García           18.99          5    5.0   \n",
       "145     Venta    0  San Pedro Garza García           40.00          6    4.0   \n",
       "\n",
       "     construccion      preciom2  \n",
       "2             112  49107.142857  \n",
       "3             112  50892.857143  \n",
       "4             112  51785.714286  \n",
       "5             211  28436.018957  \n",
       "6             135  45259.259259  \n",
       "..            ...           ...  \n",
       "144           762  51837.270341  \n",
       "137           643  49144.634526  \n",
       "28            340  28235.294118  \n",
       "87            480  39562.500000  \n",
       "145           775  51612.903226  \n",
       "\n",
       "[154 rows x 8 columns]"
      ]
     },
     "execution_count": 24,
     "metadata": {},
     "output_type": "execute_result"
    }
   ],
   "source": [
    "df.sort_values(by=['recamaras', 'banos'], inplace=True)\n",
    "#df.reset_index(inplace=True)\n",
    "df"
   ]
  },
  {
   "cell_type": "markdown",
   "id": "91f0c0fc-32a8-4685-81eb-38f7635ecb9e",
   "metadata": {
    "tags": []
   },
   "source": [
    "### Agrupado"
   ]
  },
  {
   "cell_type": "markdown",
   "id": "faa8a568-6a29-4ba4-a136-f334eaab8d56",
   "metadata": {},
   "source": [
    "Puedes agrupar las filas con base en una variable y, por ejemplo, calcular la media para otras variables"
   ]
  },
  {
   "cell_type": "code",
   "execution_count": 25,
   "id": "c2e860ff-9ef9-4003-9080-cad06368cbcc",
   "metadata": {
    "tags": []
   },
   "outputs": [
    {
     "data": {
      "text/plain": [
       "tipo\n",
       "0    24.820230\n",
       "1    11.962388\n",
       "Name: preciomillones, dtype: float64"
      ]
     },
     "execution_count": 25,
     "metadata": {},
     "output_type": "execute_result"
    }
   ],
   "source": [
    "df.groupby('tipo')['preciomillones'].mean()"
   ]
  },
  {
   "cell_type": "markdown",
   "id": "368232db-350d-4e18-be13-0794dcde757d",
   "metadata": {},
   "source": [
    "Podemos agrupar con base en dos variables y mostrar los valores promedio de las otras variables"
   ]
  },
  {
   "cell_type": "code",
   "execution_count": 26,
   "id": "257816f0-295a-4197-8a94-03f9b711ff56",
   "metadata": {},
   "outputs": [
    {
     "data": {
      "text/plain": [
       "tipo  recamaras\n",
       "0     2             6.110000\n",
       "      3            22.557083\n",
       "      4            28.626286\n",
       "      5            14.295000\n",
       "      6            40.000000\n",
       "1     2             9.269412\n",
       "      3            12.717872\n",
       "      4            15.386667\n",
       "Name: preciomillones, dtype: float64"
      ]
     },
     "execution_count": 26,
     "metadata": {},
     "output_type": "execute_result"
    }
   ],
   "source": [
    "df.groupby(['tipo', 'recamaras'])['preciomillones'].mean()"
   ]
  },
  {
   "cell_type": "markdown",
   "id": "49d5f9eb-dbca-404e-8b93-1fa12709a133",
   "metadata": {},
   "source": [
    "### Tablas pivote\n",
    "Para crear tablas pivote se puede utilizar el método `pivot_table` por ejemplo:  \n",
    "`df.pivot_table(index='columna1', values='columna2', aggfunc='mean')`\n",
    "\n",
    "En el parámetro *index* está la variable que irá en filas y en el parámetro *columns* la variable que irá en las columnas. En *values* se indican los valores que irán en las intersecciones y en *aggfunc* se indica el cálculo a realizar (mean, sum, count, median, min, max, std, var). Por ejemplo:"
   ]
  },
  {
   "cell_type": "code",
   "execution_count": 27,
   "id": "6c1a8681-9690-4048-9c19-78e11f3dc107",
   "metadata": {
    "tags": []
   },
   "outputs": [
    {
     "data": {
      "text/html": [
       "<div>\n",
       "<style scoped>\n",
       "    .dataframe tbody tr th:only-of-type {\n",
       "        vertical-align: middle;\n",
       "    }\n",
       "\n",
       "    .dataframe tbody tr th {\n",
       "        vertical-align: top;\n",
       "    }\n",
       "\n",
       "    .dataframe thead th {\n",
       "        text-align: right;\n",
       "    }\n",
       "</style>\n",
       "<table border=\"1\" class=\"dataframe\">\n",
       "  <thead>\n",
       "    <tr style=\"text-align: right;\">\n",
       "      <th>recamaras</th>\n",
       "      <th>2</th>\n",
       "      <th>3</th>\n",
       "      <th>4</th>\n",
       "      <th>5</th>\n",
       "      <th>6</th>\n",
       "    </tr>\n",
       "    <tr>\n",
       "      <th>tipo</th>\n",
       "      <th></th>\n",
       "      <th></th>\n",
       "      <th></th>\n",
       "      <th></th>\n",
       "      <th></th>\n",
       "    </tr>\n",
       "  </thead>\n",
       "  <tbody>\n",
       "    <tr>\n",
       "      <th>0</th>\n",
       "      <td>1.0</td>\n",
       "      <td>48.0</td>\n",
       "      <td>35.0</td>\n",
       "      <td>2.0</td>\n",
       "      <td>1.0</td>\n",
       "    </tr>\n",
       "    <tr>\n",
       "      <th>1</th>\n",
       "      <td>17.0</td>\n",
       "      <td>47.0</td>\n",
       "      <td>3.0</td>\n",
       "      <td>NaN</td>\n",
       "      <td>NaN</td>\n",
       "    </tr>\n",
       "  </tbody>\n",
       "</table>\n",
       "</div>"
      ],
      "text/plain": [
       "recamaras     2     3     4    5    6\n",
       "tipo                                 \n",
       "0           1.0  48.0  35.0  2.0  1.0\n",
       "1          17.0  47.0   3.0  NaN  NaN"
      ]
     },
     "execution_count": 27,
     "metadata": {},
     "output_type": "execute_result"
    }
   ],
   "source": [
    "df_pivote = df.pivot_table(index='tipo', columns='recamaras', \n",
    "                           values='preciomillones', aggfunc=\"count\")\n",
    "df_pivote"
   ]
  },
  {
   "cell_type": "markdown",
   "id": "1ee15e9c-a7fc-4077-8844-cd814570dbf5",
   "metadata": {},
   "source": [
    "## 3.5 Gráficos básicos"
   ]
  },
  {
   "cell_type": "markdown",
   "id": "3ade55c3-fb7e-40bd-b80e-71308a699061",
   "metadata": {},
   "source": [
    "Aunque en este DataFrame no tenemos series de tiempo, un gráfico de línea para series temporales para una columna 'A' se podría hacer con `df['A'].plot()`"
   ]
  },
  {
   "cell_type": "markdown",
   "id": "d3750829-a333-4afd-877d-ad2b438fa079",
   "metadata": {},
   "source": [
    "Un histograma básico con `df['A'].plot.hist()` o incluso `df['A'].hist()`"
   ]
  },
  {
   "cell_type": "code",
   "execution_count": 29,
   "id": "c0531c7a-2183-470f-823f-17d4ae42fef9",
   "metadata": {
    "tags": []
   },
   "outputs": [
    {
     "data": {
      "image/png": "[encoded data removed]",
      "text/plain": [
       "<Figure size 640x480 with 1 Axes>"
      ]
     },
     "metadata": {},
     "output_type": "display_data"
    }
   ],
   "source": [
    "# Ejemplo de histograma\n",
    "df['preciomillones'].plot.hist();"
   ]
  },
  {
   "cell_type": "markdown",
   "id": "a417c6de-e053-406b-a60a-89248df0eb39",
   "metadata": {},
   "source": [
    "Para un diagrama de cajas se puede utilizar `df['A'].plot.box()`"
   ]
  },
  {
   "cell_type": "code",
   "execution_count": 30,
   "id": "f6d1d283-56ac-4123-8ae1-36fe260bed8f",
   "metadata": {
    "tags": []
   },
   "outputs": [
    {
     "data": {
      "image/png": "[encoded data removed]",
      "text/plain": [
       "<Figure size 640x480 with 1 Axes>"
      ]
     },
     "metadata": {},
     "output_type": "display_data"
    }
   ],
   "source": [
    "# Ejemplo de diagrama de caja\n",
    "df['preciomillones'].plot.box();"
   ]
  },
  {
   "cell_type": "markdown",
   "id": "8065c5e4-cc03-4ce2-a1c0-f6fc486b061d",
   "metadata": {},
   "source": [
    "Finalmente, un diagrama de dispersión se puede realizar con `df.plot.scatter(x='A', y='B')`"
   ]
  },
  {
   "cell_type": "code",
   "execution_count": 31,
   "id": "ab09602f-8da8-4171-b72e-d2c1904c1ffd",
   "metadata": {
    "tags": []
   },
   "outputs": [
    {
     "data": {
      "image/png": "[encoded data removed]",
      "text/plain": [
       "<Figure size 640x480 with 1 Axes>"
      ]
     },
     "metadata": {},
     "output_type": "display_data"
    }
   ],
   "source": [
    "# Ejemplo de diagrama de dispersión\n",
    "df.plot.scatter(x='banos', y='recamaras');"
   ]
  },
  {
   "cell_type": "markdown",
   "id": "964e9bc3-445d-472b-bc6b-7ca4c0a1e06e",
   "metadata": {},
   "source": [
    "## 3.6 Uniones de dataframes\n",
    "La ejemplificación de uniones entre dataframes se realizará con dos dataframes sencillos para mostrar mejor el resultado"
   ]
  },
  {
   "cell_type": "code",
   "execution_count": 32,
   "id": "e1c3b78c-efb8-405d-bf03-f8e70e702489",
   "metadata": {},
   "outputs": [
    {
     "data": {
      "text/html": [
       "<div>\n",
       "<style scoped>\n",
       "    .dataframe tbody tr th:only-of-type {\n",
       "        vertical-align: middle;\n",
       "    }\n",
       "\n",
       "    .dataframe tbody tr th {\n",
       "        vertical-align: top;\n",
       "    }\n",
       "\n",
       "    .dataframe thead th {\n",
       "        text-align: right;\n",
       "    }\n",
       "</style>\n",
       "<table border=\"1\" class=\"dataframe\">\n",
       "  <thead>\n",
       "    <tr style=\"text-align: right;\">\n",
       "      <th></th>\n",
       "      <th>key</th>\n",
       "      <th>L1</th>\n",
       "    </tr>\n",
       "  </thead>\n",
       "  <tbody>\n",
       "    <tr>\n",
       "      <th>0</th>\n",
       "      <td>A</td>\n",
       "      <td>1</td>\n",
       "    </tr>\n",
       "    <tr>\n",
       "      <th>1</th>\n",
       "      <td>B</td>\n",
       "      <td>2</td>\n",
       "    </tr>\n",
       "    <tr>\n",
       "      <th>2</th>\n",
       "      <td>C</td>\n",
       "      <td>3</td>\n",
       "    </tr>\n",
       "  </tbody>\n",
       "</table>\n",
       "</div>"
      ],
      "text/plain": [
       "  key  L1\n",
       "0   A   1\n",
       "1   B   2\n",
       "2   C   3"
      ]
     },
     "execution_count": 32,
     "metadata": {},
     "output_type": "execute_result"
    }
   ],
   "source": [
    "# Dataframe izquierdo\n",
    "df_L = {'key':['A','B','C'],\n",
    "        'L1':[ 1, 2, 3]}\n",
    "df_L = pd.DataFrame(df_L)\n",
    "df_L"
   ]
  },
  {
   "cell_type": "code",
   "execution_count": 33,
   "id": "e9a9e517-d078-49d3-a969-30554626eaf3",
   "metadata": {},
   "outputs": [
    {
     "data": {
      "text/html": [
       "<div>\n",
       "<style scoped>\n",
       "    .dataframe tbody tr th:only-of-type {\n",
       "        vertical-align: middle;\n",
       "    }\n",
       "\n",
       "    .dataframe tbody tr th {\n",
       "        vertical-align: top;\n",
       "    }\n",
       "\n",
       "    .dataframe thead th {\n",
       "        text-align: right;\n",
       "    }\n",
       "</style>\n",
       "<table border=\"1\" class=\"dataframe\">\n",
       "  <thead>\n",
       "    <tr style=\"text-align: right;\">\n",
       "      <th></th>\n",
       "      <th>key</th>\n",
       "      <th>R1</th>\n",
       "    </tr>\n",
       "  </thead>\n",
       "  <tbody>\n",
       "    <tr>\n",
       "      <th>0</th>\n",
       "      <td>A</td>\n",
       "      <td>T</td>\n",
       "    </tr>\n",
       "    <tr>\n",
       "      <th>1</th>\n",
       "      <td>B</td>\n",
       "      <td>F</td>\n",
       "    </tr>\n",
       "    <tr>\n",
       "      <th>2</th>\n",
       "      <td>D</td>\n",
       "      <td>T</td>\n",
       "    </tr>\n",
       "  </tbody>\n",
       "</table>\n",
       "</div>"
      ],
      "text/plain": [
       "  key R1\n",
       "0   A  T\n",
       "1   B  F\n",
       "2   D  T"
      ]
     },
     "execution_count": 33,
     "metadata": {},
     "output_type": "execute_result"
    }
   ],
   "source": [
    "# Dataframe derecho\n",
    "df_R = {'key':['A','B','D'],\n",
    "        'R1':[ 'T', 'F', 'T']}\n",
    "df_R = pd.DataFrame(df_R)\n",
    "df_R"
   ]
  },
  {
   "cell_type": "markdown",
   "id": "98cc9511-89f6-4779-90b4-0fa9d066318b",
   "metadata": {},
   "source": [
    "Unión interna de los dataframes L y R. \n",
    "Solo conserva filas que están en AMBOS dataframes"
   ]
  },
  {
   "cell_type": "code",
   "execution_count": 34,
   "id": "f5cb3be2-c23b-441a-bf63-d1f0d1957ca3",
   "metadata": {},
   "outputs": [
    {
     "data": {
      "text/html": [
       "<div>\n",
       "<style scoped>\n",
       "    .dataframe tbody tr th:only-of-type {\n",
       "        vertical-align: middle;\n",
       "    }\n",
       "\n",
       "    .dataframe tbody tr th {\n",
       "        vertical-align: top;\n",
       "    }\n",
       "\n",
       "    .dataframe thead th {\n",
       "        text-align: right;\n",
       "    }\n",
       "</style>\n",
       "<table border=\"1\" class=\"dataframe\">\n",
       "  <thead>\n",
       "    <tr style=\"text-align: right;\">\n",
       "      <th></th>\n",
       "      <th>key</th>\n",
       "      <th>L1</th>\n",
       "      <th>R1</th>\n",
       "    </tr>\n",
       "  </thead>\n",
       "  <tbody>\n",
       "    <tr>\n",
       "      <th>0</th>\n",
       "      <td>A</td>\n",
       "      <td>1</td>\n",
       "      <td>T</td>\n",
       "    </tr>\n",
       "    <tr>\n",
       "      <th>1</th>\n",
       "      <td>B</td>\n",
       "      <td>2</td>\n",
       "      <td>F</td>\n",
       "    </tr>\n",
       "  </tbody>\n",
       "</table>\n",
       "</div>"
      ],
      "text/plain": [
       "  key  L1 R1\n",
       "0   A   1  T\n",
       "1   B   2  F"
      ]
     },
     "execution_count": 34,
     "metadata": {},
     "output_type": "execute_result"
    }
   ],
   "source": [
    "df_i = pd.merge(df_L, df_R, how='inner', on='key')\n",
    "df_i"
   ]
  },
  {
   "cell_type": "markdown",
   "id": "6268570e-150d-4510-9f80-0409edc2e0a1",
   "metadata": {},
   "source": [
    "Unión externa de los dataframes L y R: Devuelve todos los valores en todas filas, rellenando con NaN los valores faltantes en ambos."
   ]
  },
  {
   "cell_type": "code",
   "execution_count": 35,
   "id": "140c25b9-48ac-4bc8-9998-461ca8e2bd07",
   "metadata": {},
   "outputs": [
    {
     "data": {
      "text/html": [
       "<div>\n",
       "<style scoped>\n",
       "    .dataframe tbody tr th:only-of-type {\n",
       "        vertical-align: middle;\n",
       "    }\n",
       "\n",
       "    .dataframe tbody tr th {\n",
       "        vertical-align: top;\n",
       "    }\n",
       "\n",
       "    .dataframe thead th {\n",
       "        text-align: right;\n",
       "    }\n",
       "</style>\n",
       "<table border=\"1\" class=\"dataframe\">\n",
       "  <thead>\n",
       "    <tr style=\"text-align: right;\">\n",
       "      <th></th>\n",
       "      <th>key</th>\n",
       "      <th>L1</th>\n",
       "      <th>R1</th>\n",
       "    </tr>\n",
       "  </thead>\n",
       "  <tbody>\n",
       "    <tr>\n",
       "      <th>0</th>\n",
       "      <td>A</td>\n",
       "      <td>1.0</td>\n",
       "      <td>T</td>\n",
       "    </tr>\n",
       "    <tr>\n",
       "      <th>1</th>\n",
       "      <td>B</td>\n",
       "      <td>2.0</td>\n",
       "      <td>F</td>\n",
       "    </tr>\n",
       "    <tr>\n",
       "      <th>2</th>\n",
       "      <td>C</td>\n",
       "      <td>3.0</td>\n",
       "      <td>NaN</td>\n",
       "    </tr>\n",
       "    <tr>\n",
       "      <th>3</th>\n",
       "      <td>D</td>\n",
       "      <td>NaN</td>\n",
       "      <td>T</td>\n",
       "    </tr>\n",
       "  </tbody>\n",
       "</table>\n",
       "</div>"
      ],
      "text/plain": [
       "  key   L1   R1\n",
       "0   A  1.0    T\n",
       "1   B  2.0    F\n",
       "2   C  3.0  NaN\n",
       "3   D  NaN    T"
      ]
     },
     "execution_count": 35,
     "metadata": {},
     "output_type": "execute_result"
    }
   ],
   "source": [
    "df_o = pd.merge(df_L, df_R, how='outer', on='key')\n",
    "df_o"
   ]
  },
  {
   "cell_type": "markdown",
   "id": "17ec0d1c-3586-43f7-90b1-87ed1530787f",
   "metadata": {},
   "source": [
    "Unión izquierda de los dataframes L y R: devuelve todas las filas del dataframe izquierdo y las une con los valores coincidentes del dataframe derecho."
   ]
  },
  {
   "cell_type": "code",
   "execution_count": 36,
   "id": "f7a54b12-4e7d-4df0-956e-d5b2187c5e98",
   "metadata": {},
   "outputs": [
    {
     "data": {
      "text/html": [
       "<div>\n",
       "<style scoped>\n",
       "    .dataframe tbody tr th:only-of-type {\n",
       "        vertical-align: middle;\n",
       "    }\n",
       "\n",
       "    .dataframe tbody tr th {\n",
       "        vertical-align: top;\n",
       "    }\n",
       "\n",
       "    .dataframe thead th {\n",
       "        text-align: right;\n",
       "    }\n",
       "</style>\n",
       "<table border=\"1\" class=\"dataframe\">\n",
       "  <thead>\n",
       "    <tr style=\"text-align: right;\">\n",
       "      <th></th>\n",
       "      <th>key</th>\n",
       "      <th>L1</th>\n",
       "      <th>R1</th>\n",
       "    </tr>\n",
       "  </thead>\n",
       "  <tbody>\n",
       "    <tr>\n",
       "      <th>0</th>\n",
       "      <td>A</td>\n",
       "      <td>1</td>\n",
       "      <td>T</td>\n",
       "    </tr>\n",
       "    <tr>\n",
       "      <th>1</th>\n",
       "      <td>B</td>\n",
       "      <td>2</td>\n",
       "      <td>F</td>\n",
       "    </tr>\n",
       "    <tr>\n",
       "      <th>2</th>\n",
       "      <td>C</td>\n",
       "      <td>3</td>\n",
       "      <td>NaN</td>\n",
       "    </tr>\n",
       "  </tbody>\n",
       "</table>\n",
       "</div>"
      ],
      "text/plain": [
       "  key  L1   R1\n",
       "0   A   1    T\n",
       "1   B   2    F\n",
       "2   C   3  NaN"
      ]
     },
     "execution_count": 36,
     "metadata": {},
     "output_type": "execute_result"
    }
   ],
   "source": [
    "df_left = pd.merge(df_L, df_R, how='left', on='key')\n",
    "df_left"
   ]
  },
  {
   "cell_type": "markdown",
   "id": "f342fd0f-8d1e-4b09-bbf0-d7cf24ebc762",
   "metadata": {},
   "source": [
    "## Glosario\n",
    "- *Atributo*: Propiedad o característica de un objeto. Utiliza la sintaxis `objeto.atributo`\n",
    "- *DataFrame*: Estructura de datos semejante a una tabla con filas y columnas.\n",
    "- *Método*: Función asociada a un objeto. Utiliza la sintaxis `objeto.metodo()`\n"
   ]
  },
  {
   "cell_type": "code",
   "execution_count": null,
   "id": "c53eced4-915e-469e-a826-a95438d1bdea",
   "metadata": {},
   "outputs": [],
   "source": []
  }
 ],
 "metadata": {
  "kernelspec": {
   "display_name": "Python 3 (ipykernel)",
   "language": "python",
   "name": "python3"
  },
  "language_info": {
   "codemirror_mode": {
    "name": "ipython",
    "version": 3
   },
   "file_extension": ".py",
   "mimetype": "text/x-python",
   "name": "python",
   "nbconvert_exporter": "python",
   "pygments_lexer": "ipython3",
   "version": "3.12.4"
  }
 },
 "nbformat": 4,
 "nbformat_minor": 5
}
