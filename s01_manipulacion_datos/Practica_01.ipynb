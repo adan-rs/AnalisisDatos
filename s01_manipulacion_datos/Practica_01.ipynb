{
 "cells": [
  {
   "cell_type": "markdown",
   "id": "2b9785bc-b0a9-4c45-bfde-0e9e6c6b795d",
   "metadata": {},
   "source": [
    "# Práctica 01"
   ]
  },
  {
   "cell_type": "code",
   "execution_count": 1,
   "id": "7c19e7d4-e861-4bfd-a856-634a78f2dd15",
   "metadata": {},
   "outputs": [],
   "source": [
    "import yfinance as yf\n",
    "import pandas as pd"
   ]
  },
  {
   "cell_type": "markdown",
   "id": "2b25a80d-92f4-4ac3-814a-eb95235353d3",
   "metadata": {},
   "source": [
    "Realiza lo siguiente:\n",
    "1. Localiza el símbolo (*ticker*) que identifique las acciones de una empresa que cotice en alguna de las principales bolsas de valores. Puedes realizar una búsqueda en https://finance.yahoo.com/\n",
    "2. Utiliza la función `download()`de la librería *yfinance* para descargar los datos de esa acción y guardar el resultado en un DataFrame. Utiliza el siguiente ejemplo como guía sustituyendo 'APPL' por el símbolo de la acción seleccionada.  \n",
    "`df = yf.download('AAPL', period='1mo', interval='1d', progress=False)`  "
   ]
  },
  {
   "cell_type": "code",
   "execution_count": 3,
   "id": "67f60e44-e5ea-4a1f-80a0-cb6084382ab7",
   "metadata": {
    "tags": []
   },
   "outputs": [],
   "source": [
    "df = yf.download('AAPL', period='1mo', interval='1d', progress=False)"
   ]
  },
  {
   "cell_type": "markdown",
   "id": "2ec193f8-9ce3-4ca8-a0b2-882dface031a",
   "metadata": {
    "tags": []
   },
   "source": [
    "3. En una nueva columna del DataFrame, calcula el rendimiento simple diario para la acción. La función `pct_change()`en Pandas calcula el cambio percentual, que en este caso equivale al rendimiento simple diario. Utiliza algo similar a:   `df['rendimiento'] = df_apple['Adj Close'].pct_change()`."
   ]
  },
  {
   "cell_type": "code",
   "execution_count": null,
   "id": "e8d89a50-2a0f-430b-b86e-95e0ccfbc2c1",
   "metadata": {},
   "outputs": [],
   "source": []
  },
  {
   "cell_type": "markdown",
   "id": "8af95a3c-ee7e-4159-a23f-5a97f9ca707e",
   "metadata": {},
   "source": [
    "4. Quita el renglón con los valores perdidos."
   ]
  },
  {
   "cell_type": "code",
   "execution_count": null,
   "id": "d42b38ec-16a0-4064-a91b-82562f3acf2a",
   "metadata": {},
   "outputs": [],
   "source": []
  },
  {
   "cell_type": "markdown",
   "id": "850f1da7-b66c-4d36-8b91-cf367342dd79",
   "metadata": {},
   "source": [
    "5. Crea un nuevo dataframe que además de la fecha solo contenga las columnas con el dato del precio de la acción y el rendimiento diario."
   ]
  },
  {
   "cell_type": "code",
   "execution_count": null,
   "id": "aaa89ec6-33e3-4559-9c6f-6cf15b0a70c4",
   "metadata": {},
   "outputs": [],
   "source": []
  },
  {
   "cell_type": "markdown",
   "id": "e4c5a4f7-eb73-4b9d-887c-134bf98f23ff",
   "metadata": {},
   "source": [
    "6. Renombra la columna \"Adj Close\" con el nombre de la acción"
   ]
  },
  {
   "cell_type": "code",
   "execution_count": null,
   "id": "9a0cdf46-e311-4cea-ae51-db4ff5c51973",
   "metadata": {},
   "outputs": [],
   "source": []
  }
 ],
 "metadata": {
  "kernelspec": {
   "display_name": "Python 3 (ipykernel)",
   "language": "python",
   "name": "python3"
  },
  "language_info": {
   "codemirror_mode": {
    "name": "ipython",
    "version": 3
   },
   "file_extension": ".py",
   "mimetype": "text/x-python",
   "name": "python",
   "nbconvert_exporter": "python",
   "pygments_lexer": "ipython3",
   "version": "3.12.4"
  }
 },
 "nbformat": 4,
 "nbformat_minor": 5
}
