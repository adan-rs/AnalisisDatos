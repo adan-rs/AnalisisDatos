{
 "cells": [
  {
   "cell_type": "markdown",
   "id": "2b9785bc-b0a9-4c45-bfde-0e9e6c6b795d",
   "metadata": {},
   "source": [
    "# Práctica 01: Manipulación básica de datos"
   ]
  },
  {
   "cell_type": "code",
   "execution_count": null,
   "id": "7c19e7d4-e861-4bfd-a856-634a78f2dd15",
   "metadata": {},
   "outputs": [],
   "source": [
    "import yfinance as yf\n",
    "import pandas as pd"
   ]
  },
  {
   "cell_type": "markdown",
   "id": "2b25a80d-92f4-4ac3-814a-eb95235353d3",
   "metadata": {},
   "source": [
    "Localiza el símbolo (*ticker*) que identifique las acciones de una empresa que cotice en alguna de las principales bolsas de valores. Puedes realizar una búsqueda en https://finance.yahoo.com/  \n",
    "Utiliza la función `download()`de la librería *yfinance* para descargar los datos de esa acción y guardar el resultado en un DataFrame. Utiliza el siguiente ejemplo como guía sustituyendo 'APPL' por el símbolo de la acción seleccionada.  \n",
    "`df = yf.download('AAPL', period='1mo', interval='1d', progress=False)`  "
   ]
  },
  {
   "cell_type": "code",
   "execution_count": null,
   "id": "67f60e44-e5ea-4a1f-80a0-cb6084382ab7",
   "metadata": {
    "tags": []
   },
   "outputs": [],
   "source": [
    "df = yf.download('AAPL', period='1mo', interval='1d', progress=False)"
   ]
  },
  {
   "cell_type": "markdown",
   "id": "2ec193f8-9ce3-4ca8-a0b2-882dface031a",
   "metadata": {
    "tags": []
   },
   "source": [
    "En una nueva columna del DataFrame, calcula el rendimiento simple diario para la acción. La función `pct_change()`en Pandas calcula el cambio percentual, que en este caso equivale al rendimiento simple diario. Utiliza algo similar a:   `df['rendimiento'] = df['Adj Close'].pct_change()`."
   ]
  },
  {
   "cell_type": "code",
   "execution_count": null,
   "id": "e8d89a50-2a0f-430b-b86e-95e0ccfbc2c1",
   "metadata": {},
   "outputs": [],
   "source": []
  },
  {
   "cell_type": "markdown",
   "id": "e4c5a4f7-eb73-4b9d-887c-134bf98f23ff",
   "metadata": {},
   "source": [
    "Renombra la columna \"Adj Close\" con \"Adj_Close\""
   ]
  },
  {
   "cell_type": "code",
   "execution_count": null,
   "id": "4afd4072-73f9-4c7a-be2e-114f8f6a236f",
   "metadata": {},
   "outputs": [],
   "source": []
  },
  {
   "cell_type": "markdown",
   "id": "8af95a3c-ee7e-4159-a23f-5a97f9ca707e",
   "metadata": {},
   "source": [
    "Quita el renglón con los valores perdidos sobrescribiendo el DataFrame"
   ]
  },
  {
   "cell_type": "code",
   "execution_count": null,
   "id": "d42b38ec-16a0-4064-a91b-82562f3acf2a",
   "metadata": {},
   "outputs": [],
   "source": []
  },
  {
   "cell_type": "markdown",
   "id": "850f1da7-b66c-4d36-8b91-cf367342dd79",
   "metadata": {},
   "source": [
    "Crea un nuevo dataframe que además de la fecha solo contenga las columnas con el dato del precio de la acción `Adj_Close` y el rendimiento diario `rendimiento`."
   ]
  },
  {
   "cell_type": "code",
   "execution_count": null,
   "id": "aaa89ec6-33e3-4559-9c6f-6cf15b0a70c4",
   "metadata": {},
   "outputs": [],
   "source": []
  },
  {
   "cell_type": "markdown",
   "id": "d9fd4856-ac43-4c64-b413-f37996b04ce8",
   "metadata": {},
   "source": [
    "Crea un gráfico de línea para la variable `Adj_Close` "
   ]
  },
  {
   "cell_type": "code",
   "execution_count": null,
   "id": "65a2d029-8241-4936-bcab-f0e5dc5e5261",
   "metadata": {},
   "outputs": [],
   "source": []
  },
  {
   "cell_type": "markdown",
   "id": "236affdd-9e16-4dc9-b4d1-5e266657da21",
   "metadata": {},
   "source": [
    "Guarda y exporta este notebook en formato html y compártelo en la plataforma del curso"
   ]
  }
 ],
 "metadata": {
  "kernelspec": {
   "display_name": "Python 3 (ipykernel)",
   "language": "python",
   "name": "python3"
  },
  "language_info": {
   "codemirror_mode": {
    "name": "ipython",
    "version": 3
   },
   "file_extension": ".py",
   "mimetype": "text/x-python",
   "name": "python",
   "nbconvert_exporter": "python",
   "pygments_lexer": "ipython3",
   "version": "3.12.4"
  }
 },
 "nbformat": 4,
 "nbformat_minor": 5
}
