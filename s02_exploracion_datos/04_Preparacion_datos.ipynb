{
 "cells": [
  {
   "cell_type": "markdown",
   "id": "ecc7a6a8-7b95-42a3-ae4d-1acce323a449",
   "metadata": {},
   "source": [
    "# 4. Preparación de datos\n",
    "*\"Es un error capital teorizar antes de tener datos. Sin darse cuenta, uno empieza a deformar los hechos para que se ajusten a las teorías, en lugar de ajustar las teorías a los hechos.\"  \n",
    "Arthur Conan Doyle en \"Escándalo en Bohemia\".*"
   ]
  },
  {
   "cell_type": "markdown",
   "id": "7218eb4b-0951-493a-bb40-4349e0324eca",
   "metadata": {},
   "source": [
    "## 4.1 Selección de filas y columnas\n",
    "El archivo \"hoteles-vienna.xlsx\" contiene información de hoteles con habitaciones disponibles para cierto fin de semana. Aunque tenemos varias variables, solamente utilizaremos las siguientes:\n",
    "- hotel_id: es un identificador que reemplaza el nombre del hotel por razones de confidencialidad.\n",
    "- accommodationtype: tipo de hospedaje\n",
    "- price: precio.\n",
    "- center1distance: distancia al centro\n",
    "- starrating: calificación de 1 a 5 estrellas (más es mejor). \n",
    "- guestreviewsrating: calificación promedio otorgada por los clientes"
   ]
  },
  {
   "cell_type": "code",
   "execution_count": 1,
   "id": "147a8a4a-ad36-479a-968b-ef3a6b8dcff9",
   "metadata": {},
   "outputs": [],
   "source": [
    "# Importa la biblioteca de pandas\n",
    "import pandas as pd"
   ]
  },
  {
   "cell_type": "code",
   "execution_count": 2,
   "id": "b9109c73-2b62-4e45-b2b9-5ccc4e131a7b",
   "metadata": {
    "tags": []
   },
   "outputs": [],
   "source": [
    "# Carga el archivo 'data/b05a_hoteles-viena.xlsx'\n",
    "variables = [\"hotel_id\", \"accommodationtype\", \"price\", \"center1distance\",\n",
    "             \"starrating\", \"guestreviewsrating\"]\n",
    "original_df = pd.read_excel('data/b05a_hoteles-viena.xlsx', usecols=variables)"
   ]
  },
  {
   "cell_type": "markdown",
   "id": "1970af86-4d8e-4f81-a807-e47bfcccb45d",
   "metadata": {},
   "source": [
    "Aunque es común utilizar `df` como nombre de un DataFrame, es recomendable utilizar nombres descriptivos que nos permitan distinguir si los datos son originales, seleccionados o procesados."
   ]
  },
  {
   "cell_type": "code",
   "execution_count": 3,
   "id": "3a7616b2-5ad8-4402-831f-051e56766c20",
   "metadata": {},
   "outputs": [
    {
     "data": {
      "text/html": [
       "<div>\n",
       "<style scoped>\n",
       "    .dataframe tbody tr th:only-of-type {\n",
       "        vertical-align: middle;\n",
       "    }\n",
       "\n",
       "    .dataframe tbody tr th {\n",
       "        vertical-align: top;\n",
       "    }\n",
       "\n",
       "    .dataframe thead th {\n",
       "        text-align: right;\n",
       "    }\n",
       "</style>\n",
       "<table border=\"1\" class=\"dataframe\">\n",
       "  <thead>\n",
       "    <tr style=\"text-align: right;\">\n",
       "      <th></th>\n",
       "      <th>center1distance</th>\n",
       "      <th>price</th>\n",
       "      <th>starrating</th>\n",
       "      <th>accommodationtype</th>\n",
       "      <th>guestreviewsrating</th>\n",
       "      <th>hotel_id</th>\n",
       "    </tr>\n",
       "  </thead>\n",
       "  <tbody>\n",
       "    <tr>\n",
       "      <th>0</th>\n",
       "      <td>2.7</td>\n",
       "      <td>81</td>\n",
       "      <td>4.0</td>\n",
       "      <td>Apartment</td>\n",
       "      <td>4.45</td>\n",
       "      <td>21894</td>\n",
       "    </tr>\n",
       "    <tr>\n",
       "      <th>1</th>\n",
       "      <td>1.7</td>\n",
       "      <td>81</td>\n",
       "      <td>4.0</td>\n",
       "      <td>Hotel</td>\n",
       "      <td>3.95</td>\n",
       "      <td>21897</td>\n",
       "    </tr>\n",
       "    <tr>\n",
       "      <th>2</th>\n",
       "      <td>1.4</td>\n",
       "      <td>85</td>\n",
       "      <td>4.0</td>\n",
       "      <td>Hotel</td>\n",
       "      <td>3.75</td>\n",
       "      <td>21901</td>\n",
       "    </tr>\n",
       "    <tr>\n",
       "      <th>3</th>\n",
       "      <td>1.7</td>\n",
       "      <td>83</td>\n",
       "      <td>3.0</td>\n",
       "      <td>Hotel</td>\n",
       "      <td>45.00</td>\n",
       "      <td>21902</td>\n",
       "    </tr>\n",
       "    <tr>\n",
       "      <th>4</th>\n",
       "      <td>1.2</td>\n",
       "      <td>82</td>\n",
       "      <td>4.0</td>\n",
       "      <td>Hotel</td>\n",
       "      <td>3.95</td>\n",
       "      <td>21903</td>\n",
       "    </tr>\n",
       "  </tbody>\n",
       "</table>\n",
       "</div>"
      ],
      "text/plain": [
       "   center1distance  price  starrating accommodationtype  guestreviewsrating  \\\n",
       "0              2.7     81         4.0         Apartment                4.45   \n",
       "1              1.7     81         4.0             Hotel                3.95   \n",
       "2              1.4     85         4.0             Hotel                3.75   \n",
       "3              1.7     83         3.0             Hotel               45.00   \n",
       "4              1.2     82         4.0             Hotel                3.95   \n",
       "\n",
       "   hotel_id  \n",
       "0     21894  \n",
       "1     21897  \n",
       "2     21901  \n",
       "3     21902  \n",
       "4     21903  "
      ]
     },
     "execution_count": 3,
     "metadata": {},
     "output_type": "execute_result"
    }
   ],
   "source": [
    "original_df.head()"
   ]
  },
  {
   "cell_type": "markdown",
   "id": "c68520d1-521e-43e4-b5cc-bdc790addfb6",
   "metadata": {},
   "source": [
    "La base de datos abarca diferentes tipos de hospedajes. Mediante `df['A'].value_counts()` podemos consultar qué categorías y frecuencias tiene una variable 'A' en un dataframe llamado 'df'."
   ]
  },
  {
   "cell_type": "code",
   "execution_count": 4,
   "id": "bebf334d-208b-47a4-8282-bb522aceff08",
   "metadata": {},
   "outputs": [
    {
     "data": {
      "text/plain": [
       "accommodationtype\n",
       "Hotel                  266\n",
       "Apartment              124\n",
       "Pension                 16\n",
       "Guest House              8\n",
       "Hostel                   6\n",
       "Bed and breakfast        4\n",
       "Apart-hotel              4\n",
       "Vacation home Condo      2\n",
       "Name: count, dtype: int64"
      ]
     },
     "execution_count": 4,
     "metadata": {},
     "output_type": "execute_result"
    }
   ],
   "source": [
    "# Obtén la frecuencia por tipo de hospedaje\n",
    "original_df['accommodationtype'].value_counts()"
   ]
  },
  {
   "cell_type": "markdown",
   "id": "f6a29d0c-b29a-4dbb-9fa2-61ab9a0f1b93",
   "metadata": {
    "tags": []
   },
   "source": [
    "Selecciona solamente las filas que corresponden a hoteles. Por ejemplo: \n",
    "`df = df[df['accommodationtype'] == 'Hotel']`"
   ]
  },
  {
   "cell_type": "code",
   "execution_count": 5,
   "id": "53ea9974-aa62-4168-8997-128341178740",
   "metadata": {},
   "outputs": [],
   "source": [
    "# Selecciona las filas correspondientes a hoteles\n",
    "original_df = original_df.loc[original_df['accommodationtype'] == 'Hotel']"
   ]
  },
  {
   "cell_type": "code",
   "execution_count": 6,
   "id": "c0354dda-933d-474d-8ef9-537615d1ad6b",
   "metadata": {
    "tags": []
   },
   "outputs": [],
   "source": [
    "# Crear copia del DataFrame original\n",
    "df = original_df.copy()"
   ]
  },
  {
   "cell_type": "markdown",
   "id": "e121b10a-7c83-4249-bfe7-8b87bd3bb70c",
   "metadata": {
    "tags": []
   },
   "source": [
    "## 4.2 Datos duplicados\n",
    "En algunas ocasiones puede haber datos duplicados en nuestra base de datos. Para visualizar los datos duplicados podemos usar *duplicated()* de la siguiente manera:\n",
    "`df[df.duplicated()]`. Si nos interesa en la variable \"A\" en particular entonces es `df[df['A'].duplicated()]`"
   ]
  },
  {
   "cell_type": "code",
   "execution_count": 7,
   "id": "5228a140-5d4b-4a63-8b23-2a37b446f208",
   "metadata": {
    "tags": []
   },
   "outputs": [
    {
     "data": {
      "text/html": [
       "<div>\n",
       "<style scoped>\n",
       "    .dataframe tbody tr th:only-of-type {\n",
       "        vertical-align: middle;\n",
       "    }\n",
       "\n",
       "    .dataframe tbody tr th {\n",
       "        vertical-align: top;\n",
       "    }\n",
       "\n",
       "    .dataframe thead th {\n",
       "        text-align: right;\n",
       "    }\n",
       "</style>\n",
       "<table border=\"1\" class=\"dataframe\">\n",
       "  <thead>\n",
       "    <tr style=\"text-align: right;\">\n",
       "      <th></th>\n",
       "      <th>center1distance</th>\n",
       "      <th>price</th>\n",
       "      <th>starrating</th>\n",
       "      <th>accommodationtype</th>\n",
       "      <th>guestreviewsrating</th>\n",
       "      <th>hotel_id</th>\n",
       "    </tr>\n",
       "  </thead>\n",
       "  <tbody>\n",
       "    <tr>\n",
       "      <th>129</th>\n",
       "      <td>0.0</td>\n",
       "      <td>242</td>\n",
       "      <td>4.0</td>\n",
       "      <td>Hotel</td>\n",
       "      <td>4.85</td>\n",
       "      <td>22050</td>\n",
       "    </tr>\n",
       "    <tr>\n",
       "      <th>242</th>\n",
       "      <td>0.8</td>\n",
       "      <td>84</td>\n",
       "      <td>3.0</td>\n",
       "      <td>Hotel</td>\n",
       "      <td>2.25</td>\n",
       "      <td>22185</td>\n",
       "    </tr>\n",
       "  </tbody>\n",
       "</table>\n",
       "</div>"
      ],
      "text/plain": [
       "     center1distance  price  starrating accommodationtype  guestreviewsrating  \\\n",
       "129              0.0    242         4.0             Hotel                4.85   \n",
       "242              0.8     84         3.0             Hotel                2.25   \n",
       "\n",
       "     hotel_id  \n",
       "129     22050  \n",
       "242     22185  "
      ]
     },
     "execution_count": 7,
     "metadata": {},
     "output_type": "execute_result"
    }
   ],
   "source": [
    "# Identifica los datos duplicados en todas las variables \n",
    "df[df.duplicated()]"
   ]
  },
  {
   "cell_type": "markdown",
   "id": "332e92d6-d878-41e0-b8dd-4920f6c1be90",
   "metadata": {},
   "source": [
    "Una opción para eliminar datos duplicados es usar *drop_duplicates()*. En nuestro ejemplo sería: `df.drop_duplicates()`. Esto sólo elimina observaciones filas duplicadas en todas las variables. De manera predeterminada, solamente conserva la primera fila de ellas.  \n",
    "En algunas ocasiones necesitaremos eliminar observaciones duplicadas en solamente algunas variables. En ese caso se puede agregar un listado con el argumento *subset*, por ejemplo: `df = df.drop_duplicates(subset=['hotel_id'])`"
   ]
  },
  {
   "cell_type": "code",
   "execution_count": 8,
   "id": "1e9ffe79-46a1-4f02-b735-20517e965afb",
   "metadata": {},
   "outputs": [],
   "source": [
    "def eliminar_duplicados(df):\n",
    "    \"\"\"Elimina filas duplicadas y registra la cantidad eliminada\"\"\"\n",
    "    n_antes = len(df)\n",
    "    df = df.drop_duplicates()\n",
    "    n_despues = len(df)\n",
    "    print(f\"Se eliminaron {n_antes - n_despues} filas duplicadas\")\n",
    "    return df"
   ]
  },
  {
   "cell_type": "code",
   "execution_count": 9,
   "id": "027720a8-b877-418b-bdae-857119dcb154",
   "metadata": {},
   "outputs": [
    {
     "name": "stdout",
     "output_type": "stream",
     "text": [
      "Se eliminaron 2 filas duplicadas\n"
     ]
    }
   ],
   "source": [
    "df_clean = eliminar_duplicados(df)"
   ]
  },
  {
   "cell_type": "markdown",
   "id": "dc23ad92-68c6-452a-a868-418cf8fbb0e2",
   "metadata": {},
   "source": [
    "## 4.3 Datos perdidos\n",
    "En el caso de datos perdidos es importante determinar si se pueden considerar aleatorios o si existe un patrón que pueda afectar los resultados. En una encuesta, por ejemplo, es posible que las personas que prefieran no mencionar su ingreso tengan ciertas características, o bien, que las personas tiendan a no responder a preguntas sobre cierto tipo de comportamiento que no es socialmente aceptable.\n",
    "\n",
    "Es recomendable realizar pruebas estadísticas para verificar si los datos perdidos pueden ser considerados aleatorios o no. Bajo el procedimiento habitual, se construyen dos grupos, uno de observaciones con datos completos y otro grupo de observaciones con datos perdidos en una variable en particular. Posteriormente, se realizan pruebas para comparar si existen diferencias significativas en los valores promedio de las otras variables\n",
    "\n",
    "Como una aproximación inicial, el método `info()` puede servir para identificar qué variables tienen valores perdidos."
   ]
  },
  {
   "cell_type": "code",
   "execution_count": 10,
   "id": "5c4c7073-a004-496d-8f5a-be7d878acb2b",
   "metadata": {
    "tags": []
   },
   "outputs": [
    {
     "name": "stdout",
     "output_type": "stream",
     "text": [
      "<class 'pandas.core.frame.DataFrame'>\n",
      "Index: 266 entries, 1 to 428\n",
      "Data columns (total 6 columns):\n",
      " #   Column              Non-Null Count  Dtype  \n",
      "---  ------              --------------  -----  \n",
      " 0   center1distance     266 non-null    float64\n",
      " 1   price               266 non-null    int64  \n",
      " 2   starrating          266 non-null    float64\n",
      " 3   accommodationtype   266 non-null    object \n",
      " 4   guestreviewsrating  265 non-null    float64\n",
      " 5   hotel_id            266 non-null    int64  \n",
      "dtypes: float64(3), int64(2), object(1)\n",
      "memory usage: 14.5+ KB\n"
     ]
    }
   ],
   "source": [
    "# Identifica qué variables tienen valores perdidos con 'info()'\n",
    "df.info()"
   ]
  },
  {
   "cell_type": "markdown",
   "id": "227aa539-568d-49ab-bade-3a540aad237d",
   "metadata": {},
   "source": [
    "Para encontrar las filas con datos perdidos podemos usar `df[df.isna().any(axis=1)]`. El método *isna()* sirve para indicar qué valores son perdidos y el método *any* sirve para indicar qué filas tienen al menos un valor perdido."
   ]
  },
  {
   "cell_type": "code",
   "execution_count": 11,
   "id": "2ebbe088-d503-4be4-9b86-d2cc6657d89c",
   "metadata": {
    "tags": []
   },
   "outputs": [
    {
     "data": {
      "text/html": [
       "<div>\n",
       "<style scoped>\n",
       "    .dataframe tbody tr th:only-of-type {\n",
       "        vertical-align: middle;\n",
       "    }\n",
       "\n",
       "    .dataframe tbody tr th {\n",
       "        vertical-align: top;\n",
       "    }\n",
       "\n",
       "    .dataframe thead th {\n",
       "        text-align: right;\n",
       "    }\n",
       "</style>\n",
       "<table border=\"1\" class=\"dataframe\">\n",
       "  <thead>\n",
       "    <tr style=\"text-align: right;\">\n",
       "      <th></th>\n",
       "      <th>center1distance</th>\n",
       "      <th>price</th>\n",
       "      <th>starrating</th>\n",
       "      <th>accommodationtype</th>\n",
       "      <th>guestreviewsrating</th>\n",
       "      <th>hotel_id</th>\n",
       "    </tr>\n",
       "  </thead>\n",
       "  <tbody>\n",
       "    <tr>\n",
       "      <th>14</th>\n",
       "      <td>0.7</td>\n",
       "      <td>106</td>\n",
       "      <td>2.5</td>\n",
       "      <td>Hotel</td>\n",
       "      <td>NaN</td>\n",
       "      <td>21916</td>\n",
       "    </tr>\n",
       "  </tbody>\n",
       "</table>\n",
       "</div>"
      ],
      "text/plain": [
       "    center1distance  price  starrating accommodationtype  guestreviewsrating  \\\n",
       "14              0.7    106         2.5             Hotel                 NaN   \n",
       "\n",
       "    hotel_id  \n",
       "14     21916  "
      ]
     },
     "execution_count": 11,
     "metadata": {},
     "output_type": "execute_result"
    }
   ],
   "source": [
    "# Identifica qué observaciones tienen datos perdidos \n",
    "df[df.isna().any(axis=1)]"
   ]
  },
  {
   "cell_type": "markdown",
   "id": "7085062f-edda-4284-8de7-1e80293166ce",
   "metadata": {},
   "source": [
    "*¿Qué hacer con datos perdidos?*  \n",
    "Los métodos más comunes para tratar con datos perdidos son:\n",
    "- Borrar filas o columnas con datos perdidos. Si pocas filas tienen datos perdidos (digamos, menos del 5%) y estos parecen ser completamente aleatorios, borrar las filas correspondientes es una alternativa. Si una columna tiene una gran cantidad de datos perdidos, se puede considerar la eliminación de esa columna.\n",
    "- Imputación simple: Reemplazar los datos perdidos con un valor calculado a partir de la misma variable. La opción más común y conservadora es utilizar el promedio. Sin embargo, este método es muy criticado debido a que reduce la variabilidad y afecta la estimación de los intervalos de confianza (Treiman, 2009).\n",
    "- Imputación multivariada: Reemplazar los datos perdidos con un valor calculado a partir de otras variables. En la imputación de datos por medio de la regresión se utilizan otras variables en la base de datos para establecer una ecuación de regresión en la que la variable dependiente es la variable con los datos perdidos. La ecuación de regresión estimada se utiliza para estimar los datos perdidos \n",
    "\n",
    "\n",
    "En cuanto a otros métodos de estimación se recomienda la lectura del capítulo “Multiple imputation of missing data” de Treiman (2009).\n",
    "\n",
    "\n",
    "*Imputación simple o univariada*  \n",
    "La imputación con la media para una columna 'A' es:  \n",
    "`df['A'] = df['A'].fillna(df['A'].mean())`  \n",
    "La imputación con la mediana es  \n",
    "`df['A'] = df['A'].fillna(df['A'].median())`   \n",
    "La imputación con la moda es:  \n",
    "`df['A'] = df['A'].fillna(df['A'].mode().iloc[0])` "
   ]
  },
  {
   "cell_type": "code",
   "execution_count": 12,
   "id": "a784c00e-cd78-4d3e-979b-c1569edeb08d",
   "metadata": {
    "tags": []
   },
   "outputs": [
    {
     "name": "stdout",
     "output_type": "stream",
     "text": [
      "<class 'pandas.core.frame.DataFrame'>\n",
      "Index: 266 entries, 1 to 428\n",
      "Data columns (total 6 columns):\n",
      " #   Column              Non-Null Count  Dtype  \n",
      "---  ------              --------------  -----  \n",
      " 0   center1distance     266 non-null    float64\n",
      " 1   price               266 non-null    int64  \n",
      " 2   starrating          266 non-null    float64\n",
      " 3   accommodationtype   266 non-null    object \n",
      " 4   guestreviewsrating  265 non-null    float64\n",
      " 5   hotel_id            266 non-null    int64  \n",
      "dtypes: float64(3), int64(2), object(1)\n",
      "memory usage: 14.5+ KB\n"
     ]
    }
   ],
   "source": [
    "# Consulta las variables que tienen datos perdidos con 'info()'\n",
    "df.info()"
   ]
  },
  {
   "cell_type": "code",
   "execution_count": 13,
   "id": "5ebe4b69-0127-4e4c-acc8-75c51bfb29a1",
   "metadata": {
    "tags": []
   },
   "outputs": [],
   "source": [
    "def manejar_datos_perdidos(df):\n",
    "    \"\"\" Maneja valores faltantes según el tipo de datos de cada columna\"\"\"\n",
    "    # Mostrar información sobre valores faltantes\n",
    "    print(\"\\nValores faltantes por columna:\")\n",
    "    print(df.isnull().sum())\n",
    "    \n",
    "    for columna in df.columns:\n",
    "        # Para columnas numéricas, rellenar con la mediana\n",
    "        if df[columna].dtype in ['int64', 'float64']:\n",
    "            df[columna] = df[columna].fillna(df[columna].median())\n",
    "            \n",
    "        # Para columnas de texto, rellenar con 'DESCONOCIDO'\n",
    "        elif df[columna].dtype == 'object':\n",
    "            df[columna] = df[columna].fillna('DESCONOCIDO')\n",
    "            \n",
    "    return df"
   ]
  },
  {
   "cell_type": "markdown",
   "id": "2febcc66-3fb4-404d-afa3-ac0826c58a31",
   "metadata": {},
   "source": [
    "## 4.4 Valores atípicos\n",
    "Un valor atípico (outlier) es un valor extremo en una o más variables. En el caso de series univariadas, es común utilizar el método del valor z o el criterio del rango intercuartil. Para el caso de datos multivariados generalmente se utilizan criterios basados en la distancia de Mahalanobis y otras técnicas multivariadas. \n",
    "\n",
    "*¿Qué hacer con datos atípicos?*\n",
    "Si el valor extremo es un error de captura o parte de otra población lo recomendable es corregir o borrar el caso o variable. Si el valor extremo es parte de la distribución se debe mantener, pero se recomienda transformar la variable de forma tal que el valor extremo no impacte los resultados (p. ej. transformación logarítmica, transformación de Box-Cox o la recodificación de datos).\n",
    "\n",
    "*Método del valor z*\n",
    "En este enfoque un valor atípico es aquel que esté a más de tres desviaciones estándar a partir de la media."
   ]
  },
  {
   "cell_type": "code",
   "execution_count": 14,
   "id": "f08d1042-ecea-49a2-a98c-21de5b1ab0e4",
   "metadata": {
    "tags": []
   },
   "outputs": [],
   "source": [
    "def atipicos_3s(df, columna):\n",
    "    \"\"\"\n",
    "    Elimina valores atípicos utilizando el método del valor z.\n",
    "    \"\"\"\n",
    "    media = df[columna].mean()\n",
    "    desviacion_estandar = df[columna].std()\n",
    "    limite_superior = media + 3 * desviacion_estandar\n",
    "    limite_inferior = media - 3 * desviacion_estandar\n",
    "    df_sin_atipicos = df[(df[columna] > limite_inferior) & (df[columna] < limite_superior)]\n",
    "    valores_excluidos = len(df) - len(df_sin_atipicos)\n",
    "    print(f\"Cantidad de valores atípicos excluidos: {valores_excluidos}\")\n",
    "    return df_sin_atipicos"
   ]
  },
  {
   "cell_type": "code",
   "execution_count": 15,
   "id": "91b971c0-8f65-4076-9dff-b62ee2056d6f",
   "metadata": {},
   "outputs": [
    {
     "name": "stdout",
     "output_type": "stream",
     "text": [
      "Cantidad de valores atípicos excluidos: 6\n"
     ]
    },
    {
     "data": {
      "text/html": [
       "<div>\n",
       "<style scoped>\n",
       "    .dataframe tbody tr th:only-of-type {\n",
       "        vertical-align: middle;\n",
       "    }\n",
       "\n",
       "    .dataframe tbody tr th {\n",
       "        vertical-align: top;\n",
       "    }\n",
       "\n",
       "    .dataframe thead th {\n",
       "        text-align: right;\n",
       "    }\n",
       "</style>\n",
       "<table border=\"1\" class=\"dataframe\">\n",
       "  <thead>\n",
       "    <tr style=\"text-align: right;\">\n",
       "      <th></th>\n",
       "      <th>center1distance</th>\n",
       "      <th>price</th>\n",
       "      <th>starrating</th>\n",
       "      <th>accommodationtype</th>\n",
       "      <th>guestreviewsrating</th>\n",
       "      <th>hotel_id</th>\n",
       "    </tr>\n",
       "  </thead>\n",
       "  <tbody>\n",
       "    <tr>\n",
       "      <th>1</th>\n",
       "      <td>1.7</td>\n",
       "      <td>81</td>\n",
       "      <td>4.0</td>\n",
       "      <td>Hotel</td>\n",
       "      <td>3.95</td>\n",
       "      <td>21897</td>\n",
       "    </tr>\n",
       "    <tr>\n",
       "      <th>2</th>\n",
       "      <td>1.4</td>\n",
       "      <td>85</td>\n",
       "      <td>4.0</td>\n",
       "      <td>Hotel</td>\n",
       "      <td>3.75</td>\n",
       "      <td>21901</td>\n",
       "    </tr>\n",
       "    <tr>\n",
       "      <th>3</th>\n",
       "      <td>1.7</td>\n",
       "      <td>83</td>\n",
       "      <td>3.0</td>\n",
       "      <td>Hotel</td>\n",
       "      <td>45.00</td>\n",
       "      <td>21902</td>\n",
       "    </tr>\n",
       "    <tr>\n",
       "      <th>4</th>\n",
       "      <td>1.2</td>\n",
       "      <td>82</td>\n",
       "      <td>4.0</td>\n",
       "      <td>Hotel</td>\n",
       "      <td>3.95</td>\n",
       "      <td>21903</td>\n",
       "    </tr>\n",
       "    <tr>\n",
       "      <th>6</th>\n",
       "      <td>0.9</td>\n",
       "      <td>103</td>\n",
       "      <td>4.0</td>\n",
       "      <td>Hotel</td>\n",
       "      <td>3.95</td>\n",
       "      <td>21906</td>\n",
       "    </tr>\n",
       "    <tr>\n",
       "      <th>...</th>\n",
       "      <td>...</td>\n",
       "      <td>...</td>\n",
       "      <td>...</td>\n",
       "      <td>...</td>\n",
       "      <td>...</td>\n",
       "      <td>...</td>\n",
       "    </tr>\n",
       "    <tr>\n",
       "      <th>423</th>\n",
       "      <td>1.5</td>\n",
       "      <td>95</td>\n",
       "      <td>4.0</td>\n",
       "      <td>Hotel</td>\n",
       "      <td>4.15</td>\n",
       "      <td>22402</td>\n",
       "    </tr>\n",
       "    <tr>\n",
       "      <th>424</th>\n",
       "      <td>1.5</td>\n",
       "      <td>73</td>\n",
       "      <td>3.0</td>\n",
       "      <td>Hotel</td>\n",
       "      <td>3.45</td>\n",
       "      <td>22403</td>\n",
       "    </tr>\n",
       "    <tr>\n",
       "      <th>426</th>\n",
       "      <td>0.8</td>\n",
       "      <td>185</td>\n",
       "      <td>5.0</td>\n",
       "      <td>Hotel</td>\n",
       "      <td>4.35</td>\n",
       "      <td>22406</td>\n",
       "    </tr>\n",
       "    <tr>\n",
       "      <th>427</th>\n",
       "      <td>1.0</td>\n",
       "      <td>100</td>\n",
       "      <td>4.0</td>\n",
       "      <td>Hotel</td>\n",
       "      <td>4.45</td>\n",
       "      <td>22407</td>\n",
       "    </tr>\n",
       "    <tr>\n",
       "      <th>428</th>\n",
       "      <td>1.4</td>\n",
       "      <td>58</td>\n",
       "      <td>3.0</td>\n",
       "      <td>Hotel</td>\n",
       "      <td>3.25</td>\n",
       "      <td>22408</td>\n",
       "    </tr>\n",
       "  </tbody>\n",
       "</table>\n",
       "<p>260 rows × 6 columns</p>\n",
       "</div>"
      ],
      "text/plain": [
       "     center1distance  price  starrating accommodationtype  guestreviewsrating  \\\n",
       "1                1.7     81         4.0             Hotel                3.95   \n",
       "2                1.4     85         4.0             Hotel                3.75   \n",
       "3                1.7     83         3.0             Hotel               45.00   \n",
       "4                1.2     82         4.0             Hotel                3.95   \n",
       "6                0.9    103         4.0             Hotel                3.95   \n",
       "..               ...    ...         ...               ...                 ...   \n",
       "423              1.5     95         4.0             Hotel                4.15   \n",
       "424              1.5     73         3.0             Hotel                3.45   \n",
       "426              0.8    185         5.0             Hotel                4.35   \n",
       "427              1.0    100         4.0             Hotel                4.45   \n",
       "428              1.4     58         3.0             Hotel                3.25   \n",
       "\n",
       "     hotel_id  \n",
       "1       21897  \n",
       "2       21901  \n",
       "3       21902  \n",
       "4       21903  \n",
       "6       21906  \n",
       "..        ...  \n",
       "423     22402  \n",
       "424     22403  \n",
       "426     22406  \n",
       "427     22407  \n",
       "428     22408  \n",
       "\n",
       "[260 rows x 6 columns]"
      ]
     },
     "execution_count": 15,
     "metadata": {},
     "output_type": "execute_result"
    }
   ],
   "source": [
    "atipicos_3s(df,'price')"
   ]
  },
  {
   "cell_type": "markdown",
   "id": "bcb30c45-72a1-4144-b998-22f0eb4fc829",
   "metadata": {},
   "source": [
    "*Método del rango intercuartil*. Otro criterio común es considerar como atípicos los valores que están a más de 1.5 veces el rango intercuartil hacia el extremo a partir del 1er. o 3er. cuartil."
   ]
  },
  {
   "cell_type": "code",
   "execution_count": 16,
   "id": "bde6704f-a6e5-4373-a4e0-3f00a750887f",
   "metadata": {
    "tags": []
   },
   "outputs": [],
   "source": [
    "def atipicos_iqr(df, columna):\n",
    "    \"\"\"\n",
    "    Elimina valores atípicos utilizando el criterio del rango intercuartil.\n",
    "    \"\"\"\n",
    "    Q1 = df[columna].quantile(0.25)\n",
    "    Q3 = df[columna].quantile(0.75)\n",
    "    IQR = Q3 - Q1\n",
    "    limite_inferior = Q1 - 1.5 * IQR\n",
    "    limite_superior = Q3 + 1.5 * IQR\n",
    "    df_sin_atipicos = df[(df[columna] > limite_inferior) & (df[columna] < limite_superior)]\n",
    "    valores_excluidos = len(df) - len(df_sin_atipicos)\n",
    "    print(f\"Cantidad de valores atípicos excluidos: {valores_excluidos}\")\n",
    "    return df_sin_atipicos"
   ]
  },
  {
   "cell_type": "code",
   "execution_count": 17,
   "id": "d6db7f53-c21d-40ff-a620-1a239f1fb27d",
   "metadata": {},
   "outputs": [
    {
     "name": "stdout",
     "output_type": "stream",
     "text": [
      "Cantidad de valores atípicos excluidos: 20\n"
     ]
    },
    {
     "data": {
      "text/html": [
       "<div>\n",
       "<style scoped>\n",
       "    .dataframe tbody tr th:only-of-type {\n",
       "        vertical-align: middle;\n",
       "    }\n",
       "\n",
       "    .dataframe tbody tr th {\n",
       "        vertical-align: top;\n",
       "    }\n",
       "\n",
       "    .dataframe thead th {\n",
       "        text-align: right;\n",
       "    }\n",
       "</style>\n",
       "<table border=\"1\" class=\"dataframe\">\n",
       "  <thead>\n",
       "    <tr style=\"text-align: right;\">\n",
       "      <th></th>\n",
       "      <th>center1distance</th>\n",
       "      <th>price</th>\n",
       "      <th>starrating</th>\n",
       "      <th>accommodationtype</th>\n",
       "      <th>guestreviewsrating</th>\n",
       "      <th>hotel_id</th>\n",
       "    </tr>\n",
       "  </thead>\n",
       "  <tbody>\n",
       "    <tr>\n",
       "      <th>1</th>\n",
       "      <td>1.7</td>\n",
       "      <td>81</td>\n",
       "      <td>4.0</td>\n",
       "      <td>Hotel</td>\n",
       "      <td>3.95</td>\n",
       "      <td>21897</td>\n",
       "    </tr>\n",
       "    <tr>\n",
       "      <th>2</th>\n",
       "      <td>1.4</td>\n",
       "      <td>85</td>\n",
       "      <td>4.0</td>\n",
       "      <td>Hotel</td>\n",
       "      <td>3.75</td>\n",
       "      <td>21901</td>\n",
       "    </tr>\n",
       "    <tr>\n",
       "      <th>3</th>\n",
       "      <td>1.7</td>\n",
       "      <td>83</td>\n",
       "      <td>3.0</td>\n",
       "      <td>Hotel</td>\n",
       "      <td>45.00</td>\n",
       "      <td>21902</td>\n",
       "    </tr>\n",
       "    <tr>\n",
       "      <th>4</th>\n",
       "      <td>1.2</td>\n",
       "      <td>82</td>\n",
       "      <td>4.0</td>\n",
       "      <td>Hotel</td>\n",
       "      <td>3.95</td>\n",
       "      <td>21903</td>\n",
       "    </tr>\n",
       "    <tr>\n",
       "      <th>6</th>\n",
       "      <td>0.9</td>\n",
       "      <td>103</td>\n",
       "      <td>4.0</td>\n",
       "      <td>Hotel</td>\n",
       "      <td>3.95</td>\n",
       "      <td>21906</td>\n",
       "    </tr>\n",
       "    <tr>\n",
       "      <th>...</th>\n",
       "      <td>...</td>\n",
       "      <td>...</td>\n",
       "      <td>...</td>\n",
       "      <td>...</td>\n",
       "      <td>...</td>\n",
       "      <td>...</td>\n",
       "    </tr>\n",
       "    <tr>\n",
       "      <th>423</th>\n",
       "      <td>1.5</td>\n",
       "      <td>95</td>\n",
       "      <td>4.0</td>\n",
       "      <td>Hotel</td>\n",
       "      <td>4.15</td>\n",
       "      <td>22402</td>\n",
       "    </tr>\n",
       "    <tr>\n",
       "      <th>424</th>\n",
       "      <td>1.5</td>\n",
       "      <td>73</td>\n",
       "      <td>3.0</td>\n",
       "      <td>Hotel</td>\n",
       "      <td>3.45</td>\n",
       "      <td>22403</td>\n",
       "    </tr>\n",
       "    <tr>\n",
       "      <th>426</th>\n",
       "      <td>0.8</td>\n",
       "      <td>185</td>\n",
       "      <td>5.0</td>\n",
       "      <td>Hotel</td>\n",
       "      <td>4.35</td>\n",
       "      <td>22406</td>\n",
       "    </tr>\n",
       "    <tr>\n",
       "      <th>427</th>\n",
       "      <td>1.0</td>\n",
       "      <td>100</td>\n",
       "      <td>4.0</td>\n",
       "      <td>Hotel</td>\n",
       "      <td>4.45</td>\n",
       "      <td>22407</td>\n",
       "    </tr>\n",
       "    <tr>\n",
       "      <th>428</th>\n",
       "      <td>1.4</td>\n",
       "      <td>58</td>\n",
       "      <td>3.0</td>\n",
       "      <td>Hotel</td>\n",
       "      <td>3.25</td>\n",
       "      <td>22408</td>\n",
       "    </tr>\n",
       "  </tbody>\n",
       "</table>\n",
       "<p>246 rows × 6 columns</p>\n",
       "</div>"
      ],
      "text/plain": [
       "     center1distance  price  starrating accommodationtype  guestreviewsrating  \\\n",
       "1                1.7     81         4.0             Hotel                3.95   \n",
       "2                1.4     85         4.0             Hotel                3.75   \n",
       "3                1.7     83         3.0             Hotel               45.00   \n",
       "4                1.2     82         4.0             Hotel                3.95   \n",
       "6                0.9    103         4.0             Hotel                3.95   \n",
       "..               ...    ...         ...               ...                 ...   \n",
       "423              1.5     95         4.0             Hotel                4.15   \n",
       "424              1.5     73         3.0             Hotel                3.45   \n",
       "426              0.8    185         5.0             Hotel                4.35   \n",
       "427              1.0    100         4.0             Hotel                4.45   \n",
       "428              1.4     58         3.0             Hotel                3.25   \n",
       "\n",
       "     hotel_id  \n",
       "1       21897  \n",
       "2       21901  \n",
       "3       21902  \n",
       "4       21903  \n",
       "6       21906  \n",
       "..        ...  \n",
       "423     22402  \n",
       "424     22403  \n",
       "426     22406  \n",
       "427     22407  \n",
       "428     22408  \n",
       "\n",
       "[246 rows x 6 columns]"
      ]
     },
     "execution_count": 17,
     "metadata": {},
     "output_type": "execute_result"
    }
   ],
   "source": [
    "atipicos_iqr(df, 'price')"
   ]
  },
  {
   "cell_type": "markdown",
   "id": "7d7797bc-2120-4d13-9dfa-4c8194ec6ac4",
   "metadata": {},
   "source": [
    "*Algoritmo isolation forest*"
   ]
  },
  {
   "cell_type": "code",
   "execution_count": 18,
   "id": "86646141-a595-45e6-94ba-e6ec103113a1",
   "metadata": {},
   "outputs": [],
   "source": [
    "from sklearn.ensemble import IsolationForest\n",
    "\n",
    "def eliminar_atipicos_isolation_forest(df, columnas, contamination=0.05, random_state=42):\n",
    "    \"\"\"\n",
    "    Elimina valores atípicos utilizando el algoritmo Isolation Forest.\n",
    "    \"\"\"\n",
    "    # Crear y ajusta el modelo de Isolation Forest\n",
    "    iso_forest = IsolationForest(contamination=contamination, random_state=random_state)\n",
    "    iso_forest.fit(df[columnas])\n",
    "\n",
    "    # Predecir etiquetas: 1 (normal) o -1 (atípico)\n",
    "    etiquetas = iso_forest.predict(df[columnas])\n",
    "\n",
    "    # Calcular y mostrar la cantidad de valores atípicos excluidos\n",
    "    df_sin_atipicos = df[etiquetas == 1]\n",
    "    valores_excluidos = len(df) - len(df_sin_atipicos)\n",
    "    print(f\"Cantidad de valores atípicos excluidos: {valores_excluidos}\")\n",
    "\n",
    "    return df_sin_atipicos"
   ]
  },
  {
   "cell_type": "code",
   "execution_count": 19,
   "id": "31fabbaf-3c20-425b-82d0-139f34ae6255",
   "metadata": {},
   "outputs": [
    {
     "name": "stdout",
     "output_type": "stream",
     "text": [
      "Cantidad de valores atípicos excluidos: 14\n"
     ]
    }
   ],
   "source": [
    "datos_sin_atipicos = eliminar_atipicos_isolation_forest(df, columnas=['center1distance','price'])"
   ]
  },
  {
   "cell_type": "markdown",
   "id": "40c25e31-dce3-453c-a83c-6cdf25801722",
   "metadata": {},
   "source": [
    "## 4.5 Reporte general"
   ]
  },
  {
   "cell_type": "code",
   "execution_count": 20,
   "id": "434a3c83-6efd-476d-9c3b-bcde547b2c7c",
   "metadata": {},
   "outputs": [],
   "source": [
    "def generar_reporte_calidad(df):\n",
    "    \"\"\"\n",
    "    Genera un reporte básico de calidad de datos\n",
    "    \"\"\"\n",
    "    print(\"\\nREPORTE DE CALIDAD DE DATOS\")\n",
    "    print(\"-\" * 50)\n",
    "    \n",
    "    # Información básica\n",
    "    print(f\"Dimensiones del DataFrame: {df.shape}\")\n",
    "    print(f\"\\nTipos de datos:\")\n",
    "    print(df.dtypes)\n",
    "    \n",
    "    # Valores únicos por columna\n",
    "    print(\"\\nValores únicos por columna:\")\n",
    "    for col in df.columns:\n",
    "        print(f\"{col}: {df[col].nunique()} valores únicos\")\n",
    "    \n",
    "    # Estadísticas básicas para columnas numéricas\n",
    "    print(\"\\nEstadísticas básicas:\")\n",
    "    print(df.describe())"
   ]
  },
  {
   "cell_type": "code",
   "execution_count": 25,
   "id": "d4bc1bc1-a659-47b6-99b1-ff8dd0dd341d",
   "metadata": {},
   "outputs": [
    {
     "name": "stdout",
     "output_type": "stream",
     "text": [
      "\n",
      "REPORTE DE CALIDAD DE DATOS\n",
      "--------------------------------------------------\n",
      "Dimensiones del DataFrame: (250, 6)\n",
      "\n",
      "Tipos de datos:\n",
      "center1distance       float64\n",
      "price                   int64\n",
      "starrating            float64\n",
      "accommodationtype      object\n",
      "guestreviewsrating    float64\n",
      "hotel_id                int64\n",
      "dtype: object\n",
      "\n",
      "Valores únicos por columna:\n",
      "center1distance: 48 valores únicos\n",
      "price: 125 valores únicos\n",
      "starrating: 8 valores únicos\n",
      "accommodationtype: 1 valores únicos\n",
      "guestreviewsrating: 17 valores únicos\n",
      "hotel_id: 250 valores únicos\n",
      "\n",
      "Estadísticas básicas:\n",
      "       center1distance       price  starrating  guestreviewsrating  \\\n",
      "count       250.000000  250.000000  250.000000          250.000000   \n",
      "mean          1.502400  116.428000    3.592000           11.204400   \n",
      "std           1.259627   56.059105    0.730528           15.402095   \n",
      "min           0.000000   33.000000    1.000000            2.250000   \n",
      "25%           0.700000   81.000000    3.000000            3.950000   \n",
      "50%           1.100000  100.000000    4.000000            4.350000   \n",
      "75%           1.900000  135.000000    4.000000            4.550000   \n",
      "max           7.100000  384.000000    5.000000           45.000000   \n",
      "\n",
      "           hotel_id  \n",
      "count    250.000000  \n",
      "mean   22160.352000  \n",
      "std      147.701004  \n",
      "min    21897.000000  \n",
      "25%    22031.250000  \n",
      "50%    22168.500000  \n",
      "75%    22285.750000  \n",
      "max    22408.000000  \n"
     ]
    }
   ],
   "source": [
    "# Generar reporte de calidad de datos\n",
    "generar_reporte_calidad(df)"
   ]
  },
  {
   "cell_type": "markdown",
   "id": "b4fb6cac-b8a4-43f7-b922-4c1661a836cc",
   "metadata": {},
   "source": [
    "## 4.6 Exportar datos (opcional)"
   ]
  },
  {
   "cell_type": "markdown",
   "id": "31ff54bb-1ce6-46dc-9b3f-a8f8f959c05c",
   "metadata": {
    "tags": []
   },
   "source": [
    "Un dataframe lo podemos guardar con `df.to_excel('carpeta/archivo.xlsx', index=False)`"
   ]
  },
  {
   "cell_type": "code",
   "execution_count": 21,
   "id": "105dc65f-650c-4c21-af8d-388e4f1c96fd",
   "metadata": {},
   "outputs": [],
   "source": [
    "# Exporta el dataframe depurado con el nombre 'output'\n",
    "df.to_excel('data/output.xlsx', index=False)"
   ]
  },
  {
   "cell_type": "markdown",
   "id": "7aae45e6-83ac-41d9-955a-7bb55f3e26e7",
   "metadata": {},
   "source": [
    "## 4.6 Resumen del flujo de trabajo"
   ]
  },
  {
   "cell_type": "code",
   "execution_count": 26,
   "id": "1c9673b6-a08b-4b4b-bf29-5b959ecfbc3c",
   "metadata": {},
   "outputs": [
    {
     "name": "stdout",
     "output_type": "stream",
     "text": [
      "Se eliminaron 2 filas duplicadas\n",
      "\n",
      "Valores faltantes por columna:\n",
      "center1distance       0\n",
      "price                 0\n",
      "starrating            0\n",
      "accommodationtype     0\n",
      "guestreviewsrating    1\n",
      "hotel_id              0\n",
      "dtype: int64\n",
      "Cantidad de valores atípicos excluidos: 14\n"
     ]
    }
   ],
   "source": [
    "# Crear una copia para no modificar el original\n",
    "df = original_df.copy()\n",
    "    \n",
    "# Eliminar filas duplicadas\n",
    "df = eliminar_duplicados(df)\n",
    "    \n",
    "# Manejar datos perdidos\n",
    "df = manejar_datos_perdidos(df)\n",
    "\n",
    "# Eliminar valores atípicos\n",
    "df = eliminar_atipicos_isolation_forest(df, columnas=['center1distance','price'])"
   ]
  },
  {
   "cell_type": "markdown",
   "id": "44d2bf36-d30f-4cb6-a9dc-967d97886a99",
   "metadata": {},
   "source": [
    "## Referencias\n",
    "Treiman, D. J. (2009). *Quantitative data analysis. Doing social research to test ideas*. San Francisco, CA: Jossey-Bass."
   ]
  },
  {
   "cell_type": "code",
   "execution_count": null,
   "id": "e602b727-44cf-41e3-b0c0-b6eda59aa7ce",
   "metadata": {},
   "outputs": [],
   "source": []
  }
 ],
 "metadata": {
  "kernelspec": {
   "display_name": "Python 3 (ipykernel)",
   "language": "python",
   "name": "python3"
  },
  "language_info": {
   "codemirror_mode": {
    "name": "ipython",
    "version": 3
   },
   "file_extension": ".py",
   "mimetype": "text/x-python",
   "name": "python",
   "nbconvert_exporter": "python",
   "pygments_lexer": "ipython3",
   "version": "3.12.4"
  }
 },
 "nbformat": 4,
 "nbformat_minor": 5
}
