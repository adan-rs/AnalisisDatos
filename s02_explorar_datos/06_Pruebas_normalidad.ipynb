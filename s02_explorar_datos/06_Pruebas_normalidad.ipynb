{
 "cells": [
  {
   "cell_type": "markdown",
   "id": "ae05dff2-ab04-4236-97d9-031979e53134",
   "metadata": {},
   "source": [
    "# Pruebas de normalidad\n",
    "\n",
    "Existen varias pruebas para evaluar la normalidad de los datos. Exploraremos la prueba Shapiro-Wilk y la Kolmogorov-Smirnov"
   ]
  },
  {
   "cell_type": "code",
   "execution_count": null,
   "id": "984471df-d94c-4659-a6cf-71547352eac7",
   "metadata": {},
   "outputs": [],
   "source": [
    "import pandas as pd\n",
    "import numpy as np\n",
    "from scipy import stats\n",
    "\n",
    "df = pd.read_excel('../datasets/enigh2020.xlsx')\n",
    "#df = pd.read_excel('https://github.com/adan-rs/AnalisisDatos/raw/main/datasets/enigh2020.xlsx')"
   ]
  },
  {
   "cell_type": "code",
   "execution_count": null,
   "id": "21d0afc2-e9ae-4d4c-aa1f-bece3278c75d",
   "metadata": {},
   "outputs": [],
   "source": [
    "# Para propósitos de ejemplo obtenemos una muestra de tamaño mediano\n",
    "data = df['edad_jefe'].head(100)"
   ]
  },
  {
   "cell_type": "markdown",
   "id": "88c46e67-68eb-4e53-9e96-73f554aab906",
   "metadata": {},
   "source": [
    "## Prueba Shapiro-Wilk\n",
    "\n",
    "La prueba Shapiro-Wilk es una de las más utilizadas especialmente para **muestras pequeñas o medianas**. No es recomendable para muestras grandes debido a que en esos casos puede ser muy sensible a pequeñas desviaciones de la normalidad.\n",
    "- Hipótesis nula (H0): Los datos provienen de una distribución normal  \n",
    "- Hipótesis alternativa (H1): Los datos no provienen de una distribución normal.  "
   ]
  },
  {
   "cell_type": "code",
   "execution_count": null,
   "id": "06e8a602-3480-4c32-9517-9cca51cc4be3",
   "metadata": {},
   "outputs": [],
   "source": [
    "def shapiro_wilk_test(data, alpha=0.05):\n",
    "    \"\"\" Aplica una prueba Shapiro-Wilk para evaluar la normalidad de los datos\"\"\"\n",
    "    statistic, p_value = stats.shapiro(data)\n",
    "    conclusion = \"no rechaza\" if p_value > alpha else \"rechaza\"\n",
    "    print(f'La prueba Shapiro-Wilk {conclusion} la normalidad de los datos (W = {statistic:.4f}, p = {p_value:.4f})')\n",
    "    return p_value > alpha"
   ]
  },
  {
   "cell_type": "code",
   "execution_count": null,
   "id": "fee95cec-14b5-4704-824b-60a34425a9c1",
   "metadata": {},
   "outputs": [],
   "source": [
    "shapiro_wilk_test(data)"
   ]
  },
  {
   "cell_type": "markdown",
   "id": "01c766bb-8b5a-4b83-b8f2-b53e6a4a3686",
   "metadata": {},
   "source": [
    "## Prueba Kolmogorov-Smirnov\n",
    "La prueba de Kolmogorov-Smirnov es apropiada para **muestras grandes** y es generalizable a otro tipo de distribuciones.\n",
    "- Hipótesis nula (H0): Los datos provienen de una distribución específica\n",
    "- Hipótesis alternativa (H1): Los datos no provienen de una distribución específica"
   ]
  },
  {
   "cell_type": "code",
   "execution_count": null,
   "id": "3512126e-63f4-414d-a7e2-8330379fbe66",
   "metadata": {},
   "outputs": [],
   "source": [
    "def kolmogorov_smirnov_test(data, alpha=0.05):\n",
    "    \"\"\" Aplica una prueba Kolmogorov-Smirnov para evaluar la normalidad de los datos\"\"\"\n",
    "    mu = data.mean()\n",
    "    sigma = data.std()\n",
    "    statistic, p_value = stats.kstest(data, 'norm', args=(mu, sigma))\n",
    "    conclusion = \"no rechaza\" if p_value > alpha else \"rechaza\"\n",
    "    print(f'La prueba Kolmogorov-Smirnov {conclusion} la normalidad de los datos (D = {statistic:.4f}, p = {p_value:.4f})')\n",
    "    return p_value > alpha"
   ]
  },
  {
   "cell_type": "code",
   "execution_count": null,
   "id": "5e40a77a-2e78-4f72-8859-ea47997cc0dc",
   "metadata": {},
   "outputs": [],
   "source": [
    "kolmogorov_smirnov_test(data)"
   ]
  },
  {
   "cell_type": "markdown",
   "id": "7525363f-20ae-4db0-93ef-76c0ab2a3bfa",
   "metadata": {},
   "source": [
    "## Referencias\n",
    "https://docs.scipy.org/doc/scipy/reference/generated/scipy.stats.shapiro.html\n",
    "\n",
    "\n",
    "https://docs.scipy.org/doc/scipy/reference/generated/scipy.stats.kstest.html"
   ]
  },
  {
   "cell_type": "code",
   "execution_count": null,
   "id": "c056b8f7-fe3c-4f5f-b619-3fc78706b4d8",
   "metadata": {},
   "outputs": [],
   "source": []
  }
 ],
 "metadata": {
  "kernelspec": {
   "display_name": "Python 3 (ipykernel)",
   "language": "python",
   "name": "python3"
  },
  "language_info": {
   "codemirror_mode": {
    "name": "ipython",
    "version": 3
   },
   "file_extension": ".py",
   "mimetype": "text/x-python",
   "name": "python",
   "nbconvert_exporter": "python",
   "pygments_lexer": "ipython3",
   "version": "3.12.4"
  }
 },
 "nbformat": 4,
 "nbformat_minor": 5
}
