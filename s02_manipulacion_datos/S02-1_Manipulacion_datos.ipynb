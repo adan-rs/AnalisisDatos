{
 "cells": [
  {
   "cell_type": "markdown",
   "id": "ecc7a6a8-7b95-42a3-ae4d-1acce323a449",
   "metadata": {},
   "source": [
    "# Sesión 02: Manipulación básica de datos\n",
    "*\"In God we trust. All others must bring data\" (W. E. Deming).*  \n"
   ]
  },
  {
   "cell_type": "markdown",
   "id": "7218eb4b-0951-493a-bb40-4349e0324eca",
   "metadata": {},
   "source": [
    "## 2.1 Carga de los datos\n",
    "\n",
    "En python trabajaremos con varias bibliotecas y como primer paso debemos indicar cuál emplearemos para importar los datos. En este caso utilizaremos *pandas* con el alias *pd*. El nombre de pandas proviene de *panel data*. Otra alternativa, especialmente para grandes conjuntos de datos, es *polars*."
   ]
  },
  {
   "cell_type": "code",
   "execution_count": null,
   "id": "d6392809-ffcc-41fd-98e0-38d827c9de04",
   "metadata": {
    "tags": []
   },
   "outputs": [],
   "source": [
    "import pandas as pd"
   ]
  },
  {
   "cell_type": "markdown",
   "id": "b5573d29-68bc-4358-877c-01be0c5af3f6",
   "metadata": {},
   "source": [
    "Ahora vamos a utilizar la función `pd.read_excel()` para leer el archivo en la cual agregaremos como argumentos la ubicación del archivo. "
   ]
  },
  {
   "cell_type": "code",
   "execution_count": null,
   "id": "67f52041-5416-4da2-ad54-8d7fdc2b094b",
   "metadata": {
    "tags": []
   },
   "outputs": [],
   "source": [
    "url = 'https://github.com/adan-rs/AnalisisDatos/raw/main/s02_manipulacion_datos/b01_casas.xlsx'\n",
    "\n",
    "df = pd.read_excel(url)"
   ]
  },
  {
   "cell_type": "markdown",
   "id": "62d174aa-f1ce-4ed0-b23b-a5415e16bc1b",
   "metadata": {},
   "source": [
    "Siempre se debe indicar la ubicación del archivo, a menos que el archivo esté en el mismo directorio del Jupyter notebook. Se pueden incluir algunas instrucciones mediante otros argumentos, por ejemplo, si es un archivo de Excel indicar qué hoja o columnas utilizar.\n",
    "\n",
    "Los formatos más comunes son *csv* (comma separated value) y excel por lo que lo más frecuente es usar *read_excel* y *read_csv*. Dependiendo del tipo de archivo, también están disponibles funciones como *read_json*, *read_sas*, *read_stata*, *read_sql* y al menos una docena más."
   ]
  },
  {
   "cell_type": "markdown",
   "id": "fd6ae18b-b120-48c6-9006-8701b2965d43",
   "metadata": {
    "tags": []
   },
   "source": [
    "### Dataframes\n",
    "\n",
    "Una forma muy común de organizar los datos es en filas y columnas. Cada fila corresponde a una observación (elemento, objeto, caso, individuo, evento), y cada columna corresponde a una variable (en machine learning las variables se les conoce como *features*). En Pandas, a este tipo de ordenamiento se le conoce como DataFrame y la función que utilizamos importa los datos en un dataframe."
   ]
  },
  {
   "cell_type": "code",
   "execution_count": null,
   "id": "5fabdc2e-012e-48a1-be94-0a0fb50f9200",
   "metadata": {},
   "outputs": [],
   "source": [
    "df"
   ]
  },
  {
   "cell_type": "markdown",
   "id": "5600ace9-0ad8-4016-abb8-e4def0c38762",
   "metadata": {},
   "source": [
    "Observa que una característica adicional es que cuentan con un índice para las filas. En principio, este índice es secuencial empezando por cero, pero puede ser sustituido por un ID, una fecha o cualquier otra variable. Un dataframe puede incluso tener varios índices para representar objetos multidimensionales (cubos de datos).\n",
    "\n",
    "Para seleccionar solamente una columna utiliza corchetes o notación con punto, por ejemplo `df['recamaras']` o `df.recamaras`. Al seleccionar una sola columna esta se mostrará como una serie."
   ]
  },
  {
   "cell_type": "code",
   "execution_count": null,
   "id": "3bff595e-82b9-456d-b71c-534b146bcd1d",
   "metadata": {
    "tags": []
   },
   "outputs": [],
   "source": [
    "df['recamaras']"
   ]
  },
  {
   "cell_type": "markdown",
   "id": "241e8696-2ee5-4eb5-8514-b921efde3300",
   "metadata": {},
   "source": [
    "Para seleccionar múltiples columnas, agrega las columnas en una lista:"
   ]
  },
  {
   "cell_type": "code",
   "execution_count": null,
   "id": "cdfbb101-ed74-4d6b-aa29-c9b7278d940e",
   "metadata": {
    "tags": []
   },
   "outputs": [],
   "source": [
    "df[['recamaras', 'baños']]"
   ]
  },
  {
   "cell_type": "markdown",
   "id": "13876511-b67d-4c3b-9e63-a1be29366665",
   "metadata": {},
   "source": [
    "Es posible hacer operaciones con columnas. Por ejemplo"
   ]
  },
  {
   "cell_type": "code",
   "execution_count": null,
   "id": "cac81ab5-0475-457b-9711-60fdb29ad4cb",
   "metadata": {
    "tags": []
   },
   "outputs": [],
   "source": [
    "df['preciom2'] = (df['preciomillones'] / df['construccion']) * 1000000\n",
    "df"
   ]
  },
  {
   "cell_type": "markdown",
   "id": "6936f171-75d9-4e99-8097-931d2657bad6",
   "metadata": {},
   "source": [
    "## 2.2 Revisión de los datos\n",
    "\n",
    "### Revisa los primeros renglones\n",
    "\n",
    "Siempre es útil revisar los primeros renglones del dataframe para verificar que los datos estén en el formato apropiado. Para ello, vamos a utilizar el método `head()`. \n",
    "\n",
    "Un *método* es una función asociada a un objeto y se utiliza un punto para indicar esta asociación, por ejemplo `df.head()`. Un método tiene parámetros que van entre paréntesis. En el caso de `head()` podemos agregar el número de renglones que deseamos visualizar. De manera predeterminada este número es de 5 renglones"
   ]
  },
  {
   "cell_type": "code",
   "execution_count": null,
   "id": "2cc50292-724c-4108-87db-bc8d0e9f5a80",
   "metadata": {},
   "outputs": [],
   "source": [
    "df.head(5)"
   ]
  },
  {
   "cell_type": "markdown",
   "id": "a3b65af9-114a-4ff5-9100-f6f5a8d29e1c",
   "metadata": {},
   "source": [
    "Una alternativa es revisar los últimos cinco valores con `tail()` o una muestra con `sample()`. "
   ]
  },
  {
   "cell_type": "code",
   "execution_count": null,
   "id": "72049475-3581-47d5-926f-4f2dcc96037f",
   "metadata": {
    "tags": []
   },
   "outputs": [],
   "source": [
    "# Práctica: encuentra los últimos 3 valores del DataFrame\n"
   ]
  },
  {
   "cell_type": "markdown",
   "id": "6245eb9b-4e5e-4cf9-bf97-8f17e92522f3",
   "metadata": {},
   "source": [
    "### Revisa la forma de tu dataframe\n",
    "\n",
    "Cada dataframe tiene un *atributo* (una característica automática) de forma (*shape*). Esta forma tiene dos dimensiones: número de renglones y número de columnas. Estos dos valores se acomodan en una *tupla* (una lista que no puede ser modificada). Para desplegar este atributo agregamos `.shape` al nombre del DataFrame: "
   ]
  },
  {
   "cell_type": "code",
   "execution_count": null,
   "id": "a03c95f2-e89e-4a39-8781-0da1fb652549",
   "metadata": {},
   "outputs": [],
   "source": [
    "df.shape"
   ]
  },
  {
   "cell_type": "markdown",
   "id": "a5c53c29-4c43-423f-8948-6da6d90b1e50",
   "metadata": {},
   "source": [
    "Nótese que *shape* no requiere argumentos y por tanto no se añaden paréntesis. Esa es la diferencia entre un *atributo* y un *método*."
   ]
  },
  {
   "cell_type": "markdown",
   "id": "420c8066-5c9e-492e-9d28-6070ff4b77bb",
   "metadata": {
    "tags": []
   },
   "source": [
    "### Revisa los nombres de las columnas\n",
    "Los nombres de las columnas corresponden a los nombres de las variables y son otro atributo de los dataframes. Puedes consultar estos nombres agregando `.columns` al nombre del DataFrame:"
   ]
  },
  {
   "cell_type": "code",
   "execution_count": null,
   "id": "ef9e231a-c683-4309-a003-d5dcfcaf4006",
   "metadata": {},
   "outputs": [],
   "source": [
    "df.columns"
   ]
  },
  {
   "cell_type": "markdown",
   "id": "9cbfa61a-74d2-449e-b5fe-e9cc0c9f1bd5",
   "metadata": {},
   "source": [
    "En caso de desear renombrar una columna en un dataframe llamado *df* se puede utilizar:   \n",
    "`df.rename(columns={'nombre_anterior': 'nombre_nuevo'})`"
   ]
  },
  {
   "cell_type": "code",
   "execution_count": null,
   "id": "03528284-d34d-4282-9a07-5bd0e9ec1565",
   "metadata": {
    "tags": []
   },
   "outputs": [],
   "source": [
    "df = df.rename(columns={'baños':'banos'})\n",
    "df.columns"
   ]
  },
  {
   "cell_type": "markdown",
   "id": "c82bddcb-4463-45ab-a137-4c23093c8e9b",
   "metadata": {},
   "source": [
    "Si deseas borrar una columna puedes utilizar `df.drop(columns=['nombre_columna'])`."
   ]
  },
  {
   "cell_type": "code",
   "execution_count": null,
   "id": "4311c498-7b31-4b99-8ca2-2cbd6c8e7082",
   "metadata": {
    "tags": []
   },
   "outputs": [],
   "source": [
    "df = df.drop(columns=['colonia'])\n",
    "df"
   ]
  },
  {
   "cell_type": "markdown",
   "id": "c1529e4e-bd2d-4460-99d4-9e5257d5a0d3",
   "metadata": {
    "tags": []
   },
   "source": [
    "### Revisa los datos perdidos\n",
    "Es importante identificar los datos perdidos en un dataframe. Aunque en algunos casos son omitidos automáticamente, muchos procedimientos requieren que se tenga una matriz completa sin datos perdidos. \n",
    "\n",
    "Pandas utiliza el símbolo *NaN* (Not a number) para indicar datos numéricos perdidos (específicamente, datos perdidos de punto flotante). Si son datos de series de tiempo (*datatime*) son indicados como *NaT*.\n",
    "\n",
    "Una forma rápida de consultar los datos perdidos en un dataframe es mediante el método `info()`. Al utilizarlo se mostrará el nombre de cada columna y el total de registros (*non-null values*)"
   ]
  },
  {
   "cell_type": "code",
   "execution_count": null,
   "id": "01256929-37cb-41ef-99d4-379fe8843312",
   "metadata": {},
   "outputs": [],
   "source": [
    "df.info()"
   ]
  },
  {
   "cell_type": "markdown",
   "id": "85195b1d-a0af-4b27-9cf5-fe03f4480659",
   "metadata": {},
   "source": [
    "Para revisar los valores perdidos en una variable puedes usar los métodos `isna()` o `notna()`, que arrojarán *True* o *False* para elemento según corresponda. Puedes contar el número de valores perdidos agregando `sum()` y especificar incluso la variable:"
   ]
  },
  {
   "cell_type": "code",
   "execution_count": null,
   "id": "87eadd58-5378-48b8-93f3-98cc2206bd7c",
   "metadata": {},
   "outputs": [],
   "source": [
    "df.recamaras.isnull().sum()"
   ]
  },
  {
   "cell_type": "markdown",
   "id": "4706a9f7-c901-4725-a6cb-233478daafd6",
   "metadata": {},
   "source": [
    "Pandas reconoce automáticamente algunos formatos de valores perdidos como *NA* o *NULL* pero considera que en muchas bases de datos los valores perdidos tienen algún código numérico como 99 o incluso 0."
   ]
  },
  {
   "cell_type": "markdown",
   "id": "d6978ebe-de83-4e2e-9969-aba1976782da",
   "metadata": {},
   "source": [
    "Para borrar los datos perdidos puedes utilizar `df.dropna()`. Sin embargo, el tratamiento de datos perdidos se verá en una práctica posterior."
   ]
  },
  {
   "cell_type": "markdown",
   "id": "42af342b-e218-41e3-84f0-0112d5f998dc",
   "metadata": {},
   "source": [
    "### Revisa los tipos de datos"
   ]
  },
  {
   "cell_type": "markdown",
   "id": "e2d963d3-7d18-4e30-b378-47bfc978c93c",
   "metadata": {},
   "source": [
    "Para identicar qué tipo de dato es cada variable se puede utilizar el método `dtype`."
   ]
  },
  {
   "cell_type": "code",
   "execution_count": null,
   "id": "1d1aa583-5bed-44d9-a535-4498a36330f1",
   "metadata": {},
   "outputs": [],
   "source": [
    "df.dtypes"
   ]
  },
  {
   "cell_type": "markdown",
   "id": "1d1f0f6f-c59f-474f-8b89-fe7a50d7659e",
   "metadata": {},
   "source": [
    "Puedes cambiar un tipo de dato a otro mediante el método `astype()`. Por ejemplo, si X debe ser *float* se puede usar `df.X.astype(float)`"
   ]
  },
  {
   "cell_type": "code",
   "execution_count": null,
   "id": "6cedd615-c496-46f6-9dce-bf9a44a91c8d",
   "metadata": {
    "tags": []
   },
   "outputs": [],
   "source": [
    "df['tipo'] = df['tipo'].astype(object)\n",
    "df.dtypes"
   ]
  },
  {
   "cell_type": "markdown",
   "id": "6f6e4e8f-ba4c-4eb8-9b53-ace1e879eef5",
   "metadata": {},
   "source": [
    "### Cálculo de estadística descriptiva\n",
    "Aunque este tema se revisará a detalle más adelante, se puede utilizar `df.describe()` para obtener de manera general la estadística descriptiva."
   ]
  },
  {
   "cell_type": "code",
   "execution_count": null,
   "id": "9760a7aa-55b9-442a-8d40-916b16426238",
   "metadata": {
    "tags": []
   },
   "outputs": [],
   "source": [
    "df.describe()"
   ]
  },
  {
   "cell_type": "markdown",
   "id": "b45942b4-147e-44af-ac1f-7a742b738ac5",
   "metadata": {},
   "source": [
    "## 2.3 Consulta de dataframes\n",
    "Pandas tiene un método `query()`en el cual se introduce una expresión booleana y arroja un subconjunto del dataframe en el cual la expresión booleana es verdadera."
   ]
  },
  {
   "cell_type": "code",
   "execution_count": null,
   "id": "73e2600d-7d39-491d-b572-fa46fc6060cf",
   "metadata": {},
   "outputs": [],
   "source": [
    "df.query('construccion < 150')"
   ]
  },
  {
   "cell_type": "markdown",
   "id": "3d9e192c-b035-485e-8542-d262d781c87d",
   "metadata": {},
   "source": [
    "Las consultas se pueden ser más complejas, por ejemplo"
   ]
  },
  {
   "cell_type": "code",
   "execution_count": null,
   "id": "7788124e-9dcb-411d-a16e-7b8aa51f9fef",
   "metadata": {
    "tags": []
   },
   "outputs": [],
   "source": [
    "df.query('construccion < 150 and recamaras == 2')"
   ]
  },
  {
   "cell_type": "markdown",
   "id": "0e1d0076-3805-426e-838c-664e39b26e34",
   "metadata": {},
   "source": [
    "En el ejemplo anterior, observe que se utilizó el doble signo de igualdad `==`. Se utiliza así cuando el objetivo es la comparación de valores"
   ]
  },
  {
   "cell_type": "markdown",
   "id": "1319b6bb-ccea-4319-a81f-285f8a9aaf11",
   "metadata": {},
   "source": [
    "Otra opción para filtrar con condiciones es escribir la condición dentro de los corchetes"
   ]
  },
  {
   "cell_type": "code",
   "execution_count": null,
   "id": "86474bad-9d56-44e4-b58d-25838e50789d",
   "metadata": {
    "tags": []
   },
   "outputs": [],
   "source": [
    "df[df['construccion'] < 150]"
   ]
  },
  {
   "cell_type": "markdown",
   "id": "61c745ee-90f4-4eae-a42d-441d421f1b58",
   "metadata": {},
   "source": [
    "Si son dos condiciones, cada condición va dentro de un paréntesis"
   ]
  },
  {
   "cell_type": "code",
   "execution_count": null,
   "id": "d9fbb9c8-2ae6-4202-a87f-ab5be9633dff",
   "metadata": {
    "tags": []
   },
   "outputs": [],
   "source": [
    "df[(df.construccion < 150) & (df.recamaras == 2)]"
   ]
  },
  {
   "cell_type": "markdown",
   "id": "6a6af836-db2a-423f-a3b1-77cdc1ff407c",
   "metadata": {},
   "source": [
    "Si lo que interesa son los valores más grandes o más pequeños en alguna variable se puede utilizar `nlargest()` o `nsmallest()` respectivamente"
   ]
  },
  {
   "cell_type": "code",
   "execution_count": null,
   "id": "6359be2d-cea3-475a-9b98-bf73636d2954",
   "metadata": {
    "tags": []
   },
   "outputs": [],
   "source": [
    "df_subset = df.nlargest(4, 'recamaras')\n",
    "df_subset"
   ]
  },
  {
   "cell_type": "markdown",
   "id": "b72b6763-acd5-45c8-a96d-ab876ac7bdb2",
   "metadata": {},
   "source": [
    "Una selección avanzada de filas y columnas también se puede realizar con `.loc`"
   ]
  },
  {
   "cell_type": "markdown",
   "id": "cb791b43-0b96-4918-bf61-f0c06f27e7b1",
   "metadata": {},
   "source": [
    "## 2.4 Transformaciones básicas\n",
    "\n",
    "### Agregar estilos al dataframe\n",
    "Es posible agregar estilos a los dataframes con el método `style`. Por ejemplo, se puede usar `set_caption` para agregar un título al dataframe o `hide` para ocultar el índice."
   ]
  },
  {
   "cell_type": "code",
   "execution_count": null,
   "id": "77e754f7-0012-4389-8f72-8e108dfa031f",
   "metadata": {
    "tags": []
   },
   "outputs": [],
   "source": [
    "df_subset.style.set_caption('Casas con más recámaras').hide()"
   ]
  },
  {
   "cell_type": "markdown",
   "id": "4ed7c615-2a2e-4dbb-92c0-ae9c136c9197",
   "metadata": {
    "tags": []
   },
   "source": [
    "### Ordenar dataframe\n",
    "Podemos ordenar un dataframe con base en varias de las variables"
   ]
  },
  {
   "cell_type": "code",
   "execution_count": null,
   "id": "94df0687-f7f1-4b78-96b9-2e665723aae2",
   "metadata": {
    "tags": []
   },
   "outputs": [],
   "source": [
    "df.sort_values(by=['recamaras', 'banos'], inplace=True)\n",
    "#df.reset_index(inplace=True)\n",
    "df"
   ]
  },
  {
   "cell_type": "markdown",
   "id": "91f0c0fc-32a8-4685-81eb-38f7635ecb9e",
   "metadata": {
    "tags": []
   },
   "source": [
    "### Agrupado"
   ]
  },
  {
   "cell_type": "markdown",
   "id": "faa8a568-6a29-4ba4-a136-f334eaab8d56",
   "metadata": {},
   "source": [
    "Puedes agrupar las filas con base en una variable y, por ejemplo, calcular la media para otras variables"
   ]
  },
  {
   "cell_type": "code",
   "execution_count": null,
   "id": "c2e860ff-9ef9-4003-9080-cad06368cbcc",
   "metadata": {
    "tags": []
   },
   "outputs": [],
   "source": [
    "df.groupby('tipo')['preciomillones'].mean()"
   ]
  },
  {
   "cell_type": "markdown",
   "id": "368232db-350d-4e18-be13-0794dcde757d",
   "metadata": {},
   "source": [
    "Podemos agrupar con base en dos variables y mostrar los valores promedio de las otras variables"
   ]
  },
  {
   "cell_type": "code",
   "execution_count": null,
   "id": "257816f0-295a-4197-8a94-03f9b711ff56",
   "metadata": {},
   "outputs": [],
   "source": [
    "df.groupby(by=['tipo', 'recamaras'])['preciomillones'].mean()"
   ]
  },
  {
   "cell_type": "markdown",
   "id": "49d5f9eb-dbca-404e-8b93-1fa12709a133",
   "metadata": {},
   "source": [
    "### Tablas pivote\n",
    "Para crear tablas pivote se puede utilizar el método `pivot_table` por ejemplo:  \n",
    "`df.pivot_table(index='columna1', values='columna2', aggfunc='mean')`\n",
    "\n",
    "En el parámetro *index* está la variable que irá en filas y en el parámetro *columns* la variable que irá en las columnas. En *values* se indican los valores que irán en las intersecciones y en *aggfunc* se indica el cálculo a realizar que de manera predeterminada es la media. Por ejemplo:"
   ]
  },
  {
   "cell_type": "code",
   "execution_count": null,
   "id": "6c1a8681-9690-4048-9c19-78e11f3dc107",
   "metadata": {
    "tags": []
   },
   "outputs": [],
   "source": [
    "df_pivote = df.pivot_table(index='tipo', columns='recamaras', \n",
    "                           values='preciomillones', aggfunc=\"count\")\n",
    "df_pivote"
   ]
  },
  {
   "cell_type": "markdown",
   "id": "1ee15e9c-a7fc-4077-8844-cd814570dbf5",
   "metadata": {},
   "source": [
    "## 2.5 Gráficos básicos"
   ]
  },
  {
   "cell_type": "code",
   "execution_count": null,
   "id": "c0531c7a-2183-470f-823f-17d4ae42fef9",
   "metadata": {
    "tags": []
   },
   "outputs": [],
   "source": [
    "df['preciomillones'].hist();"
   ]
  },
  {
   "cell_type": "code",
   "execution_count": null,
   "id": "f6d1d283-56ac-4123-8ae1-36fe260bed8f",
   "metadata": {
    "tags": []
   },
   "outputs": [],
   "source": [
    "df.boxplot(column='preciomillones');"
   ]
  },
  {
   "cell_type": "code",
   "execution_count": null,
   "id": "ab09602f-8da8-4171-b72e-d2c1904c1ffd",
   "metadata": {
    "tags": []
   },
   "outputs": [],
   "source": [
    "df.plot('banos', 'recamaras', kind='scatter');"
   ]
  },
  {
   "cell_type": "code",
   "execution_count": null,
   "id": "147a8a4a-ad36-479a-968b-ef3a6b8dcff9",
   "metadata": {},
   "outputs": [],
   "source": []
  }
 ],
 "metadata": {
  "kernelspec": {
   "display_name": "Python 3 (ipykernel)",
   "language": "python",
   "name": "python3"
  },
  "language_info": {
   "codemirror_mode": {
    "name": "ipython",
    "version": 3
   },
   "file_extension": ".py",
   "mimetype": "text/x-python",
   "name": "python",
   "nbconvert_exporter": "python",
   "pygments_lexer": "ipython3",
   "version": "3.12.4"
  }
 },
 "nbformat": 4,
 "nbformat_minor": 5
}
