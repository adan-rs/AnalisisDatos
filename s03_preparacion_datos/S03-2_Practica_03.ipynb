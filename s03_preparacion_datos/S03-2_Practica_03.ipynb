{
 "cells": [
  {
   "cell_type": "markdown",
   "id": "de88c4b4-2fd2-4acd-b7ae-48a979ed13b7",
   "metadata": {},
   "source": [
    "# Práctica 03"
   ]
  },
  {
   "cell_type": "markdown",
   "id": "bf5b09f4-deec-4220-b9dd-6516c5d4ce54",
   "metadata": {},
   "source": [
    "Carga la base de datos de hoteles de una ciudad diferente (Londres o Milán). Selecciona las variables utilizadas en el ejemplo y las filas correspondientes a los hoteles. Luego elimina duplicados y consulta y reemplaza datos perdidos en las variables numéricas. Guarda el notebook en formato html (File / Save and export Notebook as / HTML)"
   ]
  },
  {
   "cell_type": "code",
   "execution_count": null,
   "id": "daed7f08-03f4-406e-b8ac-8b581113516f",
   "metadata": {},
   "outputs": [],
   "source": []
  }
 ],
 "metadata": {
  "kernelspec": {
   "display_name": "Python 3 (ipykernel)",
   "language": "python",
   "name": "python3"
  },
  "language_info": {
   "codemirror_mode": {
    "name": "ipython",
    "version": 3
   },
   "file_extension": ".py",
   "mimetype": "text/x-python",
   "name": "python",
   "nbconvert_exporter": "python",
   "pygments_lexer": "ipython3",
   "version": "3.12.4"
  }
 },
 "nbformat": 4,
 "nbformat_minor": 5
}
