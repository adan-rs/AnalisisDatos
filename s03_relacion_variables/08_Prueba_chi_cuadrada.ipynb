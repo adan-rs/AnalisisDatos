{
 "cells": [
  {
   "cell_type": "markdown",
   "id": "4b07e6b2-9acd-4856-84c2-c37e3805a1d0",
   "metadata": {
    "tags": []
   },
   "source": [
    "# Prueba Chi cuadrada"
   ]
  },
  {
   "cell_type": "markdown",
   "id": "d085943a-6ec6-49d7-a162-e053c3be6a10",
   "metadata": {},
   "source": [
    "Para ilustrar este tema utilizaremos el archivo \"enigh2020\". Importa la biblioteca de *Pandas* y carga esta base de datos en un DataFrame con el nombre *df*"
   ]
  },
  {
   "cell_type": "code",
   "execution_count": null,
   "id": "024db7f6-c83d-4cf8-8a1e-9c86a9dd29ed",
   "metadata": {},
   "outputs": [],
   "source": [
    "import pandas as pd\n",
    "import matplotlib.pyplot as plt\n",
    "import seaborn as sns"
   ]
  },
  {
   "cell_type": "code",
   "execution_count": null,
   "id": "6f5f1fe4-1b64-411e-9528-e2e7229fe9f4",
   "metadata": {},
   "outputs": [],
   "source": [
    "df = pd.read_excel('https://github.com/adan-rs/AnalisisDatos/raw/main/s02_exploracion_datos/data/enigh2020.xlsx')"
   ]
  },
  {
   "cell_type": "markdown",
   "id": "de5455af-e2d1-40c5-8031-dafa66ff5b20",
   "metadata": {
    "tags": []
   },
   "source": [
    "## Tabla cruzada"
   ]
  },
  {
   "cell_type": "markdown",
   "id": "9e72feb5-7fa5-4a78-b599-46ddc246ee8b",
   "metadata": {},
   "source": [
    "Una forma básica de realizar una tabla cruzada es mediante el método crosstab de Pandas, especificando las variables en las filas y columnas respectivamente. Por ejemplo, para las variables \"A\" y \"B\", utilizaremos:  \n",
    "`pd.crosstab(df['A'], df['B'])`  \n",
    "El argumento *margins* se puede agregar para mostrar la suma por fila o columna. Cada celda dentro de la tabla mostrará la frecuencia observada en esa intersección"
   ]
  },
  {
   "cell_type": "code",
   "execution_count": null,
   "id": "be06beed-db65-42dc-a4c3-ee616bed906f",
   "metadata": {
    "tags": []
   },
   "outputs": [],
   "source": [
    "# Crea una tabla cruzada para relacionar \"sexo_jefe\" con \"est_socio\"\n",
    "tabla = pd.crosstab(df['sexo_jefe'], df['est_socio'], margins=False)\n",
    "tabla"
   ]
  },
  {
   "cell_type": "markdown",
   "id": "c8f99ea1-a96e-475e-9ab1-d7860d8cbae0",
   "metadata": {},
   "source": [
    "En muchas ocasiones se requiere representar esta tabla cruzada mediante proporciones. Para ello se puede utilizar el argumento *normalize* con los siguientes valores:\n",
    "\n",
    "    'all': para dividir cada cantidad entre el total.\n",
    "    'index': para dividir las celdas en cada fila entre el total de la fila.\n",
    "    'columns': para dividir las celdas en cada columna entre el total de la columna."
   ]
  },
  {
   "cell_type": "code",
   "execution_count": null,
   "id": "938219a4-f454-4b68-aabd-e907539065d4",
   "metadata": {
    "tags": []
   },
   "outputs": [],
   "source": [
    "# Muestra una tabla con las cantidades *normalizadas* entre el total de la columna\n",
    "tabla_normalizada = pd.crosstab(df['sexo_jefe'], df['est_socio'], normalize='index')\n",
    "tabla_normalizada"
   ]
  },
  {
   "cell_type": "code",
   "execution_count": null,
   "id": "864f10f0-5dff-4799-a1a9-71b3fc4d1cac",
   "metadata": {},
   "outputs": [],
   "source": [
    "# Ejemplo de reordenar columnas\n",
    "orden_columnas = ['bajo', 'medio_bajo', 'medio_alto', 'alto']\n",
    "tabla_normalizada = tabla_normalizada[orden_columnas]\n",
    "tabla_normalizada"
   ]
  },
  {
   "cell_type": "markdown",
   "id": "046ce482-d949-471f-a6c5-518edae118e8",
   "metadata": {},
   "source": [
    "Para visualizar la relación entre ambas variables se puede utilizar un \"mapa de calor\". Es recomendable utilizar la librería *seaborn* como en el siguiente ejemplo:  \n",
    "`ax = sns.heatmap(tabla, annot=True, cmap='YlGnBu', fmt='d')`  \n",
    "*annot=True* sirve para indicar la cantidad en cada celda, *fmt=d* se utiliza para que se despliegue como números enteros, y *cmap* se utiliza para seleccionar una paleta de colores (ver https://matplotlib.org/stable/gallery/color/colormap_reference.html)"
   ]
  },
  {
   "cell_type": "code",
   "execution_count": null,
   "id": "1b708555-9d6b-41c6-bb1a-58a31a3aa1d4",
   "metadata": {},
   "outputs": [],
   "source": [
    "fig, ax = plt.subplots(figsize=(6, 2))\n",
    "ax = sns.heatmap(tabla_normalizada, annot=True, cmap='Greens')"
   ]
  },
  {
   "cell_type": "markdown",
   "id": "5fac6421-3676-47af-ae73-49e70cbe5ae0",
   "metadata": {},
   "source": [
    "## Prueba Chi cuadrado\n",
    "\n",
    "*¿Para qué se utiliza?* Se utiliza para evaluar si existe una relación o no entre dos variables cualitativas. \n",
    "\n",
    "*Variables*. Se consideran dos variables cualitativas (nominales u ordinales) con relativamente pocas categorías. \n",
    "\n",
    "*Tamaño muestral*. En una tabla de 2 x 2, en ninguna casilla la frecuencia esperada debe ser menor que 5. En una tabla de mayor dimensión, no más del 20% de las frecuencias esperadas debe ser menor que 5. \n",
    "\n",
    "*Hipótesis*. Las hipótesis son:\n",
    "- Hipótesis nula (H0): No existe dependencia entre ambas variables (son independientes).\n",
    "- Hipótesis alternativa (H1): Existe dependencia entre ambas variables.\n",
    "\n",
    "*Procedimiento*. Para realizar la prueba Chi cuadrada necesitamos importar la biblioteca *scipy.stats*"
   ]
  },
  {
   "cell_type": "code",
   "execution_count": null,
   "id": "0ac76f08-ef68-4b4f-a8dc-9d1ac12397e0",
   "metadata": {},
   "outputs": [],
   "source": [
    "import numpy as np\n",
    "from scipy.stats import chi2_contingency"
   ]
  },
  {
   "cell_type": "markdown",
   "id": "2acd746d-8558-41a5-bbe6-194fd4b10ba5",
   "metadata": {},
   "source": [
    "Un ejemplo de la aplicación a una tabla de contingencia es:  \n",
    "`chi2, p, dof, expected = chi2_contingency(tabla)`  \n",
    "Esta instrucción arrojará  los siguientes resultados:\n",
    "- El estadístico de prueba\n",
    "- El p-valor\n",
    "- Los grados de libertad\n",
    "- La tabla de frecuencias esperadas\n",
    "\n",
    "\n",
    "Para imprimir estos resultados:  \n",
    "```\n",
    "print('Estadístico de prueba:', chi2) \n",
    "print('Valor p:', p)  \n",
    "print('Grados de libertad:', dof)  \n",
    "print('Tabla de frecuencias esperadas')   \n",
    "print(expected)\n",
    "```\n"
   ]
  },
  {
   "cell_type": "code",
   "execution_count": null,
   "id": "ba86954c-c5a4-4e3a-93a9-19e75e1e33f8",
   "metadata": {
    "tags": []
   },
   "outputs": [],
   "source": [
    "# Realiza una prueba chi cuadrada a la tabla obtenida\n",
    "chi2, p, dof, expected = chi2_contingency(tabla)\n",
    "\n",
    "# Mostrar resultados\n",
    "print('Estadístico de prueba: ', chi2) \n",
    "print('Valor p: ', p)  \n",
    "print('Grados de libertad: ', dof)  \n",
    "print('Tabla de frecuencias esperadas:')   \n",
    "print(expected)"
   ]
  },
  {
   "cell_type": "code",
   "execution_count": null,
   "id": "6b65fefb-56ac-4dd1-9d49-bdd445eab26d",
   "metadata": {},
   "outputs": [],
   "source": [
    "alfa = 0.05\n",
    "if p <=alfa:\n",
    "    print('Las variables son dependientes (Se rechaza la hipótesis nula)')\n",
    "else:\n",
    "    print('Las variables son independientes (No se rechaza la hipótesis nula)')"
   ]
  },
  {
   "cell_type": "markdown",
   "id": "6d979032-4ceb-4c0f-9f47-801dff0eb379",
   "metadata": {},
   "source": [
    "Podemos crear una función que integre los pasos anteriores"
   ]
  },
  {
   "cell_type": "code",
   "execution_count": null,
   "id": "3f2cb04c-ad3a-4cd4-a996-7b8f2234a8a1",
   "metadata": {},
   "outputs": [],
   "source": [
    "from scipy.stats import chi2_contingency\n",
    "\n",
    "def prueba_chi_cuadrada(df, var1, var2, alfa=0.05, imprimir=True):\n",
    "    \"\"\"\n",
    "    Realiza una prueba chi cuadrada de independencia entre dos variables categóricas.\n",
    "    Retorna un diccionario con resultados de la prueba.\n",
    "    \"\"\"\n",
    "    # Verificar existencia de variables\n",
    "    if var1 not in df.columns or var2 not in df.columns:\n",
    "        raise ValueError(f\"Una o ambas variables no existen en el DataFrame: {var1}, {var2}\")\n",
    "\n",
    "    # Crear tabla de contingencia\n",
    "    tabla_contingencia = pd.crosstab(df[var1], df[var2])\n",
    "\n",
    "    # Realizar prueba chi cuadrada\n",
    "    chi2, p_valor, grados_libertad, frecuencias_esperadas = chi2_contingency(tabla_contingencia)\n",
    "\n",
    "    # Calcular proporción de celdas con frecuencia esperada menor a 5\n",
    "    celdas_menor_5 = np.sum(frecuencias_esperadas < 5)\n",
    "    total_celdas = frecuencias_esperadas.size\n",
    "    prop_freq_menor_5 = celdas_menor_5 / total_celdas\n",
    "\n",
    "    # Preparar advertencia sobre frecuencias esperadas si es necesario\n",
    "    advertencia = None\n",
    "    if prop_freq_menor_5 > 0.2:\n",
    "        advertencia = (\"ADVERTENCIA: Más del 20% de las celdas tienen frecuencias esperadas menores a 5. \"\n",
    "                       \"Los resultados de la prueba podrían no ser confiables.\")  \n",
    "    \n",
    "    # Determinar resultado\n",
    "    resultado = ('Las variables son dependientes (Se rechaza la hipótesis nula)' \n",
    "        if p_valor <= alfa \n",
    "        else 'Las variables son independientes (No se rechaza la hipótesis nula)')\n",
    "\n",
    "    # Imprimir resultados\n",
    "    print(f'\\nTabla de contingencia:\\n{tabla_contingencia}\\n')\n",
    "    print(f'Estadístico de prueba: {chi2:.4f}')\n",
    "    print(f'Valor p: {p_valor:.4f}')\n",
    "    print(f'Grados de libertad: {grados_libertad}')\n",
    "    print('\\nTabla de frecuencias esperadas:')\n",
    "    print(pd.DataFrame(\n",
    "        frecuencias_esperadas,\n",
    "        index=tabla_contingencia.index,\n",
    "        columns=tabla_contingencia.columns).round(4))\n",
    "    print(f'\\nProporción de celdas con frecuencia esperada menor a 5: {prop_freq_menor_5:.2%}')\n",
    "    print(f'({celdas_menor_5} de {total_celdas} celdas)')\n",
    "    if advertencia:\n",
    "        print(f'\\n{advertencia}')\n",
    "    print(f'\\nNivel de significancia: {alfa}')\n",
    "    print(f'Resultado: {resultado}')\n",
    "\n",
    "    # Retornar resultados como diccionario\n",
    "    return {'tabla_contingencia': tabla_contingencia,\n",
    "            'chi2': chi2,\n",
    "            'p_valor': p_valor,\n",
    "            'grados_libertad': grados_libertad,\n",
    "            'frecuencias_esperadas': pd.DataFrame(\n",
    "                frecuencias_esperadas,\n",
    "                index=tabla_contingencia.index,\n",
    "                columns=tabla_contingencia.columns).round(4),\n",
    "            'resultado': resultado}"
   ]
  },
  {
   "cell_type": "code",
   "execution_count": null,
   "id": "d9eb6a27-a18d-48e6-8bf4-76fd6e94fb18",
   "metadata": {},
   "outputs": [],
   "source": [
    "resultados = prueba_chi_cuadrada(df, 'sexo_jefe', 'est_socio')"
   ]
  },
  {
   "cell_type": "markdown",
   "id": "4c92d4a6-a0db-47d4-a1c7-ad8ddf26965b",
   "metadata": {},
   "source": [
    "Ejemplo de reporte de metodología y resultados:\n",
    ">“Se realizó una prueba chi cuadrada para evaluar la relación entre el sexo del jefe de familia y el estrato socioeconómico. Se encontró una relación significativa entre ambas variables, χ²(3) = 12.3959, p = 0.006.”"
   ]
  },
  {
   "cell_type": "markdown",
   "id": "7b99c964-74e4-4268-bf06-54f9e7f2a70b",
   "metadata": {},
   "source": [
    "## Comentarios\n",
    "La prueba exacta de Fisher es una alternativa apropiada cuando el número de observaciones es pequeño o hay celdas con frecuencias esperadas menores a 5."
   ]
  },
  {
   "cell_type": "markdown",
   "id": "ec876e68-2851-41f7-83b0-65c4e31403e7",
   "metadata": {},
   "source": [
    "## Ejercicio"
   ]
  },
  {
   "cell_type": "markdown",
   "id": "0713f256-4d55-4809-9820-74a6cf0a3683",
   "metadata": {},
   "source": [
    "La base de datos \"aerolineas\" contiene información de publicaciones en X (antes Twitter) que han sido clasificados por su sentimiento (positivo, neutral y negativo) y que etiquetan a diferentes aerolíneas. Tu tarea es investigar si existe una relación significativa entre el sentimiento de los mensajes y las aerolíneas mencionadas. \n",
    "\n",
    "Este análisis te permitirá determinar si la distribución de los sentimientos (positivo, neutral, negativo) difiere entre las diferentes aerolíneas, sugiriendo una posible asociación entre el tipo de sentimiento expresado en los mensajes y la aerolínea mencionada. Los resultados de esta prueba estadística podrían proporcionar información valiosa sobre la percepción del servicio de las distintas aerolíneas entre los usuarios de esta red social.\n"
   ]
  },
  {
   "cell_type": "code",
   "execution_count": null,
   "id": "af74f6f0-5553-4d16-86b0-13020637a79e",
   "metadata": {},
   "outputs": [],
   "source": [
    "df2 = pd.read_excel('data/aerolineas.xlsx')"
   ]
  },
  {
   "cell_type": "code",
   "execution_count": null,
   "id": "bb34ce4e-21ed-46bc-bcfc-6ff6b813b22b",
   "metadata": {},
   "outputs": [],
   "source": []
  }
 ],
 "metadata": {
  "kernelspec": {
   "display_name": "Python 3 (ipykernel)",
   "language": "python",
   "name": "python3"
  },
  "language_info": {
   "codemirror_mode": {
    "name": "ipython",
    "version": 3
   },
   "file_extension": ".py",
   "mimetype": "text/x-python",
   "name": "python",
   "nbconvert_exporter": "python",
   "pygments_lexer": "ipython3",
   "version": "3.12.4"
  }
 },
 "nbformat": 4,
 "nbformat_minor": 5
}
