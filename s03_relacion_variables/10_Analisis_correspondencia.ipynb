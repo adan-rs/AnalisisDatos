{
 "cells": [
  {
   "cell_type": "markdown",
   "id": "564d35fd-6f46-44f6-8df9-46d2c4e0219a",
   "metadata": {
    "tags": []
   },
   "source": [
    "# Sesión 05: Análisis de correspondencia múltiple"
   ]
  },
  {
   "cell_type": "markdown",
   "id": "c5f5651f-44ca-4146-8a2a-47c6d82dd7a4",
   "metadata": {},
   "source": [
    "El análisis de correspondencia múltiple permite observar la relación entre las categorías de diferentes variables cualitativas. Para realizar el análisis de correspondencia se recomienda instalar la biblioteca *Prince* (solo es necesario hacerlo la primera vez) \n",
    "`!pip install prince`  \n",
    "La documentación se puede consultar en: documentación https://libraries.io/pypi/prince"
   ]
  },
  {
   "cell_type": "code",
   "execution_count": null,
   "id": "b858bcfc-8b82-4383-9859-06aa2a3dac61",
   "metadata": {},
   "outputs": [],
   "source": [
    "# Instalar la biblioteca Prince\n",
    "#!pip install prince"
   ]
  },
  {
   "cell_type": "code",
   "execution_count": 1,
   "id": "fc4536e3-9e07-4b7e-a1e6-7fca34bf75c7",
   "metadata": {
    "tags": []
   },
   "outputs": [],
   "source": [
    "import pandas as pd\n",
    "import prince"
   ]
  },
  {
   "cell_type": "code",
   "execution_count": 2,
   "id": "fc69b392-0319-4079-8f87-931ad84efc76",
   "metadata": {},
   "outputs": [],
   "source": [
    "import warnings\n",
    "warnings.filterwarnings(\"ignore\", category=FutureWarning)"
   ]
  },
  {
   "cell_type": "markdown",
   "id": "7dea90bf-8576-47d3-8152-e5e76e4e574b",
   "metadata": {},
   "source": [
    "Seleccionamos un conjunto de variables cualitativas"
   ]
  },
  {
   "cell_type": "code",
   "execution_count": 3,
   "id": "69f0771d-aba2-4b6c-8663-4ffff784858d",
   "metadata": {
    "tags": []
   },
   "outputs": [],
   "source": [
    "df = pd.read_excel('https://github.com/adan-rs/AnalisisDatos/raw/main/s04_estadistica_descriptiva/data/b02_enigh2020.xlsx')\n",
    "var_cat = ['est_socio', 'sexo_jefe', 'ubica_geo']"
   ]
  },
  {
   "cell_type": "code",
   "execution_count": 4,
   "id": "91457397-eb67-4b97-b5a5-0349db22c5da",
   "metadata": {
    "tags": []
   },
   "outputs": [
    {
     "data": {
      "text/html": [
       "\n",
       "<style>\n",
       "  #altair-viz-2025ddd92ddb44ed8021b5b48f4b1e7b.vega-embed {\n",
       "    width: 100%;\n",
       "    display: flex;\n",
       "  }\n",
       "\n",
       "  #altair-viz-2025ddd92ddb44ed8021b5b48f4b1e7b.vega-embed details,\n",
       "  #altair-viz-2025ddd92ddb44ed8021b5b48f4b1e7b.vega-embed details summary {\n",
       "    position: relative;\n",
       "  }\n",
       "</style>\n",
       "<div id=\"altair-viz-2025ddd92ddb44ed8021b5b48f4b1e7b\"></div>\n",
       "<script type=\"text/javascript\">\n",
       "  var VEGA_DEBUG = (typeof VEGA_DEBUG == \"undefined\") ? {} : VEGA_DEBUG;\n",
       "  (function(spec, embedOpt){\n",
       "    let outputDiv = document.currentScript.previousElementSibling;\n",
       "    if (outputDiv.id !== \"altair-viz-2025ddd92ddb44ed8021b5b48f4b1e7b\") {\n",
       "      outputDiv = document.getElementById(\"altair-viz-2025ddd92ddb44ed8021b5b48f4b1e7b\");\n",
       "    }\n",
       "    const paths = {\n",
       "      \"vega\": \"https://cdn.jsdelivr.net/npm/vega@5?noext\",\n",
       "      \"vega-lib\": \"https://cdn.jsdelivr.net/npm/vega-lib?noext\",\n",
       "      \"vega-lite\": \"https://cdn.jsdelivr.net/npm/vega-lite@5.8.0?noext\",\n",
       "      \"vega-embed\": \"https://cdn.jsdelivr.net/npm/vega-embed@6?noext\",\n",
       "    };\n",
       "\n",
       "    function maybeLoadScript(lib, version) {\n",
       "      var key = `${lib.replace(\"-\", \"\")}_version`;\n",
       "      return (VEGA_DEBUG[key] == version) ?\n",
       "        Promise.resolve(paths[lib]) :\n",
       "        new Promise(function(resolve, reject) {\n",
       "          var s = document.createElement('script');\n",
       "          document.getElementsByTagName(\"head\")[0].appendChild(s);\n",
       "          s.async = true;\n",
       "          s.onload = () => {\n",
       "            VEGA_DEBUG[key] = version;\n",
       "            return resolve(paths[lib]);\n",
       "          };\n",
       "          s.onerror = () => reject(`Error loading script: ${paths[lib]}`);\n",
       "          s.src = paths[lib];\n",
       "        });\n",
       "    }\n",
       "\n",
       "    function showError(err) {\n",
       "      outputDiv.innerHTML = `<div class=\"error\" style=\"color:red;\">${err}</div>`;\n",
       "      throw err;\n",
       "    }\n",
       "\n",
       "    function displayChart(vegaEmbed) {\n",
       "      vegaEmbed(outputDiv, spec, embedOpt)\n",
       "        .catch(err => showError(`Javascript Error: ${err.message}<br>This usually means there's a typo in your chart specification. See the javascript console for the full traceback.`));\n",
       "    }\n",
       "\n",
       "    if(typeof define === \"function\" && define.amd) {\n",
       "      requirejs.config({paths});\n",
       "      require([\"vega-embed\"], displayChart, err => showError(`Error loading script: ${err.message}`));\n",
       "    } else {\n",
       "      maybeLoadScript(\"vega\", \"5\")\n",
       "        .then(() => maybeLoadScript(\"vega-lite\", \"5.8.0\"))\n",
       "        .then(() => maybeLoadScript(\"vega-embed\", \"6\"))\n",
       "        .catch(showError)\n",
       "        .then(() => displayChart(vegaEmbed));\n",
       "    }\n",
       "  })({\"config\": {\"view\": {\"continuousWidth\": 300, \"continuousHeight\": 300}}, \"layer\": [{\"mark\": {\"type\": \"circle\", \"size\": 50}, \"encoding\": {\"color\": {\"field\": \"variable\", \"type\": \"nominal\"}, \"tooltip\": [{\"field\": \"variable\", \"type\": \"nominal\"}, {\"field\": \"value\", \"type\": \"nominal\"}, {\"field\": \"component 0\", \"type\": \"quantitative\"}, {\"field\": \"component 1\", \"type\": \"quantitative\"}], \"x\": {\"axis\": {\"title\": \"component 0 \\u2014 11.53%\"}, \"field\": \"component 0\", \"scale\": {\"zero\": false}, \"type\": \"quantitative\"}, \"y\": {\"axis\": {\"title\": \"component 1 \\u2014 9.73%\"}, \"field\": \"component 1\", \"scale\": {\"zero\": false}, \"type\": \"quantitative\"}}, \"name\": \"view_1\"}, {\"mark\": {\"type\": \"text\"}, \"encoding\": {\"text\": {\"field\": \"label\", \"type\": \"nominal\"}, \"x\": {\"axis\": {\"title\": \"component 0 \\u2014 11.53%\"}, \"field\": \"component 0\", \"scale\": {\"zero\": false}, \"type\": \"quantitative\"}, \"y\": {\"axis\": {\"title\": \"component 1 \\u2014 9.73%\"}, \"field\": \"component 1\", \"scale\": {\"zero\": false}, \"type\": \"quantitative\"}}}], \"data\": {\"name\": \"data-a3aea1c09d9bb059fad2dfb159202d1c\"}, \"params\": [{\"name\": \"param_1\", \"select\": {\"type\": \"interval\", \"encodings\": [\"x\", \"y\"]}, \"bind\": \"scales\", \"views\": [\"view_1\"]}], \"$schema\": \"https://vega.github.io/schema/vega-lite/v5.8.0.json\", \"datasets\": {\"data-a3aea1c09d9bb059fad2dfb159202d1c\": [{\"component 0\": -1.0177487170915607, \"component 1\": 0.3580936368968738, \"variable\": \"column\", \"value\": \"est_socio_alto\", \"label\": \"est_socio_alto\"}, {\"component 0\": 1.5044648077045932, \"component 1\": 2.057317742590732, \"variable\": \"column\", \"value\": \"est_socio_bajo\", \"label\": \"est_socio_bajo\"}, {\"component 0\": -0.8778752357798079, \"component 1\": 0.2243322805408062, \"variable\": \"column\", \"value\": \"est_socio_medio_alto\", \"label\": \"est_socio_medio_alto\"}, {\"component 0\": 0.6054273172167087, \"component 1\": -0.7166710272463029, \"variable\": \"column\", \"value\": \"est_socio_medio_bajo\", \"label\": \"est_socio_medio_bajo\"}, {\"component 0\": 0.13152479952374338, \"component 1\": 0.037568124254275026, \"variable\": \"column\", \"value\": \"sexo_jefe_hombre\", \"label\": \"sexo_jefe_hombre\"}, {\"component 0\": -0.4241198245511984, \"component 1\": -0.12114358908080959, \"variable\": \"column\", \"value\": \"sexo_jefe_mujer\", \"label\": \"sexo_jefe_mujer\"}, {\"component 0\": -0.5797673964122583, \"component 1\": -0.17032524383269873, \"variable\": \"column\", \"value\": \"ubica_geo_Apodaca\", \"label\": \"ubica_geo_Apodaca\"}, {\"component 0\": 1.2322916704192157, \"component 1\": -0.8370029250697445, \"variable\": \"column\", \"value\": \"ubica_geo_Cadereyta\", \"label\": \"ubica_geo_Cadereyta\"}, {\"component 0\": 0.6783879117589896, \"component 1\": 0.8825001790246362, \"variable\": \"column\", \"value\": \"ubica_geo_Escobedo\", \"label\": \"ubica_geo_Escobedo\"}, {\"component 0\": 1.7166526705063763, \"component 1\": 2.098443074337561, \"variable\": \"column\", \"value\": \"ubica_geo_Garcia\", \"label\": \"ubica_geo_Garcia\"}, {\"component 0\": -0.6536638409796057, \"component 1\": 0.5222492739711903, \"variable\": \"column\", \"value\": \"ubica_geo_Guadalupe\", \"label\": \"ubica_geo_Guadalupe\"}, {\"component 0\": 0.829126649186629, \"component 1\": -0.31459049007534146, \"variable\": \"column\", \"value\": \"ubica_geo_Juarez\", \"label\": \"ubica_geo_Juarez\"}, {\"component 0\": -0.5463926726523023, \"component 1\": -0.36551613106195513, \"variable\": \"column\", \"value\": \"ubica_geo_Monterrey\", \"label\": \"ubica_geo_Monterrey\"}, {\"component 0\": 1.0233375761516776, \"component 1\": -1.9606285811745714, \"variable\": \"column\", \"value\": \"ubica_geo_Pesqueria\", \"label\": \"ubica_geo_Pesqueria\"}, {\"component 0\": -1.0719926064812464, \"component 1\": 0.20353545909673743, \"variable\": \"column\", \"value\": \"ubica_geo_San_Nicolas\", \"label\": \"ubica_geo_San_Nicolas\"}, {\"component 0\": -1.1810711109497747, \"component 1\": 0.3458785502616154, \"variable\": \"column\", \"value\": \"ubica_geo_San_Pedro\", \"label\": \"ubica_geo_San_Pedro\"}, {\"component 0\": -0.49409128439779587, \"component 1\": -0.39160768496638726, \"variable\": \"column\", \"value\": \"ubica_geo_Santa_Catarina\", \"label\": \"ubica_geo_Santa_Catarina\"}]}}, {\"mode\": \"vega-lite\"});\n",
       "</script>"
      ],
      "text/plain": [
       "alt.LayerChart(...)"
      ]
     },
     "execution_count": 4,
     "metadata": {},
     "output_type": "execute_result"
    }
   ],
   "source": [
    "# Creación de instancia del modelo\n",
    "mca = prince.MCA(n_components = 2)\n",
    "# Ajuste del modelo a los datos\n",
    "mca = mca.fit(df[var_cat])\n",
    "# Crea gráfico\n",
    "ax = mca.plot(df[var_cat], show_column_labels=True, show_row_markers=False)\n",
    "ax"
   ]
  },
  {
   "cell_type": "markdown",
   "id": "5210cf9b-2180-416c-ab3a-14986da27a66",
   "metadata": {},
   "source": [
    "Cada punto corresponde a una observación o una categoría. La interpretación de las dimensiones depende del contexto. \n",
    "- En general, la distancia entre los puntos de cada categoría indican la relación entre ellas. Entre más corta sea la distancia, mayor será la asociación de las categorías.\n",
    "- Observaciones y categorías en el mismo cuadrante tienden a tener relaciones más fuertes, mientras que observaciones y categorías en cuadrantes opuestos pueden representar relaciones negativas.\n",
    "- Una categoría cerca del centro generalmente indica que esa categoría no está fuertemente asociada con ninguna de las dimensiones, por ejemplo, por ser independiente, tener baja variabilidad o baja frecuencia.\n"
   ]
  },
  {
   "cell_type": "markdown",
   "id": "670b86ad-d4b3-4028-96ee-52cb8ec8fe2c",
   "metadata": {},
   "source": [
    "## Práctica"
   ]
  },
  {
   "cell_type": "code",
   "execution_count": 5,
   "id": "2958efa9-5189-40d6-a0d4-781c47cd1d61",
   "metadata": {},
   "outputs": [],
   "source": [
    "df2 = pd.read_excel('data/aerolineas.xlsx')"
   ]
  },
  {
   "cell_type": "code",
   "execution_count": 8,
   "id": "b4251b06-bfee-46a0-9274-98c02fdb0850",
   "metadata": {},
   "outputs": [],
   "source": [
    "var_cat2 = ['sentimiento', 'aerolinea']"
   ]
  },
  {
   "cell_type": "code",
   "execution_count": 9,
   "id": "4814b659-5b18-4312-9a41-ecf6b92e54d9",
   "metadata": {},
   "outputs": [
    {
     "data": {
      "text/html": [
       "\n",
       "<style>\n",
       "  #altair-viz-dbb3a9b85294428f92c5e04252906846.vega-embed {\n",
       "    width: 100%;\n",
       "    display: flex;\n",
       "  }\n",
       "\n",
       "  #altair-viz-dbb3a9b85294428f92c5e04252906846.vega-embed details,\n",
       "  #altair-viz-dbb3a9b85294428f92c5e04252906846.vega-embed details summary {\n",
       "    position: relative;\n",
       "  }\n",
       "</style>\n",
       "<div id=\"altair-viz-dbb3a9b85294428f92c5e04252906846\"></div>\n",
       "<script type=\"text/javascript\">\n",
       "  var VEGA_DEBUG = (typeof VEGA_DEBUG == \"undefined\") ? {} : VEGA_DEBUG;\n",
       "  (function(spec, embedOpt){\n",
       "    let outputDiv = document.currentScript.previousElementSibling;\n",
       "    if (outputDiv.id !== \"altair-viz-dbb3a9b85294428f92c5e04252906846\") {\n",
       "      outputDiv = document.getElementById(\"altair-viz-dbb3a9b85294428f92c5e04252906846\");\n",
       "    }\n",
       "    const paths = {\n",
       "      \"vega\": \"https://cdn.jsdelivr.net/npm/vega@5?noext\",\n",
       "      \"vega-lib\": \"https://cdn.jsdelivr.net/npm/vega-lib?noext\",\n",
       "      \"vega-lite\": \"https://cdn.jsdelivr.net/npm/vega-lite@5.8.0?noext\",\n",
       "      \"vega-embed\": \"https://cdn.jsdelivr.net/npm/vega-embed@6?noext\",\n",
       "    };\n",
       "\n",
       "    function maybeLoadScript(lib, version) {\n",
       "      var key = `${lib.replace(\"-\", \"\")}_version`;\n",
       "      return (VEGA_DEBUG[key] == version) ?\n",
       "        Promise.resolve(paths[lib]) :\n",
       "        new Promise(function(resolve, reject) {\n",
       "          var s = document.createElement('script');\n",
       "          document.getElementsByTagName(\"head\")[0].appendChild(s);\n",
       "          s.async = true;\n",
       "          s.onload = () => {\n",
       "            VEGA_DEBUG[key] = version;\n",
       "            return resolve(paths[lib]);\n",
       "          };\n",
       "          s.onerror = () => reject(`Error loading script: ${paths[lib]}`);\n",
       "          s.src = paths[lib];\n",
       "        });\n",
       "    }\n",
       "\n",
       "    function showError(err) {\n",
       "      outputDiv.innerHTML = `<div class=\"error\" style=\"color:red;\">${err}</div>`;\n",
       "      throw err;\n",
       "    }\n",
       "\n",
       "    function displayChart(vegaEmbed) {\n",
       "      vegaEmbed(outputDiv, spec, embedOpt)\n",
       "        .catch(err => showError(`Javascript Error: ${err.message}<br>This usually means there's a typo in your chart specification. See the javascript console for the full traceback.`));\n",
       "    }\n",
       "\n",
       "    if(typeof define === \"function\" && define.amd) {\n",
       "      requirejs.config({paths});\n",
       "      require([\"vega-embed\"], displayChart, err => showError(`Error loading script: ${err.message}`));\n",
       "    } else {\n",
       "      maybeLoadScript(\"vega\", \"5\")\n",
       "        .then(() => maybeLoadScript(\"vega-lite\", \"5.8.0\"))\n",
       "        .then(() => maybeLoadScript(\"vega-embed\", \"6\"))\n",
       "        .catch(showError)\n",
       "        .then(() => displayChart(vegaEmbed));\n",
       "    }\n",
       "  })({\"config\": {\"view\": {\"continuousWidth\": 300, \"continuousHeight\": 300}}, \"layer\": [{\"mark\": {\"type\": \"circle\", \"size\": 50}, \"encoding\": {\"color\": {\"field\": \"variable\", \"type\": \"nominal\"}, \"tooltip\": [{\"field\": \"variable\", \"type\": \"nominal\"}, {\"field\": \"value\", \"type\": \"nominal\"}, {\"field\": \"component 0\", \"type\": \"quantitative\"}, {\"field\": \"component 1\", \"type\": \"quantitative\"}], \"x\": {\"axis\": {\"title\": \"component 0 \\u2014 18.29%\"}, \"field\": \"component 0\", \"scale\": {\"zero\": false}, \"type\": \"quantitative\"}, \"y\": {\"axis\": {\"title\": \"component 1 \\u2014 14.58%\"}, \"field\": \"component 1\", \"scale\": {\"zero\": false}, \"type\": \"quantitative\"}}, \"name\": \"view_2\"}, {\"mark\": {\"type\": \"text\"}, \"encoding\": {\"text\": {\"field\": \"label\", \"type\": \"nominal\"}, \"x\": {\"axis\": {\"title\": \"component 0 \\u2014 18.29%\"}, \"field\": \"component 0\", \"scale\": {\"zero\": false}, \"type\": \"quantitative\"}, \"y\": {\"axis\": {\"title\": \"component 1 \\u2014 14.58%\"}, \"field\": \"component 1\", \"scale\": {\"zero\": false}, \"type\": \"quantitative\"}}}], \"data\": {\"name\": \"data-baad2b6e17dc8a1486835e857d77cb95\"}, \"params\": [{\"name\": \"param_2\", \"select\": {\"type\": \"interval\", \"encodings\": [\"x\", \"y\"]}, \"bind\": \"scales\", \"views\": [\"view_2\"]}], \"$schema\": \"https://vega.github.io/schema/vega-lite/v5.8.0.json\", \"datasets\": {\"data-baad2b6e17dc8a1486835e857d77cb95\": [{\"component 0\": -0.6156974782520231, \"component 1\": 0.03781927987609178, \"variable\": \"column\", \"value\": \"sentimiento_negative\", \"label\": \"sentimiento_negative\"}, {\"component 0\": 0.9560912912894696, \"component 1\": -1.0823889095374686, \"variable\": \"column\", \"value\": \"sentimiento_neutral\", \"label\": \"sentimiento_neutral\"}, {\"component 0\": 1.137513560597117, \"component 1\": 1.2726271180507476, \"variable\": \"column\", \"value\": \"sentimiento_positive\", \"label\": \"sentimiento_positive\"}, {\"component 0\": -0.49433901471164965, \"component 1\": 0.01024200881082525, \"variable\": \"column\", \"value\": \"aerolinea_American\", \"label\": \"aerolinea_American\"}, {\"component 0\": 1.160569580105091, \"component 1\": -1.1821387354021384, \"variable\": \"column\", \"value\": \"aerolinea_Delta\", \"label\": \"aerolinea_Delta\"}, {\"component 0\": 0.8161190006731319, \"component 1\": 1.033378756980627, \"variable\": \"column\", \"value\": \"aerolinea_Southwest\", \"label\": \"aerolinea_Southwest\"}, {\"component 0\": -0.8864831671559333, \"component 1\": 0.2586804644268441, \"variable\": \"column\", \"value\": \"aerolinea_US Airways\", \"label\": \"aerolinea_US Airways\"}, {\"component 0\": -0.36917237837675326, \"component 1\": -0.3645002405457283, \"variable\": \"column\", \"value\": \"aerolinea_United\", \"label\": \"aerolinea_United\"}, {\"component 0\": 1.5940278750955093, \"component 1\": 1.462820837999491, \"variable\": \"column\", \"value\": \"aerolinea_Virgin America\", \"label\": \"aerolinea_Virgin America\"}]}}, {\"mode\": \"vega-lite\"});\n",
       "</script>"
      ],
      "text/plain": [
       "alt.LayerChart(...)"
      ]
     },
     "execution_count": 9,
     "metadata": {},
     "output_type": "execute_result"
    }
   ],
   "source": [
    "# Creación de instancia del modelo\n",
    "mca = prince.MCA(n_components = 2)\n",
    "# Ajuste del modelo a los datos\n",
    "mca = mca.fit(df2[var_cat2])\n",
    "# Crea gráfico\n",
    "ax = mca.plot(df2[var_cat2], show_column_labels=True, show_row_markers=False)\n",
    "ax"
   ]
  },
  {
   "cell_type": "code",
   "execution_count": null,
   "id": "5d125563-0b76-42ce-aa8d-bb3cae84cb18",
   "metadata": {},
   "outputs": [],
   "source": []
  }
 ],
 "metadata": {
  "kernelspec": {
   "display_name": "Python 3 (ipykernel)",
   "language": "python",
   "name": "python3"
  },
  "language_info": {
   "codemirror_mode": {
    "name": "ipython",
    "version": 3
   },
   "file_extension": ".py",
   "mimetype": "text/x-python",
   "name": "python",
   "nbconvert_exporter": "python",
   "pygments_lexer": "ipython3",
   "version": "3.12.4"
  }
 },
 "nbformat": 4,
 "nbformat_minor": 5
}
