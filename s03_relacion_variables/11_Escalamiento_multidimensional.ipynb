{
 "cells": [
  {
   "cell_type": "markdown",
   "id": "36b2b964-9ddc-4ad5-b267-a9bc13cc8b47",
   "metadata": {},
   "source": [
    "# Sesión 05: Escalamiento multidimensional"
   ]
  },
  {
   "cell_type": "code",
   "execution_count": 1,
   "id": "f676f1f0-4b0a-466c-9267-22295f891166",
   "metadata": {},
   "outputs": [],
   "source": [
    "import pandas as pd\n",
    "import numpy as np\n",
    "import matplotlib.pyplot as plt\n",
    "import seaborn as sns"
   ]
  },
  {
   "cell_type": "markdown",
   "id": "d35f9b52-bd98-46a8-9af7-c54d2ea1ede6",
   "metadata": {},
   "source": [
    "El escalamiento multidimensional (EMD) es un conjunto de procedimientos para hacer una representación espacial de la similitud o disimilitud de datos. En esta técnica se toma una matriz de distancias (o disimilitudes) entre un conjunto de objetos y los coloca en un espacio de menor dimensión. Para este ejemplo utilizaremos una matriz de correlaciones."
   ]
  },
  {
   "cell_type": "code",
   "execution_count": 2,
   "id": "a12fe64d-4907-4a83-9b04-af251c7028dd",
   "metadata": {},
   "outputs": [],
   "source": [
    "from sklearn.manifold import MDS"
   ]
  },
  {
   "cell_type": "code",
   "execution_count": 3,
   "id": "098a66a5-f991-41e9-891b-fe14d8dde494",
   "metadata": {},
   "outputs": [],
   "source": [
    "df = pd.read_excel('https://github.com/adan-rs/AnalisisDatos/raw/main/s04_estadistica_descriptiva/data/b02_enigh2020.xlsx')"
   ]
  },
  {
   "cell_type": "code",
   "execution_count": 4,
   "id": "4a47a0fe-d2c2-4b6d-b866-4236bc94034c",
   "metadata": {},
   "outputs": [
    {
     "data": {
      "text/html": [
       "<div>\n",
       "<style scoped>\n",
       "    .dataframe tbody tr th:only-of-type {\n",
       "        vertical-align: middle;\n",
       "    }\n",
       "\n",
       "    .dataframe tbody tr th {\n",
       "        vertical-align: top;\n",
       "    }\n",
       "\n",
       "    .dataframe thead th {\n",
       "        text-align: right;\n",
       "    }\n",
       "</style>\n",
       "<table border=\"1\" class=\"dataframe\">\n",
       "  <thead>\n",
       "    <tr style=\"text-align: right;\">\n",
       "      <th></th>\n",
       "      <th>ing_cor</th>\n",
       "      <th>gasto_mon</th>\n",
       "      <th>edad_jefe</th>\n",
       "      <th>tot_integ</th>\n",
       "    </tr>\n",
       "  </thead>\n",
       "  <tbody>\n",
       "    <tr>\n",
       "      <th>ing_cor</th>\n",
       "      <td>1.000000</td>\n",
       "      <td>0.618385</td>\n",
       "      <td>0.031953</td>\n",
       "      <td>0.135281</td>\n",
       "    </tr>\n",
       "    <tr>\n",
       "      <th>gasto_mon</th>\n",
       "      <td>0.618385</td>\n",
       "      <td>1.000000</td>\n",
       "      <td>-0.054339</td>\n",
       "      <td>0.168204</td>\n",
       "    </tr>\n",
       "    <tr>\n",
       "      <th>edad_jefe</th>\n",
       "      <td>0.031953</td>\n",
       "      <td>-0.054339</td>\n",
       "      <td>1.000000</td>\n",
       "      <td>-0.158874</td>\n",
       "    </tr>\n",
       "    <tr>\n",
       "      <th>tot_integ</th>\n",
       "      <td>0.135281</td>\n",
       "      <td>0.168204</td>\n",
       "      <td>-0.158874</td>\n",
       "      <td>1.000000</td>\n",
       "    </tr>\n",
       "  </tbody>\n",
       "</table>\n",
       "</div>"
      ],
      "text/plain": [
       "            ing_cor  gasto_mon  edad_jefe  tot_integ\n",
       "ing_cor    1.000000   0.618385   0.031953   0.135281\n",
       "gasto_mon  0.618385   1.000000  -0.054339   0.168204\n",
       "edad_jefe  0.031953  -0.054339   1.000000  -0.158874\n",
       "tot_integ  0.135281   0.168204  -0.158874   1.000000"
      ]
     },
     "execution_count": 4,
     "metadata": {},
     "output_type": "execute_result"
    }
   ],
   "source": [
    "var_cont = [\"ing_cor\", \"gasto_mon\", \"edad_jefe\", \"tot_integ\"]\n",
    "matriz_corr = df[var_cont].corr()\n",
    "matriz_corr"
   ]
  },
  {
   "cell_type": "code",
   "execution_count": 5,
   "id": "c0a4917d-91c1-47e9-9864-4fc2ccf45430",
   "metadata": {
    "tags": []
   },
   "outputs": [
    {
     "data": {
      "image/png": "[encoded data removed]",
      "text/plain": [
       "<Figure size 640x480 with 1 Axes>"
      ]
     },
     "metadata": {},
     "output_type": "display_data"
    }
   ],
   "source": [
    "# Calcular distancias\n",
    "distancias = 1-np.abs(matriz_corr)\n",
    "# Aplicar modelo\n",
    "mds = MDS(n_components=2, dissimilarity='precomputed', normalized_stress='auto')\n",
    "mds_resultados = mds.fit_transform(distancias)\n",
    "# Convertir resultados a dataframe\n",
    "mds_df = pd.DataFrame(mds_resultados, columns=['Dimension 1', 'Dimension 2'])\n",
    "mds_df['Etiqueta']=var_cont\n",
    "#Visualización\n",
    "sns.scatterplot(data=mds_df, x='Dimension 1', y='Dimension 2')\n",
    "# Agregar etiquetas a cada punto\n",
    "for i in range(len(mds_df)):\n",
    "    plt.text(mds_df['Dimension 1'][i], mds_df['Dimension 2'][i], mds_df['Etiqueta'][i])\n",
    "plt.show()"
   ]
  },
  {
   "cell_type": "code",
   "execution_count": null,
   "id": "40155753-6640-4f5d-864a-cc32ef930653",
   "metadata": {},
   "outputs": [],
   "source": [
    "#!pip install yfinance"
   ]
  },
  {
   "cell_type": "code",
   "execution_count": null,
   "id": "b2617daa-8034-432a-aca0-2e1ca5bc0164",
   "metadata": {},
   "outputs": [],
   "source": []
  }
 ],
 "metadata": {
  "kernelspec": {
   "display_name": "Python 3 (ipykernel)",
   "language": "python",
   "name": "python3"
  },
  "language_info": {
   "codemirror_mode": {
    "name": "ipython",
    "version": 3
   },
   "file_extension": ".py",
   "mimetype": "text/x-python",
   "name": "python",
   "nbconvert_exporter": "python",
   "pygments_lexer": "ipython3",
   "version": "3.12.4"
  }
 },
 "nbformat": 4,
 "nbformat_minor": 5
}
