{
 "cells": [
  {
   "cell_type": "markdown",
   "id": "564d35fd-6f46-44f6-8df9-46d2c4e0219a",
   "metadata": {
    "tags": []
   },
   "source": [
    "# Sesión 05: Análisis de correspondencia múltiple"
   ]
  },
  {
   "cell_type": "markdown",
   "id": "c5f5651f-44ca-4146-8a2a-47c6d82dd7a4",
   "metadata": {},
   "source": [
    "El análisis de correspondencia múltiple permite observar la relación entre las categorías de diferentes variables cualitativas. Para realizar el análisis de correspondencia se recomienda instalar la biblioteca *Prince* (solo es necesario hacerlo la primera vez) \n",
    "`!pip install prince`  \n",
    "La documentación se puede consultar en: documentación https://libraries.io/pypi/prince"
   ]
  },
  {
   "cell_type": "code",
   "execution_count": null,
   "id": "b858bcfc-8b82-4383-9859-06aa2a3dac61",
   "metadata": {},
   "outputs": [],
   "source": [
    "# Instalar la biblioteca Prince\n",
    "#!pip install prince"
   ]
  },
  {
   "cell_type": "code",
   "execution_count": 11,
   "id": "fc4536e3-9e07-4b7e-a1e6-7fca34bf75c7",
   "metadata": {
    "tags": []
   },
   "outputs": [],
   "source": [
    "import pandas as pd\n",
    "import matplotlib.pyplot as plt\n",
    "import prince"
   ]
  },
  {
   "cell_type": "code",
   "execution_count": 4,
   "id": "fc69b392-0319-4079-8f87-931ad84efc76",
   "metadata": {},
   "outputs": [],
   "source": [
    "import warnings\n",
    "warnings.filterwarnings(\"ignore\", category=FutureWarning)"
   ]
  },
  {
   "cell_type": "markdown",
   "id": "7dea90bf-8576-47d3-8152-e5e76e4e574b",
   "metadata": {},
   "source": [
    "Seleccionamos un conjunto de variables cualitativas"
   ]
  },
  {
   "cell_type": "code",
   "execution_count": 54,
   "id": "69f0771d-aba2-4b6c-8663-4ffff784858d",
   "metadata": {
    "tags": []
   },
   "outputs": [],
   "source": [
    "df = pd.read_excel('../datasets/enigh2020.xlsx')\n",
    "#df = pd.read_excel('https://github.com/adan-rs/AnalisisDatos/raw/main/datasets/enigh2020.xlsx')\n",
    "variables_categoricas = ['est_socio', 'sexo_jefe', 'ubica_geo']\n",
    "dataframe = df[variables_categoricas]"
   ]
  },
  {
   "cell_type": "code",
   "execution_count": 55,
   "id": "f356fcb2-024d-4a31-adfc-1f1cc1a72d80",
   "metadata": {},
   "outputs": [
    {
     "data": {
      "text/html": [
       "\n",
       "<style>\n",
       "  #altair-viz-84a286b336bc4e3d91967635805ef3c8.vega-embed {\n",
       "    width: 100%;\n",
       "    display: flex;\n",
       "  }\n",
       "\n",
       "  #altair-viz-84a286b336bc4e3d91967635805ef3c8.vega-embed details,\n",
       "  #altair-viz-84a286b336bc4e3d91967635805ef3c8.vega-embed details summary {\n",
       "    position: relative;\n",
       "  }\n",
       "</style>\n",
       "<div id=\"altair-viz-84a286b336bc4e3d91967635805ef3c8\"></div>\n",
       "<script type=\"text/javascript\">\n",
       "  var VEGA_DEBUG = (typeof VEGA_DEBUG == \"undefined\") ? {} : VEGA_DEBUG;\n",
       "  (function(spec, embedOpt){\n",
       "    let outputDiv = document.currentScript.previousElementSibling;\n",
       "    if (outputDiv.id !== \"altair-viz-84a286b336bc4e3d91967635805ef3c8\") {\n",
       "      outputDiv = document.getElementById(\"altair-viz-84a286b336bc4e3d91967635805ef3c8\");\n",
       "    }\n",
       "    const paths = {\n",
       "      \"vega\": \"https://cdn.jsdelivr.net/npm/vega@5?noext\",\n",
       "      \"vega-lib\": \"https://cdn.jsdelivr.net/npm/vega-lib?noext\",\n",
       "      \"vega-lite\": \"https://cdn.jsdelivr.net/npm/vega-lite@5.8.0?noext\",\n",
       "      \"vega-embed\": \"https://cdn.jsdelivr.net/npm/vega-embed@6?noext\",\n",
       "    };\n",
       "\n",
       "    function maybeLoadScript(lib, version) {\n",
       "      var key = `${lib.replace(\"-\", \"\")}_version`;\n",
       "      return (VEGA_DEBUG[key] == version) ?\n",
       "        Promise.resolve(paths[lib]) :\n",
       "        new Promise(function(resolve, reject) {\n",
       "          var s = document.createElement('script');\n",
       "          document.getElementsByTagName(\"head\")[0].appendChild(s);\n",
       "          s.async = true;\n",
       "          s.onload = () => {\n",
       "            VEGA_DEBUG[key] = version;\n",
       "            return resolve(paths[lib]);\n",
       "          };\n",
       "          s.onerror = () => reject(`Error loading script: ${paths[lib]}`);\n",
       "          s.src = paths[lib];\n",
       "        });\n",
       "    }\n",
       "\n",
       "    function showError(err) {\n",
       "      outputDiv.innerHTML = `<div class=\"error\" style=\"color:red;\">${err}</div>`;\n",
       "      throw err;\n",
       "    }\n",
       "\n",
       "    function displayChart(vegaEmbed) {\n",
       "      vegaEmbed(outputDiv, spec, embedOpt)\n",
       "        .catch(err => showError(`Javascript Error: ${err.message}<br>This usually means there's a typo in your chart specification. See the javascript console for the full traceback.`));\n",
       "    }\n",
       "\n",
       "    if(typeof define === \"function\" && define.amd) {\n",
       "      requirejs.config({paths});\n",
       "      require([\"vega-embed\"], displayChart, err => showError(`Error loading script: ${err.message}`));\n",
       "    } else {\n",
       "      maybeLoadScript(\"vega\", \"5\")\n",
       "        .then(() => maybeLoadScript(\"vega-lite\", \"5.8.0\"))\n",
       "        .then(() => maybeLoadScript(\"vega-embed\", \"6\"))\n",
       "        .catch(showError)\n",
       "        .then(() => displayChart(vegaEmbed));\n",
       "    }\n",
       "  })({\"config\": {\"view\": {\"continuousWidth\": 300, \"continuousHeight\": 300}}, \"layer\": [{\"mark\": {\"type\": \"circle\", \"size\": 50}, \"encoding\": {\"color\": {\"field\": \"variable\", \"type\": \"nominal\"}, \"tooltip\": [{\"field\": \"variable\", \"type\": \"nominal\"}, {\"field\": \"value\", \"type\": \"nominal\"}, {\"field\": \"component 0\", \"type\": \"quantitative\"}, {\"field\": \"component 1\", \"type\": \"quantitative\"}], \"x\": {\"axis\": {\"title\": \"component 0 \\u2014 11.53%\"}, \"field\": \"component 0\", \"scale\": {\"zero\": false}, \"type\": \"quantitative\"}, \"y\": {\"axis\": {\"title\": \"component 1 \\u2014 9.73%\"}, \"field\": \"component 1\", \"scale\": {\"zero\": false}, \"type\": \"quantitative\"}}, \"name\": \"view_10\"}, {\"mark\": {\"type\": \"text\"}, \"encoding\": {\"text\": {\"field\": \"label\", \"type\": \"nominal\"}, \"x\": {\"axis\": {\"title\": \"component 0 \\u2014 11.53%\"}, \"field\": \"component 0\", \"scale\": {\"zero\": false}, \"type\": \"quantitative\"}, \"y\": {\"axis\": {\"title\": \"component 1 \\u2014 9.73%\"}, \"field\": \"component 1\", \"scale\": {\"zero\": false}, \"type\": \"quantitative\"}}}], \"data\": {\"name\": \"data-79bd60170ae4682a7f10d99e15808cae\"}, \"params\": [{\"name\": \"param_19\", \"select\": {\"type\": \"interval\", \"encodings\": [\"x\", \"y\"]}, \"bind\": \"scales\", \"views\": [\"view_10\"]}], \"$schema\": \"https://vega.github.io/schema/vega-lite/v5.8.0.json\", \"datasets\": {\"data-79bd60170ae4682a7f10d99e15808cae\": [{\"component 0\": -1.0177248285346012, \"component 1\": 0.3580893964968958, \"variable\": \"column\", \"value\": \"est_socio__alto\", \"label\": \"est_socio__alto\"}, {\"component 0\": 1.5046347816510464, \"component 1\": 2.0581405984776158, \"variable\": \"column\", \"value\": \"est_socio__bajo\", \"label\": \"est_socio__bajo\"}, {\"component 0\": -0.8778565126524378, \"component 1\": 0.22447317517412418, \"variable\": \"column\", \"value\": \"est_socio__medio_alto\", \"label\": \"est_socio__medio_alto\"}, {\"component 0\": 0.6053699625814508, \"component 1\": -0.7169400347104137, \"variable\": \"column\", \"value\": \"est_socio__medio_bajo\", \"label\": \"est_socio__medio_bajo\"}, {\"component 0\": 0.13152542437820977, \"component 1\": 0.03754373224858205, \"variable\": \"column\", \"value\": \"sexo_jefe__hombre\", \"label\": \"sexo_jefe__hombre\"}, {\"component 0\": -0.42412183948046, \"component 1\": -0.12106493370014183, \"variable\": \"column\", \"value\": \"sexo_jefe__mujer\", \"label\": \"sexo_jefe__mujer\"}, {\"component 0\": -0.5797580205575013, \"component 1\": -0.17021520732595427, \"variable\": \"column\", \"value\": \"ubica_geo__Apodaca\", \"label\": \"ubica_geo__Apodaca\"}, {\"component 0\": 1.2323423748972446, \"component 1\": -0.8366808207916726, \"variable\": \"column\", \"value\": \"ubica_geo__Cadereyta\", \"label\": \"ubica_geo__Cadereyta\"}, {\"component 0\": 0.6783259114561939, \"component 1\": 0.8821788341941462, \"variable\": \"column\", \"value\": \"ubica_geo__Escobedo\", \"label\": \"ubica_geo__Escobedo\"}, {\"component 0\": 1.7164788805961084, \"component 1\": 2.0977189697258933, \"variable\": \"column\", \"value\": \"ubica_geo__Garcia\", \"label\": \"ubica_geo__Garcia\"}, {\"component 0\": -0.6537195665900909, \"component 1\": 0.5220124560037253, \"variable\": \"column\", \"value\": \"ubica_geo__Guadalupe\", \"label\": \"ubica_geo__Guadalupe\"}, {\"component 0\": 0.8291472813786218, \"component 1\": -0.3146403121950199, \"variable\": \"column\", \"value\": \"ubica_geo__Juarez\", \"label\": \"ubica_geo__Juarez\"}, {\"component 0\": -0.5463526020635119, \"component 1\": -0.36532178234901924, \"variable\": \"column\", \"value\": \"ubica_geo__Monterrey\", \"label\": \"ubica_geo__Monterrey\"}, {\"component 0\": 1.0235080249557864, \"component 1\": -1.9597659481005827, \"variable\": \"column\", \"value\": \"ubica_geo__Pesqueria\", \"label\": \"ubica_geo__Pesqueria\"}, {\"component 0\": -1.0719885049465039, \"component 1\": 0.2035094557956531, \"variable\": \"column\", \"value\": \"ubica_geo__San_Nicolas\", \"label\": \"ubica_geo__San_Nicolas\"}, {\"component 0\": -1.1811109931748913, \"component 1\": 0.34577434878238333, \"variable\": \"column\", \"value\": \"ubica_geo__San_Pedro\", \"label\": \"ubica_geo__San_Pedro\"}, {\"component 0\": -0.49406459405924025, \"component 1\": -0.39162531339350687, \"variable\": \"column\", \"value\": \"ubica_geo__Santa_Catarina\", \"label\": \"ubica_geo__Santa_Catarina\"}]}}, {\"mode\": \"vega-lite\"});\n",
       "</script>"
      ],
      "text/plain": [
       "alt.LayerChart(...)"
      ]
     },
     "execution_count": 55,
     "metadata": {},
     "output_type": "execute_result"
    }
   ],
   "source": [
    "# Creación de instancia del modelo\n",
    "mca = prince.MCA(n_components = 2)\n",
    "# Ajuste del modelo a los datos\n",
    "mca = mca.fit(dataframe)\n",
    "# Crea gráfico\n",
    "ax = mca.plot(dataframe, show_column_labels=True, show_row_markers=False)\n",
    "ax"
   ]
  },
  {
   "cell_type": "markdown",
   "id": "5210cf9b-2180-416c-ab3a-14986da27a66",
   "metadata": {},
   "source": [
    "Cada punto corresponde a una observación o una categoría. La interpretación de las dimensiones depende del contexto. \n",
    "- En general, la distancia entre los puntos de cada categoría indican la relación entre ellas. Entre más corta sea la distancia, mayor será la asociación de las categorías.\n",
    "- Observaciones y categorías en el mismo cuadrante tienden a tener relaciones más fuertes, mientras que observaciones y categorías en cuadrantes opuestos pueden representar relaciones negativas.\n",
    "- Una categoría cerca del centro generalmente indica que esa categoría no está fuertemente asociada con ninguna de las dimensiones, por ejemplo, por ser independiente, tener baja variabilidad o baja frecuencia.\n"
   ]
  },
  {
   "cell_type": "markdown",
   "id": "670b86ad-d4b3-4028-96ee-52cb8ec8fe2c",
   "metadata": {},
   "source": [
    "## Práctica"
   ]
  },
  {
   "cell_type": "code",
   "execution_count": 56,
   "id": "2958efa9-5189-40d6-a0d4-781c47cd1d61",
   "metadata": {},
   "outputs": [],
   "source": [
    "aerolineas = pd.read_excel('data/aerolineas.xlsx')\n",
    "var_cat_aerolineas = ['sentimiento', 'aerolinea']\n",
    "dataframe = aerolineas[var_cat_aerolineas]"
   ]
  },
  {
   "cell_type": "code",
   "execution_count": 57,
   "id": "4814b659-5b18-4312-9a41-ecf6b92e54d9",
   "metadata": {},
   "outputs": [
    {
     "data": {
      "text/html": [
       "\n",
       "<style>\n",
       "  #altair-viz-7763b056b1eb4c51bf955a0e6ef595e1.vega-embed {\n",
       "    width: 100%;\n",
       "    display: flex;\n",
       "  }\n",
       "\n",
       "  #altair-viz-7763b056b1eb4c51bf955a0e6ef595e1.vega-embed details,\n",
       "  #altair-viz-7763b056b1eb4c51bf955a0e6ef595e1.vega-embed details summary {\n",
       "    position: relative;\n",
       "  }\n",
       "</style>\n",
       "<div id=\"altair-viz-7763b056b1eb4c51bf955a0e6ef595e1\"></div>\n",
       "<script type=\"text/javascript\">\n",
       "  var VEGA_DEBUG = (typeof VEGA_DEBUG == \"undefined\") ? {} : VEGA_DEBUG;\n",
       "  (function(spec, embedOpt){\n",
       "    let outputDiv = document.currentScript.previousElementSibling;\n",
       "    if (outputDiv.id !== \"altair-viz-7763b056b1eb4c51bf955a0e6ef595e1\") {\n",
       "      outputDiv = document.getElementById(\"altair-viz-7763b056b1eb4c51bf955a0e6ef595e1\");\n",
       "    }\n",
       "    const paths = {\n",
       "      \"vega\": \"https://cdn.jsdelivr.net/npm/vega@5?noext\",\n",
       "      \"vega-lib\": \"https://cdn.jsdelivr.net/npm/vega-lib?noext\",\n",
       "      \"vega-lite\": \"https://cdn.jsdelivr.net/npm/vega-lite@5.8.0?noext\",\n",
       "      \"vega-embed\": \"https://cdn.jsdelivr.net/npm/vega-embed@6?noext\",\n",
       "    };\n",
       "\n",
       "    function maybeLoadScript(lib, version) {\n",
       "      var key = `${lib.replace(\"-\", \"\")}_version`;\n",
       "      return (VEGA_DEBUG[key] == version) ?\n",
       "        Promise.resolve(paths[lib]) :\n",
       "        new Promise(function(resolve, reject) {\n",
       "          var s = document.createElement('script');\n",
       "          document.getElementsByTagName(\"head\")[0].appendChild(s);\n",
       "          s.async = true;\n",
       "          s.onload = () => {\n",
       "            VEGA_DEBUG[key] = version;\n",
       "            return resolve(paths[lib]);\n",
       "          };\n",
       "          s.onerror = () => reject(`Error loading script: ${paths[lib]}`);\n",
       "          s.src = paths[lib];\n",
       "        });\n",
       "    }\n",
       "\n",
       "    function showError(err) {\n",
       "      outputDiv.innerHTML = `<div class=\"error\" style=\"color:red;\">${err}</div>`;\n",
       "      throw err;\n",
       "    }\n",
       "\n",
       "    function displayChart(vegaEmbed) {\n",
       "      vegaEmbed(outputDiv, spec, embedOpt)\n",
       "        .catch(err => showError(`Javascript Error: ${err.message}<br>This usually means there's a typo in your chart specification. See the javascript console for the full traceback.`));\n",
       "    }\n",
       "\n",
       "    if(typeof define === \"function\" && define.amd) {\n",
       "      requirejs.config({paths});\n",
       "      require([\"vega-embed\"], displayChart, err => showError(`Error loading script: ${err.message}`));\n",
       "    } else {\n",
       "      maybeLoadScript(\"vega\", \"5\")\n",
       "        .then(() => maybeLoadScript(\"vega-lite\", \"5.8.0\"))\n",
       "        .then(() => maybeLoadScript(\"vega-embed\", \"6\"))\n",
       "        .catch(showError)\n",
       "        .then(() => displayChart(vegaEmbed));\n",
       "    }\n",
       "  })({\"config\": {\"view\": {\"continuousWidth\": 300, \"continuousHeight\": 300}}, \"layer\": [{\"mark\": {\"type\": \"circle\", \"size\": 50}, \"encoding\": {\"color\": {\"field\": \"variable\", \"type\": \"nominal\"}, \"tooltip\": [{\"field\": \"variable\", \"type\": \"nominal\"}, {\"field\": \"value\", \"type\": \"nominal\"}, {\"field\": \"component 0\", \"type\": \"quantitative\"}, {\"field\": \"component 1\", \"type\": \"quantitative\"}], \"x\": {\"axis\": {\"title\": \"component 0 \\u2014 18.29%\"}, \"field\": \"component 0\", \"scale\": {\"zero\": false}, \"type\": \"quantitative\"}, \"y\": {\"axis\": {\"title\": \"component 1 \\u2014 14.58%\"}, \"field\": \"component 1\", \"scale\": {\"zero\": false}, \"type\": \"quantitative\"}}, \"name\": \"view_11\"}, {\"mark\": {\"type\": \"text\"}, \"encoding\": {\"text\": {\"field\": \"label\", \"type\": \"nominal\"}, \"x\": {\"axis\": {\"title\": \"component 0 \\u2014 18.29%\"}, \"field\": \"component 0\", \"scale\": {\"zero\": false}, \"type\": \"quantitative\"}, \"y\": {\"axis\": {\"title\": \"component 1 \\u2014 14.58%\"}, \"field\": \"component 1\", \"scale\": {\"zero\": false}, \"type\": \"quantitative\"}}}], \"data\": {\"name\": \"data-fe5bce259d5fdb9b8a6b5b8576325a51\"}, \"params\": [{\"name\": \"param_20\", \"select\": {\"type\": \"interval\", \"encodings\": [\"x\", \"y\"]}, \"bind\": \"scales\", \"views\": [\"view_11\"]}], \"$schema\": \"https://vega.github.io/schema/vega-lite/v5.8.0.json\", \"datasets\": {\"data-fe5bce259d5fdb9b8a6b5b8576325a51\": [{\"component 0\": -0.6156974782520034, \"component 1\": 0.037819279876416874, \"variable\": \"column\", \"value\": \"sentimiento__negative\", \"label\": \"sentimiento__negative\"}, {\"component 0\": 0.9560912912891009, \"component 1\": -1.082388909538087, \"variable\": \"column\", \"value\": \"sentimiento__neutral\", \"label\": \"sentimiento__neutral\"}, {\"component 0\": 1.1375135605976863, \"component 1\": 1.272627118050221, \"variable\": \"column\", \"value\": \"sentimiento__positive\", \"label\": \"sentimiento__positive\"}, {\"component 0\": -0.49433901471175196, \"component 1\": 0.010242008814808813, \"variable\": \"column\", \"value\": \"aerolinea__American\", \"label\": \"aerolinea__American\"}, {\"component 0\": 1.1605695801044291, \"component 1\": -1.1821387354012263, \"variable\": \"column\", \"value\": \"aerolinea__Delta\", \"label\": \"aerolinea__Delta\"}, {\"component 0\": 0.8161190006736566, \"component 1\": 1.0333787569784498, \"variable\": \"column\", \"value\": \"aerolinea__Southwest\", \"label\": \"aerolinea__Southwest\"}, {\"component 0\": -0.886483167155974, \"component 1\": 0.25868046442778203, \"variable\": \"column\", \"value\": \"aerolinea__US Airways\", \"label\": \"aerolinea__US Airways\"}, {\"component 0\": -0.3691723783766291, \"component 1\": -0.36450024054884195, \"variable\": \"column\", \"value\": \"aerolinea__United\", \"label\": \"aerolinea__United\"}, {\"component 0\": 1.594027875096137, \"component 1\": 1.4628208380022443, \"variable\": \"column\", \"value\": \"aerolinea__Virgin America\", \"label\": \"aerolinea__Virgin America\"}]}}, {\"mode\": \"vega-lite\"});\n",
       "</script>"
      ],
      "text/plain": [
       "alt.LayerChart(...)"
      ]
     },
     "execution_count": 57,
     "metadata": {},
     "output_type": "execute_result"
    }
   ],
   "source": [
    "# Creación de instancia del modelo\n",
    "mca = prince.MCA(n_components = 2)\n",
    "# Ajuste del modelo a los datos\n",
    "mca = mca.fit(dataframe)\n",
    "# Crea gráfico\n",
    "ax = mca.plot(dataframe, show_column_labels=True, show_row_markers=False)\n",
    "ax"
   ]
  },
  {
   "cell_type": "markdown",
   "id": "3630411c-9151-4cdf-b3da-c8e649827ca4",
   "metadata": {},
   "source": [
    "## Referencias\n",
    "- Página del proyecto: https://maxhalford.github.io/prince/"
   ]
  },
  {
   "cell_type": "code",
   "execution_count": null,
   "id": "9b76702b-cbfc-4cc7-8cbf-f7e008afe388",
   "metadata": {},
   "outputs": [],
   "source": []
  }
 ],
 "metadata": {
  "kernelspec": {
   "display_name": "Python 3 (ipykernel)",
   "language": "python",
   "name": "python3"
  },
  "language_info": {
   "codemirror_mode": {
    "name": "ipython",
    "version": 3
   },
   "file_extension": ".py",
   "mimetype": "text/x-python",
   "name": "python",
   "nbconvert_exporter": "python",
   "pygments_lexer": "ipython3",
   "version": "3.12.4"
  }
 },
 "nbformat": 4,
 "nbformat_minor": 5
}
