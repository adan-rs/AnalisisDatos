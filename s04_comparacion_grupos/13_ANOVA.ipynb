{
 "cells": [
  {
   "cell_type": "markdown",
   "id": "dfc48533-af4c-4575-bbfe-9f5d09bb23b7",
   "metadata": {
    "tags": []
   },
   "source": [
    "# Sesión 06: ANOVA de un factor y Prueba Kruskal-Wallis"
   ]
  },
  {
   "cell_type": "markdown",
   "id": "c9301ac2-ae2f-42ce-a4c1-e97a4dfb8a8e",
   "metadata": {},
   "source": [
    "El análisis de varianza (ANOVA) describe a un conjunto técnicas estadísticas que se utilizan para comparar la media entre dos o más grupos. La hipótesis nula es que todas las medias son iguales mientras que la hipótesis alternativa plantea que al menos una es diferente.\n",
    "\n",
    "El análisis de varianza de un factor implica una variable dependiente continua y una variable independiente (llamada factor) que tiene cierto número de niveles. Los diferentes niveles de la variable independiente corresponden a diferente grupos o condiciones. Cuando existen dos o más factores el análisis se le llama análisis de varianza de n factores. Si el conjunto de variables independientes incluye variables cuantitativas (covariables), a la técnica se le llama análisis de covarianza (ANCOVA). Si hay dos o más variables dependientes se le conoce como MANOVA.\n",
    "\n",
    "El análisis de varianza recibe su nombre debido a que compara la variabilidad entre grupos con la variabilidad dentro de los grupos. Se calcula un valor F que representa la variabilidad entre los grupos dividida entre la variabilidad dentro de los grupos. Un valor grande de la F indica que hay más variabilidad entre los grupos (causados por la variable independiente) que la que hay dentro de cada grupo (atribuida al azar).\n",
    "\n",
    "Un valor significativo en la F implica que se rechaza la hipótesis nula, es decir, que al menos una media es diferente. Para determinar qué grupo es diferente se deben llevar a cabo pruebas post-hoc o realizar comparaciones específicas. \n",
    "\n",
    "El ANOVA de un factor requiere el cumplimiento de varios supuestos: las muestras son independientes, la variable dependiente está normalmente distribuida en cada grupo, y las varianzas en cada grupo son iguales. Debido a que la ANOVA se considera como una prueba robusta, variaciones en el cumplimiento de los supuestos de normalidad y homogeneidad de varianzas no afectan de manera importante los resultados si el tamaño de las muestras es igual. "
   ]
  },
  {
   "cell_type": "markdown",
   "id": "dbaae70b-8d65-4411-aaa2-999c0511fbe9",
   "metadata": {},
   "source": [
    "**Caso de uso**\n",
    "Una cadena de comida rápida planea agregar un nuevo producto a su menú, pero están indecisos entre tres posibles campañas de mercadotecnica. Como un experimento, el producto fue introducido en varias ubicaciones seleccionadas aleatoriamente utilizando diferentes campañas. Se registraron las ventas del nuevo producto por las primeras cuatro semanas. El archivo \"marketing.csv\" contiene las siguientes variables:  \n",
    "- MarketID: identificador del mercado\n",
    "- MarketSize: tamaño del mercado de acuerdo a las ventas\n",
    "- LocationID: identificador de la ubicación de la tienda\n",
    "- AgeOfStore: antigüedad de la tienda en años\n",
    "- Promotion: promoción (1 de 3) que fue probada\n",
    "- week: semana en que se llevó a cabo la promoción.\n",
    "- SalesInThousands: ventas para una ubicación específica (LocationID), promoción (Promotion) y semana (week).\n",
    "\n",
    "Para comparar las ventas de acuerdo a las diferentes promociones, utilizaremos una ANOVA  \n",
    "Hipótesis nula: todas las medias son iguales.  \n",
    "Hipótesis alternativa: al menos un par es diferente."
   ]
  },
  {
   "cell_type": "code",
   "execution_count": 1,
   "id": "f79f2270-392d-443a-940e-ce7c84d67305",
   "metadata": {},
   "outputs": [],
   "source": [
    "import pandas as pd\n",
    "import numpy as np"
   ]
  },
  {
   "cell_type": "code",
   "execution_count": 2,
   "id": "2ae78e95-38a7-40ca-b839-bf36fd737d3a",
   "metadata": {},
   "outputs": [],
   "source": [
    "df = pd.read_csv('data/marketing.csv')"
   ]
  },
  {
   "cell_type": "code",
   "execution_count": 3,
   "id": "fd0e0fcb-3617-4873-8e6e-8176d84c3c97",
   "metadata": {},
   "outputs": [
    {
     "name": "stdout",
     "output_type": "stream",
     "text": [
      "<class 'pandas.core.frame.DataFrame'>\n",
      "RangeIndex: 548 entries, 0 to 547\n",
      "Data columns (total 7 columns):\n",
      " #   Column            Non-Null Count  Dtype  \n",
      "---  ------            --------------  -----  \n",
      " 0   MarketID          548 non-null    int64  \n",
      " 1   MarketSize        548 non-null    object \n",
      " 2   LocationID        548 non-null    int64  \n",
      " 3   AgeOfStore        548 non-null    int64  \n",
      " 4   Promotion         548 non-null    int64  \n",
      " 5   week              548 non-null    int64  \n",
      " 6   SalesInThousands  548 non-null    float64\n",
      "dtypes: float64(1), int64(5), object(1)\n",
      "memory usage: 30.1+ KB\n"
     ]
    }
   ],
   "source": [
    "df.info()"
   ]
  },
  {
   "cell_type": "code",
   "execution_count": 4,
   "id": "147d3ef5-2740-4b39-a654-c0958840fb25",
   "metadata": {},
   "outputs": [
    {
     "data": {
      "text/plain": [
       "Promotion\n",
       "3    188\n",
       "2    188\n",
       "1    172\n",
       "Name: count, dtype: int64"
      ]
     },
     "execution_count": 4,
     "metadata": {},
     "output_type": "execute_result"
    }
   ],
   "source": [
    "df['Promotion'].value_counts()"
   ]
  },
  {
   "cell_type": "code",
   "execution_count": 5,
   "id": "6367c3ae-c1c7-4da6-b791-03eb3af7857e",
   "metadata": {},
   "outputs": [
    {
     "data": {
      "text/html": [
       "<div>\n",
       "<style scoped>\n",
       "    .dataframe tbody tr th:only-of-type {\n",
       "        vertical-align: middle;\n",
       "    }\n",
       "\n",
       "    .dataframe tbody tr th {\n",
       "        vertical-align: top;\n",
       "    }\n",
       "\n",
       "    .dataframe thead th {\n",
       "        text-align: right;\n",
       "    }\n",
       "</style>\n",
       "<table border=\"1\" class=\"dataframe\">\n",
       "  <thead>\n",
       "    <tr style=\"text-align: right;\">\n",
       "      <th></th>\n",
       "      <th>MarketID</th>\n",
       "      <th>MarketSize</th>\n",
       "      <th>LocationID</th>\n",
       "      <th>AgeOfStore</th>\n",
       "      <th>Promotion</th>\n",
       "      <th>week</th>\n",
       "      <th>SalesInThousands</th>\n",
       "    </tr>\n",
       "  </thead>\n",
       "  <tbody>\n",
       "    <tr>\n",
       "      <th>285</th>\n",
       "      <td>6</td>\n",
       "      <td>Medium</td>\n",
       "      <td>507</td>\n",
       "      <td>5</td>\n",
       "      <td>2</td>\n",
       "      <td>2</td>\n",
       "      <td>17.34</td>\n",
       "    </tr>\n",
       "    <tr>\n",
       "      <th>301</th>\n",
       "      <td>6</td>\n",
       "      <td>Medium</td>\n",
       "      <td>511</td>\n",
       "      <td>24</td>\n",
       "      <td>3</td>\n",
       "      <td>2</td>\n",
       "      <td>39.41</td>\n",
       "    </tr>\n",
       "    <tr>\n",
       "      <th>73</th>\n",
       "      <td>2</td>\n",
       "      <td>Small</td>\n",
       "      <td>106</td>\n",
       "      <td>5</td>\n",
       "      <td>3</td>\n",
       "      <td>2</td>\n",
       "      <td>62.19</td>\n",
       "    </tr>\n",
       "    <tr>\n",
       "      <th>271</th>\n",
       "      <td>6</td>\n",
       "      <td>Medium</td>\n",
       "      <td>503</td>\n",
       "      <td>2</td>\n",
       "      <td>2</td>\n",
       "      <td>4</td>\n",
       "      <td>37.20</td>\n",
       "    </tr>\n",
       "  </tbody>\n",
       "</table>\n",
       "</div>"
      ],
      "text/plain": [
       "     MarketID MarketSize  LocationID  AgeOfStore  Promotion  week  \\\n",
       "285         6     Medium         507           5          2     2   \n",
       "301         6     Medium         511          24          3     2   \n",
       "73          2      Small         106           5          3     2   \n",
       "271         6     Medium         503           2          2     4   \n",
       "\n",
       "     SalesInThousands  \n",
       "285             17.34  \n",
       "301             39.41  \n",
       "73              62.19  \n",
       "271             37.20  "
      ]
     },
     "execution_count": 5,
     "metadata": {},
     "output_type": "execute_result"
    }
   ],
   "source": [
    "df.sample(4)"
   ]
  },
  {
   "cell_type": "markdown",
   "id": "3fa3a570-85a2-48c0-8d77-8a7aa8a174df",
   "metadata": {},
   "source": [
    "## Supuesto de igualdad de varianzas"
   ]
  },
  {
   "cell_type": "code",
   "execution_count": 7,
   "id": "469f8cd4-6abc-4797-bc70-c7a55961ea1e",
   "metadata": {},
   "outputs": [
    {
     "name": "stdout",
     "output_type": "stream",
     "text": [
      "Estadístico de prueba de Levene: 1.2696787527507418\n",
      "Valor p: 0.2817514565692118\n"
     ]
    }
   ],
   "source": [
    "from scipy.stats import levene\n",
    "\n",
    "# Filtramos los datos para obtener los grupos\n",
    "promocion1 = df[df['Promotion'] == 1]['SalesInThousands'] \n",
    "promocion2 = df[df['Promotion'] == 2]['SalesInThousands'] \n",
    "promocion3 = df[df['Promotion'] == 3]['SalesInThousands'] \n",
    "\n",
    "# Realizar la prueba\n",
    "statistic, p_value = levene(promocion1, promocion2, promocion3)\n",
    "print(\"Estadístico de prueba de Levene:\", statistic)\n",
    "print(\"Valor p:\", p_value)"
   ]
  },
  {
   "cell_type": "code",
   "execution_count": 8,
   "id": "14fe8d60-c342-4c3d-8e39-f0bd5a885122",
   "metadata": {},
   "outputs": [
    {
     "name": "stdout",
     "output_type": "stream",
     "text": [
      "No se puede rechazar la hipótesis nula: no se rechaza el supuesto de igualdad de varianzas.\n"
     ]
    }
   ],
   "source": [
    "# Interpretar los resultados\n",
    "alpha = 0.05\n",
    "if p_value < alpha:\n",
    "    print(\"Se rechaza la hipótesis nula: hay evidencia de diferencias significativas en las varianzas.\")\n",
    "else:\n",
    "    print(\"No se puede rechazar la hipótesis nula: no se rechaza el supuesto de igualdad de varianzas.\")"
   ]
  },
  {
   "cell_type": "markdown",
   "id": "bbbd9b9a-b4cf-46be-98ff-c8a437ef20cc",
   "metadata": {},
   "source": [
    "## Supuesto de normalidad"
   ]
  },
  {
   "cell_type": "code",
   "execution_count": 9,
   "id": "29df9663-bda6-4127-9dbe-3dc3efbce601",
   "metadata": {},
   "outputs": [
    {
     "name": "stdout",
     "output_type": "stream",
     "text": [
      "Promoción 3: Estadístico K-S = 0.14589472052806318, Valor p = 0.0005892335857854408\n",
      "Promoción 2: Estadístico K-S = 0.14252750909757217, Valor p = 0.0008534307515990372\n",
      "Promoción 1: Estadístico K-S = 0.12268074514406724, Valor p = 0.010284902762809082\n"
     ]
    }
   ],
   "source": [
    "from scipy import stats\n",
    "\n",
    "def test_normality(data):\n",
    "    mean = data.mean()\n",
    "    std = data.std()\n",
    "    return stats.kstest(data, 'norm', args=(mean, std))\n",
    "\n",
    "# Realizar la prueba K-S para cada grupo de promoción\n",
    "for promo in df['Promotion'].unique():\n",
    "    sales_data = df[df['Promotion'] == promo]['SalesInThousands']\n",
    "    stat, p_value = test_normality(sales_data)\n",
    "    print(f'Promoción {promo}: Estadístico K-S = {stat}, Valor p = {p_value}')"
   ]
  },
  {
   "cell_type": "markdown",
   "id": "ce26e2f6-5c8d-43ba-8629-0cf492ced1ed",
   "metadata": {},
   "source": [
    "Sin embargo, varios estudios muestran que la prueba ANOVA es robusta ante violaciones de la normalidad si:\n",
    "- Los grupos tienen un tamaño similar\n",
    "- Hay por lo menos 40 observaciones en cada grupo."
   ]
  },
  {
   "cell_type": "markdown",
   "id": "430a573e-6616-484c-b264-fee1fa4cdc67",
   "metadata": {},
   "source": [
    "## ANOVA"
   ]
  },
  {
   "cell_type": "code",
   "execution_count": 10,
   "id": "57e311e1-70e0-47fd-9c2e-cd0ed4bf3de9",
   "metadata": {},
   "outputs": [
    {
     "name": "stdout",
     "output_type": "stream",
     "text": [
      "Estadístico de prueba de ANOVA: 21.953485793080677\n",
      "Valor p: 6.765849261408714e-10\n"
     ]
    }
   ],
   "source": [
    "from scipy.stats import f_oneway\n",
    "\n",
    "# Filtramos los datos para obtener los grupos\n",
    "promocion1 = df[df['Promotion'] == 1]['SalesInThousands'] \n",
    "promocion2 = df[df['Promotion'] == 2]['SalesInThousands'] \n",
    "promocion3 = df[df['Promotion'] == 3]['SalesInThousands'] \n",
    "\n",
    "\n",
    "# Aplicar la prueba ANOVA\n",
    "statistic, p_value = f_oneway(promocion1, promocion2, promocion3)\n",
    "\n",
    "# Imprimir los resultados\n",
    "print(\"Estadístico de prueba de ANOVA:\", statistic)\n",
    "print(\"Valor p:\", p_value)"
   ]
  },
  {
   "cell_type": "code",
   "execution_count": 11,
   "id": "3b2a61a8-1eec-4675-9d4e-057c7d4bb01e",
   "metadata": {},
   "outputs": [
    {
     "name": "stdout",
     "output_type": "stream",
     "text": [
      "Se rechaza la hipótesis nula: hay al menos una diferencia significativa entre los grupos.\n"
     ]
    }
   ],
   "source": [
    "# Interpretar los resultados\n",
    "alpha = 0.05\n",
    "if p_value < alpha:\n",
    "    print(\"Se rechaza la hipótesis nula: hay al menos una diferencia significativa entre los grupos.\")\n",
    "else:\n",
    "    print(\"No se puede rechazar la hipótesis nula: no hay suficiente evidencia para afirmar que hay diferencias significativas entre los grupos.\")"
   ]
  },
  {
   "cell_type": "markdown",
   "id": "1350cdd5-82bb-4a3b-8740-098692bfdafd",
   "metadata": {},
   "source": [
    "La tabla ANOVA no indica qué grupo es diferente al resto, sin embargo, las pruebas post-hoc son útiles para detectar qué grupo es diferente al resto. \n",
    "- LSD/DMS (Diferencia menos significativa): Es el equivalente a múltiples pruebas t, no se hacen correcciones y los resultados no son precisos.\n",
    "- Bonferroni: Corrige el nivel de significancia dividiéndolo entre el número de grupos. Es preferible cuando son pocas comparaciones. \n",
    "- Tukey: Preferible cuando son muchas comparaciones. Es deseable que el tamaño de cada grupo sea igual. \n",
    "- REGWQ (Ryan-Einot-Gabriel-Welsh): Recomendable, pero se debe evitar cuando las muestras son de diferente tamaño.\n",
    "- Dunnett: Es apropiada cuando se desea comparar con un grupo de control.\n",
    "- Gabriel: Apropiada cuando el tamaño de las muestras es ligeramente diferente.\n",
    "- GT2 de Hochberg: Apropiadas cuando el tamaño de las muestras es muy diferente\n",
    "- Games- Howell: Recomendable cuando las varianzas son diferentes.\n",
    "\n",
    "La librería statsmodel permite realizar la prueba de Tukey, Bonferroni y Dunnet"
   ]
  },
  {
   "cell_type": "code",
   "execution_count": 12,
   "id": "41b16780-e353-4fe3-8c4b-61ef861a569d",
   "metadata": {},
   "outputs": [
    {
     "name": "stdout",
     "output_type": "stream",
     "text": [
      " Multiple Comparison of Means - Tukey HSD, FWER=0.05 \n",
      "=====================================================\n",
      "group1 group2 meandiff p-adj   lower    upper  reject\n",
      "-----------------------------------------------------\n",
      "     1      2 -10.7696    0.0 -14.7738 -6.7654   True\n",
      "     1      3  -2.7345 0.2444  -6.7388  1.2697  False\n",
      "     2      3   8.0351    0.0   4.1208 11.9493   True\n",
      "-----------------------------------------------------\n"
     ]
    }
   ],
   "source": [
    "from statsmodels.stats.multicomp import MultiComparison\n",
    "\n",
    "comparison = MultiComparison(df[\"SalesInThousands\"], df[\"Promotion\"])\n",
    "tukey = comparison.tukeyhsd(0.05)\n",
    "print(tukey.summary())"
   ]
  },
  {
   "cell_type": "markdown",
   "id": "b3ac4869-9bb9-4372-8f20-c4a920285f86",
   "metadata": {},
   "source": [
    "Ejemplo de redacción de conclusiones: \n",
    "\n",
    ">Se realizó un ANOVA de un factor para analizar cómo ________ influye en _________. Los resultados muestran que _________tiene un efecto significativo en __________, F(_,_) = ___, p = ___. Las comparaciones post-hoc utilizando el método de Tukey HSD indican que la media de ______ es significativamente diferente a la media de _________ y _______"
   ]
  },
  {
   "cell_type": "markdown",
   "id": "b102d7c2-7566-4f72-9f2c-3a22bae9098e",
   "metadata": {
    "tags": []
   },
   "source": [
    "## Prueba Kruskal-Wallis"
   ]
  },
  {
   "cell_type": "code",
   "execution_count": 13,
   "id": "f1c9d4cc-89c1-48dd-8b68-87847d77f916",
   "metadata": {},
   "outputs": [
    {
     "name": "stdout",
     "output_type": "stream",
     "text": [
      "Estadístico de prueba de Kruskal-Wallis: 53.29475169322799\n",
      "Valor p: 2.6741866266697816e-12\n"
     ]
    }
   ],
   "source": [
    "from scipy.stats import kruskal\n",
    "\n",
    "# Filtramos los datos para obtener los grupos\n",
    "promocion1 = df[df['Promotion'] == 1]['SalesInThousands'] \n",
    "promocion2 = df[df['Promotion'] == 2]['SalesInThousands'] \n",
    "promocion3 = df[df['Promotion'] == 3]['SalesInThousands'] \n",
    "\n",
    "# Aplicar la prueba Kruskal-Wallis\n",
    "statistic, p_value = kruskal(promocion1, promocion2, promocion3)\n",
    "\n",
    "# Imprimir los resultados\n",
    "print(\"Estadístico de prueba de Kruskal-Wallis:\", statistic)\n",
    "print(\"Valor p:\", p_value)\n"
   ]
  },
  {
   "cell_type": "code",
   "execution_count": null,
   "id": "f1d57913-163a-4f2f-8ff7-f955b683e10c",
   "metadata": {},
   "outputs": [],
   "source": [
    "# Interpretar los resultados\n",
    "alpha = 0.05\n",
    "if p_value < alpha:\n",
    "    print(\"Se rechaza la hipótesis nula: hay evidencia de diferencias significativas entre los grupos.\")\n",
    "else:\n",
    "    print(\"No se puede rechazar la hipótesis nula: no hay suficiente evidencia para afirmar diferencias significativas entre los grupos.\")"
   ]
  },
  {
   "cell_type": "code",
   "execution_count": null,
   "id": "ecd28793-f8b3-441f-8eda-ebe646b7b018",
   "metadata": {},
   "outputs": [],
   "source": []
  }
 ],
 "metadata": {
  "kernelspec": {
   "display_name": "Python 3 (ipykernel)",
   "language": "python",
   "name": "python3"
  },
  "language_info": {
   "codemirror_mode": {
    "name": "ipython",
    "version": 3
   },
   "file_extension": ".py",
   "mimetype": "text/x-python",
   "name": "python",
   "nbconvert_exporter": "python",
   "pygments_lexer": "ipython3",
   "version": "3.12.4"
  }
 },
 "nbformat": 4,
 "nbformat_minor": 5
}
