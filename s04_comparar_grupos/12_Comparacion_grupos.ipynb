{
 "cells": [
  {
   "cell_type": "markdown",
   "id": "ecc7a6a8-7b95-42a3-ae4d-1acce323a449",
   "metadata": {},
   "source": [
    "# Comparación de grupos\n",
    "*\"La mitad de mi gasto en publicidad no sirve para nada. El problema es que no sé qué mitad\" atribuida a John Wanamaker(1838-1922)*"
   ]
  },
  {
   "cell_type": "markdown",
   "id": "7218eb4b-0951-493a-bb40-4349e0324eca",
   "metadata": {},
   "source": [
    "## Pruebas A/B\n",
    "En el área de negocios, especialmente en innovación digital, es común realizar pruebas A/B para evaluar las respuestas de los usuarios a diferentes alternativas en el diseño de un sitio o una interfaz.  \n",
    "Entre sus características básicas está que los usuarios son asignados al azar a un grupo de control (A) o a un grupo experimental (B). A cada grupo se les muestra una alternativa diferente y se recopilan diversas métricas. Finalmente, analizando los resultados, se concluye qué alternativa tuvo mejor desempeño.  \n",
    "En la siguiente liga se muestran varios ejemplos de aplicaciones prácticas:\n",
    "https://goodui.org/leaks/. Este tipo de experimentos ejemplifica la aplicación de técnicas que veremos en esta sesión relacionadas con la comparación de dos o más grupos"
   ]
  },
  {
   "attachments": {},
   "cell_type": "markdown",
   "id": "dba72061-0ed4-4534-b474-58c44d862d37",
   "metadata": {
    "tags": []
   },
   "source": [
    "El archivo \"cookie_cats.csv\" contiene información de 90,189 jugadores. Cuando un jugador instala el juego empieza en el nivel 30, sin embargo, en la empresa que diseñó el juego han propuesto que el jugador empiece en el nivel 40. Para evaluar ambas opciones se diseñó una prueba A/B en la cual los jugadores fueron asignados aleatoriamente para comenzar en el nivel 30 (control) o en el nivel 40 (tratamiento).\n",
    "\n",
    "<div style=\"text-align: center;\">\n",
    "<img src=\"images/cookie_cats.jpg\" alt=\"Cookie cats\" width=\"300\" height=\"200\">\n",
    "</div>\n",
    "\n",
    "Las variables en el dataset son:\n",
    "\n",
    "- userid: identificador del jugador.\n",
    "- version: gate30, empieza en el nivel 30; gate40: empieza en el nivel 40.\n",
    "- sum_gamerounds: número de rondas jugadas durante los primeros 14 días.\n",
    "- retention_1: el jugador jugó un día después de instalar el juego.\n",
    "- retention_7_ el jugador jugó después de 7 días de haber instalado el juego."
   ]
  },
  {
   "cell_type": "code",
   "execution_count": 1,
   "id": "40944a26-4c98-4148-a9bb-bf006c9aada8",
   "metadata": {},
   "outputs": [],
   "source": [
    "import pandas as pd"
   ]
  },
  {
   "cell_type": "code",
   "execution_count": 2,
   "id": "a430a526-6ad4-4906-a0db-3407749fa511",
   "metadata": {},
   "outputs": [
    {
     "name": "stdout",
     "output_type": "stream",
     "text": [
      "<class 'pandas.core.frame.DataFrame'>\n",
      "RangeIndex: 90189 entries, 0 to 90188\n",
      "Data columns (total 5 columns):\n",
      " #   Column          Non-Null Count  Dtype \n",
      "---  ------          --------------  ----- \n",
      " 0   userid          90189 non-null  int64 \n",
      " 1   version         90189 non-null  object\n",
      " 2   sum_gamerounds  90189 non-null  int64 \n",
      " 3   retention_1     90189 non-null  bool  \n",
      " 4   retention_7     90189 non-null  bool  \n",
      "dtypes: bool(2), int64(2), object(1)\n",
      "memory usage: 2.2+ MB\n"
     ]
    }
   ],
   "source": [
    "df = pd.read_csv('data/cookie_cats.csv')\n",
    "df.info()"
   ]
  },
  {
   "cell_type": "code",
   "execution_count": 3,
   "id": "1787f5c2-3293-4a4f-ac3c-38b91fe5121e",
   "metadata": {},
   "outputs": [
    {
     "data": {
      "text/html": [
       "<div>\n",
       "<style scoped>\n",
       "    .dataframe tbody tr th:only-of-type {\n",
       "        vertical-align: middle;\n",
       "    }\n",
       "\n",
       "    .dataframe tbody tr th {\n",
       "        vertical-align: top;\n",
       "    }\n",
       "\n",
       "    .dataframe thead th {\n",
       "        text-align: right;\n",
       "    }\n",
       "</style>\n",
       "<table border=\"1\" class=\"dataframe\">\n",
       "  <thead>\n",
       "    <tr style=\"text-align: right;\">\n",
       "      <th></th>\n",
       "      <th>userid</th>\n",
       "      <th>sum_gamerounds</th>\n",
       "    </tr>\n",
       "  </thead>\n",
       "  <tbody>\n",
       "    <tr>\n",
       "      <th>count</th>\n",
       "      <td>9.018900e+04</td>\n",
       "      <td>90189.000000</td>\n",
       "    </tr>\n",
       "    <tr>\n",
       "      <th>mean</th>\n",
       "      <td>4.998412e+06</td>\n",
       "      <td>51.872457</td>\n",
       "    </tr>\n",
       "    <tr>\n",
       "      <th>std</th>\n",
       "      <td>2.883286e+06</td>\n",
       "      <td>195.050858</td>\n",
       "    </tr>\n",
       "    <tr>\n",
       "      <th>min</th>\n",
       "      <td>1.160000e+02</td>\n",
       "      <td>0.000000</td>\n",
       "    </tr>\n",
       "    <tr>\n",
       "      <th>25%</th>\n",
       "      <td>2.512230e+06</td>\n",
       "      <td>5.000000</td>\n",
       "    </tr>\n",
       "    <tr>\n",
       "      <th>50%</th>\n",
       "      <td>4.995815e+06</td>\n",
       "      <td>16.000000</td>\n",
       "    </tr>\n",
       "    <tr>\n",
       "      <th>75%</th>\n",
       "      <td>7.496452e+06</td>\n",
       "      <td>51.000000</td>\n",
       "    </tr>\n",
       "    <tr>\n",
       "      <th>max</th>\n",
       "      <td>9.999861e+06</td>\n",
       "      <td>49854.000000</td>\n",
       "    </tr>\n",
       "  </tbody>\n",
       "</table>\n",
       "</div>"
      ],
      "text/plain": [
       "             userid  sum_gamerounds\n",
       "count  9.018900e+04    90189.000000\n",
       "mean   4.998412e+06       51.872457\n",
       "std    2.883286e+06      195.050858\n",
       "min    1.160000e+02        0.000000\n",
       "25%    2.512230e+06        5.000000\n",
       "50%    4.995815e+06       16.000000\n",
       "75%    7.496452e+06       51.000000\n",
       "max    9.999861e+06    49854.000000"
      ]
     },
     "execution_count": 3,
     "metadata": {},
     "output_type": "execute_result"
    }
   ],
   "source": [
    "df.describe()"
   ]
  },
  {
   "cell_type": "code",
   "execution_count": 4,
   "id": "2b9dd894-7af2-4d6e-afc7-05386c5710fa",
   "metadata": {},
   "outputs": [],
   "source": [
    "# Eliminación de datos atípicos\n",
    "df = df[df['sum_gamerounds']<1000]"
   ]
  },
  {
   "cell_type": "markdown",
   "id": "589e1f01-4e56-43df-a377-6a8ebfb6fc7f",
   "metadata": {},
   "source": [
    "## Prueba z para dos proporciones\n",
    "Realizaremos una prueba z para comparar dos proporciones. Las pruebas de hipótesis pueden ser bilaterales (de dos colas) o unilaterales (de una cola). Utilizaremos una prueba bilateral, por lo tanto, las hipótesis se plantean como:\n",
    "- H<sub>0</sub>: p=p<sub>0</sub> (Hipótesis nula)\n",
    "- H<sub>1</sub>: p ≠ p<sub>0</sub> (Hipótesis alternativa)\n",
    "\n",
    "Para calcular las proporciones conviene obtener una tabla con el conteo de cada caso. Realicemos una tabla de contigencia o tabla cruzada. "
   ]
  },
  {
   "cell_type": "code",
   "execution_count": 5,
   "id": "0043677f-f694-4fdf-93dc-06e4b4f51d73",
   "metadata": {},
   "outputs": [
    {
     "data": {
      "text/html": [
       "<div>\n",
       "<style scoped>\n",
       "    .dataframe tbody tr th:only-of-type {\n",
       "        vertical-align: middle;\n",
       "    }\n",
       "\n",
       "    .dataframe tbody tr th {\n",
       "        vertical-align: top;\n",
       "    }\n",
       "\n",
       "    .dataframe thead th {\n",
       "        text-align: right;\n",
       "    }\n",
       "</style>\n",
       "<table border=\"1\" class=\"dataframe\">\n",
       "  <thead>\n",
       "    <tr style=\"text-align: right;\">\n",
       "      <th>retention_1</th>\n",
       "      <th>False</th>\n",
       "      <th>True</th>\n",
       "    </tr>\n",
       "    <tr>\n",
       "      <th>version</th>\n",
       "      <th></th>\n",
       "      <th></th>\n",
       "    </tr>\n",
       "  </thead>\n",
       "  <tbody>\n",
       "    <tr>\n",
       "      <th>gate_30</th>\n",
       "      <td>24663</td>\n",
       "      <td>19984</td>\n",
       "    </tr>\n",
       "    <tr>\n",
       "      <th>gate_40</th>\n",
       "      <td>25368</td>\n",
       "      <td>20056</td>\n",
       "    </tr>\n",
       "  </tbody>\n",
       "</table>\n",
       "</div>"
      ],
      "text/plain": [
       "retention_1  False  True \n",
       "version                  \n",
       "gate_30      24663  19984\n",
       "gate_40      25368  20056"
      ]
     },
     "execution_count": 5,
     "metadata": {},
     "output_type": "execute_result"
    }
   ],
   "source": [
    "# Crear una tabla de contingencia\n",
    "tabla_contingencia = pd.crosstab(df['version'], df['retention_1'])\n",
    "tabla_contingencia"
   ]
  },
  {
   "cell_type": "markdown",
   "id": "8408ec0f-103b-4771-aaaf-23b08877a8c2",
   "metadata": {},
   "source": [
    "Utilizaremos estos conteos como datos para realizar la prueba z"
   ]
  },
  {
   "cell_type": "code",
   "execution_count": 6,
   "id": "5a37241b-5b8a-4f7a-8281-154e218d0edd",
   "metadata": {},
   "outputs": [
    {
     "name": "stdout",
     "output_type": "stream",
     "text": [
      "Estadístico z: 1.8333709789201535\n",
      "Valor p: 0.06674742038798634\n"
     ]
    }
   ],
   "source": [
    "from statsmodels.stats.proportion import proportions_ztest\n",
    "\n",
    "# Contar el número de éxitos y el tamaño de cada grupo\n",
    "conteos = df.groupby('version')['retention_1'].sum().values #suma de unos o conteo de éxitos\n",
    "sumas = df.groupby('version')['retention_1'].count().values # conteo total de casos\n",
    "\n",
    "# Realizar la prueba z para comparar proporciones\n",
    "stat, p_value = proportions_ztest(conteos, sumas)\n",
    "\n",
    "# Mostrar los resultados\n",
    "print(f'Estadístico z: {stat}')\n",
    "print(f'Valor p: {p_value}')"
   ]
  },
  {
   "cell_type": "markdown",
   "id": "66329752-153a-4cf4-9481-7d548412ce31",
   "metadata": {},
   "source": [
    "En las pruebas estadísticas aplicaremos el criterio del p-valor, esto es, rechazar la hipótesis nula si el p-valor es menor al nivel de significancia (típicamente se utiliza 0.05)"
   ]
  },
  {
   "cell_type": "code",
   "execution_count": 7,
   "id": "f177818d-9c89-47f4-85a6-bdbb8a65177a",
   "metadata": {},
   "outputs": [
    {
     "name": "stdout",
     "output_type": "stream",
     "text": [
      "No se rechaza la hipótesis nula: no hay suficiente evidencia para afirmar que hay diferencias significativas en las proporciones.\n"
     ]
    }
   ],
   "source": [
    "# Interpretar los resultados\n",
    "alpha = 0.05\n",
    "if p_value < alpha:\n",
    "    print(\"Se rechaza la hipótesis nula: hay evidencia de que hay diferencias significativas en las proporciones.\")\n",
    "else:\n",
    "    print(\"No se rechaza la hipótesis nula: no hay suficiente evidencia para afirmar que hay diferencias significativas en las proporciones.\")"
   ]
  },
  {
   "cell_type": "markdown",
   "id": "7b57e2df-31ff-4c38-89b0-d35b467cb1eb",
   "metadata": {
    "tags": []
   },
   "source": [
    "## Prueba t para dos muestras independientes"
   ]
  },
  {
   "cell_type": "markdown",
   "id": "c63521f7-0201-49e8-a329-ea7b107387a9",
   "metadata": {},
   "source": [
    "Los promedios también son una métrica comúnmente utilizada en las pruebas A/B. Comparemos las rondas de juego en promedio por cada grupo en el experimento."
   ]
  },
  {
   "cell_type": "code",
   "execution_count": 8,
   "id": "d14cef26-d2ab-4def-aa1c-8fbadcf080a6",
   "metadata": {},
   "outputs": [
    {
     "data": {
      "text/html": [
       "<div>\n",
       "<style scoped>\n",
       "    .dataframe tbody tr th:only-of-type {\n",
       "        vertical-align: middle;\n",
       "    }\n",
       "\n",
       "    .dataframe tbody tr th {\n",
       "        vertical-align: top;\n",
       "    }\n",
       "\n",
       "    .dataframe thead th {\n",
       "        text-align: right;\n",
       "    }\n",
       "</style>\n",
       "<table border=\"1\" class=\"dataframe\">\n",
       "  <thead>\n",
       "    <tr style=\"text-align: right;\">\n",
       "      <th></th>\n",
       "      <th>sum_gamerounds</th>\n",
       "    </tr>\n",
       "    <tr>\n",
       "      <th>version</th>\n",
       "      <th></th>\n",
       "    </tr>\n",
       "  </thead>\n",
       "  <tbody>\n",
       "    <tr>\n",
       "      <th>gate_30</th>\n",
       "      <td>49.825789</td>\n",
       "    </tr>\n",
       "    <tr>\n",
       "      <th>gate_40</th>\n",
       "      <td>49.487760</td>\n",
       "    </tr>\n",
       "  </tbody>\n",
       "</table>\n",
       "</div>"
      ],
      "text/plain": [
       "         sum_gamerounds\n",
       "version                \n",
       "gate_30       49.825789\n",
       "gate_40       49.487760"
      ]
     },
     "execution_count": 8,
     "metadata": {},
     "output_type": "execute_result"
    }
   ],
   "source": [
    "# Estadística descriptiva\n",
    "df.groupby('version').agg({'sum_gamerounds':'mean'})"
   ]
  },
  {
   "cell_type": "markdown",
   "id": "027db370-f58d-4303-b277-d19c5d259b87",
   "metadata": {},
   "source": [
    "Consideraciones previas para realizar una prueba t:  \n",
    "- la variable debe tener escala de medición de intervalo o de razón\n",
    "- la variable debe tener una distribución normal o la muestra debe ser grande (mayor a 30)\n",
    "- las observaciones deben ser independientes.\n",
    "\n",
    "Planteamiento de hipótesis:  \n",
    "$H_0: \\mu_1 = \\mu_2$  \n",
    "$H_1: \\mu_1 \\neq \\mu_2$"
   ]
  },
  {
   "cell_type": "code",
   "execution_count": 9,
   "id": "081838ad-2fe8-4872-95c9-3b21731b80f6",
   "metadata": {},
   "outputs": [
    {
     "name": "stdout",
     "output_type": "stream",
     "text": [
      "Estadístico t: 0.5584128848228552\n",
      "Valor p: 0.5765638644688713\n"
     ]
    }
   ],
   "source": [
    "from scipy.stats import ttest_ind\n",
    "\n",
    "# Filtramos los datos para obtener los grupos\n",
    "control = df[df['version'] == 'gate_30']['sum_gamerounds']\n",
    "experimental = df[df['version'] == 'gate_40']['sum_gamerounds']\n",
    "\n",
    "# Realizar la prueba t de dos muestras independientes\n",
    "t_statistic, p_value = ttest_ind(control, experimental)\n",
    "\n",
    "# Imprimir los resultados\n",
    "print(\"Estadístico t:\", t_statistic)\n",
    "print(\"Valor p:\", p_value)"
   ]
  },
  {
   "cell_type": "markdown",
   "id": "ebf3d54b-7b74-4d67-b347-866278b0cbdd",
   "metadata": {},
   "source": [
    "El p-valor reportado corresponde a una prueba bilateral, es decir, cuando no se anticipa si la diferencia será positiva o negativa"
   ]
  },
  {
   "cell_type": "code",
   "execution_count": 10,
   "id": "2143d20b-a515-4d2c-945a-1903d55759d9",
   "metadata": {},
   "outputs": [
    {
     "name": "stdout",
     "output_type": "stream",
     "text": [
      "No se puede rechazar la hipótesis nula: no hay suficiente evidencia para afirmar diferencias significativas en las medias.\n"
     ]
    }
   ],
   "source": [
    "# Interpretar los resultados\n",
    "alpha = 0.05\n",
    "if p_value < alpha:\n",
    "    print(\"Se rechaza la hipótesis nula: hay evidencia de diferencias significativas en las medias.\")\n",
    "else:\n",
    "    print(\"No se puede rechazar la hipótesis nula: no hay suficiente evidencia para afirmar diferencias significativas en las medias.\")"
   ]
  },
  {
   "cell_type": "markdown",
   "id": "05211313-4205-462d-ac6e-7a7ffba44432",
   "metadata": {
    "tags": []
   },
   "source": [
    "Si la muestra es pequeña (p<30) se requiere evaluar la normalidad en la distribución de los datos. Existen varias pruebas para evaluar la normalidad de los datos. La prueba Shapiro-Wilk es una de las más utilizadas.  \n",
    "- Hipótesis nula (H0): Los datos provienen de una distribución normal  \n",
    "- Hipótesis alternativa (H1): Los datos no provienen de una distribución normal.  "
   ]
  },
  {
   "cell_type": "markdown",
   "id": "ac0113e6-3ba5-4384-bdbb-6fd60c48abc8",
   "metadata": {},
   "source": [
    "## Prueba de Levene\n",
    "La prueba de Levene de homogeneidad de varianzas evalúa si la varianza es la misma para los diferentes grupos. Se debe revisar el p-valor (significancia), si este es mayor que 0.05 entonces no rechaza la hipótesis nula de igualdad de varianzas (es decir, no se está violando el supuesto de homogeneidad de varianzas)"
   ]
  },
  {
   "cell_type": "code",
   "execution_count": 11,
   "id": "f7f89177-2ad0-4173-ae23-93e91856719b",
   "metadata": {
    "scrolled": true
   },
   "outputs": [
    {
     "name": "stdout",
     "output_type": "stream",
     "text": [
      "Estadístico de prueba: 0.03880220384954784\n",
      "Valor p: 0.8438414811744965\n"
     ]
    }
   ],
   "source": [
    "from scipy.stats import levene\n",
    "\n",
    "# Filtramos los datos para obtener los grupos\n",
    "control = df[df['version'] == 'gate_30']['sum_gamerounds']\n",
    "experimental = df[df['version'] == 'gate_40']['sum_gamerounds']\n",
    "\n",
    "# Realizar la prueba \n",
    "stat, p_value = levene(control, experimental)\n",
    "print(\"Estadístico de prueba:\", stat)\n",
    "print(\"Valor p:\", p_value)"
   ]
  },
  {
   "cell_type": "code",
   "execution_count": 12,
   "id": "dd421c37-97ee-4b6a-b2df-df15f5777682",
   "metadata": {},
   "outputs": [
    {
     "name": "stdout",
     "output_type": "stream",
     "text": [
      "No se puede rechazar la hipótesis nula: no se rechaza el supuesto de igualdad de varianzas.\n"
     ]
    }
   ],
   "source": [
    "# Interpretar los resultados\n",
    "alpha = 0.05\n",
    "if p_value < alpha:\n",
    "    print(\"Se rechaza la hipótesis nula: hay evidencia de diferencias significativas en las varianzas.\")\n",
    "else:\n",
    "    print(\"No se puede rechazar la hipótesis nula: no se rechaza el supuesto de igualdad de varianzas.\")"
   ]
  },
  {
   "cell_type": "markdown",
   "id": "e281aaa0-63ba-447e-9508-30f396d75dfb",
   "metadata": {},
   "source": [
    "## Prueba t de Welch \n",
    "Si hay evidencia estadística de que las varianzas son diferentes, se recomienda hacer una prueba t de Welch (para varianzas diferentes)"
   ]
  },
  {
   "cell_type": "code",
   "execution_count": 13,
   "id": "1bf6013b-2f18-43fa-8ea0-c141f90707c2",
   "metadata": {},
   "outputs": [
    {
     "name": "stdout",
     "output_type": "stream",
     "text": [
      "Estadístico t: 0.558396552424921\n",
      "Valor p: 0.5765750151466942\n"
     ]
    }
   ],
   "source": [
    "from scipy.stats import ttest_ind\n",
    "\n",
    "# Filtramos los datos para obtener los grupos\n",
    "control = df[df['version'] == 'gate_30']['sum_gamerounds']\n",
    "experimental = df[df['version'] == 'gate_40']['sum_gamerounds']\n",
    "\n",
    "# Realizar la prueba t de dos muestras independientes\n",
    "t_statistic, p_value = ttest_ind(control, experimental, equal_var = False)\n",
    "\n",
    "# Imprimir los resultados\n",
    "print(\"Estadístico t:\", t_statistic)\n",
    "print(\"Valor p:\", p_value)"
   ]
  },
  {
   "cell_type": "markdown",
   "id": "5c22afbb-4c84-48a1-b9bc-dc6a92528be6",
   "metadata": {},
   "source": [
    "## Prueba Mann-Whitney\n",
    "Una alternativa no paramétrica a la prueba t es la prueba de Mann-Whitney. Esto es recomendable cuando no se cumple el supuesto de normalidad de los datos."
   ]
  },
  {
   "cell_type": "code",
   "execution_count": 14,
   "id": "369c4efb-5d07-4d2d-ab4b-b649b0b0ca66",
   "metadata": {},
   "outputs": [
    {
     "name": "stdout",
     "output_type": "stream",
     "text": [
      "Estadístico de prueba U: 1021921905.5\n",
      "Valor p: 0.042826414935189544\n"
     ]
    }
   ],
   "source": [
    "from scipy.stats import mannwhitneyu\n",
    "\n",
    "# Filtramos los datos para obtener los grupos\n",
    "control = df[df['version'] == 'gate_30']['sum_gamerounds']\n",
    "experimental = df[df['version'] == 'gate_40']['sum_gamerounds']\n",
    "\n",
    "# Realizar la prueba de Mann-Whitney U\n",
    "statistic, p_value = mannwhitneyu(control, experimental)\n",
    "\n",
    "# Imprimir los resultados\n",
    "print(\"Estadístico de prueba U:\", statistic)\n",
    "print(\"Valor p:\", p_value)"
   ]
  },
  {
   "cell_type": "code",
   "execution_count": null,
   "id": "82525156-632f-4c97-b93f-1e0fdcd4043c",
   "metadata": {},
   "outputs": [],
   "source": [
    "# Interpretar los resultados\n",
    "alpha = 0.05\n",
    "if p_value < alpha:\n",
    "    print(\"Se rechaza la hipótesis nula: hay evidencia de diferencias significativas en la distribución.\")\n",
    "else:\n",
    "    print(\"No se puede rechazar la hipótesis nula: no hay suficiente evidencia para afirmar diferencias significativas en la distribución\")"
   ]
  },
  {
   "cell_type": "markdown",
   "id": "e8a40db5-2c70-4c72-b50f-5f4ae60f9073",
   "metadata": {},
   "source": [
    "## Ejercicio\n",
    "Utiliza la base de datos \"enigh_2020\" para evaluar si el ingreso corriente por hogar en promedio es diferente entre los hogares donde el jefe de familia es hombre en comparación con los hogares donde el jefe de familia es mujer.\n",
    "\n",
    "- Cargar los datos y librerías, explorar los datos\n",
    "- Evaluar supuestos: igualdad de varianzas y normalidad (no se requiere en este caso)\n",
    "- Realizar la prueba correspondiente"
   ]
  },
  {
   "cell_type": "markdown",
   "id": "ff6da0a3-74a6-4822-8e4d-e0fd54676a22",
   "metadata": {},
   "source": [
    "## Referencias\n",
    "https://roirevolution.com/blog/why-ab-testing-could-save-your-marketing-strategy/"
   ]
  },
  {
   "cell_type": "code",
   "execution_count": null,
   "id": "3bf13e16-5be0-4285-80b2-34b24659ab88",
   "metadata": {},
   "outputs": [],
   "source": []
  }
 ],
 "metadata": {
  "kernelspec": {
   "display_name": "Python 3 (ipykernel)",
   "language": "python",
   "name": "python3"
  },
  "language_info": {
   "codemirror_mode": {
    "name": "ipython",
    "version": 3
   },
   "file_extension": ".py",
   "mimetype": "text/x-python",
   "name": "python",
   "nbconvert_exporter": "python",
   "pygments_lexer": "ipython3",
   "version": "3.12.4"
  }
 },
 "nbformat": 4,
 "nbformat_minor": 5
}
