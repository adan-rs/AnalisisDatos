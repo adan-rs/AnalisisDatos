{
 "cells": [
  {
   "cell_type": "markdown",
   "id": "ae05dff2-ab04-4236-97d9-031979e53134",
   "metadata": {},
   "source": [
    "# Sesión 04: Pruebas de normalidad\n",
    "\n",
    "Existen varias pruebas para evaluar la normalidad de los datos. Exploraremos la prueba Shapiro-Wilk y la Kolmogorov-Smirnov"
   ]
  },
  {
   "cell_type": "code",
   "execution_count": null,
   "id": "984471df-d94c-4659-a6cf-71547352eac7",
   "metadata": {},
   "outputs": [],
   "source": [
    "import pandas as pd\n",
    "\n",
    "#df = pd.read_excel('data/b02_enigh2020.xlsx')\n",
    "df = pd.read_excel('https://github.com/adan-rs/AnalisisDatos/raw/main/s04_estadistica_descriptiva/data/b02_enigh2020.xlsx')"
   ]
  },
  {
   "cell_type": "markdown",
   "id": "88c46e67-68eb-4e53-9e96-73f554aab906",
   "metadata": {},
   "source": [
    "## Prueba Shapiro Wilk\n",
    "\n",
    "La prueba Shapiro-Wilk es una de las más utilizadas especialmente para muestras pequeñas o medianas  \n",
    "- Hipótesis nula (H0): Los datos provienen de una distribución normal  \n",
    "- Hipótesis alternativa (H1): Los datos no provienen de una distribución normal.  "
   ]
  },
  {
   "cell_type": "code",
   "execution_count": null,
   "id": "21d0afc2-e9ae-4d4c-aa1f-bece3278c75d",
   "metadata": {},
   "outputs": [],
   "source": [
    "# Para propósitos de ejemplo obtenemos una muestra de tamaño mediano\n",
    "data = df['edad_jefe'].head(100)"
   ]
  },
  {
   "cell_type": "code",
   "execution_count": null,
   "id": "6c1cdce4-8801-460b-8191-23be34ba744e",
   "metadata": {},
   "outputs": [],
   "source": [
    "import numpy as np\n",
    "from scipy import stats\n",
    "\n",
    "stat, p_value = stats.shapiro(data)\n",
    "print(\"Estadístico de prueba:\", stat)\n",
    "print(\"Valor p:\", p_value)"
   ]
  },
  {
   "cell_type": "code",
   "execution_count": null,
   "id": "e3a67ed8-4f1a-4e05-bb44-5f5e2bf06aca",
   "metadata": {},
   "outputs": [],
   "source": [
    "# Interpretar los resultados\n",
    "alpha = 0.05\n",
    "if p_value < alpha:\n",
    "    print(\"Se rechaza la hipótesis nula de normalidad en los datos\")\n",
    "else:\n",
    "    print(\"No se puede rechazar la hipótesis nula de normalidad en los datos\")"
   ]
  },
  {
   "cell_type": "markdown",
   "id": "01c766bb-8b5a-4b83-b8f2-b53e6a4a3686",
   "metadata": {},
   "source": [
    "## Prueba Kolmogorov-Smirnov\n",
    "La prueba de Kolmogorov-Smirnov es apropiada para muestras grandes y es generalizable a otro tipo de distribuciones.\n",
    "- Hipótesis nula (H0): Los datos provienen de una distribución específica\n",
    "- Hipótesis alternativa (H1): Los datos no provienen de una distribución específica"
   ]
  },
  {
   "cell_type": "code",
   "execution_count": null,
   "id": "5e40a77a-2e78-4f72-8859-ea47997cc0dc",
   "metadata": {},
   "outputs": [],
   "source": [
    "import numpy as np\n",
    "from scipy import stats\n",
    "\n",
    "data = df['edad_jefe'].head(100)\n",
    "\n",
    "media = data.mean()\n",
    "desviacion_estandar = data.std()\n",
    "datos_normalizados = (data - media) / desviacion_estandar\n",
    "\n",
    "stat, p_value = stats.kstest(datos_normalizados, 'norm')\n",
    "print(\"Estadístico de prueba:\", stat)\n",
    "print(\"Valor p:\", p_value)"
   ]
  },
  {
   "cell_type": "markdown",
   "id": "7525363f-20ae-4db0-93ef-76c0ab2a3bfa",
   "metadata": {},
   "source": [
    "## Referencias\n",
    "https://docs.scipy.org/doc/scipy/reference/generated/scipy.stats.shapiro.html\n",
    "\n",
    "\n",
    "https://docs.scipy.org/doc/scipy/reference/generated/scipy.stats.kstest.html"
   ]
  },
  {
   "cell_type": "code",
   "execution_count": null,
   "id": "c056b8f7-fe3c-4f5f-b619-3fc78706b4d8",
   "metadata": {},
   "outputs": [],
   "source": []
  }
 ],
 "metadata": {
  "kernelspec": {
   "display_name": "Python 3 (ipykernel)",
   "language": "python",
   "name": "python3"
  },
  "language_info": {
   "codemirror_mode": {
    "name": "ipython",
    "version": 3
   },
   "file_extension": ".py",
   "mimetype": "text/x-python",
   "name": "python",
   "nbconvert_exporter": "python",
   "pygments_lexer": "ipython3",
   "version": "3.12.4"
  }
 },
 "nbformat": 4,
 "nbformat_minor": 5
}
