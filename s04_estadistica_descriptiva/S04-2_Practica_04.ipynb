{
 "cells": [
  {
   "cell_type": "markdown",
   "id": "187a45f8-45e0-415e-ad41-b3d89dfcbdf1",
   "metadata": {},
   "source": [
    "# Práctica 04: Visualización de datos"
   ]
  },
  {
   "cell_type": "markdown",
   "id": "740df602-022e-4493-8c96-3972a32284db",
   "metadata": {},
   "source": [
    "Instrucciones:\n",
    "Con los datos del archivo 'b04_cerveza.xlsx', obtén lo siguiente:\n",
    "- Un resumen con los nombres de las variables y la cantidad de observaciones en cada variable.\n",
    "- Una tabla con el conteo de cuántas cervezas se incluyeron por país.\n",
    "- La estadística descriptiva de las variables cuantitativas.\n",
    "- Un diagrama de pastel para comparar la cantidad de cervezas nacionales e importadas (0: Nacionales, 1: Importadas).\n",
    "- Un diagrama de barras para mostrar el tipo de cerveza (\"Tipo\").\n",
    "- Un histograma mostrar la distribución del \"costo por 100 mililitros\".\n",
    "- Un diagrama de dispersión para mostrar la relación entre calorías y alcohol.\n",
    "- Un diagrama de caja para mostrar la distribución de la variable \"Contenido\".\n",
    "\n",
    "\n",
    "Entregable:\n",
    "- Un archivo del jupyter notebook ejecutable y que incluya tanto código como documentación.\n",
    "- Una presentación en power point, con interpretación de cada gráfico o resultado y conclusiones. Los gráficos deben ser autoexplicativos, esto es, con títulos y nombres de variables.\n"
   ]
  },
  {
   "cell_type": "markdown",
   "id": "307f8785-5da5-4056-9ca1-785fa53bb0a6",
   "metadata": {},
   "source": [
    "## Referencia\n",
    "Revista del consumidor (2016, julio). *El laboratorio Profeco reporta: Cerveza*. Disponible en: https://www.gob.mx/cms/uploads/attachment/file/131720/RC475_Cerveza-OK-OK_para_WEB.pdf"
   ]
  },
  {
   "cell_type": "code",
   "execution_count": null,
   "id": "9e662207-faf8-4b06-86b9-0ef88e5978cc",
   "metadata": {},
   "outputs": [],
   "source": []
  }
 ],
 "metadata": {
  "kernelspec": {
   "display_name": "Python 3 (ipykernel)",
   "language": "python",
   "name": "python3"
  },
  "language_info": {
   "codemirror_mode": {
    "name": "ipython",
    "version": 3
   },
   "file_extension": ".py",
   "mimetype": "text/x-python",
   "name": "python",
   "nbconvert_exporter": "python",
   "pygments_lexer": "ipython3",
   "version": "3.11.7"
  }
 },
 "nbformat": 4,
 "nbformat_minor": 5
}
