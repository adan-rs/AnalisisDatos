{
 "cells": [
  {
   "cell_type": "markdown",
   "id": "ecc7a6a8-7b95-42a3-ae4d-1acce323a449",
   "metadata": {},
   "source": [
    "# Sesión 04: Visualización de datos\n"
   ]
  },
  {
   "cell_type": "markdown",
   "id": "7218eb4b-0951-493a-bb40-4349e0324eca",
   "metadata": {},
   "source": [
    "## 4.1 Visualización en Pandas y Matplotlib\n",
    "En esta práctica utilizaremos el archivo \"b03_enigh_2020\" que incluye las variables principales de la ENIGH 2020 (Encuesta Nacional de Ingreso y Gasto en Hogares) con observaciones de los principales municipios de la zona metropolitana de Monterrey. "
   ]
  },
  {
   "cell_type": "code",
   "execution_count": null,
   "id": "147a8a4a-ad36-479a-968b-ef3a6b8dcff9",
   "metadata": {
    "tags": []
   },
   "outputs": [],
   "source": [
    "# Importa la biblioteca de pandas\n",
    "import pandas as pd"
   ]
  },
  {
   "cell_type": "code",
   "execution_count": null,
   "id": "b9109c73-2b62-4e45-b2b9-5ccc4e131a7b",
   "metadata": {
    "tags": []
   },
   "outputs": [],
   "source": [
    "# Carga el archivo 'data/b02_enigh2020.xlsx' en un dataframe \"df\"\n",
    "#df = pd.read_excel('data/b02_enigh2020.xlsx')\n",
    "df = pd.read_excel('https://github.com/adan-rs/AnalisisDatos/raw/main/s04_estadistica_descriptiva/data/b02_enigh2020.xlsx')"
   ]
  },
  {
   "cell_type": "code",
   "execution_count": null,
   "id": "877882fd-b0e4-4191-8633-e682af56288d",
   "metadata": {},
   "outputs": [],
   "source": [
    "# Revisa las variables y evalúa si hay datos perdidos en una columna\n",
    "df.info()"
   ]
  },
  {
   "cell_type": "markdown",
   "id": "0dba43cc-aae9-4f6b-9c30-f2c1a1ccaaa0",
   "metadata": {},
   "source": [
    "Seleccionemos una columna con una variable categórica. Por ejemplo, el sexo del jefe de familia ('sexo_jefe'). Obtén un conteo de la frecuencia en cada categoría. Recuerda que para una variable 'X' esto se puede obtener con el comando  `df['X'].value_counts()`"
   ]
  },
  {
   "cell_type": "code",
   "execution_count": null,
   "id": "4e9b6ae2-326a-4e61-b092-2d83e7cbd2d6",
   "metadata": {
    "tags": []
   },
   "outputs": [],
   "source": [
    "# Obtén el conteo de la variable 'sexo_jefe'\n",
    "df['sexo_jefe'].value_counts()"
   ]
  },
  {
   "cell_type": "markdown",
   "id": "11fce521-3bdf-4b46-8790-950a8cf4519d",
   "metadata": {
    "tags": []
   },
   "source": [
    "**Diagramas de pastel** Los dataframes en Pandas tienen un método *plot* que permite crear fácilmente un gráfico. Por ejemplo, para una variable categórica \"X\", podemos crear un diagrama de pastel (pie) con el siguiente comando: `df.X.value_counts().plot(kind = 'pie')`. "
   ]
  },
  {
   "cell_type": "code",
   "execution_count": null,
   "id": "0e0066d9-c0a8-4414-b089-59292b41b569",
   "metadata": {
    "tags": []
   },
   "outputs": [],
   "source": [
    "# Crea un gráfico de pastel para la variable 'sexo_jefe'\n",
    "df['sexo_jefe'].value_counts().plot(kind = 'pie')"
   ]
  },
  {
   "cell_type": "markdown",
   "id": "c800d1b1-be16-4d0f-b3fe-0d74f2f704fe",
   "metadata": {},
   "source": [
    "Observa que aparece un texto antes del gráfico relacionada con el comando utilizado. Para evitar esto, repite el comando agregando un punto y coma al final."
   ]
  },
  {
   "cell_type": "markdown",
   "id": "0e51394b-92a6-4121-931a-afcdd3084720",
   "metadata": {},
   "source": [
    "**Diagramas de barra** Otra opción para variables categóricas son los diagramas de barra. Para ello se puede utilizar el parámetro *kind='bar'* para un gráfico vertical o *kind=barh* para gráficos horizontales. "
   ]
  },
  {
   "cell_type": "code",
   "execution_count": null,
   "id": "281ac832-fa0f-4aff-a41c-b1632df5c3a2",
   "metadata": {
    "tags": []
   },
   "outputs": [],
   "source": [
    "# Crea un gráfico de barras horizontal para la variable 'ubica_geo'\n",
    "df['sexo_jefe'].value_counts().plot(kind = 'bar');"
   ]
  },
  {
   "cell_type": "markdown",
   "id": "f5200c3a-97c2-4ce2-b70c-c894d54eccef",
   "metadata": {},
   "source": [
    "Existen algunos parámetros para modificar la apariencia del gráfico. Por ejemplo *width* indica la proporción de espacio que ocupan las barras, que dede manera predeterminada es 0.5 (*¿por qué es importante dejar un hueco entre las barras?*). El parámetro *alpha* sirve para agregar un nivel de transparencia desde completamente transparente (0) hasta completamente opaco (1). Con *color* podemos establecer una lista de colores codificados."
   ]
  },
  {
   "cell_type": "code",
   "execution_count": null,
   "id": "28d59b71-957d-4823-a060-1c0300ba3aa7",
   "metadata": {},
   "outputs": [],
   "source": [
    "# Realiza de nuevo el gráfico anterior para modificar los parámetros width, alpha y color\n",
    "df['sexo_jefe'].value_counts().plot(kind = 'bar', width = 0.80, alpha = 0.8, color = ['b', 'r']);"
   ]
  },
  {
   "cell_type": "markdown",
   "id": "c68520d1-521e-43e4-b5cc-bdc790addfb6",
   "metadata": {},
   "source": [
    "Para ejemplificar gráficos más complejos utilizaremos como referencia una tabla cruzada a partir de una tabla pivote. Crearemos esta tabla con la instrucción `tabla = df.pivot_table(index='ubica_geo', columns='sexo_jefe', values='tot_integ', aggfunc='sum')`. Las filas serán los diferentes municipios, las columnas el sexo del jefe de familia y los valores dentro de la tabla serán la suma de cada combinación de nombre y categoría"
   ]
  },
  {
   "cell_type": "code",
   "execution_count": null,
   "id": "bebf334d-208b-47a4-8282-bb522aceff08",
   "metadata": {
    "tags": []
   },
   "outputs": [],
   "source": [
    "# Crear tabla pivote\n",
    "tabla = df.pivot_table(index='ubica_geo', columns='sexo_jefe', values='tot_integ', aggfunc='sum')\n",
    "tabla"
   ]
  },
  {
   "cell_type": "code",
   "execution_count": null,
   "id": "53ea9974-aa62-4168-8997-128341178740",
   "metadata": {
    "tags": []
   },
   "outputs": [],
   "source": [
    "# Construye un gráfico de barras para \"tabla\". Modifica y agrega el parámetro 'stacked=True'\n",
    "tabla.plot(kind = 'bar', stacked = True);"
   ]
  },
  {
   "cell_type": "markdown",
   "id": "26c556f6-30c5-4e14-aacf-e42003e304f9",
   "metadata": {
    "tags": []
   },
   "source": [
    "Si nos interesa mostrar más de un gráfico se utiliza el parámetro *subplots=True*"
   ]
  },
  {
   "cell_type": "code",
   "execution_count": null,
   "id": "4d78d3fe-f1af-4033-b2c2-5d734b46c909",
   "metadata": {
    "tags": []
   },
   "outputs": [],
   "source": [
    "# Construye gráficos de barras para tablas utilizando subplots=True\n",
    "tabla.plot(kind = 'bar', subplots = True);"
   ]
  },
  {
   "cell_type": "markdown",
   "id": "e121b10a-7c83-4249-bfe7-8b87bd3bb70c",
   "metadata": {
    "tags": []
   },
   "source": [
    "Otro gráfico disponible es *'scatter'* para los diagramas de dispersión. Por ejemplo:  \n",
    "`df.plot(kind='scatter', x='ing_cor', y='gasto_mon')` "
   ]
  },
  {
   "cell_type": "code",
   "execution_count": null,
   "id": "5228a140-5d4b-4a63-8b23-2a37b446f208",
   "metadata": {
    "tags": []
   },
   "outputs": [],
   "source": [
    "# Crea un diagrama de dispersión para ingreso corriente y gasto monetario\n",
    "df.plot(kind='scatter', x='ing_cor', y='gasto_mon');"
   ]
  },
  {
   "cell_type": "markdown",
   "id": "dc23ad92-68c6-452a-a868-418cf8fbb0e2",
   "metadata": {},
   "source": [
    "## 4.2 Gráficos con Matplotlib\n",
    "Para realizar gráficos más complejos es necesario utilizar otros paquetes como *Seaborn*. La estructura general de una función en Seaborn es `sns.plotClass(x=Xvar, y=Yvar, data=data, kind=kind, options)` en la cual sns es el alias de Seaborn, *plotClass* es una familia de gráficos.  \n",
    "Tanto Pandas como Seaborn están construidas con el paquete *Matplotlib* interactuando con el módulo *pyplot*. Por lo tanto, se requiere importar el módulo *pyplot* aunque no lo utilices directamente. Para importarlo utiliza el comando `import matplotlib.pyplot as plt`"
   ]
  },
  {
   "cell_type": "code",
   "execution_count": null,
   "id": "5c4c7073-a004-496d-8f5a-be7d878acb2b",
   "metadata": {
    "tags": []
   },
   "outputs": [],
   "source": [
    "# Importa pyplot\n",
    "import matplotlib.pyplot as plt"
   ]
  },
  {
   "cell_type": "markdown",
   "id": "227aa539-568d-49ab-bade-3a540aad237d",
   "metadata": {},
   "source": [
    "En la terminología de matplotlib, los gráficos se hace en un contenedor llamado figura (*figure*), y cada gráfico  se crea dentro de un área definida por ejes (*axis*). Puedes crear una figura con `fig = plt.figure()` en la cual de manera predeterminada solo hay un *axis* pero puedes definir este conjunto de ejes al crear la *figure*. Por ejemplo,  `fig, axis = plt.subplots(nrows=1, ncols=1)` para un 1x1 conjunto de ejes o `fig, axis = plt.subplots(2,2)` para crear 4 conjuntos de ejes. \n",
    "Cada *axis* se nombra, generalmente, como *ax*. Entonces es común encontrar instrucciones como    \n",
    "`fig, ax = plt.subplots()`  \n",
    "`fig, axs = plt.subplots(2,2)`  \n",
    "`fig, (ax1, ax2) = plt.subplots(1,2)`  \n"
   ]
  },
  {
   "cell_type": "markdown",
   "id": "16b92ac9-e17f-4d64-a37e-ea416a007ca3",
   "metadata": {
    "tags": []
   },
   "source": [
    "Algunas instrucciones básicas son:  \n",
    "| Componente | Ejemplo |\n",
    "|-------------|--------|\n",
    "| Título de la figura | fig.suptitle('*Título*') |\n",
    "| Título del axis | ax.set_title('*Título del conjunto de ejes*') |  \n",
    "| Etiqueta eje x | ax.set_xlabel('*Etiqueta eje X*') |  \n",
    "| Etiqueta eje y | ax_set_ylabel('*Etiqueta eje Y*') |"
   ]
  },
  {
   "cell_type": "markdown",
   "id": "73041612-12bc-4b05-b5b9-d4622bc284a4",
   "metadata": {},
   "source": [
    "## 4.3. Diagrama de dispersión"
   ]
  },
  {
   "cell_type": "markdown",
   "id": "6ddf9e92-78d4-4ca7-9c81-7203c8b41ce4",
   "metadata": {},
   "source": [
    "Para un diagrama de dispersión se puede utilizar la función `plt.scatter()`en la cual los primeros dos argumentos son las variables x y y. "
   ]
  },
  {
   "cell_type": "code",
   "execution_count": null,
   "id": "bc38f482-4d3e-45ac-82e8-55d75c200e2e",
   "metadata": {},
   "outputs": [],
   "source": [
    "# Ejemplo\n",
    "fig, ax = plt.subplots()\n",
    "ax.scatter(df['ing_cor'], df['gasto_mon'])\n",
    "ax.set_title('Ingreso y gasto en Hogares')\n",
    "ax.set_xlabel('Ingreso')\n",
    "ax.set_ylabel('Gasto');"
   ]
  },
  {
   "cell_type": "code",
   "execution_count": null,
   "id": "ead12bd5-c757-4b51-8961-f89303fc38f3",
   "metadata": {},
   "outputs": [],
   "source": [
    "# Se crea un diccionario para asociar un color a cada estrato\n",
    "colores = {'bajo':'red', 'medio_bajo':'orange', 'medio_alto':'yellow', 'alto':'green'}\n",
    "# La función map() se puede usar para transformaciones simples elemento por elemento\n",
    "color_estrato = df['est_socio'].map(colores)"
   ]
  },
  {
   "cell_type": "code",
   "execution_count": null,
   "id": "b6a11608-a70e-4952-8e02-164047d788ac",
   "metadata": {},
   "outputs": [],
   "source": [
    "# Ejemplo\n",
    "fig, ax = plt.subplots()\n",
    "ax.scatter(df['ing_cor'], df['gasto_mon'], color = color_estrato)\n",
    "ax.set_title('Ingreso y gasto en Hogares')\n",
    "ax.set_xlabel('Ingreso')\n",
    "ax.set_ylabel('Gasto')\n",
    "\n",
    "#plt.savefig('images/grafico_dispersion');"
   ]
  },
  {
   "cell_type": "code",
   "execution_count": null,
   "id": "e584bc06-62f5-4281-b8ed-55c12cf5f0ed",
   "metadata": {},
   "outputs": [],
   "source": [
    "fig, (ax1, ax2) = plt.subplots(1, 2, figsize=(10,4))\n",
    "fig.suptitle('título')\n",
    "\n",
    "ax1.scatter(df['ing_cor'], df['agua'])\n",
    "ax1.set_xlabel('Ingreso')\n",
    "ax1.set_ylabel('Agua')\n",
    "\n",
    "ax2.scatter(df['ing_cor'], df['energia'])\n",
    "ax2.set_xlabel('Ingreso')\n",
    "ax2.set_ylabel('Energía')\n",
    "# Ajusta el diseño\n",
    "plt.tight_layout();"
   ]
  },
  {
   "cell_type": "markdown",
   "id": "0dbccc69-2c66-420b-9a59-5bf1d726493c",
   "metadata": {},
   "source": [
    "### 4.4 Diagrama de pastel"
   ]
  },
  {
   "cell_type": "code",
   "execution_count": null,
   "id": "31015753-c3ed-49b9-b87f-edc68b435791",
   "metadata": {},
   "outputs": [],
   "source": [
    "conteo_estratos = df['est_socio'].value_counts()\n",
    "# pd.DataFrame sirve para convertirlo a dataframe\n",
    "fig, ax = plt.subplots()\n",
    "ax.pie(conteo_estratos, labels=conteo_estratos.index,\n",
    "      colors=['gold', 'coral', 'limegreen', 'lavender'],\n",
    "      explode = (0,0, 0.2, 0))\n",
    "plt.show();"
   ]
  },
  {
   "cell_type": "markdown",
   "id": "05c26581-07f7-4b3d-82c2-42c023b2a67d",
   "metadata": {},
   "source": [
    "Otros colores pueden ser:\n",
    "- Básicos: blue, red, green, cyan, magenta, yellow, black, white.\n",
    "- Modificados: skyblue, navy, forestgreen, chocolate, purple, pink, orange, gray\n",
    "- Otros (X11): aliceblue, blanchedalmond, cornflowerblue, darkgoldenrod, lavender, lightcoral, olive, rosybrown, wheat. "
   ]
  },
  {
   "cell_type": "markdown",
   "id": "78960b86-919c-4219-88dd-5e403fecd549",
   "metadata": {},
   "source": [
    "## 4.5 Histograma"
   ]
  },
  {
   "cell_type": "markdown",
   "id": "363da350-a938-4b2f-a019-5d42f8016275",
   "metadata": {},
   "source": [
    "Un histograma se puede crear con *hist()*. El primer argumento es el conjunto de datos. Los *bins* corresponden a las barras."
   ]
  },
  {
   "cell_type": "code",
   "execution_count": null,
   "id": "a784c00e-cd78-4d3e-979b-c1569edeb08d",
   "metadata": {
    "tags": []
   },
   "outputs": [],
   "source": [
    "fig, ax = plt.subplots()\n",
    "h=ax.hist(df['edad_jefe'], bins=10, color='skyblue', edgecolor='black', cumulative=False)\n",
    "h[2][4].set_facecolor('orange')\n",
    "ax.set_title('Edades del jefe del hogar')\n",
    "plt.show();"
   ]
  },
  {
   "cell_type": "markdown",
   "id": "576019a0-7c15-4eba-b191-cec0278a609d",
   "metadata": {
    "tags": []
   },
   "source": [
    "## 4.6 Diagrama de caja (boxplot)"
   ]
  },
  {
   "cell_type": "code",
   "execution_count": null,
   "id": "b3f7a456-c4b7-4434-aa19-60d343097043",
   "metadata": {},
   "outputs": [],
   "source": [
    "fig, ax = plt.subplots()\n",
    "ax.boxplot(df['edad_jefe'])\n",
    "ax.set_title('Edad del jefe de familia');"
   ]
  },
  {
   "cell_type": "code",
   "execution_count": null,
   "id": "0d01b3f7-c4db-442b-9590-24ba3400bf69",
   "metadata": {},
   "outputs": [],
   "source": []
  }
 ],
 "metadata": {
  "kernelspec": {
   "display_name": "Python 3 (ipykernel)",
   "language": "python",
   "name": "python3"
  },
  "language_info": {
   "codemirror_mode": {
    "name": "ipython",
    "version": 3
   },
   "file_extension": ".py",
   "mimetype": "text/x-python",
   "name": "python",
   "nbconvert_exporter": "python",
   "pygments_lexer": "ipython3",
   "version": "3.12.4"
  }
 },
 "nbformat": 4,
 "nbformat_minor": 5
}
