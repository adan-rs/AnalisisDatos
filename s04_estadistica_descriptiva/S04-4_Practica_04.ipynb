{
 "cells": [
  {
   "cell_type": "markdown",
   "id": "187a45f8-45e0-415e-ad41-b3d89dfcbdf1",
   "metadata": {},
   "source": [
    "# Práctica 04: Visualización de datos"
   ]
  },
  {
   "cell_type": "markdown",
   "id": "740df602-022e-4493-8c96-3972a32284db",
   "metadata": {},
   "source": [
    "Instrucciones para el Análisis Exploratorio de Datos (EDA)\n",
    "Objetivo:\n",
    "\n",
    "Realizar un análisis exploratorio de datos (EDA) para comprender mejor las características y relaciones de las cervezas disponibles en el mercado mexicano. Utilizarán los datos del archivo 'b04_cerveza.xlsx' que contiene información sobre tipo de cerveza, calorías, alcohol, contenido, costo por 100 ml, y país de origen.\n",
    "Actividades:\n",
    "\n",
    "Importación y Preprocesamiento de Datos:\n",
    "- Importen las librerías necesarias para el análisis: pandas, numpy, matplotlib, seaborn.\n",
    "- Carguen el dataframe en su entorno de trabajo.\n",
    "- Realicen una inspección inicial de los datos para entender su estructura y contenido utilizando funciones como head(), info(), y describe().\n",
    "- Identifiquen y manejen los valores nulos o datos faltantes, si los hubiera.\n",
    "\n",
    "Análisis Descriptivo:\n",
    "- Calcular estadísticas descriptivas (media, mediana, desviación estándar, etc.) para cada variable numérica.\n",
    "- Analizar la distribución de cada variable mediante la interpretación de histogramas.\n",
    "- Crear tablas de frecuencia para variables categóricas (tipo de cerveza y país).\n",
    "\n",
    "Visualización de Datos:\n",
    "- Utilicen gráficos de dispersión (scatter plots) para explorar las relaciones entre las variables numéricas, por ejemplo, entre el contenido de alcohol y las calorías.\n",
    "- Crear gráficos de barras para visualizar la distribución de tipos de cerveza y países de origen.\n",
    "- Crear un diagrama de pastel para comparar la cantidad de cervezas nacionales e importadas (0: Nacionales. 1: Importadas)\n",
    "\n",
    "Detección de Anomalías:\n",
    "- Utilicen gráficos como boxplots para identificar posibles valores atípicos en las variables de costo, calorías y contenido de alcohol.\n",
    "- Realicen un análisis más profundo de estos valores atípicos (en caso de existir) para entender si representan oportunidades o amenazas en el mercado.\n",
    "\n",
    "Resumen y Conclusiones:\n",
    "- Redacten un resumen de los hallazgos más importantes de su análisis.\n",
    "- Identifiquen tendencias y patrones clave que podrían influir en la estrategia de negocio de la empresa cervecera.\n",
    "- Proporcionen recomendaciones basadas en los datos analizados.\n",
    "\n",
    "Entregables:\n",
    "\n",
    "    Un notebook (Jupyter Notebook, Google Colab, etc.) con todo el código utilizado para el análisis.\n",
    "    Un informe de no más de 2 páginas resumiendo los hallazgos y recomendaciones, con gráficos y tablas relevantes incluidas.\n",
    "\n",
    "Recuerden que el objetivo principal de esta actividad es practicar las técnicas de EDA y obtener insights valiosos del conjunto de datos.\n"
   ]
  },
  {
   "cell_type": "markdown",
   "id": "307f8785-5da5-4056-9ca1-785fa53bb0a6",
   "metadata": {},
   "source": [
    "## Referencia\n",
    "Revista del consumidor (2016, julio). *El laboratorio Profeco reporta: Cerveza*. Disponible en: https://www.gob.mx/cms/uploads/attachment/file/131720/RC475_Cerveza-OK-OK_para_WEB.pdf"
   ]
  },
  {
   "cell_type": "code",
   "execution_count": null,
   "id": "9e662207-faf8-4b06-86b9-0ef88e5978cc",
   "metadata": {},
   "outputs": [],
   "source": []
  }
 ],
 "metadata": {
  "kernelspec": {
   "display_name": "Python 3 (ipykernel)",
   "language": "python",
   "name": "python3"
  },
  "language_info": {
   "codemirror_mode": {
    "name": "ipython",
    "version": 3
   },
   "file_extension": ".py",
   "mimetype": "text/x-python",
   "name": "python",
   "nbconvert_exporter": "python",
   "pygments_lexer": "ipython3",
   "version": "3.12.4"
  }
 },
 "nbformat": 4,
 "nbformat_minor": 5
}
