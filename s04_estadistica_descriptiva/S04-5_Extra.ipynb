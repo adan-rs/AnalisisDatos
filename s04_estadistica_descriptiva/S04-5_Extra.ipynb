{
 "cells": [
  {
   "cell_type": "markdown",
   "id": "ecc7a6a8-7b95-42a3-ae4d-1acce323a449",
   "metadata": {},
   "source": [
    "# Sesión 04: Estadística descriptiva\n",
    "*\"Si las estadísticas son aburridas, es que tienes los números equivocados\". Edward Tufte*"
   ]
  },
  {
   "cell_type": "code",
   "execution_count": 2,
   "id": "9920d3ee-4777-4855-bc17-2256fb4158dc",
   "metadata": {},
   "outputs": [],
   "source": [
    "import pandas as pd"
   ]
  },
  {
   "cell_type": "code",
   "execution_count": 3,
   "id": "9995ac7c-d876-42c7-839a-7bcfdae43485",
   "metadata": {},
   "outputs": [
    {
     "name": "stdout",
     "output_type": "stream",
     "text": [
      "<class 'pandas.core.frame.DataFrame'>\n",
      "RangeIndex: 50 entries, 0 to 49\n",
      "Data columns (total 8 columns):\n",
      " #   Column      Non-Null Count  Dtype  \n",
      "---  ------      --------------  -----  \n",
      " 0   Cerveza     50 non-null     object \n",
      " 1   Tipo        50 non-null     object \n",
      " 2   Calorias    50 non-null     int64  \n",
      " 3   Alcohol     50 non-null     float64\n",
      " 4   Contenido   50 non-null     int64  \n",
      " 5   Costo100ml  50 non-null     float64\n",
      " 6   Pais        50 non-null     object \n",
      " 7   Importada   50 non-null     int64  \n",
      "dtypes: float64(2), int64(3), object(3)\n",
      "memory usage: 3.3+ KB\n"
     ]
    }
   ],
   "source": [
    "#df = pd.read_excel('data/b03_cerveza.xlsx')\n",
    "df = pd.read_excel('https://github.com/adan-rs/AnalisisDatos/raw/main/s04_estadistica_descriptiva/data/b03_cerveza.xlsx')\n",
    "df.info()"
   ]
  },
  {
   "cell_type": "code",
   "execution_count": null,
   "id": "89c76377-eb8f-45de-8dea-c7bf8cfbc3ce",
   "metadata": {},
   "outputs": [],
   "source": [
    "#!pip install https://github.com/pandas-profiling/pandas-profiling/archive/master.zip"
   ]
  },
  {
   "cell_type": "code",
   "execution_count": null,
   "id": "50becc21-ecbd-41ac-876c-17d62502ed34",
   "metadata": {},
   "outputs": [],
   "source": [
    "from ydata_profiling import ProfileReport"
   ]
  },
  {
   "cell_type": "code",
   "execution_count": null,
   "id": "95a6135d-6516-409d-81ee-e2d656a85bb1",
   "metadata": {},
   "outputs": [],
   "source": [
    "profile = ProfileReport(df, title='Pandas Profiling Report')"
   ]
  },
  {
   "cell_type": "code",
   "execution_count": null,
   "id": "279b3f9b-bdf0-44ed-a9da-5e83a3cf2676",
   "metadata": {},
   "outputs": [],
   "source": [
    "profile.to_notebook_iframe()"
   ]
  },
  {
   "cell_type": "code",
   "execution_count": null,
   "id": "70f181ab-483d-4542-b021-b080f04aafbf",
   "metadata": {},
   "outputs": [],
   "source": []
  }
 ],
 "metadata": {
  "kernelspec": {
   "display_name": "Python 3 (ipykernel)",
   "language": "python",
   "name": "python3"
  },
  "language_info": {
   "codemirror_mode": {
    "name": "ipython",
    "version": 3
   },
   "file_extension": ".py",
   "mimetype": "text/x-python",
   "name": "python",
   "nbconvert_exporter": "python",
   "pygments_lexer": "ipython3",
   "version": "3.12.4"
  }
 },
 "nbformat": 4,
 "nbformat_minor": 5
}
