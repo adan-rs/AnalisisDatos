{
 "cells": [
  {
   "cell_type": "markdown",
   "id": "4b07e6b2-9acd-4856-84c2-c37e3805a1d0",
   "metadata": {
    "tags": []
   },
   "source": [
    "# Sesión 05 Prueba Chi cuadrada"
   ]
  },
  {
   "cell_type": "markdown",
   "id": "d085943a-6ec6-49d7-a162-e053c3be6a10",
   "metadata": {},
   "source": [
    "¿Cómo evaluar si dos variables cualitativas están relacionadas? Una forma inicial de explorar la relación entre dos variables cualitativas es mediante una tabla cruzada. \n",
    "Para ilustrar este tema utilizaremos el archivo \"b03_enigh2020\". Importa la librería de *pandas* y carga esta base de datos en un DataFrame con el nombre *df*"
   ]
  },
  {
   "cell_type": "code",
   "execution_count": null,
   "id": "6f5f1fe4-1b64-411e-9528-e2e7229fe9f4",
   "metadata": {},
   "outputs": [],
   "source": []
  },
  {
   "cell_type": "markdown",
   "id": "de5455af-e2d1-40c5-8031-dafa66ff5b20",
   "metadata": {
    "tags": []
   },
   "source": [
    "## 5.1. Tabla cruzada"
   ]
  },
  {
   "cell_type": "markdown",
   "id": "9e72feb5-7fa5-4a78-b599-46ddc246ee8b",
   "metadata": {},
   "source": [
    "Una forma básica de realizar una tabla cruzada es mediante el método crosstab de Pandas, especificando las variables en las filas y columnas respectivamente. Por ejemplo, para las variables \"A\" y \"B\", utilizaremos:  \n",
    "`pd.crosstab(df['A'], df['B'], margins=True)`  \n",
    "El argumento *margins* se puede agregar para mostrar la suma por fila o columna. Cada celda dentro de la tabla mostrará la frecuencia observada en esa intersección"
   ]
  },
  {
   "cell_type": "code",
   "execution_count": null,
   "id": "be06beed-db65-42dc-a4c3-ee616bed906f",
   "metadata": {
    "tags": []
   },
   "outputs": [],
   "source": [
    "# Crea una tabla cruzada para relacionar \"sexo_jefe\" con \"est_socio\"\n"
   ]
  },
  {
   "cell_type": "markdown",
   "id": "c8f99ea1-a96e-475e-9ab1-d7860d8cbae0",
   "metadata": {},
   "source": [
    "En muchas ocasiones se requiere representar esta tabla cruzada mediante proporciones. Para ello se puede utilizar el argumento *normalize* con los siguientes valores:\n",
    "\n",
    "    'all': para divididr cada cantidad entre el total.\n",
    "    'index': para dividir las celdas en cada fila entre el total de la fila.\n",
    "    'columns': para dividir las celdas en cada columna entre el total de la columna."
   ]
  },
  {
   "cell_type": "code",
   "execution_count": null,
   "id": "938219a4-f454-4b68-aabd-e907539065d4",
   "metadata": {
    "tags": []
   },
   "outputs": [],
   "source": [
    "# Modifica la tabla para mostrar las cantidades *normalizadas* entre el total\n"
   ]
  },
  {
   "cell_type": "markdown",
   "id": "5fac6421-3676-47af-ae73-49e70cbe5ae0",
   "metadata": {},
   "source": [
    "## 5.2. Prueba Chi cuadrado\n",
    "Para evaluar la dependencia o independencia entre dos variables cualitativas se puede utilizar la prueba Chi cuadrada. Las hipótesis son:\n",
    "- Hipótesis nula (H0): No existe dependencia entre ambas variables (son independientes).\n",
    "- Hipótesis alternativa (H1): Existe dependencia entre ambas variables.\n",
    "\n",
    "Para realizar la prueba Chi cuadrada necesitamos importar la biblioteca *scipy.stats*"
   ]
  },
  {
   "cell_type": "code",
   "execution_count": null,
   "id": "0ac76f08-ef68-4b4f-a8dc-9d1ac12397e0",
   "metadata": {},
   "outputs": [],
   "source": [
    "import numpy as np\n",
    "from scipy.stats import chi2_contingency"
   ]
  },
  {
   "cell_type": "markdown",
   "id": "2acd746d-8558-41a5-bbe6-194fd4b10ba5",
   "metadata": {},
   "source": [
    "Un ejemplo de la aplicación a una tabla de contingencia es:  \n",
    "`chi2, p, dof, expected = chi2_contingency(tabla)`  \n",
    "Esta instrucción arrojará  los siguientes resultados:\n",
    "- El estadístico de prueba\n",
    "- El p-valor\n",
    "- Los grados de libertad\n",
    "- La tabla de frecuencias esperadas\n",
    "\n",
    "\n",
    "Para imprimir estos resultados:  \n",
    "```\n",
    "print('Estadístico de prueba:', chi2) \n",
    "print('Valor p:', p)  \n",
    "print('Grados de libertad:', dof)  \n",
    "print('Tabla de frecuencias esperadas')   \n",
    "print(expected)\n",
    "```\n"
   ]
  },
  {
   "cell_type": "code",
   "execution_count": null,
   "id": "ba86954c-c5a4-4e3a-93a9-19e75e1e33f8",
   "metadata": {
    "tags": []
   },
   "outputs": [],
   "source": [
    "# Realiza una prueba chi cuadrada a la tabla obtenida\n"
   ]
  },
  {
   "cell_type": "code",
   "execution_count": null,
   "id": "91569c6f-5a09-473a-b57f-25b228c9717b",
   "metadata": {
    "tags": []
   },
   "outputs": [],
   "source": [
    "print('Estadístico de prueba', chi2) \n",
    "print('Valor p', p)  \n",
    "print('Grados de libertad', dof)  \n",
    "print('Tabla de frecuencias esperadas')   \n",
    "print(expected)"
   ]
  },
  {
   "cell_type": "code",
   "execution_count": null,
   "id": "6b65fefb-56ac-4dd1-9d49-bdd445eab26d",
   "metadata": {},
   "outputs": [],
   "source": [
    "alfa = 0.05\n",
    "if p <=alfa:\n",
    "    print('Las variables son dependientes (Se rechaza la hipótesis nula)')\n",
    "else:\n",
    "    print('Las variables son independientes (No se rechaza la hipótesis nula)')"
   ]
  },
  {
   "cell_type": "markdown",
   "id": "046ce482-d949-471f-a6c5-518edae118e8",
   "metadata": {},
   "source": [
    "Para visualizar la relación entre ambas variables se puede utilizar un \"mapa de calor\". Es recomendable utilizar la librería *seaborn* como en el siguiente ejemplo:  \n",
    "`ax = sns.heatmap(tabla, annot=True, cmap='YlGnBu', fmt='d')`  \n",
    "*annot=True* sirve para indicar la cantidad en cada celda, *fmt=d* se utiliza para que se despliegue como números enteros, y *cmap* se utiliza para seleccionar una paleta de colores (ver https://matplotlib.org/stable/gallery/color/colormap_reference.html)"
   ]
  },
  {
   "cell_type": "code",
   "execution_count": null,
   "id": "d88f0424-33da-447f-b98a-d2c1883ed61e",
   "metadata": {},
   "outputs": [],
   "source": [
    "import seaborn as sns\n",
    "\n",
    "ax = sns.heatmap(tabla_normalizada, annot=True, cmap='Greens')"
   ]
  },
  {
   "cell_type": "code",
   "execution_count": null,
   "id": "51d4828c-a850-49d3-a450-53db9ab28d24",
   "metadata": {},
   "outputs": [],
   "source": []
  }
 ],
 "metadata": {
  "kernelspec": {
   "display_name": "Python 3 (ipykernel)",
   "language": "python",
   "name": "python3"
  },
  "language_info": {
   "codemirror_mode": {
    "name": "ipython",
    "version": 3
   },
   "file_extension": ".py",
   "mimetype": "text/x-python",
   "name": "python",
   "nbconvert_exporter": "python",
   "pygments_lexer": "ipython3",
   "version": "3.11.7"
  }
 },
 "nbformat": 4,
 "nbformat_minor": 5
}
