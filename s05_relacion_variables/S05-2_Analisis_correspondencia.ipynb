{
 "cells": [
  {
   "cell_type": "markdown",
   "id": "564d35fd-6f46-44f6-8df9-46d2c4e0219a",
   "metadata": {
    "tags": []
   },
   "source": [
    "# Sesión 05: Análisis de correspondencia múltiple"
   ]
  },
  {
   "cell_type": "markdown",
   "id": "c5f5651f-44ca-4146-8a2a-47c6d82dd7a4",
   "metadata": {},
   "source": [
    "El análisis de correspondencia múltiple permite observar la relación entre las categorías de diferentes variables cualitativas. Para realizar el análisis de correspondencia se recomienda instalar la biblioteca *Prince* (solo es necesario hacerlo la primera vez) \n",
    "`pip install prince`  \n",
    "La documentación se puede consultar en: documentación https://libraries.io/pypi/prince"
   ]
  },
  {
   "cell_type": "code",
   "execution_count": null,
   "id": "b858bcfc-8b82-4383-9859-06aa2a3dac61",
   "metadata": {},
   "outputs": [],
   "source": [
    "# Instalar la biblioteca Prince"
   ]
  },
  {
   "cell_type": "code",
   "execution_count": null,
   "id": "fc4536e3-9e07-4b7e-a1e6-7fca34bf75c7",
   "metadata": {
    "tags": []
   },
   "outputs": [],
   "source": [
    "import prince"
   ]
  },
  {
   "cell_type": "markdown",
   "id": "7dea90bf-8576-47d3-8152-e5e76e4e574b",
   "metadata": {},
   "source": [
    "Seleccionamos un conjunto de variables cualitativas"
   ]
  },
  {
   "cell_type": "code",
   "execution_count": null,
   "id": "69f0771d-aba2-4b6c-8663-4ffff784858d",
   "metadata": {
    "tags": []
   },
   "outputs": [],
   "source": [
    "var_cat = ['est_socio', 'sexo_jefe', 'ubica_geo']"
   ]
  },
  {
   "cell_type": "code",
   "execution_count": null,
   "id": "91457397-eb67-4b97-b5a5-0349db22c5da",
   "metadata": {
    "tags": []
   },
   "outputs": [],
   "source": [
    "# Creación de instancia del modelo\n",
    "mca = prince.MCA(n_components = 2)\n",
    "# Ajuste del modelo a los datos\n",
    "mca = mca.fit(df[var_cat])\n",
    "# Crea gráfico\n",
    "ax = mca.plot(df[var_cat], show_column_labels=True, show_row_markers=True)\n",
    "ax"
   ]
  },
  {
   "cell_type": "markdown",
   "id": "5210cf9b-2180-416c-ab3a-14986da27a66",
   "metadata": {},
   "source": [
    "Cada punto corresponde a una observación o una categoría. La interpretación de las dimensiones depende del contexto. En general, la distancia entre los puntos de cada categoría indican la relación entre ellas. Entre más corta sea la distancia, mayor será la asociación de las categorías. Observaciones y categorías en el mismo cuadrante tienden a tener relaciones más fuertes, mientras que observaciones y categorías en cuatrantes opuestos pueden representar relaciones negativas. Una categoría cerca del centro generalmente indica que esa categoría no está fuertemente asociada con ninguna de las dimensiones, por ejemplo, por ser independiente, tener baja variabilidad o baja frecuencia.\n"
   ]
  },
  {
   "cell_type": "code",
   "execution_count": null,
   "id": "67bc6612-8a43-4aa6-a4ba-9a952fa7a5be",
   "metadata": {},
   "outputs": [],
   "source": []
  }
 ],
 "metadata": {
  "kernelspec": {
   "display_name": "Python 3 (ipykernel)",
   "language": "python",
   "name": "python3"
  },
  "language_info": {
   "codemirror_mode": {
    "name": "ipython",
    "version": 3
   },
   "file_extension": ".py",
   "mimetype": "text/x-python",
   "name": "python",
   "nbconvert_exporter": "python",
   "pygments_lexer": "ipython3",
   "version": "3.11.7"
  }
 },
 "nbformat": 4,
 "nbformat_minor": 5
}
