{
 "cells": [
  {
   "cell_type": "markdown",
   "id": "06c209d9-c8ed-45cb-814e-9cc7e47b9e18",
   "metadata": {
    "tags": []
   },
   "source": [
    "# Sesión 05: Análisis de correlación"
   ]
  },
  {
   "cell_type": "markdown",
   "id": "6231c041-3b72-47b0-b5dc-d658d7ef8fd7",
   "metadata": {},
   "source": [
    "Un medida útil para evaluar el grado de relación lineal entre dos variables cuantitativas es el coeficiente de correlación de Pearson. Este coeficiente puede tomar valores entre -1 y 1, donde valores positivos indican una relación directa, valores negativos indican una relación inversa, y cuanto más cercano sea a 0 más débil es esta relación. \n",
    "\n",
    "Para calcular un coeficiente de correlación de Pearson entre dos columnas se puede utilizar el método *corr()* de Pandas. Por ejemplo:\n",
    "`correlacion = df['X'].corr(df['Y'])`  \n",
    "\n",
    "Para calcular el coeficiente de correlación de Spearman se puede agregar como argumento:  \n",
    "`correlacion = df['X'].corr(df['Y'], method='spearman')`  "
   ]
  },
  {
   "cell_type": "code",
   "execution_count": null,
   "id": "d4642577-abf5-40e9-a59b-574eb5fa92a3",
   "metadata": {},
   "outputs": [],
   "source": [
    "import pandas as pd\n",
    "import matplotlib.pyplot as plt\n",
    "import seaborn as sns"
   ]
  },
  {
   "cell_type": "code",
   "execution_count": null,
   "id": "c1f55966-afe7-4101-8102-09b1f12a4f5c",
   "metadata": {},
   "outputs": [],
   "source": [
    "df = pd.read_excel('https://github.com/adan-rs/AnalisisDatos/raw/main/s04_estadistica_descriptiva/data/b02_enigh2020.xlsx')"
   ]
  },
  {
   "cell_type": "code",
   "execution_count": null,
   "id": "e53c15a0-3a12-4fec-9b8f-63b857b55d81",
   "metadata": {},
   "outputs": [],
   "source": [
    "# Calcula la correlación entre \"ing_cor\" y \"gasto_mon\"\n",
    "correlacion = df['ing_cor'].corr(df['gasto_mon'])\n",
    "correlacion"
   ]
  },
  {
   "cell_type": "markdown",
   "id": "b53de945-c21a-44ac-a650-b97cdac2dfb0",
   "metadata": {},
   "source": [
    "Si se tiene un DataFrame *df* de variables cuantitativas se puede obtener la matriz de correlaciones utilizando `df.corr()`"
   ]
  },
  {
   "cell_type": "code",
   "execution_count": null,
   "id": "1b1d4514-0f18-434c-932d-10c0678455da",
   "metadata": {},
   "outputs": [],
   "source": [
    "var_cont = [\"ing_cor\", \"gasto_mon\", \"edad_jefe\", \"tot_integ\"]\n",
    "matriz_corr = df[var_cont].corr()\n",
    "matriz_corr"
   ]
  },
  {
   "cell_type": "code",
   "execution_count": null,
   "id": "00afee61-6ee6-4b10-be10-61f842f206f0",
   "metadata": {},
   "outputs": [],
   "source": [
    "ax = sns.heatmap(matriz_corr, annot=True, cmap='Greens')\n",
    "ax.set_title('Mapa de calor de las correlaciones');"
   ]
  },
  {
   "cell_type": "markdown",
   "id": "763f79ea-6822-4924-8e3b-d9c866f58603",
   "metadata": {},
   "source": [
    "## Prueba de hipótesis para la correlación"
   ]
  },
  {
   "cell_type": "markdown",
   "id": "315dd7f9-513b-48e5-9660-e062fe225eeb",
   "metadata": {},
   "source": [
    "*¿Para qué se utiliza?* Se utiliza para evaluar si existe una relación o no entre dos variables cuantitativas. Esta prueba evalúa si el coeficiente de correlación de Pearson (r) entre las dos variables es significativamente diferente de cero.\n",
    "\n",
    "*Variables*. Se consideran dos variables cuantitativas con escala de medición de razón o de intervalo.\n",
    "\n",
    "*Hipótesis*. Las hipótesis son:\n",
    "- Hipótesis nula (H0):  No existe una correlación entre las dos variables (r = 0).\n",
    "- Hipótesis alternativa (H1): Existe una correlación entre las dos variables (r ≠ 0).\n",
    "\n",
    "*Supuestos principales* \n",
    "- La relación entre ambas variables debe ser lineal.\n",
    "- La distribución de los datos debe ser normal.\n",
    "\n",
    "*Procedimiento*. Se recomienda utilizar la biblioteca *scipy.stats* debido a que permite obtener el valor p. Para ello se puede usar:  \n",
    "`corr_coef, p_valor = pearsonr(df['X'], df['Y'])`"
   ]
  },
  {
   "cell_type": "code",
   "execution_count": null,
   "id": "2fb495f3-4573-4746-9fd6-66812e8fec9d",
   "metadata": {},
   "outputs": [],
   "source": [
    "from scipy.stats import pearsonr"
   ]
  },
  {
   "cell_type": "code",
   "execution_count": null,
   "id": "dca72f62-9b32-4494-96eb-76dbedb76239",
   "metadata": {},
   "outputs": [],
   "source": [
    "corr_coef, p_valor = pearsonr(df['ing_cor'], df['gasto_mon'])"
   ]
  },
  {
   "cell_type": "code",
   "execution_count": null,
   "id": "6f95d0a7-925c-44d3-b09c-a9fcaf9eff13",
   "metadata": {},
   "outputs": [],
   "source": [
    "print('Coeficiente de correlación: ', corr_coef) \n",
    "print('Valor p', p_valor)"
   ]
  },
  {
   "cell_type": "markdown",
   "id": "8f700d2b-6010-4df0-b0dd-c786fbbe8115",
   "metadata": {},
   "source": [
    "Ejemplo de reporte de metodología y resultados:\n",
    "> “Se realizó una prueba de correlación de Pearson para evaluar la relación entre el ingreso corriente y el gasto monetario. Se encontró una correlación positiva significativa entre ambas variables (r = 0.6184. p < 0.001)”"
   ]
  },
  {
   "cell_type": "markdown",
   "id": "9a1983c3-161f-4dad-a693-cf02b338f129",
   "metadata": {},
   "source": [
    "## Comentarios adicionales\n",
    "El coeficiente de correlación de Spearman es una alternativa apropiada cuando las variables son ordinales, existen relaciones monótonas no lineales, o la distribución no es normal.  \n",
    "`from scipy.stats import spearmanr`  \n",
    "`corr_coef, p_value = spearmanr(x, y)`\n",
    "\n",
    "El caso del \"datasaurio\" ilustra bien la importancia de graficar las variables\n",
    "https://www.scientificamerican.com/article/what-this-graph-of-a-dinosaur-can-teach-us-about-doing-better-science/ "
   ]
  },
  {
   "cell_type": "markdown",
   "id": "9c289e15-2290-4b0b-8850-6d7e5010ca44",
   "metadata": {},
   "source": [
    "## Práctica"
   ]
  },
  {
   "cell_type": "markdown",
   "id": "f9c94d3c-63f5-467e-903f-99c49641149b",
   "metadata": {},
   "source": [
    "Utilizando el mismo dataframe del ejemplo, realiza una prueba de hipótesis para la correlación para evaluar si existe una relación significativa entre el ingreso y alguna de las variables de gasto."
   ]
  },
  {
   "cell_type": "code",
   "execution_count": null,
   "id": "a3543e37-e17b-47f8-b841-e13958bedb30",
   "metadata": {},
   "outputs": [],
   "source": []
  }
 ],
 "metadata": {
  "kernelspec": {
   "display_name": "Python 3 (ipykernel)",
   "language": "python",
   "name": "python3"
  },
  "language_info": {
   "codemirror_mode": {
    "name": "ipython",
    "version": 3
   },
   "file_extension": ".py",
   "mimetype": "text/x-python",
   "name": "python",
   "nbconvert_exporter": "python",
   "pygments_lexer": "ipython3",
   "version": "3.12.4"
  }
 },
 "nbformat": 4,
 "nbformat_minor": 5
}
