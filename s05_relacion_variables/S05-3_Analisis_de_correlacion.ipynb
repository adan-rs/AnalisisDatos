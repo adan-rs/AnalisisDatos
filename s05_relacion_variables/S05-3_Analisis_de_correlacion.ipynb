{
 "cells": [
  {
   "cell_type": "markdown",
   "id": "06c209d9-c8ed-45cb-814e-9cc7e47b9e18",
   "metadata": {
    "tags": []
   },
   "source": [
    "# Sesión 05: Análisis de correlación"
   ]
  },
  {
   "cell_type": "markdown",
   "id": "6231c041-3b72-47b0-b5dc-d658d7ef8fd7",
   "metadata": {},
   "source": [
    "Para calcular un coeficiente de correlación de Pearson entre dos columnas se puede utilizar el método *corr()* de Pandas. Por ejemplo:\n",
    "`correlacion = df['X'].corr(df['Y'])`  \n",
    "Para calcular el coeficiente de correlación de Spearman (*¿cuándo se recomienda utilizarlo?*) se puede agregar como argumento:  \n",
    "`correlacion = df['X'].corr(df['Y'], method='spearman')`  "
   ]
  },
  {
   "cell_type": "code",
   "execution_count": null,
   "id": "e53c15a0-3a12-4fec-9b8f-63b857b55d81",
   "metadata": {},
   "outputs": [],
   "source": [
    "# Calcula la correlación entre \"ing_cor\" y \"gasto_mon\"\n"
   ]
  },
  {
   "cell_type": "markdown",
   "id": "315dd7f9-513b-48e5-9660-e062fe225eeb",
   "metadata": {},
   "source": [
    "Otra opción para calcular el coeficiente de correlación es mediante la biblioteca *scipy.stats* con la ventaja de que se puede obtener el valor p. Para ello se puede usar:  \n",
    "`corr_coef, p_valor = pearsonr(df['X'], df['Y'])`"
   ]
  },
  {
   "cell_type": "code",
   "execution_count": null,
   "id": "2fb495f3-4573-4746-9fd6-66812e8fec9d",
   "metadata": {},
   "outputs": [],
   "source": [
    "from scipy.stats import pearsonr"
   ]
  },
  {
   "cell_type": "code",
   "execution_count": null,
   "id": "dca72f62-9b32-4494-96eb-76dbedb76239",
   "metadata": {},
   "outputs": [],
   "source": []
  },
  {
   "cell_type": "code",
   "execution_count": null,
   "id": "7f790248-bb87-4efe-9798-ca1f00a4d687",
   "metadata": {},
   "outputs": [],
   "source": [
    "var_cont = [\"ing_cor\", \"gasto_mon\", \"edad_jefe\", \"tot_integ\", \"educa_jefe\"]"
   ]
  },
  {
   "cell_type": "markdown",
   "id": "45bd8d8f-f089-4ab2-9563-d59d6f5a63d2",
   "metadata": {},
   "source": [
    "Para obtener una matriz de correlaciones a partir de una lista de columnas:\n",
    "`matriz_corr = df[columnas].corr()`"
   ]
  },
  {
   "cell_type": "code",
   "execution_count": null,
   "id": "6537ed8d-6e91-44e8-88d3-762487ad2572",
   "metadata": {},
   "outputs": [],
   "source": [
    "# Obtén la matriz de correlaciones\n"
   ]
  },
  {
   "cell_type": "code",
   "execution_count": null,
   "id": "b3ef1cd0-cefc-4816-b9f9-93910549d78a",
   "metadata": {},
   "outputs": [],
   "source": [
    "ax = sns.heatmap(matriz_corr, annot=True, cmap='Greens')\n",
    "ax.set_title('Mapa de calor de las correlaciones');"
   ]
  }
 ],
 "metadata": {
  "kernelspec": {
   "display_name": "Python 3 (ipykernel)",
   "language": "python",
   "name": "python3"
  },
  "language_info": {
   "codemirror_mode": {
    "name": "ipython",
    "version": 3
   },
   "file_extension": ".py",
   "mimetype": "text/x-python",
   "name": "python",
   "nbconvert_exporter": "python",
   "pygments_lexer": "ipython3",
   "version": "3.11.7"
  }
 },
 "nbformat": 4,
 "nbformat_minor": 5
}
