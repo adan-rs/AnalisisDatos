{
 "cells": [
  {
   "cell_type": "markdown",
   "id": "36b2b964-9ddc-4ad5-b267-a9bc13cc8b47",
   "metadata": {},
   "source": [
    "# Sesión 05: Escalamiento multidimensional"
   ]
  },
  {
   "cell_type": "code",
   "execution_count": null,
   "id": "a12fe64d-4907-4a83-9b04-af251c7028dd",
   "metadata": {},
   "outputs": [],
   "source": [
    "from sklearn.manifold import MDS"
   ]
  },
  {
   "cell_type": "code",
   "execution_count": null,
   "id": "c0a4917d-91c1-47e9-9864-4fc2ccf45430",
   "metadata": {
    "tags": []
   },
   "outputs": [],
   "source": [
    "# Calcular distancias\n",
    "distancias = 1-np.abs(matriz_corr)\n",
    "# Aplicar modelo\n",
    "mds = MDS(n_components=2, dissimilarity='precomputed', normalized_stress='auto')\n",
    "mds_resultados = mds.fit_transform(distancias)\n",
    "# Convertir resultados a dataframe\n",
    "mds_df = pd.DataFrame(mds_resultados, columns=['Dimension 1', 'Dimension 2'])\n",
    "mds_df['Etiqueta']=var_cont\n",
    "#Visualización\n",
    "sns.scatterplot(data=mds_df, hue='Etiqueta', x='Dimension 1', y='Dimension 2')\n",
    "# Agregar etiquetas a cada punto\n",
    "for i in range(len(mds_df)):\n",
    "    plt.text(mds_df['Dimension 1'][i], mds_df['Dimension 2'][i], mds_df['Etiqueta'][i])\n",
    "plt.show()"
   ]
  },
  {
   "cell_type": "code",
   "execution_count": null,
   "id": "4c12d732-7649-4b7a-9a91-3aa5fd34652f",
   "metadata": {},
   "outputs": [],
   "source": []
  }
 ],
 "metadata": {
  "kernelspec": {
   "display_name": "Python 3 (ipykernel)",
   "language": "python",
   "name": "python3"
  },
  "language_info": {
   "codemirror_mode": {
    "name": "ipython",
    "version": 3
   },
   "file_extension": ".py",
   "mimetype": "text/x-python",
   "name": "python",
   "nbconvert_exporter": "python",
   "pygments_lexer": "ipython3",
   "version": "3.11.7"
  }
 },
 "nbformat": 4,
 "nbformat_minor": 5
}
