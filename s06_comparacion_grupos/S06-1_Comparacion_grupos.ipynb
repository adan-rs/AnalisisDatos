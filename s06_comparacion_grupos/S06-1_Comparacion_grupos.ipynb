{
 "cells": [
  {
   "cell_type": "markdown",
   "id": "ecc7a6a8-7b95-42a3-ae4d-1acce323a449",
   "metadata": {},
   "source": [
    "# Sesión 06: Comparación de grupos\n",
    "*\"La mitad de mi gasto en publicidad no sirve para nada. El problema es que no sé qué mitad\" atribuida a John Wanamaker(1838-1922)*"
   ]
  },
  {
   "cell_type": "markdown",
   "id": "7218eb4b-0951-493a-bb40-4349e0324eca",
   "metadata": {},
   "source": [
    "## 6.1  Pruebas A/B\n",
    "En el área de negocios, especialmente en innovación digital, es común realizar pruebas A/B para evaluar las respuestas de los usuarios a diferentes alternativas en el diseño de un sitio o una interfaz.  \n",
    "Entre sus características básicas está que los usuarios son asignados al azar a un grupo de control (A) o a un grupo experimental (B). A cada grupo se les muestra una alternativa diferente y se recopilan diversas métricas. Finalmente, analizando los resultados, se concluye qué alternativa tuvo mejor desempeño.  \n",
    "En la siguiente liga se muestran varios ejemplos de aplicaciones prácticas:\n",
    "https://goodui.org/leaks/. Este tipo de experimentos ejemplifica la aplicación de técnicas que veremos en esta sesión relacionadas con la comparación de dos o más grupos"
   ]
  },
  {
   "cell_type": "markdown",
   "id": "dba72061-0ed4-4534-b474-58c44d862d37",
   "metadata": {
    "tags": []
   },
   "source": [
    "El archivo \"cookie_cats.csv\" contiene información de 90,189 jugadores. Cuando un jugador instala el juego empieza en el nivel 30, sin embargo, en la empresa que diseñó el juego han propuesto que el jugador empiece en el nivel 40. Para evaluar ambas opciones se diseñó una prueba A/B en la cual los jugadores fueron asignados aleatoriamente para comenzar en el nivel 30 (control) o en el nivel 40 (tratamiento).\n",
    "\n",
    "Las variables en el dataset son:\n",
    "\n",
    "- userid: identificador del jugador.\n",
    "- version: gate30, empieza en el nivel 30; gate40: empieza en el nivel 40.\n",
    "- sum_gamerounds: número de rondas jugadas durante los primeros 14 días.\n",
    "- retention_1: el jugador jugó un día después de instalar el juego.\n",
    "- retention_7_ el jugador jugó después de 7 días de haber instalado el juego."
   ]
  },
  {
   "cell_type": "code",
   "execution_count": null,
   "id": "40944a26-4c98-4148-a9bb-bf006c9aada8",
   "metadata": {},
   "outputs": [],
   "source": [
    "import pandas as pd"
   ]
  },
  {
   "cell_type": "code",
   "execution_count": null,
   "id": "a430a526-6ad4-4906-a0db-3407749fa511",
   "metadata": {},
   "outputs": [],
   "source": [
    "df = pd.read_csv('data/b07_cookie_cats.csv')\n",
    "df.info()"
   ]
  },
  {
   "cell_type": "code",
   "execution_count": null,
   "id": "1787f5c2-3293-4a4f-ac3c-38b91fe5121e",
   "metadata": {},
   "outputs": [],
   "source": [
    "df.describe()"
   ]
  },
  {
   "cell_type": "code",
   "execution_count": null,
   "id": "2b9dd894-7af2-4d6e-afc7-05386c5710fa",
   "metadata": {},
   "outputs": [],
   "source": [
    "# Eliminación de datos atípicos\n",
    "df = df[df['sum_gamerounds']<1000]"
   ]
  },
  {
   "cell_type": "markdown",
   "id": "589e1f01-4e56-43df-a377-6a8ebfb6fc7f",
   "metadata": {},
   "source": [
    "## 6.2 Prueba z para dos proporciones\n",
    "Realizaremos una prueba z para comparar dos proporciones. Las pruebas de hipótesis pueden ser bilaterales (de dos colas) o unilaterales (de una cola). Utilizaremos una prueba bilateral, por lo tanto, las hipótesis se plantean como:\n",
    "- H<sub>0</sub>: p=p<sub>0</sub> (Hipótesis nula)\n",
    "- H<sub>1</sub>: p ≠ p<sub>0</sub> (Hipótesis alternativa)\n",
    "\n",
    "Para calcular las proporciones conviene obtener una tabla con el conteo de cada caso. Realicemos una tabla de contigencia o tabla cruzada. "
   ]
  },
  {
   "cell_type": "code",
   "execution_count": null,
   "id": "0043677f-f694-4fdf-93dc-06e4b4f51d73",
   "metadata": {},
   "outputs": [],
   "source": [
    "# Crear una tabla de contingencia\n",
    "tabla_contingencia = pd.crosstab(df['version'], df['retention_1'])\n",
    "tabla_contingencia"
   ]
  },
  {
   "cell_type": "markdown",
   "id": "8408ec0f-103b-4771-aaaf-23b08877a8c2",
   "metadata": {},
   "source": [
    "Utilizaremos estos conteos como datos para realizar la prueba z"
   ]
  },
  {
   "cell_type": "code",
   "execution_count": null,
   "id": "9c8955be-eab4-488a-a8b7-fcf91f39fdd2",
   "metadata": {},
   "outputs": [],
   "source": [
    "from statsmodels.stats.proportion import proportions_ztest\n",
    "# Prueba z\n",
    "valor_z, p_value  = proportions_ztest(tabla_contingencia[True], \n",
    "                                      tabla_contingencia.sum(axis=1))\n",
    "\n",
    "# Imprimir el resultado\n",
    "print(\"Valor z:\", valor_z)\n",
    "print(\"Valor p:\", p_value)"
   ]
  },
  {
   "cell_type": "markdown",
   "id": "66329752-153a-4cf4-9481-7d548412ce31",
   "metadata": {},
   "source": [
    "En las pruebas estadísticas aplicaremos el criterio del p-valor, esto es, rechazar la hipótesis nula si el p-valor es menor al nivel de significancia (típicamente se utiliza 0.05)"
   ]
  },
  {
   "cell_type": "code",
   "execution_count": null,
   "id": "f177818d-9c89-47f4-85a6-bdbb8a65177a",
   "metadata": {},
   "outputs": [],
   "source": [
    "# Interpretar los resultados\n",
    "alpha = 0.05\n",
    "if p_value < alpha:\n",
    "    print(\"Se rechaza la hipótesis nula: hay evidencia de que hay diferencias significativas en las proporciones.\")\n",
    "else:\n",
    "    print(\"No se rechaza la hipótesis nula: no hay suficiente evidencia para afirmar que hay diferencias significativas en las proporciones.\")"
   ]
  },
  {
   "cell_type": "markdown",
   "id": "7b57e2df-31ff-4c38-89b0-d35b467cb1eb",
   "metadata": {
    "tags": []
   },
   "source": [
    "## 6.3 Prueba t para dos muestras independientes"
   ]
  },
  {
   "cell_type": "markdown",
   "id": "c63521f7-0201-49e8-a329-ea7b107387a9",
   "metadata": {},
   "source": [
    "Los promedios también son una métrica comúnmente utilizada en las pruebas A/B. Comparemos las rondas de juego en promedio por cada grupo en el experimento."
   ]
  },
  {
   "cell_type": "code",
   "execution_count": null,
   "id": "d14cef26-d2ab-4def-aa1c-8fbadcf080a6",
   "metadata": {},
   "outputs": [],
   "source": [
    "df.groupby('version').agg({'sum_gamerounds':'mean'})"
   ]
  },
  {
   "cell_type": "code",
   "execution_count": null,
   "id": "081838ad-2fe8-4872-95c9-3b21731b80f6",
   "metadata": {},
   "outputs": [],
   "source": [
    "from scipy.stats import ttest_ind\n",
    "\n",
    "# Realizar la prueba t de dos muestras independientes\n",
    "t_statistic, p_value = ttest_ind(df.loc[df['version'] == 'gate_30', 'sum_gamerounds'], \n",
    "                                 df.loc[df['version'] == 'gate_40', 'sum_gamerounds'])\n",
    "\n",
    "# Imprimir los resultados\n",
    "print(\"Estadístico t:\", t_statistic)\n",
    "print(\"Valor p:\", p_value)"
   ]
  },
  {
   "cell_type": "code",
   "execution_count": null,
   "id": "2143d20b-a515-4d2c-945a-1903d55759d9",
   "metadata": {},
   "outputs": [],
   "source": [
    "# Interpretar los resultados\n",
    "alpha = 0.05\n",
    "if p_value < alpha:\n",
    "    print(\"Se rechaza la hipótesis nula: hay evidencia de diferencias significativas en las medias.\")\n",
    "else:\n",
    "    print(\"No se puede rechazar la hipótesis nula: no hay suficiente evidencia para afirmar diferencias significativas en las medias.\")"
   ]
  },
  {
   "cell_type": "markdown",
   "id": "05211313-4205-462d-ac6e-7a7ffba44432",
   "metadata": {
    "tags": []
   },
   "source": [
    "## 6.4 Prueba Shapiro Wilk\n",
    "\n",
    "Si la muestra es pequeña (p<30) se requiere evaluar la normalidad en la distribución de los datos. Existen varias pruebas para evaluar la normalidad de los datos. La prueba Shapiro-Wilk es una de las más utilizadas.  \n",
    "- Hipótesis nula (H0): Los datos provienen de una distribución normal  \n",
    "- Hipótesis alternativa (H1): Los datos no provienen de una distribución normal.  \n",
    "Solo como ejercicio, aplicaremos la prueba Shapiro-Wilk"
   ]
  },
  {
   "cell_type": "code",
   "execution_count": null,
   "id": "33c1c527-dc3c-4bcb-92d2-3d37cb776a61",
   "metadata": {},
   "outputs": [],
   "source": [
    "from scipy.stats import shapiro\n",
    "\n",
    "df2 = df.head(100)\n",
    "\n",
    "stat, p_value = shapiro(df2.loc[df2['version'] == 'gate_30', 'sum_gamerounds'])\n",
    "print(\"Estadístico de prueba:\", stat)\n",
    "print(\"Valor p:\", p_value)"
   ]
  },
  {
   "cell_type": "code",
   "execution_count": null,
   "id": "d2c0b0b5-babd-44ee-9c26-719f90797217",
   "metadata": {},
   "outputs": [],
   "source": [
    "# Interpretar los resultados\n",
    "alpha = 0.05\n",
    "if p_value < alpha:\n",
    "    print(\"Se rechaza la hipótesis nula de normalidad en los datos\")\n",
    "else:\n",
    "    print(\"No se puede rechazar la hipótesis nula de normalidad en los datos\")"
   ]
  },
  {
   "cell_type": "markdown",
   "id": "ac0113e6-3ba5-4384-bdbb-6fd60c48abc8",
   "metadata": {},
   "source": [
    "## 6.5 Prueba de Levene\n",
    "Es recomendable también comparar la varianza entre ambos grupos. Para ello se realiza la prueba de Levene (prueba de homogeneidad de varianzas)."
   ]
  },
  {
   "cell_type": "code",
   "execution_count": null,
   "id": "19aaee82-e87e-483f-861a-af3539c12cea",
   "metadata": {},
   "outputs": [],
   "source": [
    "from scipy.stats import levene\n",
    "stat, p_value = levene(df.loc[df['version'] == 'gate_30', 'sum_gamerounds'],\n",
    "                       df.loc[df['version'] == 'gate_40', 'sum_gamerounds'])\n",
    "print(\"Estadístico de prueba:\", stat)\n",
    "print(\"Valor p:\", p_value)"
   ]
  },
  {
   "cell_type": "code",
   "execution_count": null,
   "id": "dd421c37-97ee-4b6a-b2df-df15f5777682",
   "metadata": {},
   "outputs": [],
   "source": [
    "# Interpretar los resultados\n",
    "alpha = 0.05\n",
    "if p_value < alpha:\n",
    "    print(\"Se rechaza la hipótesis nula: hay evidencia de diferencias significativas en las varianzas.\")\n",
    "else:\n",
    "    print(\"No se puede rechazar la hipótesis nula: no se rechaza el supuesto de igualdad de varianzas.\")"
   ]
  },
  {
   "cell_type": "markdown",
   "id": "5c22afbb-4c84-48a1-b9bc-dc6a92528be6",
   "metadata": {},
   "source": [
    "## 6.6. Prueba Mann-Whitney\n",
    "Una alternativa no paramétrica a la prueba t es la prueba de Mann-Whitney. Esto es recomendable cuando no se cumple el supuesto de normalidad de los datos."
   ]
  },
  {
   "cell_type": "code",
   "execution_count": null,
   "id": "bc0df176-a2fb-4340-a664-a1d1cf3d2c21",
   "metadata": {},
   "outputs": [],
   "source": [
    "from scipy.stats import mannwhitneyu\n",
    "\n",
    "# Realizar la prueba de Mann-Whitney U\n",
    "statistic, p_value = mannwhitneyu(df.loc[df['version'] == 'gate_30', 'sum_gamerounds'],\n",
    "                                  df.loc[df['version'] == 'gate_40', 'sum_gamerounds'])\n",
    "\n",
    "# Imprimir los resultados\n",
    "print(\"Estadístico de prueba U:\", statistic)\n",
    "print(\"Valor p:\", p_value)"
   ]
  },
  {
   "cell_type": "code",
   "execution_count": null,
   "id": "82525156-632f-4c97-b93f-1e0fdcd4043c",
   "metadata": {},
   "outputs": [],
   "source": [
    "# Interpretar los resultados\n",
    "alpha = 0.05\n",
    "if p_value < alpha:\n",
    "    print(\"Se rechaza la hipótesis nula: hay evidencia de diferencias significativas en la distribución.\")\n",
    "else:\n",
    "    print(\"No se puede rechazar la hipótesis nula: no hay suficiente evidencia para afirmar diferencias significativas en la distribución\")"
   ]
  },
  {
   "cell_type": "markdown",
   "id": "ff6da0a3-74a6-4822-8e4d-e0fd54676a22",
   "metadata": {},
   "source": [
    "## Lectura\n",
    "https://roirevolution.com/blog/why-ab-testing-could-save-your-marketing-strategy/"
   ]
  },
  {
   "cell_type": "code",
   "execution_count": null,
   "id": "3bf13e16-5be0-4285-80b2-34b24659ab88",
   "metadata": {},
   "outputs": [],
   "source": []
  }
 ],
 "metadata": {
  "kernelspec": {
   "display_name": "Python 3 (ipykernel)",
   "language": "python",
   "name": "python3"
  },
  "language_info": {
   "codemirror_mode": {
    "name": "ipython",
    "version": 3
   },
   "file_extension": ".py",
   "mimetype": "text/x-python",
   "name": "python",
   "nbconvert_exporter": "python",
   "pygments_lexer": "ipython3",
   "version": "3.11.7"
  }
 },
 "nbformat": 4,
 "nbformat_minor": 5
}
