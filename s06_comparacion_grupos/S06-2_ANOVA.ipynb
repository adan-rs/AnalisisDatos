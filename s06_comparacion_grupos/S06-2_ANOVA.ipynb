{
 "cells": [
  {
   "cell_type": "markdown",
   "id": "dfc48533-af4c-4575-bbfe-9f5d09bb23b7",
   "metadata": {
    "tags": []
   },
   "source": [
    "# Sesión 06: ANOVA y Prueba Kruskal-Wallis"
   ]
  },
  {
   "cell_type": "markdown",
   "id": "dbaae70b-8d65-4411-aaa2-999c0511fbe9",
   "metadata": {},
   "source": [
    "Una cadena de comida rápida planea agregar un nuevo producto a su menú, pero están indecisos entre tres posibles campañas de mercadotecnica. Como un experimento, el producto fue introducido en varias ubicaciones seleccionadas aleatoriamente utilizando diferentes campañas. Se registraron las ventas del nuevo producto por las primeras cuatro semanas. El archivo \"b09_marketing.csv\" contiene las siguientes variables:  \n",
    "- MarketID: identificador del mercado\n",
    "- MarketSize: tamaño del mercado de acuerdo a las ventas\n",
    "- LocationID: identificador de la ubicación de la tienda\n",
    "- AgeOfStore: antigüedad de la tienda en años\n",
    "- Promotion: promoción (1 de 3) que fue probada\n",
    "- week: semana en que se llevó a cabo la promoción.\n",
    "- SalesInThousands: ventas para una ubicación específica (LocationID), promoción (Promotion) y semana (week)."
   ]
  },
  {
   "cell_type": "code",
   "execution_count": null,
   "id": "2ae78e95-38a7-40ca-b839-bf36fd737d3a",
   "metadata": {},
   "outputs": [],
   "source": [
    "df = pd.read_csv('data/b09_marketing.csv')"
   ]
  },
  {
   "cell_type": "markdown",
   "id": "3fa3a570-85a2-48c0-8d77-8a7aa8a174df",
   "metadata": {},
   "source": [
    "## Supuesto de igualdad de varianzas"
   ]
  },
  {
   "cell_type": "code",
   "execution_count": null,
   "id": "469f8cd4-6abc-4797-bc70-c7a55961ea1e",
   "metadata": {},
   "outputs": [],
   "source": [
    "from scipy.stats import levene\n",
    "\n",
    "statistic, pvalue = levene(df.loc[df['Promotion'] == 1, \"SalesInThousands\"],\n",
    "                           df.loc[df['Promotion'] == 2, \"SalesInThousands\"],\n",
    "                           df.loc[df['Promotion'] == 3, \"SalesInThousands\"])\n",
    "# Imprimir los resultados\n",
    "print(\"Estadístico de prueba de Levene:\", statistic)\n",
    "print(\"Valor p:\", p_value)"
   ]
  },
  {
   "cell_type": "code",
   "execution_count": null,
   "id": "14fe8d60-c342-4c3d-8e39-f0bd5a885122",
   "metadata": {},
   "outputs": [],
   "source": [
    "# Interpretar los resultados\n",
    "alpha = 0.05\n",
    "if p_value < alpha:\n",
    "    print(\"Se rechaza la hipótesis nula: hay evidencia de diferencias significativas en las varianzas.\")\n",
    "else:\n",
    "    print(\"No se puede rechazar la hipótesis nula: no se rechaza el supuesto de igualdad de varianzas.\")"
   ]
  },
  {
   "cell_type": "markdown",
   "id": "bbbd9b9a-b4cf-46be-98ff-c8a437ef20cc",
   "metadata": {},
   "source": [
    "## Supuesto de normalidad"
   ]
  },
  {
   "cell_type": "code",
   "execution_count": null,
   "id": "29df9663-bda6-4127-9dbe-3dc3efbce601",
   "metadata": {},
   "outputs": [],
   "source": [
    "for group in list(df[\"Promotion\"].unique()):\n",
    "    pvalue = shapiro(df.loc[df[\"Promotion\"] == group, \"SalesInThousands\"])[1]\n",
    "    print(group, 'p-value: ', pvalue)"
   ]
  },
  {
   "cell_type": "markdown",
   "id": "430a573e-6616-484c-b264-fee1fa4cdc67",
   "metadata": {},
   "source": [
    "## ANOVA"
   ]
  },
  {
   "cell_type": "code",
   "execution_count": null,
   "id": "5da80791-dd18-429f-b646-de9b20d3d201",
   "metadata": {},
   "outputs": [],
   "source": [
    "from scipy.stats import f_oneway\n",
    "\n",
    "# Aplicar la prueba ANOVA\n",
    "statistic, p_value = f_oneway(df.loc[df['Promotion'] == 1, \"SalesInThousands\"],\n",
    "                              df.loc[df['Promotion'] == 2, \"SalesInThousands\"],\n",
    "                              df.loc[df['Promotion'] == 3, \"SalesInThousands\"])\n",
    "\n",
    "# Imprimir los resultados\n",
    "print(\"Estadístico de prueba de ANOVA:\", statistic)\n",
    "print(\"Valor p:\", p_value)"
   ]
  },
  {
   "cell_type": "code",
   "execution_count": null,
   "id": "3b2a61a8-1eec-4675-9d4e-057c7d4bb01e",
   "metadata": {},
   "outputs": [],
   "source": [
    "# Interpretar los resultados\n",
    "alpha = 0.05\n",
    "if p_value < alpha:\n",
    "    print(\"Se rechaza la hipótesis nula: hay al menos una diferencia significativa entre los grupos.\")\n",
    "else:\n",
    "    print(\"No se puede rechazar la hipótesis nula: no hay suficiente evidencia para afirmar que hay diferencias significativas entre los grupos.\")"
   ]
  },
  {
   "cell_type": "code",
   "execution_count": null,
   "id": "41b16780-e353-4fe3-8c4b-61ef861a569d",
   "metadata": {},
   "outputs": [],
   "source": [
    "from statsmodels.stats.multicomp import MultiComparison\n",
    "\n",
    "comparison = MultiComparison(df[\"SalesInThousands\"], df[\"Promotion\"])\n",
    "tukey = comparison.tukeyhsd(0.05)\n",
    "print(tukey.summary())"
   ]
  },
  {
   "cell_type": "markdown",
   "id": "b102d7c2-7566-4f72-9f2c-3a22bae9098e",
   "metadata": {
    "tags": []
   },
   "source": [
    "## Prueba Kruskal-Wallis"
   ]
  },
  {
   "cell_type": "code",
   "execution_count": null,
   "id": "0e405910-efc5-4d11-90c4-7d8fe844b70e",
   "metadata": {
    "tags": []
   },
   "outputs": [],
   "source": [
    "from scipy.stats import kruskal\n",
    "import pandas as pd\n",
    "\n",
    "# Separar los valores para cada grupo\n",
    "grupos = [datos_grupo for _, datos_grupo in df.groupby('Promotion')['SalesInThousands']]\n",
    "\n",
    "# Aplicar la prueba de Kruskal-Wallis\n",
    "statistic, p_value = kruskal(*grupos)\n",
    "\n",
    "# Imprimir los resultados\n",
    "print(\"Estadístico de prueba de Kruskal-Wallis:\", statistic)\n",
    "print(\"Valor p:\", p_value)"
   ]
  },
  {
   "cell_type": "code",
   "execution_count": null,
   "id": "f1d57913-163a-4f2f-8ff7-f955b683e10c",
   "metadata": {},
   "outputs": [],
   "source": [
    "# Interpretar los resultados\n",
    "alpha = 0.05\n",
    "if p_value < alpha:\n",
    "    print(\"Se rechaza la hipótesis nula: hay evidencia de diferencias significativas entre los grupos.\")\n",
    "else:\n",
    "    print(\"No se puede rechazar la hipótesis nula: no hay suficiente evidencia para afirmar diferencias significativas entre los grupos.\")"
   ]
  },
  {
   "cell_type": "code",
   "execution_count": null,
   "id": "ecd28793-f8b3-441f-8eda-ebe646b7b018",
   "metadata": {},
   "outputs": [],
   "source": []
  }
 ],
 "metadata": {
  "kernelspec": {
   "display_name": "Python 3 (ipykernel)",
   "language": "python",
   "name": "python3"
  },
  "language_info": {
   "codemirror_mode": {
    "name": "ipython",
    "version": 3
   },
   "file_extension": ".py",
   "mimetype": "text/x-python",
   "name": "python",
   "nbconvert_exporter": "python",
   "pygments_lexer": "ipython3",
   "version": "3.11.7"
  }
 },
 "nbformat": 4,
 "nbformat_minor": 5
}
