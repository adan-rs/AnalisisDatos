{
 "cells": [
  {
   "cell_type": "markdown",
   "id": "efab8d53-9b97-49a6-837d-ae2c7a323367",
   "metadata": {},
   "source": [
    "## Implementación del CAPM"
   ]
  },
  {
   "cell_type": "markdown",
   "id": "94f6de50-69f6-479d-b205-d49ebd3678b3",
   "metadata": {},
   "source": [
    "En esta práctica utilizaremos un modelo de regresión para implementar una versión simplificada del CAPM (Capital Asset Pricing Model) y estimar la *beta financiera* de una acción. Este modelo implica que los rendimientos esperados de un acción está determinado por los rendimientos del mercado menos la tasa libre de riesgo."
   ]
  },
  {
   "cell_type": "code",
   "execution_count": 13,
   "id": "b2deea43-3d6f-443e-a74c-1493ae21994f",
   "metadata": {},
   "outputs": [],
   "source": [
    "import pandas as pd\n",
    "import yfinance as yf\n",
    "import numpy as np\n",
    "import statsmodels.api as sm"
   ]
  },
  {
   "cell_type": "markdown",
   "id": "bd1fff22-ff7e-4d56-926c-9479c32f9c79",
   "metadata": {},
   "source": [
    "Especificamos el periodo que nos interesa, el código de la emisora de la acción (*ticker*) y el índice del mercado"
   ]
  },
  {
   "cell_type": "code",
   "execution_count": 27,
   "id": "741c165e-4e95-496c-83d2-9eaa72f24440",
   "metadata": {},
   "outputs": [],
   "source": [
    "# Definir periodo de interés\n",
    "inicio = '2023-01-01'\n",
    "fin = '2024-01-01'\n",
    "\n",
    "# Define accion\n",
    "ticker = 'AAPL'\n",
    "\n",
    "# Define mercado\n",
    "market = '^DJI'"
   ]
  },
  {
   "cell_type": "markdown",
   "id": "f0c2646a-0776-4d4e-b741-1a426f78cbae",
   "metadata": {},
   "source": [
    "Descargamos la información de *yahoo finance*"
   ]
  },
  {
   "cell_type": "code",
   "execution_count": 31,
   "id": "1e11b0c5-6410-4c5b-9d12-e7f6f9cdcf83",
   "metadata": {},
   "outputs": [],
   "source": [
    "# Descargamos las series de la acción\n",
    "data = yf.download([ticker, market], start=inicio, end=fin, progress=False)"
   ]
  },
  {
   "cell_type": "code",
   "execution_count": 34,
   "id": "4a40f2c5-0679-41cc-a34e-ea269dfb5707",
   "metadata": {},
   "outputs": [
    {
     "data": {
      "text/html": [
       "<div>\n",
       "<style scoped>\n",
       "    .dataframe tbody tr th:only-of-type {\n",
       "        vertical-align: middle;\n",
       "    }\n",
       "\n",
       "    .dataframe tbody tr th {\n",
       "        vertical-align: top;\n",
       "    }\n",
       "\n",
       "    .dataframe thead th {\n",
       "        text-align: right;\n",
       "    }\n",
       "</style>\n",
       "<table border=\"1\" class=\"dataframe\">\n",
       "  <thead>\n",
       "    <tr style=\"text-align: right;\">\n",
       "      <th>Ticker</th>\n",
       "      <th>accion</th>\n",
       "      <th>mercado</th>\n",
       "    </tr>\n",
       "    <tr>\n",
       "      <th>Date</th>\n",
       "      <th></th>\n",
       "      <th></th>\n",
       "    </tr>\n",
       "  </thead>\n",
       "  <tbody>\n",
       "    <tr>\n",
       "      <th>2023-01-03</th>\n",
       "      <td>124.216301</td>\n",
       "      <td>33136.371094</td>\n",
       "    </tr>\n",
       "    <tr>\n",
       "      <th>2023-01-04</th>\n",
       "      <td>125.497498</td>\n",
       "      <td>33269.769531</td>\n",
       "    </tr>\n",
       "    <tr>\n",
       "      <th>2023-01-05</th>\n",
       "      <td>124.166649</td>\n",
       "      <td>32930.078125</td>\n",
       "    </tr>\n",
       "    <tr>\n",
       "      <th>2023-01-06</th>\n",
       "      <td>128.735229</td>\n",
       "      <td>33630.609375</td>\n",
       "    </tr>\n",
       "    <tr>\n",
       "      <th>2023-01-09</th>\n",
       "      <td>129.261597</td>\n",
       "      <td>33517.648438</td>\n",
       "    </tr>\n",
       "  </tbody>\n",
       "</table>\n",
       "</div>"
      ],
      "text/plain": [
       "Ticker          accion       mercado\n",
       "Date                                \n",
       "2023-01-03  124.216301  33136.371094\n",
       "2023-01-04  125.497498  33269.769531\n",
       "2023-01-05  124.166649  32930.078125\n",
       "2023-01-06  128.735229  33630.609375\n",
       "2023-01-09  129.261597  33517.648438"
      ]
     },
     "execution_count": 34,
     "metadata": {},
     "output_type": "execute_result"
    }
   ],
   "source": [
    "df = df['Adj Close'].rename(columns={ticker:'accion', market:'mercado'})\n",
    "df.head(5)"
   ]
  },
  {
   "cell_type": "markdown",
   "id": "25247a8c-3f08-44e8-b68f-0db4c738e227",
   "metadata": {},
   "source": [
    "Tomamos los datos mensuales, conservamos solo el último dato de cada mes, calculamos el rendimiento (como porcentaje de cambio) y borrados filas con datos perdidos (la primera fila tendrá datos perdidos)"
   ]
  },
  {
   "cell_type": "code",
   "execution_count": 33,
   "id": "344c61a4-218d-4320-89c0-4466fdb73a0e",
   "metadata": {},
   "outputs": [
    {
     "data": {
      "text/html": [
       "<div>\n",
       "<style scoped>\n",
       "    .dataframe tbody tr th:only-of-type {\n",
       "        vertical-align: middle;\n",
       "    }\n",
       "\n",
       "    .dataframe tbody tr th {\n",
       "        vertical-align: top;\n",
       "    }\n",
       "\n",
       "    .dataframe thead th {\n",
       "        text-align: right;\n",
       "    }\n",
       "</style>\n",
       "<table border=\"1\" class=\"dataframe\">\n",
       "  <thead>\n",
       "    <tr style=\"text-align: right;\">\n",
       "      <th>Ticker</th>\n",
       "      <th>accion</th>\n",
       "      <th>mercado</th>\n",
       "    </tr>\n",
       "    <tr>\n",
       "      <th>Date</th>\n",
       "      <th></th>\n",
       "      <th></th>\n",
       "    </tr>\n",
       "  </thead>\n",
       "  <tbody>\n",
       "    <tr>\n",
       "      <th>2023-02-28</th>\n",
       "      <td>0.023183</td>\n",
       "      <td>-0.041933</td>\n",
       "    </tr>\n",
       "    <tr>\n",
       "      <th>2023-03-31</th>\n",
       "      <td>0.118649</td>\n",
       "      <td>0.018907</td>\n",
       "    </tr>\n",
       "    <tr>\n",
       "      <th>2023-04-30</th>\n",
       "      <td>0.028987</td>\n",
       "      <td>0.024764</td>\n",
       "    </tr>\n",
       "    <tr>\n",
       "      <th>2023-05-31</th>\n",
       "      <td>0.046058</td>\n",
       "      <td>-0.034896</td>\n",
       "    </tr>\n",
       "    <tr>\n",
       "      <th>2023-06-30</th>\n",
       "      <td>0.094330</td>\n",
       "      <td>0.045561</td>\n",
       "    </tr>\n",
       "    <tr>\n",
       "      <th>2023-07-31</th>\n",
       "      <td>0.012785</td>\n",
       "      <td>0.033479</td>\n",
       "    </tr>\n",
       "    <tr>\n",
       "      <th>2023-08-31</th>\n",
       "      <td>-0.042384</td>\n",
       "      <td>-0.023555</td>\n",
       "    </tr>\n",
       "    <tr>\n",
       "      <th>2023-09-30</th>\n",
       "      <td>-0.088678</td>\n",
       "      <td>-0.034975</td>\n",
       "    </tr>\n",
       "    <tr>\n",
       "      <th>2023-10-31</th>\n",
       "      <td>-0.002570</td>\n",
       "      <td>-0.013568</td>\n",
       "    </tr>\n",
       "    <tr>\n",
       "      <th>2023-11-30</th>\n",
       "      <td>0.113780</td>\n",
       "      <td>0.087678</td>\n",
       "    </tr>\n",
       "    <tr>\n",
       "      <th>2023-12-31</th>\n",
       "      <td>0.013583</td>\n",
       "      <td>0.048362</td>\n",
       "    </tr>\n",
       "  </tbody>\n",
       "</table>\n",
       "</div>"
      ],
      "text/plain": [
       "Ticker        accion   mercado\n",
       "Date                          \n",
       "2023-02-28  0.023183 -0.041933\n",
       "2023-03-31  0.118649  0.018907\n",
       "2023-04-30  0.028987  0.024764\n",
       "2023-05-31  0.046058 -0.034896\n",
       "2023-06-30  0.094330  0.045561\n",
       "2023-07-31  0.012785  0.033479\n",
       "2023-08-31 -0.042384 -0.023555\n",
       "2023-09-30 -0.088678 -0.034975\n",
       "2023-10-31 -0.002570 -0.013568\n",
       "2023-11-30  0.113780  0.087678\n",
       "2023-12-31  0.013583  0.048362"
      ]
     },
     "execution_count": 33,
     "metadata": {},
     "output_type": "execute_result"
    }
   ],
   "source": [
    "df = df.resample('M').last().pct_change().dropna()"
   ]
  },
  {
   "cell_type": "markdown",
   "id": "edc5068d-2926-461e-8510-07d9920d9d2f",
   "metadata": {},
   "source": [
    "Calcula un modelo de regresión con el rendimiento de la acción como variable dependiente y el rendimiento del mercado como variable independiente. Identifica e interpreta la beta financiera."
   ]
  },
  {
   "cell_type": "code",
   "execution_count": null,
   "id": "dad03133-dd29-4439-ad36-9dbe28e5f87d",
   "metadata": {},
   "outputs": [],
   "source": []
  }
 ],
 "metadata": {
  "kernelspec": {
   "display_name": "Python 3 (ipykernel)",
   "language": "python",
   "name": "python3"
  },
  "language_info": {
   "codemirror_mode": {
    "name": "ipython",
    "version": 3
   },
   "file_extension": ".py",
   "mimetype": "text/x-python",
   "name": "python",
   "nbconvert_exporter": "python",
   "pygments_lexer": "ipython3",
   "version": "3.11.7"
  }
 },
 "nbformat": 4,
 "nbformat_minor": 5
}
