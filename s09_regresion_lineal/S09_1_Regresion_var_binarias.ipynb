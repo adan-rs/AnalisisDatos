{
 "cells": [
  {
   "cell_type": "markdown",
   "id": "2bc86e26-491a-4f6a-b916-ca953a5b4cc0",
   "metadata": {},
   "source": [
    "# Sesión 09: Análisis de regresión: variables dicotómicas"
   ]
  },
  {
   "cell_type": "code",
   "execution_count": null,
   "id": "99667d79-7dfd-4e36-bfe3-b2b83e8a4cd4",
   "metadata": {},
   "outputs": [],
   "source": [
    "import pandas as pd\n",
    "import numpy as np\n",
    "import matplotlib.pyplot as plt\n",
    "import seaborn as sns\n",
    "import statsmodels.api as sm"
   ]
  },
  {
   "cell_type": "markdown",
   "id": "d604ce8f-2a2d-47a7-a4e3-59f4daca8037",
   "metadata": {},
   "source": [
    "## 9.1. Variables dicotómicas"
   ]
  },
  {
   "cell_type": "markdown",
   "id": "e1ea4bc7-11ca-4a28-b8ce-d96c2ca9a627",
   "metadata": {},
   "source": [
    "El archivo *b08_ubermty* contiene información de viajes en taxi o uber en la ciudad de Monterrey de junio de 2016 a agosto de 2017. Crearemos un modelo para estimar la duración de cada viaje en función de la distancia y el día de la semana."
   ]
  },
  {
   "cell_type": "code",
   "execution_count": null,
   "id": "47e6f427-7721-4daf-bba4-7ee6f04c6194",
   "metadata": {},
   "outputs": [],
   "source": [
    "# Cargar los datos\n",
    "df = pd.read_excel('data/b08_ubermty.xlsx', usecols=['id', 'dropoff_longitude', 'dropoff_latitude', \n",
    "                                                     'Dia', 'DuracionMinutos', 'DistanciaKm'])"
   ]
  },
  {
   "cell_type": "code",
   "execution_count": null,
   "id": "fda55140-3ed2-465d-94c2-0bcdb62a8c79",
   "metadata": {},
   "outputs": [],
   "source": [
    "# Revisar las variables\n",
    "df.info()"
   ]
  },
  {
   "cell_type": "code",
   "execution_count": null,
   "id": "ff74e62a-3cd6-4c54-9866-492e61132f20",
   "metadata": {},
   "outputs": [],
   "source": [
    "# Revisar las primeras filas\n",
    "df.head()"
   ]
  },
  {
   "cell_type": "code",
   "execution_count": null,
   "id": "e5e76e8e-7320-4e7b-bb99-f9156e837a69",
   "metadata": {},
   "outputs": [],
   "source": [
    "# Obtener la estadística descriptiva\n",
    "df.describe().T"
   ]
  },
  {
   "cell_type": "code",
   "execution_count": null,
   "id": "fac55ecb-d6ee-47d1-b2c6-2392c9393b52",
   "metadata": {},
   "outputs": [],
   "source": [
    "# Filtrado de valores atípicos\n",
    "Q1 = df['DuracionMinutos'].quantile(0.25)\n",
    "Q3 = df['DuracionMinutos'].quantile(0.75)\n",
    "IQR = Q3-Q1\n",
    "lim_inf = Q1-1.5*IQR\n",
    "lim_sup = Q3+1.5*IQR\n",
    "df = df[(df['DuracionMinutos']>lim_inf)&(df['DuracionMinutos']<lim_sup)]"
   ]
  },
  {
   "cell_type": "code",
   "execution_count": null,
   "id": "99a86607-e951-4d6b-bce8-bb7f86208d5c",
   "metadata": {},
   "outputs": [],
   "source": [
    "# Generar un gráfico\n",
    "sns.scatterplot(x=\"dropoff_longitude\",\n",
    "                y=\"dropoff_latitude\",\n",
    "                data=df)"
   ]
  },
  {
   "cell_type": "code",
   "execution_count": null,
   "id": "71fffb1a-9a76-40e4-8355-fc2e08e53695",
   "metadata": {},
   "outputs": [],
   "source": [
    "sns.boxplot(x='Dia', y='DuracionMinutos', data=df);"
   ]
  },
  {
   "cell_type": "code",
   "execution_count": null,
   "id": "d0a81089-2385-4743-8d90-375b3536a33b",
   "metadata": {},
   "outputs": [],
   "source": [
    "df.head()"
   ]
  },
  {
   "cell_type": "markdown",
   "id": "e91cdba9-69fb-4927-8bc5-7b77a3ed7225",
   "metadata": {},
   "source": [
    "**Creación de variables dicotómicas**: La función `get_dummies` convierte una variable categórica (con k categorías) en k variables dicotómicas. Entre otros parámetros se puede establecer:\n",
    "- prefix: agrega un prefijo a los nombres de las columnas.\n",
    "- dtype: de manera predeterminada está en *booleano*, se puede cambiar a *int*\n",
    "- drop_first: quita la columna con la primera categoría"
   ]
  },
  {
   "cell_type": "code",
   "execution_count": null,
   "id": "d34662e7-fdd8-48f3-b24c-06e05c315bc0",
   "metadata": {},
   "outputs": [],
   "source": [
    "# Crear variables dicotómicas\n",
    "dummy_vars = pd.get_dummies(df['Dia'], prefix='Dia', dtype=int, drop_first=True)\n",
    "dummy_vars.head(3)"
   ]
  },
  {
   "cell_type": "code",
   "execution_count": null,
   "id": "9dc21c2d-d56e-4d7e-9544-4c906c37629c",
   "metadata": {},
   "outputs": [],
   "source": [
    "# Agregar las variables dummy al DataFrame original\n",
    "df = pd.concat([df, dummy_vars], axis=1)\n",
    "# Quitar variable categórica original\n",
    "df = df.drop(columns=['Dia'])"
   ]
  },
  {
   "cell_type": "code",
   "execution_count": null,
   "id": "7e1145b9-71e5-4fff-b3c3-d438d9eef055",
   "metadata": {},
   "outputs": [],
   "source": [
    "df.columns"
   ]
  },
  {
   "cell_type": "code",
   "execution_count": null,
   "id": "58528709-ca02-4011-81a7-4769be376409",
   "metadata": {},
   "outputs": [],
   "source": [
    "X = df[['DistanciaKm', 'Dia_2', 'Dia_3', 'Dia_4', 'Dia_5',\n",
    "       'Dia_6', 'Dia_7']]  \n",
    "# Añadir una columna de unos para el intercepto\n",
    "X = sm.add_constant(X)\n",
    "y = df['DuracionMinutos']"
   ]
  },
  {
   "cell_type": "code",
   "execution_count": null,
   "id": "de7a21a9-a3e2-4c64-888a-0f32bea40f0d",
   "metadata": {},
   "outputs": [],
   "source": [
    "# Ajustar el modelo de regresión\n",
    "model = sm.OLS(y, X).fit()\n",
    "\n",
    "# Imprimir los resultados\n",
    "print(model.summary())"
   ]
  },
  {
   "cell_type": "code",
   "execution_count": null,
   "id": "6ca47032-6937-4bb5-a96b-9e6e60ed1202",
   "metadata": {},
   "outputs": [],
   "source": []
  }
 ],
 "metadata": {
  "kernelspec": {
   "display_name": "Python 3 (ipykernel)",
   "language": "python",
   "name": "python3"
  },
  "language_info": {
   "codemirror_mode": {
    "name": "ipython",
    "version": 3
   },
   "file_extension": ".py",
   "mimetype": "text/x-python",
   "name": "python",
   "nbconvert_exporter": "python",
   "pygments_lexer": "ipython3",
   "version": "3.11.7"
  }
 },
 "nbformat": 4,
 "nbformat_minor": 5
}
