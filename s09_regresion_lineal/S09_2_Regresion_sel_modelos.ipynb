{
 "cells": [
  {
   "cell_type": "markdown",
   "id": "874f1b01-2188-4e09-9891-05333ddd9bf3",
   "metadata": {},
   "source": [
    "# Sesión 09: Análisis de regresión: selección de modelos"
   ]
  },
  {
   "cell_type": "code",
   "execution_count": null,
   "id": "ee47ede9-4aae-423e-9e44-deff93eabb57",
   "metadata": {},
   "outputs": [],
   "source": [
    "import pandas as pd\n",
    "import numpy as np\n",
    "import statsmodels.api as sm\n",
    "from sklearn import linear_model"
   ]
  },
  {
   "cell_type": "code",
   "execution_count": null,
   "id": "5f4cb523-2aec-4de5-9fa1-3678fc444f04",
   "metadata": {},
   "outputs": [],
   "source": [
    "df = pd.read_excel('data/b05_burritos.xlsx')\n",
    "df.columns"
   ]
  },
  {
   "cell_type": "code",
   "execution_count": null,
   "id": "4f6b4b04-d486-414d-b5c6-0eac5469ae19",
   "metadata": {},
   "outputs": [],
   "source": [
    "df.info()"
   ]
  },
  {
   "cell_type": "code",
   "execution_count": null,
   "id": "a8494eda-f9f4-4319-afa6-0219c866c377",
   "metadata": {},
   "outputs": [],
   "source": [
    "df.head(3)"
   ]
  },
  {
   "cell_type": "code",
   "execution_count": null,
   "id": "4427b0f4-3953-426e-a9bd-0a6106989c9f",
   "metadata": {},
   "outputs": [],
   "source": [
    "df.dropna(inplace=True)\n",
    "df.info()"
   ]
  },
  {
   "cell_type": "markdown",
   "id": "895b463c-8a99-430c-9947-f3a688fcd38f",
   "metadata": {},
   "source": [
    "## Con StatsModels"
   ]
  },
  {
   "cell_type": "code",
   "execution_count": null,
   "id": "5b239fec-9adc-4971-a785-a9acd7355067",
   "metadata": {},
   "outputs": [],
   "source": [
    "var_ind = ['Cost', 'Hunger', 'Tortilla', 'Temp', 'Meat',\n",
    "           'Fillings', 'Meat:filling', 'Uniformity', 'Salsa', \n",
    "           'Synergy', 'Wrap']\n",
    "X = df[var_ind]\n",
    "X = sm.add_constant(X)\n",
    "y = df['overall']"
   ]
  },
  {
   "cell_type": "code",
   "execution_count": null,
   "id": "83418a1e-5d64-439f-b2ba-0abd13729098",
   "metadata": {},
   "outputs": [],
   "source": [
    "results = sm.OLS(y, X).fit()\n",
    "results.summary()"
   ]
  },
  {
   "cell_type": "code",
   "execution_count": null,
   "id": "1fd99850-bf5f-4d75-b1fe-3e3508134984",
   "metadata": {},
   "outputs": [],
   "source": [
    "var_ind.remove('Hunger')\n",
    "X = df[var_ind]\n",
    "X = sm.add_constant(X)\n",
    "results = sm.OLS(y, X).fit()\n",
    "results.summary()"
   ]
  },
  {
   "cell_type": "markdown",
   "id": "87cdc885-025f-430f-ba77-15f1944d727f",
   "metadata": {},
   "source": [
    "Para utilizar las funciones de la regresión por pasos se requiere hacer la siguiente instalación:\n",
    "`!pip install stepwise-regression`"
   ]
  },
  {
   "cell_type": "code",
   "execution_count": null,
   "id": "8c11263d-ba29-4445-a3e6-3a83a0f5e6e0",
   "metadata": {},
   "outputs": [],
   "source": [
    "from stepwise_regression import step_reg"
   ]
  },
  {
   "cell_type": "code",
   "execution_count": null,
   "id": "9c2e73e0-42a9-43ee-816b-3f9e94db866e",
   "metadata": {},
   "outputs": [],
   "source": [
    "# Modelo completo con todos los predictores\n",
    "var_ind = ['Cost', 'Hunger', 'Tortilla', 'Temp', 'Meat',\n",
    "           'Fillings', 'Meat:filling', 'Uniformity', 'Salsa', \n",
    "           'Synergy', 'Wrap']\n",
    "X = df[var_ind]\n",
    "X = sm.add_constant(X)\n",
    "y = df['overall']"
   ]
  },
  {
   "cell_type": "markdown",
   "id": "31e618ac-2665-4f2e-96cc-af9b759f144b",
   "metadata": {},
   "source": [
    "El paquete *Stepwise-regression* tiene dos funciones: *backward-regression* y *forward_regression*. Hay cuatro parámetros:\n",
    "- X: variables independientes\n",
    "- y: variable dependiente\n",
    "- threshold_in: el nivel de significancia para el p-valor\n",
    "- verbose=False "
   ]
  },
  {
   "cell_type": "code",
   "execution_count": null,
   "id": "37039a6f-79bf-41cf-bb58-3d8dcd466aa1",
   "metadata": {},
   "outputs": [],
   "source": [
    "backselect = step_reg.backward_regression(X, y, 0.05,verbose=False)\n",
    "backselect"
   ]
  },
  {
   "cell_type": "code",
   "execution_count": null,
   "id": "2911b881-20f3-4bd1-bc83-f7d5c24c5a10",
   "metadata": {},
   "outputs": [],
   "source": [
    "backselect.remove('const')\n",
    "X_backselect = df[backselect]\n",
    "# add a constant \n",
    "X_backselect = sm.add_constant(X_backselect)\n",
    "# define the model and fit it\n",
    "backres = sm.OLS(y, X_backselect).fit()\n",
    "backres.summary()"
   ]
  },
  {
   "cell_type": "code",
   "execution_count": null,
   "id": "8211e332-6e2e-4e4c-a1d4-7cd8000f0d76",
   "metadata": {},
   "outputs": [],
   "source": []
  }
 ],
 "metadata": {
  "kernelspec": {
   "display_name": "Python 3 (ipykernel)",
   "language": "python",
   "name": "python3"
  },
  "language_info": {
   "codemirror_mode": {
    "name": "ipython",
    "version": 3
   },
   "file_extension": ".py",
   "mimetype": "text/x-python",
   "name": "python",
   "nbconvert_exporter": "python",
   "pygments_lexer": "ipython3",
   "version": "3.11.7"
  }
 },
 "nbformat": 4,
 "nbformat_minor": 5
}
