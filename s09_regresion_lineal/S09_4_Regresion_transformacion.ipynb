{
 "cells": [
  {
   "cell_type": "markdown",
   "id": "483bcd1c-e158-455f-8b84-2166763e3c73",
   "metadata": {},
   "source": [
    "## Sesión 09: Análisis de regresión: transformación de variables"
   ]
  },
  {
   "cell_type": "code",
   "execution_count": null,
   "id": "ebf640ba-a6d0-43f7-8847-186c2d4fee1a",
   "metadata": {},
   "outputs": [],
   "source": [
    "import pandas as pd\n",
    "import numpy as np\n",
    "import matplotlib.pyplot as plt\n",
    "import seaborn as sns\n",
    "import statsmodels.api as sm"
   ]
  },
  {
   "cell_type": "code",
   "execution_count": null,
   "id": "374d4116-9033-49f8-9fec-15a540d3a8e3",
   "metadata": {},
   "outputs": [],
   "source": [
    "df = pd.read_excel('data/b03_enigh2020.xlsx', usecols=['ing_cor', 'gasto_mon'])"
   ]
  },
  {
   "cell_type": "code",
   "execution_count": null,
   "id": "063c0bfe-fd68-4e45-9cc1-fae552961b55",
   "metadata": {},
   "outputs": [],
   "source": [
    "df.describe().T"
   ]
  },
  {
   "cell_type": "code",
   "execution_count": null,
   "id": "d427061b-b065-4329-940c-7d04095b8e6a",
   "metadata": {},
   "outputs": [],
   "source": [
    "X = df['ing_cor']\n",
    "X = sm.add_constant(X)\n",
    "y = df['gasto_mon']\n",
    "# Ajustar el modelo de regresión\n",
    "model = sm.OLS(y, X).fit()\n",
    "# Imprimir los resultados\n",
    "print(model.summary())"
   ]
  },
  {
   "cell_type": "code",
   "execution_count": null,
   "id": "d86f9cf8-6219-44bf-8356-75c01644b7dd",
   "metadata": {},
   "outputs": [],
   "source": [
    "df = df[(df['ing_cor']>1)&(df['gasto_mon']>1)]\n"
   ]
  },
  {
   "cell_type": "code",
   "execution_count": null,
   "id": "bbf39e62-9d25-4538-9569-1eb719e6fc32",
   "metadata": {},
   "outputs": [],
   "source": [
    "df['ingreso_log'] = np.log(df['ing_cor'])\n",
    "df['gasto_log'] = np.log(df['gasto_mon'])"
   ]
  },
  {
   "cell_type": "code",
   "execution_count": null,
   "id": "5bf32537-3c86-44a6-971f-0cb340dd899b",
   "metadata": {},
   "outputs": [],
   "source": [
    "sns.scatterplot(data=df, x='ingreso_log', y='gasto_log')"
   ]
  },
  {
   "cell_type": "code",
   "execution_count": null,
   "id": "13b0abeb-bf29-4682-9872-b0e754496f09",
   "metadata": {},
   "outputs": [],
   "source": [
    "X = df['ingreso_log']\n",
    "X = sm.add_constant(X)\n",
    "y = df['gasto_log']\n",
    "# Ajustar el modelo de regresión\n",
    "model = sm.OLS(y, X).fit()\n",
    "# Imprimir los resultados\n",
    "print(model.summary())"
   ]
  },
  {
   "cell_type": "markdown",
   "id": "2e06b8c1-9c22-4331-9e28-af00b80a3937",
   "metadata": {},
   "source": [
    "*Una diferencia entre logaritmos naturales representa un cambio relativo*. El logaritmo natural de \"x\" representa a qué exponente se debe elevar la base *e* para obtener ese número. Cuando calculas la diferencia entre dos logaritmos naturales se está comparando los exponentes a los cuales se eleva la base e para obtener x1 y x2. Por ejemplo, si y = ln(x2)-ln(x1) entonces x1 es igual a \"e elevado a la y\" multiplicado por x2, es decir, y representa cuántas vecse más grande o más pequeño es x1 en comparación con x2. \n",
    "\n",
    "Cuando, tanto la variable independiente como la variable dependiente son transformadas con logaritmos, los coeficientes de la regresión se interpretan como una *elasticidad*, esto es, como el cambio porcentual en y con un cambio porcentual en x."
   ]
  },
  {
   "cell_type": "code",
   "execution_count": null,
   "id": "1e78cf2d-dbcd-46c6-8769-470621d94cdf",
   "metadata": {},
   "outputs": [],
   "source": []
  }
 ],
 "metadata": {
  "kernelspec": {
   "display_name": "Python 3 (ipykernel)",
   "language": "python",
   "name": "python3"
  },
  "language_info": {
   "codemirror_mode": {
    "name": "ipython",
    "version": 3
   },
   "file_extension": ".py",
   "mimetype": "text/x-python",
   "name": "python",
   "nbconvert_exporter": "python",
   "pygments_lexer": "ipython3",
   "version": "3.11.7"
  }
 },
 "nbformat": 4,
 "nbformat_minor": 5
}
