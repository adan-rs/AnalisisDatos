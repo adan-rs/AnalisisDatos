{
 "cells": [
  {
   "cell_type": "markdown",
   "id": "2205c9c5-be59-4cbf-ab38-ed37219e0848",
   "metadata": {},
   "source": [
    "# Práctica"
   ]
  },
  {
   "cell_type": "markdown",
   "id": "8825a83c-ff75-4a01-9bae-d11c4040a841",
   "metadata": {},
   "source": [
    "El archivo *b10_acsi2015* contiene una muestra de la encuesta recopilada para el índice de satisfacción del cliente estadounidense (ACSI: American Customer Satisfaction Index). La encuesta original recopila los datos de más de 400,000 consumidores de más de 400 empresas dentro de aproximadamente 50 industrias en Estados Unidos. La muestra en el archivo incluye cuatro industrias (alimentos procesados, aerolíneas comerciales, proveedores de servicios de internet y bancos comerciales). El tamaño de la muestra es de 8239 consumidores. Las industrias en esta muestra son:\n",
    "\n",
    "+ 1001=\"Processed Food (Nondurables)\n",
    "+ 3003=\"Commercial Airlines (Transportation)\"\n",
    "+ 3013=\"Internet Service Providers (Telecommunications)\"\n",
    "+ 5001=\"Commercial Banks (Finance)\"\n",
    "\n",
    "La descripción de las variables es la siguiente:"
   ]
  },
  {
   "attachments": {},
   "cell_type": "markdown",
   "id": "2a97c885-6ce3-4e2e-bff3-7139afa65437",
   "metadata": {
    "jp-MarkdownHeadingCollapsed": true
   },
   "source": [
    "\n",
    "|VARIABLE\t|LABEL\t|VALUE|\n",
    "|-------------|--------|----------|\n",
    "|INDUSTRY\t|Industry Code\t| Industry Code|\n",
    "|YEAR\t|Year in which data collected\t|Year|\n",
    "|SATIS\t|Overall Customer Satisfaction\t|1=\"Very dissatisfied\"; 10=\"Very satisfied\"|\n",
    "|CONFIRM\t|Confirmation to Expectations\t|1=\"Falls short of expectations\"; 10=\"Exceeds expectations\"|\n",
    "|IDEAL\t|Close to ideal product/service\t|1=\"Not very close to ideal\"; 10=\"Very close to ideal\"|\n",
    "|OVERALLX\t|Expectation about overall quality\t|1=\"Not very high\"; 10=\"Very high\"|\n",
    "|CUSTOMX\t|Expectations about customization\t|1=\"Not very high\"; 10=\"Very high\"|\n",
    "|WRONGX\t|Expectation about reliability\t|1=\"Not very high\"; 10=\"Very high\"|\n",
    "|OVERALLQ\t|Overall Quality\t|1=\"Not very good\"; 10=\"Very good\"|\n",
    "|CUSTOMQ\t|Meeting personal requirement (Customization)\t|1=\"Not very good\"; 10=\"Very good\"|\n",
    "|WRONGQ\t|Things went wrong (Reliability)\t|1=\"Not very good\"; 10=\"Very good\"|\n",
    "|PQ\t|Price given Quality\t|1=\"Not very good price given quality\"; 10=\"Very good price given quality\"|\n",
    "|QP\t|Quality given Price\t|1=\"Not very good quality given price\"; 10=\"Very good quality given price\"|\n",
    "|COMP\t|Customer complaints\t|1=\"Yes\"; 0=\"No\"|\n",
    "|REPUR\t|Repurchase Intention\t|1=\"Not very likely\"; 10=\"Very likely\"|\n",
    "|AGE\t|Age\t|Age|\n",
    "|EDUCAT\t|Education\t|1=Less than high school; 2=High school; 3=Some college or associate degree; 4=College graduate; 5=Post-graduate|\n",
    "|HISPANIC\t|Hispanic\t|1=\"Yes\"; 0=\"No\"|\n",
    "|RACE_1\t|Race_1\t|1=\"White\"; 2=\"Black/African-American\"; 3=\"American Indian/Alaskan Native\"; 4=\"Asian\"; 5=\"Native Hawaiian or Pacific Islander\"; 6=\"Other Race\"|\n",
    "|INCOME\t|Income\t|1=\"Under 20K\"; 2=\"20K to 30K\"; 3=\"30K to 40K\"; 4=\"40K to 60K\"; 5=\"60K to 80K\"; 6=\"80K to 100K\"; 7=\"100K or More\"|\n",
    "|GENDER\t|Gender\t|1=\"Male\"; 2=\"Female\"|\n",
    "|ZIPCODE\t|Zip code\t|Respondent zip code|\n"
   ]
  },
  {
   "cell_type": "markdown",
   "id": "5c78ae50-48a3-4df9-b31a-fcc10ece95cb",
   "metadata": {},
   "source": [
    "Realiza un análisis de regresión para explicar la satisfacción de los clientes ('SATIS') en función de las variables \"INDUSTRY', 'OVERALLX', 'QP' y 'COMP'. Selecciona una variable independiente adicional al modelo que pueda estar relacionada con la satisfacción. Se evaluará que se cumpla con al menos los siguientes lineamientos:\n",
    "\n",
    "1. *Preparación de los datos*: Elimina las filas con valores perdidos.\n",
    "2. *Tamaño muestral*: Verifica que el tamaño de la muestra sea la mínima apropiada. \n",
    "3. *Estadística descriptiva*: Obtén la estadística descriptiva de las variables cuantitativas\n",
    "4. *Transfomación de variables categóticas*:Transforma las variables categóricas en variables dicotómicas (dummy)\n",
    "5. *Selección de modelo*: Realiza una regresión por pasos con eliminación hacia atrás.\n",
    "6. *Evaluación del ajuste del modelo*: Identificación e interpretación de la R cuadrada\n",
    "7. *Evaluación de la significancia del modelo*: Interpretación del p-valor del estadístico F.\n",
    "8. *Evaluación de la significancia de los coeficientes de regresión*: Interpretación de los p-valores del estadístico t correspondiente a cada variable.\n",
    "9. *Interpretación de resultados*: Interpretación de los coeficientes de regresión de cada variable.\n",
    "10. *Evaluación de supuestos*: Evaluación del supuesto de normalidad en los errores."
   ]
  },
  {
   "cell_type": "code",
   "execution_count": null,
   "id": "007d761f-36d1-4f2f-aaaf-5274b8b3f57d",
   "metadata": {},
   "outputs": [],
   "source": []
  }
 ],
 "metadata": {
  "kernelspec": {
   "display_name": "Python 3 (ipykernel)",
   "language": "python",
   "name": "python3"
  },
  "language_info": {
   "codemirror_mode": {
    "name": "ipython",
    "version": 3
   },
   "file_extension": ".py",
   "mimetype": "text/x-python",
   "name": "python",
   "nbconvert_exporter": "python",
   "pygments_lexer": "ipython3",
   "version": "3.11.7"
  }
 },
 "nbformat": 4,
 "nbformat_minor": 5
}
