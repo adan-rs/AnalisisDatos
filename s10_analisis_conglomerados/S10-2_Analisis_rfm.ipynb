{
 "cells": [
  {
   "cell_type": "markdown",
   "id": "03e6f7a9-d355-4c83-89cf-d0991a6bb7d5",
   "metadata": {},
   "source": [
    "# Análisis RFM"
   ]
  },
  {
   "cell_type": "markdown",
   "id": "5c511695-4f46-483b-8673-a6b45bff71aa",
   "metadata": {},
   "source": [
    "El análisis RFM es un modelo que permite analizar el comportamiento de los clientes, creando segmentos internamente homogéneos y mutuamente heterogéneos a partir de su comportamiento observado en los tickets de transacciones.\n",
    "\n",
    "El análisis RFM implica el uso de tres variables: \n",
    "1. Recencia (actualidad): Tiempo que ha transcurrido desde la última compra. Generalmente se considera que esta es la variable más importante para la segmentación.\n",
    "2. Frecuencia: Número de compras en un periodo específico de tiempo\n",
    "3. Monetario: Cantidad de dinero gastada en un periodo específico de tiempo. Una alternativa también es considerar el monto promedio por compra para evitar colinealidad con la frecuencia.\n",
    "\n",
    "\n",
    "Cada variable generalmente es evaluada en cinco niveles con base en quintiles (20% de los datos). En esta escala más es mejor, por ejemplo, entre menor es el tiempo desde la última compra, el valor en la escala es más alto.\n",
    "\n",
    "\n",
    "Las tres variables son combinadas para crear una clasificación de tres dígitos. Por ejemplo, un cliente cuya última compra está en el 20% más reciente, que está en el 20% que más veces compra, y que está en el 20% que más ha comprado, tendría una clasificación 5-5-5.\n",
    "\n",
    "Existen otras variantes del modelo RFM utilizando valores promedio, valores z, ponderando las variables, clasificando en dos etapas y otras alternativas más. Sin embargo, de momento no se abordarán estas variantes.\n",
    "\n",
    "Para aplicar el análisis RFM las empresas deben tener un identificador del cliente y almacenar información de fecha y monto de cada transacción. Como ventajas del modelo RFM están su costo-beneficio, facilidad en su procedimiento y comprensión, estimación de la rentabilidad de los clientes y segmentos, y así su utilidad para el establecimiento de estrategias. Como desventajas, es un modelo principalmente descriptivo, tiene falta de precisión y presenta variabilidad entre empresas."
   ]
  },
  {
   "cell_type": "code",
   "execution_count": null,
   "id": "5809cabb-87ff-495c-b645-7236b3e6bf50",
   "metadata": {},
   "outputs": [],
   "source": [
    "import numpy as np\n",
    "import pandas as pd\n",
    "import matplotlib.pyplot as plt"
   ]
  },
  {
   "cell_type": "code",
   "execution_count": null,
   "id": "3edfc79a-8f1d-4df8-9b52-75ea8fde3134",
   "metadata": {},
   "outputs": [],
   "source": [
    "df = pd.read_excel('data/b16_rfm.xlsx')"
   ]
  },
  {
   "cell_type": "code",
   "execution_count": null,
   "id": "455101cb-e574-4020-97a1-c9d09f249ae8",
   "metadata": {},
   "outputs": [],
   "source": [
    "df.info()"
   ]
  },
  {
   "cell_type": "code",
   "execution_count": null,
   "id": "6d466701-65aa-4fb2-a4fd-a4d81c3d3b15",
   "metadata": {},
   "outputs": [],
   "source": [
    "# Calcular recencia (recency)\n",
    "ultima_fecha = max(df['Fecha'])\n",
    "recencia_df = df.groupby('Cliente')['Fecha'].max().reset_index()\n",
    "recencia_df['recencia'] = (ultima_fecha - recencia_df['Fecha']).dt.days\n",
    "recencia_df.tail(3)"
   ]
  },
  {
   "cell_type": "code",
   "execution_count": null,
   "id": "e7236a5a-0e84-4e81-9b10-2d90c22c57f5",
   "metadata": {},
   "outputs": [],
   "source": [
    "# Calcular frecuencia (frequency)\n",
    "frecuencia_df = df.groupby('Cliente').size().reset_index(name='frecuencia')\n",
    "frecuencia_df.tail(3)"
   ]
  },
  {
   "cell_type": "code",
   "execution_count": null,
   "id": "904defcb-d679-4978-b06d-6adb9c395f40",
   "metadata": {},
   "outputs": [],
   "source": [
    "# Calcular monto (monetary)\n",
    "monto_df= df.groupby('Cliente')['Importe'].sum().reset_index(name='monto')\n",
    "monto_df.tail(3)"
   ]
  },
  {
   "cell_type": "code",
   "execution_count": null,
   "id": "7f4e8909-80e6-440e-9982-994515e9d0f3",
   "metadata": {},
   "outputs": [],
   "source": [
    "# Obtener quintiles\n",
    "recencia_df['R'] = pd.qcut(recencia_df['recencia'], 5, labels=[\"5\", \"4\", \"3\", \"2\", \"1\"])\n",
    "frecuencia_df['F'] = pd.qcut(frecuencia_df['frecuencia'], 5, labels=[\"1\", \"2\", \"3\", \"4\", \"5\"])\n",
    "monto_df['M'] = pd.qcut(monto_df['monto'], 5, labels=[\"1\", \"2\", \"3\", \"4\", \"5\"])"
   ]
  },
  {
   "cell_type": "code",
   "execution_count": null,
   "id": "06f382b5-86db-45ac-9cbe-21942f57ed84",
   "metadata": {},
   "outputs": [],
   "source": [
    "# Calcular puntaje RFM\n",
    "rfm = pd.merge(recencia_df[['Cliente', 'R']], frecuencia_df[['Cliente', 'F']], on='Cliente')\n",
    "rfm = pd.merge(rfm, monto_df[['Cliente', 'M']], on='Cliente')"
   ]
  },
  {
   "cell_type": "code",
   "execution_count": null,
   "id": "c6de788d-a6c1-44ad-8aeb-e5838ac7aef5",
   "metadata": {},
   "outputs": [],
   "source": [
    "rfm[\"RF_SCORE\"] = rfm['R'].astype(str) + rfm['F'].astype(str)\n",
    "rfm.tail()"
   ]
  },
  {
   "cell_type": "code",
   "execution_count": null,
   "id": "47b6ef08-3a93-4619-8eb6-d24125a4f842",
   "metadata": {},
   "outputs": [],
   "source": [
    "rfm.info()"
   ]
  },
  {
   "cell_type": "code",
   "execution_count": null,
   "id": "ad86c4f7-d811-4471-8bb4-03f1e81ea77d",
   "metadata": {},
   "outputs": [],
   "source": [
    "seg_map = {\n",
    "    r'[1-2][1-2]': 'Hibernando',\n",
    "    r'[1-2][3-4]': 'En riesgo',\n",
    "    r'[1-2]5': 'No se debe perder',\n",
    "    r'3[1-2]': 'Cerca de suspender',\n",
    "    r'33': 'Necesita atención',\n",
    "    r'[3-4][4-5]': 'Clientes leales',\n",
    "    r'41': 'Prometedores',\n",
    "    r'51': 'Nuevos clientes',\n",
    "    r'[4-5][2-3]': 'Potencialmente leales',\n",
    "    r'5[4-5]': 'Campeones'}\n",
    "rfm[\"segment\"] = rfm[\"RF_SCORE\"].replace(seg_map, regex=True)\n",
    "rfm.tail()"
   ]
  },
  {
   "cell_type": "code",
   "execution_count": null,
   "id": "4cd97d80-2cc4-47fc-bbc9-fc03d3cc9141",
   "metadata": {},
   "outputs": [],
   "source": []
  },
  {
   "cell_type": "code",
   "execution_count": null,
   "id": "4199a78e-f907-4ba4-b0ba-249cbb9fccc4",
   "metadata": {},
   "outputs": [],
   "source": []
  }
 ],
 "metadata": {
  "kernelspec": {
   "display_name": "Python 3 (ipykernel)",
   "language": "python",
   "name": "python3"
  },
  "language_info": {
   "codemirror_mode": {
    "name": "ipython",
    "version": 3
   },
   "file_extension": ".py",
   "mimetype": "text/x-python",
   "name": "python",
   "nbconvert_exporter": "python",
   "pygments_lexer": "ipython3",
   "version": "3.11.7"
  }
 },
 "nbformat": 4,
 "nbformat_minor": 5
}
