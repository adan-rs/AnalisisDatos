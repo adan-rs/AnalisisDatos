{
 "cells": [
  {
   "cell_type": "markdown",
   "id": "44ee7c19-dd9a-4ced-bcf4-d504cbdc609e",
   "metadata": {},
   "source": [
    "## Práctica\n",
    "El archivo `data/b14_enigh2020_gasto.xlsx` contiene registros de los gastos en una muestra de hogares en la zona metropolitana de Monterrey en 2020. Aplica un análisis factorial exploratorio cubriendo los siguientes puntos:\n",
    "1. Importas las librerías necesarias\n",
    "2. Carga el archivo con los datos\n",
    "3. Prepara los datos eliminando filas con valores faltantes y estandarizando las variables\n",
    "4. Evalúa la aplicabilidad del análisis factorial exploratorio, aplicando la prueba de esfericidad de Bartlett y obteniendo el indicador KMO. Interpreta los resultados.\n",
    "5. Determina el número óptimo de factores mediante el criterio Kaiser y el análisis del scree plot.\n",
    "6. Realiza un análisis factorial con rotación varimax mediante el método 'principal'.\n",
    "7. Identifica si alguna de las comunalidades es menor 0.30\n",
    "8. Obtén la matriz de cargas factoriales.\n",
    "9. Identifica con qué se relaciona cada factor, es decir, \"nombra\" cada factor."
   ]
  },
  {
   "cell_type": "code",
   "execution_count": null,
   "id": "ac990a6a-c028-4812-954c-42d6e28c8dbb",
   "metadata": {},
   "outputs": [],
   "source": []
  }
 ],
 "metadata": {
  "kernelspec": {
   "display_name": "Python 3 (ipykernel)",
   "language": "python",
   "name": "python3"
  },
  "language_info": {
   "codemirror_mode": {
    "name": "ipython",
    "version": 3
   },
   "file_extension": ".py",
   "mimetype": "text/x-python",
   "name": "python",
   "nbconvert_exporter": "python",
   "pygments_lexer": "ipython3",
   "version": "3.11.7"
  }
 },
 "nbformat": 4,
 "nbformat_minor": 5
}
