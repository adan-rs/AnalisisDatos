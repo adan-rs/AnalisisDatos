{
 "cells": [
  {
   "cell_type": "code",
   "execution_count": null,
   "id": "41d9b701-de65-43bd-b2bf-83fe13c06eb4",
   "metadata": {},
   "outputs": [],
   "source": [
    "from google.colab import drive\n",
    "drive.mount('/content/drive')\n",
    "\n",
    "# Clona el repositorio (solo la primera vez)\n",
    "!git clone https://github.com/adan-rs/AnalisisDatos.git\n",
    "\n",
    "# Cambia al directorio del curso\n",
    "%cd /content/AnalisisDatos/notebooks"
   ]
  }
 ],
 "metadata": {
  "kernelspec": {
   "display_name": "Python [conda env:base] *",
   "language": "python",
   "name": "conda-base-py"
  },
  "language_info": {
   "codemirror_mode": {
    "name": "ipython",
    "version": 3
   },
   "file_extension": ".py",
   "mimetype": "text/x-python",
   "name": "python",
   "nbconvert_exporter": "python",
   "pygments_lexer": "ipython3",
   "version": "3.12.7"
  }
 },
 "nbformat": 4,
 "nbformat_minor": 5
}
