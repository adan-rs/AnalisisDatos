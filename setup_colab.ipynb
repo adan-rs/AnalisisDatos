{
 "cells": [
  {
   "cell_type": "markdown",
   "id": "93626a87-9f6e-4665-8e09-b3cde586f308",
   "metadata": {},
   "source": [
    "[![Abrir en Colab](https://colab.research.google.com/assets/colab-badge.svg)](https://colab.research.google.com/github/adanrs/curso-analisis-datos/blob/main/setup_colab.ipynb)\n",
    "\n",
    "# Bienvenido al curso de Análisis de Datos en Python\n",
    "\n",
    "Este notebook te ayudará a preparar tu entorno de trabajo en Google Colab.\n",
    "\n",
    "## ¿Qué vamos a hacer?\n",
    "\n",
    "1. Montar tu Google Drive para poder guardar una copia de los archivos del curso.\n",
    "2. Clonar el repositorio oficial del curso desde GitHub.\n",
    "3. (Opcional) Copiar todo el repositorio a tu Google Drive para conservarlo.\n",
    "\n",
    "> Recomendación: Ejecuta una celda a la vez, esperando a que termine antes de pasar a la siguiente."
   ]
  },
  {
   "cell_type": "code",
   "execution_count": null,
   "id": "05a6ed10-3de6-4e39-82d0-f1a4bb15d4e4",
   "metadata": {},
   "outputs": [],
   "source": [
    "# Paso 1: Montar Google Drive \n",
    "from google.colab import drive\n",
    "drive.mount('/content/drive')"
   ]
  },
  {
   "cell_type": "code",
   "execution_count": null,
   "id": "771c7fba-b453-47cf-99f3-7d116a695fdf",
   "metadata": {},
   "outputs": [],
   "source": [
    "# Paso 2: Clonar repositorio\n",
    "!git clone https://github.com/adan-rs/AnalisisDatos.git"
   ]
  },
  {
   "cell_type": "code",
   "execution_count": null,
   "id": "e3cac23e-af8f-475e-95d7-68f85a2c2a81",
   "metadata": {},
   "outputs": [],
   "source": [
    "# Paso 3: Copiarlo al Drive (opcional)\n",
    "!cp -r AnalisisDatos /content/drive/MyDrive/analisis-datos"
   ]
  },
  {
   "cell_type": "code",
   "execution_count": null,
   "id": "3827c720-2ce9-4b02-ac5c-7c4c71ce29a1",
   "metadata": {},
   "outputs": [],
   "source": [
    "# Cambiar a la carpeta del repositorio\n",
    "%cd analisis-datos"
   ]
  }
 ],
 "metadata": {
  "kernelspec": {
   "display_name": "Python [conda env:base] *",
   "language": "python",
   "name": "conda-base-py"
  },
  "language_info": {
   "codemirror_mode": {
    "name": "ipython",
    "version": 3
   },
   "file_extension": ".py",
   "mimetype": "text/x-python",
   "name": "python",
   "nbconvert_exporter": "python",
   "pygments_lexer": "ipython3",
   "version": "3.12.7"
  }
 },
 "nbformat": 4,
 "nbformat_minor": 5
}
